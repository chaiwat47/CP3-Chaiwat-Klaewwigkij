{
 "cells": [
  {
   "cell_type": "code",
   "execution_count": 2,
   "metadata": {},
   "outputs": [
    {
     "data": {
      "text/html": [
       "<div>\n",
       "<style scoped>\n",
       "    .dataframe tbody tr th:only-of-type {\n",
       "        vertical-align: middle;\n",
       "    }\n",
       "\n",
       "    .dataframe tbody tr th {\n",
       "        vertical-align: top;\n",
       "    }\n",
       "\n",
       "    .dataframe thead th {\n",
       "        text-align: right;\n",
       "    }\n",
       "</style>\n",
       "<table border=\"1\" class=\"dataframe\">\n",
       "  <thead>\n",
       "    <tr style=\"text-align: right;\">\n",
       "      <th></th>\n",
       "      <th>Unnamed: 0</th>\n",
       "      <th>sex</th>\n",
       "      <th>pclass</th>\n",
       "      <th>who</th>\n",
       "      <th>alone</th>\n",
       "      <th>fare</th>\n",
       "      <th>sex_</th>\n",
       "      <th>pclass_</th>\n",
       "      <th>who_</th>\n",
       "      <th>alone_</th>\n",
       "      <th>fare_</th>\n",
       "      <th>survived_</th>\n",
       "    </tr>\n",
       "  </thead>\n",
       "  <tbody>\n",
       "    <tr>\n",
       "      <th>0</th>\n",
       "      <td>0</td>\n",
       "      <td>male</td>\n",
       "      <td>3</td>\n",
       "      <td>adult</td>\n",
       "      <td>False</td>\n",
       "      <td>7.2500</td>\n",
       "      <td>1</td>\n",
       "      <td>2</td>\n",
       "      <td>0</td>\n",
       "      <td>0</td>\n",
       "      <td>18</td>\n",
       "      <td>0</td>\n",
       "    </tr>\n",
       "    <tr>\n",
       "      <th>1</th>\n",
       "      <td>1</td>\n",
       "      <td>female</td>\n",
       "      <td>1</td>\n",
       "      <td>adult</td>\n",
       "      <td>False</td>\n",
       "      <td>71.2833</td>\n",
       "      <td>0</td>\n",
       "      <td>0</td>\n",
       "      <td>0</td>\n",
       "      <td>0</td>\n",
       "      <td>207</td>\n",
       "      <td>1</td>\n",
       "    </tr>\n",
       "    <tr>\n",
       "      <th>2</th>\n",
       "      <td>2</td>\n",
       "      <td>female</td>\n",
       "      <td>3</td>\n",
       "      <td>adult</td>\n",
       "      <td>True</td>\n",
       "      <td>7.9250</td>\n",
       "      <td>0</td>\n",
       "      <td>2</td>\n",
       "      <td>0</td>\n",
       "      <td>1</td>\n",
       "      <td>41</td>\n",
       "      <td>1</td>\n",
       "    </tr>\n",
       "    <tr>\n",
       "      <th>3</th>\n",
       "      <td>3</td>\n",
       "      <td>female</td>\n",
       "      <td>1</td>\n",
       "      <td>adult</td>\n",
       "      <td>False</td>\n",
       "      <td>53.1000</td>\n",
       "      <td>0</td>\n",
       "      <td>0</td>\n",
       "      <td>0</td>\n",
       "      <td>0</td>\n",
       "      <td>189</td>\n",
       "      <td>1</td>\n",
       "    </tr>\n",
       "    <tr>\n",
       "      <th>4</th>\n",
       "      <td>4</td>\n",
       "      <td>male</td>\n",
       "      <td>3</td>\n",
       "      <td>adult</td>\n",
       "      <td>True</td>\n",
       "      <td>8.0500</td>\n",
       "      <td>1</td>\n",
       "      <td>2</td>\n",
       "      <td>0</td>\n",
       "      <td>1</td>\n",
       "      <td>43</td>\n",
       "      <td>0</td>\n",
       "    </tr>\n",
       "  </tbody>\n",
       "</table>\n",
       "</div>"
      ],
      "text/plain": [
       "   Unnamed: 0     sex  pclass    who  alone     fare  sex_  pclass_  who_  \\\n",
       "0           0    male       3  adult  False   7.2500     1        2     0   \n",
       "1           1  female       1  adult  False  71.2833     0        0     0   \n",
       "2           2  female       3  adult   True   7.9250     0        2     0   \n",
       "3           3  female       1  adult  False  53.1000     0        0     0   \n",
       "4           4    male       3  adult   True   8.0500     1        2     0   \n",
       "\n",
       "   alone_  fare_  survived_  \n",
       "0       0     18          0  \n",
       "1       0    207          1  \n",
       "2       1     41          1  \n",
       "3       0    189          1  \n",
       "4       1     43          0  "
      ]
     },
     "execution_count": 2,
     "metadata": {},
     "output_type": "execute_result"
    }
   ],
   "source": [
    "import pandas as pd\n",
    "uri = 'Titanic_sc_data.csv'\n",
    "df = pd.read_csv(uri)\n",
    "df.head()"
   ]
  },
  {
   "cell_type": "code",
   "execution_count": 3,
   "metadata": {},
   "outputs": [],
   "source": [
    "col_select = ['sex_', 'pclass_', 'who_', 'alone_', 'fare_'] # เลือกคอลัมน์ทำ normalization\n",
    "X_before = df[col_select]"
   ]
  },
  {
   "cell_type": "code",
   "execution_count": 4,
   "metadata": {},
   "outputs": [],
   "source": [
    "y_before = df['survived_']"
   ]
  },
  {
   "cell_type": "code",
   "execution_count": 5,
   "metadata": {},
   "outputs": [],
   "source": [
    "# แบ่งข้อมูล Train Test\n",
    "from sklearn.model_selection import train_test_split\n",
    "X_train, X_test_before,y_train,y_test_before = train_test_split(X_before, y_before, test_size=0.2, random_state= 2020) # แบ่งเป็น X y test train จาก X y โดยที่ test_size = 0.2 (train_size=0.8)"
   ]
  },
  {
   "cell_type": "code",
   "execution_count": 6,
   "metadata": {},
   "outputs": [],
   "source": [
    "# สำหรับทำ Normalization 0-1 ลด Variance ให้เท่ากัน\n",
    "import warnings\n",
    "warnings.filterwarnings('ignore')\n",
    "from sklearn.preprocessing import MinMaxScaler as Scaler # Normalization 0-1 เพราะ Variance มีค่าต่างกันแต่ละตัวแปร\n",
    "col_select = ['sex_', 'pclass_', 'who_', 'alone_', 'fare_'] # เลือกคอลัมน์ทำ normalization\n",
    "X = df[col_select]\n",
    "sc = Scaler()\n",
    "X_sc = sc.fit_transform(X) # Normalization 0-1\n",
    "\n",
    "df_sc = pd.DataFrame(X_sc, columns=X.columns) # เก็บ ที่ทำtransform แล้วลงในตัวแปร df_sc\n",
    "df_sc.head().round(3)\n",
    "y = df['survived_'] # เลือกคอลัมน์ output"
   ]
  },
  {
   "cell_type": "code",
   "execution_count": 7,
   "metadata": {},
   "outputs": [],
   "source": [
    "# แบ่งข้อมูล Train Test\n",
    "from sklearn.model_selection import train_test_split\n",
    "X_train, X_test,y_train,y_test = train_test_split(X_sc, y, test_size=0.2, random_state= 2020) # แบ่งเป็น X y test train จาก X y โดยที่ test_size = 0.2 (train_size=0.8)"
   ]
  },
  {
   "cell_type": "code",
   "execution_count": 8,
   "metadata": {},
   "outputs": [
    {
     "data": {
      "text/html": [
       "<div>\n",
       "<style scoped>\n",
       "    .dataframe tbody tr th:only-of-type {\n",
       "        vertical-align: middle;\n",
       "    }\n",
       "\n",
       "    .dataframe tbody tr th {\n",
       "        vertical-align: top;\n",
       "    }\n",
       "\n",
       "    .dataframe thead th {\n",
       "        text-align: right;\n",
       "    }\n",
       "</style>\n",
       "<table border=\"1\" class=\"dataframe\">\n",
       "  <thead>\n",
       "    <tr style=\"text-align: right;\">\n",
       "      <th></th>\n",
       "      <th>Unnamed: 0</th>\n",
       "      <th>sex</th>\n",
       "      <th>pclass</th>\n",
       "      <th>who</th>\n",
       "      <th>alone</th>\n",
       "      <th>fare</th>\n",
       "      <th>sex_</th>\n",
       "      <th>pclass_</th>\n",
       "      <th>who_</th>\n",
       "      <th>alone_</th>\n",
       "      <th>fare_</th>\n",
       "      <th>survived_</th>\n",
       "    </tr>\n",
       "  </thead>\n",
       "  <tbody>\n",
       "    <tr>\n",
       "      <th>0</th>\n",
       "      <td>0</td>\n",
       "      <td>male</td>\n",
       "      <td>3</td>\n",
       "      <td>adult</td>\n",
       "      <td>False</td>\n",
       "      <td>7.2500</td>\n",
       "      <td>1</td>\n",
       "      <td>2</td>\n",
       "      <td>0</td>\n",
       "      <td>0</td>\n",
       "      <td>18</td>\n",
       "      <td>0</td>\n",
       "    </tr>\n",
       "    <tr>\n",
       "      <th>1</th>\n",
       "      <td>1</td>\n",
       "      <td>female</td>\n",
       "      <td>1</td>\n",
       "      <td>adult</td>\n",
       "      <td>False</td>\n",
       "      <td>71.2833</td>\n",
       "      <td>0</td>\n",
       "      <td>0</td>\n",
       "      <td>0</td>\n",
       "      <td>0</td>\n",
       "      <td>207</td>\n",
       "      <td>1</td>\n",
       "    </tr>\n",
       "    <tr>\n",
       "      <th>2</th>\n",
       "      <td>2</td>\n",
       "      <td>female</td>\n",
       "      <td>3</td>\n",
       "      <td>adult</td>\n",
       "      <td>True</td>\n",
       "      <td>7.9250</td>\n",
       "      <td>0</td>\n",
       "      <td>2</td>\n",
       "      <td>0</td>\n",
       "      <td>1</td>\n",
       "      <td>41</td>\n",
       "      <td>1</td>\n",
       "    </tr>\n",
       "    <tr>\n",
       "      <th>3</th>\n",
       "      <td>3</td>\n",
       "      <td>female</td>\n",
       "      <td>1</td>\n",
       "      <td>adult</td>\n",
       "      <td>False</td>\n",
       "      <td>53.1000</td>\n",
       "      <td>0</td>\n",
       "      <td>0</td>\n",
       "      <td>0</td>\n",
       "      <td>0</td>\n",
       "      <td>189</td>\n",
       "      <td>1</td>\n",
       "    </tr>\n",
       "    <tr>\n",
       "      <th>4</th>\n",
       "      <td>4</td>\n",
       "      <td>male</td>\n",
       "      <td>3</td>\n",
       "      <td>adult</td>\n",
       "      <td>True</td>\n",
       "      <td>8.0500</td>\n",
       "      <td>1</td>\n",
       "      <td>2</td>\n",
       "      <td>0</td>\n",
       "      <td>1</td>\n",
       "      <td>43</td>\n",
       "      <td>0</td>\n",
       "    </tr>\n",
       "  </tbody>\n",
       "</table>\n",
       "</div>"
      ],
      "text/plain": [
       "   Unnamed: 0     sex  pclass    who  alone     fare  sex_  pclass_  who_  \\\n",
       "0           0    male       3  adult  False   7.2500     1        2     0   \n",
       "1           1  female       1  adult  False  71.2833     0        0     0   \n",
       "2           2  female       3  adult   True   7.9250     0        2     0   \n",
       "3           3  female       1  adult  False  53.1000     0        0     0   \n",
       "4           4    male       3  adult   True   8.0500     1        2     0   \n",
       "\n",
       "   alone_  fare_  survived_  \n",
       "0       0     18          0  \n",
       "1       0    207          1  \n",
       "2       1     41          1  \n",
       "3       0    189          1  \n",
       "4       1     43          0  "
      ]
     },
     "execution_count": 8,
     "metadata": {},
     "output_type": "execute_result"
    }
   ],
   "source": [
    "df.head()"
   ]
  },
  {
   "cell_type": "code",
   "execution_count": 9,
   "metadata": {},
   "outputs": [
    {
     "data": {
      "text/plain": [
       "array([[1.        , 1.        , 0.        , 0.        , 0.07317073],\n",
       "       [0.        , 0.        , 0.        , 0.        , 0.84146341],\n",
       "       [0.        , 1.        , 0.        , 1.        , 0.16666667],\n",
       "       [0.        , 0.        , 0.        , 0.        , 0.76829268],\n",
       "       [1.        , 1.        , 0.        , 1.        , 0.17479675]])"
      ]
     },
     "execution_count": 9,
     "metadata": {},
     "output_type": "execute_result"
    }
   ],
   "source": [
    "X_sc[:5]"
   ]
  },
  {
   "cell_type": "code",
   "execution_count": 10,
   "metadata": {},
   "outputs": [
    {
     "data": {
      "text/plain": [
       "array([[1.        , 0.5       , 0.        , 1.        , 0.34552846],\n",
       "       [1.        , 1.        , 0.        , 1.        , 0.2601626 ],\n",
       "       [0.        , 1.        , 0.        , 0.        , 0.49186992],\n",
       "       [1.        , 1.        , 0.        , 1.        , 0.54065041],\n",
       "       [1.        , 1.        , 0.        , 0.        , 0.44308943]])"
      ]
     },
     "execution_count": 10,
     "metadata": {},
     "output_type": "execute_result"
    }
   ],
   "source": [
    "from sklearn.externals import joblib\n",
    "import numpy as np\n",
    "\n",
    "model = joblib.load('kNN_The_best_model.pkl') # โหลด Model จากไฟล์ .pkl มาใช้งาน\n",
    "\n",
    "# sex pclass who alone fare สมมติเอา \n",
    "X_test[:5]"
   ]
  },
  {
   "cell_type": "code",
   "execution_count": 45,
   "metadata": {},
   "outputs": [
    {
     "data": {
      "text/html": [
       "<div>\n",
       "<style scoped>\n",
       "    .dataframe tbody tr th:only-of-type {\n",
       "        vertical-align: middle;\n",
       "    }\n",
       "\n",
       "    .dataframe tbody tr th {\n",
       "        vertical-align: top;\n",
       "    }\n",
       "\n",
       "    .dataframe thead th {\n",
       "        text-align: right;\n",
       "    }\n",
       "</style>\n",
       "<table border=\"1\" class=\"dataframe\">\n",
       "  <thead>\n",
       "    <tr style=\"text-align: right;\">\n",
       "      <th></th>\n",
       "      <th>sex_</th>\n",
       "      <th>pclass_</th>\n",
       "      <th>who_</th>\n",
       "      <th>alone_</th>\n",
       "      <th>fare_</th>\n",
       "    </tr>\n",
       "  </thead>\n",
       "  <tbody>\n",
       "    <tr>\n",
       "      <th>count</th>\n",
       "      <td>178.000000</td>\n",
       "      <td>178.000000</td>\n",
       "      <td>178.000000</td>\n",
       "      <td>178.000000</td>\n",
       "      <td>178.000000</td>\n",
       "    </tr>\n",
       "    <tr>\n",
       "      <th>mean</th>\n",
       "      <td>0.606742</td>\n",
       "      <td>1.353933</td>\n",
       "      <td>0.084270</td>\n",
       "      <td>0.634831</td>\n",
       "      <td>98.915730</td>\n",
       "    </tr>\n",
       "    <tr>\n",
       "      <th>std</th>\n",
       "      <td>0.489851</td>\n",
       "      <td>0.832606</td>\n",
       "      <td>0.278575</td>\n",
       "      <td>0.482836</td>\n",
       "      <td>70.777432</td>\n",
       "    </tr>\n",
       "    <tr>\n",
       "      <th>min</th>\n",
       "      <td>0.000000</td>\n",
       "      <td>0.000000</td>\n",
       "      <td>0.000000</td>\n",
       "      <td>0.000000</td>\n",
       "      <td>0.000000</td>\n",
       "    </tr>\n",
       "    <tr>\n",
       "      <th>25%</th>\n",
       "      <td>0.000000</td>\n",
       "      <td>1.000000</td>\n",
       "      <td>0.000000</td>\n",
       "      <td>0.000000</td>\n",
       "      <td>40.000000</td>\n",
       "    </tr>\n",
       "    <tr>\n",
       "      <th>50%</th>\n",
       "      <td>1.000000</td>\n",
       "      <td>2.000000</td>\n",
       "      <td>0.000000</td>\n",
       "      <td>1.000000</td>\n",
       "      <td>85.000000</td>\n",
       "    </tr>\n",
       "    <tr>\n",
       "      <th>75%</th>\n",
       "      <td>1.000000</td>\n",
       "      <td>2.000000</td>\n",
       "      <td>0.000000</td>\n",
       "      <td>1.000000</td>\n",
       "      <td>140.750000</td>\n",
       "    </tr>\n",
       "    <tr>\n",
       "      <th>max</th>\n",
       "      <td>1.000000</td>\n",
       "      <td>2.000000</td>\n",
       "      <td>1.000000</td>\n",
       "      <td>1.000000</td>\n",
       "      <td>246.000000</td>\n",
       "    </tr>\n",
       "  </tbody>\n",
       "</table>\n",
       "</div>"
      ],
      "text/plain": [
       "             sex_     pclass_        who_      alone_       fare_\n",
       "count  178.000000  178.000000  178.000000  178.000000  178.000000\n",
       "mean     0.606742    1.353933    0.084270    0.634831   98.915730\n",
       "std      0.489851    0.832606    0.278575    0.482836   70.777432\n",
       "min      0.000000    0.000000    0.000000    0.000000    0.000000\n",
       "25%      0.000000    1.000000    0.000000    0.000000   40.000000\n",
       "50%      1.000000    2.000000    0.000000    1.000000   85.000000\n",
       "75%      1.000000    2.000000    0.000000    1.000000  140.750000\n",
       "max      1.000000    2.000000    1.000000    1.000000  246.000000"
      ]
     },
     "execution_count": 45,
     "metadata": {},
     "output_type": "execute_result"
    }
   ],
   "source": [
    "X_test_before.describe()"
   ]
  },
  {
   "cell_type": "markdown",
   "metadata": {},
   "source": [
    "# การประเมิณ model"
   ]
  },
  {
   "cell_type": "code",
   "execution_count": 17,
   "metadata": {},
   "outputs": [
    {
     "name": "stdout",
     "output_type": "stream",
     "text": [
      "Total X: 889\n",
      "Total train: 711\n",
      "Total test: 178\n",
      "Score : 0.803\n",
      "Accuracy Score: 0.803\n",
      "              precision    recall  f1-score   support\n",
      "\n",
      "  unsurvived       0.81      0.88      0.84       104\n",
      "    survived       0.80      0.70      0.75        74\n",
      "\n",
      "    accuracy                           0.80       178\n",
      "   macro avg       0.80      0.79      0.79       178\n",
      "weighted avg       0.80      0.80      0.80       178\n",
      "\n",
      "[[91 13]\n",
      " [22 52]]\n"
     ]
    }
   ],
   "source": [
    "from sklearn.model_selection import train_test_split\n",
    "from sklearn.metrics import accuracy_score\n",
    "\n",
    "#ตรวจสอบจำนวนข้อมูลที่ Train, Test และดูข้อมูลที่ใช้ Test (จะเกิดการสุ่ม)\n",
    "print('Total X: {}'.format(len(X)))\n",
    "print('Total train: {}'.format(len(X_train)))\n",
    "print('Total test: {}'.format(len(X_test)))\n",
    "X_test\n",
    "# ทำการ Test\n",
    "y_predict = model.predict(X_test)\n",
    "y_pred = y_predict # กำหนดให้ yที่ทำนายได้ คือ y_pred\n",
    "y_true = y_test # กำหนดให้ yที่ทดสอบ คือ y_true\n",
    "#แยก ทำ target\n",
    "class_names = ['unsurvived', 'survived']\n",
    "# คำนวณรายงาน และ Confusion Matrix\n",
    "from sklearn.metrics import accuracy_score \n",
    "from sklearn.metrics import classification_report\n",
    "from sklearn.metrics import confusion_matrix\n",
    "\n",
    "\n",
    "print('Score : {:.3f}'.format(model.score(X_test,y_test)))\n",
    "print('Accuracy Score:',accuracy_score(y_test, y_pred).round(3))\n",
    "# class_names no,yes จากก่อนหน้านี้\n",
    "print(classification_report(y_true, y_pred, target_names=class_names))\n",
    "cm = confusion_matrix(y_test, y_pred)\n",
    "print(cm)"
   ]
  },
  {
   "cell_type": "code",
   "execution_count": 33,
   "metadata": {},
   "outputs": [
    {
     "data": {
      "text/plain": [
       "13"
      ]
     },
     "execution_count": 33,
     "metadata": {},
     "output_type": "execute_result"
    }
   ],
   "source": [
    "cm[0,1]"
   ]
  },
  {
   "cell_type": "code",
   "execution_count": 20,
   "metadata": {},
   "outputs": [
    {
     "data": {
      "text/plain": [
       "array([0, 0, 0, 0, 0], dtype=int64)"
      ]
     },
     "execution_count": 20,
     "metadata": {},
     "output_type": "execute_result"
    }
   ],
   "source": [
    "y_pred[:5] "
   ]
  },
  {
   "cell_type": "markdown",
   "metadata": {},
   "source": [
    "# Cross Validation"
   ]
  },
  {
   "cell_type": "code",
   "execution_count": 39,
   "metadata": {},
   "outputs": [
    {
     "name": "stdout",
     "output_type": "stream",
     "text": [
      "Accuracy: 80.34 %\n",
      "Precision (Positive or survived): 0.8\n",
      "Precision (Negative or unsurvived): 0.81\n",
      "Recall (Positive or survived): 0.7\n",
      "Recall (Negative or unsurvived): 0.88\n",
      "Cross val scores [0.764  0.8539 0.7303 0.8876 0.8652 0.8202 0.8427 0.7865 0.8764 0.8636]\n",
      "mean 82.9060%\n"
     ]
    }
   ],
   "source": [
    "from sklearn.model_selection import cross_val_score\n",
    "cvs = cross_val_score(model, X_sc, y, cv= 10)\n",
    "# ค่า confusion matrix ต่างๆคือ\n",
    "TN = cm[0,0]\n",
    "FP = cm[0,1]\n",
    "FN = cm[1,0]\n",
    "TP = cm[1,1]\n",
    "TN, FP, FN, TP\n",
    "\n",
    "precision_p = TP/(TP+FP)\n",
    "precision_n = TN/(TN+FN)\n",
    "recall_p = TP/(TP+FN)\n",
    "recall_n = TN/(TN+FP)\n",
    "accuracy = (TP+TN)/(TP+TN+FP+FN)\n",
    "print('Accuracy:', (accuracy*100).round(2),'%')\n",
    "print('Precision (Positive or survived):', precision_p.round(2))\n",
    "print('Precision (Negative or unsurvived):',precision_n.round(2))\n",
    "print('Recall (Positive or survived):', recall_p.round(2))\n",
    "print('Recall (Negative or unsurvived):', recall_n.round(2))\n",
    "print('Cross val scores {}'.format(cvs.round(4)))\n",
    "print('mean {:.4f}%'.format(cvs.mean()*100))  #ใช้เทียบกับ model อื่นๆ"
   ]
  },
  {
   "cell_type": "markdown",
   "metadata": {},
   "source": [
    "# วิเคราะห์ค่า Precision และ Recall ของ confusion matrix"
   ]
  },
  {
   "cell_type": "markdown",
   "metadata": {},
   "source": [
    "Precision (Positive or survived): 0.8 ระบบทำนายว่าเป็น Positive(คนรอดชีวิต)จากการทำนายคนรอดชีวิต 65 คน มีทำนายถูกว่ารอดชีวิต 52 คน หรือ ทายว่ารอด 100 คน รอดจริง คือ 80 คน"
   ]
  },
  {
   "cell_type": "markdown",
   "metadata": {},
   "source": [
    "Precision (Negative or unsurvived): 0.81 ระบบทำนายว่าเป็น Negative(คนไม่รอดชีวิต)จากการทำนายคนไม่รอดชีวิต 113 คน มีทำนายถูกว่าไม่รอดชีวิต 91 คน หรือ ทายว่ารอด 100 คน รอดจริง คือ 80 คน (0.8053)"
   ]
  },
  {
   "cell_type": "markdown",
   "metadata": {},
   "source": [
    "Recall or sensitivity (Positive or survived): 0.7 ในความเป็นจริงมีคนรอดชีวิต 74 คน ทำนายถูก 52 คนว่ารอด หรือ ในความเป็นจริงมีคนรอดชีวิต 100 คน ทำนายถูกว่ารอด 70 คน"
   ]
  },
  {
   "cell_type": "markdown",
   "metadata": {},
   "source": [
    "Recall or sensitivity (Negative or unsurvived): 0.88 ในความเป็นจริงมีคนไม่รอดชีวิต 104 คน ทำนายถูก 91 คนว่าไม่รอด หรือ ในความเป็นจริงมีคนไม่รอดชีวิต 100 คน ทำนายถูกว่าไม่รอด 87 คน (0.875)"
   ]
  },
  {
   "cell_type": "markdown",
   "metadata": {},
   "source": [
    "ความถูกต้องของ model คือ 80.34% ทำนาย 100 คน ทำนายความถูกต้องว่า รอดชีวิต หรือ ไม่รอดชีวิต ได้ประมาณ 80 คน (80.34)"
   ]
  },
  {
   "cell_type": "markdown",
   "metadata": {},
   "source": [
    "# Confusion Matrix_1 Label"
   ]
  },
  {
   "cell_type": "code",
   "execution_count": 14,
   "metadata": {},
   "outputs": [
    {
     "data": {
      "image/png": "[encoded data removed]",
      "text/plain": [
       "<Figure size 432x288 with 2 Axes>"
      ]
     },
     "metadata": {
      "needs_background": "light"
     },
     "output_type": "display_data"
    }
   ],
   "source": [
    "# ใช้ Seaborn Heat Map\n",
    "import matplotlib.pyplot as plt\n",
    "import seaborn as sns\n",
    "\n",
    "ax = plt.subplot()\n",
    "plt.rcParams['figure.figsize'] = 5,4  # ขนาด\n",
    "plt.rcParams.update({'font.size':14})  # ความสูงอักษร\n",
    "\n",
    "cm = confusion_matrix(y_true, y_pred) # คำนวณค่า Confusion Matrix\n",
    "\n",
    "# กราฟ heatmap เฉดสีออกโทน ฟ้า แดง\n",
    "sns.heatmap(cm, annot=True, ax=ax, cmap=\"coolwarm\")\n",
    "y_targets = ['Unsurvived', 'Survived'] # Label กำกับ ถ้าไม่มีกำหนด จะแสดง 0 1\n",
    "ax.set_xlabel('Predicted labels')\n",
    "ax.set_ylabel('Actual (True)');\n",
    "ax.set_title('Confusion Matrix'); # title\n",
    "ax.xaxis.set_ticklabels(y_targets) # label กำกับแกน x\n",
    "ax.yaxis.set_ticklabels(y_targets) # label กำกับแกน y\n",
    "plt.show() \n"
   ]
  },
  {
   "cell_type": "raw",
   "metadata": {},
   "source": [
    "Total X: 889\n",
    "Total train: 711\n",
    "Total test: 178\n",
    "Score : 0.803\n",
    "Accuracy Score: 0.803\n",
    "              precision    recall  f1-score   support\n",
    "\n",
    "  unsurvived       0.81      0.88      0.84       104\n",
    "    survived       0.80      0.70      0.75        74\n",
    "\n",
    "    accuracy                           0.80       178\n",
    "   macro avg       0.80      0.79      0.79       178\n",
    "weighted avg       0.80      0.80      0.80       178\n",
    "\n",
    "[[91 13]\n",
    " [22 52]]"
   ]
  },
  {
   "cell_type": "markdown",
   "metadata": {},
   "source": [
    "# Pipeline"
   ]
  },
  {
   "cell_type": "markdown",
   "metadata": {},
   "source": [
    "- 1.Normalization\n",
    "- 2.Label Encoding\n",
    "- 3.predict model"
   ]
  },
  {
   "cell_type": "markdown",
   "metadata": {},
   "source": [
    "sex, pclass, who, alone, fare"
   ]
  },
  {
   "cell_type": "code",
   "execution_count": null,
   "metadata": {},
   "outputs": [],
   "source": []
  }
 ],
 "metadata": {
  "kernelspec": {
   "display_name": "Python 3",
   "language": "python",
   "name": "python3"
  },
  "language_info": {
   "codemirror_mode": {
    "name": "ipython",
    "version": 3
   },
   "file_extension": ".py",
   "mimetype": "text/x-python",
   "name": "python",
   "nbconvert_exporter": "python",
   "pygments_lexer": "ipython3",
   "version": "3.7.6"
  }
 },
 "nbformat": 4,
 "nbformat_minor": 4
}
