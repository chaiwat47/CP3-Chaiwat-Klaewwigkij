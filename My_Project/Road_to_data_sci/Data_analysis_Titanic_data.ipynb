{
 "cells": [
  {
   "cell_type": "code",
   "execution_count": 1,
   "metadata": {},
   "outputs": [
    {
     "data": {
      "text/html": [
       "<div>\n",
       "<style scoped>\n",
       "    .dataframe tbody tr th:only-of-type {\n",
       "        vertical-align: middle;\n",
       "    }\n",
       "\n",
       "    .dataframe tbody tr th {\n",
       "        vertical-align: top;\n",
       "    }\n",
       "\n",
       "    .dataframe thead th {\n",
       "        text-align: right;\n",
       "    }\n",
       "</style>\n",
       "<table border=\"1\" class=\"dataframe\">\n",
       "  <thead>\n",
       "    <tr style=\"text-align: right;\">\n",
       "      <th></th>\n",
       "      <th>Unnamed: 0</th>\n",
       "      <th>sex</th>\n",
       "      <th>pclass</th>\n",
       "      <th>who</th>\n",
       "      <th>alone</th>\n",
       "      <th>fare</th>\n",
       "      <th>sex_</th>\n",
       "      <th>pclass_</th>\n",
       "      <th>who_</th>\n",
       "      <th>alone_</th>\n",
       "      <th>fare_</th>\n",
       "      <th>survived_</th>\n",
       "    </tr>\n",
       "  </thead>\n",
       "  <tbody>\n",
       "    <tr>\n",
       "      <th>0</th>\n",
       "      <td>0</td>\n",
       "      <td>male</td>\n",
       "      <td>3</td>\n",
       "      <td>adult</td>\n",
       "      <td>False</td>\n",
       "      <td>7.2500</td>\n",
       "      <td>1</td>\n",
       "      <td>2</td>\n",
       "      <td>0</td>\n",
       "      <td>0</td>\n",
       "      <td>18</td>\n",
       "      <td>0</td>\n",
       "    </tr>\n",
       "    <tr>\n",
       "      <th>1</th>\n",
       "      <td>1</td>\n",
       "      <td>female</td>\n",
       "      <td>1</td>\n",
       "      <td>adult</td>\n",
       "      <td>False</td>\n",
       "      <td>71.2833</td>\n",
       "      <td>0</td>\n",
       "      <td>0</td>\n",
       "      <td>0</td>\n",
       "      <td>0</td>\n",
       "      <td>207</td>\n",
       "      <td>1</td>\n",
       "    </tr>\n",
       "    <tr>\n",
       "      <th>2</th>\n",
       "      <td>2</td>\n",
       "      <td>female</td>\n",
       "      <td>3</td>\n",
       "      <td>adult</td>\n",
       "      <td>True</td>\n",
       "      <td>7.9250</td>\n",
       "      <td>0</td>\n",
       "      <td>2</td>\n",
       "      <td>0</td>\n",
       "      <td>1</td>\n",
       "      <td>41</td>\n",
       "      <td>1</td>\n",
       "    </tr>\n",
       "    <tr>\n",
       "      <th>3</th>\n",
       "      <td>3</td>\n",
       "      <td>female</td>\n",
       "      <td>1</td>\n",
       "      <td>adult</td>\n",
       "      <td>False</td>\n",
       "      <td>53.1000</td>\n",
       "      <td>0</td>\n",
       "      <td>0</td>\n",
       "      <td>0</td>\n",
       "      <td>0</td>\n",
       "      <td>189</td>\n",
       "      <td>1</td>\n",
       "    </tr>\n",
       "    <tr>\n",
       "      <th>4</th>\n",
       "      <td>4</td>\n",
       "      <td>male</td>\n",
       "      <td>3</td>\n",
       "      <td>adult</td>\n",
       "      <td>True</td>\n",
       "      <td>8.0500</td>\n",
       "      <td>1</td>\n",
       "      <td>2</td>\n",
       "      <td>0</td>\n",
       "      <td>1</td>\n",
       "      <td>43</td>\n",
       "      <td>0</td>\n",
       "    </tr>\n",
       "  </tbody>\n",
       "</table>\n",
       "</div>"
      ],
      "text/plain": [
       "   Unnamed: 0     sex  pclass    who  alone     fare  sex_  pclass_  who_  \\\n",
       "0           0    male       3  adult  False   7.2500     1        2     0   \n",
       "1           1  female       1  adult  False  71.2833     0        0     0   \n",
       "2           2  female       3  adult   True   7.9250     0        2     0   \n",
       "3           3  female       1  adult  False  53.1000     0        0     0   \n",
       "4           4    male       3  adult   True   8.0500     1        2     0   \n",
       "\n",
       "   alone_  fare_  survived_  \n",
       "0       0     18          0  \n",
       "1       0    207          1  \n",
       "2       1     41          1  \n",
       "3       0    189          1  \n",
       "4       1     43          0  "
      ]
     },
     "execution_count": 1,
     "metadata": {},
     "output_type": "execute_result"
    }
   ],
   "source": [
    "import pandas as pd\n",
    "import numpy as np\n",
    "uri = 'Titanic_sc_data.csv'\n",
    "df = pd.read_csv(uri)\n",
    "df.head()"
   ]
  },
  {
   "cell_type": "code",
   "execution_count": 2,
   "metadata": {},
   "outputs": [],
   "source": [
    "col_select = ['sex_', 'pclass_', 'who_', 'alone_', 'fare_'] # เลือกคอลัมน์ทำ normalization\n",
    "X_before = df[col_select]"
   ]
  },
  {
   "cell_type": "code",
   "execution_count": 3,
   "metadata": {},
   "outputs": [],
   "source": [
    "y_before = df['survived_']"
   ]
  },
  {
   "cell_type": "code",
   "execution_count": 4,
   "metadata": {},
   "outputs": [],
   "source": [
    "# แบ่งข้อมูล Train Test\n",
    "from sklearn.model_selection import train_test_split\n",
    "X_train, X_test_before,y_train,y_test_before = train_test_split(X_before, y_before, test_size=0.2, random_state= 2020) # แบ่งเป็น X y test train จาก X y โดยที่ test_size = 0.2 (train_size=0.8)"
   ]
  },
  {
   "cell_type": "code",
   "execution_count": 5,
   "metadata": {},
   "outputs": [],
   "source": [
    "# สำหรับทำ Normalization 0-1 ลด Variance ให้เท่ากัน\n",
    "import warnings\n",
    "warnings.filterwarnings('ignore')\n",
    "from sklearn.preprocessing import MinMaxScaler as Scaler # Normalization 0-1 เพราะ Variance มีค่าต่างกันแต่ละตัวแปร\n",
    "col_select = ['sex_', 'pclass_', 'who_', 'alone_', 'fare_'] # เลือกคอลัมน์ทำ normalization\n",
    "X = df[col_select]\n",
    "sc = Scaler()\n",
    "X_sc = sc.fit_transform(X) # Normalization 0-1\n",
    "\n",
    "df_sc = pd.DataFrame(X_sc, columns=X.columns) # เก็บ ที่ทำtransform แล้วลงในตัวแปร df_sc\n",
    "df_sc.head().round(3)\n",
    "y = df['survived_'] # เลือกคอลัมน์ output"
   ]
  },
  {
   "cell_type": "code",
   "execution_count": 6,
   "metadata": {},
   "outputs": [],
   "source": [
    "# แบ่งข้อมูล Train Test\n",
    "from sklearn.model_selection import train_test_split\n",
    "X_train, X_test,y_train,y_test = train_test_split(X_sc, y, test_size=0.2, random_state= 2020) # แบ่งเป็น X y test train จาก X y โดยที่ test_size = 0.2 (train_size=0.8)"
   ]
  },
  {
   "cell_type": "code",
   "execution_count": 7,
   "metadata": {},
   "outputs": [
    {
     "data": {
      "text/html": [
       "<div>\n",
       "<style scoped>\n",
       "    .dataframe tbody tr th:only-of-type {\n",
       "        vertical-align: middle;\n",
       "    }\n",
       "\n",
       "    .dataframe tbody tr th {\n",
       "        vertical-align: top;\n",
       "    }\n",
       "\n",
       "    .dataframe thead th {\n",
       "        text-align: right;\n",
       "    }\n",
       "</style>\n",
       "<table border=\"1\" class=\"dataframe\">\n",
       "  <thead>\n",
       "    <tr style=\"text-align: right;\">\n",
       "      <th></th>\n",
       "      <th>Unnamed: 0</th>\n",
       "      <th>sex</th>\n",
       "      <th>pclass</th>\n",
       "      <th>who</th>\n",
       "      <th>alone</th>\n",
       "      <th>fare</th>\n",
       "      <th>sex_</th>\n",
       "      <th>pclass_</th>\n",
       "      <th>who_</th>\n",
       "      <th>alone_</th>\n",
       "      <th>fare_</th>\n",
       "      <th>survived_</th>\n",
       "    </tr>\n",
       "  </thead>\n",
       "  <tbody>\n",
       "    <tr>\n",
       "      <th>0</th>\n",
       "      <td>0</td>\n",
       "      <td>male</td>\n",
       "      <td>3</td>\n",
       "      <td>adult</td>\n",
       "      <td>False</td>\n",
       "      <td>7.2500</td>\n",
       "      <td>1</td>\n",
       "      <td>2</td>\n",
       "      <td>0</td>\n",
       "      <td>0</td>\n",
       "      <td>18</td>\n",
       "      <td>0</td>\n",
       "    </tr>\n",
       "    <tr>\n",
       "      <th>1</th>\n",
       "      <td>1</td>\n",
       "      <td>female</td>\n",
       "      <td>1</td>\n",
       "      <td>adult</td>\n",
       "      <td>False</td>\n",
       "      <td>71.2833</td>\n",
       "      <td>0</td>\n",
       "      <td>0</td>\n",
       "      <td>0</td>\n",
       "      <td>0</td>\n",
       "      <td>207</td>\n",
       "      <td>1</td>\n",
       "    </tr>\n",
       "    <tr>\n",
       "      <th>2</th>\n",
       "      <td>2</td>\n",
       "      <td>female</td>\n",
       "      <td>3</td>\n",
       "      <td>adult</td>\n",
       "      <td>True</td>\n",
       "      <td>7.9250</td>\n",
       "      <td>0</td>\n",
       "      <td>2</td>\n",
       "      <td>0</td>\n",
       "      <td>1</td>\n",
       "      <td>41</td>\n",
       "      <td>1</td>\n",
       "    </tr>\n",
       "    <tr>\n",
       "      <th>3</th>\n",
       "      <td>3</td>\n",
       "      <td>female</td>\n",
       "      <td>1</td>\n",
       "      <td>adult</td>\n",
       "      <td>False</td>\n",
       "      <td>53.1000</td>\n",
       "      <td>0</td>\n",
       "      <td>0</td>\n",
       "      <td>0</td>\n",
       "      <td>0</td>\n",
       "      <td>189</td>\n",
       "      <td>1</td>\n",
       "    </tr>\n",
       "    <tr>\n",
       "      <th>4</th>\n",
       "      <td>4</td>\n",
       "      <td>male</td>\n",
       "      <td>3</td>\n",
       "      <td>adult</td>\n",
       "      <td>True</td>\n",
       "      <td>8.0500</td>\n",
       "      <td>1</td>\n",
       "      <td>2</td>\n",
       "      <td>0</td>\n",
       "      <td>1</td>\n",
       "      <td>43</td>\n",
       "      <td>0</td>\n",
       "    </tr>\n",
       "  </tbody>\n",
       "</table>\n",
       "</div>"
      ],
      "text/plain": [
       "   Unnamed: 0     sex  pclass    who  alone     fare  sex_  pclass_  who_  \\\n",
       "0           0    male       3  adult  False   7.2500     1        2     0   \n",
       "1           1  female       1  adult  False  71.2833     0        0     0   \n",
       "2           2  female       3  adult   True   7.9250     0        2     0   \n",
       "3           3  female       1  adult  False  53.1000     0        0     0   \n",
       "4           4    male       3  adult   True   8.0500     1        2     0   \n",
       "\n",
       "   alone_  fare_  survived_  \n",
       "0       0     18          0  \n",
       "1       0    207          1  \n",
       "2       1     41          1  \n",
       "3       0    189          1  \n",
       "4       1     43          0  "
      ]
     },
     "execution_count": 7,
     "metadata": {},
     "output_type": "execute_result"
    }
   ],
   "source": [
    "df.head()"
   ]
  },
  {
   "cell_type": "code",
   "execution_count": 8,
   "metadata": {},
   "outputs": [
    {
     "data": {
      "text/plain": [
       "array([[1.        , 1.        , 0.        , 0.        , 0.07317073],\n",
       "       [0.        , 0.        , 0.        , 0.        , 0.84146341],\n",
       "       [0.        , 1.        , 0.        , 1.        , 0.16666667],\n",
       "       [0.        , 0.        , 0.        , 0.        , 0.76829268],\n",
       "       [1.        , 1.        , 0.        , 1.        , 0.17479675]])"
      ]
     },
     "execution_count": 8,
     "metadata": {},
     "output_type": "execute_result"
    }
   ],
   "source": [
    "X_sc[:5]"
   ]
  },
  {
   "cell_type": "code",
   "execution_count": 9,
   "metadata": {},
   "outputs": [
    {
     "data": {
      "text/plain": [
       "array([[1.        , 0.5       , 0.        , 1.        , 0.34552846],\n",
       "       [1.        , 1.        , 0.        , 1.        , 0.2601626 ],\n",
       "       [0.        , 1.        , 0.        , 0.        , 0.49186992],\n",
       "       [1.        , 1.        , 0.        , 1.        , 0.54065041],\n",
       "       [1.        , 1.        , 0.        , 0.        , 0.44308943]])"
      ]
     },
     "execution_count": 9,
     "metadata": {},
     "output_type": "execute_result"
    }
   ],
   "source": [
    "from sklearn.externals import joblib\n",
    "import numpy as np\n",
    "\n",
    "model = joblib.load('kNN_The_best_model.pkl') # โหลด Model จากไฟล์ .pkl มาใช้งาน\n",
    "\n",
    "# sex pclass who alone fare สมมติเอา \n",
    "X_test[:5]"
   ]
  },
  {
   "cell_type": "code",
   "execution_count": 10,
   "metadata": {},
   "outputs": [
    {
     "data": {
      "text/html": [
       "<div>\n",
       "<style scoped>\n",
       "    .dataframe tbody tr th:only-of-type {\n",
       "        vertical-align: middle;\n",
       "    }\n",
       "\n",
       "    .dataframe tbody tr th {\n",
       "        vertical-align: top;\n",
       "    }\n",
       "\n",
       "    .dataframe thead th {\n",
       "        text-align: right;\n",
       "    }\n",
       "</style>\n",
       "<table border=\"1\" class=\"dataframe\">\n",
       "  <thead>\n",
       "    <tr style=\"text-align: right;\">\n",
       "      <th></th>\n",
       "      <th>sex_</th>\n",
       "      <th>pclass_</th>\n",
       "      <th>who_</th>\n",
       "      <th>alone_</th>\n",
       "      <th>fare_</th>\n",
       "    </tr>\n",
       "  </thead>\n",
       "  <tbody>\n",
       "    <tr>\n",
       "      <th>count</th>\n",
       "      <td>178.000000</td>\n",
       "      <td>178.000000</td>\n",
       "      <td>178.000000</td>\n",
       "      <td>178.000000</td>\n",
       "      <td>178.000000</td>\n",
       "    </tr>\n",
       "    <tr>\n",
       "      <th>mean</th>\n",
       "      <td>0.606742</td>\n",
       "      <td>1.353933</td>\n",
       "      <td>0.084270</td>\n",
       "      <td>0.634831</td>\n",
       "      <td>98.915730</td>\n",
       "    </tr>\n",
       "    <tr>\n",
       "      <th>std</th>\n",
       "      <td>0.489851</td>\n",
       "      <td>0.832606</td>\n",
       "      <td>0.278575</td>\n",
       "      <td>0.482836</td>\n",
       "      <td>70.777432</td>\n",
       "    </tr>\n",
       "    <tr>\n",
       "      <th>min</th>\n",
       "      <td>0.000000</td>\n",
       "      <td>0.000000</td>\n",
       "      <td>0.000000</td>\n",
       "      <td>0.000000</td>\n",
       "      <td>0.000000</td>\n",
       "    </tr>\n",
       "    <tr>\n",
       "      <th>25%</th>\n",
       "      <td>0.000000</td>\n",
       "      <td>1.000000</td>\n",
       "      <td>0.000000</td>\n",
       "      <td>0.000000</td>\n",
       "      <td>40.000000</td>\n",
       "    </tr>\n",
       "    <tr>\n",
       "      <th>50%</th>\n",
       "      <td>1.000000</td>\n",
       "      <td>2.000000</td>\n",
       "      <td>0.000000</td>\n",
       "      <td>1.000000</td>\n",
       "      <td>85.000000</td>\n",
       "    </tr>\n",
       "    <tr>\n",
       "      <th>75%</th>\n",
       "      <td>1.000000</td>\n",
       "      <td>2.000000</td>\n",
       "      <td>0.000000</td>\n",
       "      <td>1.000000</td>\n",
       "      <td>140.750000</td>\n",
       "    </tr>\n",
       "    <tr>\n",
       "      <th>max</th>\n",
       "      <td>1.000000</td>\n",
       "      <td>2.000000</td>\n",
       "      <td>1.000000</td>\n",
       "      <td>1.000000</td>\n",
       "      <td>246.000000</td>\n",
       "    </tr>\n",
       "  </tbody>\n",
       "</table>\n",
       "</div>"
      ],
      "text/plain": [
       "             sex_     pclass_        who_      alone_       fare_\n",
       "count  178.000000  178.000000  178.000000  178.000000  178.000000\n",
       "mean     0.606742    1.353933    0.084270    0.634831   98.915730\n",
       "std      0.489851    0.832606    0.278575    0.482836   70.777432\n",
       "min      0.000000    0.000000    0.000000    0.000000    0.000000\n",
       "25%      0.000000    1.000000    0.000000    0.000000   40.000000\n",
       "50%      1.000000    2.000000    0.000000    1.000000   85.000000\n",
       "75%      1.000000    2.000000    0.000000    1.000000  140.750000\n",
       "max      1.000000    2.000000    1.000000    1.000000  246.000000"
      ]
     },
     "execution_count": 10,
     "metadata": {},
     "output_type": "execute_result"
    }
   ],
   "source": [
    "X_test_before.describe()"
   ]
  },
  {
   "cell_type": "markdown",
   "metadata": {},
   "source": [
    "# การประเมิณ model"
   ]
  },
  {
   "cell_type": "code",
   "execution_count": 11,
   "metadata": {},
   "outputs": [
    {
     "name": "stdout",
     "output_type": "stream",
     "text": [
      "Total X: 889\n",
      "Total train: 711\n",
      "Total test: 178\n",
      "Score : 0.803\n",
      "Accuracy Score: 0.803\n",
      "              precision    recall  f1-score   support\n",
      "\n",
      "  unsurvived       0.81      0.88      0.84       104\n",
      "    survived       0.80      0.70      0.75        74\n",
      "\n",
      "    accuracy                           0.80       178\n",
      "   macro avg       0.80      0.79      0.79       178\n",
      "weighted avg       0.80      0.80      0.80       178\n",
      "\n",
      "[[91 13]\n",
      " [22 52]]\n"
     ]
    }
   ],
   "source": [
    "from sklearn.model_selection import train_test_split\n",
    "from sklearn.metrics import accuracy_score\n",
    "\n",
    "#ตรวจสอบจำนวนข้อมูลที่ Train, Test และดูข้อมูลที่ใช้ Test (จะเกิดการสุ่ม)\n",
    "print('Total X: {}'.format(len(X)))\n",
    "print('Total train: {}'.format(len(X_train)))\n",
    "print('Total test: {}'.format(len(X_test)))\n",
    "X_test\n",
    "# ทำการ Test\n",
    "y_predict = model.predict(X_test)\n",
    "y_pred = y_predict # กำหนดให้ yที่ทำนายได้ คือ y_pred\n",
    "y_true = y_test # กำหนดให้ yที่ทดสอบ คือ y_true\n",
    "#แยก ทำ target\n",
    "class_names = ['unsurvived', 'survived']\n",
    "# คำนวณรายงาน และ Confusion Matrix\n",
    "from sklearn.metrics import accuracy_score \n",
    "from sklearn.metrics import classification_report\n",
    "from sklearn.metrics import confusion_matrix\n",
    "\n",
    "\n",
    "print('Score : {:.3f}'.format(model.score(X_test,y_test)))\n",
    "print('Accuracy Score:',accuracy_score(y_test, y_pred).round(3))\n",
    "# class_names no,yes จากก่อนหน้านี้\n",
    "print(classification_report(y_true, y_pred, target_names=class_names))\n",
    "cm = confusion_matrix(y_test, y_pred)\n",
    "print(cm)"
   ]
  },
  {
   "cell_type": "code",
   "execution_count": 12,
   "metadata": {},
   "outputs": [
    {
     "data": {
      "text/plain": [
       "13"
      ]
     },
     "execution_count": 12,
     "metadata": {},
     "output_type": "execute_result"
    }
   ],
   "source": [
    "cm[0,1]"
   ]
  },
  {
   "cell_type": "code",
   "execution_count": 13,
   "metadata": {},
   "outputs": [
    {
     "data": {
      "text/plain": [
       "array([0., 0., 0., 0., 0.])"
      ]
     },
     "execution_count": 13,
     "metadata": {},
     "output_type": "execute_result"
    }
   ],
   "source": [
    "y_pred[:5] "
   ]
  },
  {
   "cell_type": "markdown",
   "metadata": {},
   "source": [
    "# Cross Validation"
   ]
  },
  {
   "cell_type": "code",
   "execution_count": 14,
   "metadata": {},
   "outputs": [
    {
     "name": "stdout",
     "output_type": "stream",
     "text": [
      "Accuracy: 80.34 %\n",
      "Precision (Positive or survived): 0.8\n",
      "Precision (Negative or unsurvived): 0.81\n",
      "Recall (Positive or survived): 0.7\n",
      "Recall (Negative or unsurvived): 0.88\n",
      "Cross val scores [0.764  0.8539 0.7303 0.8876 0.8652 0.8202 0.8427 0.7865 0.8764 0.8636]\n",
      "mean 82.9060%\n"
     ]
    }
   ],
   "source": [
    "from sklearn.model_selection import cross_val_score\n",
    "cvs = cross_val_score(model, X_sc, y, cv= 10)\n",
    "# ค่า confusion matrix ต่างๆคือ\n",
    "TN = cm[0,0]\n",
    "FP = cm[0,1]\n",
    "FN = cm[1,0]\n",
    "TP = cm[1,1]\n",
    "TN, FP, FN, TP\n",
    "\n",
    "precision_p = TP/(TP+FP)\n",
    "precision_n = TN/(TN+FN)\n",
    "recall_p = TP/(TP+FN)\n",
    "recall_n = TN/(TN+FP)\n",
    "accuracy = (TP+TN)/(TP+TN+FP+FN)\n",
    "print('Accuracy:', (accuracy*100).round(2),'%')\n",
    "print('Precision (Positive or survived):', precision_p.round(2))\n",
    "print('Precision (Negative or unsurvived):',precision_n.round(2))\n",
    "print('Recall (Positive or survived):', recall_p.round(2))\n",
    "print('Recall (Negative or unsurvived):', recall_n.round(2))\n",
    "print('Cross val scores {}'.format(cvs.round(4)))\n",
    "print('mean {:.4f}%'.format(cvs.mean()*100))  #ใช้เทียบกับ model อื่นๆ"
   ]
  },
  {
   "cell_type": "markdown",
   "metadata": {},
   "source": [
    "# วิเคราะห์ค่า Precision และ Recall ของ confusion matrix"
   ]
  },
  {
   "cell_type": "markdown",
   "metadata": {},
   "source": [
    "Precision (Positive or survived): 0.8 ระบบทำนายว่าเป็น Positive(คนรอดชีวิต)จากการทำนายคนรอดชีวิต 65 คน มีทำนายถูกว่ารอดชีวิต 52 คน หรือ ทายว่ารอด 100 คน รอดจริง คือ 80 คน"
   ]
  },
  {
   "cell_type": "markdown",
   "metadata": {},
   "source": [
    "Precision (Negative or unsurvived): 0.81 ระบบทำนายว่าเป็น Negative(คนไม่รอดชีวิต)จากการทำนายคนไม่รอดชีวิต 113 คน มีทำนายถูกว่าไม่รอดชีวิต 91 คน หรือ ทายว่ารอด 100 คน รอดจริง คือ 80 คน (0.8053)"
   ]
  },
  {
   "cell_type": "markdown",
   "metadata": {},
   "source": [
    "Recall or sensitivity (Positive or survived): 0.7 ในความเป็นจริงมีคนรอดชีวิต 74 คน ทำนายถูก 52 คนว่ารอด หรือ ในความเป็นจริงมีคนรอดชีวิต 100 คน ทำนายถูกว่ารอด 70 คน"
   ]
  },
  {
   "cell_type": "markdown",
   "metadata": {},
   "source": [
    "Recall or sensitivity (Negative or unsurvived): 0.88 ในความเป็นจริงมีคนไม่รอดชีวิต 104 คน ทำนายถูก 91 คนว่าไม่รอด หรือ ในความเป็นจริงมีคนไม่รอดชีวิต 100 คน ทำนายถูกว่าไม่รอด 87 คน (0.875)"
   ]
  },
  {
   "cell_type": "markdown",
   "metadata": {},
   "source": [
    "ความถูกต้องของ model คือ 80.34% ทำนาย 100 คน ทำนายความถูกต้องว่า รอดชีวิต หรือ ไม่รอดชีวิต ได้ประมาณ 80 คน (80.34)"
   ]
  },
  {
   "cell_type": "markdown",
   "metadata": {},
   "source": [
    "# Confusion Matrix_1 Label"
   ]
  },
  {
   "cell_type": "code",
   "execution_count": 15,
   "metadata": {},
   "outputs": [
    {
     "data": {
      "image/png": "[encoded data removed]",
      "text/plain": [
       "<Figure size 432x288 with 2 Axes>"
      ]
     },
     "metadata": {
      "needs_background": "light"
     },
     "output_type": "display_data"
    }
   ],
   "source": [
    "# ใช้ Seaborn Heat Map\n",
    "import matplotlib.pyplot as plt\n",
    "import seaborn as sns\n",
    "\n",
    "ax = plt.subplot()\n",
    "plt.rcParams['figure.figsize'] = 5,4  # ขนาด\n",
    "plt.rcParams.update({'font.size':14})  # ความสูงอักษร\n",
    "\n",
    "cm = confusion_matrix(y_true, y_pred) # คำนวณค่า Confusion Matrix\n",
    "\n",
    "# กราฟ heatmap เฉดสีออกโทน ฟ้า แดง\n",
    "sns.heatmap(cm, annot=True, ax=ax, cmap=\"coolwarm\")\n",
    "y_targets = ['Unsurvived', 'Survived'] # Label กำกับ ถ้าไม่มีกำหนด จะแสดง 0 1\n",
    "ax.set_xlabel('Predicted labels')\n",
    "ax.set_ylabel('Actual (True)');\n",
    "ax.set_title('Confusion Matrix'); # title\n",
    "ax.xaxis.set_ticklabels(y_targets) # label กำกับแกน x\n",
    "ax.yaxis.set_ticklabels(y_targets) # label กำกับแกน y\n",
    "plt.show() \n"
   ]
  },
  {
   "cell_type": "raw",
   "metadata": {},
   "source": [
    "Total X: 889\n",
    "Total train: 711\n",
    "Total test: 178\n",
    "Score : 0.803\n",
    "Accuracy Score: 0.803\n",
    "              precision    recall  f1-score   support\n",
    "\n",
    "  unsurvived       0.81      0.88      0.84       104\n",
    "    survived       0.80      0.70      0.75        74\n",
    "\n",
    "    accuracy                           0.80       178\n",
    "   macro avg       0.80      0.79      0.79       178\n",
    "weighted avg       0.80      0.80      0.80       178\n",
    "\n",
    "[[91 13]\n",
    " [22 52]]"
   ]
  },
  {
   "cell_type": "markdown",
   "metadata": {},
   "source": [
    "# Pipeline"
   ]
  },
  {
   "cell_type": "markdown",
   "metadata": {},
   "source": [
    "- 1.Normalization\n",
    "- 2.Label Encoding\n",
    "- 3.predict model"
   ]
  },
  {
   "cell_type": "markdown",
   "metadata": {},
   "source": [
    "sex, pclass, who, alone, fare"
   ]
  },
  {
   "cell_type": "code",
   "execution_count": 16,
   "metadata": {},
   "outputs": [
    {
     "data": {
      "text/html": [
       "<div>\n",
       "<style scoped>\n",
       "    .dataframe tbody tr th:only-of-type {\n",
       "        vertical-align: middle;\n",
       "    }\n",
       "\n",
       "    .dataframe tbody tr th {\n",
       "        vertical-align: top;\n",
       "    }\n",
       "\n",
       "    .dataframe thead th {\n",
       "        text-align: right;\n",
       "    }\n",
       "</style>\n",
       "<table border=\"1\" class=\"dataframe\">\n",
       "  <thead>\n",
       "    <tr style=\"text-align: right;\">\n",
       "      <th></th>\n",
       "      <th>Unnamed: 0</th>\n",
       "      <th>pclass</th>\n",
       "      <th>fare</th>\n",
       "      <th>sex_</th>\n",
       "      <th>pclass_</th>\n",
       "      <th>who_</th>\n",
       "      <th>alone_</th>\n",
       "      <th>fare_</th>\n",
       "      <th>survived_</th>\n",
       "    </tr>\n",
       "  </thead>\n",
       "  <tbody>\n",
       "    <tr>\n",
       "      <th>count</th>\n",
       "      <td>889.000000</td>\n",
       "      <td>889.000000</td>\n",
       "      <td>889.000000</td>\n",
       "      <td>889.000000</td>\n",
       "      <td>889.000000</td>\n",
       "      <td>889.000000</td>\n",
       "      <td>889.000000</td>\n",
       "      <td>889.000000</td>\n",
       "      <td>889.000000</td>\n",
       "    </tr>\n",
       "    <tr>\n",
       "      <th>mean</th>\n",
       "      <td>445.000000</td>\n",
       "      <td>2.311586</td>\n",
       "      <td>32.096681</td>\n",
       "      <td>0.649044</td>\n",
       "      <td>1.311586</td>\n",
       "      <td>0.093363</td>\n",
       "      <td>0.601800</td>\n",
       "      <td>105.019123</td>\n",
       "      <td>0.382452</td>\n",
       "    </tr>\n",
       "    <tr>\n",
       "      <th>std</th>\n",
       "      <td>256.998173</td>\n",
       "      <td>0.834700</td>\n",
       "      <td>49.697504</td>\n",
       "      <td>0.477538</td>\n",
       "      <td>0.834700</td>\n",
       "      <td>0.291105</td>\n",
       "      <td>0.489803</td>\n",
       "      <td>69.804510</td>\n",
       "      <td>0.486260</td>\n",
       "    </tr>\n",
       "    <tr>\n",
       "      <th>min</th>\n",
       "      <td>0.000000</td>\n",
       "      <td>1.000000</td>\n",
       "      <td>0.000000</td>\n",
       "      <td>0.000000</td>\n",
       "      <td>0.000000</td>\n",
       "      <td>0.000000</td>\n",
       "      <td>0.000000</td>\n",
       "      <td>0.000000</td>\n",
       "      <td>0.000000</td>\n",
       "    </tr>\n",
       "    <tr>\n",
       "      <th>25%</th>\n",
       "      <td>223.000000</td>\n",
       "      <td>2.000000</td>\n",
       "      <td>7.895800</td>\n",
       "      <td>0.000000</td>\n",
       "      <td>1.000000</td>\n",
       "      <td>0.000000</td>\n",
       "      <td>0.000000</td>\n",
       "      <td>40.000000</td>\n",
       "      <td>0.000000</td>\n",
       "    </tr>\n",
       "    <tr>\n",
       "      <th>50%</th>\n",
       "      <td>445.000000</td>\n",
       "      <td>3.000000</td>\n",
       "      <td>14.454200</td>\n",
       "      <td>1.000000</td>\n",
       "      <td>2.000000</td>\n",
       "      <td>0.000000</td>\n",
       "      <td>1.000000</td>\n",
       "      <td>94.000000</td>\n",
       "      <td>0.000000</td>\n",
       "    </tr>\n",
       "    <tr>\n",
       "      <th>75%</th>\n",
       "      <td>667.000000</td>\n",
       "      <td>3.000000</td>\n",
       "      <td>31.000000</td>\n",
       "      <td>1.000000</td>\n",
       "      <td>2.000000</td>\n",
       "      <td>0.000000</td>\n",
       "      <td>1.000000</td>\n",
       "      <td>157.000000</td>\n",
       "      <td>1.000000</td>\n",
       "    </tr>\n",
       "    <tr>\n",
       "      <th>max</th>\n",
       "      <td>890.000000</td>\n",
       "      <td>3.000000</td>\n",
       "      <td>512.329200</td>\n",
       "      <td>1.000000</td>\n",
       "      <td>2.000000</td>\n",
       "      <td>1.000000</td>\n",
       "      <td>1.000000</td>\n",
       "      <td>246.000000</td>\n",
       "      <td>1.000000</td>\n",
       "    </tr>\n",
       "  </tbody>\n",
       "</table>\n",
       "</div>"
      ],
      "text/plain": [
       "       Unnamed: 0      pclass        fare        sex_     pclass_        who_  \\\n",
       "count  889.000000  889.000000  889.000000  889.000000  889.000000  889.000000   \n",
       "mean   445.000000    2.311586   32.096681    0.649044    1.311586    0.093363   \n",
       "std    256.998173    0.834700   49.697504    0.477538    0.834700    0.291105   \n",
       "min      0.000000    1.000000    0.000000    0.000000    0.000000    0.000000   \n",
       "25%    223.000000    2.000000    7.895800    0.000000    1.000000    0.000000   \n",
       "50%    445.000000    3.000000   14.454200    1.000000    2.000000    0.000000   \n",
       "75%    667.000000    3.000000   31.000000    1.000000    2.000000    0.000000   \n",
       "max    890.000000    3.000000  512.329200    1.000000    2.000000    1.000000   \n",
       "\n",
       "           alone_       fare_   survived_  \n",
       "count  889.000000  889.000000  889.000000  \n",
       "mean     0.601800  105.019123    0.382452  \n",
       "std      0.489803   69.804510    0.486260  \n",
       "min      0.000000    0.000000    0.000000  \n",
       "25%      0.000000   40.000000    0.000000  \n",
       "50%      1.000000   94.000000    0.000000  \n",
       "75%      1.000000  157.000000    1.000000  \n",
       "max      1.000000  246.000000    1.000000  "
      ]
     },
     "execution_count": 16,
     "metadata": {},
     "output_type": "execute_result"
    }
   ],
   "source": [
    "df.describe()"
   ]
  },
  {
   "cell_type": "code",
   "execution_count": 17,
   "metadata": {},
   "outputs": [
    {
     "data": {
      "text/html": [
       "<div>\n",
       "<style scoped>\n",
       "    .dataframe tbody tr th:only-of-type {\n",
       "        vertical-align: middle;\n",
       "    }\n",
       "\n",
       "    .dataframe tbody tr th {\n",
       "        vertical-align: top;\n",
       "    }\n",
       "\n",
       "    .dataframe thead th {\n",
       "        text-align: right;\n",
       "    }\n",
       "</style>\n",
       "<table border=\"1\" class=\"dataframe\">\n",
       "  <thead>\n",
       "    <tr style=\"text-align: right;\">\n",
       "      <th></th>\n",
       "      <th>Unnamed: 0</th>\n",
       "      <th>pclass</th>\n",
       "      <th>fare</th>\n",
       "      <th>sex_</th>\n",
       "      <th>pclass_</th>\n",
       "      <th>who_</th>\n",
       "      <th>alone_</th>\n",
       "      <th>fare_</th>\n",
       "      <th>survived_</th>\n",
       "    </tr>\n",
       "  </thead>\n",
       "  <tbody>\n",
       "    <tr>\n",
       "      <th>count</th>\n",
       "      <td>83.000000</td>\n",
       "      <td>83.000000</td>\n",
       "      <td>83.000000</td>\n",
       "      <td>83.000000</td>\n",
       "      <td>83.000000</td>\n",
       "      <td>83.0</td>\n",
       "      <td>83.000000</td>\n",
       "      <td>83.000000</td>\n",
       "      <td>83.000000</td>\n",
       "    </tr>\n",
       "    <tr>\n",
       "      <th>mean</th>\n",
       "      <td>430.602410</td>\n",
       "      <td>2.626506</td>\n",
       "      <td>32.785795</td>\n",
       "      <td>0.481928</td>\n",
       "      <td>1.626506</td>\n",
       "      <td>1.0</td>\n",
       "      <td>0.072289</td>\n",
       "      <td>133.674699</td>\n",
       "      <td>0.590361</td>\n",
       "    </tr>\n",
       "    <tr>\n",
       "      <th>std</th>\n",
       "      <td>287.079319</td>\n",
       "      <td>0.619024</td>\n",
       "      <td>33.466438</td>\n",
       "      <td>0.502711</td>\n",
       "      <td>0.619024</td>\n",
       "      <td>0.0</td>\n",
       "      <td>0.260540</td>\n",
       "      <td>48.886905</td>\n",
       "      <td>0.494757</td>\n",
       "    </tr>\n",
       "    <tr>\n",
       "      <th>min</th>\n",
       "      <td>7.000000</td>\n",
       "      <td>1.000000</td>\n",
       "      <td>7.225000</td>\n",
       "      <td>0.000000</td>\n",
       "      <td>0.000000</td>\n",
       "      <td>1.0</td>\n",
       "      <td>0.000000</td>\n",
       "      <td>16.000000</td>\n",
       "      <td>0.000000</td>\n",
       "    </tr>\n",
       "    <tr>\n",
       "      <th>25%</th>\n",
       "      <td>171.500000</td>\n",
       "      <td>2.000000</td>\n",
       "      <td>15.900000</td>\n",
       "      <td>0.000000</td>\n",
       "      <td>1.000000</td>\n",
       "      <td>1.0</td>\n",
       "      <td>0.000000</td>\n",
       "      <td>107.000000</td>\n",
       "      <td>0.000000</td>\n",
       "    </tr>\n",
       "    <tr>\n",
       "      <th>50%</th>\n",
       "      <td>435.000000</td>\n",
       "      <td>3.000000</td>\n",
       "      <td>26.250000</td>\n",
       "      <td>0.000000</td>\n",
       "      <td>2.000000</td>\n",
       "      <td>1.0</td>\n",
       "      <td>0.000000</td>\n",
       "      <td>139.000000</td>\n",
       "      <td>1.000000</td>\n",
       "    </tr>\n",
       "    <tr>\n",
       "      <th>75%</th>\n",
       "      <td>705.500000</td>\n",
       "      <td>3.000000</td>\n",
       "      <td>32.193750</td>\n",
       "      <td>1.000000</td>\n",
       "      <td>2.000000</td>\n",
       "      <td>1.0</td>\n",
       "      <td>0.000000</td>\n",
       "      <td>160.500000</td>\n",
       "      <td>1.000000</td>\n",
       "    </tr>\n",
       "    <tr>\n",
       "      <th>max</th>\n",
       "      <td>875.000000</td>\n",
       "      <td>3.000000</td>\n",
       "      <td>211.337500</td>\n",
       "      <td>1.000000</td>\n",
       "      <td>2.000000</td>\n",
       "      <td>1.0</td>\n",
       "      <td>1.000000</td>\n",
       "      <td>239.000000</td>\n",
       "      <td>1.000000</td>\n",
       "    </tr>\n",
       "  </tbody>\n",
       "</table>\n",
       "</div>"
      ],
      "text/plain": [
       "       Unnamed: 0     pclass        fare       sex_    pclass_  who_  \\\n",
       "count   83.000000  83.000000   83.000000  83.000000  83.000000  83.0   \n",
       "mean   430.602410   2.626506   32.785795   0.481928   1.626506   1.0   \n",
       "std    287.079319   0.619024   33.466438   0.502711   0.619024   0.0   \n",
       "min      7.000000   1.000000    7.225000   0.000000   0.000000   1.0   \n",
       "25%    171.500000   2.000000   15.900000   0.000000   1.000000   1.0   \n",
       "50%    435.000000   3.000000   26.250000   0.000000   2.000000   1.0   \n",
       "75%    705.500000   3.000000   32.193750   1.000000   2.000000   1.0   \n",
       "max    875.000000   3.000000  211.337500   1.000000   2.000000   1.0   \n",
       "\n",
       "          alone_       fare_  survived_  \n",
       "count  83.000000   83.000000  83.000000  \n",
       "mean    0.072289  133.674699   0.590361  \n",
       "std     0.260540   48.886905   0.494757  \n",
       "min     0.000000   16.000000   0.000000  \n",
       "25%     0.000000  107.000000   0.000000  \n",
       "50%     0.000000  139.000000   1.000000  \n",
       "75%     0.000000  160.500000   1.000000  \n",
       "max     1.000000  239.000000   1.000000  "
      ]
     },
     "execution_count": 17,
     "metadata": {},
     "output_type": "execute_result"
    }
   ],
   "source": [
    "df[df.who=='child'].describe()"
   ]
  },
  {
   "cell_type": "markdown",
   "metadata": {},
   "source": [
    "# 1.Overview Titanic"
   ]
  },
  {
   "cell_type": "code",
   "execution_count": 18,
   "metadata": {},
   "outputs": [
    {
     "data": {
      "text/html": [
       "<div>\n",
       "<style scoped>\n",
       "    .dataframe tbody tr th:only-of-type {\n",
       "        vertical-align: middle;\n",
       "    }\n",
       "\n",
       "    .dataframe tbody tr th {\n",
       "        vertical-align: top;\n",
       "    }\n",
       "\n",
       "    .dataframe thead th {\n",
       "        text-align: right;\n",
       "    }\n",
       "</style>\n",
       "<table border=\"1\" class=\"dataframe\">\n",
       "  <thead>\n",
       "    <tr style=\"text-align: right;\">\n",
       "      <th></th>\n",
       "      <th>survived</th>\n",
       "      <th>pclass</th>\n",
       "      <th>sex</th>\n",
       "      <th>age</th>\n",
       "      <th>sibsp</th>\n",
       "      <th>parch</th>\n",
       "      <th>fare</th>\n",
       "      <th>embarked</th>\n",
       "      <th>class</th>\n",
       "      <th>who</th>\n",
       "      <th>adult_male</th>\n",
       "      <th>deck</th>\n",
       "      <th>embark_town</th>\n",
       "      <th>alive</th>\n",
       "      <th>alone</th>\n",
       "    </tr>\n",
       "  </thead>\n",
       "  <tbody>\n",
       "    <tr>\n",
       "      <th>0</th>\n",
       "      <td>0</td>\n",
       "      <td>3</td>\n",
       "      <td>male</td>\n",
       "      <td>22.0</td>\n",
       "      <td>1</td>\n",
       "      <td>0</td>\n",
       "      <td>7.2500</td>\n",
       "      <td>S</td>\n",
       "      <td>Third</td>\n",
       "      <td>man</td>\n",
       "      <td>True</td>\n",
       "      <td>NaN</td>\n",
       "      <td>Southampton</td>\n",
       "      <td>no</td>\n",
       "      <td>False</td>\n",
       "    </tr>\n",
       "    <tr>\n",
       "      <th>1</th>\n",
       "      <td>1</td>\n",
       "      <td>1</td>\n",
       "      <td>female</td>\n",
       "      <td>38.0</td>\n",
       "      <td>1</td>\n",
       "      <td>0</td>\n",
       "      <td>71.2833</td>\n",
       "      <td>C</td>\n",
       "      <td>First</td>\n",
       "      <td>woman</td>\n",
       "      <td>False</td>\n",
       "      <td>C</td>\n",
       "      <td>Cherbourg</td>\n",
       "      <td>yes</td>\n",
       "      <td>False</td>\n",
       "    </tr>\n",
       "    <tr>\n",
       "      <th>2</th>\n",
       "      <td>1</td>\n",
       "      <td>3</td>\n",
       "      <td>female</td>\n",
       "      <td>26.0</td>\n",
       "      <td>0</td>\n",
       "      <td>0</td>\n",
       "      <td>7.9250</td>\n",
       "      <td>S</td>\n",
       "      <td>Third</td>\n",
       "      <td>woman</td>\n",
       "      <td>False</td>\n",
       "      <td>NaN</td>\n",
       "      <td>Southampton</td>\n",
       "      <td>yes</td>\n",
       "      <td>True</td>\n",
       "    </tr>\n",
       "    <tr>\n",
       "      <th>3</th>\n",
       "      <td>1</td>\n",
       "      <td>1</td>\n",
       "      <td>female</td>\n",
       "      <td>35.0</td>\n",
       "      <td>1</td>\n",
       "      <td>0</td>\n",
       "      <td>53.1000</td>\n",
       "      <td>S</td>\n",
       "      <td>First</td>\n",
       "      <td>woman</td>\n",
       "      <td>False</td>\n",
       "      <td>C</td>\n",
       "      <td>Southampton</td>\n",
       "      <td>yes</td>\n",
       "      <td>False</td>\n",
       "    </tr>\n",
       "    <tr>\n",
       "      <th>4</th>\n",
       "      <td>0</td>\n",
       "      <td>3</td>\n",
       "      <td>male</td>\n",
       "      <td>35.0</td>\n",
       "      <td>0</td>\n",
       "      <td>0</td>\n",
       "      <td>8.0500</td>\n",
       "      <td>S</td>\n",
       "      <td>Third</td>\n",
       "      <td>man</td>\n",
       "      <td>True</td>\n",
       "      <td>NaN</td>\n",
       "      <td>Southampton</td>\n",
       "      <td>no</td>\n",
       "      <td>True</td>\n",
       "    </tr>\n",
       "  </tbody>\n",
       "</table>\n",
       "</div>"
      ],
      "text/plain": [
       "   survived  pclass     sex   age  sibsp  parch     fare embarked  class  \\\n",
       "0         0       3    male  22.0      1      0   7.2500        S  Third   \n",
       "1         1       1  female  38.0      1      0  71.2833        C  First   \n",
       "2         1       3  female  26.0      0      0   7.9250        S  Third   \n",
       "3         1       1  female  35.0      1      0  53.1000        S  First   \n",
       "4         0       3    male  35.0      0      0   8.0500        S  Third   \n",
       "\n",
       "     who  adult_male deck  embark_town alive  alone  \n",
       "0    man        True  NaN  Southampton    no  False  \n",
       "1  woman       False    C    Cherbourg   yes  False  \n",
       "2  woman       False  NaN  Southampton   yes   True  \n",
       "3  woman       False    C  Southampton   yes  False  \n",
       "4    man        True  NaN  Southampton    no   True  "
      ]
     },
     "execution_count": 18,
     "metadata": {},
     "output_type": "execute_result"
    }
   ],
   "source": [
    "# data set สำหรับ titanic\n",
    "%matplotlib inline\n",
    "import matplotlib.pyplot as plt\n",
    "import seaborn as sns\n",
    "import pandas as pd\n",
    "import numpy as np\n",
    "\n",
    "df_titanic = sns.load_dataset('titanic')\n",
    "df_titanic .head() # ดูตัวอย่าง 5 ตัวอย่างแรก"
   ]
  },
  {
   "cell_type": "code",
   "execution_count": 19,
   "metadata": {},
   "outputs": [
    {
     "data": {
      "text/plain": [
       "891"
      ]
     },
     "execution_count": 19,
     "metadata": {},
     "output_type": "execute_result"
    }
   ],
   "source": [
    "df_titanic.survived.count() # จำนวนผู้รอดชีวิต"
   ]
  },
  {
   "cell_type": "code",
   "execution_count": 20,
   "metadata": {},
   "outputs": [
    {
     "data": {
      "text/plain": [
       "array([0, 1], dtype=int64)"
      ]
     },
     "execution_count": 20,
     "metadata": {},
     "output_type": "execute_result"
    }
   ],
   "source": [
    "df_titanic.survived.unique() # ชนิดข้อมูล รอด = 1 ไม่รอด = 0"
   ]
  },
  {
   "cell_type": "code",
   "execution_count": 21,
   "metadata": {},
   "outputs": [
    {
     "data": {
      "text/plain": [
       "array([3, 1, 2], dtype=int64)"
      ]
     },
     "execution_count": 21,
     "metadata": {},
     "output_type": "execute_result"
    }
   ],
   "source": [
    "df_titanic.pclass.unique() # passenger class 1 2 3"
   ]
  },
  {
   "cell_type": "code",
   "execution_count": 22,
   "metadata": {},
   "outputs": [
    {
     "data": {
      "text/plain": [
       "array(['male', 'female'], dtype=object)"
      ]
     },
     "execution_count": 22,
     "metadata": {},
     "output_type": "execute_result"
    }
   ],
   "source": [
    "df_titanic.sex.unique() # sex 'male', 'female'"
   ]
  },
  {
   "cell_type": "code",
   "execution_count": 23,
   "metadata": {},
   "outputs": [
    {
     "data": {
      "text/plain": [
       "count    714.000000\n",
       "mean      29.699118\n",
       "std       14.526497\n",
       "min        0.420000\n",
       "25%       20.125000\n",
       "50%       28.000000\n",
       "75%       38.000000\n",
       "max       80.000000\n",
       "Name: age, dtype: float64"
      ]
     },
     "execution_count": 23,
     "metadata": {},
     "output_type": "execute_result"
    }
   ],
   "source": [
    "df_titanic.age.describe() # มีในช่วงอายุ 0.42 ปี - 80 ปี"
   ]
  },
  {
   "cell_type": "code",
   "execution_count": 24,
   "metadata": {},
   "outputs": [
    {
     "data": {
      "text/plain": [
       "array([1, 0, 3, 4, 2, 5, 8], dtype=int64)"
      ]
     },
     "execution_count": 24,
     "metadata": {},
     "output_type": "execute_result"
    }
   ],
   "source": [
    "df_titanic.sibsp.unique() # พี่น้อง / คู่สมรสบนเรือ 0, 1, 2, 3, 4, 5, 8"
   ]
  },
  {
   "cell_type": "code",
   "execution_count": 25,
   "metadata": {},
   "outputs": [
    {
     "data": {
      "text/plain": [
       "array([0, 1, 2, 5, 3, 4, 6], dtype=int64)"
      ]
     },
     "execution_count": 25,
     "metadata": {},
     "output_type": "execute_result"
    }
   ],
   "source": [
    "df_titanic.parch.unique() #  จำนวนผู้ปกครอง / เด็กบนเรือ 0, 1, 2, 5, 3, 4, 6"
   ]
  },
  {
   "cell_type": "code",
   "execution_count": 26,
   "metadata": {},
   "outputs": [
    {
     "data": {
      "text/plain": [
       "count    891.000000\n",
       "mean      32.204208\n",
       "std       49.693429\n",
       "min        0.000000\n",
       "25%        7.910400\n",
       "50%       14.454200\n",
       "75%       31.000000\n",
       "max      512.329200\n",
       "Name: fare, dtype: float64"
      ]
     },
     "execution_count": 26,
     "metadata": {},
     "output_type": "execute_result"
    }
   ],
   "source": [
    "df_titanic.fare.describe() # ค่าตั๋วโดยสาร 0 - 512.3292 pound"
   ]
  },
  {
   "cell_type": "code",
   "execution_count": 27,
   "metadata": {},
   "outputs": [
    {
     "data": {
      "text/plain": [
       "array(['S', 'C', 'Q', nan], dtype=object)"
      ]
     },
     "execution_count": 27,
     "metadata": {},
     "output_type": "execute_result"
    }
   ],
   "source": [
    "df_titanic.embarked.unique() # ท่าเรือที่จะลง 'S', 'C', 'Q', nan"
   ]
  },
  {
   "cell_type": "code",
   "execution_count": 28,
   "metadata": {},
   "outputs": [
    {
     "data": {
      "text/plain": [
       "array(['man', 'woman', 'child'], dtype=object)"
      ]
     },
     "execution_count": 28,
     "metadata": {},
     "output_type": "execute_result"
    }
   ],
   "source": [
    "df_titanic.who.unique() # ชนิดของผู้โดยสาร man woman child"
   ]
  },
  {
   "cell_type": "code",
   "execution_count": 29,
   "metadata": {},
   "outputs": [
    {
     "data": {
      "text/plain": [
       "array([ True, False])"
      ]
     },
     "execution_count": 29,
     "metadata": {},
     "output_type": "execute_result"
    }
   ],
   "source": [
    "df_titanic.adult_male.unique() # เป็นผู้ใหญ่ชายใช่หรือไม่ (ใช่)True, (ไม่ใช่)False"
   ]
  },
  {
   "cell_type": "code",
   "execution_count": 30,
   "metadata": {},
   "outputs": [
    {
     "data": {
      "text/plain": [
       "[NaN, C, E, G, D, A, B, F]\n",
       "Categories (7, object): [C, E, G, D, A, B, F]"
      ]
     },
     "execution_count": 30,
     "metadata": {},
     "output_type": "execute_result"
    }
   ],
   "source": [
    "df_titanic.deck.unique() # deck [NaN, C, E, G, D, A, B, F] NaN บริเวณที่อยู่ ณ ตอนเกิดเหตุ"
   ]
  },
  {
   "cell_type": "code",
   "execution_count": 31,
   "metadata": {},
   "outputs": [
    {
     "data": {
      "text/plain": [
       "array(['no', 'yes'], dtype=object)"
      ]
     },
     "execution_count": 31,
     "metadata": {},
     "output_type": "execute_result"
    }
   ],
   "source": [
    "df_titanic.alive.unique() # มีชีวิตอยุ่หรือไม่ มี(yes) ไม่มี(no)"
   ]
  },
  {
   "cell_type": "code",
   "execution_count": 32,
   "metadata": {},
   "outputs": [
    {
     "data": {
      "text/plain": [
       "array([False,  True])"
      ]
     },
     "execution_count": 32,
     "metadata": {},
     "output_type": "execute_result"
    }
   ],
   "source": [
    "df_titanic.alone.unique() # มาตัวคนเดียวใช่หรือไม่ (ใช่)True, (ไม่ใช่)False"
   ]
  },
  {
   "cell_type": "code",
   "execution_count": null,
   "metadata": {},
   "outputs": [],
   "source": []
  },
  {
   "cell_type": "markdown",
   "metadata": {},
   "source": [
    "RMS Titanic เป็นเรือโดยสารซึ่งจมลงสู่ก้นมหาสมุทรแอตแลนติกเมื่อวันที่ 15 เมษายน ค.ศ. 1912 หลังชนภูเขาน้ำแข็งระหว่างการเดินทางเที่ยวแรกจากเซาท์แทมป์ตัน สหราชอาณาจักร ไปนครนิวยอร์ก สหรัฐอเมริกาารจมของไททานิก ส่งผลให้มีผู้เสียชีวิต 551 ศพ (เก็บข้อมูลได้ 891 คน) ข้อมูลที่เก็บได้ประกอบไปด้้วย ผู้รอดชีวิต(survived) รอด(1) ไม่รอด(0) บริเวณที่อยู่ ณ ตอนเกิดเหตุ ชั้น A-F และ NaN(ไม่ทราบตำแหน่ง) ชั้นที่พักอาศัย(pclass) ชั้นหนึ่ง (First Class=1) ชั้นสอง (Second class=2) ชั้นสาม (Third class=3), เพศ(sex) ชาย(male) หญิง(Female) มีในช่วงอายุ(age) 0.42 ปี - 80 ปี, พี่น้อง/คู่สมรสบนเรือ(sibsp) 0, 1, 2, 3, 4, 5, 8 , จำนวนผู้ปกครอง/เด็ก(parch)บนเรือ 0, 1, 2, 5, 3, 4, 6 , ค่าตั๋วโดยสาร 0 - 512.3292 pound, ท่าเรือ(embarked)ที่จะลง 'S', 'C', 'Q', nan(ไม่มีข้อมูล)"
   ]
  },
  {
   "cell_type": "code",
   "execution_count": 33,
   "metadata": {},
   "outputs": [
    {
     "data": {
      "text/html": [
       "<div>\n",
       "<style scoped>\n",
       "    .dataframe tbody tr th:only-of-type {\n",
       "        vertical-align: middle;\n",
       "    }\n",
       "\n",
       "    .dataframe tbody tr th {\n",
       "        vertical-align: top;\n",
       "    }\n",
       "\n",
       "    .dataframe thead th {\n",
       "        text-align: right;\n",
       "    }\n",
       "</style>\n",
       "<table border=\"1\" class=\"dataframe\">\n",
       "  <thead>\n",
       "    <tr style=\"text-align: right;\">\n",
       "      <th></th>\n",
       "      <th>Unnamed: 0</th>\n",
       "      <th>sex</th>\n",
       "      <th>pclass</th>\n",
       "      <th>who</th>\n",
       "      <th>alone</th>\n",
       "      <th>fare</th>\n",
       "      <th>sex_</th>\n",
       "      <th>pclass_</th>\n",
       "      <th>who_</th>\n",
       "      <th>alone_</th>\n",
       "      <th>fare_</th>\n",
       "      <th>survived_</th>\n",
       "    </tr>\n",
       "  </thead>\n",
       "  <tbody>\n",
       "    <tr>\n",
       "      <th>0</th>\n",
       "      <td>0</td>\n",
       "      <td>male</td>\n",
       "      <td>3</td>\n",
       "      <td>adult</td>\n",
       "      <td>False</td>\n",
       "      <td>7.2500</td>\n",
       "      <td>1</td>\n",
       "      <td>2</td>\n",
       "      <td>0</td>\n",
       "      <td>0</td>\n",
       "      <td>18</td>\n",
       "      <td>0</td>\n",
       "    </tr>\n",
       "    <tr>\n",
       "      <th>1</th>\n",
       "      <td>1</td>\n",
       "      <td>female</td>\n",
       "      <td>1</td>\n",
       "      <td>adult</td>\n",
       "      <td>False</td>\n",
       "      <td>71.2833</td>\n",
       "      <td>0</td>\n",
       "      <td>0</td>\n",
       "      <td>0</td>\n",
       "      <td>0</td>\n",
       "      <td>207</td>\n",
       "      <td>1</td>\n",
       "    </tr>\n",
       "    <tr>\n",
       "      <th>2</th>\n",
       "      <td>2</td>\n",
       "      <td>female</td>\n",
       "      <td>3</td>\n",
       "      <td>adult</td>\n",
       "      <td>True</td>\n",
       "      <td>7.9250</td>\n",
       "      <td>0</td>\n",
       "      <td>2</td>\n",
       "      <td>0</td>\n",
       "      <td>1</td>\n",
       "      <td>41</td>\n",
       "      <td>1</td>\n",
       "    </tr>\n",
       "    <tr>\n",
       "      <th>3</th>\n",
       "      <td>3</td>\n",
       "      <td>female</td>\n",
       "      <td>1</td>\n",
       "      <td>adult</td>\n",
       "      <td>False</td>\n",
       "      <td>53.1000</td>\n",
       "      <td>0</td>\n",
       "      <td>0</td>\n",
       "      <td>0</td>\n",
       "      <td>0</td>\n",
       "      <td>189</td>\n",
       "      <td>1</td>\n",
       "    </tr>\n",
       "    <tr>\n",
       "      <th>4</th>\n",
       "      <td>4</td>\n",
       "      <td>male</td>\n",
       "      <td>3</td>\n",
       "      <td>adult</td>\n",
       "      <td>True</td>\n",
       "      <td>8.0500</td>\n",
       "      <td>1</td>\n",
       "      <td>2</td>\n",
       "      <td>0</td>\n",
       "      <td>1</td>\n",
       "      <td>43</td>\n",
       "      <td>0</td>\n",
       "    </tr>\n",
       "  </tbody>\n",
       "</table>\n",
       "</div>"
      ],
      "text/plain": [
       "   Unnamed: 0     sex  pclass    who  alone     fare  sex_  pclass_  who_  \\\n",
       "0           0    male       3  adult  False   7.2500     1        2     0   \n",
       "1           1  female       1  adult  False  71.2833     0        0     0   \n",
       "2           2  female       3  adult   True   7.9250     0        2     0   \n",
       "3           3  female       1  adult  False  53.1000     0        0     0   \n",
       "4           4    male       3  adult   True   8.0500     1        2     0   \n",
       "\n",
       "   alone_  fare_  survived_  \n",
       "0       0     18          0  \n",
       "1       0    207          1  \n",
       "2       1     41          1  \n",
       "3       0    189          1  \n",
       "4       1     43          0  "
      ]
     },
     "execution_count": 33,
     "metadata": {},
     "output_type": "execute_result"
    }
   ],
   "source": [
    "# หลังทำ data mart โดยเลือก Feature 5 feature ด้วยวิธี Feature selection: Univariate Selection\n",
    "import pandas as pd\n",
    "import numpy as np\n",
    "uri = 'Titanic_sc_data.csv'\n",
    "df_after = pd.read_csv(uri)\n",
    "df_after.head()"
   ]
  },
  {
   "cell_type": "markdown",
   "metadata": {},
   "source": [
    "Feature ที่สำคัญ\n",
    "'sex_', 'pclass_', 'who_', 'alone_', 'fare'"
   ]
  },
  {
   "cell_type": "code",
   "execution_count": 34,
   "metadata": {},
   "outputs": [
    {
     "data": {
      "text/plain": [
       "Unnamed: 0    889\n",
       "sex           889\n",
       "pclass        889\n",
       "who           889\n",
       "alone         889\n",
       "fare          889\n",
       "sex_          889\n",
       "pclass_       889\n",
       "who_          889\n",
       "alone_        889\n",
       "fare_         889\n",
       "survived_     889\n",
       "dtype: int64"
      ]
     },
     "execution_count": 34,
     "metadata": {},
     "output_type": "execute_result"
    }
   ],
   "source": [
    "df.count() # กำจัด missing value ไป 2 คน # มีผู้โดยสารรวมลูกเรือที่เก็บข้อมูลได้ 891คน"
   ]
  },
  {
   "cell_type": "code",
   "execution_count": 35,
   "metadata": {},
   "outputs": [
    {
     "name": "stdout",
     "output_type": "stream",
     "text": [
      "ผู้รอดชีวิตคิดเป็น 38.25 %\n"
     ]
    }
   ],
   "source": [
    "# ดูผู้รอดชีวิต 340 คน จาก 889 คน\n",
    "survived_p1 = df.pclass.loc[(df.survived_==1)].count()\n",
    "# คิดเป็น\n",
    "print('ผู้รอดชีวิตคิดเป็น {:.2f} %'.format(survived_p1/df.survived_.count()*100))"
   ]
  },
  {
   "cell_type": "code",
   "execution_count": 36,
   "metadata": {},
   "outputs": [
    {
     "data": {
      "image/png": "[encoded data removed]",
      "text/plain": [
       "<Figure size 432x288 with 1 Axes>"
      ]
     },
     "metadata": {
      "needs_background": "light"
     },
     "output_type": "display_data"
    }
   ],
   "source": [
    "# แบ่งผู้โดยสารตามชั้นที่ผู้โดยสารอยู่\n",
    "import pandas as pd\n",
    "import seaborn as sns\n",
    "\n",
    "plt.rcParams.update({'font.size':15, 'font.family':'tahoma'}) #ขนาดและรูปแบบอักษร\n",
    "\n",
    "y_p1 = df.pclass.loc[(df.survived_==1) & (df.pclass==1)].count().round(2)\n",
    "y_p2 = df.pclass.loc[(df.survived_==1) & (df.pclass==2)].count().round(2)\n",
    "y_p3 = df.pclass.loc[(df.survived_==1) & (df.pclass==3)].count().round(2)\n",
    "n = df.survived_.count()\n",
    "x = ['1', '2', '3']\n",
    "y = [y_p1/n*100, y_p2/n*100, y_p3/n*100]\n",
    "fig=plt.figure()\n",
    "ax=fig.add_axes([0,0,1,1])\n",
    "ax.bar(x, y)\n",
    "ax.scatter(x, y, color='r')\n",
    "\n",
    "plt.xlabel('ช้ันที่ผู้โดยสารอยู่')\n",
    "plt.ylabel('อัตราผู้รอดชีวิต(จากทั้งหมด)')\n",
    "plt.title('ร้อยละของผู้รอดชีวิตในแต่ละชั้น')\n",
    "plt.ylim(0,100)\n",
    "\n",
    "for tx,ty in list(zip(x, y)):\n",
    "    plt.annotate( \n",
    "                '{:.2f} %'.format(ty),           # ข้อความกำกับจุด           \n",
    "                (tx,ty),                       # ตำแหน่ง\n",
    "                textcoords=\"offset points\",    # ระบุการเยื้องตำแหน่ง offset\n",
    "                xytext=(0,8),                  # ระยะเยื้องตำแหน่งจาก points (x,y)\n",
    "                ha = 'center',                 # จัดตำแห่งตรงกลาง\n",
    "                fontsize = 12\n",
    "                )                 # ขนาดอักษร\n",
    "    \n",
    "plt.show()"
   ]
  },
  {
   "cell_type": "code",
   "execution_count": 37,
   "metadata": {},
   "outputs": [
    {
     "data": {
      "image/png": "[encoded data removed]",
      "text/plain": [
       "<Figure size 432x288 with 1 Axes>"
      ]
     },
     "metadata": {
      "needs_background": "light"
     },
     "output_type": "display_data"
    }
   ],
   "source": [
    "# แบ่งผู้โดยสารตามชั้นที่ผู้โดยสารอยู่\n",
    "import pandas as pd\n",
    "import seaborn as sns\n",
    "\n",
    "plt.rcParams.update({'font.size':15, 'font.family':'tahoma'}) #ขนาดและรูปแบบอักษร\n",
    "\n",
    "y_p1 = df.pclass.loc[(df.survived_==1) & (df.pclass==1)].count().round(2)\n",
    "y_p2 = df.pclass.loc[(df.survived_==1) & (df.pclass==2)].count().round(2)\n",
    "y_p3 = df.pclass.loc[(df.survived_==1) & (df.pclass==3)].count().round(2)\n",
    "n = df.pclass.loc[(df.survived_==1)].count()\n",
    "x = ['1', '2', '3']\n",
    "y = [y_p1, y_p2, y_p3]\n",
    "fig=plt.figure()\n",
    "ax=fig.add_axes([0,0,1,1])\n",
    "ax.bar(x, y)\n",
    "ax.scatter(x, y, color='r')\n",
    "\n",
    "plt.xlabel('ช้ันที่ผู้โดยสารอยู่')\n",
    "plt.ylabel('ผู้รอดชีวิต(จากผู้รอดชีวิต 340 คน)')\n",
    "plt.title('ผู้รอดชีวิตในแต่ละชั้น')\n",
    "plt.ylim(0, n)\n",
    "\n",
    "for tx,ty in list(zip(x, y)):\n",
    "    plt.annotate( \n",
    "                '{} คน'.format(ty),           # ข้อความกำกับจุด           \n",
    "                (tx,ty),                       # ตำแหน่ง\n",
    "                textcoords=\"offset points\",    # ระบุการเยื้องตำแหน่ง offset\n",
    "                xytext=(0,8),                  # ระยะเยื้องตำแหน่งจาก points (x,y)\n",
    "                ha = 'center',                 # จัดตำแห่งตรงกลาง\n",
    "                fontsize = 12\n",
    "                )                 # ขนาดอักษร\n",
    "    \n",
    "plt.show()"
   ]
  },
  {
   "cell_type": "code",
   "execution_count": 38,
   "metadata": {},
   "outputs": [
    {
     "data": {
      "image/png": "[encoded data removed]",
      "text/plain": [
       "<Figure size 432x288 with 1 Axes>"
      ]
     },
     "metadata": {
      "needs_background": "light"
     },
     "output_type": "display_data"
    }
   ],
   "source": [
    "# แบ่งผู้โดยสารตามชั้นที่ผู้โดยสารอยู่\n",
    "import pandas as pd\n",
    "import seaborn as sns\n",
    "\n",
    "plt.rcParams.update({'font.size':15, 'font.family':'tahoma'}) #ขนาดและรูปแบบอักษร\n",
    "\n",
    "y_p1 = df.pclass.loc[(df.survived_==1) & (df.pclass==1)].count().round(2)\n",
    "y_p2 = df.pclass.loc[(df.survived_==1) & (df.pclass==2)].count().round(2)\n",
    "y_p3 = df.pclass.loc[(df.survived_==1) & (df.pclass==3)].count().round(2)\n",
    "n = df.pclass.loc[(df.survived_==1)].count()\n",
    "x = ['1', '2', '3']\n",
    "y = [y_p1/n*100, y_p2/n*100, y_p3/n*100]\n",
    "fig=plt.figure()\n",
    "ax=fig.add_axes([0,0,1,1])\n",
    "ax.bar(x, y)\n",
    "ax.scatter(x, y, color='r')\n",
    "\n",
    "plt.xlabel('ช้ันที่ผู้โดยสารอยู่')\n",
    "plt.ylabel('อัตราผู้รอดชีวิต(จากผู้รอดชีวิต 340 คน)')\n",
    "plt.title('ร้อยละของผู้รอดชีวิตในแต่ละชั้น')\n",
    "plt.ylim(0,100)\n",
    "\n",
    "for tx,ty in list(zip(x, y)):\n",
    "    plt.annotate( \n",
    "                '{:.2f} %'.format(ty),           # ข้อความกำกับจุด           \n",
    "                (tx,ty),                       # ตำแหน่ง\n",
    "                textcoords=\"offset points\",    # ระบุการเยื้องตำแหน่ง offset\n",
    "                xytext=(0,8),                  # ระยะเยื้องตำแหน่งจาก points (x,y)\n",
    "                ha = 'center',                 # จัดตำแห่งตรงกลาง\n",
    "                fontsize = 12\n",
    "                )                 # ขนาดอักษร\n",
    "    \n",
    "plt.show()"
   ]
  },
  {
   "cell_type": "markdown",
   "metadata": {},
   "source": [
    "ผู้รอดชีวิตในผู้โดยสารชั้นที่ 1 สูงสุดคิดจากผู้รอดชีวิต 340 คน คิดเป็นร้อยละ 39.41 (134 คน จาก340 คน) หรือคิดเป็นร้อยละ 15.07 (134 คน จาก889 คน)"
   ]
  },
  {
   "cell_type": "raw",
   "metadata": {},
   "source": [
    "urvived\tpclass\tsex\tage\tsibsp\tparch\tfare\tembarked\tclass\twho\tadult_male\tdeck\tembark_town\talive\talone"
   ]
  },
  {
   "cell_type": "code",
   "execution_count": 39,
   "metadata": {},
   "outputs": [
    {
     "data": {
      "image/png": "[encoded data removed]",
      "text/plain": [
       "<Figure size 432x288 with 1 Axes>"
      ]
     },
     "metadata": {
      "needs_background": "light"
     },
     "output_type": "display_data"
    }
   ],
   "source": [
    "# แบ่งผู้โดยสารตามชั้นที่ผู้โดยสารอยู่\n",
    "import pandas as pd\n",
    "import seaborn as sns\n",
    "\n",
    "plt.rcParams.update({'font.size':15, 'font.family':'tahoma'}) #ขนาดและรูปแบบอักษร\n",
    "\n",
    "y_p1 = df.pclass.loc[(df.survived_==1) & (df.pclass==1)].count().round(2)\n",
    "y_p2 = df.pclass.loc[(df.survived_==1) & (df.pclass==2)].count().round(2)\n",
    "y_p3 = df.pclass.loc[(df.survived_==1) & (df.pclass==3)].count().round(2)\n",
    "n = df.pclass.loc[(df.survived_==1)].count()\n",
    "x = ['1', '2', '3']\n",
    "y = [y_p1/n*100, y_p2/n*100, y_p3/n*100]\n",
    "fig=plt.figure()\n",
    "ax=fig.add_axes([0,0,1,1])\n",
    "ax.bar(x, y)\n",
    "ax.scatter(x, y, color='r')\n",
    "\n",
    "plt.xlabel('ช้ันที่ผู้โดยสารอยู่')\n",
    "plt.ylabel('อัตราผู้รอดชีวิต(จากผู้รอดชีวิต 340 คน)')\n",
    "plt.title('ร้อยละของผู้รอดชีวิตในแต่ละชั้น')\n",
    "plt.ylim(0,100)\n",
    "\n",
    "for tx,ty in list(zip(x, y)):\n",
    "    plt.annotate( \n",
    "                '{:.2f} %'.format(ty),           # ข้อความกำกับจุด           \n",
    "                (tx,ty),                       # ตำแหน่ง\n",
    "                textcoords=\"offset points\",    # ระบุการเยื้องตำแหน่ง offset\n",
    "                xytext=(0,8),                  # ระยะเยื้องตำแหน่งจาก points (x,y)\n",
    "                ha = 'center',                 # จัดตำแห่งตรงกลาง\n",
    "                fontsize = 12\n",
    "                )                 # ขนาดอักษร\n",
    "    \n",
    "plt.show()"
   ]
  },
  {
   "cell_type": "markdown",
   "metadata": {},
   "source": [
    "# แบ่งผู้โดยสารตามชั้นที่ผู้โดยสารอยู่ + เพศ (ชาย[0] หญิง[1])"
   ]
  },
  {
   "cell_type": "code",
   "execution_count": 40,
   "metadata": {},
   "outputs": [
    {
     "data": {
      "image/png": "[encoded data removed]",
      "text/plain": [
       "<Figure size 432x288 with 1 Axes>"
      ]
     },
     "metadata": {
      "needs_background": "light"
     },
     "output_type": "display_data"
    }
   ],
   "source": [
    "import pandas as pd\n",
    "import seaborn as sns\n",
    "\n",
    "plt.rcParams.update({'font.size':12, 'font.family':'tahoma'}) #ขนาดและรูปแบบอักษร\n",
    "\n",
    "y_p1_sex_M = df.pclass.loc[(df.survived_==1) & (df.pclass==1) & (df.sex_==0)].count().round(2) # พล็อตบาร์\n",
    "y_p1_sex_FM = df.pclass.loc[(df.survived_==1) & (df.pclass==1) & (df.sex_==1)].count().round(2) # พล็อตบาร์ \n",
    "y_p2_sex_M = df.pclass.loc[(df.survived_==1) & (df.pclass==2) & (df.sex_==0)].count().round(2)\n",
    "y_p2_sex_FM = df.pclass.loc[(df.survived_==1) & (df.pclass==2) & (df.sex_==1)].count().round(2)\n",
    "y_p3_sex_M = df.pclass.loc[(df.survived_==1) & (df.pclass==3) & (df.sex_==0)].count().round(2)\n",
    "y_p3_sex_FM = df.pclass.loc[(df.survived_==1) & (df.pclass==3) & (df.sex_==1)].count().round(2)\n",
    "n = df.pclass.loc[(df.survived_==1)].count()\n",
    "x1 = [1, 2, 3]\n",
    "x2 = [1.2, 2.2, 3.2]\n",
    "y_sex_M = [y_p1_sex_M/n*100, y_p2_sex_M/n*100,  y_p3_sex_M/n*100]\n",
    "y_sex_FM = [ y_p1_sex_FM/n*100, y_p2_sex_FM/n*100, y_p3_sex_FM/n*100]\n",
    "\n",
    "plt.grid(linestyle = '--', axis = 'y') #แสดงเส้นกริดเฉพาะแกน y\n",
    "plt.bar(x1, y_sex_M, color = 'c', width = 0.5 ) # c = cyan\n",
    "plt.bar([x2 for x2 in x2], #ระยะขยับกราฟแต่ละแท่ง\n",
    "            y_sex_FM, width = 0.5, color = 'orange' ,alpha=0.9 )\n",
    "\n",
    "\n",
    "plt.legend(labels = ['ผู้ชาย', 'ผู้หญิง'])\n",
    "plt.xlabel('ช้ันที่ผู้โดยสารอยู่')\n",
    "plt.ylabel('อัตราผู้รอดชีวิต(จากผู้รอดชีวิต 340 คน)')\n",
    "plt.title('ร้อยละของผู้รอดชีวิตในแต่ละชั้น')\n",
    "plt.ylim(0,100)\n",
    "\n",
    "for tx,ty in list(zip(x1, y_sex_M)):\n",
    "    plt.annotate( \n",
    "                '{:.2f} %'.format(ty),           # ข้อความกำกับจุด           \n",
    "                (tx,ty),                       # ตำแหน่ง\n",
    "                textcoords=\"offset points\",    # ระบุการเยื้องตำแหน่ง offset\n",
    "                xytext=(0,8),                  # ระยะเยื้องตำแหน่งจาก points (x,y)\n",
    "                ha = 'center',                 # จัดตำแห่งตรงกลาง\n",
    "                fontsize = 12\n",
    "                )                 # ขนาดอักษร\n",
    "    \n",
    "for tx,ty in list(zip(x2, y_sex_FM)):\n",
    "    plt.annotate( \n",
    "                '{:.2f} %'.format(ty),           # ข้อความกำกับจุด           \n",
    "                (tx,ty),                       # ตำแหน่ง\n",
    "                textcoords=\"offset points\",    # ระบุการเยื้องตำแหน่ง offset\n",
    "                xytext=(0,8),                  # ระยะเยื้องตำแหน่งจาก points (x,y)\n",
    "                ha = 'center',                 # จัดตำแห่งตรงกลาง\n",
    "                fontsize = 12\n",
    "                )                 # ขนาดอักษร\n",
    "    \n",
    "plt.show()"
   ]
  },
  {
   "cell_type": "code",
   "execution_count": 41,
   "metadata": {},
   "outputs": [
    {
     "data": {
      "text/html": [
       "<div>\n",
       "<style scoped>\n",
       "    .dataframe tbody tr th:only-of-type {\n",
       "        vertical-align: middle;\n",
       "    }\n",
       "\n",
       "    .dataframe tbody tr th {\n",
       "        vertical-align: top;\n",
       "    }\n",
       "\n",
       "    .dataframe thead th {\n",
       "        text-align: right;\n",
       "    }\n",
       "</style>\n",
       "<table border=\"1\" class=\"dataframe\">\n",
       "  <thead>\n",
       "    <tr style=\"text-align: right;\">\n",
       "      <th></th>\n",
       "      <th>Unnamed: 0</th>\n",
       "      <th>pclass</th>\n",
       "      <th>fare</th>\n",
       "      <th>sex_</th>\n",
       "      <th>pclass_</th>\n",
       "      <th>who_</th>\n",
       "      <th>alone_</th>\n",
       "      <th>fare_</th>\n",
       "      <th>survived_</th>\n",
       "    </tr>\n",
       "  </thead>\n",
       "  <tbody>\n",
       "    <tr>\n",
       "      <th>count</th>\n",
       "      <td>340.000000</td>\n",
       "      <td>340.000000</td>\n",
       "      <td>340.000000</td>\n",
       "      <td>340.000000</td>\n",
       "      <td>340.000000</td>\n",
       "      <td>340.000000</td>\n",
       "      <td>340.000000</td>\n",
       "      <td>340.000000</td>\n",
       "      <td>340.0</td>\n",
       "    </tr>\n",
       "    <tr>\n",
       "      <th>mean</th>\n",
       "      <td>443.358824</td>\n",
       "      <td>1.955882</td>\n",
       "      <td>48.209498</td>\n",
       "      <td>0.320588</td>\n",
       "      <td>0.955882</td>\n",
       "      <td>0.144118</td>\n",
       "      <td>0.473529</td>\n",
       "      <td>134.335294</td>\n",
       "      <td>1.0</td>\n",
       "    </tr>\n",
       "    <tr>\n",
       "      <th>std</th>\n",
       "      <td>251.377692</td>\n",
       "      <td>0.862763</td>\n",
       "      <td>66.748773</td>\n",
       "      <td>0.467391</td>\n",
       "      <td>0.862763</td>\n",
       "      <td>0.351727</td>\n",
       "      <td>0.500035</td>\n",
       "      <td>69.437474</td>\n",
       "      <td>0.0</td>\n",
       "    </tr>\n",
       "    <tr>\n",
       "      <th>min</th>\n",
       "      <td>1.000000</td>\n",
       "      <td>1.000000</td>\n",
       "      <td>0.000000</td>\n",
       "      <td>0.000000</td>\n",
       "      <td>0.000000</td>\n",
       "      <td>0.000000</td>\n",
       "      <td>0.000000</td>\n",
       "      <td>0.000000</td>\n",
       "      <td>1.0</td>\n",
       "    </tr>\n",
       "    <tr>\n",
       "      <th>25%</th>\n",
       "      <td>253.250000</td>\n",
       "      <td>1.000000</td>\n",
       "      <td>12.443750</td>\n",
       "      <td>0.000000</td>\n",
       "      <td>0.000000</td>\n",
       "      <td>0.000000</td>\n",
       "      <td>0.000000</td>\n",
       "      <td>80.750000</td>\n",
       "      <td>1.0</td>\n",
       "    </tr>\n",
       "    <tr>\n",
       "      <th>50%</th>\n",
       "      <td>438.500000</td>\n",
       "      <td>2.000000</td>\n",
       "      <td>26.000000</td>\n",
       "      <td>0.000000</td>\n",
       "      <td>1.000000</td>\n",
       "      <td>0.000000</td>\n",
       "      <td>0.000000</td>\n",
       "      <td>138.000000</td>\n",
       "      <td>1.0</td>\n",
       "    </tr>\n",
       "    <tr>\n",
       "      <th>75%</th>\n",
       "      <td>649.500000</td>\n",
       "      <td>3.000000</td>\n",
       "      <td>56.946900</td>\n",
       "      <td>1.000000</td>\n",
       "      <td>2.000000</td>\n",
       "      <td>0.000000</td>\n",
       "      <td>1.000000</td>\n",
       "      <td>194.250000</td>\n",
       "      <td>1.0</td>\n",
       "    </tr>\n",
       "    <tr>\n",
       "      <th>max</th>\n",
       "      <td>889.000000</td>\n",
       "      <td>3.000000</td>\n",
       "      <td>512.329200</td>\n",
       "      <td>1.000000</td>\n",
       "      <td>2.000000</td>\n",
       "      <td>1.000000</td>\n",
       "      <td>1.000000</td>\n",
       "      <td>246.000000</td>\n",
       "      <td>1.0</td>\n",
       "    </tr>\n",
       "  </tbody>\n",
       "</table>\n",
       "</div>"
      ],
      "text/plain": [
       "       Unnamed: 0      pclass        fare        sex_     pclass_        who_  \\\n",
       "count  340.000000  340.000000  340.000000  340.000000  340.000000  340.000000   \n",
       "mean   443.358824    1.955882   48.209498    0.320588    0.955882    0.144118   \n",
       "std    251.377692    0.862763   66.748773    0.467391    0.862763    0.351727   \n",
       "min      1.000000    1.000000    0.000000    0.000000    0.000000    0.000000   \n",
       "25%    253.250000    1.000000   12.443750    0.000000    0.000000    0.000000   \n",
       "50%    438.500000    2.000000   26.000000    0.000000    1.000000    0.000000   \n",
       "75%    649.500000    3.000000   56.946900    1.000000    2.000000    0.000000   \n",
       "max    889.000000    3.000000  512.329200    1.000000    2.000000    1.000000   \n",
       "\n",
       "           alone_       fare_  survived_  \n",
       "count  340.000000  340.000000      340.0  \n",
       "mean     0.473529  134.335294        1.0  \n",
       "std      0.500035   69.437474        0.0  \n",
       "min      0.000000    0.000000        1.0  \n",
       "25%      0.000000   80.750000        1.0  \n",
       "50%      0.000000  138.000000        1.0  \n",
       "75%      1.000000  194.250000        1.0  \n",
       "max      1.000000  246.000000        1.0  "
      ]
     },
     "execution_count": 41,
     "metadata": {},
     "output_type": "execute_result"
    }
   ],
   "source": [
    "df[df.survived_== 1].describe()"
   ]
  },
  {
   "cell_type": "markdown",
   "metadata": {},
   "source": [
    "# แบ่งผู้โดยสารตามชั้นที่ผู้โดยสารอยู่ + เป็นใคร (เด็ก[1] หรือ ผู้ใหญ่[0])"
   ]
  },
  {
   "cell_type": "code",
   "execution_count": 42,
   "metadata": {},
   "outputs": [
    {
     "data": {
      "image/png": "[encoded data removed]",
      "text/plain": [
       "<Figure size 432x288 with 1 Axes>"
      ]
     },
     "metadata": {
      "needs_background": "light"
     },
     "output_type": "display_data"
    }
   ],
   "source": [
    "import pandas as pd\n",
    "import seaborn as sns\n",
    "\n",
    "plt.rcParams.update({'font.size':12, 'font.family':'tahoma'}) #ขนาดและรูปแบบอักษร\n",
    "\n",
    "y_p1_who_adult = df.pclass.loc[(df.survived_==1) & (df.pclass==1) & (df.who_==0)].count().round(2) # พล็อตบาร์\n",
    "y_p1_who_child = df.pclass.loc[(df.survived_==1) & (df.pclass==1) & (df.who_==1)].count().round(2) # พล็อตบาร์ \n",
    "y_p2_who_adult = df.pclass.loc[(df.survived_==1) & (df.pclass==2) & (df.who_==0)].count().round(2)\n",
    "y_p2_who_child = df.pclass.loc[(df.survived_==1) & (df.pclass==2) & (df.who_==1)].count().round(2)\n",
    "y_p3_who_adult = df.pclass.loc[(df.survived_==1) & (df.pclass==3) & (df.who_==0)].count().round(2)\n",
    "y_p3_who_child = df.pclass.loc[(df.survived_==1) & (df.pclass==3) & (df.who_==1)].count().round(2)\n",
    "n = df.pclass.loc[(df.survived_==1)].count()\n",
    "x1 = [1, 2, 3]\n",
    "x2 = [1.2, 2.2, 3.2]\n",
    "y_who_adult = [y_p1_who_adult/n*100, y_p2_who_adult/n*100, y_p3_who_adult/n*100]\n",
    "y_who_child = [y_p1_who_child/n*100, y_p2_who_child/n*100, y_p1_who_child/n*100]\n",
    "\n",
    "plt.grid(linestyle = '--', axis = 'y') #แสดงเส้นกริดเฉพาะแกน y\n",
    "plt.bar(x1, y_who_adult, color = 'c', width = 0.5 ) # c = cyan\n",
    "plt.bar([x2 for x2 in x2], #ระยะขยับกราฟแต่ละแท่ง\n",
    "            y_who_child, width = 0.5, color = 'orange' ,alpha=0.9 )\n",
    "\n",
    "\n",
    "plt.legend(labels = ['ผู้ใหญ๋', 'เด็ก'])\n",
    "plt.xlabel('ช้ันที่ผู้โดยสารอยู่')\n",
    "plt.ylabel('อัตราผู้รอดชีวิต(จากผู้รอดชีวิต 340 คน)')\n",
    "plt.title('ร้อยละของผู้รอดชีวิตในแต่ละชั้น')\n",
    "plt.ylim(0,100)\n",
    "\n",
    "for tx,ty in list(zip(x1, y_who_adult)):\n",
    "    plt.annotate( \n",
    "                '{:.2f} %'.format(ty),           # ข้อความกำกับจุด           \n",
    "                (tx,ty),                       # ตำแหน่ง\n",
    "                textcoords=\"offset points\",    # ระบุการเยื้องตำแหน่ง offset\n",
    "                xytext=(0,8),                  # ระยะเยื้องตำแหน่งจาก points (x,y)\n",
    "                ha = 'center',                 # จัดตำแห่งตรงกลาง\n",
    "                fontsize = 12\n",
    "                )                 # ขนาดอักษร\n",
    "    \n",
    "for tx,ty in list(zip(x2, y_who_child)):\n",
    "    plt.annotate( \n",
    "                '{:.2f} %'.format(ty),           # ข้อความกำกับจุด           \n",
    "                (tx,ty),                       # ตำแหน่ง\n",
    "                textcoords=\"offset points\",    # ระบุการเยื้องตำแหน่ง offset\n",
    "                xytext=(0,8),                  # ระยะเยื้องตำแหน่งจาก points (x,y)\n",
    "                ha = 'center',                 # จัดตำแห่งตรงกลาง\n",
    "                fontsize = 12\n",
    "                )                 # ขนาดอักษร\n",
    "    \n",
    "plt.show()"
   ]
  },
  {
   "cell_type": "markdown",
   "metadata": {},
   "source": [
    "# แบ่งผู้โดยสารตามชั้นที่ผู้โดยสารอยู่ + อยู่คนเดียว (ใช่[1] หรือ ไม่ใช่[0])"
   ]
  },
  {
   "cell_type": "code",
   "execution_count": 43,
   "metadata": {},
   "outputs": [
    {
     "data": {
      "text/html": [
       "<div>\n",
       "<style scoped>\n",
       "    .dataframe tbody tr th:only-of-type {\n",
       "        vertical-align: middle;\n",
       "    }\n",
       "\n",
       "    .dataframe tbody tr th {\n",
       "        vertical-align: top;\n",
       "    }\n",
       "\n",
       "    .dataframe thead th {\n",
       "        text-align: right;\n",
       "    }\n",
       "</style>\n",
       "<table border=\"1\" class=\"dataframe\">\n",
       "  <thead>\n",
       "    <tr style=\"text-align: right;\">\n",
       "      <th></th>\n",
       "      <th>Unnamed: 0</th>\n",
       "      <th>sex</th>\n",
       "      <th>pclass</th>\n",
       "      <th>who</th>\n",
       "      <th>alone</th>\n",
       "      <th>fare</th>\n",
       "      <th>sex_</th>\n",
       "      <th>pclass_</th>\n",
       "      <th>who_</th>\n",
       "      <th>alone_</th>\n",
       "      <th>fare_</th>\n",
       "      <th>survived_</th>\n",
       "    </tr>\n",
       "  </thead>\n",
       "  <tbody>\n",
       "    <tr>\n",
       "      <th>0</th>\n",
       "      <td>0</td>\n",
       "      <td>male</td>\n",
       "      <td>3</td>\n",
       "      <td>adult</td>\n",
       "      <td>False</td>\n",
       "      <td>7.2500</td>\n",
       "      <td>1</td>\n",
       "      <td>2</td>\n",
       "      <td>0</td>\n",
       "      <td>0</td>\n",
       "      <td>18</td>\n",
       "      <td>0</td>\n",
       "    </tr>\n",
       "    <tr>\n",
       "      <th>1</th>\n",
       "      <td>1</td>\n",
       "      <td>female</td>\n",
       "      <td>1</td>\n",
       "      <td>adult</td>\n",
       "      <td>False</td>\n",
       "      <td>71.2833</td>\n",
       "      <td>0</td>\n",
       "      <td>0</td>\n",
       "      <td>0</td>\n",
       "      <td>0</td>\n",
       "      <td>207</td>\n",
       "      <td>1</td>\n",
       "    </tr>\n",
       "    <tr>\n",
       "      <th>2</th>\n",
       "      <td>2</td>\n",
       "      <td>female</td>\n",
       "      <td>3</td>\n",
       "      <td>adult</td>\n",
       "      <td>True</td>\n",
       "      <td>7.9250</td>\n",
       "      <td>0</td>\n",
       "      <td>2</td>\n",
       "      <td>0</td>\n",
       "      <td>1</td>\n",
       "      <td>41</td>\n",
       "      <td>1</td>\n",
       "    </tr>\n",
       "    <tr>\n",
       "      <th>3</th>\n",
       "      <td>3</td>\n",
       "      <td>female</td>\n",
       "      <td>1</td>\n",
       "      <td>adult</td>\n",
       "      <td>False</td>\n",
       "      <td>53.1000</td>\n",
       "      <td>0</td>\n",
       "      <td>0</td>\n",
       "      <td>0</td>\n",
       "      <td>0</td>\n",
       "      <td>189</td>\n",
       "      <td>1</td>\n",
       "    </tr>\n",
       "    <tr>\n",
       "      <th>4</th>\n",
       "      <td>4</td>\n",
       "      <td>male</td>\n",
       "      <td>3</td>\n",
       "      <td>adult</td>\n",
       "      <td>True</td>\n",
       "      <td>8.0500</td>\n",
       "      <td>1</td>\n",
       "      <td>2</td>\n",
       "      <td>0</td>\n",
       "      <td>1</td>\n",
       "      <td>43</td>\n",
       "      <td>0</td>\n",
       "    </tr>\n",
       "  </tbody>\n",
       "</table>\n",
       "</div>"
      ],
      "text/plain": [
       "   Unnamed: 0     sex  pclass    who  alone     fare  sex_  pclass_  who_  \\\n",
       "0           0    male       3  adult  False   7.2500     1        2     0   \n",
       "1           1  female       1  adult  False  71.2833     0        0     0   \n",
       "2           2  female       3  adult   True   7.9250     0        2     0   \n",
       "3           3  female       1  adult  False  53.1000     0        0     0   \n",
       "4           4    male       3  adult   True   8.0500     1        2     0   \n",
       "\n",
       "   alone_  fare_  survived_  \n",
       "0       0     18          0  \n",
       "1       0    207          1  \n",
       "2       1     41          1  \n",
       "3       0    189          1  \n",
       "4       1     43          0  "
      ]
     },
     "execution_count": 43,
     "metadata": {},
     "output_type": "execute_result"
    }
   ],
   "source": [
    "df_after.head()"
   ]
  },
  {
   "cell_type": "code",
   "execution_count": 44,
   "metadata": {},
   "outputs": [
    {
     "data": {
      "image/png": "[encoded data removed]",
      "text/plain": [
       "<Figure size 432x288 with 1 Axes>"
      ]
     },
     "metadata": {
      "needs_background": "light"
     },
     "output_type": "display_data"
    }
   ],
   "source": [
    "import pandas as pd\n",
    "import seaborn as sns\n",
    "\n",
    "plt.rcParams.update({'font.size':12, 'font.family':'tahoma'}) #ขนาดและรูปแบบอักษร\n",
    "\n",
    "y_p1_alone_no  = df.pclass.loc[(df.survived_==1) & (df.pclass==1) & (df.alone_==0)].count().round(2) # พล็อตบาร์\n",
    "y_p1_alone_yes = df.pclass.loc[(df.survived_==1) & (df.pclass==1) & (df.alone_==1)].count().round(2) # พล็อตบาร์ \n",
    "y_p2_alone_no  = df.pclass.loc[(df.survived_==1) & (df.pclass==2) & (df.alone_==0)].count().round(2)\n",
    "y_p2_alone_yes = df.pclass.loc[(df.survived_==1) & (df.pclass==2) & (df.alone_==1)].count().round(2)\n",
    "y_p3_alone_no  = df.pclass.loc[(df.survived_==1) & (df.pclass==3) & (df.alone_==0)].count().round(2)\n",
    "y_p3_alone_yes = df.pclass.loc[(df.survived_==1) & (df.pclass==3) & (df.alone_==1)].count().round(2)\n",
    "n = df.pclass.loc[(df.survived_==1)].count()\n",
    "x1 = [1, 2, 3]\n",
    "x2 = [1.2, 2.2, 3.2]\n",
    "y_alone_no  = [y_p1_alone_no/n*100, y_p2_alone_no/n*100, y_p3_alone_no/n*100]\n",
    "y_alone_yes = [y_p1_alone_yes/n*100, y_p2_alone_yes/n*100, y_p3_alone_yes/n*100]\n",
    "\n",
    "plt.grid(linestyle = '--', axis = 'y') #แสดงเส้นกริดเฉพาะแกน y\n",
    "plt.bar(x1, y_alone_no, color = 'c', width = 0.5 ) # c = cyan\n",
    "plt.bar([x2 for x2 in x2], #ระยะขยับกราฟแต่ละแท่ง\n",
    "            y_alone_yes, width = 0.5, color = 'orange' ,alpha=0.9 )\n",
    "\n",
    "\n",
    "plt.legend(labels = ['อยู่คนเดียว', 'ไม่ได้อยู่คนเดียว'])\n",
    "plt.xlabel('ช้ันที่ผู้โดยสารอยู่')\n",
    "plt.ylabel('อัตราผู้รอดชีวิต(จากผู้รอดชีวิต 340 คน)')\n",
    "plt.title('ร้อยละของผู้รอดชีวิตในแต่ละชั้น')\n",
    "plt.ylim(0,100)\n",
    "\n",
    "for tx,ty in list(zip(x1, y_alone_no)):\n",
    "    plt.annotate( \n",
    "                '{:.2f} %'.format(ty),           # ข้อความกำกับจุด           \n",
    "                (tx,ty),                       # ตำแหน่ง\n",
    "                textcoords=\"offset points\",    # ระบุการเยื้องตำแหน่ง offset\n",
    "                xytext=(0,8),                  # ระยะเยื้องตำแหน่งจาก points (x,y)\n",
    "                ha = 'center',                 # จัดตำแห่งตรงกลาง\n",
    "                fontsize = 12\n",
    "                )                 # ขนาดอักษร\n",
    "    \n",
    "for tx,ty in list(zip(x2, y_alone_yes)):\n",
    "    plt.annotate( \n",
    "                '{:.2f} %'.format(ty),           # ข้อความกำกับจุด           \n",
    "                (tx,ty),                       # ตำแหน่ง\n",
    "                textcoords=\"offset points\",    # ระบุการเยื้องตำแหน่ง offset\n",
    "                xytext=(0,8),                  # ระยะเยื้องตำแหน่งจาก points (x,y)\n",
    "                ha = 'center',                 # จัดตำแห่งตรงกลาง\n",
    "                fontsize = 12\n",
    "                )                 # ขนาดอักษร\n",
    "    \n",
    "plt.show()"
   ]
  },
  {
   "cell_type": "code",
   "execution_count": 45,
   "metadata": {},
   "outputs": [
    {
     "data": {
      "text/html": [
       "<div>\n",
       "<style scoped>\n",
       "    .dataframe tbody tr th:only-of-type {\n",
       "        vertical-align: middle;\n",
       "    }\n",
       "\n",
       "    .dataframe tbody tr th {\n",
       "        vertical-align: top;\n",
       "    }\n",
       "\n",
       "    .dataframe thead th {\n",
       "        text-align: right;\n",
       "    }\n",
       "</style>\n",
       "<table border=\"1\" class=\"dataframe\">\n",
       "  <thead>\n",
       "    <tr style=\"text-align: right;\">\n",
       "      <th></th>\n",
       "      <th>Unnamed: 0</th>\n",
       "      <th>sex</th>\n",
       "      <th>pclass</th>\n",
       "      <th>who</th>\n",
       "      <th>alone</th>\n",
       "      <th>fare</th>\n",
       "      <th>sex_</th>\n",
       "      <th>pclass_</th>\n",
       "      <th>who_</th>\n",
       "      <th>alone_</th>\n",
       "      <th>fare_</th>\n",
       "      <th>survived_</th>\n",
       "    </tr>\n",
       "  </thead>\n",
       "  <tbody>\n",
       "    <tr>\n",
       "      <th>0</th>\n",
       "      <td>0</td>\n",
       "      <td>male</td>\n",
       "      <td>3</td>\n",
       "      <td>adult</td>\n",
       "      <td>False</td>\n",
       "      <td>7.2500</td>\n",
       "      <td>1</td>\n",
       "      <td>2</td>\n",
       "      <td>0</td>\n",
       "      <td>0</td>\n",
       "      <td>18</td>\n",
       "      <td>0</td>\n",
       "    </tr>\n",
       "    <tr>\n",
       "      <th>1</th>\n",
       "      <td>1</td>\n",
       "      <td>female</td>\n",
       "      <td>1</td>\n",
       "      <td>adult</td>\n",
       "      <td>False</td>\n",
       "      <td>71.2833</td>\n",
       "      <td>0</td>\n",
       "      <td>0</td>\n",
       "      <td>0</td>\n",
       "      <td>0</td>\n",
       "      <td>207</td>\n",
       "      <td>1</td>\n",
       "    </tr>\n",
       "    <tr>\n",
       "      <th>2</th>\n",
       "      <td>2</td>\n",
       "      <td>female</td>\n",
       "      <td>3</td>\n",
       "      <td>adult</td>\n",
       "      <td>True</td>\n",
       "      <td>7.9250</td>\n",
       "      <td>0</td>\n",
       "      <td>2</td>\n",
       "      <td>0</td>\n",
       "      <td>1</td>\n",
       "      <td>41</td>\n",
       "      <td>1</td>\n",
       "    </tr>\n",
       "    <tr>\n",
       "      <th>3</th>\n",
       "      <td>3</td>\n",
       "      <td>female</td>\n",
       "      <td>1</td>\n",
       "      <td>adult</td>\n",
       "      <td>False</td>\n",
       "      <td>53.1000</td>\n",
       "      <td>0</td>\n",
       "      <td>0</td>\n",
       "      <td>0</td>\n",
       "      <td>0</td>\n",
       "      <td>189</td>\n",
       "      <td>1</td>\n",
       "    </tr>\n",
       "    <tr>\n",
       "      <th>4</th>\n",
       "      <td>4</td>\n",
       "      <td>male</td>\n",
       "      <td>3</td>\n",
       "      <td>adult</td>\n",
       "      <td>True</td>\n",
       "      <td>8.0500</td>\n",
       "      <td>1</td>\n",
       "      <td>2</td>\n",
       "      <td>0</td>\n",
       "      <td>1</td>\n",
       "      <td>43</td>\n",
       "      <td>0</td>\n",
       "    </tr>\n",
       "  </tbody>\n",
       "</table>\n",
       "</div>"
      ],
      "text/plain": [
       "   Unnamed: 0     sex  pclass    who  alone     fare  sex_  pclass_  who_  \\\n",
       "0           0    male       3  adult  False   7.2500     1        2     0   \n",
       "1           1  female       1  adult  False  71.2833     0        0     0   \n",
       "2           2  female       3  adult   True   7.9250     0        2     0   \n",
       "3           3  female       1  adult  False  53.1000     0        0     0   \n",
       "4           4    male       3  adult   True   8.0500     1        2     0   \n",
       "\n",
       "   alone_  fare_  survived_  \n",
       "0       0     18          0  \n",
       "1       0    207          1  \n",
       "2       1     41          1  \n",
       "3       0    189          1  \n",
       "4       1     43          0  "
      ]
     },
     "execution_count": 45,
     "metadata": {},
     "output_type": "execute_result"
    }
   ],
   "source": [
    "df_after.head()"
   ]
  },
  {
   "cell_type": "markdown",
   "metadata": {},
   "source": [
    "# แบ่งผู้โดยสารตามชั้นที่ผู้โดยสารอยู่ + ค่าตั๋วโดยสารแต่ละชั้น"
   ]
  },
  {
   "cell_type": "markdown",
   "metadata": {},
   "source": [
    "- ราคา กับ การรอดชีวิต"
   ]
  },
  {
   "cell_type": "code",
   "execution_count": 83,
   "metadata": {},
   "outputs": [],
   "source": [
    "# ข้อมูล\n",
    "# เริ่มจากสร้างข้อมูล ตัวอย่างนี้ใช้ Numpy\n",
    "import numpy as np\n",
    "import matplotlib.pyplot as plt\n",
    "\n",
    "x_survived_fare   = df.fare.loc[(df.survived_==1)]\n",
    "x_unsurvived_fare = df.fare.loc[(df.survived_==0)]\n",
    "\n",
    "y_survived   = df.survived_.loc[(df.survived_==1)]\n",
    "y_unsurvived = df.survived_.loc[(df.survived_==0)]"
   ]
  },
  {
   "cell_type": "code",
   "execution_count": 84,
   "metadata": {},
   "outputs": [
    {
     "data": {
      "image/png": "[encoded data removed]",
      "text/plain": [
       "<Figure size 432x288 with 1 Axes>"
      ]
     },
     "metadata": {
      "needs_background": "light"
     },
     "output_type": "display_data"
    }
   ],
   "source": [
    "# หรือใช้ Slicing ดูข้อมูลส่วนที่ต้องการได้  5-ตัวสุดท้าย\n",
    "plt.scatter(y_survived, x_survived_fare)\n",
    "plt.scatter(y_unsurvived, x_unsurvived_fare)\n",
    "plt.title('Faring')\n",
    "plt.ylabel('Fare')\n",
    "plt.xlabel('Result(1:survived, 0:unsurvived)')\n",
    "plt.grid()\n",
    "plt.show()"
   ]
  },
  {
   "cell_type": "markdown",
   "metadata": {},
   "source": [
    "- ชั้นที่ 1 "
   ]
  },
  {
   "cell_type": "code",
   "execution_count": 85,
   "metadata": {},
   "outputs": [],
   "source": [
    "# ข้อมูล\n",
    "# เริ่มจากสร้างข้อมูล ตัวอย่างนี้ใช้ Numpy\n",
    "import numpy as np\n",
    "import matplotlib.pyplot as plt\n",
    "\n",
    "x_pclass1_survived_fare   = df.fare.loc[(df.survived_==1) & (df.pclass==1)]\n",
    "x_pclass1_unsurvived_fare = df.fare.loc[(df.survived_==0) & (df.pclass==1)]\n",
    "\n",
    "y_survived   = df.survived_.loc[(df.survived_==1) & (df.pclass==1)]\n",
    "y_unsurvived = df.survived_.loc[(df.survived_==0) & (df.pclass==1)]\n"
   ]
  },
  {
   "cell_type": "code",
   "execution_count": 86,
   "metadata": {},
   "outputs": [
    {
     "data": {
      "text/plain": [
       "1      71.2833\n",
       "3      53.1000\n",
       "11     26.5500\n",
       "23     35.5000\n",
       "31    146.5208\n",
       "52     76.7292\n",
       "Name: fare, dtype: float64"
      ]
     },
     "execution_count": 86,
     "metadata": {},
     "output_type": "execute_result"
    }
   ],
   "source": [
    "x_pclass1_survived_fare[:6]"
   ]
  },
  {
   "cell_type": "code",
   "execution_count": 87,
   "metadata": {},
   "outputs": [
    {
     "data": {
      "text/plain": [
       "1     1\n",
       "3     1\n",
       "11    1\n",
       "23    1\n",
       "31    1\n",
       "52    1\n",
       "Name: survived_, dtype: int64"
      ]
     },
     "execution_count": 87,
     "metadata": {},
     "output_type": "execute_result"
    }
   ],
   "source": [
    "y_survived[:6]"
   ]
  },
  {
   "cell_type": "code",
   "execution_count": 88,
   "metadata": {},
   "outputs": [
    {
     "data": {
      "image/png": "[encoded data removed]",
      "text/plain": [
       "<Figure size 432x288 with 1 Axes>"
      ]
     },
     "metadata": {
      "needs_background": "light"
     },
     "output_type": "display_data"
    }
   ],
   "source": [
    "# หรือใช้ Slicing ดูข้อมูลส่วนที่ต้องการได้  5-ตัวสุดท้าย\n",
    "plt.scatter(y_survived, x_pclass1_survived_fare)\n",
    "plt.scatter(y_unsurvived, x_pclass1_unsurvived_fare)\n",
    "plt.title('Faring')\n",
    "plt.ylabel('Fare')\n",
    "plt.xlabel('Result(1:survived, 0:unsurvived)')\n",
    "plt.grid()\n",
    "plt.show()"
   ]
  },
  {
   "cell_type": "markdown",
   "metadata": {},
   "source": [
    "- ชั้นที่ 2 "
   ]
  },
  {
   "cell_type": "code",
   "execution_count": 89,
   "metadata": {},
   "outputs": [],
   "source": [
    "# ข้อมูล\n",
    "# เริ่มจากสร้างข้อมูล ตัวอย่างนี้ใช้ Numpy\n",
    "import numpy as np\n",
    "import matplotlib.pyplot as plt\n",
    "\n",
    "x_pclass2_survived_fare   = df.fare.loc[(df.survived_==1) & (df.pclass==2)]\n",
    "x_pclass2_unsurvived_fare = df.fare.loc[(df.survived_==0) & (df.pclass==2)]\n",
    "\n",
    "y_survived   = df.survived_.loc[(df.survived_==1) & (df.pclass==2)]\n",
    "y_unsurvived = df.survived_.loc[(df.survived_==0) & (df.pclass==2)]"
   ]
  },
  {
   "cell_type": "code",
   "execution_count": 90,
   "metadata": {},
   "outputs": [
    {
     "data": {
      "image/png": "[encoded data removed]",
      "text/plain": [
       "<Figure size 432x288 with 1 Axes>"
      ]
     },
     "metadata": {
      "needs_background": "light"
     },
     "output_type": "display_data"
    }
   ],
   "source": [
    "# หรือใช้ Slicing ดูข้อมูลส่วนที่ต้องการได้  5-ตัวสุดท้าย\n",
    "plt.scatter(y_survived, x_pclass2_survived_fare)\n",
    "plt.scatter(y_unsurvived, x_pclass2_unsurvived_fare)\n",
    "plt.title('Faring')\n",
    "plt.ylabel('Fare')\n",
    "plt.xlabel('Result(1:survived, 0:unsurvived)')\n",
    "plt.grid()\n",
    "plt.show()"
   ]
  },
  {
   "cell_type": "markdown",
   "metadata": {},
   "source": [
    "- ชั้นที่ 3"
   ]
  },
  {
   "cell_type": "code",
   "execution_count": 91,
   "metadata": {},
   "outputs": [],
   "source": [
    "# ข้อมูล\n",
    "# เริ่มจากสร้างข้อมูล ตัวอย่างนี้ใช้ Numpy\n",
    "import numpy as np\n",
    "import matplotlib.pyplot as plt\n",
    "\n",
    "x_pclass3_survived_fare   = df.fare.loc[(df.survived_==1) & (df.pclass==3)]\n",
    "x_pclass3_unsurvived_fare = df.fare.loc[(df.survived_==0) & (df.pclass==3)]\n",
    "\n",
    "y_survived   = df.survived_.loc[(df.survived_==1) & (df.pclass==3)]\n",
    "y_unsurvived = df.survived_.loc[(df.survived_==0) & (df.pclass==3)]"
   ]
  },
  {
   "cell_type": "code",
   "execution_count": 92,
   "metadata": {},
   "outputs": [
    {
     "data": {
      "image/png": "[encoded data removed]",
      "text/plain": [
       "<Figure size 432x288 with 1 Axes>"
      ]
     },
     "metadata": {
      "needs_background": "light"
     },
     "output_type": "display_data"
    }
   ],
   "source": [
    "# หรือใช้ Slicing ดูข้อมูลส่วนที่ต้องการได้  5-ตัวสุดท้าย\n",
    "plt.scatter(y_survived, x_pclass3_survived_fare)\n",
    "plt.scatter(y_unsurvived, x_pclass3_unsurvived_fare)\n",
    "plt.title('Faring')\n",
    "plt.ylabel('Fare')\n",
    "plt.xlabel('Result(1:survived, 0:unsurvived)')\n",
    "plt.grid()\n",
    "plt.show()"
   ]
  },
  {
   "cell_type": "code",
   "execution_count": null,
   "metadata": {},
   "outputs": [],
   "source": []
  }
 ],
 "metadata": {
  "kernelspec": {
   "display_name": "Python 3",
   "language": "python",
   "name": "python3"
  },
  "language_info": {
   "codemirror_mode": {
    "name": "ipython",
    "version": 3
   },
   "file_extension": ".py",
   "mimetype": "text/x-python",
   "name": "python",
   "nbconvert_exporter": "python",
   "pygments_lexer": "ipython3",
   "version": "3.7.6"
  }
 },
 "nbformat": 4,
 "nbformat_minor": 4
}
