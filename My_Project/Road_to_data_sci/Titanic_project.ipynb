{
 "cells": [
  {
   "cell_type": "markdown",
   "metadata": {},
   "source": [
    "# โหลดข้อมูลและตรวจสอบเบื้องต้น"
   ]
  },
  {
   "cell_type": "code",
   "execution_count": 1,
   "metadata": {},
   "outputs": [
    {
     "data": {
      "text/html": [
       "<div>\n",
       "<style scoped>\n",
       "    .dataframe tbody tr th:only-of-type {\n",
       "        vertical-align: middle;\n",
       "    }\n",
       "\n",
       "    .dataframe tbody tr th {\n",
       "        vertical-align: top;\n",
       "    }\n",
       "\n",
       "    .dataframe thead th {\n",
       "        text-align: right;\n",
       "    }\n",
       "</style>\n",
       "<table border=\"1\" class=\"dataframe\">\n",
       "  <thead>\n",
       "    <tr style=\"text-align: right;\">\n",
       "      <th></th>\n",
       "      <th>survived</th>\n",
       "      <th>pclass</th>\n",
       "      <th>sex</th>\n",
       "      <th>age</th>\n",
       "      <th>sibsp</th>\n",
       "      <th>parch</th>\n",
       "      <th>fare</th>\n",
       "      <th>embarked</th>\n",
       "      <th>class</th>\n",
       "      <th>who</th>\n",
       "      <th>adult_male</th>\n",
       "      <th>deck</th>\n",
       "      <th>embark_town</th>\n",
       "      <th>alive</th>\n",
       "      <th>alone</th>\n",
       "    </tr>\n",
       "  </thead>\n",
       "  <tbody>\n",
       "    <tr>\n",
       "      <th>292</th>\n",
       "      <td>0</td>\n",
       "      <td>2</td>\n",
       "      <td>male</td>\n",
       "      <td>36.0</td>\n",
       "      <td>0</td>\n",
       "      <td>0</td>\n",
       "      <td>12.875</td>\n",
       "      <td>C</td>\n",
       "      <td>Second</td>\n",
       "      <td>man</td>\n",
       "      <td>True</td>\n",
       "      <td>D</td>\n",
       "      <td>Cherbourg</td>\n",
       "      <td>no</td>\n",
       "      <td>True</td>\n",
       "    </tr>\n",
       "    <tr>\n",
       "      <th>649</th>\n",
       "      <td>1</td>\n",
       "      <td>3</td>\n",
       "      <td>female</td>\n",
       "      <td>23.0</td>\n",
       "      <td>0</td>\n",
       "      <td>0</td>\n",
       "      <td>7.550</td>\n",
       "      <td>S</td>\n",
       "      <td>Third</td>\n",
       "      <td>woman</td>\n",
       "      <td>False</td>\n",
       "      <td>NaN</td>\n",
       "      <td>Southampton</td>\n",
       "      <td>yes</td>\n",
       "      <td>True</td>\n",
       "    </tr>\n",
       "    <tr>\n",
       "      <th>131</th>\n",
       "      <td>0</td>\n",
       "      <td>3</td>\n",
       "      <td>male</td>\n",
       "      <td>20.0</td>\n",
       "      <td>0</td>\n",
       "      <td>0</td>\n",
       "      <td>7.050</td>\n",
       "      <td>S</td>\n",
       "      <td>Third</td>\n",
       "      <td>man</td>\n",
       "      <td>True</td>\n",
       "      <td>NaN</td>\n",
       "      <td>Southampton</td>\n",
       "      <td>no</td>\n",
       "      <td>True</td>\n",
       "    </tr>\n",
       "    <tr>\n",
       "      <th>555</th>\n",
       "      <td>0</td>\n",
       "      <td>1</td>\n",
       "      <td>male</td>\n",
       "      <td>62.0</td>\n",
       "      <td>0</td>\n",
       "      <td>0</td>\n",
       "      <td>26.550</td>\n",
       "      <td>S</td>\n",
       "      <td>First</td>\n",
       "      <td>man</td>\n",
       "      <td>True</td>\n",
       "      <td>NaN</td>\n",
       "      <td>Southampton</td>\n",
       "      <td>no</td>\n",
       "      <td>True</td>\n",
       "    </tr>\n",
       "    <tr>\n",
       "      <th>619</th>\n",
       "      <td>0</td>\n",
       "      <td>2</td>\n",
       "      <td>male</td>\n",
       "      <td>26.0</td>\n",
       "      <td>0</td>\n",
       "      <td>0</td>\n",
       "      <td>10.500</td>\n",
       "      <td>S</td>\n",
       "      <td>Second</td>\n",
       "      <td>man</td>\n",
       "      <td>True</td>\n",
       "      <td>NaN</td>\n",
       "      <td>Southampton</td>\n",
       "      <td>no</td>\n",
       "      <td>True</td>\n",
       "    </tr>\n",
       "  </tbody>\n",
       "</table>\n",
       "</div>"
      ],
      "text/plain": [
       "     survived  pclass     sex   age  sibsp  parch    fare embarked   class  \\\n",
       "292         0       2    male  36.0      0      0  12.875        C  Second   \n",
       "649         1       3  female  23.0      0      0   7.550        S   Third   \n",
       "131         0       3    male  20.0      0      0   7.050        S   Third   \n",
       "555         0       1    male  62.0      0      0  26.550        S   First   \n",
       "619         0       2    male  26.0      0      0  10.500        S  Second   \n",
       "\n",
       "       who  adult_male deck  embark_town alive  alone  \n",
       "292    man        True    D    Cherbourg    no   True  \n",
       "649  woman       False  NaN  Southampton   yes   True  \n",
       "131    man        True  NaN  Southampton    no   True  \n",
       "555    man        True  NaN  Southampton    no   True  \n",
       "619    man        True  NaN  Southampton    no   True  "
      ]
     },
     "execution_count": 1,
     "metadata": {},
     "output_type": "execute_result"
    }
   ],
   "source": [
    "%matplotlib inline\n",
    "import matplotlib.pyplot as plt\n",
    "import seaborn as sns\n",
    "import pandas as pd\n",
    "import numpy as np\n",
    "\n",
    "df = sns.load_dataset('titanic')\n",
    "df.sample(5) # สุ่มเลือก5ตัวอย่าง"
   ]
  },
  {
   "cell_type": "code",
   "execution_count": 2,
   "metadata": {},
   "outputs": [
    {
     "data": {
      "text/plain": [
       "Index(['survived', 'pclass', 'sex', 'age', 'sibsp', 'parch', 'fare',\n",
       "       'embarked', 'class', 'who', 'adult_male', 'deck', 'embark_town',\n",
       "       'alive', 'alone'],\n",
       "      dtype='object')"
      ]
     },
     "execution_count": 2,
     "metadata": {},
     "output_type": "execute_result"
    }
   ],
   "source": [
    "df.keys()"
   ]
  },
  {
   "cell_type": "code",
   "execution_count": 3,
   "metadata": {},
   "outputs": [
    {
     "name": "stdout",
     "output_type": "stream",
     "text": [
      "<class 'pandas.core.frame.DataFrame'>\n",
      "RangeIndex: 891 entries, 0 to 890\n",
      "Data columns (total 15 columns):\n",
      " #   Column       Non-Null Count  Dtype   \n",
      "---  ------       --------------  -----   \n",
      " 0   survived     891 non-null    int64   \n",
      " 1   pclass       891 non-null    int64   \n",
      " 2   sex          891 non-null    object  \n",
      " 3   age          714 non-null    float64 \n",
      " 4   sibsp        891 non-null    int64   \n",
      " 5   parch        891 non-null    int64   \n",
      " 6   fare         891 non-null    float64 \n",
      " 7   embarked     889 non-null    object  \n",
      " 8   class        891 non-null    category\n",
      " 9   who          891 non-null    object  \n",
      " 10  adult_male   891 non-null    bool    \n",
      " 11  deck         203 non-null    category\n",
      " 12  embark_town  889 non-null    object  \n",
      " 13  alive        891 non-null    object  \n",
      " 14  alone        891 non-null    bool    \n",
      "dtypes: bool(2), category(2), float64(2), int64(4), object(5)\n",
      "memory usage: 80.6+ KB\n"
     ]
    }
   ],
   "source": [
    "df.info() # แสดงรายละเอียดข้อมูล"
   ]
  },
  {
   "cell_type": "code",
   "execution_count": 4,
   "metadata": {},
   "outputs": [
    {
     "data": {
      "text/html": [
       "<div>\n",
       "<style scoped>\n",
       "    .dataframe tbody tr th:only-of-type {\n",
       "        vertical-align: middle;\n",
       "    }\n",
       "\n",
       "    .dataframe tbody tr th {\n",
       "        vertical-align: top;\n",
       "    }\n",
       "\n",
       "    .dataframe thead th {\n",
       "        text-align: right;\n",
       "    }\n",
       "</style>\n",
       "<table border=\"1\" class=\"dataframe\">\n",
       "  <thead>\n",
       "    <tr style=\"text-align: right;\">\n",
       "      <th></th>\n",
       "      <th>survived</th>\n",
       "      <th>pclass</th>\n",
       "      <th>age</th>\n",
       "      <th>sibsp</th>\n",
       "      <th>parch</th>\n",
       "      <th>fare</th>\n",
       "    </tr>\n",
       "  </thead>\n",
       "  <tbody>\n",
       "    <tr>\n",
       "      <th>count</th>\n",
       "      <td>891.00</td>\n",
       "      <td>891.00</td>\n",
       "      <td>714.00</td>\n",
       "      <td>891.00</td>\n",
       "      <td>891.00</td>\n",
       "      <td>891.00</td>\n",
       "    </tr>\n",
       "    <tr>\n",
       "      <th>mean</th>\n",
       "      <td>0.38</td>\n",
       "      <td>2.31</td>\n",
       "      <td>29.70</td>\n",
       "      <td>0.52</td>\n",
       "      <td>0.38</td>\n",
       "      <td>32.20</td>\n",
       "    </tr>\n",
       "    <tr>\n",
       "      <th>std</th>\n",
       "      <td>0.49</td>\n",
       "      <td>0.84</td>\n",
       "      <td>14.53</td>\n",
       "      <td>1.10</td>\n",
       "      <td>0.81</td>\n",
       "      <td>49.69</td>\n",
       "    </tr>\n",
       "    <tr>\n",
       "      <th>min</th>\n",
       "      <td>0.00</td>\n",
       "      <td>1.00</td>\n",
       "      <td>0.42</td>\n",
       "      <td>0.00</td>\n",
       "      <td>0.00</td>\n",
       "      <td>0.00</td>\n",
       "    </tr>\n",
       "    <tr>\n",
       "      <th>25%</th>\n",
       "      <td>0.00</td>\n",
       "      <td>2.00</td>\n",
       "      <td>20.12</td>\n",
       "      <td>0.00</td>\n",
       "      <td>0.00</td>\n",
       "      <td>7.91</td>\n",
       "    </tr>\n",
       "    <tr>\n",
       "      <th>50%</th>\n",
       "      <td>0.00</td>\n",
       "      <td>3.00</td>\n",
       "      <td>28.00</td>\n",
       "      <td>0.00</td>\n",
       "      <td>0.00</td>\n",
       "      <td>14.45</td>\n",
       "    </tr>\n",
       "    <tr>\n",
       "      <th>75%</th>\n",
       "      <td>1.00</td>\n",
       "      <td>3.00</td>\n",
       "      <td>38.00</td>\n",
       "      <td>1.00</td>\n",
       "      <td>0.00</td>\n",
       "      <td>31.00</td>\n",
       "    </tr>\n",
       "    <tr>\n",
       "      <th>max</th>\n",
       "      <td>1.00</td>\n",
       "      <td>3.00</td>\n",
       "      <td>80.00</td>\n",
       "      <td>8.00</td>\n",
       "      <td>6.00</td>\n",
       "      <td>512.33</td>\n",
       "    </tr>\n",
       "  </tbody>\n",
       "</table>\n",
       "</div>"
      ],
      "text/plain": [
       "       survived  pclass     age   sibsp   parch    fare\n",
       "count    891.00  891.00  714.00  891.00  891.00  891.00\n",
       "mean       0.38    2.31   29.70    0.52    0.38   32.20\n",
       "std        0.49    0.84   14.53    1.10    0.81   49.69\n",
       "min        0.00    1.00    0.42    0.00    0.00    0.00\n",
       "25%        0.00    2.00   20.12    0.00    0.00    7.91\n",
       "50%        0.00    3.00   28.00    0.00    0.00   14.45\n",
       "75%        1.00    3.00   38.00    1.00    0.00   31.00\n",
       "max        1.00    3.00   80.00    8.00    6.00  512.33"
      ]
     },
     "execution_count": 4,
     "metadata": {},
     "output_type": "execute_result"
    }
   ],
   "source": [
    "df.describe().round(2) # หาค่าสถิติเบื้องต้นทศนิยม 2 ตำแหน่ง"
   ]
  },
  {
   "cell_type": "markdown",
   "metadata": {},
   "source": [
    "# หา Missing data"
   ]
  },
  {
   "cell_type": "code",
   "execution_count": 5,
   "metadata": {},
   "outputs": [
    {
     "data": {
      "text/plain": [
       "survived         0\n",
       "pclass           0\n",
       "sex              0\n",
       "age            177\n",
       "sibsp            0\n",
       "parch            0\n",
       "fare             0\n",
       "embarked         2\n",
       "class            0\n",
       "who              0\n",
       "adult_male       0\n",
       "deck           688\n",
       "embark_town      2\n",
       "alive            0\n",
       "alone            0\n",
       "dtype: int64"
      ]
     },
     "execution_count": 5,
     "metadata": {},
     "output_type": "execute_result"
    }
   ],
   "source": [
    "df.isnull().sum()  # ตรวจหาข้อมูลที่สูญหาย"
   ]
  },
  {
   "cell_type": "code",
   "execution_count": 6,
   "metadata": {},
   "outputs": [
    {
     "data": {
      "text/plain": [
       "survived       False\n",
       "pclass         False\n",
       "sex            False\n",
       "age             True\n",
       "sibsp          False\n",
       "parch          False\n",
       "fare           False\n",
       "embarked        True\n",
       "class          False\n",
       "who            False\n",
       "adult_male     False\n",
       "deck            True\n",
       "embark_town     True\n",
       "alive          False\n",
       "alone          False\n",
       "dtype: bool"
      ]
     },
     "execution_count": 6,
     "metadata": {},
     "output_type": "execute_result"
    }
   ],
   "source": [
    "df.isnull().any() # ตรวจดูว่าcolumunใดมี missing data บ้าง ถ้ามีตอบ True ไม่มีจะตอบ False"
   ]
  },
  {
   "cell_type": "code",
   "execution_count": 7,
   "metadata": {},
   "outputs": [
    {
     "name": "stdout",
     "output_type": "stream",
     "text": [
      "Total cells : 13365\n",
      "Total missing values : 869\n",
      "Missing data overall : 6.502057613168724%\n"
     ]
    }
   ],
   "source": [
    "# ตรวจสอบเปอร์เซ็นต์ของ Missing data\n",
    "missing_count = df.isnull().sum() # จำนวนmissing data\n",
    "\n",
    "total_cells = np.product(df.shape) # ผลคูณ ช่องข้อมูล = column * row\n",
    "total_missing = missing_count.sum() # รวมจำนวนทั้งหมด\n",
    "missing_percent = total_missing/total_cells *100\n",
    "\n",
    "print('Total cells : {}'.format(total_cells))\n",
    "print('Total missing values : {}'.format(total_missing))\n",
    "print('Missing data overall : {}%'.format(missing_percent))"
   ]
  },
  {
   "cell_type": "markdown",
   "metadata": {},
   "source": [
    "# ตรวจสอบ Missing data แต่ละคอลัมน์"
   ]
  },
  {
   "cell_type": "code",
   "execution_count": 8,
   "metadata": {},
   "outputs": [
    {
     "data": {
      "text/plain": [
       "Index(['survived', 'pclass', 'sex', 'age', 'sibsp', 'parch', 'fare',\n",
       "       'embarked', 'class', 'who', 'adult_male', 'deck', 'embark_town',\n",
       "       'alive', 'alone'],\n",
       "      dtype='object')"
      ]
     },
     "execution_count": 8,
     "metadata": {},
     "output_type": "execute_result"
    }
   ],
   "source": [
    "df.columns"
   ]
  },
  {
   "cell_type": "markdown",
   "metadata": {},
   "source": [
    "### การจัดการกับ Missing data มีหลายวิธี ในส่วนนี้ ใช้ 3 วิธี\n",
    "- เติมข้อมูลด้วย ค่าเฉลี่ย หรือ ค่ากลางอื่น\n",
    "- เติมข้อมูลหรือแทนที่ด้วยค่าใดค่าหนึ่ง\n",
    "- ลบแถวหรือคอลัมน์นั้นทิ้งไปเลย (มีข้อเสียคือ ทำให้สูญเสียข้อมูลหายไป)"
   ]
  },
  {
   "cell_type": "markdown",
   "metadata": {},
   "source": [
    "# พิจารณาการจัดการ Missing Data "
   ]
  },
  {
   "cell_type": "markdown",
   "metadata": {},
   "source": [
    "- จัดการ column โดยพิจารณาจาก missing values Ratio "
   ]
  },
  {
   "cell_type": "code",
   "execution_count": 9,
   "metadata": {},
   "outputs": [
    {
     "name": "stdout",
     "output_type": "stream",
     "text": [
      "Total cells : 891\n",
      "Total missing values : 2\n",
      "Missing data overall : 0.22446689113355783%\n"
     ]
    }
   ],
   "source": [
    "# ตรวจสอบเปอร์เซ็นต์ของ Missing data\n",
    "# Embarked\n",
    "missing_count = df.embarked.isnull().sum() # จำนวนmissing data\n",
    "\n",
    "total_cells = np.product(df.embarked.shape) # ผลคูณ ช่องข้อมูล = column * row\n",
    "total_missing = missing_count.sum() # รวมจำนวนทั้งหมด\n",
    "missing_percent = total_missing/total_cells *100\n",
    "\n",
    "print('Total cells : {}'.format(total_cells))\n",
    "print('Total missing values : {}'.format(total_missing))\n",
    "print('Missing data overall : {}%'.format(missing_percent))"
   ]
  },
  {
   "cell_type": "code",
   "execution_count": 10,
   "metadata": {},
   "outputs": [
    {
     "name": "stdout",
     "output_type": "stream",
     "text": [
      "Embark_town\n",
      "Total cells : 891\n",
      "Total missing values : 2\n",
      "Missing data overall : 0.22446689113355783%\n"
     ]
    }
   ],
   "source": [
    "# embark_town\n",
    "missing_count = df.embark_town.isnull().sum() # จำนวนmissing data\n",
    "\n",
    "total_cells = np.product(df.embark_town.shape) # ผลคูณ ช่องข้อมูล = column * row\n",
    "total_missing = missing_count.sum() # รวมจำนวนทั้งหมด\n",
    "missing_percent = total_missing/total_cells *100\n",
    "missing_percent = total_missing/total_cells *100\n",
    "print('Embark_town')\n",
    "print('Total cells : {}'.format(total_cells))\n",
    "print('Total missing values : {}'.format(total_missing))\n",
    "print('Missing data overall : {}%'.format(missing_percent))"
   ]
  },
  {
   "cell_type": "code",
   "execution_count": 11,
   "metadata": {},
   "outputs": [
    {
     "data": {
      "text/plain": [
       "61     NaN\n",
       "829    NaN\n",
       "Name: embarked, dtype: object"
      ]
     },
     "execution_count": 11,
     "metadata": {},
     "output_type": "execute_result"
    }
   ],
   "source": [
    "df.embarked[df.embarked.isnull()] #หาข้อมูลที่เป็น missing data คอลัมน์ embarked"
   ]
  },
  {
   "cell_type": "code",
   "execution_count": 12,
   "metadata": {},
   "outputs": [
    {
     "data": {
      "text/plain": [
       "61     NaN\n",
       "829    NaN\n",
       "Name: embark_town, dtype: object"
      ]
     },
     "execution_count": 12,
     "metadata": {},
     "output_type": "execute_result"
    }
   ],
   "source": [
    "df.embark_town[df.embark_town.isnull()] #หาข้อมูลที่เป็น missing data คอลัมน์ embark_town"
   ]
  },
  {
   "cell_type": "code",
   "execution_count": 13,
   "metadata": {},
   "outputs": [
    {
     "data": {
      "text/plain": [
       "survived       False\n",
       "pclass         False\n",
       "sex            False\n",
       "age             True\n",
       "sibsp          False\n",
       "parch          False\n",
       "fare           False\n",
       "embarked       False\n",
       "class          False\n",
       "who            False\n",
       "adult_male     False\n",
       "deck            True\n",
       "embark_town    False\n",
       "alive          False\n",
       "alone          False\n",
       "dtype: bool"
      ]
     },
     "execution_count": 13,
     "metadata": {},
     "output_type": "execute_result"
    }
   ],
   "source": [
    "# คิดเป็น 0.22 % ตัดข้อมูลrow นี้ได้เกิด missing data ตำแหน่งเดียวกันด้วย\n",
    "cols = ['embarked', 'embark_town']\n",
    "df.dropna(subset=cols, inplace=True) # จัดการเฉพาะ Temp , Humid\n",
    "df.isnull().any() "
   ]
  },
  {
   "cell_type": "markdown",
   "metadata": {},
   "source": [
    "#################### กลับมาดึงข้อมูลหัลงได้ model ที่ดีที่สุดแล้ว ####################"
   ]
  },
  {
   "cell_type": "code",
   "execution_count": 14,
   "metadata": {},
   "outputs": [],
   "source": [
    "df_the_best_model = df"
   ]
  },
  {
   "cell_type": "markdown",
   "metadata": {},
   "source": [
    "#################### กลับมาดึงข้อมูลหัลงได้ model ที่ดีที่สุดแล้ว ####################"
   ]
  },
  {
   "cell_type": "code",
   "execution_count": 15,
   "metadata": {},
   "outputs": [
    {
     "name": "stdout",
     "output_type": "stream",
     "text": [
      "Deck\n",
      "Total cells : 889\n",
      "Total missing values : 688\n",
      "Missing data overall : 77.39032620922384%\n"
     ]
    }
   ],
   "source": [
    "# deck\n",
    "missing_count = df.deck.isnull().sum() # จำนวนmissing data\n",
    "\n",
    "total_cells = np.product(df.deck.shape) # ผลคูณ ช่องข้อมูล = column * row\n",
    "total_missing = missing_count.sum() # รวมจำนวนทั้งหมด\n",
    "missing_percent = total_missing/total_cells *100\n",
    "print('Deck')\n",
    "print('Total cells : {}'.format(total_cells))\n",
    "print('Total missing values : {}'.format(total_missing))\n",
    "print('Missing data overall : {}%'.format(missing_percent))"
   ]
  },
  {
   "cell_type": "code",
   "execution_count": 16,
   "metadata": {},
   "outputs": [
    {
     "data": {
      "text/html": [
       "<div>\n",
       "<style scoped>\n",
       "    .dataframe tbody tr th:only-of-type {\n",
       "        vertical-align: middle;\n",
       "    }\n",
       "\n",
       "    .dataframe tbody tr th {\n",
       "        vertical-align: top;\n",
       "    }\n",
       "\n",
       "    .dataframe thead th {\n",
       "        text-align: right;\n",
       "    }\n",
       "</style>\n",
       "<table border=\"1\" class=\"dataframe\">\n",
       "  <thead>\n",
       "    <tr style=\"text-align: right;\">\n",
       "      <th></th>\n",
       "      <th>survived</th>\n",
       "      <th>pclass</th>\n",
       "      <th>sex</th>\n",
       "      <th>age</th>\n",
       "      <th>sibsp</th>\n",
       "      <th>parch</th>\n",
       "      <th>fare</th>\n",
       "      <th>embarked</th>\n",
       "      <th>class</th>\n",
       "      <th>who</th>\n",
       "      <th>adult_male</th>\n",
       "      <th>embark_town</th>\n",
       "      <th>alive</th>\n",
       "      <th>alone</th>\n",
       "    </tr>\n",
       "  </thead>\n",
       "  <tbody>\n",
       "    <tr>\n",
       "      <th>886</th>\n",
       "      <td>0</td>\n",
       "      <td>2</td>\n",
       "      <td>male</td>\n",
       "      <td>27.0</td>\n",
       "      <td>0</td>\n",
       "      <td>0</td>\n",
       "      <td>13.00</td>\n",
       "      <td>S</td>\n",
       "      <td>Second</td>\n",
       "      <td>man</td>\n",
       "      <td>True</td>\n",
       "      <td>Southampton</td>\n",
       "      <td>no</td>\n",
       "      <td>True</td>\n",
       "    </tr>\n",
       "    <tr>\n",
       "      <th>887</th>\n",
       "      <td>1</td>\n",
       "      <td>1</td>\n",
       "      <td>female</td>\n",
       "      <td>19.0</td>\n",
       "      <td>0</td>\n",
       "      <td>0</td>\n",
       "      <td>30.00</td>\n",
       "      <td>S</td>\n",
       "      <td>First</td>\n",
       "      <td>woman</td>\n",
       "      <td>False</td>\n",
       "      <td>Southampton</td>\n",
       "      <td>yes</td>\n",
       "      <td>True</td>\n",
       "    </tr>\n",
       "    <tr>\n",
       "      <th>888</th>\n",
       "      <td>0</td>\n",
       "      <td>3</td>\n",
       "      <td>female</td>\n",
       "      <td>NaN</td>\n",
       "      <td>1</td>\n",
       "      <td>2</td>\n",
       "      <td>23.45</td>\n",
       "      <td>S</td>\n",
       "      <td>Third</td>\n",
       "      <td>woman</td>\n",
       "      <td>False</td>\n",
       "      <td>Southampton</td>\n",
       "      <td>no</td>\n",
       "      <td>False</td>\n",
       "    </tr>\n",
       "    <tr>\n",
       "      <th>889</th>\n",
       "      <td>1</td>\n",
       "      <td>1</td>\n",
       "      <td>male</td>\n",
       "      <td>26.0</td>\n",
       "      <td>0</td>\n",
       "      <td>0</td>\n",
       "      <td>30.00</td>\n",
       "      <td>C</td>\n",
       "      <td>First</td>\n",
       "      <td>man</td>\n",
       "      <td>True</td>\n",
       "      <td>Cherbourg</td>\n",
       "      <td>yes</td>\n",
       "      <td>True</td>\n",
       "    </tr>\n",
       "    <tr>\n",
       "      <th>890</th>\n",
       "      <td>0</td>\n",
       "      <td>3</td>\n",
       "      <td>male</td>\n",
       "      <td>32.0</td>\n",
       "      <td>0</td>\n",
       "      <td>0</td>\n",
       "      <td>7.75</td>\n",
       "      <td>Q</td>\n",
       "      <td>Third</td>\n",
       "      <td>man</td>\n",
       "      <td>True</td>\n",
       "      <td>Queenstown</td>\n",
       "      <td>no</td>\n",
       "      <td>True</td>\n",
       "    </tr>\n",
       "  </tbody>\n",
       "</table>\n",
       "</div>"
      ],
      "text/plain": [
       "     survived  pclass     sex   age  sibsp  parch   fare embarked   class  \\\n",
       "886         0       2    male  27.0      0      0  13.00        S  Second   \n",
       "887         1       1  female  19.0      0      0  30.00        S   First   \n",
       "888         0       3  female   NaN      1      2  23.45        S   Third   \n",
       "889         1       1    male  26.0      0      0  30.00        C   First   \n",
       "890         0       3    male  32.0      0      0   7.75        Q   Third   \n",
       "\n",
       "       who  adult_male  embark_town alive  alone  \n",
       "886    man        True  Southampton    no   True  \n",
       "887  woman       False  Southampton   yes   True  \n",
       "888  woman       False  Southampton    no  False  \n",
       "889    man        True    Cherbourg   yes   True  \n",
       "890    man        True   Queenstown    no   True  "
      ]
     },
     "execution_count": 16,
     "metadata": {},
     "output_type": "execute_result"
    }
   ],
   "source": [
    "cols = ['deck']\n",
    "df.drop(cols, axis='columns', inplace=True) # ลบคอลัมน์  deck ไป เพราะมีmissingdata เยอะเกินไป\n",
    "df.tail()"
   ]
  },
  {
   "cell_type": "markdown",
   "metadata": {},
   "source": [
    "- แทนที่ Missing data (age) ด้วยค่ากลาง"
   ]
  },
  {
   "cell_type": "code",
   "execution_count": 17,
   "metadata": {},
   "outputs": [
    {
     "data": {
      "text/html": [
       "<div>\n",
       "<style scoped>\n",
       "    .dataframe tbody tr th:only-of-type {\n",
       "        vertical-align: middle;\n",
       "    }\n",
       "\n",
       "    .dataframe tbody tr th {\n",
       "        vertical-align: top;\n",
       "    }\n",
       "\n",
       "    .dataframe thead th {\n",
       "        text-align: right;\n",
       "    }\n",
       "</style>\n",
       "<table border=\"1\" class=\"dataframe\">\n",
       "  <thead>\n",
       "    <tr style=\"text-align: right;\">\n",
       "      <th></th>\n",
       "      <th>survived</th>\n",
       "      <th>pclass</th>\n",
       "      <th>age</th>\n",
       "      <th>sibsp</th>\n",
       "      <th>parch</th>\n",
       "      <th>fare</th>\n",
       "    </tr>\n",
       "  </thead>\n",
       "  <tbody>\n",
       "    <tr>\n",
       "      <th>count</th>\n",
       "      <td>889.00</td>\n",
       "      <td>889.00</td>\n",
       "      <td>712.00</td>\n",
       "      <td>889.00</td>\n",
       "      <td>889.00</td>\n",
       "      <td>889.00</td>\n",
       "    </tr>\n",
       "    <tr>\n",
       "      <th>mean</th>\n",
       "      <td>0.38</td>\n",
       "      <td>2.31</td>\n",
       "      <td>29.64</td>\n",
       "      <td>0.52</td>\n",
       "      <td>0.38</td>\n",
       "      <td>32.10</td>\n",
       "    </tr>\n",
       "    <tr>\n",
       "      <th>std</th>\n",
       "      <td>0.49</td>\n",
       "      <td>0.83</td>\n",
       "      <td>14.49</td>\n",
       "      <td>1.10</td>\n",
       "      <td>0.81</td>\n",
       "      <td>49.70</td>\n",
       "    </tr>\n",
       "    <tr>\n",
       "      <th>min</th>\n",
       "      <td>0.00</td>\n",
       "      <td>1.00</td>\n",
       "      <td>0.42</td>\n",
       "      <td>0.00</td>\n",
       "      <td>0.00</td>\n",
       "      <td>0.00</td>\n",
       "    </tr>\n",
       "    <tr>\n",
       "      <th>25%</th>\n",
       "      <td>0.00</td>\n",
       "      <td>2.00</td>\n",
       "      <td>20.00</td>\n",
       "      <td>0.00</td>\n",
       "      <td>0.00</td>\n",
       "      <td>7.90</td>\n",
       "    </tr>\n",
       "    <tr>\n",
       "      <th>50%</th>\n",
       "      <td>0.00</td>\n",
       "      <td>3.00</td>\n",
       "      <td>28.00</td>\n",
       "      <td>0.00</td>\n",
       "      <td>0.00</td>\n",
       "      <td>14.45</td>\n",
       "    </tr>\n",
       "    <tr>\n",
       "      <th>75%</th>\n",
       "      <td>1.00</td>\n",
       "      <td>3.00</td>\n",
       "      <td>38.00</td>\n",
       "      <td>1.00</td>\n",
       "      <td>0.00</td>\n",
       "      <td>31.00</td>\n",
       "    </tr>\n",
       "    <tr>\n",
       "      <th>max</th>\n",
       "      <td>1.00</td>\n",
       "      <td>3.00</td>\n",
       "      <td>80.00</td>\n",
       "      <td>8.00</td>\n",
       "      <td>6.00</td>\n",
       "      <td>512.33</td>\n",
       "    </tr>\n",
       "  </tbody>\n",
       "</table>\n",
       "</div>"
      ],
      "text/plain": [
       "       survived  pclass     age   sibsp   parch    fare\n",
       "count    889.00  889.00  712.00  889.00  889.00  889.00\n",
       "mean       0.38    2.31   29.64    0.52    0.38   32.10\n",
       "std        0.49    0.83   14.49    1.10    0.81   49.70\n",
       "min        0.00    1.00    0.42    0.00    0.00    0.00\n",
       "25%        0.00    2.00   20.00    0.00    0.00    7.90\n",
       "50%        0.00    3.00   28.00    0.00    0.00   14.45\n",
       "75%        1.00    3.00   38.00    1.00    0.00   31.00\n",
       "max        1.00    3.00   80.00    8.00    6.00  512.33"
      ]
     },
     "execution_count": 17,
     "metadata": {},
     "output_type": "execute_result"
    }
   ],
   "source": [
    "df.describe().round(2)"
   ]
  },
  {
   "cell_type": "code",
   "execution_count": 18,
   "metadata": {},
   "outputs": [
    {
     "data": {
      "text/plain": [
       "array(['man', 'woman', 'child'], dtype=object)"
      ]
     },
     "execution_count": 18,
     "metadata": {},
     "output_type": "execute_result"
    }
   ],
   "source": [
    "# เนื่องจาก อายุมี 'child' ณ column 'who' ด้วยการเติม median or mean ไปตรงๆ ไม่สมเหตุสมผล\n",
    "df.who.unique()"
   ]
  },
  {
   "cell_type": "code",
   "execution_count": 19,
   "metadata": {},
   "outputs": [
    {
     "name": "stdout",
     "output_type": "stream",
     "text": [
      "who child = 83 คน\n",
      "9.34 %\n"
     ]
    }
   ],
   "source": [
    "# ควรเติมอายุเด็ก แยกจาก man and woman ตรวจสอบ % เด็กๆ\n",
    "who_child = df.who[df.who=='child'].count()\n",
    "print('who child = {} คน'.format(who_child))\n",
    "print('{:.2f} %'.format(who_child /df.shape[0]*100))"
   ]
  },
  {
   "cell_type": "code",
   "execution_count": 20,
   "metadata": {},
   "outputs": [],
   "source": [
    "df_child = df[df.who == 'child'] # แยกเด็กออกมาหาค่ากลาง"
   ]
  },
  {
   "cell_type": "code",
   "execution_count": 21,
   "metadata": {},
   "outputs": [
    {
     "data": {
      "text/html": [
       "<div>\n",
       "<style scoped>\n",
       "    .dataframe tbody tr th:only-of-type {\n",
       "        vertical-align: middle;\n",
       "    }\n",
       "\n",
       "    .dataframe tbody tr th {\n",
       "        vertical-align: top;\n",
       "    }\n",
       "\n",
       "    .dataframe thead th {\n",
       "        text-align: right;\n",
       "    }\n",
       "</style>\n",
       "<table border=\"1\" class=\"dataframe\">\n",
       "  <thead>\n",
       "    <tr style=\"text-align: right;\">\n",
       "      <th></th>\n",
       "      <th>survived</th>\n",
       "      <th>pclass</th>\n",
       "      <th>age</th>\n",
       "      <th>sibsp</th>\n",
       "      <th>parch</th>\n",
       "      <th>fare</th>\n",
       "    </tr>\n",
       "  </thead>\n",
       "  <tbody>\n",
       "    <tr>\n",
       "      <th>count</th>\n",
       "      <td>83.00</td>\n",
       "      <td>83.00</td>\n",
       "      <td>83.00</td>\n",
       "      <td>83.00</td>\n",
       "      <td>83.00</td>\n",
       "      <td>83.00</td>\n",
       "    </tr>\n",
       "    <tr>\n",
       "      <th>mean</th>\n",
       "      <td>0.59</td>\n",
       "      <td>2.63</td>\n",
       "      <td>6.37</td>\n",
       "      <td>1.73</td>\n",
       "      <td>1.27</td>\n",
       "      <td>32.79</td>\n",
       "    </tr>\n",
       "    <tr>\n",
       "      <th>std</th>\n",
       "      <td>0.49</td>\n",
       "      <td>0.62</td>\n",
       "      <td>4.73</td>\n",
       "      <td>1.64</td>\n",
       "      <td>0.68</td>\n",
       "      <td>33.47</td>\n",
       "    </tr>\n",
       "    <tr>\n",
       "      <th>min</th>\n",
       "      <td>0.00</td>\n",
       "      <td>1.00</td>\n",
       "      <td>0.42</td>\n",
       "      <td>0.00</td>\n",
       "      <td>0.00</td>\n",
       "      <td>7.22</td>\n",
       "    </tr>\n",
       "    <tr>\n",
       "      <th>25%</th>\n",
       "      <td>0.00</td>\n",
       "      <td>2.00</td>\n",
       "      <td>2.00</td>\n",
       "      <td>0.00</td>\n",
       "      <td>1.00</td>\n",
       "      <td>15.90</td>\n",
       "    </tr>\n",
       "    <tr>\n",
       "      <th>50%</th>\n",
       "      <td>1.00</td>\n",
       "      <td>3.00</td>\n",
       "      <td>5.00</td>\n",
       "      <td>1.00</td>\n",
       "      <td>1.00</td>\n",
       "      <td>26.25</td>\n",
       "    </tr>\n",
       "    <tr>\n",
       "      <th>75%</th>\n",
       "      <td>1.00</td>\n",
       "      <td>3.00</td>\n",
       "      <td>9.50</td>\n",
       "      <td>3.00</td>\n",
       "      <td>2.00</td>\n",
       "      <td>32.19</td>\n",
       "    </tr>\n",
       "    <tr>\n",
       "      <th>max</th>\n",
       "      <td>1.00</td>\n",
       "      <td>3.00</td>\n",
       "      <td>15.00</td>\n",
       "      <td>5.00</td>\n",
       "      <td>2.00</td>\n",
       "      <td>211.34</td>\n",
       "    </tr>\n",
       "  </tbody>\n",
       "</table>\n",
       "</div>"
      ],
      "text/plain": [
       "       survived  pclass    age  sibsp  parch    fare\n",
       "count     83.00   83.00  83.00  83.00  83.00   83.00\n",
       "mean       0.59    2.63   6.37   1.73   1.27   32.79\n",
       "std        0.49    0.62   4.73   1.64   0.68   33.47\n",
       "min        0.00    1.00   0.42   0.00   0.00    7.22\n",
       "25%        0.00    2.00   2.00   0.00   1.00   15.90\n",
       "50%        1.00    3.00   5.00   1.00   1.00   26.25\n",
       "75%        1.00    3.00   9.50   3.00   2.00   32.19\n",
       "max        1.00    3.00  15.00   5.00   2.00  211.34"
      ]
     },
     "execution_count": 21,
     "metadata": {},
     "output_type": "execute_result"
    }
   ],
   "source": [
    "df_child.describe().round(2)"
   ]
  },
  {
   "cell_type": "code",
   "execution_count": 22,
   "metadata": {},
   "outputs": [
    {
     "data": {
      "text/plain": [
       "6.369518072289157"
      ]
     },
     "execution_count": 22,
     "metadata": {},
     "output_type": "execute_result"
    }
   ],
   "source": [
    "df_child.age.median() # ตรวจค่า median age\n",
    "df_child.age.mean() # ตรวจค่า mean age"
   ]
  },
  {
   "cell_type": "code",
   "execution_count": 23,
   "metadata": {},
   "outputs": [],
   "source": [
    "# เปลี่ยนข้อมูล woman and man เป็น adult\n",
    "to_change = ['man', 'woman']\n",
    "df.who.replace(to_change, 'adult', inplace=True)"
   ]
  },
  {
   "cell_type": "code",
   "execution_count": 24,
   "metadata": {},
   "outputs": [
    {
     "data": {
      "text/html": [
       "<div>\n",
       "<style scoped>\n",
       "    .dataframe tbody tr th:only-of-type {\n",
       "        vertical-align: middle;\n",
       "    }\n",
       "\n",
       "    .dataframe tbody tr th {\n",
       "        vertical-align: top;\n",
       "    }\n",
       "\n",
       "    .dataframe thead th {\n",
       "        text-align: right;\n",
       "    }\n",
       "</style>\n",
       "<table border=\"1\" class=\"dataframe\">\n",
       "  <thead>\n",
       "    <tr style=\"text-align: right;\">\n",
       "      <th></th>\n",
       "      <th>survived</th>\n",
       "      <th>pclass</th>\n",
       "      <th>sex</th>\n",
       "      <th>age</th>\n",
       "      <th>sibsp</th>\n",
       "      <th>parch</th>\n",
       "      <th>fare</th>\n",
       "      <th>embarked</th>\n",
       "      <th>class</th>\n",
       "      <th>who</th>\n",
       "      <th>adult_male</th>\n",
       "      <th>embark_town</th>\n",
       "      <th>alive</th>\n",
       "      <th>alone</th>\n",
       "    </tr>\n",
       "  </thead>\n",
       "  <tbody>\n",
       "    <tr>\n",
       "      <th>0</th>\n",
       "      <td>0</td>\n",
       "      <td>3</td>\n",
       "      <td>male</td>\n",
       "      <td>22.0</td>\n",
       "      <td>1</td>\n",
       "      <td>0</td>\n",
       "      <td>7.2500</td>\n",
       "      <td>S</td>\n",
       "      <td>Third</td>\n",
       "      <td>adult</td>\n",
       "      <td>True</td>\n",
       "      <td>Southampton</td>\n",
       "      <td>no</td>\n",
       "      <td>False</td>\n",
       "    </tr>\n",
       "    <tr>\n",
       "      <th>1</th>\n",
       "      <td>1</td>\n",
       "      <td>1</td>\n",
       "      <td>female</td>\n",
       "      <td>38.0</td>\n",
       "      <td>1</td>\n",
       "      <td>0</td>\n",
       "      <td>71.2833</td>\n",
       "      <td>C</td>\n",
       "      <td>First</td>\n",
       "      <td>adult</td>\n",
       "      <td>False</td>\n",
       "      <td>Cherbourg</td>\n",
       "      <td>yes</td>\n",
       "      <td>False</td>\n",
       "    </tr>\n",
       "    <tr>\n",
       "      <th>2</th>\n",
       "      <td>1</td>\n",
       "      <td>3</td>\n",
       "      <td>female</td>\n",
       "      <td>26.0</td>\n",
       "      <td>0</td>\n",
       "      <td>0</td>\n",
       "      <td>7.9250</td>\n",
       "      <td>S</td>\n",
       "      <td>Third</td>\n",
       "      <td>adult</td>\n",
       "      <td>False</td>\n",
       "      <td>Southampton</td>\n",
       "      <td>yes</td>\n",
       "      <td>True</td>\n",
       "    </tr>\n",
       "    <tr>\n",
       "      <th>3</th>\n",
       "      <td>1</td>\n",
       "      <td>1</td>\n",
       "      <td>female</td>\n",
       "      <td>35.0</td>\n",
       "      <td>1</td>\n",
       "      <td>0</td>\n",
       "      <td>53.1000</td>\n",
       "      <td>S</td>\n",
       "      <td>First</td>\n",
       "      <td>adult</td>\n",
       "      <td>False</td>\n",
       "      <td>Southampton</td>\n",
       "      <td>yes</td>\n",
       "      <td>False</td>\n",
       "    </tr>\n",
       "    <tr>\n",
       "      <th>4</th>\n",
       "      <td>0</td>\n",
       "      <td>3</td>\n",
       "      <td>male</td>\n",
       "      <td>35.0</td>\n",
       "      <td>0</td>\n",
       "      <td>0</td>\n",
       "      <td>8.0500</td>\n",
       "      <td>S</td>\n",
       "      <td>Third</td>\n",
       "      <td>adult</td>\n",
       "      <td>True</td>\n",
       "      <td>Southampton</td>\n",
       "      <td>no</td>\n",
       "      <td>True</td>\n",
       "    </tr>\n",
       "  </tbody>\n",
       "</table>\n",
       "</div>"
      ],
      "text/plain": [
       "   survived  pclass     sex   age  sibsp  parch     fare embarked  class  \\\n",
       "0         0       3    male  22.0      1      0   7.2500        S  Third   \n",
       "1         1       1  female  38.0      1      0  71.2833        C  First   \n",
       "2         1       3  female  26.0      0      0   7.9250        S  Third   \n",
       "3         1       1  female  35.0      1      0  53.1000        S  First   \n",
       "4         0       3    male  35.0      0      0   8.0500        S  Third   \n",
       "\n",
       "     who  adult_male  embark_town alive  alone  \n",
       "0  adult        True  Southampton    no  False  \n",
       "1  adult       False    Cherbourg   yes  False  \n",
       "2  adult       False  Southampton   yes   True  \n",
       "3  adult       False  Southampton   yes  False  \n",
       "4  adult        True  Southampton    no   True  "
      ]
     },
     "execution_count": 24,
     "metadata": {},
     "output_type": "execute_result"
    }
   ],
   "source": [
    "df.head()"
   ]
  },
  {
   "cell_type": "code",
   "execution_count": 25,
   "metadata": {},
   "outputs": [],
   "source": [
    "# ดังนั้น column adult_male จึงไม่จำเป็น\n",
    "df.drop('adult_male', axis='columns', inplace=True)"
   ]
  },
  {
   "cell_type": "code",
   "execution_count": 26,
   "metadata": {},
   "outputs": [
    {
     "data": {
      "text/html": [
       "<div>\n",
       "<style scoped>\n",
       "    .dataframe tbody tr th:only-of-type {\n",
       "        vertical-align: middle;\n",
       "    }\n",
       "\n",
       "    .dataframe tbody tr th {\n",
       "        vertical-align: top;\n",
       "    }\n",
       "\n",
       "    .dataframe thead th {\n",
       "        text-align: right;\n",
       "    }\n",
       "</style>\n",
       "<table border=\"1\" class=\"dataframe\">\n",
       "  <thead>\n",
       "    <tr style=\"text-align: right;\">\n",
       "      <th></th>\n",
       "      <th>survived</th>\n",
       "      <th>pclass</th>\n",
       "      <th>sex</th>\n",
       "      <th>age</th>\n",
       "      <th>sibsp</th>\n",
       "      <th>parch</th>\n",
       "      <th>fare</th>\n",
       "      <th>embarked</th>\n",
       "      <th>class</th>\n",
       "      <th>who</th>\n",
       "      <th>embark_town</th>\n",
       "      <th>alive</th>\n",
       "      <th>alone</th>\n",
       "    </tr>\n",
       "  </thead>\n",
       "  <tbody>\n",
       "    <tr>\n",
       "      <th>0</th>\n",
       "      <td>0</td>\n",
       "      <td>3</td>\n",
       "      <td>male</td>\n",
       "      <td>22.0</td>\n",
       "      <td>1</td>\n",
       "      <td>0</td>\n",
       "      <td>7.2500</td>\n",
       "      <td>S</td>\n",
       "      <td>Third</td>\n",
       "      <td>adult</td>\n",
       "      <td>Southampton</td>\n",
       "      <td>no</td>\n",
       "      <td>False</td>\n",
       "    </tr>\n",
       "    <tr>\n",
       "      <th>1</th>\n",
       "      <td>1</td>\n",
       "      <td>1</td>\n",
       "      <td>female</td>\n",
       "      <td>38.0</td>\n",
       "      <td>1</td>\n",
       "      <td>0</td>\n",
       "      <td>71.2833</td>\n",
       "      <td>C</td>\n",
       "      <td>First</td>\n",
       "      <td>adult</td>\n",
       "      <td>Cherbourg</td>\n",
       "      <td>yes</td>\n",
       "      <td>False</td>\n",
       "    </tr>\n",
       "    <tr>\n",
       "      <th>2</th>\n",
       "      <td>1</td>\n",
       "      <td>3</td>\n",
       "      <td>female</td>\n",
       "      <td>26.0</td>\n",
       "      <td>0</td>\n",
       "      <td>0</td>\n",
       "      <td>7.9250</td>\n",
       "      <td>S</td>\n",
       "      <td>Third</td>\n",
       "      <td>adult</td>\n",
       "      <td>Southampton</td>\n",
       "      <td>yes</td>\n",
       "      <td>True</td>\n",
       "    </tr>\n",
       "    <tr>\n",
       "      <th>3</th>\n",
       "      <td>1</td>\n",
       "      <td>1</td>\n",
       "      <td>female</td>\n",
       "      <td>35.0</td>\n",
       "      <td>1</td>\n",
       "      <td>0</td>\n",
       "      <td>53.1000</td>\n",
       "      <td>S</td>\n",
       "      <td>First</td>\n",
       "      <td>adult</td>\n",
       "      <td>Southampton</td>\n",
       "      <td>yes</td>\n",
       "      <td>False</td>\n",
       "    </tr>\n",
       "    <tr>\n",
       "      <th>4</th>\n",
       "      <td>0</td>\n",
       "      <td>3</td>\n",
       "      <td>male</td>\n",
       "      <td>35.0</td>\n",
       "      <td>0</td>\n",
       "      <td>0</td>\n",
       "      <td>8.0500</td>\n",
       "      <td>S</td>\n",
       "      <td>Third</td>\n",
       "      <td>adult</td>\n",
       "      <td>Southampton</td>\n",
       "      <td>no</td>\n",
       "      <td>True</td>\n",
       "    </tr>\n",
       "  </tbody>\n",
       "</table>\n",
       "</div>"
      ],
      "text/plain": [
       "   survived  pclass     sex   age  sibsp  parch     fare embarked  class  \\\n",
       "0         0       3    male  22.0      1      0   7.2500        S  Third   \n",
       "1         1       1  female  38.0      1      0  71.2833        C  First   \n",
       "2         1       3  female  26.0      0      0   7.9250        S  Third   \n",
       "3         1       1  female  35.0      1      0  53.1000        S  First   \n",
       "4         0       3    male  35.0      0      0   8.0500        S  Third   \n",
       "\n",
       "     who  embark_town alive  alone  \n",
       "0  adult  Southampton    no  False  \n",
       "1  adult    Cherbourg   yes  False  \n",
       "2  adult  Southampton   yes   True  \n",
       "3  adult  Southampton   yes  False  \n",
       "4  adult  Southampton    no   True  "
      ]
     },
     "execution_count": 26,
     "metadata": {},
     "output_type": "execute_result"
    }
   ],
   "source": [
    "df.head()"
   ]
  },
  {
   "cell_type": "code",
   "execution_count": 27,
   "metadata": {},
   "outputs": [
    {
     "data": {
      "text/plain": [
       "32.713036565977745"
      ]
     },
     "execution_count": 27,
     "metadata": {},
     "output_type": "execute_result"
    }
   ],
   "source": [
    "df_adult = df[df.who == 'adult'] # ผู้ใหญ่ออกมาหาค่ากลาง\n",
    "df_adult.age.mean() # ตรวจค่า mean age adult"
   ]
  },
  {
   "cell_type": "code",
   "execution_count": 28,
   "metadata": {},
   "outputs": [],
   "source": [
    "# เลือกใช้ค่า df_child.age.mean() แทน missing value ใน child\n",
    "# เลือกใช้ค่า df_adult.age.mean() แทน missing value ใน adult\n",
    "colm = 'age'# เลือกคอลัมน์ที่จะสนใจแทนที่ข้อมูล\n",
    "if np.where(df['who']=='child'):\n",
    "    df[colm] = df[colm].fillna(df_child.age.mean())\n",
    "elif np.where(df['who']=='adult'):\n",
    "     df[colm] = df[colm].fillna(df_adult.age.mean())\n",
    "        \n",
    "#df.head()\n",
    "#df.describe().round(2)"
   ]
  },
  {
   "cell_type": "code",
   "execution_count": 29,
   "metadata": {},
   "outputs": [
    {
     "data": {
      "text/plain": [
       "survived       False\n",
       "pclass         False\n",
       "sex            False\n",
       "age            False\n",
       "sibsp          False\n",
       "parch          False\n",
       "fare           False\n",
       "embarked       False\n",
       "class          False\n",
       "who            False\n",
       "embark_town    False\n",
       "alive          False\n",
       "alone          False\n",
       "dtype: bool"
      ]
     },
     "execution_count": 29,
     "metadata": {},
     "output_type": "execute_result"
    }
   ],
   "source": [
    "# ตรวจดูยังมี na อยู่หรือไม่\n",
    "df.isnull().any()"
   ]
  },
  {
   "cell_type": "code",
   "execution_count": 30,
   "metadata": {},
   "outputs": [
    {
     "name": "stdout",
     "output_type": "stream",
     "text": [
      "mean age of adult : 26.92792146252512\n",
      "mean age of child : 6.369518072289157\n"
     ]
    }
   ],
   "source": [
    "# ตรวจสอบว่าเปลี่ยนสำเร็จไหม\n",
    "df_child = df[df.who == 'child'] #\n",
    "df_adult = df[df.who == 'adult'] # ผู้ใหญ่ออกมาหาค่ากลาง\n",
    "print('mean age of adult :',df_adult.age.mean()) # ตรวจค่า mean age adult ต้องเท่ากับ 32.76782884310618 ไม่เท่าเดิมเพราะมี missiong values\n",
    "print('mean age of child :',df_child.age.mean()) # ตรวจค่า mean age adult ต้องเท่ากับ 6.369518072289157 เท่าเดิมเพราะ ไม่มี missiong values "
   ]
  },
  {
   "cell_type": "code",
   "execution_count": 31,
   "metadata": {},
   "outputs": [],
   "source": [
    "#กำจัด missing data สำเร็จ !!"
   ]
  },
  {
   "cell_type": "markdown",
   "metadata": {},
   "source": [
    "# Data Cleansing "
   ]
  },
  {
   "cell_type": "markdown",
   "metadata": {},
   "source": [
    "- จัดการกับข้อมูลที่ซ้ำเกินความจำเป็น"
   ]
  },
  {
   "cell_type": "code",
   "execution_count": 32,
   "metadata": {},
   "outputs": [
    {
     "data": {
      "text/plain": [
       "survived          int64\n",
       "pclass            int64\n",
       "sex              object\n",
       "age             float64\n",
       "sibsp             int64\n",
       "parch             int64\n",
       "fare            float64\n",
       "embarked         object\n",
       "class          category\n",
       "who              object\n",
       "embark_town      object\n",
       "alive            object\n",
       "alone              bool\n",
       "dtype: object"
      ]
     },
     "execution_count": 32,
     "metadata": {},
     "output_type": "execute_result"
    }
   ],
   "source": [
    "df.dtypes"
   ]
  },
  {
   "cell_type": "code",
   "execution_count": 33,
   "metadata": {},
   "outputs": [
    {
     "data": {
      "text/html": [
       "<div>\n",
       "<style scoped>\n",
       "    .dataframe tbody tr th:only-of-type {\n",
       "        vertical-align: middle;\n",
       "    }\n",
       "\n",
       "    .dataframe tbody tr th {\n",
       "        vertical-align: top;\n",
       "    }\n",
       "\n",
       "    .dataframe thead th {\n",
       "        text-align: right;\n",
       "    }\n",
       "</style>\n",
       "<table border=\"1\" class=\"dataframe\">\n",
       "  <thead>\n",
       "    <tr style=\"text-align: right;\">\n",
       "      <th></th>\n",
       "      <th>survived</th>\n",
       "      <th>pclass</th>\n",
       "      <th>sex</th>\n",
       "      <th>age</th>\n",
       "      <th>sibsp</th>\n",
       "      <th>parch</th>\n",
       "      <th>fare</th>\n",
       "      <th>embarked</th>\n",
       "      <th>class</th>\n",
       "      <th>who</th>\n",
       "      <th>embark_town</th>\n",
       "      <th>alive</th>\n",
       "      <th>alone</th>\n",
       "    </tr>\n",
       "  </thead>\n",
       "  <tbody>\n",
       "    <tr>\n",
       "      <th>448</th>\n",
       "      <td>1</td>\n",
       "      <td>3</td>\n",
       "      <td>female</td>\n",
       "      <td>5.000000</td>\n",
       "      <td>2</td>\n",
       "      <td>1</td>\n",
       "      <td>19.2583</td>\n",
       "      <td>C</td>\n",
       "      <td>Third</td>\n",
       "      <td>child</td>\n",
       "      <td>Cherbourg</td>\n",
       "      <td>yes</td>\n",
       "      <td>False</td>\n",
       "    </tr>\n",
       "    <tr>\n",
       "      <th>487</th>\n",
       "      <td>0</td>\n",
       "      <td>1</td>\n",
       "      <td>male</td>\n",
       "      <td>58.000000</td>\n",
       "      <td>0</td>\n",
       "      <td>0</td>\n",
       "      <td>29.7000</td>\n",
       "      <td>C</td>\n",
       "      <td>First</td>\n",
       "      <td>adult</td>\n",
       "      <td>Cherbourg</td>\n",
       "      <td>no</td>\n",
       "      <td>True</td>\n",
       "    </tr>\n",
       "    <tr>\n",
       "      <th>330</th>\n",
       "      <td>1</td>\n",
       "      <td>3</td>\n",
       "      <td>female</td>\n",
       "      <td>6.369518</td>\n",
       "      <td>2</td>\n",
       "      <td>0</td>\n",
       "      <td>23.2500</td>\n",
       "      <td>Q</td>\n",
       "      <td>Third</td>\n",
       "      <td>adult</td>\n",
       "      <td>Queenstown</td>\n",
       "      <td>yes</td>\n",
       "      <td>False</td>\n",
       "    </tr>\n",
       "    <tr>\n",
       "      <th>432</th>\n",
       "      <td>1</td>\n",
       "      <td>2</td>\n",
       "      <td>female</td>\n",
       "      <td>42.000000</td>\n",
       "      <td>1</td>\n",
       "      <td>0</td>\n",
       "      <td>26.0000</td>\n",
       "      <td>S</td>\n",
       "      <td>Second</td>\n",
       "      <td>adult</td>\n",
       "      <td>Southampton</td>\n",
       "      <td>yes</td>\n",
       "      <td>False</td>\n",
       "    </tr>\n",
       "    <tr>\n",
       "      <th>456</th>\n",
       "      <td>0</td>\n",
       "      <td>1</td>\n",
       "      <td>male</td>\n",
       "      <td>65.000000</td>\n",
       "      <td>0</td>\n",
       "      <td>0</td>\n",
       "      <td>26.5500</td>\n",
       "      <td>S</td>\n",
       "      <td>First</td>\n",
       "      <td>adult</td>\n",
       "      <td>Southampton</td>\n",
       "      <td>no</td>\n",
       "      <td>True</td>\n",
       "    </tr>\n",
       "  </tbody>\n",
       "</table>\n",
       "</div>"
      ],
      "text/plain": [
       "     survived  pclass     sex        age  sibsp  parch     fare embarked  \\\n",
       "448         1       3  female   5.000000      2      1  19.2583        C   \n",
       "487         0       1    male  58.000000      0      0  29.7000        C   \n",
       "330         1       3  female   6.369518      2      0  23.2500        Q   \n",
       "432         1       2  female  42.000000      1      0  26.0000        S   \n",
       "456         0       1    male  65.000000      0      0  26.5500        S   \n",
       "\n",
       "      class    who  embark_town alive  alone  \n",
       "448   Third  child    Cherbourg   yes  False  \n",
       "487   First  adult    Cherbourg    no   True  \n",
       "330   Third  adult   Queenstown   yes  False  \n",
       "432  Second  adult  Southampton   yes  False  \n",
       "456   First  adult  Southampton    no   True  "
      ]
     },
     "execution_count": 33,
     "metadata": {},
     "output_type": "execute_result"
    }
   ],
   "source": [
    "df.sample(5)"
   ]
  },
  {
   "cell_type": "code",
   "execution_count": 34,
   "metadata": {},
   "outputs": [],
   "source": [
    "# กำจัด column ที่ซ้ำ คือ class, alive, embark_town\n",
    "col = ['class', 'alive', 'embark_town']\n",
    "df.drop(col, axis='columns', inplace=True)"
   ]
  },
  {
   "cell_type": "code",
   "execution_count": 35,
   "metadata": {},
   "outputs": [
    {
     "data": {
      "text/html": [
       "<div>\n",
       "<style scoped>\n",
       "    .dataframe tbody tr th:only-of-type {\n",
       "        vertical-align: middle;\n",
       "    }\n",
       "\n",
       "    .dataframe tbody tr th {\n",
       "        vertical-align: top;\n",
       "    }\n",
       "\n",
       "    .dataframe thead th {\n",
       "        text-align: right;\n",
       "    }\n",
       "</style>\n",
       "<table border=\"1\" class=\"dataframe\">\n",
       "  <thead>\n",
       "    <tr style=\"text-align: right;\">\n",
       "      <th></th>\n",
       "      <th>survived</th>\n",
       "      <th>pclass</th>\n",
       "      <th>sex</th>\n",
       "      <th>age</th>\n",
       "      <th>sibsp</th>\n",
       "      <th>parch</th>\n",
       "      <th>fare</th>\n",
       "      <th>embarked</th>\n",
       "      <th>who</th>\n",
       "      <th>alone</th>\n",
       "    </tr>\n",
       "  </thead>\n",
       "  <tbody>\n",
       "    <tr>\n",
       "      <th>720</th>\n",
       "      <td>1</td>\n",
       "      <td>2</td>\n",
       "      <td>female</td>\n",
       "      <td>6.000000</td>\n",
       "      <td>0</td>\n",
       "      <td>1</td>\n",
       "      <td>33.0000</td>\n",
       "      <td>S</td>\n",
       "      <td>child</td>\n",
       "      <td>False</td>\n",
       "    </tr>\n",
       "    <tr>\n",
       "      <th>592</th>\n",
       "      <td>0</td>\n",
       "      <td>3</td>\n",
       "      <td>male</td>\n",
       "      <td>47.000000</td>\n",
       "      <td>0</td>\n",
       "      <td>0</td>\n",
       "      <td>7.2500</td>\n",
       "      <td>S</td>\n",
       "      <td>adult</td>\n",
       "      <td>True</td>\n",
       "    </tr>\n",
       "    <tr>\n",
       "      <th>793</th>\n",
       "      <td>0</td>\n",
       "      <td>1</td>\n",
       "      <td>male</td>\n",
       "      <td>6.369518</td>\n",
       "      <td>0</td>\n",
       "      <td>0</td>\n",
       "      <td>30.6958</td>\n",
       "      <td>C</td>\n",
       "      <td>adult</td>\n",
       "      <td>True</td>\n",
       "    </tr>\n",
       "    <tr>\n",
       "      <th>274</th>\n",
       "      <td>1</td>\n",
       "      <td>3</td>\n",
       "      <td>female</td>\n",
       "      <td>6.369518</td>\n",
       "      <td>0</td>\n",
       "      <td>0</td>\n",
       "      <td>7.7500</td>\n",
       "      <td>Q</td>\n",
       "      <td>adult</td>\n",
       "      <td>True</td>\n",
       "    </tr>\n",
       "    <tr>\n",
       "      <th>261</th>\n",
       "      <td>1</td>\n",
       "      <td>3</td>\n",
       "      <td>male</td>\n",
       "      <td>3.000000</td>\n",
       "      <td>4</td>\n",
       "      <td>2</td>\n",
       "      <td>31.3875</td>\n",
       "      <td>S</td>\n",
       "      <td>child</td>\n",
       "      <td>False</td>\n",
       "    </tr>\n",
       "  </tbody>\n",
       "</table>\n",
       "</div>"
      ],
      "text/plain": [
       "     survived  pclass     sex        age  sibsp  parch     fare embarked  \\\n",
       "720         1       2  female   6.000000      0      1  33.0000        S   \n",
       "592         0       3    male  47.000000      0      0   7.2500        S   \n",
       "793         0       1    male   6.369518      0      0  30.6958        C   \n",
       "274         1       3  female   6.369518      0      0   7.7500        Q   \n",
       "261         1       3    male   3.000000      4      2  31.3875        S   \n",
       "\n",
       "       who  alone  \n",
       "720  child  False  \n",
       "592  adult   True  \n",
       "793  adult   True  \n",
       "274  adult   True  \n",
       "261  child  False  "
      ]
     },
     "execution_count": 35,
     "metadata": {},
     "output_type": "execute_result"
    }
   ],
   "source": [
    "df.sample(5)"
   ]
  },
  {
   "cell_type": "markdown",
   "metadata": {},
   "source": [
    "# Preprocessing"
   ]
  },
  {
   "cell_type": "code",
   "execution_count": 36,
   "metadata": {},
   "outputs": [],
   "source": [
    "#ทำ labelencoding สำหรับ X (input)\n",
    "from sklearn.preprocessing import LabelEncoder\n",
    "\n",
    "def labelEncode(data, columns):\n",
    "    for i in columns:\n",
    "#         print(i)\n",
    "        lb = LabelEncoder().fit_transform(data[i])\n",
    "        data[i + '_'] = lb\n",
    "        \n",
    "columns =  ['pclass', 'sex', 'age', 'sibsp', 'parch', 'fare', 'embarked', 'who', 'alone']\n",
    "labelEncode(df, columns)"
   ]
  },
  {
   "cell_type": "code",
   "execution_count": 37,
   "metadata": {},
   "outputs": [
    {
     "name": "stdout",
     "output_type": "stream",
     "text": [
      "<class 'pandas.core.frame.DataFrame'>\n",
      "Int64Index: 889 entries, 0 to 890\n",
      "Data columns (total 19 columns):\n",
      " #   Column     Non-Null Count  Dtype  \n",
      "---  ------     --------------  -----  \n",
      " 0   survived   889 non-null    int64  \n",
      " 1   pclass     889 non-null    int64  \n",
      " 2   sex        889 non-null    object \n",
      " 3   age        889 non-null    float64\n",
      " 4   sibsp      889 non-null    int64  \n",
      " 5   parch      889 non-null    int64  \n",
      " 6   fare       889 non-null    float64\n",
      " 7   embarked   889 non-null    object \n",
      " 8   who        889 non-null    object \n",
      " 9   alone      889 non-null    bool   \n",
      " 10  pclass_    889 non-null    int64  \n",
      " 11  sex_       889 non-null    int32  \n",
      " 12  age_       889 non-null    int64  \n",
      " 13  sibsp_     889 non-null    int64  \n",
      " 14  parch_     889 non-null    int64  \n",
      " 15  fare_      889 non-null    int64  \n",
      " 16  embarked_  889 non-null    int32  \n",
      " 17  who_       889 non-null    int32  \n",
      " 18  alone_     889 non-null    int64  \n",
      "dtypes: bool(1), float64(2), int32(3), int64(10), object(3)\n",
      "memory usage: 122.4+ KB\n"
     ]
    }
   ],
   "source": [
    "df.info()"
   ]
  },
  {
   "cell_type": "code",
   "execution_count": 38,
   "metadata": {},
   "outputs": [
    {
     "data": {
      "text/html": [
       "<div>\n",
       "<style scoped>\n",
       "    .dataframe tbody tr th:only-of-type {\n",
       "        vertical-align: middle;\n",
       "    }\n",
       "\n",
       "    .dataframe tbody tr th {\n",
       "        vertical-align: top;\n",
       "    }\n",
       "\n",
       "    .dataframe thead th {\n",
       "        text-align: right;\n",
       "    }\n",
       "</style>\n",
       "<table border=\"1\" class=\"dataframe\">\n",
       "  <thead>\n",
       "    <tr style=\"text-align: right;\">\n",
       "      <th></th>\n",
       "      <th>survived</th>\n",
       "      <th>pclass</th>\n",
       "      <th>sex</th>\n",
       "      <th>age</th>\n",
       "      <th>sibsp</th>\n",
       "      <th>parch</th>\n",
       "      <th>fare</th>\n",
       "      <th>embarked</th>\n",
       "      <th>who</th>\n",
       "      <th>alone</th>\n",
       "      <th>pclass_</th>\n",
       "      <th>sex_</th>\n",
       "      <th>age_</th>\n",
       "      <th>sibsp_</th>\n",
       "      <th>parch_</th>\n",
       "      <th>fare_</th>\n",
       "      <th>embarked_</th>\n",
       "      <th>who_</th>\n",
       "      <th>alone_</th>\n",
       "    </tr>\n",
       "  </thead>\n",
       "  <tbody>\n",
       "    <tr>\n",
       "      <th>0</th>\n",
       "      <td>0</td>\n",
       "      <td>3</td>\n",
       "      <td>male</td>\n",
       "      <td>22.0</td>\n",
       "      <td>1</td>\n",
       "      <td>0</td>\n",
       "      <td>7.2500</td>\n",
       "      <td>S</td>\n",
       "      <td>adult</td>\n",
       "      <td>False</td>\n",
       "      <td>2</td>\n",
       "      <td>1</td>\n",
       "      <td>29</td>\n",
       "      <td>1</td>\n",
       "      <td>0</td>\n",
       "      <td>18</td>\n",
       "      <td>2</td>\n",
       "      <td>0</td>\n",
       "      <td>0</td>\n",
       "    </tr>\n",
       "    <tr>\n",
       "      <th>1</th>\n",
       "      <td>1</td>\n",
       "      <td>1</td>\n",
       "      <td>female</td>\n",
       "      <td>38.0</td>\n",
       "      <td>1</td>\n",
       "      <td>0</td>\n",
       "      <td>71.2833</td>\n",
       "      <td>C</td>\n",
       "      <td>adult</td>\n",
       "      <td>False</td>\n",
       "      <td>0</td>\n",
       "      <td>0</td>\n",
       "      <td>52</td>\n",
       "      <td>1</td>\n",
       "      <td>0</td>\n",
       "      <td>207</td>\n",
       "      <td>0</td>\n",
       "      <td>0</td>\n",
       "      <td>0</td>\n",
       "    </tr>\n",
       "    <tr>\n",
       "      <th>2</th>\n",
       "      <td>1</td>\n",
       "      <td>3</td>\n",
       "      <td>female</td>\n",
       "      <td>26.0</td>\n",
       "      <td>0</td>\n",
       "      <td>0</td>\n",
       "      <td>7.9250</td>\n",
       "      <td>S</td>\n",
       "      <td>adult</td>\n",
       "      <td>True</td>\n",
       "      <td>2</td>\n",
       "      <td>0</td>\n",
       "      <td>35</td>\n",
       "      <td>0</td>\n",
       "      <td>0</td>\n",
       "      <td>41</td>\n",
       "      <td>2</td>\n",
       "      <td>0</td>\n",
       "      <td>1</td>\n",
       "    </tr>\n",
       "    <tr>\n",
       "      <th>3</th>\n",
       "      <td>1</td>\n",
       "      <td>1</td>\n",
       "      <td>female</td>\n",
       "      <td>35.0</td>\n",
       "      <td>1</td>\n",
       "      <td>0</td>\n",
       "      <td>53.1000</td>\n",
       "      <td>S</td>\n",
       "      <td>adult</td>\n",
       "      <td>False</td>\n",
       "      <td>0</td>\n",
       "      <td>0</td>\n",
       "      <td>48</td>\n",
       "      <td>1</td>\n",
       "      <td>0</td>\n",
       "      <td>189</td>\n",
       "      <td>2</td>\n",
       "      <td>0</td>\n",
       "      <td>0</td>\n",
       "    </tr>\n",
       "    <tr>\n",
       "      <th>4</th>\n",
       "      <td>0</td>\n",
       "      <td>3</td>\n",
       "      <td>male</td>\n",
       "      <td>35.0</td>\n",
       "      <td>0</td>\n",
       "      <td>0</td>\n",
       "      <td>8.0500</td>\n",
       "      <td>S</td>\n",
       "      <td>adult</td>\n",
       "      <td>True</td>\n",
       "      <td>2</td>\n",
       "      <td>1</td>\n",
       "      <td>48</td>\n",
       "      <td>0</td>\n",
       "      <td>0</td>\n",
       "      <td>43</td>\n",
       "      <td>2</td>\n",
       "      <td>0</td>\n",
       "      <td>1</td>\n",
       "    </tr>\n",
       "  </tbody>\n",
       "</table>\n",
       "</div>"
      ],
      "text/plain": [
       "   survived  pclass     sex   age  sibsp  parch     fare embarked    who  \\\n",
       "0         0       3    male  22.0      1      0   7.2500        S  adult   \n",
       "1         1       1  female  38.0      1      0  71.2833        C  adult   \n",
       "2         1       3  female  26.0      0      0   7.9250        S  adult   \n",
       "3         1       1  female  35.0      1      0  53.1000        S  adult   \n",
       "4         0       3    male  35.0      0      0   8.0500        S  adult   \n",
       "\n",
       "   alone  pclass_  sex_  age_  sibsp_  parch_  fare_  embarked_  who_  alone_  \n",
       "0  False        2     1    29       1       0     18          2     0       0  \n",
       "1  False        0     0    52       1       0    207          0     0       0  \n",
       "2   True        2     0    35       0       0     41          2     0       1  \n",
       "3  False        0     0    48       1       0    189          2     0       0  \n",
       "4   True        2     1    48       0       0     43          2     0       1  "
      ]
     },
     "execution_count": 38,
     "metadata": {},
     "output_type": "execute_result"
    }
   ],
   "source": [
    "df.head()"
   ]
  },
  {
   "cell_type": "code",
   "execution_count": 39,
   "metadata": {},
   "outputs": [],
   "source": [
    "col_sel = ['pclass_', 'sex_', 'age_', 'sibsp_', 'parch_', 'fare_', 'embarked_', 'who_', 'alone_']\n",
    "X_pp = df[col_sel]"
   ]
  },
  {
   "cell_type": "code",
   "execution_count": 40,
   "metadata": {},
   "outputs": [
    {
     "data": {
      "text/html": [
       "<div>\n",
       "<style scoped>\n",
       "    .dataframe tbody tr th:only-of-type {\n",
       "        vertical-align: middle;\n",
       "    }\n",
       "\n",
       "    .dataframe tbody tr th {\n",
       "        vertical-align: top;\n",
       "    }\n",
       "\n",
       "    .dataframe thead th {\n",
       "        text-align: right;\n",
       "    }\n",
       "</style>\n",
       "<table border=\"1\" class=\"dataframe\">\n",
       "  <thead>\n",
       "    <tr style=\"text-align: right;\">\n",
       "      <th></th>\n",
       "      <th>pclass_</th>\n",
       "      <th>sex_</th>\n",
       "      <th>age_</th>\n",
       "      <th>sibsp_</th>\n",
       "      <th>parch_</th>\n",
       "      <th>fare_</th>\n",
       "      <th>embarked_</th>\n",
       "      <th>who_</th>\n",
       "      <th>alone_</th>\n",
       "    </tr>\n",
       "  </thead>\n",
       "  <tbody>\n",
       "    <tr>\n",
       "      <th>0</th>\n",
       "      <td>1.0</td>\n",
       "      <td>1.0</td>\n",
       "      <td>0.330</td>\n",
       "      <td>0.167</td>\n",
       "      <td>0.0</td>\n",
       "      <td>0.073</td>\n",
       "      <td>1.0</td>\n",
       "      <td>0.0</td>\n",
       "      <td>0.0</td>\n",
       "    </tr>\n",
       "    <tr>\n",
       "      <th>1</th>\n",
       "      <td>0.0</td>\n",
       "      <td>0.0</td>\n",
       "      <td>0.591</td>\n",
       "      <td>0.167</td>\n",
       "      <td>0.0</td>\n",
       "      <td>0.841</td>\n",
       "      <td>0.0</td>\n",
       "      <td>0.0</td>\n",
       "      <td>0.0</td>\n",
       "    </tr>\n",
       "    <tr>\n",
       "      <th>2</th>\n",
       "      <td>1.0</td>\n",
       "      <td>0.0</td>\n",
       "      <td>0.398</td>\n",
       "      <td>0.000</td>\n",
       "      <td>0.0</td>\n",
       "      <td>0.167</td>\n",
       "      <td>1.0</td>\n",
       "      <td>0.0</td>\n",
       "      <td>1.0</td>\n",
       "    </tr>\n",
       "    <tr>\n",
       "      <th>3</th>\n",
       "      <td>0.0</td>\n",
       "      <td>0.0</td>\n",
       "      <td>0.545</td>\n",
       "      <td>0.167</td>\n",
       "      <td>0.0</td>\n",
       "      <td>0.768</td>\n",
       "      <td>1.0</td>\n",
       "      <td>0.0</td>\n",
       "      <td>0.0</td>\n",
       "    </tr>\n",
       "    <tr>\n",
       "      <th>4</th>\n",
       "      <td>1.0</td>\n",
       "      <td>1.0</td>\n",
       "      <td>0.545</td>\n",
       "      <td>0.000</td>\n",
       "      <td>0.0</td>\n",
       "      <td>0.175</td>\n",
       "      <td>1.0</td>\n",
       "      <td>0.0</td>\n",
       "      <td>1.0</td>\n",
       "    </tr>\n",
       "  </tbody>\n",
       "</table>\n",
       "</div>"
      ],
      "text/plain": [
       "   pclass_  sex_   age_  sibsp_  parch_  fare_  embarked_  who_  alone_\n",
       "0      1.0   1.0  0.330   0.167     0.0  0.073        1.0   0.0     0.0\n",
       "1      0.0   0.0  0.591   0.167     0.0  0.841        0.0   0.0     0.0\n",
       "2      1.0   0.0  0.398   0.000     0.0  0.167        1.0   0.0     1.0\n",
       "3      0.0   0.0  0.545   0.167     0.0  0.768        1.0   0.0     0.0\n",
       "4      1.0   1.0  0.545   0.000     0.0  0.175        1.0   0.0     1.0"
      ]
     },
     "execution_count": 40,
     "metadata": {},
     "output_type": "execute_result"
    }
   ],
   "source": [
    "import warnings\n",
    "warnings.filterwarnings('ignore')\n",
    "from sklearn.preprocessing import MinMaxScaler as Scaler # Normalization 0-1 เพราะ Variance มีค่าต่างกันแต่ละตัวแปร\n",
    "X = X_pp \n",
    "sc = Scaler()\n",
    "X_sc = sc.fit_transform(X) # Normalization 0-1\n",
    "\n",
    "df_sc = pd.DataFrame(X_sc, columns=X.columns) # เก็บ ที่ทำtransform แล้วลงในตัวแปร df_sc\n",
    "df_sc.head().round(3)\n",
    "#df_sc.info()\n"
   ]
  },
  {
   "cell_type": "raw",
   "metadata": {},
   "source": [
    "#เปลี่ยนชนิดข้อมูล\n",
    "df_sc['sex_'] = df_sc['sex_'].astype('category') # เปลี่ยนคอลัมน์ sex_ ให้เป็น Category\n",
    "df_sc['pclass_'] = df_sc['pclass_'].astype('category') # เปลี่ยนคอลัมน์ pcalss_ ให้เป็น Category\n",
    "df_sc['who_'] = df_sc['who_'].astype('category') # เปลี่ยนคอลัมน์ pcalss_ ให้เป็น Category\n",
    "df_sc['alone_'] = df_sc['alone_'].astype('category') # เปลี่ยนคอลัมน์ alone_ ให้เป็น Category\n",
    "df_sc['survived_'] = df_sc['survived_'].astype('category') # เปลี่ยนคอลัมน์ surived_ ให้เป็น Category"
   ]
  },
  {
   "cell_type": "code",
   "execution_count": 41,
   "metadata": {},
   "outputs": [],
   "source": [
    "col_sel = ['pclass_', 'sex_', 'age_', 'sibsp_', 'parch_', 'fare_', 'embarked_', 'who_', 'alone_']\n",
    "X_sc = df_sc[col_sel]\n",
    "y = df['survived']"
   ]
  },
  {
   "cell_type": "markdown",
   "metadata": {},
   "source": [
    "- เลือก Feature ด้วย  Univariate Selction (category)"
   ]
  },
  {
   "cell_type": "code",
   "execution_count": 42,
   "metadata": {},
   "outputs": [
    {
     "name": "stdout",
     "output_type": "stream",
     "text": [
      "[2.656e+01 9.151e+01 4.132e-03 1.844e-01 1.741e+00 1.832e+01 5.226e+00\n",
      " 1.519e+01 1.505e+01]\n"
     ]
    }
   ],
   "source": [
    "# ทำการ import ไลบรารี่และ fit ข้อมูลเพื่อเลือก features ที่ดีที่สุด\n",
    "from sklearn.feature_selection import SelectKBest, chi2\n",
    "test = SelectKBest(score_func = chi2, k=5) # กำหนดค่า k (จำนวนคอลัมน์ที่ต้องการ)\n",
    "fit = test.fit(X_sc, y)\n",
    "\n",
    "np.set_printoptions(precision = 3)\n",
    "print(fit.scores_) # แสดง scores\n",
    "features = fit.transform(X_sc)"
   ]
  },
  {
   "cell_type": "code",
   "execution_count": 43,
   "metadata": {},
   "outputs": [],
   "source": [
    "#จะได้ค่า Score ของแต่ละคอลัมน์และแสดงตัวอย่างข้อมูลที่ควรนำไปใช้\n",
    "# หากต้องการเทียบข้อมูลให้ใช้\n",
    "dfts = pd.DataFrame(fit.scores_, columns=['score'])\n",
    "dfts['column'] = X.columns\n",
    "dfts.sort_values(by= 'score', ascending=False)\n",
    "df_sc = pd.DataFrame(X_sc, columns=X.columns) # เตรียม df_sc ไว้"
   ]
  },
  {
   "cell_type": "code",
   "execution_count": 44,
   "metadata": {},
   "outputs": [
    {
     "data": {
      "text/html": [
       "<div>\n",
       "<style scoped>\n",
       "    .dataframe tbody tr th:only-of-type {\n",
       "        vertical-align: middle;\n",
       "    }\n",
       "\n",
       "    .dataframe tbody tr th {\n",
       "        vertical-align: top;\n",
       "    }\n",
       "\n",
       "    .dataframe thead th {\n",
       "        text-align: right;\n",
       "    }\n",
       "</style>\n",
       "<table border=\"1\" class=\"dataframe\">\n",
       "  <thead>\n",
       "    <tr style=\"text-align: right;\">\n",
       "      <th></th>\n",
       "      <th>sex_</th>\n",
       "      <th>pclass_</th>\n",
       "      <th>fare_</th>\n",
       "      <th>who_</th>\n",
       "      <th>alone_</th>\n",
       "    </tr>\n",
       "  </thead>\n",
       "  <tbody>\n",
       "    <tr>\n",
       "      <th>80</th>\n",
       "      <td>1.0</td>\n",
       "      <td>1.0</td>\n",
       "      <td>0.260163</td>\n",
       "      <td>0.0</td>\n",
       "      <td>1.0</td>\n",
       "    </tr>\n",
       "    <tr>\n",
       "      <th>62</th>\n",
       "      <td>1.0</td>\n",
       "      <td>1.0</td>\n",
       "      <td>0.597561</td>\n",
       "      <td>1.0</td>\n",
       "      <td>0.0</td>\n",
       "    </tr>\n",
       "    <tr>\n",
       "      <th>71</th>\n",
       "      <td>1.0</td>\n",
       "      <td>0.5</td>\n",
       "      <td>0.845528</td>\n",
       "      <td>0.0</td>\n",
       "      <td>1.0</td>\n",
       "    </tr>\n",
       "    <tr>\n",
       "      <th>741</th>\n",
       "      <td>0.0</td>\n",
       "      <td>0.0</td>\n",
       "      <td>0.991870</td>\n",
       "      <td>0.0</td>\n",
       "      <td>0.0</td>\n",
       "    </tr>\n",
       "    <tr>\n",
       "      <th>719</th>\n",
       "      <td>0.0</td>\n",
       "      <td>0.5</td>\n",
       "      <td>0.658537</td>\n",
       "      <td>1.0</td>\n",
       "      <td>0.0</td>\n",
       "    </tr>\n",
       "  </tbody>\n",
       "</table>\n",
       "</div>"
      ],
      "text/plain": [
       "     sex_  pclass_     fare_  who_  alone_\n",
       "80    1.0      1.0  0.260163   0.0     1.0\n",
       "62    1.0      1.0  0.597561   1.0     0.0\n",
       "71    1.0      0.5  0.845528   0.0     1.0\n",
       "741   0.0      0.0  0.991870   0.0     0.0\n",
       "719   0.0      0.5  0.658537   1.0     0.0"
      ]
     },
     "execution_count": 44,
     "metadata": {},
     "output_type": "execute_result"
    }
   ],
   "source": [
    "# ควรตัด age, parch ออกไปถ้าต้องการลดให้เหลือ 5 column\n",
    "cols_fts = dfts.sort_values(by='score', ascending=False).head(5).column # เรียงลำดับ 5 อันดับคะแนนสูงสุด\n",
    "#cols_fts = dfts.nlargest(5, 'score').column # หรือใช้ nlargest\n",
    "X_US_fts = df_sc[cols_fts].copy()\n",
    "X_US_fts.shape #จะเหลือ 5 คอลัมน์\n",
    "X_US_fts.sample(5) # จะได้ features ที่ใช้มี sex_,\tpclass_, who_, alone_, fare"
   ]
  },
  {
   "cell_type": "markdown",
   "metadata": {},
   "source": [
    "- การเลือกด้วยวิธีเวียนกำจัด RFE (Recursive Feature Elimination) "
   ]
  },
  {
   "cell_type": "markdown",
   "metadata": {},
   "source": [
    "เป็นเทคนิค Feature Selection ที่วนรอบการกำจัดเอา Feature ออกไป มีหลักการคือต้องการสร้าง Model classifier ตัวฐานก่อน จากนั้นทำการประเมิณ Features แล้วรายงานผลว่า Feature ตัวใดควรเอาไว้ ควรตัดทิ้ง"
   ]
  },
  {
   "cell_type": "code",
   "execution_count": 45,
   "metadata": {},
   "outputs": [
    {
     "name": "stdout",
     "output_type": "stream",
     "text": [
      "[False  True False  True  True  True False  True False]\n",
      "[2 1 3 1 1 1 5 1 4]\n"
     ]
    }
   ],
   "source": [
    "from sklearn.feature_selection import RFE\n",
    "from sklearn.svm import LinearSVC\n",
    "\n",
    "model = LinearSVC() # สร้าง model classifier เพื่อประเมิณ feature ย่อยๆ\n",
    "rfe = RFE(model, 5) # สร้าง RFE model และ เลือก 5 Features\n",
    "rfe = rfe.fit(X_sc,y)\n",
    "\n",
    "print(rfe.support_) # แสดงผลการประเมิณการเลือก Features\n",
    "print(rfe.ranking_)"
   ]
  },
  {
   "cell_type": "code",
   "execution_count": 46,
   "metadata": {},
   "outputs": [
    {
     "data": {
      "text/plain": [
       "['sex_', 'sibsp_', 'parch_', 'fare_', 'who_']"
      ]
     },
     "execution_count": 46,
     "metadata": {},
     "output_type": "execute_result"
    }
   ],
   "source": [
    "# 1(True) ควรเลือก Feature นั้นไว้\n",
    "# ให้อ่าน features ที่เราควรเลือกไว้ใช่้\n",
    "cols_fts = []\n",
    "for i,cl in enumerate(X.columns):\n",
    "    if rfe.support_[i] == True:\n",
    "        cols_fts.append(cl)\n",
    "cols_fts # แนะนำให้เลือก features เหล่านี้ไปใช้"
   ]
  },
  {
   "cell_type": "code",
   "execution_count": 47,
   "metadata": {},
   "outputs": [
    {
     "data": {
      "text/html": [
       "<div>\n",
       "<style scoped>\n",
       "    .dataframe tbody tr th:only-of-type {\n",
       "        vertical-align: middle;\n",
       "    }\n",
       "\n",
       "    .dataframe tbody tr th {\n",
       "        vertical-align: top;\n",
       "    }\n",
       "\n",
       "    .dataframe thead th {\n",
       "        text-align: right;\n",
       "    }\n",
       "</style>\n",
       "<table border=\"1\" class=\"dataframe\">\n",
       "  <thead>\n",
       "    <tr style=\"text-align: right;\">\n",
       "      <th></th>\n",
       "      <th>sex_</th>\n",
       "      <th>sibsp_</th>\n",
       "      <th>parch_</th>\n",
       "      <th>fare_</th>\n",
       "      <th>who_</th>\n",
       "    </tr>\n",
       "  </thead>\n",
       "  <tbody>\n",
       "    <tr>\n",
       "      <th>0</th>\n",
       "      <td>1.0</td>\n",
       "      <td>0.166667</td>\n",
       "      <td>0.0</td>\n",
       "      <td>0.073171</td>\n",
       "      <td>0.0</td>\n",
       "    </tr>\n",
       "    <tr>\n",
       "      <th>1</th>\n",
       "      <td>0.0</td>\n",
       "      <td>0.166667</td>\n",
       "      <td>0.0</td>\n",
       "      <td>0.841463</td>\n",
       "      <td>0.0</td>\n",
       "    </tr>\n",
       "    <tr>\n",
       "      <th>2</th>\n",
       "      <td>0.0</td>\n",
       "      <td>0.000000</td>\n",
       "      <td>0.0</td>\n",
       "      <td>0.166667</td>\n",
       "      <td>0.0</td>\n",
       "    </tr>\n",
       "    <tr>\n",
       "      <th>3</th>\n",
       "      <td>0.0</td>\n",
       "      <td>0.166667</td>\n",
       "      <td>0.0</td>\n",
       "      <td>0.768293</td>\n",
       "      <td>0.0</td>\n",
       "    </tr>\n",
       "    <tr>\n",
       "      <th>4</th>\n",
       "      <td>1.0</td>\n",
       "      <td>0.000000</td>\n",
       "      <td>0.0</td>\n",
       "      <td>0.174797</td>\n",
       "      <td>0.0</td>\n",
       "    </tr>\n",
       "  </tbody>\n",
       "</table>\n",
       "</div>"
      ],
      "text/plain": [
       "   sex_    sibsp_  parch_     fare_  who_\n",
       "0   1.0  0.166667     0.0  0.073171   0.0\n",
       "1   0.0  0.166667     0.0  0.841463   0.0\n",
       "2   0.0  0.000000     0.0  0.166667   0.0\n",
       "3   0.0  0.166667     0.0  0.768293   0.0\n",
       "4   1.0  0.000000     0.0  0.174797   0.0"
      ]
     },
     "execution_count": 47,
     "metadata": {},
     "output_type": "execute_result"
    }
   ],
   "source": [
    "# เลือกใช้งาน cols_fts\n",
    "X_RFS_fts = df_sc[cols_fts]\n",
    "X_RFS_fts.head()"
   ]
  },
  {
   "cell_type": "code",
   "execution_count": 48,
   "metadata": {},
   "outputs": [
    {
     "data": {
      "text/html": [
       "<div>\n",
       "<style scoped>\n",
       "    .dataframe tbody tr th:only-of-type {\n",
       "        vertical-align: middle;\n",
       "    }\n",
       "\n",
       "    .dataframe tbody tr th {\n",
       "        vertical-align: top;\n",
       "    }\n",
       "\n",
       "    .dataframe thead th {\n",
       "        text-align: right;\n",
       "    }\n",
       "</style>\n",
       "<table border=\"1\" class=\"dataframe\">\n",
       "  <thead>\n",
       "    <tr style=\"text-align: right;\">\n",
       "      <th></th>\n",
       "      <th>sex_</th>\n",
       "      <th>pclass_</th>\n",
       "      <th>fare_</th>\n",
       "      <th>who_</th>\n",
       "      <th>alone_</th>\n",
       "    </tr>\n",
       "  </thead>\n",
       "  <tbody>\n",
       "    <tr>\n",
       "      <th>653</th>\n",
       "      <td>0.0</td>\n",
       "      <td>1.0</td>\n",
       "      <td>0.028455</td>\n",
       "      <td>0.0</td>\n",
       "      <td>1.0</td>\n",
       "    </tr>\n",
       "    <tr>\n",
       "      <th>614</th>\n",
       "      <td>0.0</td>\n",
       "      <td>0.5</td>\n",
       "      <td>0.821138</td>\n",
       "      <td>0.0</td>\n",
       "      <td>0.0</td>\n",
       "    </tr>\n",
       "    <tr>\n",
       "      <th>753</th>\n",
       "      <td>0.0</td>\n",
       "      <td>0.5</td>\n",
       "      <td>0.821138</td>\n",
       "      <td>0.0</td>\n",
       "      <td>0.0</td>\n",
       "    </tr>\n",
       "    <tr>\n",
       "      <th>479</th>\n",
       "      <td>1.0</td>\n",
       "      <td>1.0</td>\n",
       "      <td>0.727642</td>\n",
       "      <td>1.0</td>\n",
       "      <td>0.0</td>\n",
       "    </tr>\n",
       "    <tr>\n",
       "      <th>659</th>\n",
       "      <td>1.0</td>\n",
       "      <td>0.0</td>\n",
       "      <td>0.943089</td>\n",
       "      <td>0.0</td>\n",
       "      <td>0.0</td>\n",
       "    </tr>\n",
       "  </tbody>\n",
       "</table>\n",
       "</div>"
      ],
      "text/plain": [
       "     sex_  pclass_     fare_  who_  alone_\n",
       "653   0.0      1.0  0.028455   0.0     1.0\n",
       "614   0.0      0.5  0.821138   0.0     0.0\n",
       "753   0.0      0.5  0.821138   0.0     0.0\n",
       "479   1.0      1.0  0.727642   1.0     0.0\n",
       "659   1.0      0.0  0.943089   0.0     0.0"
      ]
     },
     "execution_count": 48,
     "metadata": {},
     "output_type": "execute_result"
    }
   ],
   "source": [
    "X_US_fts.sample(5)"
   ]
  },
  {
   "cell_type": "code",
   "execution_count": 49,
   "metadata": {},
   "outputs": [
    {
     "data": {
      "text/html": [
       "<div>\n",
       "<style scoped>\n",
       "    .dataframe tbody tr th:only-of-type {\n",
       "        vertical-align: middle;\n",
       "    }\n",
       "\n",
       "    .dataframe tbody tr th {\n",
       "        vertical-align: top;\n",
       "    }\n",
       "\n",
       "    .dataframe thead th {\n",
       "        text-align: right;\n",
       "    }\n",
       "</style>\n",
       "<table border=\"1\" class=\"dataframe\">\n",
       "  <thead>\n",
       "    <tr style=\"text-align: right;\">\n",
       "      <th></th>\n",
       "      <th>SEX</th>\n",
       "      <th>PC</th>\n",
       "      <th>W</th>\n",
       "      <th>AL</th>\n",
       "      <th>F</th>\n",
       "    </tr>\n",
       "  </thead>\n",
       "  <tbody>\n",
       "    <tr>\n",
       "      <th>0</th>\n",
       "      <td>0.735342</td>\n",
       "      <td>0.488500</td>\n",
       "      <td>-0.474326</td>\n",
       "      <td>-1.247313</td>\n",
       "      <td>-0.320901</td>\n",
       "    </tr>\n",
       "    <tr>\n",
       "      <th>1</th>\n",
       "      <td>-1.359911</td>\n",
       "      <td>0.488500</td>\n",
       "      <td>-0.474326</td>\n",
       "      <td>1.461772</td>\n",
       "      <td>-0.320901</td>\n",
       "    </tr>\n",
       "    <tr>\n",
       "      <th>2</th>\n",
       "      <td>-1.359911</td>\n",
       "      <td>-0.505267</td>\n",
       "      <td>-0.474326</td>\n",
       "      <td>-0.917636</td>\n",
       "      <td>-0.320901</td>\n",
       "    </tr>\n",
       "    <tr>\n",
       "      <th>3</th>\n",
       "      <td>-1.359911</td>\n",
       "      <td>0.488500</td>\n",
       "      <td>-0.474326</td>\n",
       "      <td>1.203764</td>\n",
       "      <td>-0.320901</td>\n",
       "    </tr>\n",
       "    <tr>\n",
       "      <th>4</th>\n",
       "      <td>0.735342</td>\n",
       "      <td>-0.505267</td>\n",
       "      <td>-0.474326</td>\n",
       "      <td>-0.888969</td>\n",
       "      <td>-0.320901</td>\n",
       "    </tr>\n",
       "  </tbody>\n",
       "</table>\n",
       "</div>"
      ],
      "text/plain": [
       "        SEX        PC         W        AL         F\n",
       "0  0.735342  0.488500 -0.474326 -1.247313 -0.320901\n",
       "1 -1.359911  0.488500 -0.474326  1.461772 -0.320901\n",
       "2 -1.359911 -0.505267 -0.474326 -0.917636 -0.320901\n",
       "3 -1.359911  0.488500 -0.474326  1.203764 -0.320901\n",
       "4  0.735342 -0.505267 -0.474326 -0.888969 -0.320901"
      ]
     },
     "execution_count": 49,
     "metadata": {},
     "output_type": "execute_result"
    }
   ],
   "source": [
    "# ลดสเกลของ X_US_fts /X_RFS_fts ด้วย Standard Scale\n",
    "from sklearn.preprocessing import StandardScaler\n",
    "\n",
    "sc = StandardScaler() # สร้าง Obj สำหรับทำ Standard Scale\n",
    "X = X_RFS_fts\n",
    "X_SDS = sc.fit_transform(X) # X_sc คือข้อมูลที่ทำการปรับสเกลแล้ว จะจัดอยู่ในรูป Matrix \n",
    "\n",
    "# นำ Matrix ไปสร้างเป็น Data Frame ด้วย Pandas\n",
    "cols = ['SEX', 'PC', 'W', 'AL', 'F']\n",
    "sc_df = pd.DataFrame(X_SDS, columns=cols)\n",
    "sc_df.head() # ดูข้อมูลที่ลดสเกลแล้ว\n"
   ]
  },
  {
   "cell_type": "markdown",
   "metadata": {},
   "source": [
    "# เปรียบเทียบ model และ features แต่ละแบบ\n",
    "- การเลือกด้วยวิธีเวียนกำจัด RFE (Recursive Feature Elimination)"
   ]
  },
  {
   "cell_type": "code",
   "execution_count": 50,
   "metadata": {},
   "outputs": [],
   "source": [
    "# ลดสเกลของ X_US_fts /X_RFS_fts ด้วย Standard Scale\n",
    "from sklearn.preprocessing import StandardScaler\n",
    "sc = StandardScaler() # สร้าง Obj สำหรับทำ Standard Scale\n",
    "X = X_RFS_fts # 'who_', 'sex_', 'sibsp', 'fare', 'pclass_'\n",
    "X_SDS = sc.fit_transform(X) # X_sc คือข้อมูลที่ทำการปรับสเกลแล้ว จะจัดอยู่ในรูป Matrix "
   ]
  },
  {
   "cell_type": "code",
   "execution_count": 51,
   "metadata": {},
   "outputs": [
    {
     "data": {
      "text/html": [
       "<div>\n",
       "<style scoped>\n",
       "    .dataframe tbody tr th:only-of-type {\n",
       "        vertical-align: middle;\n",
       "    }\n",
       "\n",
       "    .dataframe tbody tr th {\n",
       "        vertical-align: top;\n",
       "    }\n",
       "\n",
       "    .dataframe thead th {\n",
       "        text-align: right;\n",
       "    }\n",
       "</style>\n",
       "<table border=\"1\" class=\"dataframe\">\n",
       "  <thead>\n",
       "    <tr style=\"text-align: right;\">\n",
       "      <th></th>\n",
       "      <th>SEX</th>\n",
       "      <th>PC</th>\n",
       "      <th>W</th>\n",
       "      <th>AL</th>\n",
       "      <th>F</th>\n",
       "    </tr>\n",
       "  </thead>\n",
       "  <tbody>\n",
       "    <tr>\n",
       "      <th>0</th>\n",
       "      <td>0.735342</td>\n",
       "      <td>0.488500</td>\n",
       "      <td>-0.474326</td>\n",
       "      <td>-1.247313</td>\n",
       "      <td>-0.320901</td>\n",
       "    </tr>\n",
       "    <tr>\n",
       "      <th>1</th>\n",
       "      <td>-1.359911</td>\n",
       "      <td>0.488500</td>\n",
       "      <td>-0.474326</td>\n",
       "      <td>1.461772</td>\n",
       "      <td>-0.320901</td>\n",
       "    </tr>\n",
       "    <tr>\n",
       "      <th>2</th>\n",
       "      <td>-1.359911</td>\n",
       "      <td>-0.505267</td>\n",
       "      <td>-0.474326</td>\n",
       "      <td>-0.917636</td>\n",
       "      <td>-0.320901</td>\n",
       "    </tr>\n",
       "    <tr>\n",
       "      <th>3</th>\n",
       "      <td>-1.359911</td>\n",
       "      <td>0.488500</td>\n",
       "      <td>-0.474326</td>\n",
       "      <td>1.203764</td>\n",
       "      <td>-0.320901</td>\n",
       "    </tr>\n",
       "    <tr>\n",
       "      <th>4</th>\n",
       "      <td>0.735342</td>\n",
       "      <td>-0.505267</td>\n",
       "      <td>-0.474326</td>\n",
       "      <td>-0.888969</td>\n",
       "      <td>-0.320901</td>\n",
       "    </tr>\n",
       "  </tbody>\n",
       "</table>\n",
       "</div>"
      ],
      "text/plain": [
       "        SEX        PC         W        AL         F\n",
       "0  0.735342  0.488500 -0.474326 -1.247313 -0.320901\n",
       "1 -1.359911  0.488500 -0.474326  1.461772 -0.320901\n",
       "2 -1.359911 -0.505267 -0.474326 -0.917636 -0.320901\n",
       "3 -1.359911  0.488500 -0.474326  1.203764 -0.320901\n",
       "4  0.735342 -0.505267 -0.474326 -0.888969 -0.320901"
      ]
     },
     "execution_count": 51,
     "metadata": {},
     "output_type": "execute_result"
    }
   ],
   "source": [
    "# นำ Matrix ไปสร้างเป็น Data Frame ด้วย Pandas\n",
    "cols = ['SEX', 'PC', 'W', 'AL', 'F']\n",
    "sc_df = pd.DataFrame(X_SDS, columns=cols)\n",
    "sc_df.head() # ดูข้อมูลที่ลดสเกลแล้ว"
   ]
  },
  {
   "cell_type": "code",
   "execution_count": 52,
   "metadata": {},
   "outputs": [],
   "source": [
    "# แบ่งข้อมูล Train Test\n",
    "from sklearn.model_selection import train_test_split\n",
    "# แบ่งเป็น X y test train จาก X y โดยที่ test_size = 0.2 (train_size=0.8)\n",
    "from sklearn.model_selection import cross_val_score\n",
    "X_train, X_test,y_train,y_test = train_test_split(X_SDS,y,test_size=0.2,random_state=2020) \n",
    "from time import time"
   ]
  },
  {
   "cell_type": "markdown",
   "metadata": {},
   "source": [
    "## 1. สำหรับ Decision Tree"
   ]
  },
  {
   "cell_type": "markdown",
   "metadata": {},
   "source": [
    "- การเลือกด้วยวิธีเวียนกำจัด RFE (Recursive Feature Elimination) "
   ]
  },
  {
   "cell_type": "code",
   "execution_count": 53,
   "metadata": {},
   "outputs": [
    {
     "name": "stdout",
     "output_type": "stream",
     "text": [
      "0.00400 sec\n",
      "Cross val scores [0.809 0.786 0.742 0.786 0.82  0.832 0.843 0.798 0.843 0.852]\n",
      "mean 81.1070 %\n"
     ]
    }
   ],
   "source": [
    "from sklearn.tree import DecisionTreeClassifier\n",
    "\n",
    "model_DT = DecisionTreeClassifier()\n",
    "start = time() # เวลาเริ่มต้น train\n",
    "model_DT.fit(X_train, y_train)\n",
    "finish_RFE_DT = time() -start\n",
    "print('{:.5f} sec'.format(finish_RFE_DT)) # เวลาเสร็จสิ้นการทำงาน\n",
    "cvs = cross_val_score(model_DT, X, y, cv=10) # k=5\n",
    "cvs_RFE_DT = cvs.mean()*100\n",
    "print('Cross val scores {}'.format(cvs.round(4)))\n",
    "print('mean {:.4f} %'.format(cvs.mean()*100))"
   ]
  },
  {
   "cell_type": "markdown",
   "metadata": {},
   "source": [
    "## 2. สำหรับ Support Vector Machine"
   ]
  },
  {
   "cell_type": "markdown",
   "metadata": {},
   "source": [
    "- การเลือกด้วยวิธีเวียนกำจัด RFE (Recursive Feature Elimination) "
   ]
  },
  {
   "cell_type": "code",
   "execution_count": 54,
   "metadata": {},
   "outputs": [
    {
     "name": "stdout",
     "output_type": "stream",
     "text": [
      "0.01701 sec\n",
      "Cross val scores [0.82  0.854 0.764 0.865 0.82  0.798 0.809 0.786 0.843 0.852]\n",
      "mean 82.1182 %\n"
     ]
    }
   ],
   "source": [
    "from sklearn.svm import SVC\n",
    "model_SVC = SVC()\n",
    "start = time() # เวลาเริ่มต้น train\n",
    "model_SVC.fit(X_train, y_train)\n",
    "finish_RFE_SVC = time() -start\n",
    "print('{:.5f} sec'.format(finish_RFE_SVC)) # เวลาเสร็จสิ้นการทำงาน\n",
    "cvs = cross_val_score(model_SVC, X, y, cv=10) # k=5\n",
    "cvs_RFE_SVC = cvs.mean()*100\n",
    "print('Cross val scores {}'.format(cvs.round(4)))\n",
    "print('mean {:.4f} %'.format(cvs.mean()*100))"
   ]
  },
  {
   "cell_type": "markdown",
   "metadata": {},
   "source": [
    "## 3. สำหรับ Naive Bayes"
   ]
  },
  {
   "cell_type": "markdown",
   "metadata": {},
   "source": [
    "- การเลือกด้วยวิธีเวียนกำจัด RFE (Recursive Feature Elimination)"
   ]
  },
  {
   "cell_type": "code",
   "execution_count": 55,
   "metadata": {},
   "outputs": [
    {
     "name": "stdout",
     "output_type": "stream",
     "text": [
      "0.00200 sec\n",
      "Cross val scores [0.798 0.82  0.775 0.854 0.809 0.809 0.798 0.742 0.832 0.818]\n",
      "mean 80.5414 %\n"
     ]
    }
   ],
   "source": [
    "from sklearn.naive_bayes import GaussianNB\n",
    "from sklearn.model_selection import cross_val_score\n",
    "model_NB = GaussianNB() # Naive Bayes\n",
    "start = time() # เวลาเริ่มต้น train\n",
    "model_NB.fit(X_train, y_train) # Train สร้าง model\n",
    "finish_RFE_NB = time() -start\n",
    "print('{:.5f} sec'.format(finish_RFE_NB)) # เวลาเสร็จสิ้นการทำงาน\n",
    "cvs = cross_val_score(model_NB, X, y, cv=10) # precision\n",
    "cvs_RFE_NB = cvs.mean()*100\n",
    "print('Cross val scores {}'.format(cvs.round(4))) \n",
    "print('mean {:.4f} %'.format(cvs.mean()*100)) "
   ]
  },
  {
   "cell_type": "markdown",
   "metadata": {},
   "source": [
    "## 4. สำหรับ k-Nearest Neighbors"
   ]
  },
  {
   "cell_type": "markdown",
   "metadata": {},
   "source": [
    "- การเลือกด้วยวิธีเวียนกำจัด RFE (Recursive Feature Elimination)"
   ]
  },
  {
   "cell_type": "code",
   "execution_count": 56,
   "metadata": {},
   "outputs": [
    {
     "name": "stdout",
     "output_type": "stream",
     "text": [
      "0.00300 sec\n",
      "Cross val scores [0.775 0.82  0.708 0.832 0.82  0.809 0.832 0.832 0.843 0.841]\n",
      "mean 81.1057 %\n"
     ]
    }
   ],
   "source": [
    "from sklearn.neighbors import KNeighborsClassifier\n",
    "\n",
    "model_KNN = KNeighborsClassifier() #ตั้งค่า model n_neighbors = 1,2,3\n",
    "start = time() # เวลาเริ่มต้น train\n",
    "model_KNN.fit(X_train, y_train) # Train สร้าง model\n",
    "finish_RFE_kNN = time() -start\n",
    "print('{:.5f} sec'.format(finish_RFE_kNN)) # เวลาเสร็จสิ้นการทำงาน\n",
    "cvs = cross_val_score(model_KNN, X, y, cv=10) # k=5\n",
    "cvs_RFE_kNN = cvs.mean()*100\n",
    "print('Cross val scores {}'.format(cvs.round(4)))\n",
    "print('mean {:.4f} %'.format(cvs.mean()*100))"
   ]
  },
  {
   "cell_type": "markdown",
   "metadata": {},
   "source": [
    "## 5. สำหรับ Random Forest"
   ]
  },
  {
   "cell_type": "markdown",
   "metadata": {},
   "source": [
    "- การเลือกด้วยวิธีเวียนกำจัด RFE (Recursive Feature Elimination)"
   ]
  },
  {
   "cell_type": "code",
   "execution_count": 57,
   "metadata": {},
   "outputs": [
    {
     "name": "stdout",
     "output_type": "stream",
     "text": [
      "0.16601 sec\n",
      "Cross val scores [0.798 0.798 0.73  0.82  0.865 0.843 0.82  0.809 0.843 0.795]\n",
      "mean 81.2130 %\n"
     ]
    }
   ],
   "source": [
    "from sklearn.ensemble import RandomForestClassifier\n",
    "\n",
    "model_RFC = RandomForestClassifier() # n_estimators = จำนวนต้นไม้ที่ต้องการสร้าง\n",
    "start = time() # เวลาเริ่มต้น train\n",
    "model_RFC.fit(X_train, y_train) # Train สร้าง model\n",
    "finish_RFE_RF = time() -start\n",
    "print('{:.5f} sec'.format(finish_RFE_RF)) # เวลาเสร็จสิ้นการทำงาน\n",
    "cvs = cross_val_score(model_RFC, X, y, cv=10) # k=5\n",
    "cvs_RFE_RF = cvs.mean()*100\n",
    "print('Cross val scores {}'.format(cvs.round(4)))\n",
    "print('mean {:.4f} %'.format(cvs.mean()*100))"
   ]
  },
  {
   "cell_type": "markdown",
   "metadata": {},
   "source": [
    "## 6. สำหรับ Logistic Regression"
   ]
  },
  {
   "cell_type": "markdown",
   "metadata": {},
   "source": [
    "- การเลือกด้วยวิธีเวียนกำจัด RFE (Recursive Feature Elimination)"
   ]
  },
  {
   "cell_type": "code",
   "execution_count": 58,
   "metadata": {},
   "outputs": [
    {
     "name": "stdout",
     "output_type": "stream",
     "text": [
      "0.04701 sec\n",
      "Cross val scores [0.798 0.753 0.786 0.854 0.786 0.786 0.764 0.742 0.82  0.784]\n",
      "mean 78.7398 %\n"
     ]
    }
   ],
   "source": [
    "from sklearn.linear_model import LogisticRegression\n",
    "\n",
    "model_LR = LogisticRegression() # n_estimators = จำนวนต้นไม้ที่ต้องการสร้าง\n",
    "start = time() # เวลาเริ่มต้น train\n",
    "model_LR.fit(X_train, y_train) # Train สร้าง model\n",
    "finish_RFE_LR = time() -start\n",
    "print('{:.5f} sec'.format(finish_RFE_LR)) # เวลาเสร็จสิ้นการทำงาน\n",
    "cvs = cross_val_score(model_LR, X, y, cv=10) # k=5\n",
    "cvs_RFE_LR = cvs.mean()*100\n",
    "print('Cross val scores {}'.format(cvs.round(4)))\n",
    "print('mean {:.4f} %'.format(cvs.mean()*100))"
   ]
  },
  {
   "cell_type": "markdown",
   "metadata": {},
   "source": [
    "# เปรียบเทียบ model และ features แต่ละแบบ\n",
    "- การเลือกFeatures ด้วยวิธี  Univariate Selection (category)"
   ]
  },
  {
   "cell_type": "code",
   "execution_count": 59,
   "metadata": {},
   "outputs": [],
   "source": [
    "# ลดสเกลของ X_US_fts /X_RFS_fts ด้วย Standard Scale\n",
    "from sklearn.preprocessing import StandardScaler\n",
    "from time import time\n",
    "sc = StandardScaler() # สร้าง Obj สำหรับทำ Standard Scale\n",
    "X = X_US_fts # 'sex_', 'pclass_', 'who_', 'alone_', 'fare'\n",
    "X_SDS = sc.fit_transform(X) # X_sc คือข้อมูลที่ทำการปรับสเกลแล้ว จะจัดอยู่ในรูป Matrix "
   ]
  },
  {
   "cell_type": "code",
   "execution_count": 60,
   "metadata": {},
   "outputs": [
    {
     "data": {
      "text/html": [
       "<div>\n",
       "<style scoped>\n",
       "    .dataframe tbody tr th:only-of-type {\n",
       "        vertical-align: middle;\n",
       "    }\n",
       "\n",
       "    .dataframe tbody tr th {\n",
       "        vertical-align: top;\n",
       "    }\n",
       "\n",
       "    .dataframe thead th {\n",
       "        text-align: right;\n",
       "    }\n",
       "</style>\n",
       "<table border=\"1\" class=\"dataframe\">\n",
       "  <thead>\n",
       "    <tr style=\"text-align: right;\">\n",
       "      <th></th>\n",
       "      <th>SEX</th>\n",
       "      <th>PC</th>\n",
       "      <th>W</th>\n",
       "      <th>AL</th>\n",
       "      <th>F</th>\n",
       "    </tr>\n",
       "  </thead>\n",
       "  <tbody>\n",
       "    <tr>\n",
       "      <th>0</th>\n",
       "      <td>0.735342</td>\n",
       "      <td>0.825209</td>\n",
       "      <td>-1.247313</td>\n",
       "      <td>-0.320901</td>\n",
       "      <td>-1.229349</td>\n",
       "    </tr>\n",
       "    <tr>\n",
       "      <th>1</th>\n",
       "      <td>-1.359911</td>\n",
       "      <td>-1.572211</td>\n",
       "      <td>1.461772</td>\n",
       "      <td>-0.320901</td>\n",
       "      <td>-1.229349</td>\n",
       "    </tr>\n",
       "    <tr>\n",
       "      <th>2</th>\n",
       "      <td>-1.359911</td>\n",
       "      <td>0.825209</td>\n",
       "      <td>-0.917636</td>\n",
       "      <td>-0.320901</td>\n",
       "      <td>0.813439</td>\n",
       "    </tr>\n",
       "    <tr>\n",
       "      <th>3</th>\n",
       "      <td>-1.359911</td>\n",
       "      <td>-1.572211</td>\n",
       "      <td>1.203764</td>\n",
       "      <td>-0.320901</td>\n",
       "      <td>-1.229349</td>\n",
       "    </tr>\n",
       "    <tr>\n",
       "      <th>4</th>\n",
       "      <td>0.735342</td>\n",
       "      <td>0.825209</td>\n",
       "      <td>-0.888969</td>\n",
       "      <td>-0.320901</td>\n",
       "      <td>0.813439</td>\n",
       "    </tr>\n",
       "  </tbody>\n",
       "</table>\n",
       "</div>"
      ],
      "text/plain": [
       "        SEX        PC         W        AL         F\n",
       "0  0.735342  0.825209 -1.247313 -0.320901 -1.229349\n",
       "1 -1.359911 -1.572211  1.461772 -0.320901 -1.229349\n",
       "2 -1.359911  0.825209 -0.917636 -0.320901  0.813439\n",
       "3 -1.359911 -1.572211  1.203764 -0.320901 -1.229349\n",
       "4  0.735342  0.825209 -0.888969 -0.320901  0.813439"
      ]
     },
     "execution_count": 60,
     "metadata": {},
     "output_type": "execute_result"
    }
   ],
   "source": [
    "# นำ Matrix ไปสร้างเป็น Data Frame ด้วย Pandas\n",
    "cols = ['SEX', 'PC', 'W', 'AL', 'F']\n",
    "sc_df = pd.DataFrame(X_SDS, columns=cols)\n",
    "sc_df.head() # ดูข้อมูลที่ลดสเกลแล้ว"
   ]
  },
  {
   "cell_type": "code",
   "execution_count": 61,
   "metadata": {},
   "outputs": [],
   "source": [
    "# แบ่งข้อมูล Train Test\n",
    "from sklearn.model_selection import train_test_split\n",
    "# แบ่งเป็น X y test train จาก X y โดยที่ test_size = 0.2 (train_size=0.8)\n",
    "X_train, X_test,y_train,y_test = train_test_split(X_SDS,y,test_size=0.2,random_state=2020) "
   ]
  },
  {
   "cell_type": "markdown",
   "metadata": {},
   "source": [
    "## 1. สำหรับ Decision Tree"
   ]
  },
  {
   "cell_type": "code",
   "execution_count": 62,
   "metadata": {},
   "outputs": [
    {
     "name": "stdout",
     "output_type": "stream",
     "text": [
      "0.00100 sec\n",
      "Cross val scores [0.798 0.832 0.775 0.764 0.854 0.809 0.865 0.843 0.854 0.83 ]\n",
      "mean 82.2280 %\n"
     ]
    }
   ],
   "source": [
    "from sklearn.tree import DecisionTreeClassifier\n",
    "\n",
    "model_DT = DecisionTreeClassifier()\n",
    "start = time() # เวลาเริ่มต้น train\n",
    "model_DT.fit(X_train, y_train)\n",
    "finish_US_DT = time() -start\n",
    "print('{:.5f} sec'.format(finish_US_DT)) # เวลาเสร็จสิ้นการทำงาน\n",
    "cvs = cross_val_score(model_DT, X, y, cv=10) # k=5\n",
    "cvs_US_DT = cvs.mean()*100\n",
    "print('Cross val scores {}'.format(cvs.round(4)))\n",
    "print('mean {:.4f} %'.format(cvs.mean()*100))"
   ]
  },
  {
   "cell_type": "markdown",
   "metadata": {},
   "source": [
    "## 2. สำหรับ Support Vector Machine"
   ]
  },
  {
   "cell_type": "code",
   "execution_count": 63,
   "metadata": {},
   "outputs": [
    {
     "name": "stdout",
     "output_type": "stream",
     "text": [
      "0.01100 sec\n",
      "Cross val scores [0.843 0.82  0.753 0.843 0.843 0.764 0.832 0.786 0.865 0.807]\n",
      "mean 81.5513 %\n"
     ]
    }
   ],
   "source": [
    "from sklearn.svm import SVC\n",
    "model_SVC = SVC()\n",
    "start = time() # เวลาเริ่มต้น train\n",
    "model_SVC.fit(X_train, y_train)\n",
    "finish_US_SVC = time() -start\n",
    "print('{:.5f} sec'.format(finish_US_SVC)) # เวลาเสร็จสิ้นการทำงาน\n",
    "cvs = cross_val_score(model_SVC, X, y, cv=10) # k=5\n",
    "cvs_US_SVC = cvs.mean()*100\n",
    "print('Cross val scores {}'.format(cvs.round(4)))\n",
    "print('mean {:.4f} %'.format(cvs.mean()*100))"
   ]
  },
  {
   "cell_type": "markdown",
   "metadata": {},
   "source": [
    "## 3. สำหรับ Naive Bayes"
   ]
  },
  {
   "cell_type": "code",
   "execution_count": 64,
   "metadata": {},
   "outputs": [
    {
     "name": "stdout",
     "output_type": "stream",
     "text": [
      "0.00200 sec\n",
      "Cross val scores [0.618 0.73  0.753 0.809 0.753 0.832 0.775 0.719 0.798 0.795]\n",
      "mean 75.8197 %\n"
     ]
    }
   ],
   "source": [
    "from sklearn.naive_bayes import GaussianNB\n",
    "from sklearn.model_selection import cross_val_score\n",
    "model_NB = GaussianNB() # Naive Bayes\n",
    "start = time() # เวลาเริ่มต้น train\n",
    "model_NB.fit(X_train, y_train) # Train สร้าง model\n",
    "finish_US_NB = time() -start\n",
    "print('{:.5f} sec'.format(finish_US_NB)) # เวลาเสร็จสิ้นการทำงาน\n",
    "cvs = cross_val_score(model_NB, X, y, cv=10) # precision\n",
    "cvs_US_NB = cvs.mean()*100\n",
    "print('Cross val scores {}'.format(cvs.round(4))) \n",
    "print('mean {:.4f} %'.format(cvs.mean()*100)) "
   ]
  },
  {
   "cell_type": "markdown",
   "metadata": {},
   "source": [
    "## 4. สำหรับ k-Nearest Neighbors"
   ]
  },
  {
   "cell_type": "code",
   "execution_count": 65,
   "metadata": {},
   "outputs": [
    {
     "name": "stdout",
     "output_type": "stream",
     "text": [
      "0.00300 sec\n",
      "Cross val scores [0.742 0.832 0.753 0.854 0.888 0.82  0.854 0.798 0.876 0.852]\n",
      "mean 82.6800 %\n"
     ]
    }
   ],
   "source": [
    "from sklearn.neighbors import KNeighborsClassifier\n",
    "\n",
    "model_KNN = KNeighborsClassifier() #ตั้งค่า model n_neighbors = 1,2,3\n",
    "start = time() # เวลาเริ่มต้น train\n",
    "model_KNN.fit(X_train, y_train) # Train สร้าง model\n",
    "finish_US_kNN = time() -start\n",
    "print('{:.5f} sec'.format(finish_US_kNN)) # เวลาเสร็จสิ้นการทำงาน\n",
    "cvs = cross_val_score(model_KNN, X, y, cv=10) # k=5\n",
    "cvs_US_kNN = cvs.mean()*100\n",
    "print('Cross val scores {}'.format(cvs.round(4)))\n",
    "print('mean {:.4f} %'.format(cvs.mean()*100))"
   ]
  },
  {
   "cell_type": "markdown",
   "metadata": {},
   "source": [
    "## 5. สำหรับ  Random Forest"
   ]
  },
  {
   "cell_type": "code",
   "execution_count": 66,
   "metadata": {},
   "outputs": [
    {
     "name": "stdout",
     "output_type": "stream",
     "text": [
      "0.17401 sec\n",
      "Cross val scores [0.764 0.775 0.764 0.786 0.865 0.82  0.843 0.82  0.854 0.818]\n",
      "mean 81.1032 %\n"
     ]
    }
   ],
   "source": [
    "from sklearn.ensemble import RandomForestClassifier\n",
    "\n",
    "model_RFC = RandomForestClassifier() # n_estimators = จำนวนต้นไม้ที่ต้องการสร้าง\n",
    "start = time() # เวลาเริ่มต้น train\n",
    "model_RFC.fit(X_train, y_train) # Train สร้าง model\n",
    "finish_US_RF = time() -start\n",
    "print('{:.5f} sec'.format(finish_US_RF)) # เวลาเสร็จสิ้นการทำงาน\n",
    "cvs = cross_val_score(model_RFC, X, y, cv=10) # k=5\n",
    "cvs_US_RF = cvs.mean()*100\n",
    "print('Cross val scores {}'.format(cvs.round(4)))\n",
    "print('mean {:.4f} %'.format(cvs.mean()*100))"
   ]
  },
  {
   "cell_type": "markdown",
   "metadata": {},
   "source": [
    "## 6. สำหรับ Logistic Regression"
   ]
  },
  {
   "cell_type": "code",
   "execution_count": 67,
   "metadata": {},
   "outputs": [
    {
     "name": "stdout",
     "output_type": "stream",
     "text": [
      "0.00400 sec\n",
      "Cross val scores [0.809 0.798 0.764 0.854 0.798 0.786 0.764 0.742 0.809 0.773]\n",
      "mean 78.9632 %\n"
     ]
    }
   ],
   "source": [
    "from sklearn.linear_model import LogisticRegression\n",
    "\n",
    "model_LR = LogisticRegression() # n_estimators = จำนวนต้นไม้ที่ต้องการสร้าง\n",
    "start = time() # เวลาเริ่มต้น train\n",
    "model_LR.fit(X_train, y_train) # Train สร้าง model\n",
    "finish_US_LR = time() -start\n",
    "print('{:.5f} sec'.format(finish_US_LR)) # เวลาเสร็จสิ้นการทำงาน\n",
    "cvs = cross_val_score(model_LR, X, y, cv=10) # k=5\n",
    "cvs_US_LR = cvs.mean()*100\n",
    "print('Cross val scores {}'.format(cvs.round(4)))\n",
    "print('mean {:.4f} %'.format(cvs.mean()*100))"
   ]
  },
  {
   "cell_type": "code",
   "execution_count": 68,
   "metadata": {},
   "outputs": [],
   "source": [
    "# สร้างตารางสรุปคะแนนเพื่อเลือก model และ Feature selection\n",
    "Feature_selection_types = [\n",
    "                            'Recursive_Feature_Elimination', 'Recursive_Feature_Elimination', 'Recursive_Feature_Elimination', 'Recursive_Feature_Elimination', 'Recursive_Feature_Elimination', 'Recursive_Feature_Elimination',\n",
    "                            'Univariate_Selection', 'Univariate_Selection','Univariate_Selection','Univariate_Selection','Univariate_Selection','Univariate_Selection'\n",
    "                          ]\n",
    "cross_val_score = [\n",
    "                    cvs_RFE_DT, cvs_RFE_SVC, cvs_RFE_NB, cvs_RFE_kNN, cvs_RFE_RF, cvs_RFE_LR,\n",
    "                    cvs_US_DT, cvs_US_SVC, cvs_US_NB, cvs_US_kNN, cvs_US_RF, cvs_US_LR\n",
    "                  ]\n",
    "time_score = [\n",
    "                finish_RFE_DT, finish_RFE_SVC, finish_RFE_NB, finish_RFE_kNN, finish_RFE_RF, finish_RFE_LR,\n",
    "                finish_US_DT, finish_US_SVC, finish_US_NB, finish_US_kNN, finish_US_RF, finish_US_LR\n",
    "             ]\n",
    "algorithm_types = ['Decision Tree', 'Support Vector Machine', 'Naive Bayes', 'k-Nearest Neighbors',\n",
    "                   'Random Forest', 'Logistic Regression',\n",
    "                  'Decision Tree', 'Support Vector Machine', 'Naive Bayes', 'k-Nearest Neighbors',\n",
    "                   'Random Forest', 'Logistic Regression']\n",
    "col_names = ['Algorithm', 'Feature selection', 'Cross validation score(means)', 'Times']"
   ]
  },
  {
   "cell_type": "code",
   "execution_count": 69,
   "metadata": {},
   "outputs": [],
   "source": [
    "import pandas as pd\n",
    "algorithm_types_series = pd.Series(algorithm_types)\n",
    "Feature_selection_types_series = pd.Series(Feature_selection_types)\n",
    "cross_val_score_series = pd.Series(cross_val_score)\n",
    "time_score_series = pd.Series(time_score)\n",
    "datas = zip(algorithm_types_series, Feature_selection_types_series, cross_val_score_series, time_score_series)\n",
    "df = pd.DataFrame(datas , columns = col_names)"
   ]
  },
  {
   "cell_type": "code",
   "execution_count": 70,
   "metadata": {},
   "outputs": [
    {
     "data": {
      "text/html": [
       "<div>\n",
       "<style scoped>\n",
       "    .dataframe tbody tr th:only-of-type {\n",
       "        vertical-align: middle;\n",
       "    }\n",
       "\n",
       "    .dataframe tbody tr th {\n",
       "        vertical-align: top;\n",
       "    }\n",
       "\n",
       "    .dataframe thead th {\n",
       "        text-align: right;\n",
       "    }\n",
       "</style>\n",
       "<table border=\"1\" class=\"dataframe\">\n",
       "  <thead>\n",
       "    <tr style=\"text-align: right;\">\n",
       "      <th></th>\n",
       "      <th>Algorithm</th>\n",
       "      <th>Feature selection</th>\n",
       "      <th>Cross validation score(means)</th>\n",
       "      <th>Times</th>\n",
       "    </tr>\n",
       "  </thead>\n",
       "  <tbody>\n",
       "    <tr>\n",
       "      <th>0</th>\n",
       "      <td>Decision Tree</td>\n",
       "      <td>Recursive_Feature_Elimination</td>\n",
       "      <td>81.106997</td>\n",
       "      <td>0.004000</td>\n",
       "    </tr>\n",
       "    <tr>\n",
       "      <th>1</th>\n",
       "      <td>Support Vector Machine</td>\n",
       "      <td>Recursive_Feature_Elimination</td>\n",
       "      <td>82.118233</td>\n",
       "      <td>0.017006</td>\n",
       "    </tr>\n",
       "    <tr>\n",
       "      <th>2</th>\n",
       "      <td>Naive Bayes</td>\n",
       "      <td>Recursive_Feature_Elimination</td>\n",
       "      <td>80.541369</td>\n",
       "      <td>0.002001</td>\n",
       "    </tr>\n",
       "    <tr>\n",
       "      <th>3</th>\n",
       "      <td>k-Nearest Neighbors</td>\n",
       "      <td>Recursive_Feature_Elimination</td>\n",
       "      <td>81.105720</td>\n",
       "      <td>0.003000</td>\n",
       "    </tr>\n",
       "    <tr>\n",
       "      <th>4</th>\n",
       "      <td>Random Forest</td>\n",
       "      <td>Recursive_Feature_Elimination</td>\n",
       "      <td>81.212972</td>\n",
       "      <td>0.166013</td>\n",
       "    </tr>\n",
       "    <tr>\n",
       "      <th>5</th>\n",
       "      <td>Logistic Regression</td>\n",
       "      <td>Recursive_Feature_Elimination</td>\n",
       "      <td>78.739785</td>\n",
       "      <td>0.047006</td>\n",
       "    </tr>\n",
       "    <tr>\n",
       "      <th>6</th>\n",
       "      <td>Decision Tree</td>\n",
       "      <td>Univariate_Selection</td>\n",
       "      <td>82.228039</td>\n",
       "      <td>0.001003</td>\n",
       "    </tr>\n",
       "    <tr>\n",
       "      <th>7</th>\n",
       "      <td>Support Vector Machine</td>\n",
       "      <td>Univariate_Selection</td>\n",
       "      <td>81.551328</td>\n",
       "      <td>0.010998</td>\n",
       "    </tr>\n",
       "    <tr>\n",
       "      <th>8</th>\n",
       "      <td>Naive Bayes</td>\n",
       "      <td>Univariate_Selection</td>\n",
       "      <td>75.819714</td>\n",
       "      <td>0.002002</td>\n",
       "    </tr>\n",
       "    <tr>\n",
       "      <th>9</th>\n",
       "      <td>k-Nearest Neighbors</td>\n",
       "      <td>Univariate_Selection</td>\n",
       "      <td>82.680031</td>\n",
       "      <td>0.003000</td>\n",
       "    </tr>\n",
       "    <tr>\n",
       "      <th>10</th>\n",
       "      <td>Random Forest</td>\n",
       "      <td>Univariate_Selection</td>\n",
       "      <td>81.103166</td>\n",
       "      <td>0.174011</td>\n",
       "    </tr>\n",
       "    <tr>\n",
       "      <th>11</th>\n",
       "      <td>Logistic Regression</td>\n",
       "      <td>Univariate_Selection</td>\n",
       "      <td>78.963228</td>\n",
       "      <td>0.004003</td>\n",
       "    </tr>\n",
       "  </tbody>\n",
       "</table>\n",
       "</div>"
      ],
      "text/plain": [
       "                 Algorithm              Feature selection  \\\n",
       "0            Decision Tree  Recursive_Feature_Elimination   \n",
       "1   Support Vector Machine  Recursive_Feature_Elimination   \n",
       "2              Naive Bayes  Recursive_Feature_Elimination   \n",
       "3      k-Nearest Neighbors  Recursive_Feature_Elimination   \n",
       "4            Random Forest  Recursive_Feature_Elimination   \n",
       "5      Logistic Regression  Recursive_Feature_Elimination   \n",
       "6            Decision Tree           Univariate_Selection   \n",
       "7   Support Vector Machine           Univariate_Selection   \n",
       "8              Naive Bayes           Univariate_Selection   \n",
       "9      k-Nearest Neighbors           Univariate_Selection   \n",
       "10           Random Forest           Univariate_Selection   \n",
       "11     Logistic Regression           Univariate_Selection   \n",
       "\n",
       "    Cross validation score(means)     Times  \n",
       "0                       81.106997  0.004000  \n",
       "1                       82.118233  0.017006  \n",
       "2                       80.541369  0.002001  \n",
       "3                       81.105720  0.003000  \n",
       "4                       81.212972  0.166013  \n",
       "5                       78.739785  0.047006  \n",
       "6                       82.228039  0.001003  \n",
       "7                       81.551328  0.010998  \n",
       "8                       75.819714  0.002002  \n",
       "9                       82.680031  0.003000  \n",
       "10                      81.103166  0.174011  \n",
       "11                      78.963228  0.004003  "
      ]
     },
     "execution_count": 70,
     "metadata": {},
     "output_type": "execute_result"
    }
   ],
   "source": [
    "df"
   ]
  },
  {
   "cell_type": "markdown",
   "metadata": {},
   "source": [
    "# ทำ Bar plot เทียบแต่ละ Algorithm"
   ]
  },
  {
   "cell_type": "code",
   "execution_count": 71,
   "metadata": {},
   "outputs": [],
   "source": [
    "# ทำการ import library สร้าง list model แล้ว loop ประเมินด้วย Cross Validation\n",
    "# ทำการ import library\n",
    "from sklearn.linear_model import LogisticRegression\n",
    "from sklearn.neighbors import KNeighborsClassifier\n",
    "from sklearn.naive_bayes import GaussianNB\n",
    "from sklearn.svm import SVC\n",
    "from sklearn.ensemble import RandomForestClassifier\n",
    "from sklearn.tree import DecisionTreeClassifier\n",
    "from xgboost import XGBClassifier"
   ]
  },
  {
   "cell_type": "code",
   "execution_count": 72,
   "metadata": {},
   "outputs": [],
   "source": [
    "# สร้าง list model\n",
    "models = []\n",
    "models.append(('LR', LogisticRegression()))\n",
    "models.append(('kNN', KNeighborsClassifier()))\n",
    "models.append(('NB', GaussianNB()))\n",
    "models.append(('SVC', SVC()))\n",
    "models.append(('RFC', RandomForestClassifier()))\n",
    "models.append(('DT', DecisionTreeClassifier()))\n",
    "models.append(('XGBT',XGBClassifier()))"
   ]
  },
  {
   "cell_type": "code",
   "execution_count": 73,
   "metadata": {},
   "outputs": [
    {
     "name": "stdout",
     "output_type": "stream",
     "text": [
      "LR   0.787 (0.031)\n",
      "kNN  0.811 (0.039)\n",
      "NB   0.805 (0.029)\n",
      "SVC  0.821 (0.031)\n",
      "RFC  0.819 (0.031)\n",
      "DT   0.816 (0.030)\n",
      "XGBT 0.818 (0.041)\n"
     ]
    }
   ],
   "source": [
    "#  loop ประเมินด้วย Cross Validation\n",
    "from sklearn.model_selection import cross_val_score\n",
    "\n",
    "results = []\n",
    "names = []\n",
    "X = X_RFS_fts\n",
    "for name, model in models:\n",
    "    cvs = cross_val_score(model, X, y, cv=10)\n",
    "    names.append(name) # เอาตัวแปร name ไปเก็บชื่อโมเดลจาก models\n",
    "    cvs = cross_val_score(model, X, y, cv=10) # ตัวแปร model เก็บค่ามาจาก models ลำดับที่ 2 เช่น naemeเก็บ'LR' และ model เก็บ LogisticRegression()\n",
    "    results.append(cvs) # เอาผล cvs ที่คำนวณได้เก็บไว้ใน results\n",
    "    print('{:4} {:.3f} ({:.3f})'.format(name, cvs.mean(), cvs.std())) "
   ]
  },
  {
   "cell_type": "code",
   "execution_count": 74,
   "metadata": {},
   "outputs": [
    {
     "data": {
      "image/png": "[encoded data removed]",
      "text/plain": [
       "<Figure size 432x288 with 1 Axes>"
      ]
     },
     "metadata": {
      "needs_background": "light"
     },
     "output_type": "display_data"
    }
   ],
   "source": [
    "# พล็อตกราฟ boxplot เพื่อเลือก Best of algorithm\n",
    "fig = plt.figure()\n",
    "fig.suptitle('Algorithm Comparison(RFE) ')\n",
    "ax = fig.add_subplot(111) # row column id\n",
    "plt.boxplot(results) # plot box plot\n",
    "ax.set_xticklabels(names) # label ชื่อ แกน x\n",
    "plt.show()"
   ]
  },
  {
   "cell_type": "code",
   "execution_count": 75,
   "metadata": {},
   "outputs": [
    {
     "name": "stdout",
     "output_type": "stream",
     "text": [
      "LR   0.790 (0.030)\n",
      "kNN  0.827 (0.047)\n",
      "NB   0.758 (0.058)\n",
      "SVC  0.816 (0.035)\n",
      "RFC  0.812 (0.032)\n",
      "DT   0.822 (0.033)\n",
      "XGBT 0.828 (0.036)\n"
     ]
    }
   ],
   "source": [
    "#  loop ประเมินด้วย Cross Validation\n",
    "from sklearn.model_selection import cross_val_score\n",
    "\n",
    "results = []\n",
    "names = []\n",
    "X = X_US_fts\n",
    "for name, model in models:\n",
    "    cvs = cross_val_score(model, X, y, cv=10)\n",
    "    names.append(name) # เอาตัวแปร name ไปเก็บชื่อโมเดลจาก models\n",
    "    cvs = cross_val_score(model, X, y, cv=10) # ตัวแปร model เก็บค่ามาจาก models ลำดับที่ 2 เช่น naemeเก็บ'LR' และ model เก็บ LogisticRegression()\n",
    "    results.append(cvs) # เอาผล cvs ที่คำนวณได้เก็บไว้ใน results\n",
    "    print('{:4} {:.3f} ({:.3f})'.format(name, cvs.mean(), cvs.std())) "
   ]
  },
  {
   "cell_type": "code",
   "execution_count": 76,
   "metadata": {},
   "outputs": [
    {
     "data": {
      "image/png": "[encoded data removed]",
      "text/plain": [
       "<Figure size 432x288 with 1 Axes>"
      ]
     },
     "metadata": {
      "needs_background": "light"
     },
     "output_type": "display_data"
    }
   ],
   "source": [
    "# พล็อตกราฟ boxplot เพื่อเลือก Best of algorithm\n",
    "fig = plt.figure()\n",
    "fig.suptitle('Algorithm Comparison(US)')\n",
    "ax = fig.add_subplot(111) # row column id\n",
    "plt.boxplot(results) # plot box plot\n",
    "ax.set_xticklabels(names) # label ชื่อ แกน x\n",
    "plt.show()"
   ]
  },
  {
   "cell_type": "markdown",
   "metadata": {},
   "source": [
    "- จากตาราง cross validation score และ time score การใช้ Feature selection ควรใช้ Feature selection: Univariate Selection\n",
    "- 'sex_', 'pclass_', 'who_', 'alone_', 'fare'\n",
    "- จากตาราง bar plot การเลือกใช้ algorithm ควรใช้ kNN(ให้ cross val score :82.79%, ) ซึ่งดีที่สุดเมื่อเทียบกับ Algorithm อื่นๆ"
   ]
  },
  {
   "cell_type": "markdown",
   "metadata": {},
   "source": [
    "# หาค่า parameter ด้วย Grid Randomized"
   ]
  },
  {
   "cell_type": "raw",
   "metadata": {},
   "source": [
    "# import library ที่เกี่ยวข้อง\n",
    "from sklearn.model_selection import RandomizedSearchCV\n",
    "from scipy.stats import uniform, randint\n",
    "X = X_US_fts\n",
    "param_dist = {\n",
    "    'algorithm': ['auto','ball_tree', 'kd_tree', 'brute'],\n",
    "    'leaf_size': randint(20,50),\n",
    "    'n_neighbors': randint(4,10),\n",
    "    'p': randint(1,10),\n",
    "    'weights': ['uniform', 'distance'],\n",
    "    'n_jobs': [None, -1, 1]\n",
    "}\n",
    "\n",
    "model_kNN = KNeighborsClassifier()\n",
    "rnd_search = RandomizedSearchCV(\n",
    "           model_kNN, param_dist, n_iter=100, cv=10, scoring='accuracy') \n",
    "\n",
    "rnd_search.fit(X, y)\n",
    "rnd_search.best_score_"
   ]
  },
  {
   "cell_type": "raw",
   "metadata": {},
   "source": [
    "# บอกพารามิเตอร์ที่ดีที่สุด\n",
    "rnd_search.best_params_"
   ]
  },
  {
   "cell_type": "raw",
   "metadata": {},
   "source": [
    "rnd_search.best_estimator_ # ไว้ใช้ train model"
   ]
  },
  {
   "cell_type": "code",
   "execution_count": 77,
   "metadata": {},
   "outputs": [],
   "source": [
    "# Train model ใหม่โดยใช้ข้อมูลที่เลือก feature sex, pclass, who, alone, fare"
   ]
  },
  {
   "cell_type": "code",
   "execution_count": 78,
   "metadata": {},
   "outputs": [],
   "source": [
    "# Architecture the best model\n",
    "from sklearn.neighbors import KNeighborsClassifier\n",
    "\n",
    "model_best_kNN =  KNeighborsClassifier(algorithm='ball_tree', leaf_size=47, metric='minkowski',\n",
    "                     metric_params=None, n_jobs=1, n_neighbors=8, p=6,\n",
    "                     weights='uniform')"
   ]
  },
  {
   "cell_type": "code",
   "execution_count": 79,
   "metadata": {},
   "outputs": [
    {
     "data": {
      "text/html": [
       "<div>\n",
       "<style scoped>\n",
       "    .dataframe tbody tr th:only-of-type {\n",
       "        vertical-align: middle;\n",
       "    }\n",
       "\n",
       "    .dataframe tbody tr th {\n",
       "        vertical-align: top;\n",
       "    }\n",
       "\n",
       "    .dataframe thead th {\n",
       "        text-align: right;\n",
       "    }\n",
       "</style>\n",
       "<table border=\"1\" class=\"dataframe\">\n",
       "  <thead>\n",
       "    <tr style=\"text-align: right;\">\n",
       "      <th></th>\n",
       "      <th>survived</th>\n",
       "      <th>pclass</th>\n",
       "      <th>sex</th>\n",
       "      <th>age</th>\n",
       "      <th>sibsp</th>\n",
       "      <th>parch</th>\n",
       "      <th>fare</th>\n",
       "      <th>embarked</th>\n",
       "      <th>who</th>\n",
       "      <th>alone</th>\n",
       "      <th>pclass_</th>\n",
       "      <th>sex_</th>\n",
       "      <th>age_</th>\n",
       "      <th>sibsp_</th>\n",
       "      <th>parch_</th>\n",
       "      <th>fare_</th>\n",
       "      <th>embarked_</th>\n",
       "      <th>who_</th>\n",
       "      <th>alone_</th>\n",
       "    </tr>\n",
       "  </thead>\n",
       "  <tbody>\n",
       "    <tr>\n",
       "      <th>0</th>\n",
       "      <td>0</td>\n",
       "      <td>3</td>\n",
       "      <td>male</td>\n",
       "      <td>22.0</td>\n",
       "      <td>1</td>\n",
       "      <td>0</td>\n",
       "      <td>7.2500</td>\n",
       "      <td>S</td>\n",
       "      <td>adult</td>\n",
       "      <td>False</td>\n",
       "      <td>2</td>\n",
       "      <td>1</td>\n",
       "      <td>29</td>\n",
       "      <td>1</td>\n",
       "      <td>0</td>\n",
       "      <td>18</td>\n",
       "      <td>2</td>\n",
       "      <td>0</td>\n",
       "      <td>0</td>\n",
       "    </tr>\n",
       "    <tr>\n",
       "      <th>1</th>\n",
       "      <td>1</td>\n",
       "      <td>1</td>\n",
       "      <td>female</td>\n",
       "      <td>38.0</td>\n",
       "      <td>1</td>\n",
       "      <td>0</td>\n",
       "      <td>71.2833</td>\n",
       "      <td>C</td>\n",
       "      <td>adult</td>\n",
       "      <td>False</td>\n",
       "      <td>0</td>\n",
       "      <td>0</td>\n",
       "      <td>52</td>\n",
       "      <td>1</td>\n",
       "      <td>0</td>\n",
       "      <td>207</td>\n",
       "      <td>0</td>\n",
       "      <td>0</td>\n",
       "      <td>0</td>\n",
       "    </tr>\n",
       "    <tr>\n",
       "      <th>2</th>\n",
       "      <td>1</td>\n",
       "      <td>3</td>\n",
       "      <td>female</td>\n",
       "      <td>26.0</td>\n",
       "      <td>0</td>\n",
       "      <td>0</td>\n",
       "      <td>7.9250</td>\n",
       "      <td>S</td>\n",
       "      <td>adult</td>\n",
       "      <td>True</td>\n",
       "      <td>2</td>\n",
       "      <td>0</td>\n",
       "      <td>35</td>\n",
       "      <td>0</td>\n",
       "      <td>0</td>\n",
       "      <td>41</td>\n",
       "      <td>2</td>\n",
       "      <td>0</td>\n",
       "      <td>1</td>\n",
       "    </tr>\n",
       "    <tr>\n",
       "      <th>3</th>\n",
       "      <td>1</td>\n",
       "      <td>1</td>\n",
       "      <td>female</td>\n",
       "      <td>35.0</td>\n",
       "      <td>1</td>\n",
       "      <td>0</td>\n",
       "      <td>53.1000</td>\n",
       "      <td>S</td>\n",
       "      <td>adult</td>\n",
       "      <td>False</td>\n",
       "      <td>0</td>\n",
       "      <td>0</td>\n",
       "      <td>48</td>\n",
       "      <td>1</td>\n",
       "      <td>0</td>\n",
       "      <td>189</td>\n",
       "      <td>2</td>\n",
       "      <td>0</td>\n",
       "      <td>0</td>\n",
       "    </tr>\n",
       "    <tr>\n",
       "      <th>4</th>\n",
       "      <td>0</td>\n",
       "      <td>3</td>\n",
       "      <td>male</td>\n",
       "      <td>35.0</td>\n",
       "      <td>0</td>\n",
       "      <td>0</td>\n",
       "      <td>8.0500</td>\n",
       "      <td>S</td>\n",
       "      <td>adult</td>\n",
       "      <td>True</td>\n",
       "      <td>2</td>\n",
       "      <td>1</td>\n",
       "      <td>48</td>\n",
       "      <td>0</td>\n",
       "      <td>0</td>\n",
       "      <td>43</td>\n",
       "      <td>2</td>\n",
       "      <td>0</td>\n",
       "      <td>1</td>\n",
       "    </tr>\n",
       "  </tbody>\n",
       "</table>\n",
       "</div>"
      ],
      "text/plain": [
       "   survived  pclass     sex   age  sibsp  parch     fare embarked    who  \\\n",
       "0         0       3    male  22.0      1      0   7.2500        S  adult   \n",
       "1         1       1  female  38.0      1      0  71.2833        C  adult   \n",
       "2         1       3  female  26.0      0      0   7.9250        S  adult   \n",
       "3         1       1  female  35.0      1      0  53.1000        S  adult   \n",
       "4         0       3    male  35.0      0      0   8.0500        S  adult   \n",
       "\n",
       "   alone  pclass_  sex_  age_  sibsp_  parch_  fare_  embarked_  who_  alone_  \n",
       "0  False        2     1    29       1       0     18          2     0       0  \n",
       "1  False        0     0    52       1       0    207          0     0       0  \n",
       "2   True        2     0    35       0       0     41          2     0       1  \n",
       "3  False        0     0    48       1       0    189          2     0       0  \n",
       "4   True        2     1    48       0       0     43          2     0       1  "
      ]
     },
     "execution_count": 79,
     "metadata": {},
     "output_type": "execute_result"
    }
   ],
   "source": [
    "df_the_best_model.head() # ดึงข้อมูลเก่ามา train model"
   ]
  },
  {
   "cell_type": "code",
   "execution_count": 80,
   "metadata": {},
   "outputs": [],
   "source": [
    "US_cols = ['sex', 'pclass', 'who', 'alone', 'fare']\n",
    "df_the_best_model_US = df_the_best_model[US_cols]"
   ]
  },
  {
   "cell_type": "code",
   "execution_count": 81,
   "metadata": {},
   "outputs": [
    {
     "data": {
      "text/html": [
       "<div>\n",
       "<style scoped>\n",
       "    .dataframe tbody tr th:only-of-type {\n",
       "        vertical-align: middle;\n",
       "    }\n",
       "\n",
       "    .dataframe tbody tr th {\n",
       "        vertical-align: top;\n",
       "    }\n",
       "\n",
       "    .dataframe thead th {\n",
       "        text-align: right;\n",
       "    }\n",
       "</style>\n",
       "<table border=\"1\" class=\"dataframe\">\n",
       "  <thead>\n",
       "    <tr style=\"text-align: right;\">\n",
       "      <th></th>\n",
       "      <th>sex</th>\n",
       "      <th>pclass</th>\n",
       "      <th>who</th>\n",
       "      <th>alone</th>\n",
       "      <th>fare</th>\n",
       "    </tr>\n",
       "  </thead>\n",
       "  <tbody>\n",
       "    <tr>\n",
       "      <th>0</th>\n",
       "      <td>male</td>\n",
       "      <td>3</td>\n",
       "      <td>adult</td>\n",
       "      <td>False</td>\n",
       "      <td>7.2500</td>\n",
       "    </tr>\n",
       "    <tr>\n",
       "      <th>1</th>\n",
       "      <td>female</td>\n",
       "      <td>1</td>\n",
       "      <td>adult</td>\n",
       "      <td>False</td>\n",
       "      <td>71.2833</td>\n",
       "    </tr>\n",
       "    <tr>\n",
       "      <th>2</th>\n",
       "      <td>female</td>\n",
       "      <td>3</td>\n",
       "      <td>adult</td>\n",
       "      <td>True</td>\n",
       "      <td>7.9250</td>\n",
       "    </tr>\n",
       "    <tr>\n",
       "      <th>3</th>\n",
       "      <td>female</td>\n",
       "      <td>1</td>\n",
       "      <td>adult</td>\n",
       "      <td>False</td>\n",
       "      <td>53.1000</td>\n",
       "    </tr>\n",
       "    <tr>\n",
       "      <th>4</th>\n",
       "      <td>male</td>\n",
       "      <td>3</td>\n",
       "      <td>adult</td>\n",
       "      <td>True</td>\n",
       "      <td>8.0500</td>\n",
       "    </tr>\n",
       "  </tbody>\n",
       "</table>\n",
       "</div>"
      ],
      "text/plain": [
       "      sex  pclass    who  alone     fare\n",
       "0    male       3  adult  False   7.2500\n",
       "1  female       1  adult  False  71.2833\n",
       "2  female       3  adult   True   7.9250\n",
       "3  female       1  adult  False  53.1000\n",
       "4    male       3  adult   True   8.0500"
      ]
     },
     "execution_count": 81,
     "metadata": {},
     "output_type": "execute_result"
    }
   ],
   "source": [
    "df_the_best_model_US.head()"
   ]
  },
  {
   "cell_type": "code",
   "execution_count": 82,
   "metadata": {},
   "outputs": [],
   "source": [
    "#ทำ labelencoding สำหรับ X (input)\n",
    "from sklearn.preprocessing import LabelEncoder\n",
    "\n",
    "def labelEncode(data, columns):\n",
    "    for i in columns:\n",
    "#         print(i)\n",
    "        lb = LabelEncoder().fit_transform(data[i])\n",
    "        data[i +'_'] = lb\n",
    "        \n",
    "columns =  ['sex', 'pclass', 'who', 'alone', 'fare']\n",
    "labelEncode(df_the_best_model_US, columns)"
   ]
  },
  {
   "cell_type": "code",
   "execution_count": 83,
   "metadata": {},
   "outputs": [
    {
     "name": "stdout",
     "output_type": "stream",
     "text": [
      "<class 'pandas.core.frame.DataFrame'>\n",
      "Int64Index: 889 entries, 0 to 890\n",
      "Data columns (total 10 columns):\n",
      " #   Column   Non-Null Count  Dtype  \n",
      "---  ------   --------------  -----  \n",
      " 0   sex      889 non-null    object \n",
      " 1   pclass   889 non-null    int64  \n",
      " 2   who      889 non-null    object \n",
      " 3   alone    889 non-null    bool   \n",
      " 4   fare     889 non-null    float64\n",
      " 5   sex_     889 non-null    int32  \n",
      " 6   pclass_  889 non-null    int64  \n",
      " 7   who_     889 non-null    int32  \n",
      " 8   alone_   889 non-null    int64  \n",
      " 9   fare_    889 non-null    int64  \n",
      "dtypes: bool(1), float64(1), int32(2), int64(4), object(2)\n",
      "memory usage: 63.4+ KB\n"
     ]
    }
   ],
   "source": [
    "df_the_best_model_US.info()"
   ]
  },
  {
   "cell_type": "code",
   "execution_count": 84,
   "metadata": {},
   "outputs": [],
   "source": [
    "# ทำ label encoding สำหรับ y (Output)\n",
    "df_the_best_model_US['survived_'] = y\n",
    "df_the_best_model_US.head()\n",
    "\n",
    "# save file เผื่อไว้ใช้ analysis\n",
    "import pandas as pd\n",
    "filepath = 'Titanic_sc_data.csv'\n",
    "df_the_best_model_US.to_csv(filepath)"
   ]
  },
  {
   "cell_type": "code",
   "execution_count": 85,
   "metadata": {},
   "outputs": [
    {
     "name": "stdout",
     "output_type": "stream",
     "text": [
      "<class 'pandas.core.frame.DataFrame'>\n",
      "RangeIndex: 889 entries, 0 to 888\n",
      "Data columns (total 6 columns):\n",
      " #   Column     Non-Null Count  Dtype  \n",
      "---  ------     --------------  -----  \n",
      " 0   sex_       889 non-null    float64\n",
      " 1   pclass_    889 non-null    float64\n",
      " 2   who_       889 non-null    float64\n",
      " 3   alone_     889 non-null    float64\n",
      " 4   fare_      889 non-null    float64\n",
      " 5   survived_  889 non-null    float64\n",
      "dtypes: float64(6)\n",
      "memory usage: 41.8 KB\n"
     ]
    }
   ],
   "source": [
    "# สำหรับทำ Normalization 0-1 ลด Variance ให้เท่ากัน\n",
    "import warnings\n",
    "warnings.filterwarnings('ignore')\n",
    "from sklearn.preprocessing import MinMaxScaler as Scaler # Normalization 0-1 เพราะ Variance มีค่าต่างกันแต่ละตัวแปร\n",
    "col_select = ['sex_', 'pclass_', 'who_', 'alone_', 'fare_', 'survived_'] # เลือกคอลัมน์ทำ normalization\n",
    "X = df_the_best_model_US[col_select]\n",
    "sc = Scaler()\n",
    "X_sc = sc.fit_transform(X) # Normalization 0-1\n",
    "\n",
    "df_sc = pd.DataFrame(X_sc, columns=X.columns) # เก็บ ที่ทำtransform แล้วลงในตัวแปร df_sc\n",
    "df_sc.head().round(3)\n",
    "df_sc.info()"
   ]
  },
  {
   "cell_type": "code",
   "execution_count": 86,
   "metadata": {},
   "outputs": [],
   "source": [
    "#เปลี่ยนชนิดข้อมูล\n",
    "df_sc['sex_'] = df_sc['sex_'].astype('object') # เปลี่ยนคอลัมน์ sex_ ให้เป็น Category\n",
    "df_sc['pclass_'] = df_sc['pclass_'].astype('object') # เปลี่ยนคอลัมน์ pcalss_ ให้เป็น Category\n",
    "df_sc['who_'] = df_sc['who_'].astype('object') # เปลี่ยนคอลัมน์ pcalss_ ให้เป็น Category\n",
    "df_sc['alone_'] = df_sc['alone_'].astype('object') # เปลี่ยนคอลัมน์ alone_ ให้เป็น Category\n",
    "df_sc['survived_'] = df_sc['survived_'].astype('category') # เปลี่ยนคอลัมน์ surived_ ให้เป็น Category"
   ]
  },
  {
   "cell_type": "code",
   "execution_count": 87,
   "metadata": {},
   "outputs": [
    {
     "name": "stdout",
     "output_type": "stream",
     "text": [
      "<class 'pandas.core.frame.DataFrame'>\n",
      "RangeIndex: 889 entries, 0 to 888\n",
      "Data columns (total 6 columns):\n",
      " #   Column     Non-Null Count  Dtype   \n",
      "---  ------     --------------  -----   \n",
      " 0   sex_       889 non-null    object  \n",
      " 1   pclass_    889 non-null    object  \n",
      " 2   who_       889 non-null    object  \n",
      " 3   alone_     889 non-null    object  \n",
      " 4   fare_      889 non-null    float64 \n",
      " 5   survived_  889 non-null    category\n",
      "dtypes: category(1), float64(1), object(4)\n",
      "memory usage: 35.8+ KB\n"
     ]
    }
   ],
   "source": [
    "df_sc.info() # ตรวจสอบอีกรอบ"
   ]
  },
  {
   "cell_type": "code",
   "execution_count": 88,
   "metadata": {},
   "outputs": [],
   "source": [
    "# เลือก features\n",
    "col_select = ['sex_', 'pclass_', 'who_', 'alone_', 'fare_'] # เลือกคอลัมน์ทำ normalization\n",
    "X = df_sc[col_select]\n",
    "# เลือก label\n",
    "col_select = ['survived_'] \n",
    "y = df_sc['survived_']"
   ]
  },
  {
   "cell_type": "code",
   "execution_count": 89,
   "metadata": {},
   "outputs": [],
   "source": [
    "# แบ่งข้อมูล Train Test\n",
    "from sklearn.model_selection import train_test_split\n",
    "X_train, X_test,y_train,y_test = train_test_split(X, y, test_size=0.2, random_state= 2020) # แบ่งเป็น X y test train จาก X y โดยที่ test_size = 0.2 (train_size=0.8)"
   ]
  },
  {
   "cell_type": "code",
   "execution_count": 90,
   "metadata": {},
   "outputs": [],
   "source": [
    "# Architecture the best model\n",
    "from sklearn.neighbors import KNeighborsClassifier\n",
    "\n",
    "model_best_kNN =  KNeighborsClassifier(algorithm='ball_tree', leaf_size=47, metric='minkowski',\n",
    "                     metric_params=None, n_jobs=1, n_neighbors=8, p=6,\n",
    "                     weights='uniform')"
   ]
  },
  {
   "cell_type": "code",
   "execution_count": 91,
   "metadata": {},
   "outputs": [
    {
     "name": "stdout",
     "output_type": "stream",
     "text": [
      "0.00700 sec\n",
      "Cross val scores [0.764 0.854 0.73  0.888 0.865 0.82  0.843 0.786 0.876 0.864]\n",
      "mean 82.9060 %\n"
     ]
    }
   ],
   "source": [
    "start = time() # เวลาเริ่มต้น train\n",
    "model_best_kNN.fit(X_train, y_train) # Train สร้าง model\n",
    "finish = time() -start\n",
    "print('{:.5f} sec'.format(finish)) # เวลาเสร็จสิ้นการทำงาน\n",
    "cvs = cross_val_score(model_best_kNN, X, y, cv=10) # k=10\n",
    "print('Cross val scores {}'.format(cvs.round(4)))\n",
    "print('mean {:.4f} %'.format(cvs.mean()*100))"
   ]
  },
  {
   "cell_type": "markdown",
   "metadata": {},
   "source": [
    "# Save Model"
   ]
  },
  {
   "cell_type": "code",
   "execution_count": 92,
   "metadata": {},
   "outputs": [
    {
     "data": {
      "text/plain": [
       "['kNN_The_best_model.pkl']"
      ]
     },
     "execution_count": 92,
     "metadata": {},
     "output_type": "execute_result"
    }
   ],
   "source": [
    "from sklearn.externals import joblib\n",
    "\n",
    "# save model kNN_The_best_model\n",
    "joblib.dump(model_best_kNN,'kNN_The_best_model.pkl')"
   ]
  },
  {
   "cell_type": "markdown",
   "metadata": {},
   "source": [
    "# การประเมิณ model"
   ]
  },
  {
   "cell_type": "code",
   "execution_count": 93,
   "metadata": {},
   "outputs": [
    {
     "name": "stdout",
     "output_type": "stream",
     "text": [
      "Total X: 889\n",
      "Total train: 711\n",
      "Total test: 178\n",
      "Score : 0.803\n",
      "Accuracy Score: 0.803\n",
      "              precision    recall  f1-score   support\n",
      "\n",
      "  unsurvived       0.81      0.88      0.84       104\n",
      "    survived       0.80      0.70      0.75        74\n",
      "\n",
      "    accuracy                           0.80       178\n",
      "   macro avg       0.80      0.79      0.79       178\n",
      "weighted avg       0.80      0.80      0.80       178\n",
      "\n",
      "[[91 13]\n",
      " [22 52]]\n"
     ]
    },
    {
     "data": {
      "text/plain": [
       "884    0.0\n",
       "199    0.0\n",
       "327    1.0\n",
       "516    0.0\n",
       "252    0.0\n",
       "      ... \n",
       "393    1.0\n",
       "204    0.0\n",
       "137    0.0\n",
       "413    1.0\n",
       "398    1.0\n",
       "Name: survived_, Length: 178, dtype: category\n",
       "Categories (2, float64): [0.0, 1.0]"
      ]
     },
     "execution_count": 93,
     "metadata": {},
     "output_type": "execute_result"
    }
   ],
   "source": [
    "from sklearn.model_selection import train_test_split\n",
    "from sklearn.metrics import accuracy_score\n",
    "\n",
    "#ตรวจสอบจำนวนข้อมูลที่ Train, Test และดูข้อมูลที่ใช้ Test (จะเกิดการสุ่ม)\n",
    "print('Total X: {}'.format(len(X)))\n",
    "print('Total train: {}'.format(len(X_train)))\n",
    "print('Total test: {}'.format(len(X_test)))\n",
    "X_test\n",
    "# ทำการ Test\n",
    "y_predict = model_best_kNN.predict(X_test)\n",
    "y_pred = y_predict # กำหนดให้ yที่ทำนายได้ คือ y_pred\n",
    "y_true = y_test # กำหนดให้ yที่ทดสอบ คือ y_true\n",
    "#แยก ทำ target\n",
    "class_names = ['unsurvived', 'survived']\n",
    "# คำนวณรายงาน และ Confusion Matrix\n",
    "from sklearn.metrics import accuracy_score \n",
    "from sklearn.metrics import classification_report\n",
    "from sklearn.metrics import confusion_matrix\n",
    "\n",
    "\n",
    "print('Score : {:.3f}'.format(model_best_kNN.score(X_test,y_test)))\n",
    "print('Accuracy Score:',accuracy_score(y_test, y_pred).round(3))\n",
    "# class_names no,yes จากก่อนหน้านี้\n",
    "print(classification_report(y_true, y_pred, target_names=class_names))\n",
    "cm = confusion_matrix(y_test, y_pred)\n",
    "print(cm)\n",
    "y_test"
   ]
  },
  {
   "cell_type": "code",
   "execution_count": 94,
   "metadata": {},
   "outputs": [
    {
     "name": "stdout",
     "output_type": "stream",
     "text": [
      "Accuracy: 80.34 %\n",
      "Precision (Positive or survived): 0.8\n",
      "Precision (Negative or unsurvived): 0.81\n",
      "Recall (Positive or survived): 0.7\n",
      "Recall (Negative or unsurvived): 0.88\n",
      "Cross val scores [0.764 0.854 0.73  0.888 0.865 0.82  0.843 0.786 0.876 0.864]\n",
      "mean 82.9060%\n"
     ]
    }
   ],
   "source": [
    "# cross validation\n",
    "from sklearn.model_selection import cross_val_score\n",
    "cvs = cross_val_score(model_best_kNN, X, y, cv=10)\n",
    "# ค่า confusion matrix ต่างๆคือ\n",
    "TN = cm[0,0]\n",
    "FP = cm[0,1]\n",
    "FN = cm[1,0]\n",
    "TP = cm[1,1]\n",
    "TN, FP, FN, TP\n",
    "\n",
    "precision_p = TP/(TP+FP)\n",
    "precision_n = TN/(TN+FN)\n",
    "recall_p = TP/(TP+FN)\n",
    "recall_n = TN/(TN+FP)\n",
    "accuracy = (TP+TN)/(TP+TN+FP+FN)\n",
    "print('Accuracy:', (accuracy*100).round(2),'%')\n",
    "print('Precision (Positive or survived):', precision_p.round(2))\n",
    "print('Precision (Negative or unsurvived):',precision_n.round(2))\n",
    "print('Recall (Positive or survived):', recall_p.round(2))\n",
    "print('Recall (Negative or unsurvived):', recall_n.round(2))\n",
    "print('Cross val scores {}'.format(cvs.round(4)))\n",
    "print('mean {:.4f}%'.format(cvs.mean()*100))  #ใช้เทียบกับ model อื่นๆ"
   ]
  },
  {
   "cell_type": "markdown",
   "metadata": {},
   "source": [
    "# Confusion Matrix 1 Label"
   ]
  },
  {
   "cell_type": "code",
   "execution_count": 95,
   "metadata": {},
   "outputs": [
    {
     "data": {
      "image/png": "[encoded data removed]",
      "text/plain": [
       "<Figure size 432x288 with 2 Axes>"
      ]
     },
     "metadata": {
      "needs_background": "light"
     },
     "output_type": "display_data"
    }
   ],
   "source": [
    "# ใช้ Seaborn Heat Map\n",
    "import matplotlib.pyplot as plt\n",
    "import seaborn as sns\n",
    "\n",
    "ax = plt.subplot()\n",
    "plt.rcParams['figure.figsize'] = 5,4  # ขนาด\n",
    "plt.rcParams.update({'font.size':14})  # ความสูงอักษร\n",
    "\n",
    "cm = confusion_matrix(y_true, y_pred) # คำนวณค่า Confusion Matrix\n",
    "# กราฟ heatmap เฉดสีออกโทน ฟ้า แดง\n",
    "sns.heatmap(cm, annot=True, ax=ax, cmap=\"coolwarm\")\n",
    "\n",
    "y_targets = ['unsurvived', 'survived'] # Label กำกับ ถ้าไม่มีกำหนด จะแสดง 0 1\n",
    "\n",
    "ax.set_xlabel('Predicted labels')\n",
    "ax.set_ylabel('Actual (True)');\n",
    "ax.set_title('Confusion Matrix'); # title\n",
    "ax.xaxis.set_ticklabels(y_targets) # label กำกับแกน x\n",
    "ax.yaxis.set_ticklabels(y_targets) # label กำกับแกน y\n",
    "plt.show() \n",
    "\n",
    "#ใช้ scikitplot สร้าง \n",
    "#import scikitplot as skplot\n",
    "#skplot.metrics.plot_confusion_matrix(y_true, y_pred, normalize=False)\n",
    "#plt.show()"
   ]
  },
  {
   "cell_type": "code",
   "execution_count": null,
   "metadata": {},
   "outputs": [],
   "source": []
  }
 ],
 "metadata": {
  "kernelspec": {
   "display_name": "Python 3",
   "language": "python",
   "name": "python3"
  },
  "language_info": {
   "codemirror_mode": {
    "name": "ipython",
    "version": 3
   },
   "file_extension": ".py",
   "mimetype": "text/x-python",
   "name": "python",
   "nbconvert_exporter": "python",
   "pygments_lexer": "ipython3",
   "version": "3.7.6"
  }
 },
 "nbformat": 4,
 "nbformat_minor": 4
}
