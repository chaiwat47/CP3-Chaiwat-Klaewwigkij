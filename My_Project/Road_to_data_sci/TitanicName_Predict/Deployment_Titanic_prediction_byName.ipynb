{
 "cells": [
  {
   "cell_type": "markdown",
   "metadata": {
    "id": "8iVTmGhse3Il"
   },
   "source": [
    "# โหลดข้อมูล Testing"
   ]
  },
  {
   "cell_type": "code",
   "execution_count": 546,
   "metadata": {
    "colab": {
     "base_uri": "https://localhost:8080/",
     "height": 230
    },
    "id": "GR5q6qY_e3Im",
    "outputId": "b456c499-8d47-42f7-8416-21c562696aef"
   },
   "outputs": [
    {
     "data": {
      "text/plain": [
       "PassengerId                                 1196\n",
       "Pclass                                         3\n",
       "Name           McCarthy, Miss. Catherine Katie\"\"\n",
       "Sex                                       female\n",
       "Age                                          NaN\n",
       "SibSp                                          0\n",
       "Parch                                          0\n",
       "Ticket                                    383123\n",
       "Fare                                        7.75\n",
       "Cabin                                        NaN\n",
       "Embarked                                       Q\n",
       "Name: 304, dtype: object"
      ]
     },
     "execution_count": 546,
     "metadata": {},
     "output_type": "execute_result"
    }
   ],
   "source": [
    "import pandas as pd\n",
    "import numpy as np\n",
    "import warnings\n",
    "warnings.filterwarnings('ignore')\n",
    "from  sklearn.feature_extraction.text import TfidfVectorizer\n",
    "\n",
    "Titanic_data = 'Titanic/test.csv' # เก็บชื่อที่อยู่ไฟล์\n",
    "df = pd.read_csv(Titanic_data) # โหลดไฟล์\n",
    "df.head(100) # preview\n",
    "df.loc[304] "
   ]
  },
  {
   "cell_type": "code",
   "execution_count": 547,
   "metadata": {
    "colab": {
     "base_uri": "https://localhost:8080/",
     "height": 197
    },
    "id": "CCfG933Ae3Ir",
    "outputId": "e29ddcf9-ca52-4c0e-df97-727aab5eb794"
   },
   "outputs": [
    {
     "data": {
      "text/html": [
       "<div>\n",
       "<style scoped>\n",
       "    .dataframe tbody tr th:only-of-type {\n",
       "        vertical-align: middle;\n",
       "    }\n",
       "\n",
       "    .dataframe tbody tr th {\n",
       "        vertical-align: top;\n",
       "    }\n",
       "\n",
       "    .dataframe thead th {\n",
       "        text-align: right;\n",
       "    }\n",
       "</style>\n",
       "<table border=\"1\" class=\"dataframe\">\n",
       "  <thead>\n",
       "    <tr style=\"text-align: right;\">\n",
       "      <th></th>\n",
       "      <th>PassengerId</th>\n",
       "      <th>Pclass</th>\n",
       "      <th>Name</th>\n",
       "      <th>Sex</th>\n",
       "      <th>Age</th>\n",
       "      <th>SibSp</th>\n",
       "      <th>Parch</th>\n",
       "      <th>Ticket</th>\n",
       "      <th>Fare</th>\n",
       "      <th>Cabin</th>\n",
       "      <th>Embarked</th>\n",
       "    </tr>\n",
       "  </thead>\n",
       "  <tbody>\n",
       "    <tr>\n",
       "      <th>0</th>\n",
       "      <td>892</td>\n",
       "      <td>3</td>\n",
       "      <td>Kelly, Mr. James</td>\n",
       "      <td>male</td>\n",
       "      <td>34.5</td>\n",
       "      <td>0</td>\n",
       "      <td>0</td>\n",
       "      <td>330911</td>\n",
       "      <td>7.8292</td>\n",
       "      <td>NaN</td>\n",
       "      <td>Q</td>\n",
       "    </tr>\n",
       "    <tr>\n",
       "      <th>1</th>\n",
       "      <td>893</td>\n",
       "      <td>3</td>\n",
       "      <td>Wilkes, Mrs. James (Ellen Needs)</td>\n",
       "      <td>female</td>\n",
       "      <td>47.0</td>\n",
       "      <td>1</td>\n",
       "      <td>0</td>\n",
       "      <td>363272</td>\n",
       "      <td>7.0000</td>\n",
       "      <td>NaN</td>\n",
       "      <td>S</td>\n",
       "    </tr>\n",
       "    <tr>\n",
       "      <th>2</th>\n",
       "      <td>894</td>\n",
       "      <td>2</td>\n",
       "      <td>Myles, Mr. Thomas Francis</td>\n",
       "      <td>male</td>\n",
       "      <td>62.0</td>\n",
       "      <td>0</td>\n",
       "      <td>0</td>\n",
       "      <td>240276</td>\n",
       "      <td>9.6875</td>\n",
       "      <td>NaN</td>\n",
       "      <td>Q</td>\n",
       "    </tr>\n",
       "    <tr>\n",
       "      <th>3</th>\n",
       "      <td>895</td>\n",
       "      <td>3</td>\n",
       "      <td>Wirz, Mr. Albert</td>\n",
       "      <td>male</td>\n",
       "      <td>27.0</td>\n",
       "      <td>0</td>\n",
       "      <td>0</td>\n",
       "      <td>315154</td>\n",
       "      <td>8.6625</td>\n",
       "      <td>NaN</td>\n",
       "      <td>S</td>\n",
       "    </tr>\n",
       "    <tr>\n",
       "      <th>4</th>\n",
       "      <td>896</td>\n",
       "      <td>3</td>\n",
       "      <td>Hirvonen, Mrs. Alexander (Helga E Lindqvist)</td>\n",
       "      <td>female</td>\n",
       "      <td>22.0</td>\n",
       "      <td>1</td>\n",
       "      <td>1</td>\n",
       "      <td>3101298</td>\n",
       "      <td>12.2875</td>\n",
       "      <td>NaN</td>\n",
       "      <td>S</td>\n",
       "    </tr>\n",
       "  </tbody>\n",
       "</table>\n",
       "</div>"
      ],
      "text/plain": [
       "   PassengerId  Pclass                                          Name     Sex  \\\n",
       "0          892       3                              Kelly, Mr. James    male   \n",
       "1          893       3              Wilkes, Mrs. James (Ellen Needs)  female   \n",
       "2          894       2                     Myles, Mr. Thomas Francis    male   \n",
       "3          895       3                              Wirz, Mr. Albert    male   \n",
       "4          896       3  Hirvonen, Mrs. Alexander (Helga E Lindqvist)  female   \n",
       "\n",
       "    Age  SibSp  Parch   Ticket     Fare Cabin Embarked  \n",
       "0  34.5      0      0   330911   7.8292   NaN        Q  \n",
       "1  47.0      1      0   363272   7.0000   NaN        S  \n",
       "2  62.0      0      0   240276   9.6875   NaN        Q  \n",
       "3  27.0      0      0   315154   8.6625   NaN        S  \n",
       "4  22.0      1      1  3101298  12.2875   NaN        S  "
      ]
     },
     "execution_count": 547,
     "metadata": {},
     "output_type": "execute_result"
    }
   ],
   "source": [
    "df.head()\n",
    "#df.shape # ดูขนาดข้อมูล"
   ]
  },
  {
   "cell_type": "code",
   "execution_count": 548,
   "metadata": {
    "colab": {
     "base_uri": "https://localhost:8080/",
     "height": 70
    },
    "id": "aNwFfTsGe3Iu",
    "outputId": "bcff2475-77a2-447e-815b-a7fbc1df66ab"
   },
   "outputs": [],
   "source": [
    "list_Name = ['Klaew, Mr. Chaiwat','Klaew, Mr. Wanchai','Klaew, Mr. Chaiwat','Klaew, Mr. Wanchai','Klaew, Mr. Chaiwat','Klaew, Mr. Wanchai']\n",
    "datas = list(list_Name)\n",
    "#H = pd.DataFrame(datas,columns=['Name'])\n",
    "X_test = df.Name # เลือกเฉพาะชื่อมาทำ features\n",
    "#X_test = H.Name.loc[:5]"
   ]
  },
  {
   "cell_type": "markdown",
   "metadata": {
    "id": "bf_RgN28e3Iw"
   },
   "source": [
    "# Data Preprocessing\n",
    "- 1. ตัดคำแยกเป็น : LastName, Prefix. name\n",
    "- 2. แยก column เป็น : prefix_name, last_name, name\n",
    "- 3. นับจำนวน : word_lastName, syllable_lastName, word_name,syllable_name\n",
    "- 4. label encoding : prefix_name_, word_lastName_, syllable_lastname_, word_name_, syllable_name_\n",
    "- 5. Normalizationให้ค่ามีscaleระหว่าง 0-1 : prefix_name_, word_last_name_, syllable_lastname_, word_name_, syllable_name_"
   ]
  },
  {
   "cell_type": "markdown",
   "metadata": {
    "id": "3M3xQNpoe3Ix"
   },
   "source": [
    "# Data pipeline\n",
    "- 1.Data Preprocessing\n",
    "- 2.model_RFC predict X_test\n",
    "- 3.Display"
   ]
  },
  {
   "cell_type": "markdown",
   "metadata": {
    "id": "yRzCW1H-e3Iy"
   },
   "source": [
    "# Data Preprocessing(Code)"
   ]
  },
  {
   "cell_type": "code",
   "execution_count": 549,
   "metadata": {
    "colab": {
     "base_uri": "https://localhost:8080/",
     "height": 34
    },
    "id": "4OkqpGkIe3Iy",
    "outputId": "17e23a61-3f13-4e6f-ddd9-cb59886fd914"
   },
   "outputs": [
    {
     "data": {
      "text/plain": [
       "418"
      ]
     },
     "execution_count": 549,
     "metadata": {},
     "output_type": "execute_result"
    }
   ],
   "source": [
    "# ข้อมูล input\n",
    "X = X_test\n",
    "len(X)"
   ]
  },
  {
   "cell_type": "markdown",
   "metadata": {
    "id": "QYx8XWWAe3I1"
   },
   "source": [
    "# โค้ด python function สำหรับนับพยางค์"
   ]
  },
  {
   "cell_type": "code",
   "execution_count": 550,
   "metadata": {
    "id": "QYx8XWWAe3I1"
   },
   "outputs": [],
   "source": [
    "import re\n",
    "def syllables(word) :\n",
    "    word = word.lower()\n",
    "\n",
    "    # exception_add are words that need extra syllables\n",
    "    # exception_del are words that need less syllables\n",
    "\n",
    "    exception_add = ['serious','crucial']\n",
    "    exception_del = ['fortunately','unfortunately']\n",
    "\n",
    "    co_one = ['cool','coach','coat','coal','count','coin','coarse','coup','coif','cook','coign','coiffe','coof','court']\n",
    "    co_two = ['coapt','coed','coinci']\n",
    "\n",
    "    pre_one = ['preach']\n",
    "\n",
    "    syls = 0 #added syllable number\n",
    "    disc = 0 #discarded syllable number\n",
    "\n",
    "    #1) if letters < 3 : return 1\n",
    "    if len(word) <= 3 :\n",
    "        syls = 1\n",
    "        return syls\n",
    "\n",
    "    #2) if doesn't end with \"ted\" or \"tes\" or \"ses\" or \"ied\" or \"ies\", discard \"es\" and \"ed\" at the end.\n",
    "    # if it has only 1 vowel or 1 set of consecutive vowels, discard. (like \"speed\", \"fled\" etc.)\n",
    "\n",
    "    if word[-2:] == \"es\" or word[-2:] == \"ed\" :\n",
    "        doubleAndtripple_1 = len(re.findall(r'[eaoui][eaoui]',word))\n",
    "        if doubleAndtripple_1 > 1 or len(re.findall(r'[eaoui][^eaoui]',word)) > 1 :\n",
    "            if word[-3:] == \"ted\" or word[-3:] == \"tes\" or word[-3:] == \"ses\" or word[-3:] == \"ied\" or word[-3:] == \"ies\" :\n",
    "                pass\n",
    "            else :\n",
    "                disc+=1\n",
    "\n",
    "    #3) discard trailing \"e\", except where ending is \"le\"  \n",
    "\n",
    "    le_except = ['whole','mobile','pole','male','female','hale','pale','tale','sale','aisle','whale','while']\n",
    "\n",
    "    if word[-1:] == \"e\" :\n",
    "        if word[-2:] == \"le\" and word not in le_except :\n",
    "            pass\n",
    "\n",
    "        else :\n",
    "            disc+=1\n",
    "\n",
    "    #4) check if consecutive vowels exists, triplets or pairs, count them as one.\n",
    "\n",
    "    doubleAndtripple = len(re.findall(r'[eaoui][eaoui]',word))\n",
    "    tripple = len(re.findall(r'[eaoui][eaoui][eaoui]',word))\n",
    "    disc+=doubleAndtripple + tripple\n",
    "\n",
    "    #5) count remaining vowels in word.\n",
    "    numVowels = len(re.findall(r'[eaoui]',word))\n",
    "\n",
    "    #6) add one if starts with \"mc\"\n",
    "    if word[:2] == \"mc\" :\n",
    "        syls+=1\n",
    "\n",
    "    #7) add one if ends with \"y\" but is not surrouned by vowel\n",
    "    if word[-1:] == \"y\" and word[-2] not in \"aeoui\" :\n",
    "        syls +=1\n",
    "\n",
    "    #8) add one if \"y\" is surrounded by non-vowels and is not in the last word.\n",
    "\n",
    "    for i,j in enumerate(word) :\n",
    "        if j == \"y\" :\n",
    "            if (i != 0) and (i != len(word)-1) :\n",
    "                if word[i-1] not in \"aeoui\" and word[i+1] not in \"aeoui\" :\n",
    "                    syls+=1\n",
    "\n",
    "    #9) if starts with \"tri-\" or \"bi-\" and is followed by a vowel, add one.\n",
    "\n",
    "    if word[:3] == \"tri\" and word[3] in \"aeoui\" :\n",
    "        syls+=1\n",
    "\n",
    "    if word[:2] == \"bi\" and word[2] in \"aeoui\" :\n",
    "        syls+=1\n",
    "\n",
    "    #10) if ends with \"-ian\", should be counted as two syllables, except for \"-tian\" and \"-cian\"\n",
    "\n",
    "    if word[-3:] == \"ian\" : \n",
    "    #and (word[-4:] != \"cian\" or word[-4:] != \"tian\") :\n",
    "        if word[-4:] == \"cian\" or word[-4:] == \"tian\" :\n",
    "            pass\n",
    "        else :\n",
    "            syls+=1\n",
    "\n",
    "    #11) if starts with \"co-\" and is followed by a vowel, check if exists in the double syllable dictionary, if not, check if in single dictionary and act accordingly.\n",
    "\n",
    "    if word[:2] == \"co\" and word[2] in 'eaoui' :\n",
    "\n",
    "        if word[:4] in co_two or word[:5] in co_two or word[:6] in co_two :\n",
    "            syls+=1\n",
    "        elif word[:4] in co_one or word[:5] in co_one or word[:6] in co_one :\n",
    "            pass\n",
    "        else :\n",
    "            syls+=1\n",
    "\n",
    "    #12) if starts with \"pre-\" and is followed by a vowel, check if exists in the double syllable dictionary, if not, check if in single dictionary and act accordingly.\n",
    "\n",
    "    if word[:3] == \"pre\" and word[3] in 'eaoui' :\n",
    "        if word[:6] in pre_one :\n",
    "            pass\n",
    "        else :\n",
    "            syls+=1\n",
    "\n",
    "    #13) check for \"-n't\" and cross match with dictionary to add syllable.\n",
    "\n",
    "    negative = [\"doesn't\", \"isn't\", \"shouldn't\", \"couldn't\",\"wouldn't\"]\n",
    "\n",
    "    if word[-3:] == \"n't\" :\n",
    "        if word in negative :\n",
    "            syls+=1\n",
    "        else :\n",
    "            pass   \n",
    "\n",
    "    #14) Handling the exceptional words.\n",
    "\n",
    "    if word in exception_del :\n",
    "        disc+=1\n",
    "\n",
    "    if word in exception_add :\n",
    "        syls+=1     \n",
    "\n",
    "    # calculate the output\n",
    "    return numVowels - disc + syls"
   ]
  },
  {
   "cell_type": "code",
   "execution_count": 551,
   "metadata": {
    "id": "QYx8XWWAe3I1"
   },
   "outputs": [],
   "source": [
    "#ทำ labelencoding สำหรับ X (input)\n",
    "import warnings\n",
    "warnings.filterwarnings('ignore')\n",
    "from sklearn.preprocessing import LabelEncoder\n",
    "\n",
    "def labelEncode(data, columns):\n",
    "    for i in columns:\n",
    "#         print(i)\n",
    "        lb = LabelEncoder().fit_transform(data[i])\n",
    "        data[i + '_'] = lb"
   ]
  },
  {
   "cell_type": "markdown",
   "metadata": {
    "id": "LX6AZtIme3I1"
   },
   "source": [
    "# 1.สำหรับ Preprocessing"
   ]
  },
  {
   "cell_type": "code",
   "execution_count": null,
   "metadata": {
    "id": "QzHJ8aize3I2"
   },
   "outputs": [],
   "source": [
    "# import library\n",
    "from nltk.tokenize import WhitespaceTokenizer\n",
    "import pandas as pd\n",
    "import numpy as np\n",
    "import warnings\n",
    "warnings.filterwarnings('ignore')\n",
    "from  sklearn.feature_extraction.text import TfidfVectorizer\n",
    "from sklearn.preprocessing import MinMaxScaler as Scaler # Normalization 0-1 เพราะ Variance มีค่าต่างกันแต่ละตัวแปร\n",
    "\n",
    "def preprocessing(X):\n",
    "    \n",
    "    ### 1. ตัดคำแยกเป็น : LastName, Prefix. name ###\n",
    "    \n",
    "    tokenized_lists = [] # สร้าง list ไว้รอเก็บ เครื่องมือตัดคำ, ค่าตำแหน่ง\n",
    "    for i in range(len(X)):\n",
    "        tokenized_lists.append((WhitespaceTokenizer(), i)) # เก็บ เครื่องมือตัดคำ, ค่าตำแหน่ง(ไว้ใช้ต่อไป)    \n",
    "    results = []\n",
    "    for tokenized, i in tokenized_lists:\n",
    "        tokenized_list = tokenized.tokenize(X[i]) \n",
    "        results.append(tokenized_list) # เอาผลไว้ใน results\n",
    "        \n",
    "    ### 2. แยก column เป็น : last_name,prefix_name, name ###\n",
    "    \n",
    "    # เก็บข้อมูลลง DataFrame\n",
    "    df_text = pd.DataFrame(results)  # ยังไม่ต้องระบุชื่อคอลัมน์\n",
    "    # การตัดคำจะถูกแยกออกเป็นตัดแล้วได้ 1.ได้คำที่คอลัมน์ 1 พอดี 2. ไปอยู่ที่คอลัมน์ 2 แก้โดยหา idx_fail แล้วเปลี่ยน ณ index นั้นๆ\n",
    "    # กำจัด missing data ด้วยการแทน str : ' '\n",
    "    for i in range(len(df_text.columns)):\n",
    "        df_text[i] = df_text[i].fillna(' ')\n",
    "        \n",
    "        \n",
    "    # กรณีถ้า คอลัมน์ไม่ถึง 4 ให้สร้าง index มาเติมให้ครบ 4\n",
    "    df_text.head()\n",
    "    x = len(df_text.columns) # จำนวนคอลัมน์ df ที่มี\n",
    "    final = 5\n",
    "    for x in range(x,4):\n",
    "        df_text[x] = ''\n",
    "        \n",
    "    Prefix_list = ['Mr.', 'Mrs.', 'Miss.', 'Master.', 'Don.', 'Rev.', 'Dr.', 'Mme.', 'Ms.', 'Major.', 'Mlle.', 'Col.', 'Capt.', 'Jonkheer.', 'Sir.', 'Lady.', 'Dona.']\n",
    "    Prefix_special = ''\n",
    "    \n",
    "    idx_fail = df_text[1].loc[\n",
    "        \n",
    "                          (df_text[1] != Prefix_list[0]) & (df_text[1]!= Prefix_list[1]) & (df_text[1] !=Prefix_list[2]) &  (df_text[1] !=Prefix_list[3]) &\n",
    "                          (df_text[1] != Prefix_list[4]) & (df_text[1]!= Prefix_list[5]) & (df_text[1] !=Prefix_list[6]) &  (df_text[1] !=Prefix_list[7]) &\n",
    "                          (df_text[1] != Prefix_list[8]) & (df_text[1]!= Prefix_list[9]) & (df_text[1] !=Prefix_list[10]) &  (df_text[1] !=Prefix_list[11]) &\n",
    "                          (df_text[1] != Prefix_list[12]) & (df_text[1]!= Prefix_list[13]) & (df_text[1] !=Prefix_list[14]) & (df_text[1] !=Prefix_list[15])\n",
    "        \n",
    "                          ] \n",
    "            \n",
    "    for i in idx_fail.index:\n",
    "         for j in Prefix_list:\n",
    "                # ตรวจดูข้อมูลแล้วเปลี่ยนให้ถูกต้องตามแต่กรณี\n",
    "                if (df_text[2].loc[i] == j):\n",
    "                    df_text[0].loc[i] = df_text[0].loc[i]+' '+df_text[1].loc[i] # รวมคอลัมน์ 0, 1\n",
    "                    df_text[1].loc[i] = j                 # แทนที่คอลัมน์ 1 ด้วยคอลัมน์ 2\n",
    "                    \n",
    "                elif df_text[2].loc[i] == 'Countess.':\n",
    "                    df_text[1].loc[i] = 'the Countess.' # แทนที่ the ด้วย 'the Countess.'\n",
    "                    \n",
    "                elif df_text[3].loc[i] == j:\n",
    "                    df_text[0].loc[i] = df_text[0].loc[i]+' '+df_text[1].loc[i]+' '+ df_text[2].loc[i] # รวมคอลัมน์ 0, 1, 2\n",
    "                    df_text[1].loc[i] = j          # แทนที่คอลัมน์ 2 ด้วยคอลัมน์ 3\n",
    "                    \n",
    "    for i in df_text.index:\n",
    "        \n",
    "          for j in Prefix_list:\n",
    "                \n",
    "\n",
    "            # กรณีคอลัมน์ 1 = Prefix_list , คอลัมน์ 2 = Prefix_list\n",
    "                if (df_text[1].loc[i]==j) & (df_text[2].loc[i]==j):\n",
    "                    df_text[2].loc[i] = ''\n",
    "                    k = 2\n",
    "                    for k in range(len(df_text.loc[i])-3):\n",
    "                        df_text[2].loc[i] += df_text[k+3].loc[i] + ' '\n",
    "            \n",
    "            # กรณีคอลัมน์ 1 = Prefix_list , คอลัมน์ 3 = Prefix_list\n",
    "                elif (df_text[1].loc[i]==j) & (df_text[2].loc[i]!=j) &(df_text[3].loc[i]==j):\n",
    "                    df_text[2].loc[i] = ''\n",
    "                    df_text[3].loc[i] = ''\n",
    "                    k = 2\n",
    "                    for k in range(len(df_text.loc[i])-2):\n",
    "                        df_text[2].loc[i] += df_text[k+2].loc[i] + ' '\n",
    "             # ทั่วไป กรณีคอลัมน์ 1 = Prefix_list  \n",
    "                elif (df_text[1].loc[i]==j) & (df_text[2].loc[i]!=j) &(df_text[3].loc[i]!=j):\n",
    "                    k = 2\n",
    "                    for k in range(len(df_text.loc[i])-3):\n",
    "                        df_text[2].loc[i] += ' ' + df_text[k+3].loc[i]\n",
    "          \n",
    "    # กรณีคำนำหน้าเป็น 'the Countess.'   \n",
    "    if (df_text[1].loc[i]== 'the Countess.'):\n",
    "        \n",
    "        k = 2\n",
    "        df_text[2].loc[i] = ' '\n",
    "        for k in range(len(df_text.loc[i])-2):\n",
    "            df_text[2].loc[i] += ' ' + df_text[k+2].loc[i]    \n",
    "     \n",
    "    # เก็บไว้ใน DataFrame พร้อมตั้งชื่อคอลัมน์\n",
    "    column_features = ['last_name', 'prefix_name', 'name']\n",
    "    i = 0    \n",
    "    for feature in column_features: \n",
    "        df_text[feature] = df_text[i]\n",
    "        i += 1\n",
    "        \n",
    "    # เลือก features ที่จะนำมาใช้\n",
    "    cols = ['last_name', 'prefix_name', 'name']\n",
    "    X_features = df_text[cols]\n",
    "    \n",
    "    # นับจำนวน : word_lastName, syllable_lastName, word_name,syllable_name                            \n",
    "    tfv = TfidfVectorizer() # แบ่งคำ\n",
    "    count_word_LastName = []\n",
    "    # สำหรับนับจำนวนคำ word_lastName\n",
    "    for i in X_features.index:\n",
    "        \n",
    "        text = X_features.last_name[i]\n",
    "        text_list = [text]\n",
    "        words = tfv.fit_transform(text_list)\n",
    "        text_cut = tfv.get_feature_names()\n",
    "        count_word_LastName.append(len(text_cut))\n",
    "        \n",
    "    # สำหรับนับจำนวนพยางค์ syllable_Lastname     \n",
    "    X_features['count_word_LastName'] = count_word_LastName    \n",
    "    count_syllable_LastName = []\n",
    "    for i in X_features.index:\n",
    "        count_syllable_LastName.append(syllables(X_features.last_name[i]))\n",
    "\n",
    "    X_features['count_syllable_LastName'] = np.array(count_syllable_LastName)\n",
    "\n",
    "    # สำหรับนับจำนวนคำ word_name\n",
    "    count_word_Name = []\n",
    "    for i in X_features.index:\n",
    "        text = X_features.name[i]\n",
    "        text_list = [text]\n",
    "        words = tfv.fit_transform(text_list)\n",
    "        text_cut = tfv.get_feature_names()\n",
    "        count_word_Name.append(len(text_cut)) \n",
    "    X_features['count_word_Name'] = np.array(count_word_Name)    \n",
    "    \n",
    "    # สำหรับนับจำนวนพยางค์ syllable_name\n",
    "    count_syllable_Name = []\n",
    "    for i in X_features.index:\n",
    "        count_syllable_Name.append(syllables(X_features.name[i]))\n",
    "       \n",
    "    X_features['count_syllable_Name'] = np.array(count_syllable_Name) \n",
    "      \n",
    "    ### 4.label encoding : prefix_name_, word_lastName_, syllable_lastname_, word_name_, syllable_name_ ###\n",
    "    columns =  ['prefix_name', 'count_word_LastName', 'count_syllable_LastName', 'count_word_Name', 'count_syllable_Name']\n",
    "    labelEncode(X_features, columns)\n",
    "        \n",
    "            \n",
    "    ### 5.Normalizationให้ค่ามีscaleระหว่าง 0-1 : prefix_name_, word_last_name_, syllable_lastname_, word_name_, syllable_name_ ###       \n",
    "    # เลือก feature มาทำ normalization\n",
    "    col_sel = ['prefix_name_', 'count_word_LastName_', 'count_syllable_LastName_', 'count_word_Name_', 'count_syllable_Name_']\n",
    "    X_pp = X_features[col_sel]\n",
    "    X = X_pp \n",
    "    sc = Scaler()\n",
    "    X_sc = sc.fit_transform(X) # Normalization 0-1\n",
    "    df_sc = pd.DataFrame(X_sc, columns=X.columns) # เก็บ ที่ทำtransform แล้วลงในตัวแปร df_sc    \n",
    "        \n",
    "\n",
    "        \n",
    " \n",
    "    \n",
    "    \n",
    "    return  df_sc"
   ]
  },
  {
   "cell_type": "markdown",
   "metadata": {
    "id": "QzHJ8aize3I2"
   },
   "source": [
    "# สร้าง Pipeline"
   ]
  },
  {
   "cell_type": "code",
   "execution_count": 553,
   "metadata": {
    "id": "QzHJ8aize3I2"
   },
   "outputs": [],
   "source": []
  },
  {
   "cell_type": "code",
   "execution_count": 553,
   "metadata": {
    "id": "QzHJ8aize3I2"
   },
   "outputs": [
    {
     "data": {
      "text/html": [
       "<div>\n",
       "<style scoped>\n",
       "    .dataframe tbody tr th:only-of-type {\n",
       "        vertical-align: middle;\n",
       "    }\n",
       "\n",
       "    .dataframe tbody tr th {\n",
       "        vertical-align: top;\n",
       "    }\n",
       "\n",
       "    .dataframe thead th {\n",
       "        text-align: right;\n",
       "    }\n",
       "</style>\n",
       "<table border=\"1\" class=\"dataframe\">\n",
       "  <thead>\n",
       "    <tr style=\"text-align: right;\">\n",
       "      <th></th>\n",
       "      <th>prefix_name_</th>\n",
       "      <th>count_word_LastName_</th>\n",
       "      <th>count_syllable_LastName_</th>\n",
       "      <th>count_word_Name_</th>\n",
       "      <th>count_syllable_Name_</th>\n",
       "    </tr>\n",
       "  </thead>\n",
       "  <tbody>\n",
       "    <tr>\n",
       "      <th>159</th>\n",
       "      <td>0.750</td>\n",
       "      <td>0.0</td>\n",
       "      <td>0.166667</td>\n",
       "      <td>0.4</td>\n",
       "      <td>0.428571</td>\n",
       "    </tr>\n",
       "    <tr>\n",
       "      <th>362</th>\n",
       "      <td>0.750</td>\n",
       "      <td>0.0</td>\n",
       "      <td>0.166667</td>\n",
       "      <td>0.8</td>\n",
       "      <td>0.571429</td>\n",
       "    </tr>\n",
       "    <tr>\n",
       "      <th>12</th>\n",
       "      <td>0.750</td>\n",
       "      <td>0.0</td>\n",
       "      <td>0.166667</td>\n",
       "      <td>0.6</td>\n",
       "      <td>0.571429</td>\n",
       "    </tr>\n",
       "    <tr>\n",
       "      <th>139</th>\n",
       "      <td>0.625</td>\n",
       "      <td>0.0</td>\n",
       "      <td>0.166667</td>\n",
       "      <td>0.2</td>\n",
       "      <td>0.285714</td>\n",
       "    </tr>\n",
       "    <tr>\n",
       "      <th>166</th>\n",
       "      <td>0.625</td>\n",
       "      <td>0.0</td>\n",
       "      <td>0.166667</td>\n",
       "      <td>0.0</td>\n",
       "      <td>0.071429</td>\n",
       "    </tr>\n",
       "  </tbody>\n",
       "</table>\n",
       "</div>"
      ],
      "text/plain": [
       "     prefix_name_  count_word_LastName_  count_syllable_LastName_  \\\n",
       "159         0.750                   0.0                  0.166667   \n",
       "362         0.750                   0.0                  0.166667   \n",
       "12          0.750                   0.0                  0.166667   \n",
       "139         0.625                   0.0                  0.166667   \n",
       "166         0.625                   0.0                  0.166667   \n",
       "\n",
       "     count_word_Name_  count_syllable_Name_  \n",
       "159               0.4              0.428571  \n",
       "362               0.8              0.571429  \n",
       "12                0.6              0.571429  \n",
       "139               0.2              0.285714  \n",
       "166               0.0              0.071429  "
      ]
     },
     "execution_count": 553,
     "metadata": {},
     "output_type": "execute_result"
    }
   ],
   "source": [
    "df_text = preprocessing(X)\n",
    "df_text.sample(5)"
   ]
  },
  {
   "cell_type": "raw",
   "metadata": {
    "id": "QzHJ8aize3I2"
   },
   "source": []
  },
  {
   "cell_type": "code",
   "execution_count": 554,
   "metadata": {
    "colab": {
     "base_uri": "https://localhost:8080/",
     "height": 441
    },
    "id": "pZthuVJge3I5",
    "outputId": "c09dcb10-e6f0-4d71-cfcf-35add2c83898"
   },
   "outputs": [
    {
     "data": {
      "text/html": [
       "<div>\n",
       "<style scoped>\n",
       "    .dataframe tbody tr th:only-of-type {\n",
       "        vertical-align: middle;\n",
       "    }\n",
       "\n",
       "    .dataframe tbody tr th {\n",
       "        vertical-align: top;\n",
       "    }\n",
       "\n",
       "    .dataframe thead th {\n",
       "        text-align: right;\n",
       "    }\n",
       "</style>\n",
       "<table border=\"1\" class=\"dataframe\">\n",
       "  <thead>\n",
       "    <tr style=\"text-align: right;\">\n",
       "      <th></th>\n",
       "      <th>prefix_name_</th>\n",
       "      <th>count_word_LastName_</th>\n",
       "      <th>count_syllable_LastName_</th>\n",
       "      <th>count_word_Name_</th>\n",
       "      <th>count_syllable_Name_</th>\n",
       "    </tr>\n",
       "  </thead>\n",
       "  <tbody>\n",
       "    <tr>\n",
       "      <th>0</th>\n",
       "      <td>0.625</td>\n",
       "      <td>0.0</td>\n",
       "      <td>0.166667</td>\n",
       "      <td>0.0</td>\n",
       "      <td>0.071429</td>\n",
       "    </tr>\n",
       "    <tr>\n",
       "      <th>1</th>\n",
       "      <td>0.750</td>\n",
       "      <td>0.0</td>\n",
       "      <td>0.166667</td>\n",
       "      <td>0.4</td>\n",
       "      <td>0.285714</td>\n",
       "    </tr>\n",
       "    <tr>\n",
       "      <th>2</th>\n",
       "      <td>0.625</td>\n",
       "      <td>0.0</td>\n",
       "      <td>0.166667</td>\n",
       "      <td>0.2</td>\n",
       "      <td>0.214286</td>\n",
       "    </tr>\n",
       "    <tr>\n",
       "      <th>3</th>\n",
       "      <td>0.625</td>\n",
       "      <td>0.0</td>\n",
       "      <td>0.000000</td>\n",
       "      <td>0.0</td>\n",
       "      <td>0.071429</td>\n",
       "    </tr>\n",
       "    <tr>\n",
       "      <th>4</th>\n",
       "      <td>0.750</td>\n",
       "      <td>0.0</td>\n",
       "      <td>0.333333</td>\n",
       "      <td>0.4</td>\n",
       "      <td>0.571429</td>\n",
       "    </tr>\n",
       "    <tr>\n",
       "      <th>...</th>\n",
       "      <td>...</td>\n",
       "      <td>...</td>\n",
       "      <td>...</td>\n",
       "      <td>...</td>\n",
       "      <td>...</td>\n",
       "    </tr>\n",
       "    <tr>\n",
       "      <th>413</th>\n",
       "      <td>0.625</td>\n",
       "      <td>0.0</td>\n",
       "      <td>0.166667</td>\n",
       "      <td>0.0</td>\n",
       "      <td>0.000000</td>\n",
       "    </tr>\n",
       "    <tr>\n",
       "      <th>414</th>\n",
       "      <td>0.125</td>\n",
       "      <td>1.0</td>\n",
       "      <td>1.000000</td>\n",
       "      <td>0.0</td>\n",
       "      <td>0.142857</td>\n",
       "    </tr>\n",
       "    <tr>\n",
       "      <th>415</th>\n",
       "      <td>0.625</td>\n",
       "      <td>0.0</td>\n",
       "      <td>0.166667</td>\n",
       "      <td>0.2</td>\n",
       "      <td>0.285714</td>\n",
       "    </tr>\n",
       "    <tr>\n",
       "      <th>416</th>\n",
       "      <td>0.625</td>\n",
       "      <td>0.0</td>\n",
       "      <td>0.166667</td>\n",
       "      <td>0.0</td>\n",
       "      <td>0.142857</td>\n",
       "    </tr>\n",
       "    <tr>\n",
       "      <th>417</th>\n",
       "      <td>0.375</td>\n",
       "      <td>0.0</td>\n",
       "      <td>0.166667</td>\n",
       "      <td>0.0</td>\n",
       "      <td>0.071429</td>\n",
       "    </tr>\n",
       "  </tbody>\n",
       "</table>\n",
       "<p>418 rows × 5 columns</p>\n",
       "</div>"
      ],
      "text/plain": [
       "     prefix_name_  count_word_LastName_  count_syllable_LastName_  \\\n",
       "0           0.625                   0.0                  0.166667   \n",
       "1           0.750                   0.0                  0.166667   \n",
       "2           0.625                   0.0                  0.166667   \n",
       "3           0.625                   0.0                  0.000000   \n",
       "4           0.750                   0.0                  0.333333   \n",
       "..            ...                   ...                       ...   \n",
       "413         0.625                   0.0                  0.166667   \n",
       "414         0.125                   1.0                  1.000000   \n",
       "415         0.625                   0.0                  0.166667   \n",
       "416         0.625                   0.0                  0.166667   \n",
       "417         0.375                   0.0                  0.166667   \n",
       "\n",
       "     count_word_Name_  count_syllable_Name_  \n",
       "0                 0.0              0.071429  \n",
       "1                 0.4              0.285714  \n",
       "2                 0.2              0.214286  \n",
       "3                 0.0              0.071429  \n",
       "4                 0.4              0.571429  \n",
       "..                ...                   ...  \n",
       "413               0.0              0.000000  \n",
       "414               0.0              0.142857  \n",
       "415               0.2              0.285714  \n",
       "416               0.0              0.142857  \n",
       "417               0.0              0.071429  \n",
       "\n",
       "[418 rows x 5 columns]"
      ]
     },
     "execution_count": 554,
     "metadata": {},
     "output_type": "execute_result"
    }
   ],
   "source": [
    "df_text = preprocessing(X)\n",
    "df_text"
   ]
  },
  {
   "cell_type": "code",
   "execution_count": 555,
   "metadata": {
    "colab": {
     "base_uri": "https://localhost:8080/",
     "height": 441
    },
    "id": "pZthuVJge3I5",
    "outputId": "c09dcb10-e6f0-4d71-cfcf-35add2c83898"
   },
   "outputs": [],
   "source": [
    "df_text = preprocessing(X)"
   ]
  },
  {
   "cell_type": "code",
   "execution_count": 556,
   "metadata": {
    "id": "DY3lwJmCe3I8"
   },
   "outputs": [
    {
     "data": {
      "text/plain": [
       "418"
      ]
     },
     "execution_count": 556,
     "metadata": {},
     "output_type": "execute_result"
    }
   ],
   "source": [
    "len(X)"
   ]
  },
  {
   "cell_type": "code",
   "execution_count": 557,
   "metadata": {
    "id": "0dc8n17Oe3JA"
   },
   "outputs": [
    {
     "data": {
      "text/plain": [
       "prefix_name_                0.125000\n",
       "count_word_LastName_        1.000000\n",
       "count_syllable_LastName_    1.000000\n",
       "count_word_Name_            0.000000\n",
       "count_syllable_Name_        0.142857\n",
       "Name: 414, dtype: float64"
      ]
     },
     "execution_count": 557,
     "metadata": {},
     "output_type": "execute_result"
    }
   ],
   "source": [
    "df_text.loc[414]"
   ]
  },
  {
   "cell_type": "code",
   "execution_count": 558,
   "metadata": {
    "id": "XSCHOQVhe3JD"
   },
   "outputs": [
    {
     "data": {
      "text/plain": [
       "16"
      ]
     },
     "execution_count": 558,
     "metadata": {},
     "output_type": "execute_result"
    }
   ],
   "source": [
    "Prefix_list = ['Mr.', 'Mrs.', 'Miss.', 'Master.', 'Don.', 'Rev.', 'Dr.', 'Mme.', 'Ms.', 'Major.', 'Mlle.', 'Col.', 'Capt.', 'Jonkheer.', 'Sir.', 'Lady.']\n",
    "len(Prefix_list)"
   ]
  },
  {
   "cell_type": "code",
   "execution_count": 559,
   "metadata": {
    "id": "OwmTHtfCe3JF"
   },
   "outputs": [
    {
     "data": {
      "text/html": [
       "<div>\n",
       "<style scoped>\n",
       "    .dataframe tbody tr th:only-of-type {\n",
       "        vertical-align: middle;\n",
       "    }\n",
       "\n",
       "    .dataframe tbody tr th {\n",
       "        vertical-align: top;\n",
       "    }\n",
       "\n",
       "    .dataframe thead th {\n",
       "        text-align: right;\n",
       "    }\n",
       "</style>\n",
       "<table border=\"1\" class=\"dataframe\">\n",
       "  <thead>\n",
       "    <tr style=\"text-align: right;\">\n",
       "      <th></th>\n",
       "      <th>prefix_name_</th>\n",
       "      <th>count_word_LastName_</th>\n",
       "      <th>count_syllable_LastName_</th>\n",
       "      <th>count_word_Name_</th>\n",
       "      <th>count_syllable_Name_</th>\n",
       "    </tr>\n",
       "  </thead>\n",
       "  <tbody>\n",
       "    <tr>\n",
       "      <th>254</th>\n",
       "      <td>0.625</td>\n",
       "      <td>0.0</td>\n",
       "      <td>0.166667</td>\n",
       "      <td>0.0</td>\n",
       "      <td>0.071429</td>\n",
       "    </tr>\n",
       "    <tr>\n",
       "      <th>41</th>\n",
       "      <td>0.625</td>\n",
       "      <td>0.0</td>\n",
       "      <td>0.166667</td>\n",
       "      <td>0.2</td>\n",
       "      <td>0.214286</td>\n",
       "    </tr>\n",
       "    <tr>\n",
       "      <th>7</th>\n",
       "      <td>0.625</td>\n",
       "      <td>0.0</td>\n",
       "      <td>0.166667</td>\n",
       "      <td>0.2</td>\n",
       "      <td>0.214286</td>\n",
       "    </tr>\n",
       "    <tr>\n",
       "      <th>282</th>\n",
       "      <td>0.500</td>\n",
       "      <td>0.0</td>\n",
       "      <td>0.166667</td>\n",
       "      <td>0.0</td>\n",
       "      <td>0.142857</td>\n",
       "    </tr>\n",
       "    <tr>\n",
       "      <th>267</th>\n",
       "      <td>0.625</td>\n",
       "      <td>0.0</td>\n",
       "      <td>0.166667</td>\n",
       "      <td>0.2</td>\n",
       "      <td>0.214286</td>\n",
       "    </tr>\n",
       "    <tr>\n",
       "      <th>295</th>\n",
       "      <td>0.625</td>\n",
       "      <td>0.0</td>\n",
       "      <td>0.333333</td>\n",
       "      <td>0.0</td>\n",
       "      <td>0.071429</td>\n",
       "    </tr>\n",
       "    <tr>\n",
       "      <th>35</th>\n",
       "      <td>0.625</td>\n",
       "      <td>0.0</td>\n",
       "      <td>0.500000</td>\n",
       "      <td>0.2</td>\n",
       "      <td>0.642857</td>\n",
       "    </tr>\n",
       "    <tr>\n",
       "      <th>116</th>\n",
       "      <td>0.625</td>\n",
       "      <td>0.0</td>\n",
       "      <td>0.166667</td>\n",
       "      <td>0.0</td>\n",
       "      <td>0.000000</td>\n",
       "    </tr>\n",
       "    <tr>\n",
       "      <th>84</th>\n",
       "      <td>0.625</td>\n",
       "      <td>0.0</td>\n",
       "      <td>0.000000</td>\n",
       "      <td>0.2</td>\n",
       "      <td>0.142857</td>\n",
       "    </tr>\n",
       "    <tr>\n",
       "      <th>39</th>\n",
       "      <td>0.625</td>\n",
       "      <td>0.0</td>\n",
       "      <td>0.000000</td>\n",
       "      <td>0.0</td>\n",
       "      <td>0.000000</td>\n",
       "    </tr>\n",
       "  </tbody>\n",
       "</table>\n",
       "</div>"
      ],
      "text/plain": [
       "     prefix_name_  count_word_LastName_  count_syllable_LastName_  \\\n",
       "254         0.625                   0.0                  0.166667   \n",
       "41          0.625                   0.0                  0.166667   \n",
       "7           0.625                   0.0                  0.166667   \n",
       "282         0.500                   0.0                  0.166667   \n",
       "267         0.625                   0.0                  0.166667   \n",
       "295         0.625                   0.0                  0.333333   \n",
       "35          0.625                   0.0                  0.500000   \n",
       "116         0.625                   0.0                  0.166667   \n",
       "84          0.625                   0.0                  0.000000   \n",
       "39          0.625                   0.0                  0.000000   \n",
       "\n",
       "     count_word_Name_  count_syllable_Name_  \n",
       "254               0.0              0.071429  \n",
       "41                0.2              0.214286  \n",
       "7                 0.2              0.214286  \n",
       "282               0.0              0.142857  \n",
       "267               0.2              0.214286  \n",
       "295               0.0              0.071429  \n",
       "35                0.2              0.642857  \n",
       "116               0.0              0.000000  \n",
       "84                0.2              0.142857  \n",
       "39                0.0              0.000000  "
      ]
     },
     "execution_count": 559,
     "metadata": {},
     "output_type": "execute_result"
    }
   ],
   "source": [
    "df_text.sample(10) # ที่ index 414"
   ]
  },
  {
   "cell_type": "code",
   "execution_count": 560,
   "metadata": {
    "id": "BVroJZIke3JH"
   },
   "outputs": [],
   "source": [
    "#df_text.loc[414] "
   ]
  },
  {
   "cell_type": "code",
   "execution_count": 561,
   "metadata": {
    "id": "AM-fuY5ee3JK"
   },
   "outputs": [
    {
     "ename": "IndentationError",
     "evalue": "unexpected indent (<ipython-input-561-2d01d8e25906>, line 2)",
     "output_type": "error",
     "traceback": [
      "\u001b[1;36m  File \u001b[1;32m\"<ipython-input-561-2d01d8e25906>\"\u001b[1;36m, line \u001b[1;32m2\u001b[0m\n\u001b[1;33m    count_syllable_lastName.append(syllables(X_features.last_name[i]))\u001b[0m\n\u001b[1;37m    ^\u001b[0m\n\u001b[1;31mIndentationError\u001b[0m\u001b[1;31m:\u001b[0m unexpected indent\n"
     ]
    }
   ],
   "source": [
    " # สำหรับนับพยางค์ syllable_lastName\n",
    "        count_syllable_lastName.append(syllables(X_features.last_name[i]))\n",
    "        X_features['count_syllable_lastname'] = np.array(count_syllable_lastname)\n",
    "        \n",
    "        # สำหรับนับจำนวนคำ word_name\n",
    "        text = X_features.name[i]\n",
    "        text_list = [text]\n",
    "        words = tfv.fit_transform(text_list)\n",
    "        text_cut = tfv.get_feature_names()\n",
    "        count_word_lastname.append(len(text_cut)) \n",
    "        X_features['count_word_name'] = [count_word_name]\n",
    "\n",
    "        # สำหรับนับพยางค์ syllable_lastName\n",
    "        count_syllable_name.append(syllables(X_features.name[i]))\n",
    "        X_features['count_syllable_name'] = [count_syllable_name]\n",
    "        "
   ]
  },
  {
   "cell_type": "code",
   "execution_count": null,
   "metadata": {
    "id": "EmoZlIHPe3JN"
   },
   "outputs": [],
   "source": []
  },
  {
   "cell_type": "code",
   "execution_count": null,
   "metadata": {
    "id": "59tmCpof_L36"
   },
   "outputs": [],
   "source": [
    "H.dtypes"
   ]
  },
  {
   "cell_type": "code",
   "execution_count": null,
   "metadata": {
    "id": "TyzslBw0_MiY"
   },
   "outputs": [],
   "source": []
  }
 ],
 "metadata": {
  "colab": {
   "collapsed_sections": [],
   "name": "Deployment_Titanic_prediction_byName.ipynb",
   "provenance": [],
   "toc_visible": true
  },
  "kernelspec": {
   "display_name": "Python 3",
   "language": "python",
   "name": "python3"
  },
  "language_info": {
   "codemirror_mode": {
    "name": "ipython",
    "version": 3
   },
   "file_extension": ".py",
   "mimetype": "text/x-python",
   "name": "python",
   "nbconvert_exporter": "python",
   "pygments_lexer": "ipython3",
   "version": "3.7.6"
  }
 },
 "nbformat": 4,
 "nbformat_minor": 4
}
