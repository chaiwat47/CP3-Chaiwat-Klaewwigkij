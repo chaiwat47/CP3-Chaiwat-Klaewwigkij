{
 "cells": [
  {
   "cell_type": "markdown",
   "metadata": {},
   "source": [
    "# Recommender System"
   ]
  },
  {
   "cell_type": "markdown",
   "metadata": {},
   "source": [
    "# Workshop 1 : วิเคราะห์ความคล้ายของประโยค"
   ]
  },
  {
   "cell_type": "code",
   "execution_count": 1,
   "metadata": {},
   "outputs": [],
   "source": [
    "import pandas as pd\n",
    "from sklearn.feature_extraction.text import TfidfVectorizer\n",
    "from sklearn.feature_extraction.text import CountVectorizer"
   ]
  },
  {
   "cell_type": "raw",
   "metadata": {},
   "source": [
    "# Case 1 \n",
    "สมมมติว่ามีข้อความ ประโยค เนื้อความ เนื้อหา Content หรือ Metadata ที่เป็นข้อความ a และ b \n",
    "จากนั้นคำนวณหา Features โดยใช้ TFIDF vector"
   ]
  },
  {
   "cell_type": "code",
   "execution_count": 2,
   "metadata": {},
   "outputs": [],
   "source": [
    "a = 'beach sea beach'\n",
    "b = 'Beach sea sea' # ข้อสังเกต ใช้ B ตัวใหญ่"
   ]
  },
  {
   "cell_type": "code",
   "execution_count": 3,
   "metadata": {},
   "outputs": [
    {
     "name": "stdout",
     "output_type": "stream",
     "text": [
      "['beach', 'sea']\n",
      "[[2 1]\n",
      " [1 2]]\n"
     ]
    }
   ],
   "source": [
    "text = [a, b]\n",
    "cv = CountVectorizer()\n",
    "count_matrix = cv.fit_transform(text)\n",
    "\n",
    "print(cv.get_feature_names()) # รายการคำ (ข้อมูล List)\n",
    "print(count_matrix.toarray()) # เมทริกซ์แสดงจำนวนคำ"
   ]
  },
  {
   "cell_type": "code",
   "execution_count": 4,
   "metadata": {},
   "outputs": [
    {
     "data": {
      "text/html": [
       "<div>\n",
       "<style scoped>\n",
       "    .dataframe tbody tr th:only-of-type {\n",
       "        vertical-align: middle;\n",
       "    }\n",
       "\n",
       "    .dataframe tbody tr th {\n",
       "        vertical-align: top;\n",
       "    }\n",
       "\n",
       "    .dataframe thead th {\n",
       "        text-align: right;\n",
       "    }\n",
       "</style>\n",
       "<table border=\"1\" class=\"dataframe\">\n",
       "  <thead>\n",
       "    <tr style=\"text-align: right;\">\n",
       "      <th></th>\n",
       "      <th>beach</th>\n",
       "      <th>sea</th>\n",
       "    </tr>\n",
       "  </thead>\n",
       "  <tbody>\n",
       "    <tr>\n",
       "      <th>a</th>\n",
       "      <td>2</td>\n",
       "      <td>1</td>\n",
       "    </tr>\n",
       "    <tr>\n",
       "      <th>b</th>\n",
       "      <td>1</td>\n",
       "      <td>2</td>\n",
       "    </tr>\n",
       "  </tbody>\n",
       "</table>\n",
       "</div>"
      ],
      "text/plain": [
       "   beach  sea\n",
       "a      2    1\n",
       "b      1    2"
      ]
     },
     "execution_count": 4,
     "metadata": {},
     "output_type": "execute_result"
    }
   ],
   "source": [
    "# เพื่อให้ดูง่ายขึ้น นำข้อมูล Matrix มาเก็บใน DataFrame\n",
    "term_matrix = count_matrix.todense()\n",
    "cols = cv.get_feature_names()\n",
    "df = pd.DataFrame(term_matrix, columns=cols, index=['a','b'])\n",
    "df"
   ]
  },
  {
   "cell_type": "raw",
   "metadata": {},
   "source": [
    "ความหมายคือ\n",
    "ประโยคแรกหรือกลุ่มคำแรก (a) มีคำว่า beach 2 คำ และมีคำว่า sea 1 คำ\n",
    "ประโยคที่ 2 หรือกลุ่มคำที่ 2 (b) มีคำว่า beach 1 คำ และมีคำว่า sea 2 คำ (อักษรเล็กใหญ่ถือว่าตัวเดียวกัน)"
   ]
  },
  {
   "cell_type": "raw",
   "metadata": {},
   "source": [
    "คำนวณหา Cosine Similarity ค่าระหว่าง 0-1 เพื่อบ่งบอกว่าเส้นที่พล็อตจาก matrix มีเส้นทำมุม cos0 กันถ้าคล้ายกัน\n",
    "จะมีค่าเข้าใกล้ 1  0 -> o"
   ]
  },
  {
   "cell_type": "code",
   "execution_count": 5,
   "metadata": {},
   "outputs": [
    {
     "data": {
      "text/plain": [
       "array([[1. , 0.8],\n",
       "       [0.8, 1. ]])"
      ]
     },
     "execution_count": 5,
     "metadata": {},
     "output_type": "execute_result"
    }
   ],
   "source": [
    "from sklearn.metrics.pairwise import cosine_similarity\n",
    "cosine_sim = cosine_similarity(count_matrix)\n",
    "cosine_sim"
   ]
  },
  {
   "cell_type": "raw",
   "metadata": {},
   "source": [
    "a กับ b or b กับ a จะใกล้เคียงกัน 0.8 ใกล้เคียงกันมาก"
   ]
  },
  {
   "cell_type": "raw",
   "metadata": {},
   "source": [
    "# Case 2\n",
    "สมมุติว่าสถานที่ท่องเที่ยว a และ b มีคำสำคัญ (keywords) หรือ เรียก Metadata หรือคำอธิบายส่วนขยายของสถานที่\n",
    "มีจำนวนคำเปลี่ยนไป a เท่าเดิม b เพิ่มขึ้น ใช้วิธีเดียวกันหาค่า matrix and calculate Cosine Similarity"
   ]
  },
  {
   "cell_type": "code",
   "execution_count": 6,
   "metadata": {},
   "outputs": [
    {
     "name": "stdout",
     "output_type": "stream",
     "text": [
      "['beach', 'sea']\n",
      "[[2 1]\n",
      " [4 2]]\n"
     ]
    }
   ],
   "source": [
    "a = 'beach sea beach'\n",
    "b = 'Beach sea sea Beach beach beach' # ข้อสังเกต ใช้ คำซ้ำมากขึ้น\n",
    "text = [a, b]\n",
    "cv = CountVectorizer()\n",
    "count_matrix = cv.fit_transform(text)\n",
    "print(cv.get_feature_names())\n",
    "print(count_matrix.toarray())"
   ]
  },
  {
   "cell_type": "code",
   "execution_count": 7,
   "metadata": {},
   "outputs": [
    {
     "data": {
      "text/html": [
       "<div>\n",
       "<style scoped>\n",
       "    .dataframe tbody tr th:only-of-type {\n",
       "        vertical-align: middle;\n",
       "    }\n",
       "\n",
       "    .dataframe tbody tr th {\n",
       "        vertical-align: top;\n",
       "    }\n",
       "\n",
       "    .dataframe thead th {\n",
       "        text-align: right;\n",
       "    }\n",
       "</style>\n",
       "<table border=\"1\" class=\"dataframe\">\n",
       "  <thead>\n",
       "    <tr style=\"text-align: right;\">\n",
       "      <th></th>\n",
       "      <th>beach</th>\n",
       "      <th>sea</th>\n",
       "    </tr>\n",
       "  </thead>\n",
       "  <tbody>\n",
       "    <tr>\n",
       "      <th>a</th>\n",
       "      <td>2</td>\n",
       "      <td>1</td>\n",
       "    </tr>\n",
       "    <tr>\n",
       "      <th>b</th>\n",
       "      <td>4</td>\n",
       "      <td>2</td>\n",
       "    </tr>\n",
       "  </tbody>\n",
       "</table>\n",
       "</div>"
      ],
      "text/plain": [
       "   beach  sea\n",
       "a      2    1\n",
       "b      4    2"
      ]
     },
     "execution_count": 7,
     "metadata": {},
     "output_type": "execute_result"
    }
   ],
   "source": [
    "term_matrix = count_matrix.todense()\n",
    "cols = cv.get_feature_names()\n",
    "df = pd.DataFrame(term_matrix, columns=cols, index=['a','b'])\n",
    "df"
   ]
  },
  {
   "cell_type": "code",
   "execution_count": 8,
   "metadata": {},
   "outputs": [
    {
     "data": {
      "text/plain": [
       "array([[1., 1.],\n",
       "       [1., 1.]])"
      ]
     },
     "execution_count": 8,
     "metadata": {},
     "output_type": "execute_result"
    }
   ],
   "source": [
    "cosine_sim = cosine_similarity(count_matrix)\n",
    "cosine_sim"
   ]
  },
  {
   "cell_type": "markdown",
   "metadata": {},
   "source": [
    "จะเห็นว่าค่าคำตอบคล้ายกันมาก(เข้าใกล้1)"
   ]
  },
  {
   "cell_type": "markdown",
   "metadata": {},
   "source": [
    "# Workshop 2 : วิเคราะห์ความคล้ายของ 4 ประโยค"
   ]
  },
  {
   "cell_type": "raw",
   "metadata": {},
   "source": [
    "# จำแนกสินค้าจาก Meta-data(Content)\n",
    "-> สินค้า a มีคำสำคัญ blue dress lady skirt\n",
    "-> สินค้า b มีคำสำคัญ blue shirt lady\n",
    "-> สินค้า c มีคำสำคัญ smartphone android\n",
    "-> สินค้า d มีคำสำคัญ charge smartphone tablet"
   ]
  },
  {
   "cell_type": "code",
   "execution_count": 9,
   "metadata": {},
   "outputs": [
    {
     "data": {
      "text/html": [
       "<div>\n",
       "<style scoped>\n",
       "    .dataframe tbody tr th:only-of-type {\n",
       "        vertical-align: middle;\n",
       "    }\n",
       "\n",
       "    .dataframe tbody tr th {\n",
       "        vertical-align: top;\n",
       "    }\n",
       "\n",
       "    .dataframe thead th {\n",
       "        text-align: right;\n",
       "    }\n",
       "</style>\n",
       "<table border=\"1\" class=\"dataframe\">\n",
       "  <thead>\n",
       "    <tr style=\"text-align: right;\">\n",
       "      <th></th>\n",
       "      <th>android</th>\n",
       "      <th>blue</th>\n",
       "      <th>charger</th>\n",
       "      <th>dress</th>\n",
       "      <th>lady</th>\n",
       "      <th>shirt</th>\n",
       "      <th>skirt</th>\n",
       "      <th>smartphone</th>\n",
       "      <th>tablet</th>\n",
       "    </tr>\n",
       "  </thead>\n",
       "  <tbody>\n",
       "    <tr>\n",
       "      <th>a</th>\n",
       "      <td>0</td>\n",
       "      <td>1</td>\n",
       "      <td>0</td>\n",
       "      <td>1</td>\n",
       "      <td>1</td>\n",
       "      <td>0</td>\n",
       "      <td>1</td>\n",
       "      <td>0</td>\n",
       "      <td>0</td>\n",
       "    </tr>\n",
       "    <tr>\n",
       "      <th>b</th>\n",
       "      <td>0</td>\n",
       "      <td>1</td>\n",
       "      <td>0</td>\n",
       "      <td>0</td>\n",
       "      <td>1</td>\n",
       "      <td>1</td>\n",
       "      <td>0</td>\n",
       "      <td>0</td>\n",
       "      <td>0</td>\n",
       "    </tr>\n",
       "    <tr>\n",
       "      <th>c</th>\n",
       "      <td>1</td>\n",
       "      <td>0</td>\n",
       "      <td>0</td>\n",
       "      <td>0</td>\n",
       "      <td>0</td>\n",
       "      <td>0</td>\n",
       "      <td>0</td>\n",
       "      <td>1</td>\n",
       "      <td>0</td>\n",
       "    </tr>\n",
       "    <tr>\n",
       "      <th>d</th>\n",
       "      <td>0</td>\n",
       "      <td>0</td>\n",
       "      <td>1</td>\n",
       "      <td>0</td>\n",
       "      <td>0</td>\n",
       "      <td>0</td>\n",
       "      <td>0</td>\n",
       "      <td>1</td>\n",
       "      <td>1</td>\n",
       "    </tr>\n",
       "  </tbody>\n",
       "</table>\n",
       "</div>"
      ],
      "text/plain": [
       "   android  blue  charger  dress  lady  shirt  skirt  smartphone  tablet\n",
       "a        0     1        0      1     1      0      1           0       0\n",
       "b        0     1        0      0     1      1      0           0       0\n",
       "c        1     0        0      0     0      0      0           1       0\n",
       "d        0     0        1      0     0      0      0           1       1"
      ]
     },
     "execution_count": 9,
     "metadata": {},
     "output_type": "execute_result"
    }
   ],
   "source": [
    "a = 'blue skirt dress lady'\n",
    "b = 'blue shirt lady'\n",
    "c = 'smartphone android'\n",
    "d = 'charger smartphone tablet'\n",
    "\n",
    "text = [a, b, c, d]\n",
    "\n",
    "cv = CountVectorizer()\n",
    "count_matrix = cv.fit_transform(text)\n",
    "\n",
    "term_matrix = count_matrix.todense()\n",
    "cols = cv.get_feature_names()\n",
    "df = pd.DataFrame(term_matrix, columns=cols, index=['a', 'b', 'c', 'd'])\n",
    "df"
   ]
  },
  {
   "cell_type": "code",
   "execution_count": 10,
   "metadata": {},
   "outputs": [
    {
     "data": {
      "text/plain": [
       "array([[1.        , 0.57735027, 0.        , 0.        ],\n",
       "       [0.57735027, 1.        , 0.        , 0.        ],\n",
       "       [0.        , 0.        , 1.        , 0.40824829],\n",
       "       [0.        , 0.        , 0.40824829, 1.        ]])"
      ]
     },
     "execution_count": 10,
     "metadata": {},
     "output_type": "execute_result"
    }
   ],
   "source": [
    "cosine_sim = cosine_similarity(count_matrix)\n",
    "cosine_sim"
   ]
  },
  {
   "cell_type": "markdown",
   "metadata": {},
   "source": [
    "+++++สิ่งนี้เป็นพื้นฐานสำคัญสำหรับการแนะนำสินค้าและบริการที่คล้ายกัน"
   ]
  },
  {
   "cell_type": "markdown",
   "metadata": {},
   "source": [
    "# การใช้แนะนำสินค้าที่คล้ายกัน"
   ]
  },
  {
   "cell_type": "code",
   "execution_count": 11,
   "metadata": {},
   "outputs": [
    {
     "data": {
      "text/plain": [
       "array([1.  , 0.58, 0.  , 0.  ])"
      ]
     },
     "execution_count": 11,
     "metadata": {},
     "output_type": "execute_result"
    }
   ],
   "source": [
    "#ตรวจสอบความคล้ายคลึงทีละคู่\n",
    "ref_index = 0 # มอง A\n",
    "similar_score = cosine_sim[ref_index]\n",
    "similar_score.round(2)"
   ]
  },
  {
   "cell_type": "markdown",
   "metadata": {},
   "source": [
    "a คล้ายกับ b 0.58"
   ]
  },
  {
   "cell_type": "code",
   "execution_count": 12,
   "metadata": {},
   "outputs": [
    {
     "data": {
      "text/plain": [
       "array([0.  , 0.  , 1.  , 0.41])"
      ]
     },
     "execution_count": 12,
     "metadata": {},
     "output_type": "execute_result"
    }
   ],
   "source": [
    "ref_index = 2 #มอง C\n",
    "similar_score = cosine_sim[ref_index]\n",
    "similar_score.round(2)"
   ]
  },
  {
   "cell_type": "markdown",
   "metadata": {},
   "source": [
    "c คล้ายกับ d 0.41"
   ]
  },
  {
   "cell_type": "code",
   "execution_count": 13,
   "metadata": {},
   "outputs": [
    {
     "data": {
      "text/plain": [
       "[(0, 0.0), (1, 0.0), (2, 0.9999999999999998), (3, 0.408248290463863)]"
      ]
     },
     "execution_count": 13,
     "metadata": {},
     "output_type": "execute_result"
    }
   ],
   "source": [
    "# สมมุติว่าลูกค้ากำลังดูสินค้า c ก็ยึด c เป็นหลัก แล้วทำการเปรียบเทียบกับตัวอื่นๆ\n",
    "ref_index = 2\n",
    "similar_score = cosine_sim[ref_index]\n",
    "\n",
    "# นำค่าลำดับ และ ค่าดัชนีความคล้ายคลึงมารวมกันเป็น list เพื่อใช้สำหรับอ่านค่า (Access)\n",
    "similar_products = list(enumerate(similar_score)) # จับคู่อันดับโดยตัวแรกเป็น 0 1 2 3 กับ ค่า cosine_sim\n",
    "similar_products"
   ]
  },
  {
   "cell_type": "code",
   "execution_count": 14,
   "metadata": {},
   "outputs": [
    {
     "data": {
      "text/plain": [
       "[(3, 0.408248290463863), (0, 0.0), (1, 0.0)]"
      ]
     },
     "execution_count": 14,
     "metadata": {},
     "output_type": "execute_result"
    }
   ],
   "source": [
    "# ทำการจัดเรียงเอาค่า score สูงสุดไว้บนสุด\n",
    "sorted_recommend = sorted(similar_products,key=lambda x:x[1], reverse=True)[1:]\n",
    "sorted_recommend"
   ]
  },
  {
   "cell_type": "code",
   "execution_count": 15,
   "metadata": {},
   "outputs": [
    {
     "name": "stdout",
     "output_type": "stream",
     "text": [
      "Top recommend for d\n",
      "--------------------------\n",
      "d        0.408\n",
      "a        0.000\n",
      "b        0.000\n"
     ]
    }
   ],
   "source": [
    "# วนรอบแนะนำสินค้า\n",
    "ref_index = 3\n",
    "print('Top recommend for '+ df.index[ref_index]+\n",
    "     '\\n--------------------------')\n",
    "for i,element in enumerate(sorted_recommend):\n",
    "    title = df.index[element[0]] # รัน element ที่รับค่ามาจาก sortedทีละตัว\n",
    "    print('{:8} {:.3f}'.format(title, sorted_recommend[i][1]))"
   ]
  },
  {
   "cell_type": "markdown",
   "metadata": {},
   "source": [
    "# Workshop 3 : ระบบแนะนำภาพยนตร์"
   ]
  },
  {
   "cell_type": "markdown",
   "metadata": {},
   "source": [
    "ข้อมูล : import และ โหลดไฟล์ข้อมูลภาพยนตร์ และตรวจสอบเบื้องต้น"
   ]
  },
  {
   "cell_type": "code",
   "execution_count": 16,
   "metadata": {},
   "outputs": [],
   "source": [
    "import pandas as pd\n",
    "import numpy as np\n",
    "from sklearn.feature_extraction.text import CountVectorizer\n",
    "from sklearn.metrics.pairwise import cosine_similarity\n",
    "\n",
    "df = pd.read_csv('data/movie.csv')"
   ]
  },
  {
   "cell_type": "code",
   "execution_count": 17,
   "metadata": {},
   "outputs": [
    {
     "data": {
      "text/plain": [
       "(4803, 24)"
      ]
     },
     "execution_count": 17,
     "metadata": {},
     "output_type": "execute_result"
    }
   ],
   "source": [
    "df.shape # 4803 rows 24 columns"
   ]
  },
  {
   "cell_type": "code",
   "execution_count": 18,
   "metadata": {},
   "outputs": [
    {
     "data": {
      "text/html": [
       "<div>\n",
       "<style scoped>\n",
       "    .dataframe tbody tr th:only-of-type {\n",
       "        vertical-align: middle;\n",
       "    }\n",
       "\n",
       "    .dataframe tbody tr th {\n",
       "        vertical-align: top;\n",
       "    }\n",
       "\n",
       "    .dataframe thead th {\n",
       "        text-align: right;\n",
       "    }\n",
       "</style>\n",
       "<table border=\"1\" class=\"dataframe\">\n",
       "  <thead>\n",
       "    <tr style=\"text-align: right;\">\n",
       "      <th></th>\n",
       "      <th>index</th>\n",
       "      <th>budget</th>\n",
       "      <th>genres</th>\n",
       "      <th>homepage</th>\n",
       "      <th>id</th>\n",
       "      <th>keywords</th>\n",
       "      <th>original_language</th>\n",
       "      <th>original_title</th>\n",
       "      <th>overview</th>\n",
       "      <th>popularity</th>\n",
       "      <th>...</th>\n",
       "      <th>runtime</th>\n",
       "      <th>spoken_languages</th>\n",
       "      <th>status</th>\n",
       "      <th>tagline</th>\n",
       "      <th>title</th>\n",
       "      <th>vote_average</th>\n",
       "      <th>vote_count</th>\n",
       "      <th>cast</th>\n",
       "      <th>crew</th>\n",
       "      <th>director</th>\n",
       "    </tr>\n",
       "  </thead>\n",
       "  <tbody>\n",
       "    <tr>\n",
       "      <th>0</th>\n",
       "      <td>0</td>\n",
       "      <td>237000000</td>\n",
       "      <td>Action Adventure Fantasy Science Fiction</td>\n",
       "      <td>http://www.avatarmovie.com/</td>\n",
       "      <td>19995</td>\n",
       "      <td>culture clash future space war space colony so...</td>\n",
       "      <td>en</td>\n",
       "      <td>Avatar</td>\n",
       "      <td>In the 22nd century, a paraplegic Marine is di...</td>\n",
       "      <td>150.437577</td>\n",
       "      <td>...</td>\n",
       "      <td>162.0</td>\n",
       "      <td>[{\"iso_639_1\": \"en\", \"name\": \"English\"}, {\"iso...</td>\n",
       "      <td>Released</td>\n",
       "      <td>Enter the World of Pandora.</td>\n",
       "      <td>Avatar</td>\n",
       "      <td>7.2</td>\n",
       "      <td>11800</td>\n",
       "      <td>Sam Worthington Zoe Saldana Sigourney Weaver S...</td>\n",
       "      <td>[{'name': 'Stephen E. Rivkin', 'gender': 0, 'd...</td>\n",
       "      <td>James Cameron</td>\n",
       "    </tr>\n",
       "    <tr>\n",
       "      <th>1</th>\n",
       "      <td>1</td>\n",
       "      <td>300000000</td>\n",
       "      <td>Adventure Fantasy Action</td>\n",
       "      <td>http://disney.go.com/disneypictures/pirates/</td>\n",
       "      <td>285</td>\n",
       "      <td>ocean drug abuse exotic island east india trad...</td>\n",
       "      <td>en</td>\n",
       "      <td>Pirates of the Caribbean: At World's End</td>\n",
       "      <td>Captain Barbossa, long believed to be dead, ha...</td>\n",
       "      <td>139.082615</td>\n",
       "      <td>...</td>\n",
       "      <td>169.0</td>\n",
       "      <td>[{\"iso_639_1\": \"en\", \"name\": \"English\"}]</td>\n",
       "      <td>Released</td>\n",
       "      <td>At the end of the world, the adventure begins.</td>\n",
       "      <td>Pirates of the Caribbean: At World's End</td>\n",
       "      <td>6.9</td>\n",
       "      <td>4500</td>\n",
       "      <td>Johnny Depp Orlando Bloom Keira Knightley Stel...</td>\n",
       "      <td>[{'name': 'Dariusz Wolski', 'gender': 2, 'depa...</td>\n",
       "      <td>Gore Verbinski</td>\n",
       "    </tr>\n",
       "    <tr>\n",
       "      <th>2</th>\n",
       "      <td>2</td>\n",
       "      <td>245000000</td>\n",
       "      <td>Action Adventure Crime</td>\n",
       "      <td>http://www.sonypictures.com/movies/spectre/</td>\n",
       "      <td>206647</td>\n",
       "      <td>spy based on novel secret agent sequel mi6</td>\n",
       "      <td>en</td>\n",
       "      <td>Spectre</td>\n",
       "      <td>A cryptic message from Bond’s past sends him o...</td>\n",
       "      <td>107.376788</td>\n",
       "      <td>...</td>\n",
       "      <td>148.0</td>\n",
       "      <td>[{\"iso_639_1\": \"fr\", \"name\": \"Fran\\u00e7ais\"},...</td>\n",
       "      <td>Released</td>\n",
       "      <td>A Plan No One Escapes</td>\n",
       "      <td>Spectre</td>\n",
       "      <td>6.3</td>\n",
       "      <td>4466</td>\n",
       "      <td>Daniel Craig Christoph Waltz L\\u00e9a Seydoux ...</td>\n",
       "      <td>[{'name': 'Thomas Newman', 'gender': 2, 'depar...</td>\n",
       "      <td>Sam Mendes</td>\n",
       "    </tr>\n",
       "    <tr>\n",
       "      <th>3</th>\n",
       "      <td>3</td>\n",
       "      <td>250000000</td>\n",
       "      <td>Action Crime Drama Thriller</td>\n",
       "      <td>http://www.thedarkknightrises.com/</td>\n",
       "      <td>49026</td>\n",
       "      <td>dc comics crime fighter terrorist secret ident...</td>\n",
       "      <td>en</td>\n",
       "      <td>The Dark Knight Rises</td>\n",
       "      <td>Following the death of District Attorney Harve...</td>\n",
       "      <td>112.312950</td>\n",
       "      <td>...</td>\n",
       "      <td>165.0</td>\n",
       "      <td>[{\"iso_639_1\": \"en\", \"name\": \"English\"}]</td>\n",
       "      <td>Released</td>\n",
       "      <td>The Legend Ends</td>\n",
       "      <td>The Dark Knight Rises</td>\n",
       "      <td>7.6</td>\n",
       "      <td>9106</td>\n",
       "      <td>Christian Bale Michael Caine Gary Oldman Anne ...</td>\n",
       "      <td>[{'name': 'Hans Zimmer', 'gender': 2, 'departm...</td>\n",
       "      <td>Christopher Nolan</td>\n",
       "    </tr>\n",
       "    <tr>\n",
       "      <th>4</th>\n",
       "      <td>4</td>\n",
       "      <td>260000000</td>\n",
       "      <td>Action Adventure Science Fiction</td>\n",
       "      <td>http://movies.disney.com/john-carter</td>\n",
       "      <td>49529</td>\n",
       "      <td>based on novel mars medallion space travel pri...</td>\n",
       "      <td>en</td>\n",
       "      <td>John Carter</td>\n",
       "      <td>John Carter is a war-weary, former military ca...</td>\n",
       "      <td>43.926995</td>\n",
       "      <td>...</td>\n",
       "      <td>132.0</td>\n",
       "      <td>[{\"iso_639_1\": \"en\", \"name\": \"English\"}]</td>\n",
       "      <td>Released</td>\n",
       "      <td>Lost in our world, found in another.</td>\n",
       "      <td>John Carter</td>\n",
       "      <td>6.1</td>\n",
       "      <td>2124</td>\n",
       "      <td>Taylor Kitsch Lynn Collins Samantha Morton Wil...</td>\n",
       "      <td>[{'name': 'Andrew Stanton', 'gender': 2, 'depa...</td>\n",
       "      <td>Andrew Stanton</td>\n",
       "    </tr>\n",
       "  </tbody>\n",
       "</table>\n",
       "<p>5 rows × 24 columns</p>\n",
       "</div>"
      ],
      "text/plain": [
       "   index     budget                                    genres  \\\n",
       "0      0  237000000  Action Adventure Fantasy Science Fiction   \n",
       "1      1  300000000                  Adventure Fantasy Action   \n",
       "2      2  245000000                    Action Adventure Crime   \n",
       "3      3  250000000               Action Crime Drama Thriller   \n",
       "4      4  260000000          Action Adventure Science Fiction   \n",
       "\n",
       "                                       homepage      id  \\\n",
       "0                   http://www.avatarmovie.com/   19995   \n",
       "1  http://disney.go.com/disneypictures/pirates/     285   \n",
       "2   http://www.sonypictures.com/movies/spectre/  206647   \n",
       "3            http://www.thedarkknightrises.com/   49026   \n",
       "4          http://movies.disney.com/john-carter   49529   \n",
       "\n",
       "                                            keywords original_language  \\\n",
       "0  culture clash future space war space colony so...                en   \n",
       "1  ocean drug abuse exotic island east india trad...                en   \n",
       "2         spy based on novel secret agent sequel mi6                en   \n",
       "3  dc comics crime fighter terrorist secret ident...                en   \n",
       "4  based on novel mars medallion space travel pri...                en   \n",
       "\n",
       "                             original_title  \\\n",
       "0                                    Avatar   \n",
       "1  Pirates of the Caribbean: At World's End   \n",
       "2                                   Spectre   \n",
       "3                     The Dark Knight Rises   \n",
       "4                               John Carter   \n",
       "\n",
       "                                            overview  popularity  ... runtime  \\\n",
       "0  In the 22nd century, a paraplegic Marine is di...  150.437577  ...   162.0   \n",
       "1  Captain Barbossa, long believed to be dead, ha...  139.082615  ...   169.0   \n",
       "2  A cryptic message from Bond’s past sends him o...  107.376788  ...   148.0   \n",
       "3  Following the death of District Attorney Harve...  112.312950  ...   165.0   \n",
       "4  John Carter is a war-weary, former military ca...   43.926995  ...   132.0   \n",
       "\n",
       "                                    spoken_languages    status  \\\n",
       "0  [{\"iso_639_1\": \"en\", \"name\": \"English\"}, {\"iso...  Released   \n",
       "1           [{\"iso_639_1\": \"en\", \"name\": \"English\"}]  Released   \n",
       "2  [{\"iso_639_1\": \"fr\", \"name\": \"Fran\\u00e7ais\"},...  Released   \n",
       "3           [{\"iso_639_1\": \"en\", \"name\": \"English\"}]  Released   \n",
       "4           [{\"iso_639_1\": \"en\", \"name\": \"English\"}]  Released   \n",
       "\n",
       "                                          tagline  \\\n",
       "0                     Enter the World of Pandora.   \n",
       "1  At the end of the world, the adventure begins.   \n",
       "2                           A Plan No One Escapes   \n",
       "3                                 The Legend Ends   \n",
       "4            Lost in our world, found in another.   \n",
       "\n",
       "                                      title vote_average vote_count  \\\n",
       "0                                    Avatar          7.2      11800   \n",
       "1  Pirates of the Caribbean: At World's End          6.9       4500   \n",
       "2                                   Spectre          6.3       4466   \n",
       "3                     The Dark Knight Rises          7.6       9106   \n",
       "4                               John Carter          6.1       2124   \n",
       "\n",
       "                                                cast  \\\n",
       "0  Sam Worthington Zoe Saldana Sigourney Weaver S...   \n",
       "1  Johnny Depp Orlando Bloom Keira Knightley Stel...   \n",
       "2  Daniel Craig Christoph Waltz L\\u00e9a Seydoux ...   \n",
       "3  Christian Bale Michael Caine Gary Oldman Anne ...   \n",
       "4  Taylor Kitsch Lynn Collins Samantha Morton Wil...   \n",
       "\n",
       "                                                crew           director  \n",
       "0  [{'name': 'Stephen E. Rivkin', 'gender': 0, 'd...      James Cameron  \n",
       "1  [{'name': 'Dariusz Wolski', 'gender': 2, 'depa...     Gore Verbinski  \n",
       "2  [{'name': 'Thomas Newman', 'gender': 2, 'depar...         Sam Mendes  \n",
       "3  [{'name': 'Hans Zimmer', 'gender': 2, 'departm...  Christopher Nolan  \n",
       "4  [{'name': 'Andrew Stanton', 'gender': 2, 'depa...     Andrew Stanton  \n",
       "\n",
       "[5 rows x 24 columns]"
      ]
     },
     "execution_count": 18,
     "metadata": {},
     "output_type": "execute_result"
    }
   ],
   "source": [
    "df.head()"
   ]
  },
  {
   "cell_type": "code",
   "execution_count": 19,
   "metadata": {},
   "outputs": [
    {
     "data": {
      "text/plain": [
       "index                      0\n",
       "budget                     0\n",
       "genres                    28\n",
       "homepage                3091\n",
       "id                         0\n",
       "keywords                 412\n",
       "original_language          0\n",
       "original_title             0\n",
       "overview                   3\n",
       "popularity                 0\n",
       "production_companies       0\n",
       "production_countries       0\n",
       "release_date               1\n",
       "revenue                    0\n",
       "runtime                    2\n",
       "spoken_languages           0\n",
       "status                     0\n",
       "tagline                  844\n",
       "title                      0\n",
       "vote_average               0\n",
       "vote_count                 0\n",
       "cast                      43\n",
       "crew                       0\n",
       "director                  30\n",
       "dtype: int64"
      ]
     },
     "execution_count": 19,
     "metadata": {},
     "output_type": "execute_result"
    }
   ],
   "source": [
    "df.isnull().sum() # หา missing data"
   ]
  },
  {
   "cell_type": "markdown",
   "metadata": {},
   "source": [
    "คอลัมน์ข้อมูล"
   ]
  },
  {
   "cell_type": "raw",
   "metadata": {},
   "source": [
    "-> Index คือหมายเลข index อ้างอิงของแต่ละแถว\n",
    "-> Genres คือหมวดหมู่ภาพยนตร์ เช่น Action Adventure Drama Science\n",
    "-> Keywords คือคำสำคัญของภาพยนตร์\n",
    "-> Overview คือโครงร่างคร่าวๆ\n",
    "-> Title คือชื่อภาพยนตร์"
   ]
  },
  {
   "cell_type": "code",
   "execution_count": 20,
   "metadata": {},
   "outputs": [
    {
     "data": {
      "text/plain": [
       "35     Transformers: Revenge of the Fallen\n",
       "36         Transformers: Age of Extinction\n",
       "52          Transformers: Dark of the Moon\n",
       "111                           Transformers\n",
       "Name: title, dtype: object"
      ]
     },
     "execution_count": 20,
     "metadata": {},
     "output_type": "execute_result"
    }
   ],
   "source": [
    "# หาลำดับ index ของภาพยนตร์ที่ต้องการ โดยค้นชื่อภาพยนตร์\n",
    "df[df.title.str.contains('transformer',case= False)].title\n",
    "# case = False ไม่สนใจตัวใหญ่ตัวเล็ก"
   ]
  },
  {
   "cell_type": "code",
   "execution_count": 21,
   "metadata": {},
   "outputs": [
    {
     "data": {
      "text/plain": [
       "'Young teenager, Sam Witwicky becomes involved in the ancient struggle between two extraterrestrial factions of transforming robots – the heroic Autobots and the evil Decepticons. Sam holds the clue to unimaginable power and the Decepticons will stop at nothing to retrieve it.'"
      ]
     },
     "execution_count": 21,
     "metadata": {},
     "output_type": "execute_result"
    }
   ],
   "source": [
    "# ตรวจจาก index . overview\n",
    "df.iloc[111].overview"
   ]
  },
  {
   "cell_type": "code",
   "execution_count": 22,
   "metadata": {},
   "outputs": [
    {
     "data": {
      "text/plain": [
       "'destroy transformation alien based on toy transformers'"
      ]
     },
     "execution_count": 22,
     "metadata": {},
     "output_type": "execute_result"
    }
   ],
   "source": [
    "# ตรวจดูจาก index . keyword\n",
    "df.iloc[111].keywords"
   ]
  },
  {
   "cell_type": "code",
   "execution_count": 23,
   "metadata": {},
   "outputs": [
    {
     "name": "stdout",
     "output_type": "stream",
     "text": [
      "\n",
      "\t Title:  Transformers: Revenge of the Fallen\n",
      "overview:  Sam Witwicky leaves the Autobots behind for a normal life. But when his mind is filled with cryptic symbols, the Decepticons target him and he is dragged back into the Transformers' war.\n",
      "\n",
      "kwd: egypt sun chaos symbol artifact\n",
      "----------------------\n",
      "\n",
      "\t Title:  Transformers: Age of Extinction\n",
      "overview:  As humanity picks up the pieces, following the conclusion of \"Transformers: Dark of the Moon,\" Autobots and Decepticons have all but vanished from the face of the planet. However, a group of powerful, ingenious businessman and scientists attempt to learn from past Transformer incursions and push the boundaries of technology beyond what they can control - all while an ancient, powerful Transformer menace sets Earth in his cross-hairs.\n",
      "\n",
      "kwd: sequel alien transformers giant robot robot\n",
      "----------------------\n",
      "\n",
      "\t Title:  Transformers: Dark of the Moon\n",
      "overview:  Sam Witwicky takes his first tenuous steps into adulthood while remaining a reluctant human ally of Autobot-leader Optimus Prime. The film centers around the space race between the USSR and the USA, suggesting there was a hidden Transformers role in it all that remains one of the planet's most dangerous secrets.\n",
      "\n",
      "kwd: moon spacecraft traitor bodyguard alien planet\n",
      "----------------------\n"
     ]
    }
   ],
   "source": [
    "# ดูตัวอย่างหลายๆตัวโดยละเอียด\n",
    "ids = [35, 36, 52]\n",
    "for k in ids:\n",
    "    print('\\n\\t Title: ', df.iloc[k].title)\n",
    "    print('overview: ', df.iloc[k].overview) # column overview\n",
    "    print()\n",
    "    print('kwd:',df.iloc[k].keywords) # column keywords\n",
    "    print('----------------------')"
   ]
  },
  {
   "cell_type": "code",
   "execution_count": 24,
   "metadata": {},
   "outputs": [
    {
     "name": "stdout",
     "output_type": "stream",
     "text": [
      "index :  111\n",
      "---------------------\n",
      "budget :  150000000\n",
      "---------------------\n",
      "genres :  Adventure Science Fiction Action\n",
      "---------------------\n",
      "homepage :  http://www.transformersmovie.com/\n",
      "---------------------\n",
      "id :  1858\n",
      "---------------------\n",
      "keywords :  destroy transformation alien based on toy transformers\n",
      "---------------------\n",
      "original_language :  en\n",
      "---------------------\n",
      "original_title :  Transformers\n",
      "---------------------\n",
      "overview :  Young teenager, Sam Witwicky becomes involved in the ancient struggle between two extraterrestrial factions of transforming robots – the heroic Autobots and the evil Decepticons. Sam holds the clue to unimaginable power and the Decepticons will stop at nothing to retrieve it.\n",
      "---------------------\n",
      "popularity :  25.468493\n",
      "---------------------\n",
      "production_companies :  [{\"name\": \"Paramount Pictures\", \"id\": 4}, {\"name\": \"DreamWorks SKG\", \"id\": 27}, {\"name\": \"Amblin Entertainment\", \"id\": 56}, {\"name\": \"Di Bonaventura Pictures\", \"id\": 435}, {\"name\": \"Platinum Dunes\", \"id\": 2481}, {\"name\": \"thinkfilm\", \"id\": 12247}, {\"name\": \"SprocketHeads\", \"id\": 20011}, {\"name\": \"Hasbro Studios\", \"id\": 22826}, {\"name\": \"Revolution Sun Studios\", \"id\": 76043}]\n",
      "---------------------\n",
      "production_countries :  [{\"iso_3166_1\": \"US\", \"name\": \"United States of America\"}]\n",
      "---------------------\n",
      "release_date :  2007-06-27\n",
      "---------------------\n",
      "revenue :  709709780\n",
      "---------------------\n",
      "runtime :  144.0\n",
      "---------------------\n",
      "spoken_languages :  [{\"iso_639_1\": \"es\", \"name\": \"Espa\\u00f1ol\"}, {\"iso_639_1\": \"en\", \"name\": \"English\"}]\n",
      "---------------------\n",
      "status :  Released\n",
      "---------------------\n",
      "tagline :  Their war. Our world.\n",
      "---------------------\n",
      "title :  Transformers\n",
      "---------------------\n",
      "vote_average :  6.6\n",
      "---------------------\n",
      "vote_count :  4040\n",
      "---------------------\n",
      "cast :  Shia LaBeouf Josh Duhamel Megan Fox Rachael Taylor Tyrese Gibson\n",
      "---------------------\n",
      "crew :  [{'name': 'Steven Spielberg', 'gender': 2, 'department': 'Production', 'job': 'Executive Producer', 'credit_id': '52fe431bc3a36847f803aba9', 'id': 488}, {'name': 'Paul Rubell', 'gender': 2, 'department': 'Editing', 'job': 'Editor', 'credit_id': '52fe431bc3a36847f803ac31', 'id': 10816}, {'name': 'Michael Bay', 'gender': 2, 'department': 'Directing', 'job': 'Director', 'credit_id': '52fe431bc3a36847f803aba3', 'id': 865}, {'name': 'Michael Bay', 'gender': 2, 'department': 'Production', 'job': 'Executive Producer', 'credit_id': '551b9049c3a36819ed0008bd', 'id': 865}, {'name': 'Glen Scantlebury', 'gender': 2, 'department': 'Editing', 'job': 'Editor', 'credit_id': '52fe431bc3a36847f803ac37', 'id': 899}, {'name': 'Janet Hirshenson', 'gender': 1, 'department': 'Production', 'job': 'Casting', 'credit_id': '537f05130e0a2624b70044a1', 'id': 2874}, {'name': 'Don Murphy', 'gender': 2, 'department': 'Production', 'job': 'Producer', 'credit_id': '52fe431bc3a36847f803abb5', 'id': 3183}, {'name': 'Jane Jenkins', 'gender': 1, 'department': 'Production', 'job': 'Casting', 'credit_id': '542e7e69c3a36859de001fef', 'id': 3275}, {'name': 'Jeff Mann', 'gender': 2, 'department': 'Art', 'job': 'Production Design', 'credit_id': '52fe431bc3a36847f803ac2b', 'id': 7233}, {'name': 'Beat Frutiger', 'gender': 0, 'department': 'Art', 'job': 'Art Direction', 'credit_id': '537f05770e0a2624b70044ae', 'id': 7235}, {'name': 'John Frazier', 'gender': 2, 'department': 'Crew', 'job': 'Special Effects', 'credit_id': '52fe431bc3a36847f803ac49', 'id': 10631}, {'name': 'Michelle Lewitt', 'gender': 0, 'department': 'Production', 'job': 'Casting', 'credit_id': '537f05410e0a2624b70044ab', 'id': 6876}, {'name': 'Ian Bryce', 'gender': 2, 'department': 'Production', 'job': 'Producer', 'credit_id': '52fe431bc3a36847f803ac13', 'id': 9987}, {'name': 'Lorenzo di Bonaventura', 'gender': 2, 'department': 'Production', 'job': 'Producer', 'credit_id': '52fe431bc3a36847f803abbb', 'id': 10952}, {'name': 'Deborah Lynn Scott', 'gender': 1, 'department': 'Costume & Make-Up', 'job': 'Costume Design', 'credit_id': '52fe431bc3a36847f803ac53', 'id': 8527}, {'name': 'Sean Haworth', 'gender': 0, 'department': 'Art', 'job': 'Art Direction', 'credit_id': '537f05930e0a2624cb00411f', 'id': 9618}, {'name': 'Kenny Bates', 'gender': 0, 'department': 'Production', 'job': 'Co-Producer', 'credit_id': '5765b0f892514107e0000408', 'id': 10118}, {'name': 'Rosemary Brandenburg', 'gender': 1, 'department': 'Art', 'job': 'Set Decoration', 'credit_id': '537f05d20e0a2624c30041f6', 'id': 13588}, {'name': 'Kevin Kavanaugh', 'gender': 0, 'department': 'Art', 'job': 'Art Direction', 'credit_id': '537f05a80e0a2624b70044b5', 'id': 15328}, {'name': 'Alex Kurtzman', 'gender': 2, 'department': 'Writing', 'job': 'Screenplay', 'credit_id': '52fe431bc3a36847f803abc7', 'id': 15345}, {'name': 'Alex Kurtzman', 'gender': 2, 'department': 'Writing', 'job': 'Story', 'credit_id': '56a00d4692514137d600341f', 'id': 15345}, {'name': 'Roberto Orci', 'gender': 2, 'department': 'Writing', 'job': 'Screenplay', 'credit_id': '52fe431bc3a36847f803abc1', 'id': 15346}, {'name': 'Roberto Orci', 'gender': 2, 'department': 'Writing', 'job': 'Story', 'credit_id': '56a00d4c92514149bc00350b', 'id': 15346}, {'name': 'Steve Jablonsky', 'gender': 2, 'department': 'Sound', 'job': 'Music', 'credit_id': '52fe431bc3a36847f803ac43', 'id': 18264}, {'name': 'Tom DeSanto', 'gender': 0, 'department': 'Production', 'job': 'Producer', 'credit_id': '52fe431bc3a36847f803abaf', 'id': 10994}, {'name': 'John Rogers', 'gender': 2, 'department': 'Writing', 'job': 'Story', 'credit_id': '56a00d34c3a36858ce00b11f', 'id': 19535}, {'name': 'Brian Goldner', 'gender': 2, 'department': 'Production', 'job': 'Executive Producer', 'credit_id': '52fe431bc3a36847f803ac19', 'id': 24308}, {'name': 'Mark Vahradian', 'gender': 0, 'department': 'Production', 'job': 'Executive Producer', 'credit_id': '52fe431bc3a36847f803ac1f', 'id': 24309}, {'name': 'Mitchell Amundsen', 'gender': 2, 'department': 'Camera', 'job': 'Director of Photography', 'credit_id': '52fe431bc3a36847f803ac25', 'id': 24310}, {'name': 'Tom Muldoon', 'gender': 2, 'department': 'Editing', 'job': 'Editor', 'credit_id': '52fe431bc3a36847f803ac3d', 'id': 24311}, {'name': 'Larry Dias', 'gender': 2, 'department': 'Art', 'job': 'Set Decoration', 'credit_id': '537f05e50e0a2624cb00412c', 'id': 21984}, {'name': 'Fran\\\\u00e7ois Audouy', 'gender': 0, 'department': 'Art', 'job': 'Art Direction', 'credit_id': '537f055f0e0a2624b40043ff', 'id': 39923}, {'name': 'Geoff Hubbard', 'gender': 0, 'department': 'Art', 'job': 'Supervising Art Director', 'credit_id': '570a86e7c3a3681d3a007dfc', 'id': 46082}, {'name': 'Allegra Clegg', 'gender': 1, 'department': 'Production', 'job': 'Co-Producer', 'credit_id': '5765b11d92514107e0000412', 'id': 60945}, {'name': 'Matthew Cohan', 'gender': 0, 'department': 'Production', 'job': 'Associate Producer', 'credit_id': '5765b139c3a3680c0100053f', 'id': 62722}, {'name': 'Anthony J. Scarano', 'gender': 0, 'department': 'Costume & Make-Up', 'job': 'Costume Supervisor', 'credit_id': '537f06460e0a2624ba003f26', 'id': 1319749}, {'name': 'Edouard F. Henriques', 'gender': 0, 'department': 'Costume & Make-Up', 'job': 'Makeup Department Head', 'credit_id': '537f06060e0a2624ba003f19', 'id': 1323090}, {'name': 'Mitchell Ray Kenney', 'gender': 0, 'department': 'Costume & Make-Up', 'job': 'Costume Supervisor', 'credit_id': '537f062b0e0a2624cb004137', 'id': 1323092}, {'name': 'Jimmy Almeida', 'gender': 0, 'department': 'Visual Effects', 'job': 'Animation', 'credit_id': '552994f69251414b79002009', 'id': 1453014}, {'name': 'Larry White', 'gender': 0, 'department': 'Visual Effects', 'job': 'Animation', 'credit_id': '55315027c3a368222d00051f', 'id': 1455541}, {'name': 'Luca Marco Paracels', 'gender': 2, 'department': 'Production', 'job': 'Associate Producer', 'credit_id': '5765b148c3a3680c890004c0', 'id': 1477203}]\n",
      "---------------------\n",
      "director :  Michael Bay\n",
      "---------------------\n"
     ]
    }
   ],
   "source": [
    "# ต้องการดูข้อมูลทั้งหมดทุกคอลัมน์\n",
    "for k in df.columns:\n",
    "    print(k, ': ',df[k].iloc[111]) # ลำดับ index ภาพยนตร์ที่ต้องการดูข้อมูล\n",
    "    print('---------------------')"
   ]
  },
  {
   "cell_type": "raw",
   "metadata": {},
   "source": [
    "# จากการตรวจสอบ คอลัมน์ที่จะใช้กับระบบมีดังนี้\n",
    "-> keywords เก็บคำสำคัญ\n",
    "-> cast นักแสดงนำ\n",
    "-> genres หมวดหมู่ภาพยนตร์\n",
    "-> director ผู้กำกับ"
   ]
  },
  {
   "cell_type": "code",
   "execution_count": 25,
   "metadata": {},
   "outputs": [
    {
     "data": {
      "text/plain": [
       "keywords    412\n",
       "cast         43\n",
       "genres       28\n",
       "director     30\n",
       "dtype: int64"
      ]
     },
     "execution_count": 25,
     "metadata": {},
     "output_type": "execute_result"
    }
   ],
   "source": [
    "# เก็บชื่อคอลัมน์ไว้ใน features\n",
    "features = ['keywords', 'cast', 'genres', 'director']\n",
    "df[features].isnull().sum()"
   ]
  },
  {
   "cell_type": "code",
   "execution_count": 26,
   "metadata": {},
   "outputs": [],
   "source": [
    "#เนื่องจากมี missing data มากไป ให้เติมNan ด้วย Blank string\n",
    "for feature in features:\n",
    "    df[feature] = df[feature].fillna(\"\")"
   ]
  },
  {
   "cell_type": "code",
   "execution_count": 27,
   "metadata": {},
   "outputs": [],
   "source": [
    "# รวม features\n",
    "df['combined_features'] = df.genres + '' + df.keywords+''+df.cast+''+df.director"
   ]
  },
  {
   "cell_type": "code",
   "execution_count": 28,
   "metadata": {},
   "outputs": [
    {
     "data": {
      "text/plain": [
       "0    Action Adventure Fantasy Science Fictioncultur...\n",
       "1    Adventure Fantasy Actionocean drug abuse exoti...\n",
       "2    Action Adventure Crimespy based on novel secre...\n",
       "3    Action Crime Drama Thrillerdc comics crime fig...\n",
       "4    Action Adventure Science Fictionbased on novel...\n",
       "Name: combined_features, dtype: object"
      ]
     },
     "execution_count": 28,
     "metadata": {},
     "output_type": "execute_result"
    }
   ],
   "source": [
    "# ตรวจสอบว่าเปลี่ยนแล้ว\n",
    "df.combined_features.head()\n",
    "# df.iloc[0].combined_features\n",
    "# df.combined_features.iloc[0]"
   ]
  },
  {
   "cell_type": "markdown",
   "metadata": {},
   "source": [
    "ประมวลผล"
   ]
  },
  {
   "cell_type": "code",
   "execution_count": 29,
   "metadata": {},
   "outputs": [],
   "source": [
    "from sklearn.feature_extraction.text import CountVectorizer\n",
    "from sklearn.metrics.pairwise import cosine_similarity\n",
    "\n",
    "cv = CountVectorizer() \n",
    "count_matrix = cv.fit_transform(df.combined_features)"
   ]
  },
  {
   "cell_type": "code",
   "execution_count": 30,
   "metadata": {},
   "outputs": [
    {
     "data": {
      "text/plain": [
       "(4803, 24518)"
      ]
     },
     "execution_count": 30,
     "metadata": {},
     "output_type": "execute_result"
    }
   ],
   "source": [
    "# ตรวจสอบขนาด\n",
    "count_matrix.shape"
   ]
  },
  {
   "cell_type": "code",
   "execution_count": 31,
   "metadata": {},
   "outputs": [
    {
     "name": "stdout",
     "output_type": "stream",
     "text": [
      "['11', '15th', '17th', '18th', '1910schristopher', '1910sfernanda', '1917warren', '1920sjudy', '1930szac', '1950slogan']\n",
      "['zukovic', 'zuleikha', 'zuniga', 'zurer', 'zurertimur', 'zvyagintsev', 'zwart', 'zwick', 'zwigoff', 'zylka']\n"
     ]
    }
   ],
   "source": [
    "#ตรวจดูตารางคำ 10 คำแรก และ 10 คำสุดท้าย\n",
    "print(cv.get_feature_names()[0:10])\n",
    "print(cv.get_feature_names()[-10:])"
   ]
  },
  {
   "cell_type": "code",
   "execution_count": 33,
   "metadata": {},
   "outputs": [
    {
     "name": "stdout",
     "output_type": "stream",
     "text": [
      "[[0 0 0 0 0 0 0 0 0 0 0 0 0 0 0 0 0 0 0 0]\n",
      " [0 0 0 0 0 0 0 0 0 0 0 0 0 0 0 0 0 0 0 0]\n",
      " [0 0 0 0 0 0 0 0 0 0 0 0 0 0 0 0 0 0 0 0]\n",
      " [0 0 0 0 0 0 0 0 0 0 0 0 0 0 0 0 0 0 0 0]\n",
      " [0 0 0 0 0 0 0 0 0 0 0 0 0 0 0 0 0 0 0 0]\n",
      " [0 0 0 0 0 0 0 0 0 0 0 0 0 0 0 0 0 0 0 0]\n",
      " [0 0 0 0 0 0 0 0 0 0 0 0 0 0 0 0 0 0 0 0]\n",
      " [0 0 0 0 0 0 0 0 0 0 0 0 0 0 0 0 0 0 0 0]\n",
      " [0 0 0 0 0 0 0 0 0 0 0 0 0 0 0 0 0 0 0 0]\n",
      " [0 0 0 0 0 0 0 0 0 0 0 0 0 0 0 0 0 0 0 0]]\n"
     ]
    }
   ],
   "source": [
    "# แสดงตารางความถี่คำ\n",
    "print(count_matrix.toarray()[:10, 10:30])"
   ]
  },
  {
   "cell_type": "code",
   "execution_count": 34,
   "metadata": {},
   "outputs": [
    {
     "data": {
      "text/plain": [
       "(4803, 4803)"
      ]
     },
     "execution_count": 34,
     "metadata": {},
     "output_type": "execute_result"
    }
   ],
   "source": [
    "cosine_sim = cosine_similarity(count_matrix)\n",
    "cosine_sim.shape"
   ]
  },
  {
   "cell_type": "code",
   "execution_count": 35,
   "metadata": {},
   "outputs": [
    {
     "name": "stdout",
     "output_type": "stream",
     "text": [
      "[[1.    0.079 0.091 0.043 0.218 0.087 0.    0.118]\n",
      " [0.079 1.    0.043 0.    0.041 0.164 0.    0.037]\n",
      " [0.091 0.043 1.    0.093 0.191 0.048 0.    0.215]\n",
      " [0.043 0.    0.093 1.    0.044 0.089 0.    0.04 ]\n",
      " [0.218 0.041 0.191 0.044 1.    0.136 0.    0.164]\n",
      " [0.087 0.164 0.048 0.089 0.136 1.    0.    0.041]\n",
      " [0.    0.    0.    0.    0.    0.    1.    0.   ]\n",
      " [0.118 0.037 0.215 0.04  0.164 0.041 0.    1.   ]]\n"
     ]
    }
   ],
   "source": [
    "# ลองแสดงข้อมูล 8 x 8\n",
    "print(cosine_sim[:8, :8].round(3))"
   ]
  },
  {
   "cell_type": "markdown",
   "metadata": {},
   "source": [
    "แนะนำภาพยนตร์ที่ใกล้เคียง"
   ]
  },
  {
   "cell_type": "raw",
   "metadata": {},
   "source": [
    "Algorithm"
   ]
  },
  {
   "cell_type": "code",
   "execution_count": 37,
   "metadata": {},
   "outputs": [
    {
     "name": "stdout",
     "output_type": "stream",
     "text": [
      "user choice ref_index = 0\n"
     ]
    }
   ],
   "source": [
    "user_choice = 'Avatar'\n",
    "ref_index = df[df.title.str.contains(use_choice, case=False)].index[0]\n",
    "print('user choice ref_index = {}'.format(ref_index))"
   ]
  },
  {
   "cell_type": "code",
   "execution_count": 38,
   "metadata": {},
   "outputs": [
    {
     "data": {
      "text/plain": [
       "[(0, 0.9999999999999999),\n",
       " (1, 0.07856742013183862),\n",
       " (2, 0.09128709291752769),\n",
       " (3, 0.042562826537937436),\n",
       " (4, 0.21759706994462233),\n",
       " (5, 0.08703882797784893),\n",
       " (6, 0.0),\n",
       " (7, 0.11785113019775793)]"
      ]
     },
     "execution_count": 38,
     "metadata": {},
     "output_type": "execute_result"
    }
   ],
   "source": [
    "# แนะนำภาพยนตร์ที่คล้ายกัน\n",
    "similar_movies = list(enumerate(cosine_sim[ref_index]))\n",
    "similar_movies[:8]"
   ]
  },
  {
   "cell_type": "code",
   "execution_count": 39,
   "metadata": {},
   "outputs": [
    {
     "data": {
      "text/plain": [
       "[(94, 0.3481553119113957),\n",
       " (3158, 0.3333333333333334),\n",
       " (56, 0.2886751345948129),\n",
       " (1531, 0.28022426915890253),\n",
       " (2403, 0.2672612419124244),\n",
       " (3208, 0.2611164839335468)]"
      ]
     },
     "execution_count": 39,
     "metadata": {},
     "output_type": "execute_result"
    }
   ],
   "source": [
    "# เรียงลำดับให้คะแนน 6 อันดับแรก\n",
    "sorted_similar_movies = sorted(similar_movies, key=lambda x:x[1], reverse=True)[1:]\n",
    "sorted_similar_movies[:6]"
   ]
  },
  {
   "cell_type": "code",
   "execution_count": 40,
   "metadata": {},
   "outputs": [
    {
     "data": {
      "text/plain": [
       "'Guardians of the Galaxy'"
      ]
     },
     "execution_count": 40,
     "metadata": {},
     "output_type": "execute_result"
    }
   ],
   "source": [
    "#ต้องการทราบที่ index 94 คืออะไร\n",
    "df.title[94]"
   ]
  },
  {
   "cell_type": "code",
   "execution_count": 42,
   "metadata": {},
   "outputs": [
    {
     "name": "stdout",
     "output_type": "stream",
     "text": [
      "Recommend movies for [Avatar]\n",
      "---------------------------------------\n",
      "Guardians of the Galaxy        ->0.348\n",
      "Alien                          ->0.333\n",
      "Star Trek Beyond               ->0.289\n",
      "Moonraker                      ->0.280\n",
      "Aliens                         ->0.267\n",
      "Star Wars: Clone Wars: Volume 1 ->0.261\n"
     ]
    }
   ],
   "source": [
    "# ให้แสดงชื่อเรื่อง 6(i+2) อันดับแรก\n",
    "print('Recommend movies for ['+ user_choice +']')\n",
    "print('---------------------------------------')\n",
    "for i,element in enumerate(sorted_similar_movies):\n",
    "    similar_movie_id = element[0]\n",
    "    similar_movie_title = df.title.iloc[similar_movie_id] # Title\n",
    "    s_score = element[1]\n",
    "    print('{:30} ->{:.3f}'.format(similar_movie_title, s_score))\n",
    "    if i > 4:\n",
    "        break"
   ]
  },
  {
   "cell_type": "markdown",
   "metadata": {},
   "source": [
    "# สรุป Code"
   ]
  },
  {
   "cell_type": "markdown",
   "metadata": {},
   "source": [
    "1. import library ที่ต้องใช้"
   ]
  },
  {
   "cell_type": "code",
   "execution_count": 1,
   "metadata": {},
   "outputs": [],
   "source": [
    "import pandas as pd\n",
    "import numpy as np\n",
    "from sklearn.feature_extraction.text import CountVectorizer\n",
    "from sklearn.metrics.pairwise import cosine_similarity"
   ]
  },
  {
   "cell_type": "markdown",
   "metadata": {},
   "source": [
    "2. การอ่านข้อมูลและการจัดการข้อมูล"
   ]
  },
  {
   "cell_type": "code",
   "execution_count": 4,
   "metadata": {},
   "outputs": [],
   "source": [
    "# อ่านข้อมูล movie\n",
    "df = pd.read_csv('data/movie.csv') \n",
    "# คอลัมน์ที่ใช้เป็น features\n",
    "features = ['keywords', 'cast', 'genres', 'director'] \n",
    "# จัดการ missing data(NaN) ด้วย Blank string\n",
    "for feature in features:\n",
    "    df[feature] = df[feature].fillna('')\n",
    "# รวมเข้าด้วยกัน\n",
    "df['combined_features'] = df.genres + '' + df.keywords + '' + df.cast + '' + df.director\n",
    "#เตรียมเปลี่ยนข้อมูลเป็น matrix\n",
    "cv = CountVectorizer() # object\n",
    "count_matrix = cv.fit_transform(df.combined_features) # feed\n",
    "cosine_sim = cosine_similarity(count_matrix) # พล็อตกราฟและหามุมระหว่าง matrix"
   ]
  },
  {
   "cell_type": "markdown",
   "metadata": {},
   "source": [
    "3. Test ผ่าน user_choice"
   ]
  },
  {
   "cell_type": "code",
   "execution_count": 5,
   "metadata": {},
   "outputs": [],
   "source": [
    "user_choice = 'Avatar' # ผู้ชมกำลังดูเรื่อง Avatar อยู่"
   ]
  },
  {
   "cell_type": "markdown",
   "metadata": {},
   "source": [
    "4. เตรียมการฟังก์ชันจัดเรียงภาพยนตร์ที่คล้ายกัน"
   ]
  },
  {
   "cell_type": "code",
   "execution_count": 7,
   "metadata": {},
   "outputs": [],
   "source": [
    "ref_index = df[df.title.str.contains(user_choice, case=False)].index[0]\n",
    "similar_movies = list(enumerate(cosine_sim[ref_index])) # movie index + ค่าความคล้าย\n",
    "sorted_similar_movies = sorted(similar_movies, key=lambda x:x[1],reverse=True)[1:]"
   ]
  },
  {
   "cell_type": "markdown",
   "metadata": {},
   "source": [
    "5. อ่านค่าแนะนำหนัง n เรื่อง"
   ]
  },
  {
   "cell_type": "code",
   "execution_count": 11,
   "metadata": {},
   "outputs": [
    {
     "name": "stdout",
     "output_type": "stream",
     "text": [
      "Recommend movies for [Avatar]\n",
      "---------------------------------------\n",
      "Guardians of the Galaxy        ->0.348\n",
      "Alien                          ->0.333\n",
      "Star Trek Beyond               ->0.289\n",
      "Moonraker                      ->0.280\n",
      "Aliens                         ->0.267\n",
      "Star Wars: Clone Wars: Volume 1 ->0.261\n",
      "Space Dogs                     ->0.250\n",
      "Planet of the Apes             ->0.245\n",
      "---------------------------------------\n"
     ]
    }
   ],
   "source": [
    "n = 8 #อยากแนะนำ 8 เรื่อง\n",
    "n = n-2\n",
    "print('Recommend movies for ['+ user_choice +']')\n",
    "print('---------------------------------------')\n",
    "for i,element in enumerate(sorted_similar_movies): # วนรอบแนะนำ n เรื่อง\n",
    "    similar_movie_id = element[0] # index ของmovies\n",
    "    similar_movie_title = df.title.iloc[similar_movie_id] # Title\n",
    "    s_score = element[1] # ค่าดัชนีความคล้าย\n",
    "    print('{:30} ->{:.3f}'.format(similar_movie_title, s_score))\n",
    "    if i > n:\n",
    "        break\n",
    "print('---------------------------------------')"
   ]
  },
  {
   "cell_type": "code",
   "execution_count": null,
   "metadata": {},
   "outputs": [],
   "source": []
  }
 ],
 "metadata": {
  "kernelspec": {
   "display_name": "Python 3",
   "language": "python",
   "name": "python3"
  },
  "language_info": {
   "codemirror_mode": {
    "name": "ipython",
    "version": 3
   },
   "file_extension": ".py",
   "mimetype": "text/x-python",
   "name": "python",
   "nbconvert_exporter": "python",
   "pygments_lexer": "ipython3",
   "version": "3.7.6"
  }
 },
 "nbformat": 4,
 "nbformat_minor": 4
}
