{
 "cells": [
  {
   "cell_type": "markdown",
   "metadata": {},
   "source": [
    "# Recommender System"
   ]
  },
  {
   "cell_type": "markdown",
   "metadata": {},
   "source": [
    "# Workshop 1 : วิเคราะห์ความคล้ายของประโยค"
   ]
  },
  {
   "cell_type": "code",
   "execution_count": 5,
   "metadata": {},
   "outputs": [],
   "source": [
    "import pandas as pd\n",
    "from sklearn.feature_extraction.text import TfidfVectorizer\n",
    "from sklearn.feature_extraction.text import CountVectorizer"
   ]
  },
  {
   "cell_type": "raw",
   "metadata": {},
   "source": [
    "# Case 1 \n",
    "สมมมติว่ามีข้อความ ประโยค เนื้อความ เนื้อหา Content หรือ Metadata ที่เป็นข้อความ a และ b \n",
    "จากนั้นคำนวณหา Features โดยใช้ TFIDF vector"
   ]
  },
  {
   "cell_type": "code",
   "execution_count": 6,
   "metadata": {},
   "outputs": [],
   "source": [
    "a = 'beach sea beach'\n",
    "b = 'Beach sea sea' # ข้อสังเกต ใช้ B ตัวใหญ่"
   ]
  },
  {
   "cell_type": "code",
   "execution_count": 8,
   "metadata": {},
   "outputs": [
    {
     "name": "stdout",
     "output_type": "stream",
     "text": [
      "['beach', 'sea']\n",
      "[[2 1]\n",
      " [1 2]]\n"
     ]
    }
   ],
   "source": [
    "text = [a, b]\n",
    "cv = CountVectorizer()\n",
    "count_matrix = cv.fit_transform(text)\n",
    "\n",
    "print(cv.get_feature_names()) # รายการคำ (ข้อมูล List)\n",
    "print(count_matrix.toarray()) # เมทริกซ์แสดงจำนวนคำ"
   ]
  },
  {
   "cell_type": "code",
   "execution_count": 10,
   "metadata": {},
   "outputs": [
    {
     "data": {
      "text/html": [
       "<div>\n",
       "<style scoped>\n",
       "    .dataframe tbody tr th:only-of-type {\n",
       "        vertical-align: middle;\n",
       "    }\n",
       "\n",
       "    .dataframe tbody tr th {\n",
       "        vertical-align: top;\n",
       "    }\n",
       "\n",
       "    .dataframe thead th {\n",
       "        text-align: right;\n",
       "    }\n",
       "</style>\n",
       "<table border=\"1\" class=\"dataframe\">\n",
       "  <thead>\n",
       "    <tr style=\"text-align: right;\">\n",
       "      <th></th>\n",
       "      <th>beach</th>\n",
       "      <th>sea</th>\n",
       "    </tr>\n",
       "  </thead>\n",
       "  <tbody>\n",
       "    <tr>\n",
       "      <th>a</th>\n",
       "      <td>2</td>\n",
       "      <td>1</td>\n",
       "    </tr>\n",
       "    <tr>\n",
       "      <th>b</th>\n",
       "      <td>1</td>\n",
       "      <td>2</td>\n",
       "    </tr>\n",
       "  </tbody>\n",
       "</table>\n",
       "</div>"
      ],
      "text/plain": [
       "   beach  sea\n",
       "a      2    1\n",
       "b      1    2"
      ]
     },
     "execution_count": 10,
     "metadata": {},
     "output_type": "execute_result"
    }
   ],
   "source": [
    "# เพื่อให้ดูง่ายขึ้น นำข้อมูล Matrix มาเก็บใน DataFrame\n",
    "term_matrix = count_matrix.todense()\n",
    "cols = cv.get_feature_names()\n",
    "df = pd.DataFrame(term_matrix, columns=cols, index=['a','b'])\n",
    "df"
   ]
  },
  {
   "cell_type": "raw",
   "metadata": {},
   "source": [
    "ความหมายคือ\n",
    "ประโยคแรกหรือกลุ่มคำแรก (a) มีคำว่า beach 2 คำ และมีคำว่า sea 1 คำ\n",
    "ประโยคที่ 2 หรือกลุ่มคำที่ 2 (b) มีคำว่า beach 1 คำ และมีคำว่า sea 2 คำ (อักษรเล็กใหญ่ถือว่าตัวเดียวกัน)"
   ]
  },
  {
   "cell_type": "raw",
   "metadata": {},
   "source": [
    "คำนวณหา Cosine Similarity ค่าระหว่าง 0-1 เพื่อบ่งบอกว่าเส้นที่พล็อตจาก matrix มีเส้นทำมุม cos0 กันถ้าคล้ายกัน\n",
    "จะมีค่าเข้าใกล้ 1  0 -> o"
   ]
  },
  {
   "cell_type": "code",
   "execution_count": 11,
   "metadata": {},
   "outputs": [
    {
     "data": {
      "text/plain": [
       "array([[1. , 0.8],\n",
       "       [0.8, 1. ]])"
      ]
     },
     "execution_count": 11,
     "metadata": {},
     "output_type": "execute_result"
    }
   ],
   "source": [
    "from sklearn.metrics.pairwise import cosine_similarity\n",
    "cosine_sim = cosine_similarity(count_matrix)\n",
    "cosine_sim"
   ]
  },
  {
   "cell_type": "raw",
   "metadata": {},
   "source": [
    "a กับ b or b กับ a จะใกล้เคียงกัน 0.8 ใกล้เคียงกันมาก"
   ]
  },
  {
   "cell_type": "raw",
   "metadata": {},
   "source": [
    "# Case 2\n",
    "สมมุติว่าสถานที่ท่องเที่ยว a และ b มีคำสำคัญ (keywords) หรือ เรียก Metadata หรือคำอธิบายส่วนขยายของสถานที่\n",
    "มีจำนวนคำเปลี่ยนไป a เท่าเดิม b เพิ่มขึ้น ใช้วิธีเดียวกันหาค่า matrix and calculate Cosine Similarity"
   ]
  },
  {
   "cell_type": "code",
   "execution_count": 12,
   "metadata": {},
   "outputs": [
    {
     "name": "stdout",
     "output_type": "stream",
     "text": [
      "['beach', 'sea']\n",
      "[[2 1]\n",
      " [4 2]]\n"
     ]
    }
   ],
   "source": [
    "a = 'beach sea beach'\n",
    "b = 'Beach sea sea Beach beach beach' # ข้อสังเกต ใช้ คำซ้ำมากขึ้น\n",
    "text = [a, b]\n",
    "cv = CountVectorizer()\n",
    "count_matrix = cv.fit_transform(text)\n",
    "print(cv.get_feature_names())\n",
    "print(count_matrix.toarray())"
   ]
  },
  {
   "cell_type": "code",
   "execution_count": 13,
   "metadata": {},
   "outputs": [
    {
     "data": {
      "text/html": [
       "<div>\n",
       "<style scoped>\n",
       "    .dataframe tbody tr th:only-of-type {\n",
       "        vertical-align: middle;\n",
       "    }\n",
       "\n",
       "    .dataframe tbody tr th {\n",
       "        vertical-align: top;\n",
       "    }\n",
       "\n",
       "    .dataframe thead th {\n",
       "        text-align: right;\n",
       "    }\n",
       "</style>\n",
       "<table border=\"1\" class=\"dataframe\">\n",
       "  <thead>\n",
       "    <tr style=\"text-align: right;\">\n",
       "      <th></th>\n",
       "      <th>beach</th>\n",
       "      <th>sea</th>\n",
       "    </tr>\n",
       "  </thead>\n",
       "  <tbody>\n",
       "    <tr>\n",
       "      <th>a</th>\n",
       "      <td>2</td>\n",
       "      <td>1</td>\n",
       "    </tr>\n",
       "    <tr>\n",
       "      <th>b</th>\n",
       "      <td>4</td>\n",
       "      <td>2</td>\n",
       "    </tr>\n",
       "  </tbody>\n",
       "</table>\n",
       "</div>"
      ],
      "text/plain": [
       "   beach  sea\n",
       "a      2    1\n",
       "b      4    2"
      ]
     },
     "execution_count": 13,
     "metadata": {},
     "output_type": "execute_result"
    }
   ],
   "source": [
    "term_matrix = count_matrix.todense()\n",
    "cols = cv.get_feature_names()\n",
    "df = pd.DataFrame(term_matrix, columns=cols, index=['a','b'])\n",
    "df"
   ]
  },
  {
   "cell_type": "code",
   "execution_count": 14,
   "metadata": {},
   "outputs": [
    {
     "data": {
      "text/plain": [
       "array([[1., 1.],\n",
       "       [1., 1.]])"
      ]
     },
     "execution_count": 14,
     "metadata": {},
     "output_type": "execute_result"
    }
   ],
   "source": [
    "cosine_sim = cosine_similarity(count_matrix)\n",
    "cosine_sim"
   ]
  },
  {
   "cell_type": "markdown",
   "metadata": {},
   "source": [
    "จะเห็นว่าค่าคำตอบคล้ายกันมาก(เข้าใกล้1)"
   ]
  },
  {
   "cell_type": "markdown",
   "metadata": {},
   "source": [
    "# Workshop 2 : วิเคราะห์ความคล้ายของ 4 ประโยค"
   ]
  },
  {
   "cell_type": "raw",
   "metadata": {},
   "source": [
    "# จำแนกสินค้าจาก Meta-data(Content)\n",
    "-> สินค้า a มีคำสำคัญ blue dress lady skirt\n",
    "-> สินค้า b มีคำสำคัญ blue shirt lady\n",
    "-> สินค้า c มีคำสำคัญ smartphone android\n",
    "-> สินค้า d มีคำสำคัญ charge smartphone tablet"
   ]
  },
  {
   "cell_type": "code",
   "execution_count": 16,
   "metadata": {},
   "outputs": [
    {
     "data": {
      "text/html": [
       "<div>\n",
       "<style scoped>\n",
       "    .dataframe tbody tr th:only-of-type {\n",
       "        vertical-align: middle;\n",
       "    }\n",
       "\n",
       "    .dataframe tbody tr th {\n",
       "        vertical-align: top;\n",
       "    }\n",
       "\n",
       "    .dataframe thead th {\n",
       "        text-align: right;\n",
       "    }\n",
       "</style>\n",
       "<table border=\"1\" class=\"dataframe\">\n",
       "  <thead>\n",
       "    <tr style=\"text-align: right;\">\n",
       "      <th></th>\n",
       "      <th>android</th>\n",
       "      <th>blue</th>\n",
       "      <th>charger</th>\n",
       "      <th>dress</th>\n",
       "      <th>lady</th>\n",
       "      <th>shirt</th>\n",
       "      <th>skirt</th>\n",
       "      <th>smartphone</th>\n",
       "      <th>tablet</th>\n",
       "    </tr>\n",
       "  </thead>\n",
       "  <tbody>\n",
       "    <tr>\n",
       "      <th>a</th>\n",
       "      <td>0</td>\n",
       "      <td>1</td>\n",
       "      <td>0</td>\n",
       "      <td>1</td>\n",
       "      <td>1</td>\n",
       "      <td>0</td>\n",
       "      <td>1</td>\n",
       "      <td>0</td>\n",
       "      <td>0</td>\n",
       "    </tr>\n",
       "    <tr>\n",
       "      <th>b</th>\n",
       "      <td>0</td>\n",
       "      <td>1</td>\n",
       "      <td>0</td>\n",
       "      <td>0</td>\n",
       "      <td>1</td>\n",
       "      <td>1</td>\n",
       "      <td>0</td>\n",
       "      <td>0</td>\n",
       "      <td>0</td>\n",
       "    </tr>\n",
       "    <tr>\n",
       "      <th>c</th>\n",
       "      <td>1</td>\n",
       "      <td>0</td>\n",
       "      <td>0</td>\n",
       "      <td>0</td>\n",
       "      <td>0</td>\n",
       "      <td>0</td>\n",
       "      <td>0</td>\n",
       "      <td>1</td>\n",
       "      <td>0</td>\n",
       "    </tr>\n",
       "    <tr>\n",
       "      <th>d</th>\n",
       "      <td>0</td>\n",
       "      <td>0</td>\n",
       "      <td>1</td>\n",
       "      <td>0</td>\n",
       "      <td>0</td>\n",
       "      <td>0</td>\n",
       "      <td>0</td>\n",
       "      <td>1</td>\n",
       "      <td>1</td>\n",
       "    </tr>\n",
       "  </tbody>\n",
       "</table>\n",
       "</div>"
      ],
      "text/plain": [
       "   android  blue  charger  dress  lady  shirt  skirt  smartphone  tablet\n",
       "a        0     1        0      1     1      0      1           0       0\n",
       "b        0     1        0      0     1      1      0           0       0\n",
       "c        1     0        0      0     0      0      0           1       0\n",
       "d        0     0        1      0     0      0      0           1       1"
      ]
     },
     "execution_count": 16,
     "metadata": {},
     "output_type": "execute_result"
    }
   ],
   "source": [
    "a = 'blue skirt dress lady'\n",
    "b = 'blue shirt lady'\n",
    "c = 'smartphone android'\n",
    "d = 'charger smartphone tablet'\n",
    "\n",
    "text = [a, b, c, d]\n",
    "\n",
    "cv = CountVectorizer()\n",
    "count_matrix = cv.fit_transform(text)\n",
    "\n",
    "term_matrix = count_matrix.todense()\n",
    "cols = cv.get_feature_names()\n",
    "df = pd.DataFrame(term_matrix, columns=cols, index=['a', 'b', 'c', 'd'])\n",
    "df"
   ]
  },
  {
   "cell_type": "code",
   "execution_count": 17,
   "metadata": {},
   "outputs": [
    {
     "data": {
      "text/plain": [
       "array([[1.        , 0.57735027, 0.        , 0.        ],\n",
       "       [0.57735027, 1.        , 0.        , 0.        ],\n",
       "       [0.        , 0.        , 1.        , 0.40824829],\n",
       "       [0.        , 0.        , 0.40824829, 1.        ]])"
      ]
     },
     "execution_count": 17,
     "metadata": {},
     "output_type": "execute_result"
    }
   ],
   "source": [
    "cosine_sim = cosine_similarity(count_matrix)\n",
    "cosine_sim"
   ]
  },
  {
   "cell_type": "markdown",
   "metadata": {},
   "source": [
    "+++++สิ่งนี้เป็นพื้นฐานสำคัญสำหรับการแนะนำสินค้าและบริการที่คล้ายกัน"
   ]
  },
  {
   "cell_type": "markdown",
   "metadata": {},
   "source": [
    "# การใช้แนะนำสินค้าที่คล้ายกัน"
   ]
  },
  {
   "cell_type": "code",
   "execution_count": 18,
   "metadata": {},
   "outputs": [
    {
     "data": {
      "text/plain": [
       "array([1.  , 0.58, 0.  , 0.  ])"
      ]
     },
     "execution_count": 18,
     "metadata": {},
     "output_type": "execute_result"
    }
   ],
   "source": [
    "#ตรวจสอบความคล้ายคลึงทีละคู่\n",
    "ref_index = 0 # มอง A\n",
    "similar_score = cosine_sim[ref_index]\n",
    "similar_score.round(2)"
   ]
  },
  {
   "cell_type": "markdown",
   "metadata": {},
   "source": [
    "a คล้ายกับ b 0.58"
   ]
  },
  {
   "cell_type": "code",
   "execution_count": 20,
   "metadata": {},
   "outputs": [
    {
     "data": {
      "text/plain": [
       "array([0.  , 0.  , 1.  , 0.41])"
      ]
     },
     "execution_count": 20,
     "metadata": {},
     "output_type": "execute_result"
    }
   ],
   "source": [
    "ref_index = 2 มอง C\n",
    "similar_score = cosine_sim[ref_index]\n",
    "similar_score.round(2)"
   ]
  },
  {
   "cell_type": "markdown",
   "metadata": {},
   "source": [
    "c คล้ายกับ d 0.41"
   ]
  },
  {
   "cell_type": "code",
   "execution_count": 21,
   "metadata": {},
   "outputs": [
    {
     "data": {
      "text/plain": [
       "[(0, 0.0), (1, 0.0), (2, 0.9999999999999998), (3, 0.408248290463863)]"
      ]
     },
     "execution_count": 21,
     "metadata": {},
     "output_type": "execute_result"
    }
   ],
   "source": [
    "# สมมุติว่าลูกค้ากำลังดูสินค้า c ก็ยึด c เป็นหลัก แล้วทำการเปรียบเทียบกับตัวอื่นๆ\n",
    "ref_index = 2\n",
    "similar_score = cosine_sim[ref_index]\n",
    "\n",
    "# นำค่าลำดับ และ ค่าดัชนีความคล้ายคลึงมารวมกันเป็น list เพื่อใช้สำหรับอ่านค่า (Access)\n",
    "similar_products = list(enumerate(similar_score)) # จับคู่อันดับโดยตัวแรกเป็น 0 1 2 3 กับ ค่า cosine_sim\n",
    "similar_products"
   ]
  },
  {
   "cell_type": "code",
   "execution_count": 23,
   "metadata": {},
   "outputs": [
    {
     "data": {
      "text/plain": [
       "[(3, 0.408248290463863), (0, 0.0), (1, 0.0)]"
      ]
     },
     "execution_count": 23,
     "metadata": {},
     "output_type": "execute_result"
    }
   ],
   "source": [
    "# ทำการจัดเรียงเอาค่า score สูงสุดไว้บนสุด\n",
    "sorted_recommend = sorted(similar_products,key=lambda x:x[1], reverse=True)[1:]\n",
    "sorted_recommend"
   ]
  },
  {
   "cell_type": "code",
   "execution_count": 27,
   "metadata": {},
   "outputs": [
    {
     "name": "stdout",
     "output_type": "stream",
     "text": [
      "Top recommend for d\n",
      "--------------------------\n",
      "d        0.408\n",
      "a        0.000\n",
      "b        0.000\n"
     ]
    }
   ],
   "source": [
    "# วนรอบแนะนำสินค้า\n",
    "ref_index = 3\n",
    "print('Top recommend for '+ df.index[ref_index]+\n",
    "     '\\n--------------------------')\n",
    "for i,element in enumerate(sorted_recommend):\n",
    "    title = df.index[element[0]] # รัน element ที่รับค่ามาจาก sortedทีละตัว\n",
    "    print('{:8} {:.3f}'.format(title, sorted_recommend[i][1]))"
   ]
  },
  {
   "cell_type": "code",
   "execution_count": null,
   "metadata": {},
   "outputs": [],
   "source": []
  }
 ],
 "metadata": {
  "kernelspec": {
   "display_name": "Python 3",
   "language": "python",
   "name": "python3"
  },
  "language_info": {
   "codemirror_mode": {
    "name": "ipython",
    "version": 3
   },
   "file_extension": ".py",
   "mimetype": "text/x-python",
   "name": "python",
   "nbconvert_exporter": "python",
   "pygments_lexer": "ipython3",
   "version": "3.7.6"
  }
 },
 "nbformat": 4,
 "nbformat_minor": 4
}
