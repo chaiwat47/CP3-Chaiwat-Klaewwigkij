{
 "cells": [
  {
   "cell_type": "markdown",
   "metadata": {},
   "source": [
    "# Model Mismatch Testing"
   ]
  },
  {
   "cell_type": "code",
   "execution_count": 19,
   "metadata": {},
   "outputs": [],
   "source": [
    "kchange         = 1\n",
    "kkchange        = 1 #1.3;\n",
    "Urchange        = 1 #0.7;\n",
    "Mchange         = 1\n",
    "deltaHchange    = 1\n",
    "\n",
    "\n",
    "Bt      = 250      #(min)      %Batch time\n",
    "dt      = 0.1                  #%Step size of process\n",
    "n       = Bt/dt\n",
    "t    = [0]                    #%Start time\n",
    "sampt   = 2        #(min)      %Sampling time\n",
    "j       = 2\n",
    "k       = 1"
   ]
  },
  {
   "cell_type": "markdown",
   "metadata": {},
   "source": [
    "# Process Parameters"
   ]
  },
  {
   "cell_type": "code",
   "execution_count": 20,
   "metadata": {},
   "outputs": [],
   "source": [
    "k11     = 20.9057\n",
    "k12     = 1e4\n",
    "k21     = 38.9057\n",
    "k22     = 17000\n",
    "deltaH1 = -41840   #%(kJ/kmol)\n",
    "deltaH2 = -25105   \n",
    "MWA     = 30       #%(kg/kmol)\n",
    "MWB     = 100\n",
    "MWC     = 130\n",
    "MWD     = 160\n",
    "pr      = 1e3      #%(kg/m3)\n",
    "r       = 0.5      #%(m)\n",
    "Ur      = Urchange*40.842     #%(kJ/min m2 oC)\n",
    "CpA     = 75.31               #%(kJ/kmol oC)\n",
    "CpB     = 167.36\n",
    "CpC     = 217.57\n",
    "CpD     = 334.73\n",
    "Fj      = 0.348    #%(m3/min)\n",
    "pj      = 1e3      #%(kg/m3)\n",
    "Cpj     = 1.8828   #%kJ/(kg oC)\n",
    "Vj      = 0.6912   #%m3"
   ]
  },
  {
   "cell_type": "markdown",
   "metadata": {},
   "source": [
    "# Process Initial Conditions"
   ]
  },
  {
   "cell_type": "code",
   "execution_count": 21,
   "metadata": {},
   "outputs": [],
   "source": [
    "MA   = [Mchange*12];\n",
    "MB   = [12];\n",
    "MC   = [0];\n",
    "MD   = [0];\n",
    "Tr   = [20];\n",
    "Tj   = [20];\n",
    "Tj   = [20];\n",
    "Tjsp = [95];\n",
    "Qr   = [0];\n",
    "Qj   = [0];"
   ]
  },
  {
   "cell_type": "markdown",
   "metadata": {},
   "source": [
    "# Initial Of Measurement Output #"
   ]
  },
  {
   "cell_type": "markdown",
   "metadata": {},
   "source": [
    "# Parameters using in GMC\n",
    "Note: These parameter values are from A. Arpornwichanop et al., On-line\n",
    "dynamic optimization and control strategy for improving the performance of\n",
    "batch reactors"
   ]
  },
  {
   "cell_type": "code",
   "execution_count": 22,
   "metadata": {},
   "outputs": [],
   "source": [
    "MR      = 1560     #%(kg)\n",
    "CPR     = 1.8828   #%(kJ/kg oC)\n",
    "UA      = 254.8541 #%(kJ/min oC)"
   ]
  },
  {
   "cell_type": "markdown",
   "metadata": {},
   "source": [
    "Parameter for GMC controller"
   ]
  },
  {
   "cell_type": "code",
   "execution_count": 23,
   "metadata": {},
   "outputs": [],
   "source": [
    "Trsp= [95];\n",
    "Tju = [20];\n",
    "ej  = [0];"
   ]
  },
  {
   "cell_type": "markdown",
   "metadata": {},
   "source": [
    "Tuning parameter"
   ]
  },
  {
   "cell_type": "code",
   "execution_count": 24,
   "metadata": {},
   "outputs": [],
   "source": [
    "Tauj   = 0.2;\n",
    "K1     = 0.72;\n",
    "K2     = 10^-4;"
   ]
  },
  {
   "cell_type": "markdown",
   "metadata": {},
   "source": [
    "# Start: Process Dynamics"
   ]
  },
  {
   "cell_type": "code",
   "execution_count": 29,
   "metadata": {},
   "outputs": [
    {
     "ename": "TypeError",
     "evalue": "'float' object cannot be interpreted as an integer",
     "output_type": "error",
     "traceback": [
      "\u001b[1;31m---------------------------------------------------------------------------\u001b[0m",
      "\u001b[1;31mTypeError\u001b[0m                                 Traceback (most recent call last)",
      "\u001b[1;32m<ipython-input-29-f56b087ff289>\u001b[0m in \u001b[0;36m<module>\u001b[1;34m\u001b[0m\n\u001b[1;32m----> 1\u001b[1;33m \u001b[1;32mfor\u001b[0m \u001b[0mi\u001b[0m \u001b[1;32min\u001b[0m \u001b[0mrange\u001b[0m\u001b[1;33m(\u001b[0m\u001b[1;36m0\u001b[0m\u001b[1;33m,\u001b[0m\u001b[0mn\u001b[0m\u001b[1;33m)\u001b[0m\u001b[1;33m:\u001b[0m\u001b[1;33m\u001b[0m\u001b[1;33m\u001b[0m\u001b[0m\n\u001b[0m\u001b[0;32m      2\u001b[0m \u001b[1;33m\u001b[0m\u001b[0m\n\u001b[0;32m      3\u001b[0m     \u001b[1;34m'''Process'''\u001b[0m\u001b[1;33m\u001b[0m\u001b[1;33m\u001b[0m\u001b[0m\n\u001b[0;32m      4\u001b[0m     \u001b[0mk1\u001b[0m      \u001b[1;33m=\u001b[0m \u001b[0mkkchange\u001b[0m\u001b[1;33m*\u001b[0m\u001b[0mexp\u001b[0m\u001b[1;33m(\u001b[0m\u001b[0mk11\u001b[0m\u001b[1;33m-\u001b[0m\u001b[1;33m(\u001b[0m\u001b[0mk12\u001b[0m\u001b[1;33m/\u001b[0m\u001b[1;33m(\u001b[0m\u001b[0mTr\u001b[0m\u001b[1;33m[\u001b[0m\u001b[0mi\u001b[0m\u001b[1;33m]\u001b[0m\u001b[1;33m+\u001b[0m\u001b[1;36m273.15\u001b[0m\u001b[1;33m)\u001b[0m\u001b[1;33m)\u001b[0m\u001b[1;33m)\u001b[0m\u001b[1;33m;\u001b[0m\u001b[1;33m\u001b[0m\u001b[1;33m\u001b[0m\u001b[0m\n\u001b[0;32m      5\u001b[0m     \u001b[0mk2\u001b[0m      \u001b[1;33m=\u001b[0m \u001b[0mexp\u001b[0m\u001b[1;33m(\u001b[0m\u001b[0mk21\u001b[0m\u001b[1;33m-\u001b[0m\u001b[1;33m(\u001b[0m\u001b[0mk22\u001b[0m\u001b[1;33m/\u001b[0m\u001b[1;33m(\u001b[0m\u001b[0mTr\u001b[0m\u001b[1;33m[\u001b[0m\u001b[0mi\u001b[0m\u001b[1;33m]\u001b[0m\u001b[1;33m+\u001b[0m\u001b[1;36m273.15\u001b[0m\u001b[1;33m)\u001b[0m\u001b[1;33m)\u001b[0m\u001b[1;33m)\u001b[0m\u001b[1;33m;\u001b[0m\u001b[1;33m\u001b[0m\u001b[1;33m\u001b[0m\u001b[0m\n",
      "\u001b[1;31mTypeError\u001b[0m: 'float' object cannot be interpreted as an integer"
     ]
    }
   ],
   "source": [
    "for i in range(0,n):\n",
    "   \n",
    "    '''Process'''\n",
    "    k1      = kkchange*exp(k11-(k12/(Tr[i]+273.15)));\n",
    "    k2      = exp(k21-(k22/(Tr[i]+273.15)));\n",
    "    R1      = k1*MA[i]*MB[i];\n",
    "    R2      = k2*MA[i]*MC[i];\n",
    "    MA[i+1] = MA[i]+dt*(-R1-R2);        #%---discrete form---%   %dMA/dt = -R1-R2\n",
    "    MB[i+1] = MB[i]+dt*(-R1);\n",
    "    MC[i+1] = MC[i]+dt*(R1-R2);\n",
    "    MD[i+1] = MD[i]+dt*(R2);\n",
    "    Qr[i+1] = -deltaH1*R1-deltaH2*R2;   #%exothermic\n",
    "    Wr      = MWA*MA[i]+MWB*MB[i]+MWC*MC[i]+MWD*MD[i];\n",
    "    Vr      = Wr/pr;\n",
    "    Ar      = 2*Vr/r;\n",
    "    Qj[i+1] = Ur*Ar*(Tj[i]-Tr[i]);      \n",
    "    Mr      = MA[i]+MB[i]+MC[i]+MD[i];\n",
    "    Cpr     = (CpA*MA[i]+CpB*MB[i]+CpC*MC[i]+CpD*MD[i])/Mr;\n",
    "    Tr[i+1] = Tr[i]+dt*((Qr[i]+Qj[i+1])/Mr/Cpr);\n",
    "    Tj[i+1] = Tj[i]+dt*((Fj*pj*Cpj*(Tjsp[i]-Tj[i])-Qj[i+1])/Vj/pj/Cpj);\n",
    "    \n",
    "    Trsp[i+1] = Trsp[i];\n",
    "    Tjsp[i+1] = Tjsp[end];\n",
    "\n",
    "    if mod(i,sampt) == 0:\n",
    "        \n",
    "        ej[j+1]  = Trsp[i+1]-Tr[i+1];\n",
    "        sum[j+1] = sum[j]+ej[j+1];\n",
    "        \n",
    "        x1  = (Wr*CPR/(Ur*Ar));\n",
    "        x2  = (K1*(ej[j+1]));\n",
    "        x3  = (K2*(sum[j+1])*dt);\n",
    "        x4  = (Qr[end]/(Ur*Ar));\n",
    "        \n",
    "        Tju[i+1] = Tr[i+1]+(x1*(x2+x3))-x4;\n",
    "        \n",
    "        a   = Tju[i];\n",
    "        b   = Tju[i+1];\n",
    "        \n",
    "        Tjsp[i+1] = a+(Tauj*((b-a)/dt));\n",
    "        \n",
    "        if Tjsp[i+1] <= 0:      #%lower boundary\n",
    "            Tjsp[i+1] = 0;\n",
    "                \n",
    "                 \n",
    "                        \n",
    "        elif Tjsp[i+1] >= 120:   #%upper boundary\n",
    "            Tjsp[i+1] = 120;    \n",
    "        end\n",
    "            \n",
    "        j = j+1;\n",
    "    else:\n",
    "        \n",
    "        Tj[i+1]= Tj[end];\n",
    "    break\n",
    "t[i+1] = t[i]+dt;\n",
    "    \n"
   ]
  },
  {
   "cell_type": "code",
   "execution_count": null,
   "metadata": {},
   "outputs": [],
   "source": [
    "figure(1);\n",
    "plot(t,MA,'r.-',t,MB,'b.-',t,MC,'k.-',t,MD,'g.-');\n",
    "title('Concentration profile (GMC)');\n",
    "xlabel ('Time (min)'); ylabel ('Concentration (kmol)');\n",
    "legend('Ma','Mb','Mc','Md');\n",
    "\n",
    "figure(2);\n",
    "plot(t,Qr,'r.-');\n",
    "title('Heat-release profile (GMC)');\n",
    "xlabel ('Time (min)'); ylabel ('Heat transfer (kJ/min)');\n",
    "legend('Qr');\n",
    "\n",
    "figure(3);\n",
    "plot(t,Tr,'r.-',t,Trsp,'b.-',t,Tj,'k.-',t,Tjsp,'g.-');\n",
    "title('Temperature profile (GMC)');\n",
    "xlabel ('Time (min)'); ylabel ('Temperature (oC)');\n",
    "axis([t(1) Bt 0 130])\n",
    "legend('Tr','Trsp','Tj','Tjsp');"
   ]
  }
 ],
 "metadata": {
  "kernelspec": {
   "display_name": "Python 3",
   "language": "python",
   "name": "python3"
  },
  "language_info": {
   "codemirror_mode": {
    "name": "ipython",
    "version": 3
   },
   "file_extension": ".py",
   "mimetype": "text/x-python",
   "name": "python",
   "nbconvert_exporter": "python",
   "pygments_lexer": "ipython3",
   "version": "3.7.9"
  }
 },
 "nbformat": 4,
 "nbformat_minor": 4
}
