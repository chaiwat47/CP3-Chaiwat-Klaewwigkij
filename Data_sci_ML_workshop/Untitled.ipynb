{
 "cells": [
  {
   "cell_type": "code",
   "execution_count": 1,
   "metadata": {},
   "outputs": [],
   "source": [
    "import numpy as np"
   ]
  },
  {
   "cell_type": "code",
   "execution_count": null,
   "metadata": {},
   "outputs": [],
   "source": [
    "setpoint = 3 ;\n",
    "con = 3 ;\n",
    "predic = 10 ;\n",
    "u = 1 ;\n",
    "XX=[];\n",
    "TT=[];\n",
    "UU=[];\n",
    "sumerror=0;\n",
    "ini = [5];\n",
    "error= 0 ;"
   ]
  },
  {
   "cell_type": "markdown",
   "metadata": {},
   "source": [
    "# \n",
    "v  = X[1];\n",
    "Cx = x[2];\n",
    "Cp = x[3];\n",
    "Cs = x[4];\n",
    "Co2= x[5];\n",
    "Tr = x[6];\n",
    "Tj = x[7];"
   ]
  },
  {
   "cell_type": "code",
   "execution_count": null,
   "metadata": {},
   "outputs": [],
   "source": [
    "for i in range(1,4000):\n",
    "    a = np.array[0,0.005];"
   ]
  },
  {
   "cell_type": "code",
   "execution_count": null,
   "metadata": {},
   "outputs": [],
   "source": [
    "   \n",
    "error_old = error ;\n",
    "[t,x] = ode45(@(t,x) flow_pid(t,x,u),a,ini) ;\n",
    "[Fmin,fval] = fmincon(@(U) test_mpc(U,x(end),setpoint),[u u u]) ;\n",
    " u = Fmin(1) ;\n",
    "    ini = [x(end)];\n",
    "XX=[XX; x];\n",
    "UU = [UU; u];\n",
    "TT=(1:length(XX));\n",
    "TU =(0:length(UU));\n",
    "UU=[UU; u];\n",
    "end\n",
    "figure('name','Cx')\n",
    "plot(TT*0.05,XX(:,1))\n",
    "\n",
    "\n",
    "\n",
    "def test_PID(U,x,setpoint):\n",
    "   error = 0 ;\n",
    "   con = 3 ;\n",
    "   predic = 6  ;\n",
    "for i = 1:predic\n",
    "    if i <= con\n",
    "        u = U(i) ;\n",
    "    else \n",
    "        u = U(con) ;\n",
    "    end\n",
    "    ini = x(end) ;\n",
    "    a = [0 5];\n",
    "   [t,x] = ode45(@(t,x)flow_pid(t,x,u),a,ini);\n",
    "   error = error + (x(end)-setpoint)^2 ;\n",
    "end\n",
    "\n",
    "obj = error ;"
   ]
  }
 ],
 "metadata": {
  "kernelspec": {
   "display_name": "Python 3",
   "language": "python",
   "name": "python3"
  },
  "language_info": {
   "codemirror_mode": {
    "name": "ipython",
    "version": 3
   },
   "file_extension": ".py",
   "mimetype": "text/x-python",
   "name": "python",
   "nbconvert_exporter": "python",
   "pygments_lexer": "ipython3",
   "version": "3.7.9"
  }
 },
 "nbformat": 4,
 "nbformat_minor": 4
}
