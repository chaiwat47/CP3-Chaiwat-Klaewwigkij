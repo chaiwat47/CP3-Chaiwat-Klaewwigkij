{
 "cells": [
  {
   "cell_type": "markdown",
   "metadata": {},
   "source": [
    "# บทที่ 22 การปรับจูน Model"
   ]
  },
  {
   "cell_type": "raw",
   "metadata": {},
   "source": [
    "#-หลักการปรับแต่งหรือปรับจูน Model ให้มีประสิทธิภาพความแม่นยำมากที่สุด\n",
    "#-การเปรียบเทียบและหา Algorithm ที่ดีที่สุด\n",
    "#-การใช้ไลบรารี scikit=learn ช่วยในการหาค่าพารามิเตอร์ที่ดีที่สุด"
   ]
  },
  {
   "cell_type": "raw",
   "metadata": {},
   "source": [
    "# Step การทำงาน\n",
    "# 1 Data cleansing\n",
    "# 2. Missing data\n",
    "# 3. Outlier management\n",
    "# 4. Train Model\n",
    "# 5. Cross val score / mean cross validation\n",
    "# 6. Test model + Accuracy test"
   ]
  },
  {
   "cell_type": "markdown",
   "metadata": {},
   "source": [
    "# Workshop 1 : เปรียบเทียบผลขอล Hyperparameter"
   ]
  },
  {
   "cell_type": "code",
   "execution_count": 1,
   "metadata": {},
   "outputs": [
    {
     "name": "stdout",
     "output_type": "stream",
     "text": [
      "(768, 9)\n"
     ]
    },
    {
     "data": {
      "text/html": [
       "<div>\n",
       "<style scoped>\n",
       "    .dataframe tbody tr th:only-of-type {\n",
       "        vertical-align: middle;\n",
       "    }\n",
       "\n",
       "    .dataframe tbody tr th {\n",
       "        vertical-align: top;\n",
       "    }\n",
       "\n",
       "    .dataframe thead th {\n",
       "        text-align: right;\n",
       "    }\n",
       "</style>\n",
       "<table border=\"1\" class=\"dataframe\">\n",
       "  <thead>\n",
       "    <tr style=\"text-align: right;\">\n",
       "      <th></th>\n",
       "      <th>preg</th>\n",
       "      <th>plas</th>\n",
       "      <th>pres</th>\n",
       "      <th>skin</th>\n",
       "      <th>insu</th>\n",
       "      <th>bmi</th>\n",
       "      <th>pedi</th>\n",
       "      <th>age</th>\n",
       "      <th>class</th>\n",
       "    </tr>\n",
       "  </thead>\n",
       "  <tbody>\n",
       "    <tr>\n",
       "      <th>0</th>\n",
       "      <td>6</td>\n",
       "      <td>148</td>\n",
       "      <td>72</td>\n",
       "      <td>35</td>\n",
       "      <td>0</td>\n",
       "      <td>33.6</td>\n",
       "      <td>0.627</td>\n",
       "      <td>50</td>\n",
       "      <td>1</td>\n",
       "    </tr>\n",
       "    <tr>\n",
       "      <th>1</th>\n",
       "      <td>1</td>\n",
       "      <td>85</td>\n",
       "      <td>66</td>\n",
       "      <td>29</td>\n",
       "      <td>0</td>\n",
       "      <td>26.6</td>\n",
       "      <td>0.351</td>\n",
       "      <td>31</td>\n",
       "      <td>0</td>\n",
       "    </tr>\n",
       "    <tr>\n",
       "      <th>2</th>\n",
       "      <td>8</td>\n",
       "      <td>183</td>\n",
       "      <td>64</td>\n",
       "      <td>0</td>\n",
       "      <td>0</td>\n",
       "      <td>23.3</td>\n",
       "      <td>0.672</td>\n",
       "      <td>32</td>\n",
       "      <td>1</td>\n",
       "    </tr>\n",
       "    <tr>\n",
       "      <th>3</th>\n",
       "      <td>1</td>\n",
       "      <td>89</td>\n",
       "      <td>66</td>\n",
       "      <td>23</td>\n",
       "      <td>94</td>\n",
       "      <td>28.1</td>\n",
       "      <td>0.167</td>\n",
       "      <td>21</td>\n",
       "      <td>0</td>\n",
       "    </tr>\n",
       "    <tr>\n",
       "      <th>4</th>\n",
       "      <td>0</td>\n",
       "      <td>137</td>\n",
       "      <td>40</td>\n",
       "      <td>35</td>\n",
       "      <td>168</td>\n",
       "      <td>43.1</td>\n",
       "      <td>2.288</td>\n",
       "      <td>33</td>\n",
       "      <td>1</td>\n",
       "    </tr>\n",
       "  </tbody>\n",
       "</table>\n",
       "</div>"
      ],
      "text/plain": [
       "   preg  plas  pres  skin  insu   bmi   pedi  age  class\n",
       "0     6   148    72    35     0  33.6  0.627   50      1\n",
       "1     1    85    66    29     0  26.6  0.351   31      0\n",
       "2     8   183    64     0     0  23.3  0.672   32      1\n",
       "3     1    89    66    23    94  28.1  0.167   21      0\n",
       "4     0   137    40    35   168  43.1  2.288   33      1"
      ]
     },
     "execution_count": 1,
     "metadata": {},
     "output_type": "execute_result"
    }
   ],
   "source": [
    "# 0.Data Preparation\n",
    "# 1.Data Cleansing (ไม่มีการทำ)\n",
    "import pandas as pd\n",
    "import numpy as np\n",
    "import matplotlib.pyplot as plt\n",
    "import seaborn as sns\n",
    "sns.set() # ตั้งค่ารกราฟสำหรับ seaborn\n",
    "\n",
    "cols = ['preg', 'plas', 'pres', 'skin', 'insu', 'bmi', 'pedi', 'age', 'class']\n",
    "df = pd.read_csv('data/pima-indians-diabetes.csv', names=cols)\n",
    "print(df.shape)\n",
    "df.head()"
   ]
  },
  {
   "cell_type": "code",
   "execution_count": 2,
   "metadata": {},
   "outputs": [
    {
     "name": "stdout",
     "output_type": "stream",
     "text": [
      "(768, 7) (768,)\n"
     ]
    }
   ],
   "source": [
    "# 2.Missing Data\n",
    "\n",
    "df.drop('insu', axis=1, inplace=True) # ตัดและเติมข้อมูล missing data\n",
    "# แทนข้อมูล 0 ด้วย median\n",
    "df['bmi'] = df.bmi.replace(0, df.bmi.median())\n",
    "df['plas'] = df.plas.replace(0,df.plas.median())\n",
    "df['pres'] = df.pres.replace(0, df.pres.median())\n",
    "df['skin'] = df.skin.replace(0, df.skin.median())\n",
    "\n",
    "X = df.drop('class', axis=1) # Features\n",
    "y = df['class'] # Class / Target / Label\n",
    "print(X.shape, y.shape)\n"
   ]
  },
  {
   "cell_type": "code",
   "execution_count": 3,
   "metadata": {},
   "outputs": [
    {
     "name": "stdout",
     "output_type": "stream",
     "text": [
      "cross val scores [0.73 0.74 0.69 0.69 0.68 0.71 0.75 0.74 0.7  0.74]\n",
      "Average (%) =71.61\n"
     ]
    }
   ],
   "source": [
    "#\n",
    "from sklearn.model_selection import cross_val_score\n",
    "from sklearn.tree import DecisionTreeClassifier\n",
    "\n",
    "model1 = DecisionTreeClassifier(criterion='entropy', max_depth=None)\n",
    "cvs = cross_val_score(model1, X, y, cv=10)\n",
    "print('cross val scores {}'.format(cvs.round(2)))\n",
    "print('Average (%) ={:.2f}' .format(cvs.mean()*100))"
   ]
  },
  {
   "cell_type": "code",
   "execution_count": 4,
   "metadata": {},
   "outputs": [
    {
     "name": "stdout",
     "output_type": "stream",
     "text": [
      "cross val scores [0.69 0.78 0.68 0.69 0.71 0.7  0.77 0.7  0.71 0.75]\n",
      "Average (%) =71.75\n"
     ]
    }
   ],
   "source": [
    "from sklearn.model_selection import cross_val_score\n",
    "from sklearn.tree import DecisionTreeClassifier\n",
    "\n",
    "model2 = DecisionTreeClassifier(criterion='entropy', max_depth=None)\n",
    "cvs = cross_val_score(model2, X, y, cv=10)\n",
    "print('cross val scores {}'.format(cvs.round(2)))\n",
    "print('Average (%) ={:.2f}' .format(cvs.mean()*100))"
   ]
  },
  {
   "cell_type": "markdown",
   "metadata": {},
   "source": [
    "#การใช้ Hyper parameter ที่แตกต่างกันจะเห็นว่า cross val scores ได้แตกต่างกัน"
   ]
  },
  {
   "cell_type": "markdown",
   "metadata": {},
   "source": [
    "# Workshop 2 : เปรียบเทียบอัลกอริทึม"
   ]
  },
  {
   "cell_type": "code",
   "execution_count": 5,
   "metadata": {},
   "outputs": [
    {
     "data": {
      "text/html": [
       "<div>\n",
       "<style scoped>\n",
       "    .dataframe tbody tr th:only-of-type {\n",
       "        vertical-align: middle;\n",
       "    }\n",
       "\n",
       "    .dataframe tbody tr th {\n",
       "        vertical-align: top;\n",
       "    }\n",
       "\n",
       "    .dataframe thead th {\n",
       "        text-align: right;\n",
       "    }\n",
       "</style>\n",
       "<table border=\"1\" class=\"dataframe\">\n",
       "  <thead>\n",
       "    <tr style=\"text-align: right;\">\n",
       "      <th></th>\n",
       "      <th>preg</th>\n",
       "      <th>plas</th>\n",
       "      <th>pres</th>\n",
       "      <th>skin</th>\n",
       "      <th>bmi</th>\n",
       "      <th>pedi</th>\n",
       "      <th>age</th>\n",
       "    </tr>\n",
       "  </thead>\n",
       "  <tbody>\n",
       "    <tr>\n",
       "      <th>0</th>\n",
       "      <td>0.35</td>\n",
       "      <td>0.67</td>\n",
       "      <td>0.49</td>\n",
       "      <td>0.30</td>\n",
       "      <td>0.31</td>\n",
       "      <td>0.23</td>\n",
       "      <td>0.48</td>\n",
       "    </tr>\n",
       "    <tr>\n",
       "      <th>1</th>\n",
       "      <td>0.06</td>\n",
       "      <td>0.26</td>\n",
       "      <td>0.43</td>\n",
       "      <td>0.24</td>\n",
       "      <td>0.17</td>\n",
       "      <td>0.12</td>\n",
       "      <td>0.17</td>\n",
       "    </tr>\n",
       "    <tr>\n",
       "      <th>2</th>\n",
       "      <td>0.47</td>\n",
       "      <td>0.90</td>\n",
       "      <td>0.41</td>\n",
       "      <td>0.17</td>\n",
       "      <td>0.10</td>\n",
       "      <td>0.25</td>\n",
       "      <td>0.18</td>\n",
       "    </tr>\n",
       "    <tr>\n",
       "      <th>3</th>\n",
       "      <td>0.06</td>\n",
       "      <td>0.29</td>\n",
       "      <td>0.43</td>\n",
       "      <td>0.17</td>\n",
       "      <td>0.20</td>\n",
       "      <td>0.04</td>\n",
       "      <td>0.00</td>\n",
       "    </tr>\n",
       "    <tr>\n",
       "      <th>4</th>\n",
       "      <td>0.00</td>\n",
       "      <td>0.60</td>\n",
       "      <td>0.16</td>\n",
       "      <td>0.30</td>\n",
       "      <td>0.51</td>\n",
       "      <td>0.94</td>\n",
       "      <td>0.20</td>\n",
       "    </tr>\n",
       "  </tbody>\n",
       "</table>\n",
       "</div>"
      ],
      "text/plain": [
       "   preg  plas  pres  skin   bmi  pedi   age\n",
       "0  0.35  0.67  0.49  0.30  0.31  0.23  0.48\n",
       "1  0.06  0.26  0.43  0.24  0.17  0.12  0.17\n",
       "2  0.47  0.90  0.41  0.17  0.10  0.25  0.18\n",
       "3  0.06  0.29  0.43  0.17  0.20  0.04  0.00\n",
       "4  0.00  0.60  0.16  0.30  0.51  0.94  0.20"
      ]
     },
     "execution_count": 5,
     "metadata": {},
     "output_type": "execute_result"
    }
   ],
   "source": [
    "# ลดสเกลเพื่อไม่ให้ features ตัวใดตัวหนึ่งมีอิทธิพลมากกว่ากันเนื่องจากตัวแปรที่มีค่ามากๆจะมีความไวในการตอบสนองมากกว่าจึงต้องปรับสเกล 0-1 (Normalize)\n",
    "from sklearn.preprocessing import MinMaxScaler as Scaler\n",
    "\n",
    "X = X.astype('float64') # เปลี่ยนจาก int เป็น float64\n",
    "sc = Scaler()\n",
    "X_sc = sc.fit_transform(X)\n",
    "\n",
    "df_sc = pd.DataFrame(X_sc, columns=X.columns)\n",
    "df_sc.head().round(2)"
   ]
  },
  {
   "cell_type": "code",
   "execution_count": 6,
   "metadata": {},
   "outputs": [],
   "source": [
    "# ทำการ import library สร้าง list model แล้ว loop ประเมินด้วย Cross Validation\n",
    "# ทำการ import library\n",
    "from sklearn.linear_model import LogisticRegression\n",
    "from sklearn.neighbors import KNeighborsClassifier\n",
    "from sklearn.naive_bayes import GaussianNB\n",
    "from sklearn.svm import SVC\n",
    "from sklearn.ensemble import RandomForestClassifier\n",
    "from sklearn.tree import DecisionTreeClassifier"
   ]
  },
  {
   "cell_type": "code",
   "execution_count": 7,
   "metadata": {},
   "outputs": [],
   "source": [
    "# สร้าง list model\n",
    "models = []\n",
    "models.append(('LR', LogisticRegression()))\n",
    "models.append(('kNN', KNeighborsClassifier()))\n",
    "models.append(('NB', GaussianNB()))\n",
    "models.append(('SVC', SVC()))\n",
    "models.append(('RFC', RandomForestClassifier()))\n",
    "models.append(('DT', DecisionTreeClassifier()))"
   ]
  },
  {
   "cell_type": "code",
   "execution_count": 8,
   "metadata": {},
   "outputs": [
    {
     "name": "stdout",
     "output_type": "stream",
     "text": [
      "LR   0.764 (0.030)\n",
      "kNN  0.729 (0.051)\n",
      "NB   0.751 (0.038)\n",
      "SVC  0.762 (0.045)\n",
      "RFC  0.753 (0.059)\n",
      "DT   0.695 (0.064)\n"
     ]
    }
   ],
   "source": [
    "#  loop ประเมินด้วย Cross Validation\n",
    "from sklearn.model_selection import cross_val_score\n",
    "\n",
    "results = []\n",
    "names = []\n",
    "\n",
    "for name, model in models:\n",
    "    cvs = cross_val_score(model, X_sc, y, cv=10)\n",
    "    names.append(name) # เอาตัวแปร name ไปเก็บชื่อโมเดลจาก models\n",
    "    cvs = cross_val_score(model, X_sc, y, cv=10) # ตัวแปร model เก็บค่ามาจาก models ลำดับที่ 2 เช่น naemeเก็บ'LR' และ model เก็บ LogisticRegression()\n",
    "    results.append(cvs) # เอาผล cvs ที่คำนวณได้เก็บไว้ใน results\n",
    "    print('{:4} {:.3f} ({:.3f})'.format(name, cvs.mean(), cvs.std())) #ปริ๊นผล"
   ]
  },
  {
   "cell_type": "code",
   "execution_count": 9,
   "metadata": {},
   "outputs": [
    {
     "data": {
      "text/plain": [
       "[array([0.75324675, 0.76623377, 0.76623377, 0.72727273, 0.75324675,\n",
       "        0.79220779, 0.76623377, 0.79220779, 0.71052632, 0.81578947]),\n",
       " array([0.67532468, 0.79220779, 0.80519481, 0.67532468, 0.68831169,\n",
       "        0.74025974, 0.75324675, 0.79220779, 0.69736842, 0.67105263]),\n",
       " array([0.75324675, 0.74025974, 0.75324675, 0.66233766, 0.72727273,\n",
       "        0.76623377, 0.75324675, 0.81818182, 0.75      , 0.78947368]),\n",
       " array([0.74025974, 0.79220779, 0.81818182, 0.67532468, 0.71428571,\n",
       "        0.76623377, 0.79220779, 0.77922078, 0.72368421, 0.81578947]),\n",
       " array([0.7012987 , 0.79220779, 0.74025974, 0.66233766, 0.71428571,\n",
       "        0.75324675, 0.83116883, 0.83116883, 0.68421053, 0.81578947]),\n",
       " array([0.62337662, 0.77922078, 0.62337662, 0.63636364, 0.66233766,\n",
       "        0.64935065, 0.77922078, 0.76623377, 0.67105263, 0.76315789])]"
      ]
     },
     "execution_count": 9,
     "metadata": {},
     "output_type": "execute_result"
    }
   ],
   "source": [
    "results[:6]"
   ]
  },
  {
   "cell_type": "code",
   "execution_count": 10,
   "metadata": {},
   "outputs": [
    {
     "data": {
      "image/png": "[encoded data removed]",
      "text/plain": [
       "<Figure size 432x288 with 1 Axes>"
      ]
     },
     "metadata": {},
     "output_type": "display_data"
    }
   ],
   "source": [
    "# พล็อตกราฟ boxplot เพื่อเลือก Best of algorithm\n",
    "fig = plt.figure()\n",
    "fig.suptitle('Algorithm Comparison')\n",
    "ax = fig.add_subplot(111) # row column id\n",
    "plt.boxplot(results) # plot box plot\n",
    "ax.set_xticklabels(names) # เลเบลชื่อ แกน x\n",
    "plt.show()"
   ]
  },
  {
   "cell_type": "markdown",
   "metadata": {},
   "source": [
    "# Workshop 3 : วิธีที่ 1 หาค่าพารามิเตอร์ด้วย Grid Search"
   ]
  },
  {
   "cell_type": "code",
   "execution_count": 11,
   "metadata": {},
   "outputs": [
    {
     "name": "stdout",
     "output_type": "stream",
     "text": [
      "Fitting 10 folds for each of 216 candidates, totalling 2160 fits\n"
     ]
    },
    {
     "name": "stderr",
     "output_type": "stream",
     "text": [
      "[Parallel(n_jobs=1)]: Using backend SequentialBackend with 1 concurrent workers.\n",
      "[Parallel(n_jobs=1)]: Done 2160 out of 2160 | elapsed:   29.6s finished\n"
     ]
    },
    {
     "data": {
      "text/plain": [
       "0.7721291866028708"
      ]
     },
     "execution_count": 11,
     "metadata": {},
     "output_type": "execute_result"
    }
   ],
   "source": [
    "from sklearn.model_selection import GridSearchCV\n",
    "\n",
    "\n",
    "param_grid = {\n",
    "        'C': [1.0, 3.0, 5.0],\n",
    "        'kernel': ['linear', 'rbf', 'poly', 'sigmoid'],\n",
    "        'shrinking': [True, False],\n",
    "        'gamma': ['auto', 1, 0.1],\n",
    "        'coef0': [0.0, 0.1, 0.5]\n",
    "}\n",
    "\n",
    "model = SVC()\n",
    "grid_search = GridSearchCV(\n",
    "    model, param_grid, cv=10, scoring='accuracy', verbose=1)\n",
    "grid_search.fit(X_sc, y)\n",
    "\n",
    "grid_search.best_score_ #, grid_search.best_estimator_\n",
    "\n"
   ]
  },
  {
   "cell_type": "code",
   "execution_count": 12,
   "metadata": {},
   "outputs": [
    {
     "data": {
      "text/plain": [
       "{'C': 3.0, 'coef0': 0.0, 'gamma': 1, 'kernel': 'rbf', 'shrinking': True}"
      ]
     },
     "execution_count": 12,
     "metadata": {},
     "output_type": "execute_result"
    }
   ],
   "source": [
    "# ต้้องการดู Parameter ที่ดีที่สุด\n",
    "grid_search.best_params_"
   ]
  },
  {
   "cell_type": "code",
   "execution_count": 13,
   "metadata": {},
   "outputs": [
    {
     "data": {
      "text/plain": [
       "SVC(C=3.0, break_ties=False, cache_size=200, class_weight=None, coef0=0.0,\n",
       "    decision_function_shape='ovr', degree=3, gamma=1, kernel='rbf', max_iter=-1,\n",
       "    probability=False, random_state=None, shrinking=True, tol=0.001,\n",
       "    verbose=False)"
      ]
     },
     "execution_count": 13,
     "metadata": {},
     "output_type": "execute_result"
    }
   ],
   "source": [
    "# ต้้องการดู Parameter ที่ดีที่สุด แบบเต็มๆ\n",
    "grid_search.best_estimator_"
   ]
  },
  {
   "cell_type": "code",
   "execution_count": 14,
   "metadata": {},
   "outputs": [
    {
     "name": "stdout",
     "output_type": "stream",
     "text": [
      "3.0\n",
      "rbf\n",
      "1\n",
      "0.0\n"
     ]
    }
   ],
   "source": [
    "# ต้องการดูแต่ละค่า\n",
    "print(grid_search.best_estimator_.C)\n",
    "print(grid_search.best_estimator_.kernel)\n",
    "print(grid_search.best_estimator_.gamma)\n",
    "print(grid_search.best_estimator_.coef0)"
   ]
  },
  {
   "cell_type": "code",
   "execution_count": 15,
   "metadata": {},
   "outputs": [
    {
     "name": "stdout",
     "output_type": "stream",
     "text": [
      "cross val scores [0.75 0.79 0.79 0.71 0.74 0.79 0.79 0.81 0.72 0.82]\n",
      "Average (%) = 77.21\n"
     ]
    }
   ],
   "source": [
    "# ทดสอบ Cross Val score โดยใช้พารามิเตอร์ที่ Grid search แนะนำ\n",
    "from sklearn.model_selection import cross_val_score\n",
    "\n",
    "model = grid_search.best_estimator_ # ใช้ค่าจาก Grid Search CV\n",
    "cvs = cross_val_score(model, X_sc, y, cv=10)\n",
    "print('cross val scores {}'.format(cvs.round(2)))\n",
    "print('Average (%) = {:.2f}' .format(cvs.mean() * 100 ))"
   ]
  },
  {
   "cell_type": "code",
   "execution_count": 16,
   "metadata": {},
   "outputs": [
    {
     "name": "stdout",
     "output_type": "stream",
     "text": [
      "cross val scores [0.74 0.77 0.79 0.71 0.74 0.81 0.78 0.79 0.72 0.82]\n",
      "Average (%) = 76.69\n"
     ]
    }
   ],
   "source": [
    "# ลองเปรียบเทียบโดยใช้ model อื่นแล้วเทียบ\n",
    "model = SVC(kernel='linear')\n",
    "cvs = cross_val_score(model, X_sc, y, cv=10)\n",
    "print('cross val scores {}'.format(cvs.round(2)))\n",
    "print('Average (%) = {:.2f}' .format(cvs.mean() * 100 ))\n",
    "#จะได้ค่า cross val น้อยกว่า ใช้พารามิเตอร์ที่ grid search แนะนำ"
   ]
  },
  {
   "cell_type": "markdown",
   "metadata": {},
   "source": [
    "# Workshop 4 : การนำค่าพารามิเตอร์ไปใช้งาน\n"
   ]
  },
  {
   "cell_type": "raw",
   "metadata": {},
   "source": [
    "#ก็อปมาจาก grid_search.best_estimator_ ก็ได้\n",
    "SVC(C=3.0, break_ties=False, cache_size=200, class_weight=None, coef0=0.0,\n",
    "    decision_function_shape='ovr', degree=3, gamma=1, kernel='rbf', max_iter=-1,\n",
    "    probability=False, random_state=None, shrinking=True, tol=0.001,\n",
    "    verbose=False)"
   ]
  },
  {
   "cell_type": "code",
   "execution_count": 17,
   "metadata": {},
   "outputs": [],
   "source": [
    "model = grid_search.best_estimator_ # ใช้ค่าจาก Grid Search\n",
    "# หรือเอามาแต่ค่าที่จำเป็น ที่เหลือเป็น default"
   ]
  },
  {
   "cell_type": "code",
   "execution_count": 18,
   "metadata": {},
   "outputs": [
    {
     "data": {
      "text/plain": [
       "SVC(C=3.0, break_ties=False, cache_size=200, class_weight=None, coef0=0.0,\n",
       "    decision_function_shape='ovr', degree=3, gamma=1, kernel='rbf', max_iter=-1,\n",
       "    probability=False, random_state=None, shrinking=True, tol=0.001,\n",
       "    verbose=False)"
      ]
     },
     "execution_count": 18,
     "metadata": {},
     "output_type": "execute_result"
    }
   ],
   "source": [
    "# Train model\n",
    "model.fit(X_sc, y)"
   ]
  },
  {
   "cell_type": "code",
   "execution_count": 19,
   "metadata": {},
   "outputs": [
    {
     "name": "stdout",
     "output_type": "stream",
     "text": [
      "[1 0]\n"
     ]
    }
   ],
   "source": [
    "# ทดลองทำนายโรคเบาหวาน\n",
    "# วัดค่าพารามิเตอร์ต่างๆของผู้ป่วยรายใหม่\n",
    "new_df = pd.DataFrame([[5, 145, 70, 34, 32, .6, 49],\n",
    "                       [2,  84, 66, 28, 25, .4, 30]])\n",
    "new_df_sc = sc.transform(new_df) # scale values\n",
    "predict = model.predict(new_df_sc) # predict\n",
    "print(predict)\n",
    "# คนแรกมีโอกาสเป็นเยาหวาน คนที่สองไม่เป็น"
   ]
  },
  {
   "cell_type": "markdown",
   "metadata": {},
   "source": [
    "# Workshop 5 : หาค่าพารามิเตอร์ด้วย Grid Randomized"
   ]
  },
  {
   "cell_type": "code",
   "execution_count": 20,
   "metadata": {},
   "outputs": [
    {
     "data": {
      "text/plain": [
       "0.7734449760765552"
      ]
     },
     "execution_count": 20,
     "metadata": {},
     "output_type": "execute_result"
    }
   ],
   "source": [
    "# import library ที่เกี่ยวข้อง\n",
    "from sklearn.model_selection import RandomizedSearchCV\n",
    "from scipy.stats import uniform\n",
    "\n",
    "param_dist = {\n",
    "    'C': uniform(1.0,5.0),\n",
    "    'kernel': ['linear', 'rbf', 'poly', 'sigmoid'],\n",
    "    'shrinking': [True, False],\n",
    "    'gamma': ['auto', 1, 0.1],\n",
    "    'coef0': [0.0, 0.1, 0.5]\n",
    "}\n",
    "\n",
    "model = SVC()\n",
    "rnd_search = RandomizedSearchCV(\n",
    "            model, param_dist, n_iter=100, cv=10, scoring='accuracy') \n",
    "\n",
    "rnd_search.fit(X_sc, y)\n",
    "rnd_search.best_score_\n"
   ]
  },
  {
   "cell_type": "code",
   "execution_count": 21,
   "metadata": {},
   "outputs": [
    {
     "data": {
      "text/plain": [
       "{'C': 3.2798568964845183,\n",
       " 'coef0': 0.5,\n",
       " 'gamma': 'auto',\n",
       " 'kernel': 'poly',\n",
       " 'shrinking': True}"
      ]
     },
     "execution_count": 21,
     "metadata": {},
     "output_type": "execute_result"
    }
   ],
   "source": [
    "# บอกพารามิเตอร์ที่ดีที่สุด\n",
    "rnd_search.best_params_"
   ]
  },
  {
   "cell_type": "code",
   "execution_count": 22,
   "metadata": {},
   "outputs": [
    {
     "data": {
      "text/plain": [
       "SVC(C=3.2798568964845183, break_ties=False, cache_size=200, class_weight=None,\n",
       "    coef0=0.5, decision_function_shape='ovr', degree=3, gamma='auto',\n",
       "    kernel='poly', max_iter=-1, probability=False, random_state=None,\n",
       "    shrinking=True, tol=0.001, verbose=False)"
      ]
     },
     "execution_count": 22,
     "metadata": {},
     "output_type": "execute_result"
    }
   ],
   "source": [
    "rnd_search.best_estimator_"
   ]
  },
  {
   "cell_type": "code",
   "execution_count": 23,
   "metadata": {},
   "outputs": [
    {
     "data": {
      "text/plain": [
       "0.7721291866028708"
      ]
     },
     "execution_count": 23,
     "metadata": {},
     "output_type": "execute_result"
    }
   ],
   "source": [
    "# ในกรณีที่มีพารามิเตอร์เป็นจำนวนเต็มต้องใช้ randint\n",
    "from scipy.stats import randint\n",
    "param_dist = {\n",
    "    'C': randint(1,5),\n",
    "    'kernel': ['linear', 'rbf', 'poly', 'sigmoid'],\n",
    "    'shrinking': [True, False],\n",
    "    'gamma': ['auto', 1, 0.1],\n",
    "    'coef0': [0.0, 0.1, 0.5]\n",
    "}\n",
    "odel = SVC()\n",
    "rnd_search = RandomizedSearchCV(\n",
    "            model, param_dist, n_iter=100, cv=10, scoring='accuracy') \n",
    "\n",
    "rnd_search.fit(X_sc, y)\n",
    "rnd_search.best_score_"
   ]
  },
  {
   "cell_type": "code",
   "execution_count": 24,
   "metadata": {},
   "outputs": [
    {
     "name": "stdout",
     "output_type": "stream",
     "text": [
      "cross val scores [0.7532 0.7922 0.7922 0.7143 0.7403 0.7922 0.7922 0.8052 0.7237 0.8158]\n",
      "Average (%) = 77.21\n"
     ]
    }
   ],
   "source": [
    "# ทดสอบ Cross val score ด้วยพารามิเตอร์ที่ได้จาก Randomized Search\n",
    "from sklearn.model_selection import cross_val_score\n",
    "\n",
    "model = grid_search.best_estimator_\n",
    "\n",
    "cvs = cross_val_score(model, X_sc, y, cv=10)\n",
    "print('cross val scores {}'.format(cvs.round(4)))\n",
    "print('Average (%) = {:.2f}' .format(cvs.mean() * 100 ))"
   ]
  },
  {
   "cell_type": "markdown",
   "metadata": {},
   "source": [
    "# Workshop 6 :ลอง Grid Search กับ Decision Tree "
   ]
  },
  {
   "cell_type": "code",
   "execution_count": 25,
   "metadata": {},
   "outputs": [],
   "source": [
    "from sklearn.model_selection import GridSearchCV\n",
    "\n",
    "param_grid = {\n",
    "        'criterion': ['gini','entropy'], # Algorithm ในการคำนวณคัดหาตัวแบ่ง Tree\n",
    "        'max_depth': [2, 3, 4, 5], # ความลึกของต้นไม้\n",
    "        'min_samples_split': [2, 3, 4, 5] # จำนวน Sample ต่ำสุดที่จะแยก Node\n",
    "}\n",
    "\n",
    "model = DecisionTreeClassifier()"
   ]
  },
  {
   "cell_type": "code",
   "execution_count": 26,
   "metadata": {},
   "outputs": [
    {
     "name": "stdout",
     "output_type": "stream",
     "text": [
      "Fitting 10 folds for each of 32 candidates, totalling 320 fits\n"
     ]
    },
    {
     "name": "stderr",
     "output_type": "stream",
     "text": [
      "[Parallel(n_jobs=1)]: Using backend SequentialBackend with 1 concurrent workers.\n",
      "[Parallel(n_jobs=1)]: Done 320 out of 320 | elapsed:    1.6s finished\n"
     ]
    },
    {
     "data": {
      "text/plain": [
       "0.7369958988380041"
      ]
     },
     "execution_count": 26,
     "metadata": {},
     "output_type": "execute_result"
    }
   ],
   "source": [
    "grid_search = GridSearchCV(\n",
    "            model, param_grid, cv=10, scoring='accuracy', verbose=1)\n",
    "grid_search.fit(X_sc, y) # ใช้ Xที่ไม่ได้ทำ scaler ก็ได้ แต่จตะใช้เวลานานกว่า\n",
    "grid_search.best_score_ # ได้ความแม่นยำ 0.7369 ใช้เวลา 0.9s fit 320 ครั้ง"
   ]
  },
  {
   "cell_type": "code",
   "execution_count": 27,
   "metadata": {},
   "outputs": [
    {
     "data": {
      "text/plain": [
       "DecisionTreeClassifier(ccp_alpha=0.0, class_weight=None, criterion='gini',\n",
       "                       max_depth=2, max_features=None, max_leaf_nodes=None,\n",
       "                       min_impurity_decrease=0.0, min_impurity_split=None,\n",
       "                       min_samples_leaf=1, min_samples_split=2,\n",
       "                       min_weight_fraction_leaf=0.0, presort='deprecated',\n",
       "                       random_state=None, splitter='best')"
      ]
     },
     "execution_count": 27,
     "metadata": {},
     "output_type": "execute_result"
    }
   ],
   "source": [
    "grid_search.best_params_ # ดูโดยย่อ\n",
    "grid_search.best_estimator_ # ดูแบบเต็ม"
   ]
  },
  {
   "cell_type": "markdown",
   "metadata": {},
   "source": [
    "# Worlshop 7 : Randomized Search กับ Decision Tree"
   ]
  },
  {
   "cell_type": "code",
   "execution_count": 28,
   "metadata": {},
   "outputs": [],
   "source": [
    "# ทดลองใช้ Randomized Search กับ Decision Tree"
   ]
  },
  {
   "cell_type": "code",
   "execution_count": 39,
   "metadata": {},
   "outputs": [
    {
     "name": "stdout",
     "output_type": "stream",
     "text": [
      "Fitting 10 folds for each of 10 candidates, totalling 100 fits\n"
     ]
    },
    {
     "name": "stderr",
     "output_type": "stream",
     "text": [
      "[Parallel(n_jobs=1)]: Using backend SequentialBackend with 1 concurrent workers.\n",
      "[Parallel(n_jobs=1)]: Done 100 out of 100 | elapsed:    0.3s finished\n"
     ]
    },
    {
     "data": {
      "text/plain": [
       "0.7369617224880383"
      ]
     },
     "execution_count": 39,
     "metadata": {},
     "output_type": "execute_result"
    }
   ],
   "source": [
    "from sklearn.model_selection import RandomizedSearchCV\n",
    "from scipy.stats import uniform, randint\n",
    "\n",
    "param_dist ={\n",
    "    'criterion': ['gini','entropy'],\n",
    "    'max_depth': randint(2, 5),\n",
    "    'min_samples_split': randint(2, 5)\n",
    "}\n",
    "\n",
    "model = DecisionTreeClassifier()\n",
    "rnd_search = RandomizedSearchCV(\n",
    "            model, param_dist, cv=10, scoring='accuracy',\n",
    "            random_state=10, verbose=1)\n",
    "rnd_search.fit(X_sc, y)\n",
    "rnd_search.best_score_\n",
    "# ได้ความแม่นยำ 0.7369 ใช้เวลา 0.3s fit 100 fits"
   ]
  },
  {
   "cell_type": "code",
   "execution_count": 41,
   "metadata": {},
   "outputs": [
    {
     "data": {
      "text/plain": [
       "{'criterion': 'gini', 'max_depth': 2, 'min_samples_split': 2}"
      ]
     },
     "execution_count": 41,
     "metadata": {},
     "output_type": "execute_result"
    }
   ],
   "source": [
    "grid_search.best_params_ # ดูโดยย่อ\n",
    "#grid_search.best_estimator_ # ดูแบบเต็ม"
   ]
  },
  {
   "cell_type": "code",
   "execution_count": null,
   "metadata": {},
   "outputs": [],
   "source": []
  }
 ],
 "metadata": {
  "kernelspec": {
   "display_name": "Python 3",
   "language": "python",
   "name": "python3"
  },
  "language_info": {
   "codemirror_mode": {
    "name": "ipython",
    "version": 3
   },
   "file_extension": ".py",
   "mimetype": "text/x-python",
   "name": "python",
   "nbconvert_exporter": "python",
   "pygments_lexer": "ipython3",
   "version": "3.7.6"
  }
 },
 "nbformat": 4,
 "nbformat_minor": 4
}
