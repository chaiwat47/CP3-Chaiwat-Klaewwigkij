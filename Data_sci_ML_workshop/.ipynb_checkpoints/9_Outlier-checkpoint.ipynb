{
 "cells": [
  {
   "cell_type": "markdown",
   "metadata": {},
   "source": [
    "# ค่าผิดปกติและการกำจัด "
   ]
  },
  {
   "cell_type": "code",
   "execution_count": 1,
   "metadata": {},
   "outputs": [
    {
     "data": {
      "text/plain": [
       "22.42424242424242"
      ]
     },
     "execution_count": 1,
     "metadata": {},
     "output_type": "execute_result"
    }
   ],
   "source": [
    "# คือค่าข้อมูลที่กระโดดไปจากกลุ่มอื่นอย่างผผิดปกติ หาได้โดย\n",
    "# การใช้ Boxplot ดูจุดข้อมูลผิดปกติ\n",
    "# การคำนวณหาค่าผิดปกติด้วยวิธี IQR\n",
    "# การคำนวณหาค่าผิดปกติด้วย Z-score\n",
    "# การกำจัดค่าผิดปกติ\n",
    "#ใช้ไฟล์ข้อมูลชื่อ outlier_univar.csv\n",
    "# Name : ชื่อลูกค้า\n",
    "# Age : อายุ\n",
    "# Buy : ยอดซื้อสินค้า (หน่วย x 100 บาท เช่น 16 คือ 1600 บาท)\n",
    "# Section : แผนกสินค้า เช่น 1 อาหาร 2ของขวัญ\n",
    "abs(16.50-20.20)/16.5*100 "
   ]
  },
  {
   "cell_type": "markdown",
   "metadata": {},
   "source": [
    "# Workshop 1 : โหลดข้อมูลและตรวจสอบเบื้องต้น"
   ]
  },
  {
   "cell_type": "code",
   "execution_count": 2,
   "metadata": {},
   "outputs": [
    {
     "data": {
      "text/html": [
       "<div>\n",
       "<style scoped>\n",
       "    .dataframe tbody tr th:only-of-type {\n",
       "        vertical-align: middle;\n",
       "    }\n",
       "\n",
       "    .dataframe tbody tr th {\n",
       "        vertical-align: top;\n",
       "    }\n",
       "\n",
       "    .dataframe thead th {\n",
       "        text-align: right;\n",
       "    }\n",
       "</style>\n",
       "<table border=\"1\" class=\"dataframe\">\n",
       "  <thead>\n",
       "    <tr style=\"text-align: right;\">\n",
       "      <th></th>\n",
       "      <th>Age</th>\n",
       "      <th>Buy</th>\n",
       "    </tr>\n",
       "  </thead>\n",
       "  <tbody>\n",
       "    <tr>\n",
       "      <th>count</th>\n",
       "      <td>10.00</td>\n",
       "      <td>10.00</td>\n",
       "    </tr>\n",
       "    <tr>\n",
       "      <th>mean</th>\n",
       "      <td>26.50</td>\n",
       "      <td>20.20</td>\n",
       "    </tr>\n",
       "    <tr>\n",
       "      <th>std</th>\n",
       "      <td>3.63</td>\n",
       "      <td>15.95</td>\n",
       "    </tr>\n",
       "    <tr>\n",
       "      <th>min</th>\n",
       "      <td>22.00</td>\n",
       "      <td>1.00</td>\n",
       "    </tr>\n",
       "    <tr>\n",
       "      <th>25%</th>\n",
       "      <td>25.00</td>\n",
       "      <td>12.62</td>\n",
       "    </tr>\n",
       "    <tr>\n",
       "      <th>50%</th>\n",
       "      <td>25.50</td>\n",
       "      <td>16.50</td>\n",
       "    </tr>\n",
       "    <tr>\n",
       "      <th>75%</th>\n",
       "      <td>28.00</td>\n",
       "      <td>20.25</td>\n",
       "    </tr>\n",
       "    <tr>\n",
       "      <th>max</th>\n",
       "      <td>35.00</td>\n",
       "      <td>60.00</td>\n",
       "    </tr>\n",
       "  </tbody>\n",
       "</table>\n",
       "</div>"
      ],
      "text/plain": [
       "        Age   Buy\n",
       "count 10.00 10.00\n",
       "mean  26.50 20.20\n",
       "std    3.63 15.95\n",
       "min   22.00  1.00\n",
       "25%   25.00 12.62\n",
       "50%   25.50 16.50\n",
       "75%   28.00 20.25\n",
       "max   35.00 60.00"
      ]
     },
     "execution_count": 2,
     "metadata": {},
     "output_type": "execute_result"
    }
   ],
   "source": [
    "%matplotlib inline\n",
    "import matplotlib.pyplot as plt\n",
    "import pandas as pd\n",
    "import seaborn as sns\n",
    "import numpy as np\n",
    "\n",
    "pd.options.display.float_format = '{:,.2f}'.format # กำหนดรูปแบบแสดงทศนิยม 2 ตำแหน่ง\n",
    "uri = 'outlier_univar.csv'\n",
    "df = pd.read_csv(uri)\n",
    "df.dtypes # จะเห็น section เป็น int เปลี่ยนเป็น category\n",
    "df.Section =df.Section.astype('category')\n",
    "df.dtypes\n",
    "# df.head() df.tail() df.sample(5)\n",
    "df.describe() # ตรวจสอบค่าสถิติเบื้องต้น\n",
    "# จากคำสั่ง ค่าmean อยู่ที่ 20.20 ค่า median อยู่ที่ 16.50 ห่างกัน abs(16.50-20.20)/16.5*100 = 22.42 ต่างกัน 22.42% (ใช้ค่า median เป็นฐานการคำนวณ)\n",
    "# ซืึ่งถ้านำค่าเฉลี่ยมาใช้ จะต่่างจากข้อมูลที่เป็นค่าส่วนใหญ่มาก ไม่เหมาะสม (อาจเิดจาก outlier)"
   ]
  },
  {
   "cell_type": "markdown",
   "metadata": {},
   "source": [
    "# Workshop 2 : Data Visualization"
   ]
  },
  {
   "cell_type": "code",
   "execution_count": 3,
   "metadata": {},
   "outputs": [
    {
     "data": {
      "image/png": "[encoded data removed]",
      "text/plain": [
       "<Figure size 432x288 with 1 Axes>"
      ]
     },
     "metadata": {
      "needs_background": "light"
     },
     "output_type": "display_data"
    },
    {
     "data": {
      "image/png": "[encoded data removed]",
      "text/plain": [
       "<Figure size 432x288 with 1 Axes>"
      ]
     },
     "metadata": {},
     "output_type": "display_data"
    }
   ],
   "source": [
    "#df.boxplot('Buy') #ใช้คำสั่งของ Pandas\n",
    "sns.boxplot(df.Buy, width = 0.4) #ใช้ seaborn\n",
    "sns.set_style('whitegrid') #ตั้งค่ารูปแบบกราฟ\n",
    "plt.show()\n",
    "sns.distplot(df.Buy, kde=False, bins=20,color='b') #distplot\n",
    "plt.show()\n",
    "#จากกราฟ boxplot จะเห็นจุด 2 จุด อยู่นอกกราฟน่าจะเป็นค่าผิดปกติ\n",
    "#จากกราฟ distplot จะเห็นข้อมูลขวาสุดที่ผิดปกติ ซ้ายสุดยังไม่ชัด\n",
    "#การหาค่าผิดปกติด้วยวิธี IQR\n",
    "#วิธีแรกคือ IQR (interquatile range) IQR = Q3-Q1 จากนั้นหาค่าบนล่าง\n",
    "# upper = Q3 + 1.5*IQR\n",
    "# lower = Q1 - 1.5*IQR\n",
    "#วิธีนี้จะใช้ได้ดีกับข้อมูลที่ Normality แล้ว (Normality test = True)"
   ]
  },
  {
   "cell_type": "markdown",
   "metadata": {},
   "source": [
    "# Workshop 3 : คำนวณหา Outlier ด้วย IQR"
   ]
  },
  {
   "cell_type": "code",
   "execution_count": 4,
   "metadata": {},
   "outputs": [
    {
     "name": "stdout",
     "output_type": "stream",
     "text": [
      "Q1: 12.625\n",
      "Q3: 20.25\n",
      "IQR:7.625\n",
      "Lower: 1.19 \n",
      "Upper: 31.69\n"
     ]
    }
   ],
   "source": [
    "# ใช้ Pandas\n",
    "# Q3 : DataFrame.ColumnName.quantile(.75)\n",
    "# Q1 : DataFrame.ColumnName.quantile(.25)\n",
    "# ใข้ Numpy\n",
    "# q1,q3 = np.percentile(Datalist,p25,75])\n",
    "q3 = df.Buy.quantile(.75)\n",
    "q1 = df.Buy.quantile(.25)\n",
    "\n",
    "#q1,q3 = np.percentile(df.Buy, [25,75])\n",
    "iqr = q3-q1\n",
    "print('Q1: {}'.format(q1))\n",
    "print('Q3: {}'.format(q3))\n",
    "print('IQR:{}'.format(iqr))\n",
    "upper = q3+1.5*iqr\n",
    "lower = q1-1.5*iqr\n",
    "print('Lower: {:.2f} \\nUpper: {:.2f}'.format(lower, upper))\n",
    "#ข้อมูลสินค้าส่วนใหญ่ควรอยู่ระหว่าง 1.19 - 31.69"
   ]
  },
  {
   "cell_type": "markdown",
   "metadata": {},
   "source": [
    "# Workshop 4 : Visualization ด้วย Boxplot"
   ]
  },
  {
   "cell_type": "code",
   "execution_count": 5,
   "metadata": {},
   "outputs": [
    {
     "data": {
      "image/png": "[encoded data removed]",
      "text/plain": [
       "<Figure size 432x288 with 1 Axes>"
      ]
     },
     "metadata": {},
     "output_type": "display_data"
    }
   ],
   "source": [
    "# จากกราฟ Boxplot จะแสดงขอบเขต Q1 Q3 และจุดที่ต้องสงสัยเป็นค่าผิดปกติ นำค่าที่ได้มาเขียนเส้นขอบเขต Upper Lower\n",
    "plt.axvline(x=q1 , c='b', linestyle ='--',linewidth=1) # เส้นขอบเขต Q1\n",
    "plt.axvline(x=q3, c='g',linestyle='--',linewidth=1) # เส้นขอบเขต Q3\n",
    "plt.axvline(x=lower, c='r',linestyle='--') # เส้นขอบเขตล่าง\n",
    "plt.axvline(x=upper,c='r',linestyle='--') # เส้นขอบเขตบน\n",
    "sns.boxplot(df.Buy, width=0.4, palette='Set2')\n",
    "plt.show()\n",
    "#เส้นประหนาสีแดง ซ้าย ขวา แสดงขอบเขตล่าง lower และขอบเขตบน Upper ส่วนเส้นประตรงกล่อง น้ำเงินและเขียว จะแสดง Q1 และ Q3 ซึ่งตรงกับ\n",
    "#boxplot พอดี แสดงว่าคำนวณถูกต้อง ส่วน 2 ข้อมูล(2จุด) ที่อยู่นอกขอบ คือ Outliers ที่จะต้องกำจัดออกไป"
   ]
  },
  {
   "cell_type": "markdown",
   "metadata": {},
   "source": [
    "# Workshop 5 : กำจัดค่าผิดปกติเหนือขอบเขตบน"
   ]
  },
  {
   "cell_type": "code",
   "execution_count": 6,
   "metadata": {},
   "outputs": [
    {
     "data": {
      "text/html": [
       "<div>\n",
       "<style scoped>\n",
       "    .dataframe tbody tr th:only-of-type {\n",
       "        vertical-align: middle;\n",
       "    }\n",
       "\n",
       "    .dataframe tbody tr th {\n",
       "        vertical-align: top;\n",
       "    }\n",
       "\n",
       "    .dataframe thead th {\n",
       "        text-align: right;\n",
       "    }\n",
       "</style>\n",
       "<table border=\"1\" class=\"dataframe\">\n",
       "  <thead>\n",
       "    <tr style=\"text-align: right;\">\n",
       "      <th></th>\n",
       "      <th>Name</th>\n",
       "      <th>Age</th>\n",
       "      <th>Buy</th>\n",
       "      <th>Section</th>\n",
       "    </tr>\n",
       "  </thead>\n",
       "  <tbody>\n",
       "    <tr>\n",
       "      <th>0</th>\n",
       "      <td>Kobkiat</td>\n",
       "      <td>25</td>\n",
       "      <td>18.00</td>\n",
       "      <td>1</td>\n",
       "    </tr>\n",
       "    <tr>\n",
       "      <th>1</th>\n",
       "      <td>Ninan</td>\n",
       "      <td>22</td>\n",
       "      <td>16.00</td>\n",
       "      <td>1</td>\n",
       "    </tr>\n",
       "    <tr>\n",
       "      <th>2</th>\n",
       "      <td>John</td>\n",
       "      <td>25</td>\n",
       "      <td>11.50</td>\n",
       "      <td>2</td>\n",
       "    </tr>\n",
       "    <tr>\n",
       "      <th>3</th>\n",
       "      <td>Tim</td>\n",
       "      <td>35</td>\n",
       "      <td>10.50</td>\n",
       "      <td>2</td>\n",
       "    </tr>\n",
       "    <tr>\n",
       "      <th>4</th>\n",
       "      <td>Steal</td>\n",
       "      <td>28</td>\n",
       "      <td>17.00</td>\n",
       "      <td>1</td>\n",
       "    </tr>\n",
       "    <tr>\n",
       "      <th>5</th>\n",
       "      <td>Mark</td>\n",
       "      <td>28</td>\n",
       "      <td>16.00</td>\n",
       "      <td>2</td>\n",
       "    </tr>\n",
       "    <tr>\n",
       "      <th>6</th>\n",
       "      <td>Dang</td>\n",
       "      <td>23</td>\n",
       "      <td>31.00</td>\n",
       "      <td>1</td>\n",
       "    </tr>\n",
       "    <tr>\n",
       "      <th>7</th>\n",
       "      <td>Bash</td>\n",
       "      <td>26</td>\n",
       "      <td>1.00</td>\n",
       "      <td>2</td>\n",
       "    </tr>\n",
       "    <tr>\n",
       "      <th>9</th>\n",
       "      <td>Bob</td>\n",
       "      <td>28</td>\n",
       "      <td>21.00</td>\n",
       "      <td>2</td>\n",
       "    </tr>\n",
       "  </tbody>\n",
       "</table>\n",
       "</div>"
      ],
      "text/plain": [
       "      Name  Age   Buy Section\n",
       "0  Kobkiat   25 18.00       1\n",
       "1    Ninan   22 16.00       1\n",
       "2     John   25 11.50       2\n",
       "3      Tim   35 10.50       2\n",
       "4    Steal   28 17.00       1\n",
       "5     Mark   28 16.00       2\n",
       "6     Dang   23 31.00       1\n",
       "7     Bash   26  1.00       2\n",
       "9      Bob   28 21.00       2"
      ]
     },
     "execution_count": 6,
     "metadata": {},
     "output_type": "execute_result"
    }
   ],
   "source": [
    "# ดูข้อมูลอยู่เหนือขอบเขตบน\n",
    "# สมมุติว่ามีข้อมูลจำนวนมาก เราไม่สามารถมองเห็นด้วยตาได้ทั้งหมด ให้ใช้วิธีนับจำนวนข้อมูลที่อยู่เหนือขอบเขตบน (ค่าที่สูงกว่า Upper) ดังนี้\n",
    "df[df.Buy > upper].Buy.count() # รับเฉพาะคอลัมน์ Buy\n",
    "df[df.Buy > upper].count() #นับทุกคอลัมน์\n",
    "#จะเห็นว่าจำนวณ ข้อมูล Outlier มี 1 ค่า\n",
    "filter = df.Buy > upper\n",
    "df[filter] #ดูคอลัมน์ที่ > upper\n",
    "#นับจำนวนแถวข้อมูลก่อน จะพบว่าตอนนี้มี 10 แถว 4 คอลัมน์\n",
    "df.shape\n",
    "# การลบ\n",
    "df.drop(df[filter].index, inplace=True) # ใช้ค่า filter ใช้ค่าfilterก่อนหน้า\n",
    "df.shape\n",
    "df\n",
    "#หรือคัดกรองค่าเก็บไว้\n",
    "df = df[df.Buy <= upper]\n",
    "df"
   ]
  },
  {
   "cell_type": "markdown",
   "metadata": {},
   "source": [
    "# Workshop 6 : กำจัดค่าผิดปกติใต้ขอบเขตล่าง"
   ]
  },
  {
   "cell_type": "code",
   "execution_count": 7,
   "metadata": {},
   "outputs": [
    {
     "data": {
      "text/html": [
       "<div>\n",
       "<style scoped>\n",
       "    .dataframe tbody tr th:only-of-type {\n",
       "        vertical-align: middle;\n",
       "    }\n",
       "\n",
       "    .dataframe tbody tr th {\n",
       "        vertical-align: top;\n",
       "    }\n",
       "\n",
       "    .dataframe thead th {\n",
       "        text-align: right;\n",
       "    }\n",
       "</style>\n",
       "<table border=\"1\" class=\"dataframe\">\n",
       "  <thead>\n",
       "    <tr style=\"text-align: right;\">\n",
       "      <th></th>\n",
       "      <th>Name</th>\n",
       "      <th>Age</th>\n",
       "      <th>Buy</th>\n",
       "      <th>Section</th>\n",
       "    </tr>\n",
       "  </thead>\n",
       "  <tbody>\n",
       "    <tr>\n",
       "      <th>0</th>\n",
       "      <td>Kobkiat</td>\n",
       "      <td>25</td>\n",
       "      <td>18.00</td>\n",
       "      <td>1</td>\n",
       "    </tr>\n",
       "    <tr>\n",
       "      <th>1</th>\n",
       "      <td>Ninan</td>\n",
       "      <td>22</td>\n",
       "      <td>16.00</td>\n",
       "      <td>1</td>\n",
       "    </tr>\n",
       "    <tr>\n",
       "      <th>2</th>\n",
       "      <td>John</td>\n",
       "      <td>25</td>\n",
       "      <td>11.50</td>\n",
       "      <td>2</td>\n",
       "    </tr>\n",
       "    <tr>\n",
       "      <th>3</th>\n",
       "      <td>Tim</td>\n",
       "      <td>35</td>\n",
       "      <td>10.50</td>\n",
       "      <td>2</td>\n",
       "    </tr>\n",
       "    <tr>\n",
       "      <th>4</th>\n",
       "      <td>Steal</td>\n",
       "      <td>28</td>\n",
       "      <td>17.00</td>\n",
       "      <td>1</td>\n",
       "    </tr>\n",
       "    <tr>\n",
       "      <th>5</th>\n",
       "      <td>Mark</td>\n",
       "      <td>28</td>\n",
       "      <td>16.00</td>\n",
       "      <td>2</td>\n",
       "    </tr>\n",
       "    <tr>\n",
       "      <th>6</th>\n",
       "      <td>Dang</td>\n",
       "      <td>23</td>\n",
       "      <td>31.00</td>\n",
       "      <td>1</td>\n",
       "    </tr>\n",
       "    <tr>\n",
       "      <th>9</th>\n",
       "      <td>Bob</td>\n",
       "      <td>28</td>\n",
       "      <td>21.00</td>\n",
       "      <td>2</td>\n",
       "    </tr>\n",
       "  </tbody>\n",
       "</table>\n",
       "</div>"
      ],
      "text/plain": [
       "      Name  Age   Buy Section\n",
       "0  Kobkiat   25 18.00       1\n",
       "1    Ninan   22 16.00       1\n",
       "2     John   25 11.50       2\n",
       "3      Tim   35 10.50       2\n",
       "4    Steal   28 17.00       1\n",
       "5     Mark   28 16.00       2\n",
       "6     Dang   23 31.00       1\n",
       "9      Bob   28 21.00       2"
      ]
     },
     "execution_count": 7,
     "metadata": {},
     "output_type": "execute_result"
    }
   ],
   "source": [
    "df[df.Buy <= lower].count() # มี 1ค่าน้อยกว่า lower\n",
    "filter = df.Buy <= lower\n",
    "df[filter]\n",
    "df = df[df.Buy >= lower]\n",
    "df\n",
    "df.shape\n",
    "# ตรวจบนล่างพร้อมกัน\n",
    "df[(df.Buy<lower)|(df.Buy>upper)]\n",
    "df[(df.Buy<lower)|(df.Buy>upper)].count() # นับจำนวน\n",
    "#ลิสต์เฉพาะในขอบเขต\n",
    "df[(df.Buy>=lower)&(df.Buy<=upper)] # ลิสต์เฉพาะที่อยู่ภายในขอบเขต lower upper\n",
    "\n",
    "df = df[(df.Buy>=lower)&(df.Buy<=upper)]  #เก็บค่าไว้\n",
    "df"
   ]
  },
  {
   "cell_type": "markdown",
   "metadata": {},
   "source": [
    "# Workshop 7 : ตรวจซ้ำ"
   ]
  },
  {
   "cell_type": "code",
   "execution_count": 8,
   "metadata": {},
   "outputs": [
    {
     "name": "stdout",
     "output_type": "stream",
     "text": [
      "Q3 : 18.75\n",
      "Q1 : 14.875\n",
      "IQR : 3.875\n",
      "Upper : 24.56\n",
      "Lower : 9.06\n"
     ]
    },
    {
     "data": {
      "text/html": [
       "<div>\n",
       "<style scoped>\n",
       "    .dataframe tbody tr th:only-of-type {\n",
       "        vertical-align: middle;\n",
       "    }\n",
       "\n",
       "    .dataframe tbody tr th {\n",
       "        vertical-align: top;\n",
       "    }\n",
       "\n",
       "    .dataframe thead th {\n",
       "        text-align: right;\n",
       "    }\n",
       "</style>\n",
       "<table border=\"1\" class=\"dataframe\">\n",
       "  <thead>\n",
       "    <tr style=\"text-align: right;\">\n",
       "      <th></th>\n",
       "      <th>Age</th>\n",
       "      <th>Buy</th>\n",
       "    </tr>\n",
       "  </thead>\n",
       "  <tbody>\n",
       "    <tr>\n",
       "      <th>count</th>\n",
       "      <td>7.00</td>\n",
       "      <td>7.00</td>\n",
       "    </tr>\n",
       "    <tr>\n",
       "      <th>mean</th>\n",
       "      <td>27.29</td>\n",
       "      <td>15.71</td>\n",
       "    </tr>\n",
       "    <tr>\n",
       "      <th>std</th>\n",
       "      <td>4.07</td>\n",
       "      <td>3.65</td>\n",
       "    </tr>\n",
       "    <tr>\n",
       "      <th>min</th>\n",
       "      <td>22.00</td>\n",
       "      <td>10.50</td>\n",
       "    </tr>\n",
       "    <tr>\n",
       "      <th>25%</th>\n",
       "      <td>25.00</td>\n",
       "      <td>13.75</td>\n",
       "    </tr>\n",
       "    <tr>\n",
       "      <th>50%</th>\n",
       "      <td>28.00</td>\n",
       "      <td>16.00</td>\n",
       "    </tr>\n",
       "    <tr>\n",
       "      <th>75%</th>\n",
       "      <td>28.00</td>\n",
       "      <td>17.50</td>\n",
       "    </tr>\n",
       "    <tr>\n",
       "      <th>max</th>\n",
       "      <td>35.00</td>\n",
       "      <td>21.00</td>\n",
       "    </tr>\n",
       "  </tbody>\n",
       "</table>\n",
       "</div>"
      ],
      "text/plain": [
       "        Age   Buy\n",
       "count  7.00  7.00\n",
       "mean  27.29 15.71\n",
       "std    4.07  3.65\n",
       "min   22.00 10.50\n",
       "25%   25.00 13.75\n",
       "50%   28.00 16.00\n",
       "75%   28.00 17.50\n",
       "max   35.00 21.00"
      ]
     },
     "execution_count": 8,
     "metadata": {},
     "output_type": "execute_result"
    }
   ],
   "source": [
    "#หลังจากกำจัดให้ลองทำ IQR แล้วตรวจซ้ำยังเหลืออยู่หรือไม่\n",
    "\n",
    "q3 = df.Buy.quantile(.75)\n",
    "q1 = df.Buy.quantile(.25)\n",
    "iqr = q3-q1\n",
    "upper = q3+1.5*iqr\n",
    "lower = q1-1.5*iqr\n",
    "\n",
    "print('Q3 : {}\\nQ1 : {}\\nIQR : {}'.format(q3,q1,iqr))\n",
    "print('Upper : {:.2f}\\nLower : {:.2f}'.format(upper,lower))\n",
    "df.shape\n",
    "#df\n",
    "filter = df.Buy > upper\n",
    "df.drop(df[filter].index, inplace =True)\n",
    "\n",
    "df.describe()\n",
    "# จะเห็น ค่าเฉลี่ยเริ่มต้นต่างจากเดิม กลายเป็น 15.72 จาก 20.20 ถ้านำค่าก่อนหน้าไปใช้งานอาจทำให้เกิดความเสียหายต่อธุรกิจได้"
   ]
  },
  {
   "cell_type": "code",
   "execution_count": 9,
   "metadata": {},
   "outputs": [
    {
     "name": "stdout",
     "output_type": "stream",
     "text": [
      "mean: 7.6000000000000005\n",
      "std: 1.6931233465600393\n",
      "-1.5356\n",
      "-0.945\n",
      "0.2362\n",
      "0.8269\n",
      "1.4175\n",
      "-0.0\n"
     ]
    }
   ],
   "source": [
    "# การใช้ Z - score\n",
    "# Z-score เรียกว่าค่ามาตรฐาน หรื คะแนน มาตรฐาน แต่อาจไม่ได้เกี่ยวกับคะแนนก็ได้ ดังนั้น ขอเรียกทับศัพท์ Z-score เป็นค่าการกระจายเหมือนทั่วไป\n",
    "# แต่ปรับให้ค่าเฉลี่ย Mean ให้เป็นศูนย์ และมีการกระจายหรือแจกแจงสัดส่วน % ดังรูป (ไม่กล่าวรายละเอียดการคำนวณ)\n",
    "# ณ จุด ค่าเฉลี่ยของข้อมูล ค่า Z-score จะเท่ากับ 0 การคำนวณ หาค่าผิดปกติ จะยึดถือเกณฑ์\n",
    "# คือ ค่าผิดปกติคือค่าที่ห่างจาก Mean (or Z=0) เกิน + -2.5 ถึง 3.5\n",
    "# Workshop 8 : การคำนวณ Z-score\n",
    "import numpy as np\n",
    "lst = [5,6,8,9,10,7.6] #ตัวอย่่างข้อมูล\n",
    "mean = np.mean(lst) # หาค่าเฉลี่ย\n",
    "std = np.std(lst, ddof=0) #หาค่า SD (ddof คือ degree of freedom)\n",
    "print('mean:',mean)\n",
    "print('std:',std)\n",
    "\n",
    "def z_score(x, m, s): # ฟังก์ชันคำนวณหาค่า Z-score\n",
    "    return (x-m)/s    # Z-score =(x-Mean)/SD\n",
    "for i in lst:\n",
    "    z = z_score(x=i, m=mean, s=std) # วนรอบส่งข้อมูลแต่ละตัว ไปหาค่า Z-score\n",
    "    print (round(z,4))"
   ]
  },
  {
   "cell_type": "markdown",
   "metadata": {},
   "source": [
    "# Workshop 9 : การคนวณ Z=score โดยใช้ไลบรารี"
   ]
  },
  {
   "cell_type": "code",
   "execution_count": null,
   "metadata": {},
   "outputs": [],
   "source": [
    "#ใช้ครั้งเดียว from scipy.stats as zscore\n",
    "import scipy.stats as ss  # import library\n",
    "zsc = ss.zscore(lst, ddof = 0) # คำนวณค่า Z-score (ddof คือ degreeof freedom)\n",
    "for i in zsc:\n",
    "    print(round(i,4))"
   ]
  },
  {
   "cell_type": "markdown",
   "metadata": {},
   "source": [
    "# Workshop 10 : กำจัดค่าผิดปกติด้วย วิธี Z-score"
   ]
  },
  {
   "cell_type": "code",
   "execution_count": 11,
   "metadata": {},
   "outputs": [
    {
     "data": {
      "image/png": "[encoded data removed]",
      "text/plain": [
       "<Figure size 720x216 with 2 Axes>"
      ]
     },
     "metadata": {},
     "output_type": "display_data"
    },
    {
     "data": {
      "image/png": "[encoded data removed]",
      "text/plain": [
       "<Figure size 432x288 with 1 Axes>"
      ]
     },
     "metadata": {},
     "output_type": "display_data"
    },
    {
     "data": {
      "text/html": [
       "<div>\n",
       "<style scoped>\n",
       "    .dataframe tbody tr th:only-of-type {\n",
       "        vertical-align: middle;\n",
       "    }\n",
       "\n",
       "    .dataframe tbody tr th {\n",
       "        vertical-align: top;\n",
       "    }\n",
       "\n",
       "    .dataframe thead th {\n",
       "        text-align: right;\n",
       "    }\n",
       "</style>\n",
       "<table border=\"1\" class=\"dataframe\">\n",
       "  <thead>\n",
       "    <tr style=\"text-align: right;\">\n",
       "      <th></th>\n",
       "      <th>Name</th>\n",
       "      <th>Age</th>\n",
       "      <th>Buy</th>\n",
       "      <th>Section</th>\n",
       "    </tr>\n",
       "  </thead>\n",
       "  <tbody>\n",
       "    <tr>\n",
       "      <th>0</th>\n",
       "      <td>Kobkiat</td>\n",
       "      <td>25</td>\n",
       "      <td>18.00</td>\n",
       "      <td>1</td>\n",
       "    </tr>\n",
       "    <tr>\n",
       "      <th>1</th>\n",
       "      <td>Ninan</td>\n",
       "      <td>22</td>\n",
       "      <td>16.00</td>\n",
       "      <td>1</td>\n",
       "    </tr>\n",
       "    <tr>\n",
       "      <th>2</th>\n",
       "      <td>John</td>\n",
       "      <td>25</td>\n",
       "      <td>11.50</td>\n",
       "      <td>2</td>\n",
       "    </tr>\n",
       "    <tr>\n",
       "      <th>3</th>\n",
       "      <td>Tim</td>\n",
       "      <td>35</td>\n",
       "      <td>10.50</td>\n",
       "      <td>2</td>\n",
       "    </tr>\n",
       "    <tr>\n",
       "      <th>4</th>\n",
       "      <td>Steal</td>\n",
       "      <td>28</td>\n",
       "      <td>17.00</td>\n",
       "      <td>1</td>\n",
       "    </tr>\n",
       "    <tr>\n",
       "      <th>5</th>\n",
       "      <td>Mark</td>\n",
       "      <td>28</td>\n",
       "      <td>16.00</td>\n",
       "      <td>2</td>\n",
       "    </tr>\n",
       "    <tr>\n",
       "      <th>6</th>\n",
       "      <td>Dang</td>\n",
       "      <td>23</td>\n",
       "      <td>31.00</td>\n",
       "      <td>1</td>\n",
       "    </tr>\n",
       "    <tr>\n",
       "      <th>7</th>\n",
       "      <td>Bash</td>\n",
       "      <td>26</td>\n",
       "      <td>1.00</td>\n",
       "      <td>2</td>\n",
       "    </tr>\n",
       "    <tr>\n",
       "      <th>9</th>\n",
       "      <td>Bob</td>\n",
       "      <td>28</td>\n",
       "      <td>21.00</td>\n",
       "      <td>2</td>\n",
       "    </tr>\n",
       "  </tbody>\n",
       "</table>\n",
       "</div>"
      ],
      "text/plain": [
       "      Name  Age   Buy Section\n",
       "0  Kobkiat   25 18.00       1\n",
       "1    Ninan   22 16.00       1\n",
       "2     John   25 11.50       2\n",
       "3      Tim   35 10.50       2\n",
       "4    Steal   28 17.00       1\n",
       "5     Mark   28 16.00       2\n",
       "6     Dang   23 31.00       1\n",
       "7     Bash   26  1.00       2\n",
       "9      Bob   28 21.00       2"
      ]
     },
     "execution_count": 11,
     "metadata": {},
     "output_type": "execute_result"
    }
   ],
   "source": [
    "uri = 'outlier_univar.csv'\n",
    "df = pd.read_csv(uri)\n",
    "df.Section =df.Section.astype('category')\n",
    "\n",
    "df\n",
    "import scipy.stats as ss\n",
    "ss.zscore(df.Buy, ddof=0)\n",
    "# จะได้ข้อมูล Array ที่มีขนาดเท่ากับ DataFrame คือ 10 ค่า เท่ากับข้อมูลต้นฉบับ แต่ละตัวแทนค่่า Z-score ที่คำนวณได้ ตามลำดับข้อมูลต้นฉบับ\n",
    "df['zscore'] = ss.zscore(df.Buy, ddof=0) #เพิ่มคอลัมน์ zscore\n",
    "df\n",
    "#ค่าใดมีค่าใกล้ mean zscore จะเข้าใกล้ 0 ส่วนค่าใดห่างกันมีค่ามากไป\n",
    "f, axes = plt.subplots(1,2, figsize=(10,3))\n",
    "sns.distplot(df.Buy,bins = 20, ax=axes[0], color='b')\n",
    "sns.distplot(df.zscore,bins=20, ax=axes[1], color='b')\n",
    "plt.show()\n",
    "# จะเห็นว่ากราฟมีการกระจาย การแจกแจงเหมือนกัน แต่เปลี่ยนจากค่า Mean (ประมาณ20)กลายเป็น 0 ถ้าข้อมูลที่มีค่าอยู่ฝั่งซ้ายของ Mean มีค่า Z-score เป็นลบ ส่วนฝั่งขวาเป็นบวก\n",
    "# มาถึงการคัดกรองกำจัดค่าผิดปกติ โดยทั่วไป ถุ้าค่า Z-score ขอบเขตเกิน 2.5 หรือ 3 จะถือเป็นค่าผิดปกติ(สมมติเราตั้งขอบเขต +-2.5 ถ้าเกินหรือน้อยกว่าให้กำจัดออก)\n",
    "df.describe()\n",
    "threshold = 2.5\n",
    "df['outlier'] = df.zscore.apply(lambda x : x <= -threshold or x >= threshold) #ห้าม ใช้ | ให้ใช้ or\n",
    "#df['outlier']=df.zscore.apply(lambda x : (np.abs(x) >= threshold)) #ใช้ numpyช่วย\n",
    "df\n",
    "df[df.outlier == True]\n",
    "# การกำจัดค่าผิดปกติ\n",
    "# 1.ใช้วิธีการกรอง outlier mี่เป็น False ค่าที่หลุดออกไป\n",
    "df = df[df.outlier == False] # เอาแค่ค่า False เก็บไว้\n",
    "df\n",
    "# 2. กำจัดโดยใช้ Numpy คำนวณคัดกรองดังนี้(วิธีนี้ไม่ต้องเชคจาก treshold ก่อน)\n",
    "filter = np.abs(df.zscore) <= threshold\n",
    "df = df[filter]\n",
    "df\n",
    "df.describe()\n",
    "filter = np.abs(df.zscore) <= threshold\n",
    "df = df[filter]\n",
    "df\n",
    "df.describe()\n",
    "# ลอง Boxplot ว่ามีค่าผิดปกติอยู่หรือไม่\n",
    "sns.boxplot(df.Buy)\n",
    "plt.show()\n",
    "#ค่า mean วิธี TQR จะ ต่างกับวิธี Z-score เล็กน้อย (แต่ค่า SDจะต่างกันมาก)\n",
    "df.drop(columns=['zscore','outlier'],inplace=True)\n",
    "df"
   ]
  },
  {
   "cell_type": "markdown",
   "metadata": {},
   "source": [
    "# Workshop 11 : ค่าผิดปกติตัวแปร Multivariate"
   ]
  },
  {
   "cell_type": "code",
   "execution_count": 17,
   "metadata": {},
   "outputs": [
    {
     "data": {
      "image/png": "[encoded data removed]",
      "text/plain": [
       "<Figure size 360x288 with 1 Axes>"
      ]
     },
     "metadata": {},
     "output_type": "display_data"
    },
    {
     "data": {
      "image/png": "[encoded data removed]",
      "text/plain": [
       "<Figure size 432x288 with 1 Axes>"
      ]
     },
     "metadata": {},
     "output_type": "display_data"
    },
    {
     "data": {
      "image/png": "[encoded data removed]",
      "text/plain": [
       "<Figure size 432x288 with 1 Axes>"
      ]
     },
     "metadata": {},
     "output_type": "display_data"
    }
   ],
   "source": [
    "#ตัวแปรทุกๆตัวมี่คู่สัมพันธ์กัน โดยทุกๆตัวแปรจะมี Multivariate \n",
    "# เช่น กว้าง-ยาว อายุ-ความดัน งบลงทุน-กำไร ชั่วโมงทำงาน-ค่าเสื่อมราคาเครื่องจักร \n",
    "x = [1,2 ,3,3.2,4 ,5,6 ,8.5,7 ,9,10,11,12,4.9] #งบลงทุกโฆษณา\n",
    "y = [1,2.5,3,5.7,4.9,5,5.5,6.3,7.3 ,9,11,10,12,11.5] # กำไร\n",
    "data = list(zip(x,y))\n",
    "df = pd.DataFrame(data, columns=['x','y'])\n",
    "\n",
    "#ทำการพล็อตดูข้อมูล (Data Visualization) ถ้าสังเกตด้วยสายตาจะพบจุดข้อมูล 1 จุด ที่ต่างออกไป\n",
    "\n",
    "sns.set_style('darkgrid')\n",
    "plt.figure(figsize=(5,4))\n",
    "sns.scatterplot(x='x',y='y',data=df, s=100)\n",
    "plt.show()\n",
    "# ตรวจสอบด้วย Boxplot จะไม่พบค่าผิดปกติ ทั้งนี้เนื่องจากถ้าพิจาณาทีละตัวแปร ค่าแต่ละข้อมูลจะไม่ต่างกันมาก แม้จะใช้ boxplot\n",
    "sns.boxplot(df.x, width=0.4)\n",
    "plt.show()\n",
    "sns.boxplot(df.y, width=0.4)\n",
    "plt.show()"
   ]
  },
  {
   "cell_type": "markdown",
   "metadata": {},
   "source": [
    "# Worjshop 12 : กำจัดค่าผิดปกติตัวแปร Multivariate"
   ]
  },
  {
   "cell_type": "code",
   "execution_count": 20,
   "metadata": {},
   "outputs": [
    {
     "name": "stdout",
     "output_type": "stream",
     "text": [
      "Outliers found: 1\n"
     ]
    },
    {
     "data": {
      "text/plain": [
       "<Figure size 360x216 with 0 Axes>"
      ]
     },
     "metadata": {},
     "output_type": "display_data"
    },
    {
     "data": {
      "image/png": "[encoded data removed]",
      "text/plain": [
       "<Figure size 360x216 with 1 Axes>"
      ]
     },
     "metadata": {},
     "output_type": "display_data"
    },
    {
     "data": {
      "image/png": "[encoded data removed]",
      "text/plain": [
       "<Figure size 360x288 with 1 Axes>"
      ]
     },
     "metadata": {},
     "output_type": "display_data"
    }
   ],
   "source": [
    "#เทคนิคที่ใช้ในการกำจัดoutlier ตัวแปรหลายตัว คือ DBScan(Density-Based Spatial Clustering of Application with Noise)\n",
    "\n",
    "from sklearn.preprocessing import MinMaxScaler\n",
    "\n",
    "scaler = MinMaxScaler()\n",
    "d_arr = scaler.fit_transform(data)\n",
    "\n",
    "from sklearn.cluster import DBSCAN\n",
    "outlier_detection = DBSCAN(\n",
    " eps= 0.24,                             # ค่าพารามิเตอร์สำหรรับ DBScan กำหนด error\n",
    " metric = 'euclidean',                  # ชนิด metrix\n",
    " min_samples = 3,\n",
    " n_jobs=-1)\n",
    "\n",
    "clusters = outlier_detection.fit_predict(d_arr) # จัดกลุ่มเป็น Cluster\n",
    "print('Outliers found:',list(clusters).count(-1)) # จำนวนค่าผิดปกติที่พบ\n",
    "#clusters # ตำแหน่งความผิดพลาด\n",
    "df['cluster'] = clusters\n",
    "df['outlier'] = np.where(df.cluster == -1, True, False)\n",
    "df.groupby('cluster').cluster.count() #แบ่งกลุ่มข้อผิดพลาด+นับจำนวน\n",
    "df\n",
    "# พล็อตกราฟแยกสี\n",
    "plt.figure(figsize=(5,3))\n",
    "#sns.scatterplot('x','y', data=df, hue='outlier', s=100)\n",
    "plt.show()\n",
    "\n",
    "# พล็อตแยกชนิดจุด\n",
    "plt.figure(figsize=(5,3))\n",
    "sns.scatterplot('x','y', data=df, style='outlier', palette= 'Set1', s=150)\n",
    "plt.show()\n",
    "#df\n",
    "#ถ้าดูลิสทั้งหมดไม่ได้(เพราะข้อมูลมากไป) ต้องการดูแค่ข้อมูลค่าผิดปกติ\n",
    "df[df.outlier == True]\n",
    "df = df[df.cluster>-1]\n",
    "df.shape\n",
    "\n",
    "#ค่าผิดปกติหายไปแล้ว\n",
    "plt.figure(figsize=(5,4))\n",
    "sns.scatterplot('x','y',data=df,s=100)\n",
    "plt.show()"
   ]
  },
  {
   "cell_type": "markdown",
   "metadata": {},
   "source": [
    "# Workshopr 12 ต่อ"
   ]
  },
  {
   "cell_type": "code",
   "execution_count": 21,
   "metadata": {},
   "outputs": [
    {
     "name": "stdout",
     "output_type": "stream",
     "text": [
      "Outliers found: 1\n"
     ]
    },
    {
     "data": {
      "image/png": "[encoded data removed]",
      "text/plain": [
       "<Figure size 360x216 with 1 Axes>"
      ]
     },
     "metadata": {},
     "output_type": "display_data"
    },
    {
     "name": "stdout",
     "output_type": "stream",
     "text": [
      "Outliers found: 5\n"
     ]
    },
    {
     "data": {
      "image/png": "[encoded data removed]",
      "text/plain": [
       "<Figure size 360x216 with 1 Axes>"
      ]
     },
     "metadata": {},
     "output_type": "display_data"
    },
    {
     "name": "stdout",
     "output_type": "stream",
     "text": [
      "Outliers found: 0\n"
     ]
    },
    {
     "data": {
      "image/png": "[encoded data removed]",
      "text/plain": [
       "<Figure size 360x216 with 1 Axes>"
      ]
     },
     "metadata": {},
     "output_type": "display_data"
    },
    {
     "name": "stdout",
     "output_type": "stream",
     "text": [
      "Outliers found: 5\n"
     ]
    },
    {
     "data": {
      "image/png": "[encoded data removed]",
      "text/plain": [
       "<Figure size 360x216 with 1 Axes>"
      ]
     },
     "metadata": {},
     "output_type": "display_data"
    },
    {
     "name": "stdout",
     "output_type": "stream",
     "text": [
      "Outliers found: 8\n"
     ]
    },
    {
     "data": {
      "image/png": "[encoded data removed]",
      "text/plain": [
       "<Figure size 360x216 with 1 Axes>"
      ]
     },
     "metadata": {},
     "output_type": "display_data"
    },
    {
     "name": "stdout",
     "output_type": "stream",
     "text": [
      "Outliers found: 1\n"
     ]
    },
    {
     "data": {
      "image/png": "[encoded data removed]",
      "text/plain": [
       "<Figure size 360x216 with 1 Axes>"
      ]
     },
     "metadata": {},
     "output_type": "display_data"
    }
   ],
   "source": [
    "x = [1,2 ,3,3.2,4 ,5,6 ,8.5,7 ,9,10,11,12,4.9] #งบลงทุกโฆษณา\n",
    "y = [1,2.5,3,5.7,4.9,5,5.5,6.3,7.3 ,9,11,10,12,11.5] # กำไร\n",
    "data = list(zip(x,y))\n",
    "df = pd.DataFrame(data, columns=['x','y'])\n",
    "\n",
    "scaler = MinMaxScaler()\n",
    "d_arr = scaler.fit_transform(data)\n",
    "\n",
    "from sklearn.cluster import DBSCAN\n",
    "outlier_detection = DBSCAN(\n",
    " eps= 0.3,                             # ค่าพารามิเตอร์สำหรรับ DBScan กำหนด error\n",
    " metric = 'euclidean',                  # ชนิด metrix\n",
    " min_samples = 3,\n",
    " n_jobs=-1)\n",
    "\n",
    "clusters = outlier_detection.fit_predict(d_arr) # จัดกลุ่มเป็น Cluster\n",
    "print('Outliers found:',list(clusters).count(-1)) # จำนวนค่าผิดปกติที่พบ\n",
    "clusters # ตำแหน่งความผิดพลาด\n",
    "df['cluster'] = clusters\n",
    "df['outlier'] = np.where(df.cluster == -1, True, False)\n",
    "df.groupby('cluster').cluster.count() #แบ่งกลุ่มข้อผิดพลาด+นับจำนวน\n",
    "df\n",
    "# พล็อตกราฟแยกสี\n",
    "plt.figure(figsize=(5,3))\n",
    "sns.scatterplot('x','y', data=df, hue='outlier', s=100)\n",
    "plt.show()\n",
    "\n",
    "x = [1,2 ,3,3.2,4 ,5,6 ,8.5,7 ,9,10,11,12,4.9] #งบลงทุกโฆษณา\n",
    "y = [1,2.5,3,5.7,4.9,5,5.5,6.3,7.3 ,9,11,10,12,11.5] # กำไร\n",
    "data = list(zip(x,y))\n",
    "df = pd.DataFrame(data, columns=['x','y'])\n",
    "\n",
    "scaler = MinMaxScaler()\n",
    "d_arr = scaler.fit_transform(data)\n",
    "\n",
    "from sklearn.cluster import DBSCAN\n",
    "outlier_detection = DBSCAN(\n",
    " eps= 0.2,                             # ค่าพารามิเตอร์สำหรรับ DBScan กำหนด error\n",
    " metric = 'euclidean',                  # ชนิด metrix\n",
    " min_samples = 3,\n",
    " n_jobs=-1)\n",
    "\n",
    "clusters = outlier_detection.fit_predict(d_arr) # จัดกลุ่มเป็น Cluster\n",
    "print('Outliers found:',list(clusters).count(-1)) # จำนวนค่าผิดปกติที่พบ\n",
    "#clusters # ตำแหน่งความผิดพลาด\n",
    "df['cluster'] = clusters\n",
    "df['outlier'] = np.where(df.cluster == -1, True, False)\n",
    "df.groupby('cluster').cluster.count() #แบ่งกลุ่มข้อผิดพลาด+นับจำนวน\n",
    "df\n",
    "# พล็อตกราฟแยกสี\n",
    "plt.figure(figsize=(5,3))\n",
    "sns.scatterplot('x','y', data=df, hue='outlier', s=100)\n",
    "plt.show()\n",
    "\n",
    "x = [1,2 ,3,3.2,4 ,5,6 ,8.5,7 ,9,10,11,12,4.9] #งบลงทุกโฆษณา\n",
    "y = [1,2.5,3,5.7,4.9,5,5.5,6.3,7.3 ,9,11,10,12,11.5] # กำไร\n",
    "data = list(zip(x,y))\n",
    "df = pd.DataFrame(data, columns=['x','y'])\n",
    "\n",
    "scaler = MinMaxScaler()\n",
    "d_arr = scaler.fit_transform(data)\n",
    "\n",
    "from sklearn.cluster import DBSCAN\n",
    "outlier_detection = DBSCAN(\n",
    " eps= 0.5,                             # ค่าพารามิเตอร์สำหรรับ DBScan กำหนด error\n",
    " metric = 'euclidean',                  # ชนิด metrix\n",
    " min_samples = 3,\n",
    " n_jobs=-1)\n",
    "\n",
    "clusters = outlier_detection.fit_predict(d_arr) # จัดกลุ่มเป็น Cluster\n",
    "print('Outliers found:',list(clusters).count(-1)) # จำนวนค่าผิดปกติที่พบ\n",
    "#clusters # ตำแหน่งความผิดพลาด\n",
    "df['cluster'] = clusters\n",
    "df['outlier'] = np.where(df.cluster == -1, True, False)\n",
    "df.groupby('cluster').cluster.count() #แบ่งกลุ่มข้อผิดพลาด+นับจำนวน\n",
    "df\n",
    "# พล็อตกราฟแยกสี\n",
    "plt.figure(figsize=(5,3))\n",
    "sns.scatterplot('x','y', data=df, hue='outlier', s=100)\n",
    "plt.show()\n",
    "\n",
    "outlier_detection = DBSCAN(\n",
    " eps= 0.3,                             # ค่าพารามิเตอร์สำหรรับ DBScan กำหนด error\n",
    " metric = 'euclidean',                  # ชนิด metrix\n",
    " min_samples = 6,\n",
    " n_jobs=-1)\n",
    "\n",
    "clusters = outlier_detection.fit_predict(d_arr) # จัดกลุ่มเป็น Cluster\n",
    "print('Outliers found:',list(clusters).count(-1)) # จำนวนค่าผิดปกติที่พบ\n",
    "#clusters # ตำแหน่งความผิดพลาด\n",
    "df['cluster'] = clusters\n",
    "df['outlier'] = np.where(df.cluster == -1, True, False)\n",
    "df.groupby('cluster').cluster.count() #แบ่งกลุ่มข้อผิดพลาด+นับจำนวน\n",
    "df\n",
    "# พล็อตกราฟแยกสี\n",
    "plt.figure(figsize=(5,3))\n",
    "sns.scatterplot('x','y', data=df, hue='outlier', s=100)\n",
    "plt.show()\n",
    "\n",
    "outlier_detection = DBSCAN(\n",
    " eps= 0.2,                             # ค่าพารามิเตอร์สำหรรับ DBScan กำหนด error\n",
    " metric = 'euclidean',                  # ชนิด metrix\n",
    " min_samples = 4,\n",
    " n_jobs=-1)\n",
    "\n",
    "clusters = outlier_detection.fit_predict(d_arr) # จัดกลุ่มเป็น Cluster\n",
    "print('Outliers found:',list(clusters).count(-1)) # จำนวนค่าผิดปกติที่พบ\n",
    "#clusters # ตำแหน่งความผิดพลาด\n",
    "df['cluster'] = clusters\n",
    "df['outlier'] = np.where(df.cluster == -1, True, False)\n",
    "df.groupby('cluster').cluster.count() #แบ่งกลุ่มข้อผิดพลาด+นับจำนวน\n",
    "df\n",
    "# พล็อตกราฟแยกสี\n",
    "plt.figure(figsize=(5,3))\n",
    "sns.scatterplot('x','y', data=df, hue='outlier', s=100)\n",
    "plt.show()\n",
    "\n",
    "outlier_detection = DBSCAN(\n",
    " eps= 0.5,                             # ค่าพารามิเตอร์สำหรรับ DBScan กำหนด error\n",
    " metric = 'euclidean',                  # ชนิด metrix\n",
    " min_samples = 9,\n",
    " n_jobs=-1)\n",
    "\n",
    "clusters = outlier_detection.fit_predict(d_arr) # จัดกลุ่มเป็น Cluster\n",
    "print('Outliers found:',list(clusters).count(-1)) # จำนวนค่าผิดปกติที่พบ\n",
    "#clusters # ตำแหน่งความผิดพลาด\n",
    "df['cluster'] = clusters\n",
    "df['outlier'] = np.where(df.cluster == -1, True, False)\n",
    "df.groupby('cluster').cluster.count() #แบ่งกลุ่มข้อผิดพลาด+นับจำนวน\n",
    "df\n",
    "# พล็อตกราฟแยกสี\n",
    "plt.figure(figsize=(5,3))\n",
    "sns.scatterplot('x','y', data=df, hue='outlier', s=100)\n",
    "plt.show()\n",
    "\n",
    "# min_samples: จำนวนจุดข้อมูลที่ใช้เป็นกลุ่มอ้างอิง อย่างน้อยที่สุด\n",
    "# eps(Epsilon): คือค่า Threshold ที่ยอมให้จุดข้อมูล อยู่ห่างจากกลุ่มมากเพียงใด"
   ]
  },
  {
   "cell_type": "code",
   "execution_count": 8,
   "metadata": {},
   "outputs": [
    {
     "name": "stdout",
     "output_type": "stream",
     "text": [
      "10\n"
     ]
    }
   ],
   "source": []
  },
  {
   "cell_type": "code",
   "execution_count": null,
   "metadata": {},
   "outputs": [],
   "source": []
  }
 ],
 "metadata": {
  "kernelspec": {
   "display_name": "Python 3",
   "language": "python",
   "name": "python3"
  },
  "language_info": {
   "codemirror_mode": {
    "name": "ipython",
    "version": 3
   },
   "file_extension": ".py",
   "mimetype": "text/x-python",
   "name": "python",
   "nbconvert_exporter": "python",
   "pygments_lexer": "ipython3",
   "version": "3.7.6"
  }
 },
 "nbformat": 4,
 "nbformat_minor": 4
}
