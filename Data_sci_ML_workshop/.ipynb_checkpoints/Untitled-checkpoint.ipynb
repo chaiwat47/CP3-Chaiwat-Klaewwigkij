{
 "cells": [
  {
   "cell_type": "code",
   "execution_count": null,
   "metadata": {},
   "outputs": [],
   "source": [
    "clc\n",
    "clear\n",
    "close all\n",
    "setpoint = 3 ;\n",
    "con = 3 ;\n",
    "predic = 10 ;\n",
    "u = 1 ;\n",
    "XX=[];\n",
    "TT=[];\n",
    "UU=[];\n",
    "sumerror=0;\n",
    "ini = [5];\n",
    "error= 0 ;\n",
    "%v  = X(1);\n",
    "%Cx = x(2);\n",
    "%Cp = x(3);\n",
    "%Cs = x(4);\n",
    "%Co2= x(5);\n",
    "%Tr = x(6);\n",
    "%Tj = x(7);\n",
    "for i = 1:4000\n",
    "    a = [0 0.005];\n",
    "errorold = error ;\n",
    "[t,x] = ode45(@(t,x) flow_pid(t,x,u),a,ini) ;\n",
    "[Fmin,fval] = fmincon(@(U) test_mpc(U,x(end),setpoint),[u u u]) ;\n",
    " u = Fmin(1) ;\n",
    "    ini = [x(end)];\n",
    "XX=[XX; x];\n",
    "UU = [UU; u];\n",
    "TT=(1:length(XX));\n",
    "TU =(0:length(UU));\n",
    "UU=[UU; u];\n",
    "end\n",
    "figure('name','Cx')\n",
    "plot(TT*0.05,XX(:,1))\n",
    "\n",
    "\n",
    "\n",
    "def obj = test_PID(U,x,setpoint)\n",
    "   error = 0 ;\n",
    "   con = 3 ;\n",
    "   predic = 6  ;\n",
    "for i = 1:predic\n",
    "    if i <= con\n",
    "        u = U(i) ;\n",
    "    else \n",
    "        u = U(con) ;\n",
    "    end\n",
    "    ini = x(end) ;\n",
    "    a = [0 5];\n",
    "   [t,x] = ode45(@(t,x)flow_pid(t,x,u),a,ini);\n",
    "   error = error + (x(end)-setpoint)^2 ;\n",
    "end\n",
    "\n",
    "obj = error ;"
   ]
  }
 ],
 "metadata": {
  "kernelspec": {
   "display_name": "Python 3",
   "language": "python",
   "name": "python3"
  },
  "language_info": {
   "name": ""
  }
 },
 "nbformat": 4,
 "nbformat_minor": 4
}
