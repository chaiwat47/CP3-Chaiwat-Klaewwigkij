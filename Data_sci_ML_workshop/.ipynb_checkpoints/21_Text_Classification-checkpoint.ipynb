{
 "cells": [
  {
   "cell_type": "markdown",
   "metadata": {},
   "source": [
    "# 23 การจำแนกหมวดหมู่ข้อความ"
   ]
  },
  {
   "cell_type": "raw",
   "metadata": {},
   "source": [
    "  Ipython : 7.12.0\n",
    "   \n",
    "jobs:\n",
    "  basic-NLP:\n",
    "    executor: python/default\n",
    "    steps:\n",
    "      - clean\n",
    "      - Tokenize\n",
    "      - Bag of words\n",
    "      - Feature\n",
    "      - run:\n",
    "          command: ./datasci-lesson23.ipynb \n",
    "          name: Test-NLP\n",
    "\n",
    "workflows:\n",
    "  main:\n",
    "    jobs:\n",
    "      - basic-NLP"
   ]
  },
  {
   "cell_type": "code",
   "execution_count": 109,
   "metadata": {},
   "outputs": [
    {
     "name": "stdout",
     "output_type": "stream",
     "text": [
      "<td><a href=\"http://www.mywebsite.com\">click this link</a>\n",
      "<br/><h1>Cybersecurity</h1></td>\n",
      "click this link\n",
      "Cybersecurity\n"
     ]
    }
   ],
   "source": [
    "# conda install -c anaconda beautifulsoup64\n",
    "import IPython\n",
    "IPython.__version__\n",
    "\n",
    "# Clean : การล้างเครื่องหมายต่างๆที่ไม่เกี่ยวข้องที่จะใช้ประมวลผลออกไป\n",
    "from bs4 import BeautifulSoup\n",
    "import requests\n",
    "\n",
    "html_str = '''<td><a href=\"http://www.mywebsite.com\">click this link</a>\n",
    "<br/><h1>Cybersecurity</h1></td>'''\n",
    "soup = BeautifulSoup(html_str)\n",
    "print(html_str)         # ปริ๊นตำแหน่งที่ต้องการกรองคำ\n",
    "print(soup.get_text()) # ตัดเหลือแต่คำที่จะใช้"
   ]
  },
  {
   "cell_type": "code",
   "execution_count": 110,
   "metadata": {},
   "outputs": [],
   "source": [
    "# Tokenize ตัดคำ ถ้าเป็นอังกฤษจะมีเว้นวรรรคอยู่แล้ว แต่ถ้าเป็นภาษาไทยต้องแบ่งคำก่อนเนื่องจากคำติดกัน\n",
    "\n",
    "# Bag-of=words เป็นการสร้างตารางความถี่คำ\n",
    "\n",
    "# สร้าง Feature สร้างค่าตัวเลขขึ้นมาค่าหนึ่งเพื่อนแทนคุณลักษณะ หรือ Feature ของ Text ข้อความนั้นๆ เช่น TFIDF\n",
    "# Term Frequency and Inverse Document Frequency\n",
    "# TF : Term Frequency ค่าความถี่คำนั้นในเอกสาร\n",
    "# TF(z) = จำนวนคำ z ที่มีในเอกสาร / คำทั้งหมดในเอกสาร\n",
    "# IDF : Inverse Document Frequency ค่าส่วนกลับของความถี่ \n",
    "# IDF(z) = log(จำนวนคำทั้งหมดในเอกสาร / จำนวนเอกสารที่มีคำz)\n",
    "# index TFIDF = TF * IDF"
   ]
  },
  {
   "cell_type": "markdown",
   "metadata": {},
   "source": [
    "# Workshop 1 : คำนวณหาค่า Features"
   ]
  },
  {
   "cell_type": "code",
   "execution_count": 111,
   "metadata": {},
   "outputs": [],
   "source": [
    "# Case 1 : สมมติว่ามีข้อความ เนื้อความ หรือ Content Metadata a and b จากนั้นคำนวณโดยหา Features by TFIDF vector\n",
    "from sklearn.feature_extraction.text import TfidfVectorizer"
   ]
  },
  {
   "cell_type": "code",
   "execution_count": 112,
   "metadata": {},
   "outputs": [],
   "source": [
    "# define variables\n",
    "a = ' the Sun of beach and beach'\n",
    "b = 'moon earth moon'"
   ]
  },
  {
   "cell_type": "code",
   "execution_count": 113,
   "metadata": {},
   "outputs": [
    {
     "name": "stdout",
     "output_type": "stream",
     "text": [
      "['beach', 'earth', 'moon', 'sun']\n",
      "[[0.894 0.    0.    0.447]\n",
      " [0.    0.447 0.894 0.   ]]\n"
     ]
    }
   ],
   "source": [
    "text = [a, b]\n",
    "\n",
    "tfv = TfidfVectorizer(stop_words='english') # กำหนดให้ตัด Stop-words ออกไป\n",
    "matrix = tfv.fit_transform(text)\n",
    "print(tfv.get_feature_names()) # รายการคำ (ข้อมูลชนิด List)\n",
    "print(matrix.toarray().round(3)) # เมทริกซ์แสดงค่าความถี่"
   ]
  },
  {
   "cell_type": "code",
   "execution_count": 114,
   "metadata": {},
   "outputs": [
    {
     "data": {
      "text/html": [
       "<div>\n",
       "<style scoped>\n",
       "    .dataframe tbody tr th:only-of-type {\n",
       "        vertical-align: middle;\n",
       "    }\n",
       "\n",
       "    .dataframe tbody tr th {\n",
       "        vertical-align: top;\n",
       "    }\n",
       "\n",
       "    .dataframe thead th {\n",
       "        text-align: right;\n",
       "    }\n",
       "</style>\n",
       "<table border=\"1\" class=\"dataframe\">\n",
       "  <thead>\n",
       "    <tr style=\"text-align: right;\">\n",
       "      <th></th>\n",
       "      <th>beach</th>\n",
       "      <th>earth</th>\n",
       "      <th>moon</th>\n",
       "      <th>sun</th>\n",
       "    </tr>\n",
       "  </thead>\n",
       "  <tbody>\n",
       "    <tr>\n",
       "      <th>a</th>\n",
       "      <td>0.894</td>\n",
       "      <td>0.000</td>\n",
       "      <td>0.000</td>\n",
       "      <td>0.447</td>\n",
       "    </tr>\n",
       "    <tr>\n",
       "      <th>b</th>\n",
       "      <td>0.000</td>\n",
       "      <td>0.447</td>\n",
       "      <td>0.894</td>\n",
       "      <td>0.000</td>\n",
       "    </tr>\n",
       "  </tbody>\n",
       "</table>\n",
       "</div>"
      ],
      "text/plain": [
       "   beach  earth   moon    sun\n",
       "a  0.894  0.000  0.000  0.447\n",
       "b  0.000  0.447  0.894  0.000"
      ]
     },
     "execution_count": 114,
     "metadata": {},
     "output_type": "execute_result"
    }
   ],
   "source": [
    "# บันทึกข้อมูลเหล่านี้ใส่ DataFrame ด้วย Pandas\n",
    "import pandas as pd\n",
    "matrix = matrix.todense() # หรือใช้ matrix = matrix.toarray()\n",
    "cols = tfv.get_feature_names()\n",
    "df = pd.DataFrame(matrix, columns=cols, index=['a','b'])\n",
    "df.round(3)\n"
   ]
  },
  {
   "cell_type": "code",
   "execution_count": 115,
   "metadata": {},
   "outputs": [
    {
     "data": {
      "text/html": [
       "<div>\n",
       "<style scoped>\n",
       "    .dataframe tbody tr th:only-of-type {\n",
       "        vertical-align: middle;\n",
       "    }\n",
       "\n",
       "    .dataframe tbody tr th {\n",
       "        vertical-align: top;\n",
       "    }\n",
       "\n",
       "    .dataframe thead th {\n",
       "        text-align: right;\n",
       "    }\n",
       "</style>\n",
       "<table border=\"1\" class=\"dataframe\">\n",
       "  <thead>\n",
       "    <tr style=\"text-align: right;\">\n",
       "      <th></th>\n",
       "      <th>and</th>\n",
       "      <th>beach</th>\n",
       "      <th>earth</th>\n",
       "      <th>moon</th>\n",
       "      <th>of</th>\n",
       "      <th>sun</th>\n",
       "      <th>the</th>\n",
       "    </tr>\n",
       "  </thead>\n",
       "  <tbody>\n",
       "    <tr>\n",
       "      <th>a</th>\n",
       "      <td>0.354</td>\n",
       "      <td>0.707</td>\n",
       "      <td>0.000</td>\n",
       "      <td>0.000</td>\n",
       "      <td>0.354</td>\n",
       "      <td>0.354</td>\n",
       "      <td>0.354</td>\n",
       "    </tr>\n",
       "    <tr>\n",
       "      <th>b</th>\n",
       "      <td>0.000</td>\n",
       "      <td>0.000</td>\n",
       "      <td>0.447</td>\n",
       "      <td>0.894</td>\n",
       "      <td>0.000</td>\n",
       "      <td>0.000</td>\n",
       "      <td>0.000</td>\n",
       "    </tr>\n",
       "  </tbody>\n",
       "</table>\n",
       "</div>"
      ],
      "text/plain": [
       "     and  beach  earth   moon     of    sun    the\n",
       "a  0.354  0.707  0.000  0.000  0.354  0.354  0.354\n",
       "b  0.000  0.000  0.447  0.894  0.000  0.000  0.000"
      ]
     },
     "execution_count": 115,
     "metadata": {},
     "output_type": "execute_result"
    }
   ],
   "source": [
    "# กรณีไม่ตัด stop_words\n",
    "# define variables\n",
    "c = ' the Sun of beach and beach'\n",
    "d = 'moon earth moon'\n",
    "text = [c, d]\n",
    "\n",
    "tfv = TfidfVectorizer() # กำหนดไม่ให้ตัด Stop-words ออกไป\n",
    "matrix = tfv.fit_transform(text)\n",
    "# บันทึกข้อมูลเหล่านี้ใส่ DataFrame ด้วย Pandas\n",
    "import pandas as pd\n",
    "matrix = matrix.todense() # หรือใช้ matrix = matrix.toarray()\n",
    "cols = tfv.get_feature_names()\n",
    "df = pd.DataFrame(matrix, columns=cols, index=['a','b'])\n",
    "df.round(3)\n"
   ]
  },
  {
   "cell_type": "code",
   "execution_count": 116,
   "metadata": {},
   "outputs": [
    {
     "data": {
      "text/html": [
       "<div>\n",
       "<style scoped>\n",
       "    .dataframe tbody tr th:only-of-type {\n",
       "        vertical-align: middle;\n",
       "    }\n",
       "\n",
       "    .dataframe tbody tr th {\n",
       "        vertical-align: top;\n",
       "    }\n",
       "\n",
       "    .dataframe thead th {\n",
       "        text-align: right;\n",
       "    }\n",
       "</style>\n",
       "<table border=\"1\" class=\"dataframe\">\n",
       "  <thead>\n",
       "    <tr style=\"text-align: right;\">\n",
       "      <th></th>\n",
       "      <th>beach</th>\n",
       "      <th>earth</th>\n",
       "      <th>moon</th>\n",
       "      <th>sun</th>\n",
       "    </tr>\n",
       "  </thead>\n",
       "  <tbody>\n",
       "    <tr>\n",
       "      <th>a</th>\n",
       "      <td>0.942</td>\n",
       "      <td>0.000</td>\n",
       "      <td>0.000</td>\n",
       "      <td>0.335</td>\n",
       "    </tr>\n",
       "    <tr>\n",
       "      <th>b</th>\n",
       "      <td>0.000</td>\n",
       "      <td>0.426</td>\n",
       "      <td>0.852</td>\n",
       "      <td>0.303</td>\n",
       "    </tr>\n",
       "  </tbody>\n",
       "</table>\n",
       "</div>"
      ],
      "text/plain": [
       "   beach  earth   moon    sun\n",
       "a  0.942  0.000  0.000  0.335\n",
       "b  0.000  0.426  0.852  0.303"
      ]
     },
     "execution_count": 116,
     "metadata": {},
     "output_type": "execute_result"
    }
   ],
   "source": [
    "# Case 2 เพื่อดูเปรียบเียบ\n",
    "a = 'sun beach beach' #ตัด stop-words ออกเอง\n",
    "b = 'Sun moon earth moon' # ของเดิม 'moon earth moon' เพิ่ม sunมา\n",
    "\n",
    "text = [a, b]\n",
    "tfv = TfidfVectorizer()\n",
    "matrix = tfv.fit_transform(text)\n",
    "matrix = matrix.todense()\n",
    "cols = tfv.get_feature_names()\n",
    "df = pd.DataFrame(matrix, columns=cols, index=['a', 'b'])\n",
    "df.round(3)"
   ]
  },
  {
   "cell_type": "raw",
   "metadata": {},
   "source": [
    "Note :\n",
    "    ในข้อความ ประโยค หรือ Content ถ้ามีจำนวนใดมากค่า Feature ของคำนั้นจะสูง\n",
    "    คำใดที่มีอยู่ในข้อความ ประโยค หรือ Content อื้นๆด้วย ค่า Feature ของคคำดังกล่าวจะลดลง"
   ]
  },
  {
   "cell_type": "markdown",
   "metadata": {},
   "source": [
    "# Workshop 2 : เพิ่มจำนวนข้อความ"
   ]
  },
  {
   "cell_type": "code",
   "execution_count": 117,
   "metadata": {},
   "outputs": [
    {
     "data": {
      "text/html": [
       "<div>\n",
       "<style scoped>\n",
       "    .dataframe tbody tr th:only-of-type {\n",
       "        vertical-align: middle;\n",
       "    }\n",
       "\n",
       "    .dataframe tbody tr th {\n",
       "        vertical-align: top;\n",
       "    }\n",
       "\n",
       "    .dataframe thead th {\n",
       "        text-align: right;\n",
       "    }\n",
       "</style>\n",
       "<table border=\"1\" class=\"dataframe\">\n",
       "  <thead>\n",
       "    <tr style=\"text-align: right;\">\n",
       "      <th></th>\n",
       "      <th>beach</th>\n",
       "      <th>earth</th>\n",
       "      <th>moon</th>\n",
       "      <th>object</th>\n",
       "      <th>sky</th>\n",
       "      <th>sun</th>\n",
       "    </tr>\n",
       "  </thead>\n",
       "  <tbody>\n",
       "    <tr>\n",
       "      <th>a</th>\n",
       "      <td>0.959</td>\n",
       "      <td>0.000</td>\n",
       "      <td>0.000</td>\n",
       "      <td>0.000</td>\n",
       "      <td>0.000</td>\n",
       "      <td>0.283</td>\n",
       "    </tr>\n",
       "    <tr>\n",
       "      <th>b</th>\n",
       "      <td>0.000</td>\n",
       "      <td>0.432</td>\n",
       "      <td>0.865</td>\n",
       "      <td>0.000</td>\n",
       "      <td>0.000</td>\n",
       "      <td>0.255</td>\n",
       "    </tr>\n",
       "    <tr>\n",
       "      <th>c</th>\n",
       "      <td>0.000</td>\n",
       "      <td>0.000</td>\n",
       "      <td>0.000</td>\n",
       "      <td>0.652</td>\n",
       "      <td>0.652</td>\n",
       "      <td>0.385</td>\n",
       "    </tr>\n",
       "  </tbody>\n",
       "</table>\n",
       "</div>"
      ],
      "text/plain": [
       "   beach  earth   moon  object    sky    sun\n",
       "a  0.959  0.000  0.000   0.000  0.000  0.283\n",
       "b  0.000  0.432  0.865   0.000  0.000  0.255\n",
       "c  0.000  0.000  0.000   0.652  0.652  0.385"
      ]
     },
     "execution_count": 117,
     "metadata": {},
     "output_type": "execute_result"
    }
   ],
   "source": [
    "a = 'sun beach beach'\n",
    "b = 'sun moon earth moon'\n",
    "c = 'the sun is an object in the sky'\n",
    "\n",
    "\n",
    "text = [a, b, c]\n",
    "tfv = TfidfVectorizer(stop_words='english')\n",
    "matrix = tfv.fit_transform(text)\n",
    "matrix = matrix.todense()\n",
    "cols = tfv.get_feature_names()\n",
    "df = pd.DataFrame(matrix, columns=cols, index=['a', 'b', 'c'])\n",
    "df.round(3)"
   ]
  },
  {
   "cell_type": "markdown",
   "metadata": {},
   "source": [
    "# Workshop 3 : โหลดและตรวจดูข้อมูลเบื้องต้น"
   ]
  },
  {
   "cell_type": "code",
   "execution_count": 118,
   "metadata": {},
   "outputs": [],
   "source": [
    "# ทำ Text Classification โดยใช้ data set ใน Scikit-learn\n",
    "\n",
    "import numpy as np\n",
    "from sklearn.datasets import fetch_20newsgroups\n",
    "\n",
    "# ชุดข้อมูล (Dataset) เต็มๆมีจำนวนมากเลือกใช้เพียง 4 หมวด (Categories)\n",
    "categories = ['alt.atheism', 'soc.religion.christian','comp.graphics','sci.med']\n",
    "news = fetch_20newsgroups(subset='train', categories=categories) # download"
   ]
  },
  {
   "cell_type": "code",
   "execution_count": 119,
   "metadata": {},
   "outputs": [
    {
     "data": {
      "text/plain": [
       "dict_keys(['data', 'filenames', 'target_names', 'target', 'DESCR'])"
      ]
     },
     "execution_count": 119,
     "metadata": {},
     "output_type": "execute_result"
    }
   ],
   "source": [
    "news.keys()"
   ]
  },
  {
   "cell_type": "code",
   "execution_count": 120,
   "metadata": {},
   "outputs": [],
   "source": [
    "# data ข้อความ(Text) ในแต่ละไฟล์\n",
    "# filenames ชื่อไฟล์ที่เก็บข้อความ(data)\n",
    "# target_names ชื่อหมวดหมู่ของข้อความ(ชื่อ class or target) เพื่อบอกว่าข้อความจัดอยู่ในหมดใด\n",
    "# target คือ Target / label หมวดหมู่ของข้อความ มีค่าเป็นตัวเลข เช่น 1 2 3 ขึ้นกับจำนวน หมวดหมู่"
   ]
  },
  {
   "cell_type": "code",
   "execution_count": 121,
   "metadata": {},
   "outputs": [
    {
     "name": "stdout",
     "output_type": "stream",
     "text": [
      ".. _20newsgroups_dataset:\n",
      "\n",
      "The 20 newsgroups text dataset\n",
      "------------------------------\n",
      "\n",
      "The 20 newsgroups dataset comprises around 18000 newsgroups posts on\n",
      "20 topics split in two subsets: one for training (or development)\n",
      "and the other one for testing (or for performance evaluation). The split\n",
      "between the train and test set is based upon a messages posted before\n",
      "and after a specific date.\n",
      "\n",
      "This module contains two loaders. The first one,\n",
      ":func:`sklearn.datasets.fetch_20newsgroups`,\n",
      "returns a list of the raw texts that can be fed to text feature\n",
      "extractors such as :class:`sklearn.feature_extraction.text.CountVectorizer`\n",
      "with custom parameters so as to extract feature vectors.\n",
      "The second one, :func:`sklearn.datasets.fetch_20newsgroups_vectorized`,\n",
      "returns ready-to-use features, i.e., it is not necessary to use a feature\n",
      "extractor.\n",
      "\n",
      "**Data Set Characteristics:**\n",
      "\n",
      "    =================   ==========\n",
      "    Classes                     20\n",
      "    Samples total            18846\n",
      "    Dimensionality               1\n",
      "    Features                  text\n",
      "    =================   ==========\n",
      "\n",
      "Usage\n",
      "~~~~~\n",
      "\n",
      "The :func:`sklearn.datasets.fetch_20newsgroups` function is a data\n",
      "fetching / caching functions that downloads the data archive from\n",
      "the original `20 newsgroups website`_, extracts the archive contents\n",
      "in the ``~/scikit_learn_data/20news_home`` folder and calls the\n",
      ":func:`sklearn.datasets.load_files` on either the training or\n",
      "testing set folder, or both of them::\n",
      "\n",
      "  >>> from sklearn.datasets import fetch_20newsgroups\n",
      "  >>> newsgroups_train = fetch_20newsgroups(subset='train')\n",
      "\n",
      "  >>> from pprint import pprint\n",
      "  >>> pprint(list(newsgroups_train.target_names))\n",
      "  ['alt.atheism',\n",
      "   'comp.graphics',\n",
      "   'comp.os.ms-windows.misc',\n",
      "   'comp.sys.ibm.pc.hardware',\n",
      "   'comp.sys.mac.hardware',\n",
      "   'comp.windows.x',\n",
      "   'misc.forsale',\n",
      "   'rec.autos',\n",
      "   'rec.motorcycles',\n",
      "   'rec.sport.baseball',\n",
      "   'rec.sport.hockey',\n",
      "   'sci.crypt',\n",
      "   'sci.electronics',\n",
      "   'sci.med',\n",
      "   'sci.space',\n",
      "   'soc.religion.christian',\n",
      "   'talk.politics.guns',\n",
      "   'talk.politics.mideast',\n",
      "   'talk.politics.misc',\n",
      "   'talk.religion.misc']\n",
      "\n",
      "The real data lies in the ``filenames`` and ``target`` attributes. The target\n",
      "attribute is the integer index of the category::\n",
      "\n",
      "  >>> newsgroups_train.filenames.shape\n",
      "  (11314,)\n",
      "  >>> newsgroups_train.target.shape\n",
      "  (11314,)\n",
      "  >>> newsgroups_train.target[:10]\n",
      "  array([ 7,  4,  4,  1, 14, 16, 13,  3,  2,  4])\n",
      "\n",
      "It is possible to load only a sub-selection of the categories by passing the\n",
      "list of the categories to load to the\n",
      ":func:`sklearn.datasets.fetch_20newsgroups` function::\n",
      "\n",
      "  >>> cats = ['alt.atheism', 'sci.space']\n",
      "  >>> newsgroups_train = fetch_20newsgroups(subset='train', categories=cats)\n",
      "\n",
      "  >>> list(newsgroups_train.target_names)\n",
      "  ['alt.atheism', 'sci.space']\n",
      "  >>> newsgroups_train.filenames.shape\n",
      "  (1073,)\n",
      "  >>> newsgroups_train.target.shape\n",
      "  (1073,)\n",
      "  >>> newsgroups_train.target[:10]\n",
      "  array([0, 1, 1, 1, 0, 1, 1, 0, 0, 0])\n",
      "\n",
      "Converting text to vectors\n",
      "~~~~~~~~~~~~~~~~~~~~~~~~~~\n",
      "\n",
      "In order to feed predictive or clustering models with the text data,\n",
      "one first need to turn the text into vectors of numerical values suitable\n",
      "for statistical analysis. This can be achieved with the utilities of the\n",
      "``sklearn.feature_extraction.text`` as demonstrated in the following\n",
      "example that extract `TF-IDF`_ vectors of unigram tokens\n",
      "from a subset of 20news::\n",
      "\n",
      "  >>> from sklearn.feature_extraction.text import TfidfVectorizer\n",
      "  >>> categories = ['alt.atheism', 'talk.religion.misc',\n",
      "  ...               'comp.graphics', 'sci.space']\n",
      "  >>> newsgroups_train = fetch_20newsgroups(subset='train',\n",
      "  ...                                       categories=categories)\n",
      "  >>> vectorizer = TfidfVectorizer()\n",
      "  >>> vectors = vectorizer.fit_transform(newsgroups_train.data)\n",
      "  >>> vectors.shape\n",
      "  (2034, 34118)\n",
      "\n",
      "The extracted TF-IDF vectors are very sparse, with an average of 159 non-zero\n",
      "components by sample in a more than 30000-dimensional space\n",
      "(less than .5% non-zero features)::\n",
      "\n",
      "  >>> vectors.nnz / float(vectors.shape[0])\n",
      "  159.01327...\n",
      "\n",
      ":func:`sklearn.datasets.fetch_20newsgroups_vectorized` is a function which \n",
      "returns ready-to-use token counts features instead of file names.\n",
      "\n",
      ".. _`20 newsgroups website`: http://people.csail.mit.edu/jrennie/20Newsgroups/\n",
      ".. _`TF-IDF`: https://en.wikipedia.org/wiki/Tf-idf\n",
      "\n",
      "\n",
      "Filtering text for more realistic training\n",
      "~~~~~~~~~~~~~~~~~~~~~~~~~~~~~~~~~~~~~~~~~~\n",
      "\n",
      "It is easy for a classifier to overfit on particular things that appear in the\n",
      "20 Newsgroups data, such as newsgroup headers. Many classifiers achieve very\n",
      "high F-scores, but their results would not generalize to other documents that\n",
      "aren't from this window of time.\n",
      "\n",
      "For example, let's look at the results of a multinomial Naive Bayes classifier,\n",
      "which is fast to train and achieves a decent F-score::\n",
      "\n",
      "  >>> from sklearn.naive_bayes import MultinomialNB\n",
      "  >>> from sklearn import metrics\n",
      "  >>> newsgroups_test = fetch_20newsgroups(subset='test',\n",
      "  ...                                      categories=categories)\n",
      "  >>> vectors_test = vectorizer.transform(newsgroups_test.data)\n",
      "  >>> clf = MultinomialNB(alpha=.01)\n",
      "  >>> clf.fit(vectors, newsgroups_train.target)\n",
      "  MultinomialNB(alpha=0.01, class_prior=None, fit_prior=True)\n",
      "\n",
      "  >>> pred = clf.predict(vectors_test)\n",
      "  >>> metrics.f1_score(newsgroups_test.target, pred, average='macro')\n",
      "  0.88213...\n",
      "\n",
      "(The example :ref:`sphx_glr_auto_examples_text_plot_document_classification_20newsgroups.py` shuffles\n",
      "the training and test data, instead of segmenting by time, and in that case\n",
      "multinomial Naive Bayes gets a much higher F-score of 0.88. Are you suspicious\n",
      "yet of what's going on inside this classifier?)\n",
      "\n",
      "Let's take a look at what the most informative features are:\n",
      "\n",
      "  >>> import numpy as np\n",
      "  >>> def show_top10(classifier, vectorizer, categories):\n",
      "  ...     feature_names = np.asarray(vectorizer.get_feature_names())\n",
      "  ...     for i, category in enumerate(categories):\n",
      "  ...         top10 = np.argsort(classifier.coef_[i])[-10:]\n",
      "  ...         print(\"%s: %s\" % (category, \" \".join(feature_names[top10])))\n",
      "  ...\n",
      "  >>> show_top10(clf, vectorizer, newsgroups_train.target_names)\n",
      "  alt.atheism: edu it and in you that is of to the\n",
      "  comp.graphics: edu in graphics it is for and of to the\n",
      "  sci.space: edu it that is in and space to of the\n",
      "  talk.religion.misc: not it you in is that and to of the\n",
      "\n",
      "\n",
      "You can now see many things that these features have overfit to:\n",
      "\n",
      "- Almost every group is distinguished by whether headers such as\n",
      "  ``NNTP-Posting-Host:`` and ``Distribution:`` appear more or less often.\n",
      "- Another significant feature involves whether the sender is affiliated with\n",
      "  a university, as indicated either by their headers or their signature.\n",
      "- The word \"article\" is a significant feature, based on how often people quote\n",
      "  previous posts like this: \"In article [article ID], [name] <[e-mail address]>\n",
      "  wrote:\"\n",
      "- Other features match the names and e-mail addresses of particular people who\n",
      "  were posting at the time.\n",
      "\n",
      "With such an abundance of clues that distinguish newsgroups, the classifiers\n",
      "barely have to identify topics from text at all, and they all perform at the\n",
      "same high level.\n",
      "\n",
      "For this reason, the functions that load 20 Newsgroups data provide a\n",
      "parameter called **remove**, telling it what kinds of information to strip out\n",
      "of each file. **remove** should be a tuple containing any subset of\n",
      "``('headers', 'footers', 'quotes')``, telling it to remove headers, signature\n",
      "blocks, and quotation blocks respectively.\n",
      "\n",
      "  >>> newsgroups_test = fetch_20newsgroups(subset='test',\n",
      "  ...                                      remove=('headers', 'footers', 'quotes'),\n",
      "  ...                                      categories=categories)\n",
      "  >>> vectors_test = vectorizer.transform(newsgroups_test.data)\n",
      "  >>> pred = clf.predict(vectors_test)\n",
      "  >>> metrics.f1_score(pred, newsgroups_test.target, average='macro')\n",
      "  0.77310...\n",
      "\n",
      "This classifier lost over a lot of its F-score, just because we removed\n",
      "metadata that has little to do with topic classification.\n",
      "It loses even more if we also strip this metadata from the training data:\n",
      "\n",
      "  >>> newsgroups_train = fetch_20newsgroups(subset='train',\n",
      "  ...                                       remove=('headers', 'footers', 'quotes'),\n",
      "  ...                                       categories=categories)\n",
      "  >>> vectors = vectorizer.fit_transform(newsgroups_train.data)\n",
      "  >>> clf = MultinomialNB(alpha=.01)\n",
      "  >>> clf.fit(vectors, newsgroups_train.target)\n",
      "  MultinomialNB(alpha=0.01, class_prior=None, fit_prior=True)\n",
      "\n",
      "  >>> vectors_test = vectorizer.transform(newsgroups_test.data)\n",
      "  >>> pred = clf.predict(vectors_test)\n",
      "  >>> metrics.f1_score(newsgroups_test.target, pred, average='macro')\n",
      "  0.76995...\n",
      "\n",
      "Some other classifiers cope better with this harder version of the task. Try\n",
      "running :ref:`sphx_glr_auto_examples_model_selection_grid_search_text_feature_extraction.py` with and without\n",
      "the ``--filter`` option to compare the results.\n",
      "\n",
      ".. topic:: Recommendation\n",
      "\n",
      "  When evaluating text classifiers on the 20 Newsgroups data, you\n",
      "  should strip newsgroup-related metadata. In scikit-learn, you can do this by\n",
      "  setting ``remove=('headers', 'footers', 'quotes')``. The F-score will be\n",
      "  lower because it is more realistic.\n",
      "\n",
      ".. topic:: Examples\n",
      "\n",
      "   * :ref:`sphx_glr_auto_examples_model_selection_grid_search_text_feature_extraction.py`\n",
      "\n",
      "   * :ref:`sphx_glr_auto_examples_text_plot_document_classification_20newsgroups.py`\n",
      "\n"
     ]
    }
   ],
   "source": [
    "# ดูข้อมูลต่างๆโดยระเอียด โดยอ้างอิงชื่อคีย์\n",
    "print(news.DESCR)\n",
    "# คลิกขวา clear all"
   ]
  },
  {
   "cell_type": "code",
   "execution_count": 122,
   "metadata": {},
   "outputs": [
    {
     "data": {
      "text/plain": [
       "4"
      ]
     },
     "execution_count": 122,
     "metadata": {},
     "output_type": "execute_result"
    }
   ],
   "source": [
    "#นับจำนวน target_names\n",
    "len(news.target_names)"
   ]
  },
  {
   "cell_type": "code",
   "execution_count": 123,
   "metadata": {},
   "outputs": [
    {
     "data": {
      "text/plain": [
       "['alt.atheism', 'comp.graphics', 'sci.med', 'soc.religion.christian']"
      ]
     },
     "execution_count": 123,
     "metadata": {},
     "output_type": "execute_result"
    }
   ],
   "source": [
    "# ดูหมวดหมู่ว่ามีอะไรบ้าง\n",
    "news.target_names"
   ]
  },
  {
   "cell_type": "code",
   "execution_count": 124,
   "metadata": {},
   "outputs": [
    {
     "data": {
      "text/plain": [
       "2257"
      ]
     },
     "execution_count": 124,
     "metadata": {},
     "output_type": "execute_result"
    }
   ],
   "source": [
    "# จำนวน samples\n",
    "len(news.data) # 22573\n",
    "# จำนวน Target\n",
    "len(news.target) # 22573"
   ]
  },
  {
   "cell_type": "code",
   "execution_count": 125,
   "metadata": {},
   "outputs": [
    {
     "data": {
      "text/plain": [
       "array([1, 1, 3, 3, 3, 3, 3, 2, 2, 2], dtype=int64)"
      ]
     },
     "execution_count": 125,
     "metadata": {},
     "output_type": "execute_result"
    }
   ],
   "source": [
    "news.target[:10] # ดู 10 targets แรก"
   ]
  },
  {
   "cell_type": "code",
   "execution_count": 126,
   "metadata": {},
   "outputs": [
    {
     "name": "stdout",
     "output_type": "stream",
     "text": [
      "comp.graphics\n",
      "comp.graphics\n",
      "soc.religion.christian\n",
      "soc.religion.christian\n",
      "soc.religion.christian\n",
      "soc.religion.christian\n",
      "soc.religion.christian\n",
      "sci.med\n",
      "sci.med\n",
      "sci.med\n"
     ]
    }
   ],
   "source": [
    "for k in news.target[:10]:\n",
    "    print(news.target_names[k])"
   ]
  },
  {
   "cell_type": "code",
   "execution_count": 127,
   "metadata": {},
   "outputs": [
    {
     "data": {
      "text/plain": [
       "array(['C:\\\\Users\\\\Chaiwat\\\\scikit_learn_data\\\\20news_home\\\\20news-bydate-train\\\\comp.graphics\\\\38440',\n",
       "       'C:\\\\Users\\\\Chaiwat\\\\scikit_learn_data\\\\20news_home\\\\20news-bydate-train\\\\comp.graphics\\\\38479',\n",
       "       'C:\\\\Users\\\\Chaiwat\\\\scikit_learn_data\\\\20news_home\\\\20news-bydate-train\\\\soc.religion.christian\\\\20737',\n",
       "       'C:\\\\Users\\\\Chaiwat\\\\scikit_learn_data\\\\20news_home\\\\20news-bydate-train\\\\soc.religion.christian\\\\20942',\n",
       "       'C:\\\\Users\\\\Chaiwat\\\\scikit_learn_data\\\\20news_home\\\\20news-bydate-train\\\\soc.religion.christian\\\\20487',\n",
       "       'C:\\\\Users\\\\Chaiwat\\\\scikit_learn_data\\\\20news_home\\\\20news-bydate-train\\\\soc.religion.christian\\\\20891',\n",
       "       'C:\\\\Users\\\\Chaiwat\\\\scikit_learn_data\\\\20news_home\\\\20news-bydate-train\\\\soc.religion.christian\\\\20914',\n",
       "       'C:\\\\Users\\\\Chaiwat\\\\scikit_learn_data\\\\20news_home\\\\20news-bydate-train\\\\sci.med\\\\58110',\n",
       "       'C:\\\\Users\\\\Chaiwat\\\\scikit_learn_data\\\\20news_home\\\\20news-bydate-train\\\\sci.med\\\\58114',\n",
       "       'C:\\\\Users\\\\Chaiwat\\\\scikit_learn_data\\\\20news_home\\\\20news-bydate-train\\\\sci.med\\\\58838'],\n",
       "      dtype='<U97')"
      ]
     },
     "execution_count": 127,
     "metadata": {},
     "output_type": "execute_result"
    }
   ],
   "source": [
    "#ดูตำแหน่ง files ต่างๆที่เก็บไว้\n",
    "news.filenames[:10]"
   ]
  },
  {
   "cell_type": "code",
   "execution_count": 128,
   "metadata": {},
   "outputs": [],
   "source": [
    "# Histogram"
   ]
  },
  {
   "cell_type": "code",
   "execution_count": 129,
   "metadata": {},
   "outputs": [
    {
     "data": {
      "text/plain": [
       "array([0, 1, 2, 3], dtype=int64)"
      ]
     },
     "execution_count": 129,
     "metadata": {},
     "output_type": "execute_result"
    }
   ],
   "source": [
    "# ดูว่า unique ของข้อมูลมีอะไรบ้าง\n",
    "np.unique(news.target) # มี 4 รูปแบบ คือ 0 1 2 3 "
   ]
  },
  {
   "cell_type": "code",
   "execution_count": 130,
   "metadata": {},
   "outputs": [
    {
     "data": {
      "text/plain": [
       "[('alt.atheism', 480),\n",
       " ('comp.graphics', 584),\n",
       " ('sci.med', 594),\n",
       " ('soc.religion.christian', 599)]"
      ]
     },
     "execution_count": 130,
     "metadata": {},
     "output_type": "execute_result"
    }
   ],
   "source": [
    "labels, counts = np.unique(news.target, return_counts=True) # labels ตัวเลข (target) , นับจำนวนแล้วเก็บในcounts\n",
    "labels_str = np.array(news.target_names)[labels] # ชื่อหมวดหมู่ เก็บใน labes_str\n",
    "list(zip(labels_str, counts)) # รวมเป็น List และแสดงจำนวนแต่ละหมด"
   ]
  },
  {
   "cell_type": "code",
   "execution_count": 131,
   "metadata": {},
   "outputs": [],
   "source": [
    "#[('alt.atheism', 480),\n",
    "#('comp.graphics', 584),\n",
    "#('sci.med', 594),\n",
    "#('soc.religion.christian', 599)]"
   ]
  },
  {
   "cell_type": "code",
   "execution_count": 132,
   "metadata": {},
   "outputs": [
    {
     "data": {
      "text/html": [
       "<div>\n",
       "<style scoped>\n",
       "    .dataframe tbody tr th:only-of-type {\n",
       "        vertical-align: middle;\n",
       "    }\n",
       "\n",
       "    .dataframe tbody tr th {\n",
       "        vertical-align: top;\n",
       "    }\n",
       "\n",
       "    .dataframe thead th {\n",
       "        text-align: right;\n",
       "    }\n",
       "</style>\n",
       "<table border=\"1\" class=\"dataframe\">\n",
       "  <thead>\n",
       "    <tr style=\"text-align: right;\">\n",
       "      <th></th>\n",
       "      <th>Catagories</th>\n",
       "      <th>Count</th>\n",
       "    </tr>\n",
       "  </thead>\n",
       "  <tbody>\n",
       "    <tr>\n",
       "      <th>0</th>\n",
       "      <td>alt.atheism</td>\n",
       "      <td>480</td>\n",
       "    </tr>\n",
       "    <tr>\n",
       "      <th>1</th>\n",
       "      <td>comp.graphics</td>\n",
       "      <td>584</td>\n",
       "    </tr>\n",
       "    <tr>\n",
       "      <th>2</th>\n",
       "      <td>sci.med</td>\n",
       "      <td>594</td>\n",
       "    </tr>\n",
       "    <tr>\n",
       "      <th>3</th>\n",
       "      <td>soc.religion.christian</td>\n",
       "      <td>599</td>\n",
       "    </tr>\n",
       "  </tbody>\n",
       "</table>\n",
       "</div>"
      ],
      "text/plain": [
       "               Catagories  Count\n",
       "0             alt.atheism    480\n",
       "1           comp.graphics    584\n",
       "2                 sci.med    594\n",
       "3  soc.religion.christian    599"
      ]
     },
     "execution_count": 132,
     "metadata": {},
     "output_type": "execute_result"
    }
   ],
   "source": [
    "# เก็บใน DataFrames\n",
    "import pandas as pd\n",
    "catagories_count = list(zip(labels_str, counts))\n",
    "cols = ['Catagories', 'Count']\n",
    "df = pd.DataFrame(catagories_count, columns=cols)\n",
    "df"
   ]
  },
  {
   "cell_type": "code",
   "execution_count": 133,
   "metadata": {},
   "outputs": [
    {
     "data": {
      "image/png": "[encoded data removed]",
      "text/plain": [
       "<Figure size 432x288 with 1 Axes>"
      ]
     },
     "metadata": {},
     "output_type": "display_data"
    }
   ],
   "source": [
    "# ต้องการพล็อตกราก Histrogram\n",
    "import matplotlib.pyplot as plt\n",
    "\n",
    "import seaborn as sns\n",
    "sns.barplot(df['Catagories'],df['Count'])\n",
    "plt.show()"
   ]
  },
  {
   "cell_type": "markdown",
   "metadata": {},
   "source": [
    "# Workshop 4 : ตรวจดู Bag of words"
   ]
  },
  {
   "cell_type": "code",
   "execution_count": 134,
   "metadata": {},
   "outputs": [
    {
     "data": {
      "text/html": [
       "<div>\n",
       "<style scoped>\n",
       "    .dataframe tbody tr th:only-of-type {\n",
       "        vertical-align: middle;\n",
       "    }\n",
       "\n",
       "    .dataframe tbody tr th {\n",
       "        vertical-align: top;\n",
       "    }\n",
       "\n",
       "    .dataframe thead th {\n",
       "        text-align: right;\n",
       "    }\n",
       "</style>\n",
       "<table border=\"1\" class=\"dataframe\">\n",
       "  <thead>\n",
       "    <tr style=\"text-align: right;\">\n",
       "      <th></th>\n",
       "      <th>00</th>\n",
       "      <th>000</th>\n",
       "      <th>0000</th>\n",
       "      <th>0000001200</th>\n",
       "      <th>000005102000</th>\n",
       "      <th>0001</th>\n",
       "      <th>000100255pixel</th>\n",
       "      <th>00014</th>\n",
       "      <th>000406</th>\n",
       "      <th>0007</th>\n",
       "      <th>...</th>\n",
       "      <th>zvi</th>\n",
       "      <th>zvonko</th>\n",
       "      <th>zwart</th>\n",
       "      <th>zyeh</th>\n",
       "      <th>zyklon</th>\n",
       "      <th>zyxel</th>\n",
       "      <th>zz</th>\n",
       "      <th>zzz</th>\n",
       "      <th>ªl</th>\n",
       "      <th>íålittin</th>\n",
       "    </tr>\n",
       "  </thead>\n",
       "  <tbody>\n",
       "    <tr>\n",
       "      <th>0</th>\n",
       "      <td>0</td>\n",
       "      <td>0</td>\n",
       "      <td>0</td>\n",
       "      <td>0</td>\n",
       "      <td>0</td>\n",
       "      <td>0</td>\n",
       "      <td>0</td>\n",
       "      <td>0</td>\n",
       "      <td>0</td>\n",
       "      <td>0</td>\n",
       "      <td>...</td>\n",
       "      <td>0</td>\n",
       "      <td>0</td>\n",
       "      <td>0</td>\n",
       "      <td>0</td>\n",
       "      <td>0</td>\n",
       "      <td>0</td>\n",
       "      <td>0</td>\n",
       "      <td>0</td>\n",
       "      <td>0</td>\n",
       "      <td>0</td>\n",
       "    </tr>\n",
       "    <tr>\n",
       "      <th>1</th>\n",
       "      <td>0</td>\n",
       "      <td>0</td>\n",
       "      <td>0</td>\n",
       "      <td>0</td>\n",
       "      <td>0</td>\n",
       "      <td>0</td>\n",
       "      <td>0</td>\n",
       "      <td>0</td>\n",
       "      <td>0</td>\n",
       "      <td>0</td>\n",
       "      <td>...</td>\n",
       "      <td>0</td>\n",
       "      <td>0</td>\n",
       "      <td>0</td>\n",
       "      <td>0</td>\n",
       "      <td>0</td>\n",
       "      <td>0</td>\n",
       "      <td>0</td>\n",
       "      <td>0</td>\n",
       "      <td>0</td>\n",
       "      <td>0</td>\n",
       "    </tr>\n",
       "    <tr>\n",
       "      <th>2</th>\n",
       "      <td>0</td>\n",
       "      <td>0</td>\n",
       "      <td>0</td>\n",
       "      <td>0</td>\n",
       "      <td>0</td>\n",
       "      <td>0</td>\n",
       "      <td>0</td>\n",
       "      <td>0</td>\n",
       "      <td>0</td>\n",
       "      <td>0</td>\n",
       "      <td>...</td>\n",
       "      <td>0</td>\n",
       "      <td>0</td>\n",
       "      <td>0</td>\n",
       "      <td>0</td>\n",
       "      <td>0</td>\n",
       "      <td>0</td>\n",
       "      <td>0</td>\n",
       "      <td>0</td>\n",
       "      <td>0</td>\n",
       "      <td>0</td>\n",
       "    </tr>\n",
       "    <tr>\n",
       "      <th>3</th>\n",
       "      <td>0</td>\n",
       "      <td>0</td>\n",
       "      <td>0</td>\n",
       "      <td>0</td>\n",
       "      <td>0</td>\n",
       "      <td>0</td>\n",
       "      <td>0</td>\n",
       "      <td>0</td>\n",
       "      <td>0</td>\n",
       "      <td>0</td>\n",
       "      <td>...</td>\n",
       "      <td>0</td>\n",
       "      <td>0</td>\n",
       "      <td>2</td>\n",
       "      <td>0</td>\n",
       "      <td>0</td>\n",
       "      <td>0</td>\n",
       "      <td>0</td>\n",
       "      <td>0</td>\n",
       "      <td>0</td>\n",
       "      <td>0</td>\n",
       "    </tr>\n",
       "    <tr>\n",
       "      <th>4</th>\n",
       "      <td>1</td>\n",
       "      <td>0</td>\n",
       "      <td>0</td>\n",
       "      <td>0</td>\n",
       "      <td>0</td>\n",
       "      <td>0</td>\n",
       "      <td>0</td>\n",
       "      <td>0</td>\n",
       "      <td>0</td>\n",
       "      <td>0</td>\n",
       "      <td>...</td>\n",
       "      <td>0</td>\n",
       "      <td>0</td>\n",
       "      <td>0</td>\n",
       "      <td>0</td>\n",
       "      <td>0</td>\n",
       "      <td>0</td>\n",
       "      <td>0</td>\n",
       "      <td>0</td>\n",
       "      <td>0</td>\n",
       "      <td>0</td>\n",
       "    </tr>\n",
       "  </tbody>\n",
       "</table>\n",
       "<p>5 rows × 35788 columns</p>\n",
       "</div>"
      ],
      "text/plain": [
       "   00  000  0000  0000001200  000005102000  0001  000100255pixel  00014  \\\n",
       "0   0    0     0           0             0     0               0      0   \n",
       "1   0    0     0           0             0     0               0      0   \n",
       "2   0    0     0           0             0     0               0      0   \n",
       "3   0    0     0           0             0     0               0      0   \n",
       "4   1    0     0           0             0     0               0      0   \n",
       "\n",
       "   000406  0007  ...  zvi  zvonko  zwart  zyeh  zyklon  zyxel  zz  zzz  ªl  \\\n",
       "0       0     0  ...    0       0      0     0       0      0   0    0   0   \n",
       "1       0     0  ...    0       0      0     0       0      0   0    0   0   \n",
       "2       0     0  ...    0       0      0     0       0      0   0    0   0   \n",
       "3       0     0  ...    0       0      2     0       0      0   0    0   0   \n",
       "4       0     0  ...    0       0      0     0       0      0   0    0   0   \n",
       "\n",
       "   íålittin  \n",
       "0         0  \n",
       "1         0  \n",
       "2         0  \n",
       "3         0  \n",
       "4         0  \n",
       "\n",
       "[5 rows x 35788 columns]"
      ]
     },
     "execution_count": 134,
     "metadata": {},
     "output_type": "execute_result"
    }
   ],
   "source": [
    "import pandas as pd\n",
    "from sklearn.feature_extraction.text import CountVectorizer # ใช้ CountVectorizer\n",
    "\n",
    "text = news.data # ข้อความ(Text) ทุกเอกสาร\n",
    "cv = CountVectorizer() # กรณีไม่ตัดคำ Stop-words\n",
    "\n",
    "#cv = CountVectorizer(stop_words='english') # กรณีตัดคำ Stop words\n",
    "count_matrix = cv.fit_transform(text) # สร้างเมทริกซ์ คำ-จำนวนความถี่\n",
    "cols = cv.get_feature_names()\n",
    "word_matrix = count_matrix.toarray() # เปลี่ยนเป็น Array เพื่อใส่ DataFrame\n",
    "#word_matrix = count_matrix.todense() # ใช้คำสั้งนี้ก็ได้\n",
    "df = pd.DataFrame(word_matrix,\n",
    "                 columns=cols)\n",
    "df.head()\n"
   ]
  },
  {
   "cell_type": "code",
   "execution_count": 135,
   "metadata": {},
   "outputs": [
    {
     "data": {
      "text/plain": [
       "(2257, 35788)"
      ]
     },
     "execution_count": 135,
     "metadata": {},
     "output_type": "execute_result"
    }
   ],
   "source": [
    "df.shape"
   ]
  },
  {
   "cell_type": "code",
   "execution_count": 136,
   "metadata": {},
   "outputs": [
    {
     "data": {
      "text/html": [
       "<div>\n",
       "<style scoped>\n",
       "    .dataframe tbody tr th:only-of-type {\n",
       "        vertical-align: middle;\n",
       "    }\n",
       "\n",
       "    .dataframe tbody tr th {\n",
       "        vertical-align: top;\n",
       "    }\n",
       "\n",
       "    .dataframe thead th {\n",
       "        text-align: right;\n",
       "    }\n",
       "</style>\n",
       "<table border=\"1\" class=\"dataframe\">\n",
       "  <thead>\n",
       "    <tr style=\"text-align: right;\">\n",
       "      <th></th>\n",
       "      <th>counseling</th>\n",
       "      <th>counselling</th>\n",
       "      <th>counselor</th>\n",
       "      <th>count</th>\n",
       "      <th>counted</th>\n",
       "      <th>countenance</th>\n",
       "      <th>counter</th>\n",
       "      <th>counter_clockwise</th>\n",
       "      <th>counteract</th>\n",
       "      <th>counterargument</th>\n",
       "    </tr>\n",
       "  </thead>\n",
       "  <tbody>\n",
       "    <tr>\n",
       "      <th>0</th>\n",
       "      <td>0</td>\n",
       "      <td>0</td>\n",
       "      <td>0</td>\n",
       "      <td>0</td>\n",
       "      <td>0</td>\n",
       "      <td>0</td>\n",
       "      <td>0</td>\n",
       "      <td>0</td>\n",
       "      <td>0</td>\n",
       "      <td>0</td>\n",
       "    </tr>\n",
       "    <tr>\n",
       "      <th>1</th>\n",
       "      <td>0</td>\n",
       "      <td>0</td>\n",
       "      <td>0</td>\n",
       "      <td>0</td>\n",
       "      <td>0</td>\n",
       "      <td>0</td>\n",
       "      <td>0</td>\n",
       "      <td>0</td>\n",
       "      <td>0</td>\n",
       "      <td>0</td>\n",
       "    </tr>\n",
       "    <tr>\n",
       "      <th>2</th>\n",
       "      <td>0</td>\n",
       "      <td>0</td>\n",
       "      <td>0</td>\n",
       "      <td>0</td>\n",
       "      <td>1</td>\n",
       "      <td>0</td>\n",
       "      <td>0</td>\n",
       "      <td>0</td>\n",
       "      <td>0</td>\n",
       "      <td>0</td>\n",
       "    </tr>\n",
       "    <tr>\n",
       "      <th>3</th>\n",
       "      <td>0</td>\n",
       "      <td>0</td>\n",
       "      <td>0</td>\n",
       "      <td>0</td>\n",
       "      <td>0</td>\n",
       "      <td>0</td>\n",
       "      <td>0</td>\n",
       "      <td>0</td>\n",
       "      <td>0</td>\n",
       "      <td>0</td>\n",
       "    </tr>\n",
       "    <tr>\n",
       "      <th>4</th>\n",
       "      <td>0</td>\n",
       "      <td>0</td>\n",
       "      <td>0</td>\n",
       "      <td>0</td>\n",
       "      <td>0</td>\n",
       "      <td>0</td>\n",
       "      <td>0</td>\n",
       "      <td>0</td>\n",
       "      <td>0</td>\n",
       "      <td>0</td>\n",
       "    </tr>\n",
       "  </tbody>\n",
       "</table>\n",
       "</div>"
      ],
      "text/plain": [
       "   counseling  counselling  counselor  count  counted  countenance  counter  \\\n",
       "0           0            0          0      0        0            0        0   \n",
       "1           0            0          0      0        0            0        0   \n",
       "2           0            0          0      0        1            0        0   \n",
       "3           0            0          0      0        0            0        0   \n",
       "4           0            0          0      0        0            0        0   \n",
       "\n",
       "   counter_clockwise  counteract  counterargument  \n",
       "0                  0           0                0  \n",
       "1                  0           0                0  \n",
       "2                  0           0                0  \n",
       "3                  0           0                0  \n",
       "4                  0           0                0  "
      ]
     },
     "execution_count": 136,
     "metadata": {},
     "output_type": "execute_result"
    }
   ],
   "source": [
    "df[df.columns[10000:10010]].head() # ดูคอลัมน์ 10000 ถึง 10010"
   ]
  },
  {
   "cell_type": "code",
   "execution_count": 137,
   "metadata": {},
   "outputs": [
    {
     "data": {
      "text/plain": [
       "the        29825\n",
       "of         17660\n",
       "to         17222\n",
       "and        13017\n",
       "is         12343\n",
       "in         11226\n",
       "that       10723\n",
       "it          8447\n",
       "you         6157\n",
       "for         5962\n",
       "not         5285\n",
       "this        5063\n",
       "be          4898\n",
       "from        4877\n",
       "are         4769\n",
       "edu         4675\n",
       "have        4218\n",
       "as          4015\n",
       "on          3709\n",
       "with        3655\n",
       "but         3453\n",
       "or          3432\n",
       "if          3208\n",
       "was         3020\n",
       "can         2818\n",
       "we          2674\n",
       "there       2556\n",
       "by          2548\n",
       "what        2472\n",
       "subject     2464\n",
       "dtype: int64"
      ]
     },
     "execution_count": 137,
     "metadata": {},
     "output_type": "execute_result"
    }
   ],
   "source": [
    "dfsum = df.sum(axis=0, skipna=True)\n",
    "bow = dfsum.sort_values(ascending=False)[:30] #ดู 30 อันดับแรกที่สูงที่สุด\n",
    "bow # bag of words"
   ]
  },
  {
   "cell_type": "code",
   "execution_count": 138,
   "metadata": {},
   "outputs": [
    {
     "data": {
      "image/png": "[encoded data removed]",
      "text/plain": [
       "<Figure size 216x576 with 1 Axes>"
      ]
     },
     "metadata": {},
     "output_type": "display_data"
    }
   ],
   "source": [
    "# พล็อต Histogram แสดงความถี่\n",
    "import matplotlib.pyplot as plt\n",
    "import seaborn as sns\n",
    "\n",
    "sns.set(style='whitegrid') # ตั้งค่าสไตล์กราฟ\n",
    "plt.subplots(figsize=(3, 8)) # กำหนดขนาดกราฟ\n",
    "sns.barplot(bow.values, bow.index) # พล็อตกราฟแท่ง\n",
    "plt.ylabel('Words')\n",
    "plt.xlabel('Frequencies')\n",
    "plt.title('Frequency Distribution')\n",
    "plt.show()"
   ]
  },
  {
   "cell_type": "code",
   "execution_count": 139,
   "metadata": {},
   "outputs": [
    {
     "data": {
      "image/png": "[encoded data removed]",
      "text/plain": [
       "<Figure size 216x576 with 1 Axes>"
      ]
     },
     "metadata": {},
     "output_type": "display_data"
    }
   ],
   "source": [
    "# ตัด Stop words แล้ว\n",
    "import pandas as pd\n",
    "from sklearn.feature_extraction.text import CountVectorizer # ใช้ CountVectorizer\n",
    "\n",
    "text = news.data # ข้อความ(Text) ทุกเอกสาร\n",
    "#cv = CountVectorizer() # กรณีไม่ตัดคำ Stop-words\n",
    "\n",
    "cv = CountVectorizer(stop_words='english') # กรณีตัดคำ Stop words\n",
    "count_matrix = cv.fit_transform(text) # สร้างเมทริกซ์ คำ-จำนวนความถี่\n",
    "cols = cv.get_feature_names()\n",
    "word_matrix1 = count_matrix.toarray() # เปลี่ยนเป็น Array เพื่อใส่ DataFrame\n",
    "#word_matrix = count_matrix.todense() # ใช้คำสั้งนี้ก็ได้\n",
    "df = pd.DataFrame(word_matrix1,\n",
    "                 columns=cols)\n",
    "df.head()\n",
    "# พล็อต Histogram แสดงความถี่\n",
    "import matplotlib.pyplot as plt\n",
    "import seaborn as sns\n",
    "\n",
    "dfsum = df.sum(axis=0, skipna=True)\n",
    "bow = dfsum.sort_values(ascending=False)[:30] #ดู 30 อันดับแรกที่สูงที่สุด\n",
    "bow # bag of words\n",
    "\n",
    "sns.set(style='whitegrid') # ตั้งค่าสไตล์กราฟ\n",
    "plt.subplots(figsize=(3, 8)) # กำหนดขนาดกราฟ\n",
    "sns.barplot(bow.values, bow.index) # พล็อตกราฟแท่ง\n",
    "plt.ylabel('Words')\n",
    "plt.xlabel('Frequencies')\n",
    "plt.title('Frequency Distribution')\n",
    "plt.show()"
   ]
  },
  {
   "cell_type": "markdown",
   "metadata": {},
   "source": [
    "# Workshop 5 : ตรวจดูข้อความในข้อมูล"
   ]
  },
  {
   "cell_type": "code",
   "execution_count": 140,
   "metadata": {},
   "outputs": [
    {
     "name": "stdout",
     "output_type": "stream",
     "text": [
      "From: sd345@city.ac.uk (Michael Collier)\n",
      "Subject: Converting images to HP LaserJet III?\n",
      "Nntp-Posting-Host: hampton\n",
      "Organization: The City University\n",
      "Lines: 14\n",
      "\n",
      "Does anyone know of a good way (standard PC application/PD utility) to\n",
      "convert tif/img/tga files into LaserJet III format.  We would also like to\n",
      "do the same, converting to HPGL (HP plotter) files.\n",
      "\n",
      "Please email any response.\n",
      "\n",
      "Is this the correct group?\n",
      "\n",
      "Thanks in advance.  Michael.\n",
      "-- \n",
      "Michael Collier (Programmer)                 The Computer Unit,\n",
      "Email: M.P.Collier@uk.ac.city                The City University,\n",
      "Tel: 071 477-8000 x3769                      London,\n",
      "Fax: 071 477-8565                            EC1V 0HB.\n",
      "\n"
     ]
    }
   ],
   "source": [
    "print(news.data[0]) # text email ทั่วไป"
   ]
  },
  {
   "cell_type": "code",
   "execution_count": 141,
   "metadata": {},
   "outputs": [
    {
     "data": {
      "text/plain": [
       "1"
      ]
     },
     "execution_count": 141,
     "metadata": {},
     "output_type": "execute_result"
    }
   ],
   "source": [
    "# ต้องการดูว่าข้อความ (เอกสาร) นี้อยู่ในหมวดหมู่ใด(Target / Class) ใด\n",
    "news.target[0] # อยู่หมวดแรก"
   ]
  },
  {
   "cell_type": "code",
   "execution_count": 142,
   "metadata": {},
   "outputs": [
    {
     "data": {
      "text/plain": [
       "'comp.graphics'"
      ]
     },
     "execution_count": 142,
     "metadata": {},
     "output_type": "execute_result"
    }
   ],
   "source": [
    "# ดูชื่อหมวดหมู่\n",
    "news.target_names[(news.target[0])] #comp.graphics"
   ]
  },
  {
   "cell_type": "markdown",
   "metadata": {},
   "source": [
    "# Workshop 6 : ทำการ Train and Test"
   ]
  },
  {
   "cell_type": "code",
   "execution_count": 143,
   "metadata": {},
   "outputs": [],
   "source": [
    "# train_test_split\n",
    "X = news.data\n",
    "y = news.target\n",
    "\n",
    "from sklearn.model_selection import train_test_split\n",
    "\n",
    "X_train, X_test, y_train, y_test = train_test_split(X, y, test_size=.25, random_state=10)"
   ]
  },
  {
   "cell_type": "code",
   "execution_count": 144,
   "metadata": {},
   "outputs": [
    {
     "name": "stdout",
     "output_type": "stream",
     "text": [
      "Accuracy: 0.973, Time: 0.818\n"
     ]
    },
    {
     "data": {
      "text/plain": [
       "(1692, 31475)"
      ]
     },
     "execution_count": 144,
     "metadata": {},
     "output_type": "execute_result"
    }
   ],
   "source": [
    "# ทำการ Train and Test\n",
    "\n",
    "import time #จับเวลา\n",
    "from sklearn.naive_bayes import MultinomialNB\n",
    "from sklearn.feature_extraction.text import TfidfVectorizer\n",
    "\n",
    "start = time.time() # จับเวลาเริ่มต้ย\n",
    "tvec = TfidfVectorizer(stop_words='english')\n",
    "X_train_tfidf = tvec.fit_transform(X_train) # X_train ทำการ Transform ให้ได้ Matrix ก่อน\n",
    "X_test_tfidf = tvec.transform(X_test) # X_test ทำการ transform ให้ได้ Matrix ก่อน\n",
    "\n",
    "model = MultinomialNB(alpha=.005) # สร้าง object\n",
    "model.fit(X_train_tfidf, y_train) # ทำการ Train\n",
    "end = time.time() # บันทึกเวลาจบ\n",
    "\n",
    "print('Accuracy: {:.3f}, Time: {:.3f}' # รายงานความแม่นยำและแสดงเวลาที่ใช้ Train\n",
    "     .format(model.score(X_test_tfidf, y_test),(end-start)))\n",
    "\n",
    "X_train_tfidf.shape # 31475 ตัวอย่าง"
   ]
  },
  {
   "cell_type": "code",
   "execution_count": 145,
   "metadata": {},
   "outputs": [
    {
     "name": "stdout",
     "output_type": "stream",
     "text": [
      "Accuracy: 0.975, Time: 0.916\n"
     ]
    },
    {
     "data": {
      "text/plain": [
       "(1692, 31780)"
      ]
     },
     "execution_count": 145,
     "metadata": {},
     "output_type": "execute_result"
    }
   ],
   "source": [
    "# ใช้ Stop words มา train ด้วย\n",
    "import time #จับเวลา\n",
    "from sklearn.naive_bayes import MultinomialNB\n",
    "from sklearn.feature_extraction.text import TfidfVectorizer\n",
    "\n",
    "start = time.time() # จับเวลาเริ่มต้ย\n",
    "tvec = TfidfVectorizer() # เปิด stop words\n",
    "X_train_tfidf = tvec.fit_transform(X_train) # X_train ทำการ Transform ให้ได้ Matrix ก่อน\n",
    "X_test_tfidf = tvec.transform(X_test) # X_test ทำการ transform ให้ได้ Matrix ก่อน\n",
    "\n",
    "model = MultinomialNB(alpha=.005) # สร้าง object\n",
    "model.fit(X_train_tfidf, y_train) # ทำการ Train\n",
    "end = time.time() # บันทึกเวลาจบ\n",
    "\n",
    "print('Accuracy: {:.3f}, Time: {:.3f}' # รายงานความแม่นยำและแสดงเวลาที่ใช้ Train \n",
    "     .format(model.score(X_test_tfidf, y_test),(end-start)))\n",
    "X_train_tfidf.shape # 31780 ตัวอย่าง"
   ]
  },
  {
   "cell_type": "markdown",
   "metadata": {},
   "source": [
    "# Workshop 7 : การทำนาย"
   ]
  },
  {
   "cell_type": "code",
   "execution_count": 146,
   "metadata": {},
   "outputs": [
    {
     "data": {
      "text/plain": [
       "'soc.religion.christian'"
      ]
     },
     "execution_count": 146,
     "metadata": {},
     "output_type": "execute_result"
    }
   ],
   "source": [
    "#new_docs = ['OpenGL on the GPU is fast.']  # comp.graphs\n",
    "#new_docs = ['ask about health care topic.'] # 'sci.med'\n",
    "#new_docs = ['God is love. loves you every body.'] #'soc.religion.christian'\n",
    "new_docs_cv = tvec.transform(new_docs) # tvec จาก Workshop 6\n",
    "y_pred = model.predict(new_docs_cv) # y_pred คือหมวดหมู่ ค่าตัวเลข 1 2 3 ..\n",
    "news.target_names[y_pred[0]]"
   ]
  },
  {
   "cell_type": "code",
   "execution_count": 148,
   "metadata": {},
   "outputs": [],
   "source": [
    "# predict ทีละหลายๆตัว\n",
    "new_docs = ['God is love. love you every body.',\n",
    "           'OpenGL on the GPU is fast.',\n",
    "           'ask about health care topic.']\n",
    "new_docs_cv = tvec.transform(new_docs)\n",
    "y_pred = model.predict(new_docs_cv)\n",
    "# ลูปการรันโปรแกรมหลายๆรอบ\n",
    "for k in y_pred:\n",
    "    print(news.target_names[k])"
   ]
  },
  {
   "cell_type": "markdown",
   "metadata": {},
   "source": [
    "# Workshop 8 : การใช้ Pipeline"
   ]
  },
  {
   "cell_type": "raw",
   "metadata": {},
   "source": [
    "tvec = TfidfVectorizer(stop_words='english')\n",
    "X_train_tfidf = tvec.fit_transform(X_train) # X_train ทำการ transform ให้ได้เมทริกซ์ก่อน\n",
    "X_test_tfidf = tvec.transform(X_test) # X_test ทำการ transform ให้ได้เมทริกซ์ก่อน"
   ]
  },
  {
   "cell_type": "raw",
   "metadata": {},
   "source": [
    "new_docs_cv = tvec.transform(new_docs) # X_train ทำการ transform ให้ได้เมทริกซ์ก่อน\n",
    "y_pred = model.predict(new_docs_cv) # y_pred คือ หมวดหมู่ (ค่าตัวเลข 1 2 3)"
   ]
  },
  {
   "cell_type": "code",
   "execution_count": 156,
   "metadata": {},
   "outputs": [
    {
     "name": "stdout",
     "output_type": "stream",
     "text": [
      "Acuracy: 0.975, Time: 0.667\n"
     ]
    }
   ],
   "source": [
    "#เพื่อลดขั้นตอนการทำงานใช้ Pipeline เข้าช่วย\n",
    "from sklearn.pipeline import Pipeline\n",
    "from sklearn.feature_extraction.text import TfidfVectorizer\n",
    "from sklearn.naive_bayes import MultinomialNB\n",
    "import time\n",
    "start = time.time()\n",
    "\n",
    "pipe1 = Pipeline([('vectorizer', TfidfVectorizer()),\n",
    "                 ('classifier', MultinomialNB(alpha=0.005))])\n",
    "pipe1.fit(X_train, y_train)\n",
    "\n",
    "end = time.time()\n",
    "print('Acuracy: {:.3f}, Time: {:.3f}'.format(pipe1.score(X_test, y_test),(end-start)))"
   ]
  },
  {
   "cell_type": "code",
   "execution_count": 157,
   "metadata": {},
   "outputs": [
    {
     "name": "stdout",
     "output_type": "stream",
     "text": [
      "soc.religion.christian\n",
      "comp.graphics\n",
      "sci.med\n"
     ]
    }
   ],
   "source": [
    "# predict ทีละหลายคำละหลายๆตัว\n",
    "new_docs = ['God is love. love you every body.',\n",
    "           'OpenGL on the GPU is fast.',\n",
    "           'ask about health care topic.']\n",
    "y_pred = pipe1.predict(new_docs) # y_pred คือหมวดหมู่ (ได้คำตอบเป็น 1 2 3)\n",
    "\n",
    "# อ่านพร้อมกันหลายๆค่าตามlabel\n",
    "for k in y_pred:\n",
    "    print(news.target_names[k])"
   ]
  },
  {
   "cell_type": "markdown",
   "metadata": {},
   "source": [
    "# Workshop9 : การประเมิณ Model"
   ]
  },
  {
   "cell_type": "code",
   "execution_count": 160,
   "metadata": {},
   "outputs": [
    {
     "name": "stdout",
     "output_type": "stream",
     "text": [
      "[[125   0   0   6]\n",
      " [  0 160   0   0]\n",
      " [  0   5 127   0]\n",
      " [  1   1   1 139]]\n",
      "                        precision    recall  f1-score   support\n",
      "\n",
      "           alt.atheism       0.99      0.95      0.97       131\n",
      "         comp.graphics       0.96      1.00      0.98       160\n",
      "               sci.med       0.99      0.96      0.98       132\n",
      "soc.religion.christian       0.96      0.98      0.97       142\n",
      "\n",
      "              accuracy                           0.98       565\n",
      "             macro avg       0.98      0.97      0.97       565\n",
      "          weighted avg       0.98      0.98      0.98       565\n",
      "\n"
     ]
    },
    {
     "data": {
      "image/png": "[encoded data removed]",
      "text/plain": [
       "<Figure size 360x288 with 2 Axes>"
      ]
     },
     "metadata": {},
     "output_type": "display_data"
    }
   ],
   "source": [
    "from sklearn.metrics import confusion_matrix # Confusion Matrix\n",
    "from sklearn import metrics\n",
    "import matplotlib.pyplot as plt\n",
    "\n",
    "y_pred = pipe1.predict(X_test)\n",
    "\n",
    "cm = confusion_matrix(y_test, y_pred)\n",
    "print(cm)\n",
    "\n",
    "labels = news.target_names\n",
    "print(metrics.classification_report(y_test, y_pred, target_names=labels))\n",
    "fig, ax = plt.subplots(figsize=(5, 4))\n",
    "sns.heatmap(cm, annot=True, cmap='Set3', fmt='d',\n",
    "           xticklabels=labels, yticklabels=labels)\n",
    "plt.ylabel('Actual')\n",
    "plt.xlabel('Predicted')\n",
    "plt.show()"
   ]
  },
  {
   "cell_type": "markdown",
   "metadata": {},
   "source": [
    "# Workshop 10 : การเตรียมชุดข้อมูลของเราเอง"
   ]
  },
  {
   "cell_type": "code",
   "execution_count": 1,
   "metadata": {},
   "outputs": [],
   "source": [
    "# เตรียมไฟล์ข้อความ (Text File .txt) โดยกำหนดให้เก็บ 1 ข้อมความ 1 ไฟล์\n",
    "# สร้าง Floder โดยตั้งชื่อตามหมวดหมู่ที่ต้องการ (ชื่อfloder คือ Target /Label) สามารถสร้างไว้ใต้floder อีกกี่ชั้น\n",
    "# เก็บข้อความไว้ในไฟล์ชนิดข้อความ .txt (1 ไฟล์ เก็บ 1 ข้อความ ) เก็บไฟล์ไว้ในโฟลเดอร์ของแต่ละหมวดหมู่"
   ]
  },
  {
   "cell_type": "code",
   "execution_count": 3,
   "metadata": {},
   "outputs": [
    {
     "data": {
      "text/plain": [
       "[('Action', 11),\n",
       " ('Biography', 10),\n",
       " ('Crime', 8),\n",
       " ('Drama', 10),\n",
       " ('Horror', 10),\n",
       " ('SciFi', 10)]"
      ]
     },
     "execution_count": 3,
     "metadata": {},
     "output_type": "execute_result"
    }
   ],
   "source": [
    "# เรียกใช้ Dataset\n",
    "import numpy as np\n",
    "from sklearn.datasets import load_files\n",
    "\n",
    "Data_Dir = 'dataset_NLP_eng/movies2019/' # เก็บชื่อที่อยู่ไฟล์\n",
    "movies = load_files(Data_Dir, encoding='utf-8', decode_error='replace') # data\n",
    "labels, counts = np.unique(movies.target, return_counts=True) # ดูชื่อไฟล์\n",
    "labels_str = np.array(movies.target_names)[labels]\n",
    "list(zip(labels_str, counts))"
   ]
  },
  {
   "cell_type": "code",
   "execution_count": 5,
   "metadata": {},
   "outputs": [
    {
     "data": {
      "text/plain": [
       "59"
      ]
     },
     "execution_count": 5,
     "metadata": {},
     "output_type": "execute_result"
    }
   ],
   "source": [
    "# จำนวน samples 59 labels มี features น้อยเกินไปปรับปรุงเพิ่ม\n",
    "#len(movies.data) # 59\n",
    "# จำนวน Target\n",
    "#len(movies.target) # 59"
   ]
  },
  {
   "cell_type": "code",
   "execution_count": 9,
   "metadata": {},
   "outputs": [
    {
     "name": "stdout",
     "output_type": "stream",
     "text": [
      "Accuracy: 0.000, Time: 0.018\n"
     ]
    },
    {
     "data": {
      "text/plain": [
       "(44, 567)"
      ]
     },
     "execution_count": 9,
     "metadata": {},
     "output_type": "execute_result"
    }
   ],
   "source": [
    "# Data preparation\n",
    "X = movies.data\n",
    "y = movies.data\n",
    "\n",
    "from sklearn.model_selection import train_test_split\n",
    "\n",
    "X_train, X_test, y_train, y_test = train_test_split(X, y, test_size=.25, random_state=10)\n",
    "\n",
    "# ทำการ Train and Test\n",
    "\n",
    "import time #จับเวลา\n",
    "from sklearn.naive_bayes import MultinomialNB\n",
    "from sklearn.feature_extraction.text import TfidfVectorizer\n",
    "\n",
    "start = time.time() # จับเวลาเริ่มต้ย\n",
    "tvec = TfidfVectorizer(stop_words='english')\n",
    "X_train_tfidf = tvec.fit_transform(X_train) # X_train ทำการ Transform ให้ได้ Matrix ก่อน\n",
    "X_test_tfidf = tvec.transform(X_test) # X_test ทำการ transform ให้ได้ Matrix ก่อน\n",
    "\n",
    "model = MultinomialNB(alpha=.005) # สร้าง object\n",
    "model.fit(X_train_tfidf, y_train) # ทำการ Train\n",
    "end = time.time() # บันทึกเวลาจบ\n",
    "\n",
    "print('Accuracy: {:.3f}, Time: {:.3f}' # รายงานความแม่นยำและแสดงเวลาที่ใช้ Train\n",
    "     .format(model.score(X_test_tfidf, y_test),(end-start)))\n",
    "\n",
    "X_train_tfidf.shape # 59 ตัวอย่าง"
   ]
  },
  {
   "cell_type": "code",
   "execution_count": 10,
   "metadata": {},
   "outputs": [
    {
     "ename": "ValueError",
     "evalue": "Expected 2D array, got 1D array instead:\narray=[\"After the devastating events of Avengers: Infinity War (2018), the universe is in ruins. With the help of remaining allies, the Avengers assemble once more in order to reverse Thanos' actions and restore balance to the universe.\"\n 'A veteran hunter helps an FBI agent investigate the murder of a young woman on a Wyoming Native American reservation.'\n 'When the world is under attack from terrifying creatures who hunt their human prey by sound, 16-year old Ally Andrews (Kiernan Shipka), who lost her hearing at 13, and her family seek refuge in a remote haven.'\n 'Competitive ice skater Tonya Harding rises amongst the ranks at the U.S. Figure Skating Championships, but her future in the activity is thrown into doubt when her ex-husband intervenes.'\n 'A musician helps a young singer find fame as age and alcoholism send his own career into a downward spiral.'\n 'When three different animals become infected with a dangerous pathogen, a primatologist and a geneticist team up to stop them from destroying Chicago.'\n 'A young fugitive prince and princess must stop a villain who unknowingly threatens to destroy the world with a special dagger that enables the magic sand inside to reverse time.'\n 'Dr. Louis Creed and his wife, Rachel, relocate from Boston to rural Maine with their two young children. The couple soon discover a mysterious burial ground hidden deep in the woods near their new home.'\n 'A collection of animated short stories that span various genres including science fiction, fantasy, horror and comedy.'\n \"The NSA's illegal surveillance techniques are leaked to the public by one of the agency's employees, Edward Snowden, in the form of thousands of classified documents distributed to the press.\"\n 'A chronicle of the crimes of Ted Bundy from the perspective of Liz, his longtime girlfriend, who refused to believe the truth about him for years.'\n 'In an unbelievable story of perseverance, free climber Tommy Caldwell and climbing partner Kevin Jorgeson attempt to scale the impossible 3000ft Dawn Wall of El Capitan.'\n 'A deactivated cyborg is revived, but cannot remember anything of her past life and goes on a quest to find out who she is.'\n 'An experience about the highest peaks around the world.'\n 'Steven, a charismatic surgeon, is forced to make an unthinkable sacrifice after his life starts to fall apart, when the behavior of a teenage boy he has taken under his wing turns sinister.'].\nReshape your data either using array.reshape(-1, 1) if your data has a single feature or array.reshape(1, -1) if it contains a single sample.",
     "output_type": "error",
     "traceback": [
      "\u001b[1;31m---------------------------------------------------------------------------\u001b[0m",
      "\u001b[1;31mValueError\u001b[0m                                Traceback (most recent call last)",
      "\u001b[1;32m<ipython-input-10-217712d509c7>\u001b[0m in \u001b[0;36m<module>\u001b[1;34m\u001b[0m\n\u001b[0;32m      4\u001b[0m \u001b[1;32mimport\u001b[0m \u001b[0mmatplotlib\u001b[0m\u001b[1;33m.\u001b[0m\u001b[0mpyplot\u001b[0m \u001b[1;32mas\u001b[0m \u001b[0mplt\u001b[0m\u001b[1;33m\u001b[0m\u001b[1;33m\u001b[0m\u001b[0m\n\u001b[0;32m      5\u001b[0m \u001b[1;33m\u001b[0m\u001b[0m\n\u001b[1;32m----> 6\u001b[1;33m \u001b[0my_pred\u001b[0m \u001b[1;33m=\u001b[0m \u001b[0mmodel\u001b[0m\u001b[1;33m.\u001b[0m\u001b[0mpredict\u001b[0m\u001b[1;33m(\u001b[0m\u001b[0mX_test\u001b[0m\u001b[1;33m)\u001b[0m \u001b[1;31m# error\u001b[0m\u001b[1;33m\u001b[0m\u001b[1;33m\u001b[0m\u001b[0m\n\u001b[0m\u001b[0;32m      7\u001b[0m \u001b[1;33m\u001b[0m\u001b[0m\n\u001b[0;32m      8\u001b[0m \u001b[0mcm\u001b[0m \u001b[1;33m=\u001b[0m \u001b[0mconfusion_matrix\u001b[0m\u001b[1;33m(\u001b[0m\u001b[0my_test\u001b[0m\u001b[1;33m,\u001b[0m \u001b[0my_pred\u001b[0m\u001b[1;33m)\u001b[0m\u001b[1;33m\u001b[0m\u001b[1;33m\u001b[0m\u001b[0m\n",
      "\u001b[1;32m~\\anaconda3\\lib\\site-packages\\sklearn\\naive_bayes.py\u001b[0m in \u001b[0;36mpredict\u001b[1;34m(self, X)\u001b[0m\n\u001b[0;32m     74\u001b[0m         \"\"\"\n\u001b[0;32m     75\u001b[0m         \u001b[0mcheck_is_fitted\u001b[0m\u001b[1;33m(\u001b[0m\u001b[0mself\u001b[0m\u001b[1;33m)\u001b[0m\u001b[1;33m\u001b[0m\u001b[1;33m\u001b[0m\u001b[0m\n\u001b[1;32m---> 76\u001b[1;33m         \u001b[0mX\u001b[0m \u001b[1;33m=\u001b[0m \u001b[0mself\u001b[0m\u001b[1;33m.\u001b[0m\u001b[0m_check_X\u001b[0m\u001b[1;33m(\u001b[0m\u001b[0mX\u001b[0m\u001b[1;33m)\u001b[0m\u001b[1;33m\u001b[0m\u001b[1;33m\u001b[0m\u001b[0m\n\u001b[0m\u001b[0;32m     77\u001b[0m         \u001b[0mjll\u001b[0m \u001b[1;33m=\u001b[0m \u001b[0mself\u001b[0m\u001b[1;33m.\u001b[0m\u001b[0m_joint_log_likelihood\u001b[0m\u001b[1;33m(\u001b[0m\u001b[0mX\u001b[0m\u001b[1;33m)\u001b[0m\u001b[1;33m\u001b[0m\u001b[1;33m\u001b[0m\u001b[0m\n\u001b[0;32m     78\u001b[0m         \u001b[1;32mreturn\u001b[0m \u001b[0mself\u001b[0m\u001b[1;33m.\u001b[0m\u001b[0mclasses_\u001b[0m\u001b[1;33m[\u001b[0m\u001b[0mnp\u001b[0m\u001b[1;33m.\u001b[0m\u001b[0margmax\u001b[0m\u001b[1;33m(\u001b[0m\u001b[0mjll\u001b[0m\u001b[1;33m,\u001b[0m \u001b[0maxis\u001b[0m\u001b[1;33m=\u001b[0m\u001b[1;36m1\u001b[0m\u001b[1;33m)\u001b[0m\u001b[1;33m]\u001b[0m\u001b[1;33m\u001b[0m\u001b[1;33m\u001b[0m\u001b[0m\n",
      "\u001b[1;32m~\\anaconda3\\lib\\site-packages\\sklearn\\naive_bayes.py\u001b[0m in \u001b[0;36m_check_X\u001b[1;34m(self, X)\u001b[0m\n\u001b[0;32m    470\u001b[0m \u001b[1;33m\u001b[0m\u001b[0m\n\u001b[0;32m    471\u001b[0m     \u001b[1;32mdef\u001b[0m \u001b[0m_check_X\u001b[0m\u001b[1;33m(\u001b[0m\u001b[0mself\u001b[0m\u001b[1;33m,\u001b[0m \u001b[0mX\u001b[0m\u001b[1;33m)\u001b[0m\u001b[1;33m:\u001b[0m\u001b[1;33m\u001b[0m\u001b[1;33m\u001b[0m\u001b[0m\n\u001b[1;32m--> 472\u001b[1;33m         \u001b[1;32mreturn\u001b[0m \u001b[0mcheck_array\u001b[0m\u001b[1;33m(\u001b[0m\u001b[0mX\u001b[0m\u001b[1;33m,\u001b[0m \u001b[0maccept_sparse\u001b[0m\u001b[1;33m=\u001b[0m\u001b[1;34m'csr'\u001b[0m\u001b[1;33m)\u001b[0m\u001b[1;33m\u001b[0m\u001b[1;33m\u001b[0m\u001b[0m\n\u001b[0m\u001b[0;32m    473\u001b[0m \u001b[1;33m\u001b[0m\u001b[0m\n\u001b[0;32m    474\u001b[0m     \u001b[1;32mdef\u001b[0m \u001b[0m_check_X_y\u001b[0m\u001b[1;33m(\u001b[0m\u001b[0mself\u001b[0m\u001b[1;33m,\u001b[0m \u001b[0mX\u001b[0m\u001b[1;33m,\u001b[0m \u001b[0my\u001b[0m\u001b[1;33m)\u001b[0m\u001b[1;33m:\u001b[0m\u001b[1;33m\u001b[0m\u001b[1;33m\u001b[0m\u001b[0m\n",
      "\u001b[1;32m~\\anaconda3\\lib\\site-packages\\sklearn\\utils\\validation.py\u001b[0m in \u001b[0;36mcheck_array\u001b[1;34m(array, accept_sparse, accept_large_sparse, dtype, order, copy, force_all_finite, ensure_2d, allow_nd, ensure_min_samples, ensure_min_features, warn_on_dtype, estimator)\u001b[0m\n\u001b[0;32m    554\u001b[0m                     \u001b[1;34m\"Reshape your data either using array.reshape(-1, 1) if \"\u001b[0m\u001b[1;33m\u001b[0m\u001b[1;33m\u001b[0m\u001b[0m\n\u001b[0;32m    555\u001b[0m                     \u001b[1;34m\"your data has a single feature or array.reshape(1, -1) \"\u001b[0m\u001b[1;33m\u001b[0m\u001b[1;33m\u001b[0m\u001b[0m\n\u001b[1;32m--> 556\u001b[1;33m                     \"if it contains a single sample.\".format(array))\n\u001b[0m\u001b[0;32m    557\u001b[0m \u001b[1;33m\u001b[0m\u001b[0m\n\u001b[0;32m    558\u001b[0m         \u001b[1;31m# in the future np.flexible dtypes will be handled like object dtypes\u001b[0m\u001b[1;33m\u001b[0m\u001b[1;33m\u001b[0m\u001b[1;33m\u001b[0m\u001b[0m\n",
      "\u001b[1;31mValueError\u001b[0m: Expected 2D array, got 1D array instead:\narray=[\"After the devastating events of Avengers: Infinity War (2018), the universe is in ruins. With the help of remaining allies, the Avengers assemble once more in order to reverse Thanos' actions and restore balance to the universe.\"\n 'A veteran hunter helps an FBI agent investigate the murder of a young woman on a Wyoming Native American reservation.'\n 'When the world is under attack from terrifying creatures who hunt their human prey by sound, 16-year old Ally Andrews (Kiernan Shipka), who lost her hearing at 13, and her family seek refuge in a remote haven.'\n 'Competitive ice skater Tonya Harding rises amongst the ranks at the U.S. Figure Skating Championships, but her future in the activity is thrown into doubt when her ex-husband intervenes.'\n 'A musician helps a young singer find fame as age and alcoholism send his own career into a downward spiral.'\n 'When three different animals become infected with a dangerous pathogen, a primatologist and a geneticist team up to stop them from destroying Chicago.'\n 'A young fugitive prince and princess must stop a villain who unknowingly threatens to destroy the world with a special dagger that enables the magic sand inside to reverse time.'\n 'Dr. Louis Creed and his wife, Rachel, relocate from Boston to rural Maine with their two young children. The couple soon discover a mysterious burial ground hidden deep in the woods near their new home.'\n 'A collection of animated short stories that span various genres including science fiction, fantasy, horror and comedy.'\n \"The NSA's illegal surveillance techniques are leaked to the public by one of the agency's employees, Edward Snowden, in the form of thousands of classified documents distributed to the press.\"\n 'A chronicle of the crimes of Ted Bundy from the perspective of Liz, his longtime girlfriend, who refused to believe the truth about him for years.'\n 'In an unbelievable story of perseverance, free climber Tommy Caldwell and climbing partner Kevin Jorgeson attempt to scale the impossible 3000ft Dawn Wall of El Capitan.'\n 'A deactivated cyborg is revived, but cannot remember anything of her past life and goes on a quest to find out who she is.'\n 'An experience about the highest peaks around the world.'\n 'Steven, a charismatic surgeon, is forced to make an unthinkable sacrifice after his life starts to fall apart, when the behavior of a teenage boy he has taken under his wing turns sinister.'].\nReshape your data either using array.reshape(-1, 1) if your data has a single feature or array.reshape(1, -1) if it contains a single sample."
     ]
    }
   ],
   "source": [
    "# ประเมิน model\n",
    "from sklearn.metrics import confusion_matrix # Confusion Matrix\n",
    "from sklearn import metrics\n",
    "import matplotlib.pyplot as plt\n",
    "\n",
    "y_pred = model.predict(X_test) # error\n",
    "\n",
    "cm = confusion_matrix(y_test, y_pred)\n",
    "print(cm)\n",
    "\n",
    "labels = movies.target_names\n",
    "print(metrics.classification_report(y_test, y_pred, target_names=labels))\n",
    "fig, ax = plt.subplots(figsize=(5, 4))\n",
    "sns.heatmap(cm, annot=True, cmap='Set3', fmt='d',\n",
    "           xticklabels=labels, yticklabels=labels)\n",
    "plt.ylabel('Actual')\n",
    "plt.xlabel('Predicted')\n",
    "plt.show()"
   ]
  },
  {
   "cell_type": "code",
   "execution_count": null,
   "metadata": {},
   "outputs": [],
   "source": []
  }
 ],
 "metadata": {
  "kernelspec": {
   "display_name": "Python 3",
   "language": "python",
   "name": "python3"
  },
  "language_info": {
   "codemirror_mode": {
    "name": "ipython",
    "version": 3
   },
   "file_extension": ".py",
   "mimetype": "text/x-python",
   "name": "python",
   "nbconvert_exporter": "python",
   "pygments_lexer": "ipython3",
   "version": "3.7.6"
  }
 },
 "nbformat": 4,
 "nbformat_minor": 4
}
