{
 "cells": [
  {
   "cell_type": "code",
   "execution_count": 1,
   "metadata": {},
   "outputs": [
    {
     "data": {
      "text/plain": [
       "1    5\n",
       "2    3\n",
       "Name: Gender, dtype: int64"
      ]
     },
     "execution_count": 1,
     "metadata": {},
     "output_type": "execute_result"
    }
   ],
   "source": [
    "#WorkShop1:หาค่าเฉลี่ย สูงสุด ต่ำสุด\n",
    "import pandas as pd\n",
    "datas = [1.2, 2.3, 1.5,2,3,1.8,1.4,2.5] # ยอดซื้อ หน่วย x พันบาท\n",
    "ds = pd.Series(datas)\n",
    "ds.mean() #ค่าเฉลี่ย\n",
    "ds.max() #ค่าสูงสุด\n",
    "ds.min() #ค่าต่ำสุด\n",
    "ds.values #ดูข้อมูลที่เก็บในตัวแปร ds\n",
    "\n",
    "#WorkShop2: หาค่าเฉลี่ย สูงสุด จากไฟล์ Excel\n",
    "names = ['Kobkiat','ณิแนน','จอห์น','Tim','Jang','Mark','แดง','ชมพู']\n",
    "ages = ['25','22','25','35','32','28','23','26']\n",
    "buy = ['1.2','2.3','1.5','2','3','1.8','1.4','2.5']\n",
    "sex = ['1','2','1','1','2','1','1','2']\n",
    "gender = ['M','F','M','M','F','M','M','F']\n",
    "name_series = pd.Series(names)\n",
    "age_series = pd.Series(ages)\n",
    "buy_series = pd.Series(buy)\n",
    "sex_series = pd.Series(sex)\n",
    "gender_series = pd.Series(gender)\n",
    "#datas = list(zip(lst0,lst1,lst2))\n",
    "datasum = list(zip(name_series,age_series,buy_series,sex_series,gender_series)) #จับคู่ข้อมูลแต่ละตัวตามindex\n",
    "cols = ['Name','Age','Buy','Sex','Gender']\n",
    "dfStat = pd.DataFrame(datasum, columns =cols)\n",
    "dfStat.to_csv('Statistic.csv', index=False, columns=cols) #index =False ไม่สร้างแถวเกิน\n",
    "uri = 'Statistic.csv'\n",
    "dfStat = pd.read_csv(uri)\n",
    "#dfStat.dtypes\n",
    "#dfStat.mean()\n",
    "\n",
    "#Sex เป็นข้อมูลแบบ Nominal Scaleไม่ควรนำมาคิดค่าเฉลี่ย ให้เปลี่ยนชนิดข้อมูลเป็นCategory\n",
    "dfStat.Sex = dfStat.Sex.astype('category') #เปลี่ยนtype\n",
    "dfStat.dtypes\n",
    "dfStat.mean()\n",
    "#dfStat.min()\n",
    "#dfStat.max()\n",
    "#dfStat.std()\n",
    "dfStat.describe()\n",
    "ds.median() #หาค่ากลางของข้อมูล มัธยฐาน\n",
    "ds.sort_values().values #จัดเรียงข้อมูลจากน้อยไปมาก\n",
    "dfStat.Buy.median() #ค่ามัธยฐานเฉพาะ Buy\n",
    "dfStat.median() #คำนวณค่ามัธยฐานทุกค่าที่เป็นค่าคำนวณได้\n",
    "\n",
    "#ฐานนิยม\n",
    "age_series.mode() \n",
    "\n",
    "#ฐานนิยมจากไฟล์ข้อมูล\n",
    "dfStat.Age.mode()\n",
    "\n",
    "#การวัดการกระจายข้อมูล\n",
    "#ส่วงเบี่ยงเบนมาตรฐาน\n",
    "dfStat.std()\n",
    "dfStat.describe()\n",
    "\n",
    "#Quatile (การแบ่งเป็น 4 ส่วน)\n",
    "datas = [8,4,10,2,6,5,1,7,9,3,0]\n",
    "ds = pd.Series(datas)\n",
    "#ds.describe()\n",
    "ds.quantile([0.25,0.5,0.75]) #หรือใช้คำสั่งหาค่าควอไทล์แบบนี้ก็ได้\n",
    "#Decile\n",
    "ds.quantile([0.1,0.2,0.3,0.4,0.5,0.6,0.7,0.8,0.9,1.0])\n",
    "#Percentile\n",
    "ds.quantile([0.05,0.1,0.15,0.2,0.25])\n",
    "\n",
    "#Frequency Distribution\n",
    "#print(gender_series.value_counts())\n",
    "#print('Total=',gender_series.count())\n",
    "\n",
    "#%matplotlib inline\n",
    "#gender_series.value_counts().plot.bar(grid=True)\n",
    "\n",
    "#การอ่านไฟล์\n",
    "dfStat.Sex.value_counts()\n",
    "dfStat.Gender.value_counts()\n",
    "#เขียนกราฟจากไฟล์\n",
    "#dfStat.Sex.value_counts().plot.bar(grid=True)\n",
    "#dfStat.Gender.value_counts().plot.bar(grid=True)"
   ]
  },
  {
   "cell_type": "code",
   "execution_count": 17,
   "metadata": {},
   "outputs": [
    {
     "data": {
      "text/plain": [
       "Age    27.0000\n",
       "Buy     1.9625\n",
       "Sex     1.3750\n",
       "dtype: float64"
      ]
     },
     "execution_count": 17,
     "metadata": {},
     "output_type": "execute_result"
    }
   ],
   "source": [
    "dfStat.mean()"
   ]
  },
  {
   "cell_type": "code",
   "execution_count": null,
   "metadata": {},
   "outputs": [],
   "source": []
  },
  {
   "cell_type": "code",
   "execution_count": null,
   "metadata": {},
   "outputs": [],
   "source": []
  },
  {
   "cell_type": "code",
   "execution_count": null,
   "metadata": {},
   "outputs": [],
   "source": []
  }
 ],
 "metadata": {
  "kernelspec": {
   "display_name": "Python 3",
   "language": "python",
   "name": "python3"
  },
  "language_info": {
   "codemirror_mode": {
    "name": "ipython",
    "version": 3
   },
   "file_extension": ".py",
   "mimetype": "text/x-python",
   "name": "python",
   "nbconvert_exporter": "python",
   "pygments_lexer": "ipython3",
   "version": "3.7.6"
  }
 },
 "nbformat": 4,
 "nbformat_minor": 4
}
