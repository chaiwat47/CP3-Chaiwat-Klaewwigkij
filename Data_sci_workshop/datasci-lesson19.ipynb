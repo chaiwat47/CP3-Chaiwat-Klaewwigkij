{
 "cells": [
  {
   "cell_type": "code",
   "execution_count": 19,
   "metadata": {},
   "outputs": [
    {
     "name": "stdout",
     "output_type": "stream",
     "text": [
      ".. _digits_dataset:\n",
      "\n",
      "Optical recognition of handwritten digits dataset\n",
      "--------------------------------------------------\n",
      "\n",
      "**Data Set Characteristics:**\n",
      "\n",
      "    :Number of Instances: 5620\n",
      "    :Number of Attributes: 64\n",
      "    :Attribute Information: 8x8 image of integer pixels in the range 0..16.\n",
      "    :Missing Attribute Values: None\n",
      "    :Creator: E. Alpaydin (alpaydin '@' boun.edu.tr)\n",
      "    :Date: July; 1998\n",
      "\n",
      "This is a copy of the test set of the UCI ML hand-written digits datasets\n",
      "https://archive.ics.uci.edu/ml/datasets/Optical+Recognition+of+Handwritten+Digits\n",
      "\n",
      "The data set contains images of hand-written digits: 10 classes where\n",
      "each class refers to a digit.\n",
      "\n",
      "Preprocessing programs made available by NIST were used to extract\n",
      "normalized bitmaps of handwritten digits from a preprinted form. From a\n",
      "total of 43 people, 30 contributed to the training set and different 13\n",
      "to the test set. 32x32 bitmaps are divided into nonoverlapping blocks of\n",
      "4x4 and the number of on pixels are counted in each block. This generates\n",
      "an input matrix of 8x8 where each element is an integer in the range\n",
      "0..16. This reduces dimensionality and gives invariance to small\n",
      "distortions.\n",
      "\n",
      "For info on NIST preprocessing routines, see M. D. Garris, J. L. Blue, G.\n",
      "T. Candela, D. L. Dimmick, J. Geist, P. J. Grother, S. A. Janet, and C.\n",
      "L. Wilson, NIST Form-Based Handprint Recognition System, NISTIR 5469,\n",
      "1994.\n",
      "\n",
      ".. topic:: References\n",
      "\n",
      "  - C. Kaynak (1995) Methods of Combining Multiple Classifiers and Their\n",
      "    Applications to Handwritten Digit Recognition, MSc Thesis, Institute of\n",
      "    Graduate Studies in Science and Engineering, Bogazici University.\n",
      "  - E. Alpaydin, C. Kaynak (1998) Cascading Classifiers, Kybernetika.\n",
      "  - Ken Tang and Ponnuthurai N. Suganthan and Xi Yao and A. Kai Qin.\n",
      "    Linear dimensionalityreduction using relevance weighted LDA. School of\n",
      "    Electrical and Electronic Engineering Nanyang Technological University.\n",
      "    2005.\n",
      "  - Claudio Gentile. A New Approximate Maximal Margin Classification\n",
      "    Algorithm. NIPS. 2000.\n"
     ]
    }
   ],
   "source": [
    "#Workshop 1 : โหลดข้อมูลตัวเลขลายมือ\n",
    "\n",
    "from sklearn import datasets\n",
    "import matplotlib.pyplot as plt\n",
    "import numpy as np\n",
    "\n",
    "digits = datasets.load_digits()  # โหลดข้อมูล digits dataset\n",
    "\n",
    "# ตรวจสอบ keys ที่มีในข้อมูล\n",
    "digits.keys()\n",
    "\n",
    "# ดูคำอธิบาย Description\n",
    "print(digits.DESCR)"
   ]
  },
  {
   "cell_type": "code",
   "execution_count": 20,
   "metadata": {},
   "outputs": [
    {
     "data": {
      "text/plain": [
       "(1797, 64)"
      ]
     },
     "execution_count": 20,
     "metadata": {},
     "output_type": "execute_result"
    }
   ],
   "source": [
    "# ดูจำนวน Samples ใน digits.data\n",
    "digits.data.shape"
   ]
  },
  {
   "cell_type": "code",
   "execution_count": 21,
   "metadata": {},
   "outputs": [
    {
     "data": {
      "text/plain": [
       "(1797, 8, 8)"
      ]
     },
     "execution_count": 21,
     "metadata": {},
     "output_type": "execute_result"
    }
   ],
   "source": [
    "# ดูจำนวน Samples ใน digits.images\n",
    "digits.images.shape\n",
    "# มีข้อมูลทั้งหมด 1797 แถว แต่ละแถวมี Features 8 , 8"
   ]
  },
  {
   "cell_type": "code",
   "execution_count": 22,
   "metadata": {},
   "outputs": [
    {
     "data": {
      "text/plain": [
       "array([[[ 0.,  0.,  5., 13.,  9.,  1.,  0.,  0.],\n",
       "        [ 0.,  0., 13., 15., 10., 15.,  5.,  0.],\n",
       "        [ 0.,  3., 15.,  2.,  0., 11.,  8.,  0.],\n",
       "        [ 0.,  4., 12.,  0.,  0.,  8.,  8.,  0.],\n",
       "        [ 0.,  5.,  8.,  0.,  0.,  9.,  8.,  0.],\n",
       "        [ 0.,  4., 11.,  0.,  1., 12.,  7.,  0.],\n",
       "        [ 0.,  2., 14.,  5., 10., 12.,  0.,  0.],\n",
       "        [ 0.,  0.,  6., 13., 10.,  0.,  0.,  0.]],\n",
       "\n",
       "       [[ 0.,  0.,  0., 12., 13.,  5.,  0.,  0.],\n",
       "        [ 0.,  0.,  0., 11., 16.,  9.,  0.,  0.],\n",
       "        [ 0.,  0.,  3., 15., 16.,  6.,  0.,  0.],\n",
       "        [ 0.,  7., 15., 16., 16.,  2.,  0.,  0.],\n",
       "        [ 0.,  0.,  1., 16., 16.,  3.,  0.,  0.],\n",
       "        [ 0.,  0.,  1., 16., 16.,  6.,  0.,  0.],\n",
       "        [ 0.,  0.,  1., 16., 16.,  6.,  0.,  0.],\n",
       "        [ 0.,  0.,  0., 11., 16., 10.,  0.,  0.]],\n",
       "\n",
       "       [[ 0.,  0.,  0.,  4., 15., 12.,  0.,  0.],\n",
       "        [ 0.,  0.,  3., 16., 15., 14.,  0.,  0.],\n",
       "        [ 0.,  0.,  8., 13.,  8., 16.,  0.,  0.],\n",
       "        [ 0.,  0.,  1.,  6., 15., 11.,  0.,  0.],\n",
       "        [ 0.,  1.,  8., 13., 15.,  1.,  0.,  0.],\n",
       "        [ 0.,  9., 16., 16.,  5.,  0.,  0.,  0.],\n",
       "        [ 0.,  3., 13., 16., 16., 11.,  5.,  0.],\n",
       "        [ 0.,  0.,  0.,  3., 11., 16.,  9.,  0.]]])"
      ]
     },
     "execution_count": 22,
     "metadata": {},
     "output_type": "execute_result"
    }
   ],
   "source": [
    "digits.images[:3] # ดูข้อมูล 3 ตัวแรก"
   ]
  },
  {
   "cell_type": "code",
   "execution_count": 23,
   "metadata": {},
   "outputs": [
    {
     "data": {
      "text/plain": [
       "(1797,)"
      ]
     },
     "execution_count": 23,
     "metadata": {},
     "output_type": "execute_result"
    }
   ],
   "source": [
    "digits.target.shape # ดูจำนวนข้อมูล target เป็น Arrayมิติเดียว"
   ]
  },
  {
   "cell_type": "code",
   "execution_count": 24,
   "metadata": {},
   "outputs": [
    {
     "data": {
      "text/plain": [
       "array([0, 1, 2])"
      ]
     },
     "execution_count": 24,
     "metadata": {},
     "output_type": "execute_result"
    }
   ],
   "source": [
    "digits.target[:3] # taget(Label) กำกับภาพ บอกว่าข้อมูลแถวแต่ละแถวคืออะไร"
   ]
  },
  {
   "cell_type": "markdown",
   "metadata": {},
   "source": [
    "ข้อสรุป\n",
    "1. digits.images คือ Features (ต้องนำไปreshapeก่อน เพื่อใช้เป็น X สำหรับ Train Test หรือใช้เป็น digits.data เป็น Featureแทนได้\n",
    "2. digits.target คือ Label กำกับว่าข้อมูบลเป็นเลขอะไร (ซึ่งก็คือ y ของข้อมูล digits.images"
   ]
  },
  {
   "cell_type": "code",
   "execution_count": 25,
   "metadata": {},
   "outputs": [
    {
     "name": "stdout",
     "output_type": "stream",
     "text": [
      "[[ 0.  0.  5. 13.  9.  1.  0.  0.]\n",
      " [ 0.  0. 13. 15. 10. 15.  5.  0.]\n",
      " [ 0.  3. 15.  2.  0. 11.  8.  0.]\n",
      " [ 0.  4. 12.  0.  0.  8.  8.  0.]\n",
      " [ 0.  5.  8.  0.  0.  9.  8.  0.]\n",
      " [ 0.  4. 11.  0.  1. 12.  7.  0.]\n",
      " [ 0.  2. 14.  5. 10. 12.  0.  0.]\n",
      " [ 0.  0.  6. 13. 10.  0.  0.  0.]]\n"
     ]
    }
   ],
   "source": [
    "# ดูข้อมูลในรูปภาพของตัวเลขแต่ละตัว (ข้อมูลใน เมตริกซ์)\n",
    "img = digits.images[0] # เก็บภาพลำดับแรกในตัวแปร img\n",
    "img.shape # ตรวจสอบขนาด มีขนาด 8 x 8\n",
    "print(img) # จะได้ค่าตัวเลขใน Pixel ของลำดับแรก"
   ]
  },
  {
   "cell_type": "code",
   "execution_count": 26,
   "metadata": {},
   "outputs": [
    {
     "name": "stdout",
     "output_type": "stream",
     "text": [
      "0\n"
     ]
    }
   ],
   "source": [
    "print(np.isnan(digits.images).sum()) # ตรวจดูว่า images(target) มี missing data หรือไม่"
   ]
  },
  {
   "cell_type": "code",
   "execution_count": 27,
   "metadata": {},
   "outputs": [
    {
     "data": {
      "image/png": "[encoded data removed]",
      "text/plain": [
       "<Figure size 144x144 with 1 Axes>"
      ]
     },
     "metadata": {
      "needs_background": "light"
     },
     "output_type": "display_data"
    }
   ],
   "source": [
    "# Workshop 2 : แสดงภาพตัวเลข\n",
    "# ถ้าต้องการแสดงแสดงตัวเลขลำดับอื่นๆ เปลี่ยน 0 เป็น 0-1796\n",
    "img = digits.images[0]\n",
    "plt.figure(figsize=(2,2))\n",
    "plt.imshow(img, cmap=plt.cm.gray) # ใช้แบบใดก็ได้ไม่มีผลต่อ ML\n",
    "plt.show()"
   ]
  },
  {
   "cell_type": "code",
   "execution_count": 28,
   "metadata": {},
   "outputs": [
    {
     "data": {
      "image/png": "[encoded data removed]",
      "text/plain": [
       "<Figure size 144x144 with 1 Axes>"
      ]
     },
     "metadata": {
      "needs_background": "light"
     },
     "output_type": "display_data"
    }
   ],
   "source": [
    "# แสดงภาพโหมดโทนเทา plt.cm.gray_r\n",
    "plt.figure(figsize=(2,2))\n",
    "plt.imshow(img, cmap=plt.cm.gray_r)\n",
    "plt.show()"
   ]
  },
  {
   "cell_type": "code",
   "execution_count": 29,
   "metadata": {},
   "outputs": [],
   "source": [
    "#ต้องการแสดงรูปภาพทีละหลายๆลำดับ\n",
    "def visual_multi(i):\n",
    "    '''Plots nplots(จำนวนตัวเลขที่จะแสดง) เริ่มตัว i นับไป40 จำนวน'''\n",
    "    nplots = 40\n",
    "     # จำนวน Features ที่ต้องการแสดง (จำนวนกี่ภาพ)\n",
    "    fig = plt.figure(figsize=(8, 4)) # กำหนดขนาด\n",
    "    for j in range(nplots):\n",
    "        plt.subplot(4, 10, j+1) # x Rows x n Columns\n",
    "        plt.imshow(digits.images[i+j], cmap='binary') # แสดงภาพ\n",
    "        plt.title(digits.target[i+j]) #ใส่ titleว่าคือเลขอะไร(Label)\n",
    "        plt.axis('off') # ปิดการแสดงกรอบแกน x,y \n",
    "    plt.show()"
   ]
  },
  {
   "cell_type": "code",
   "execution_count": 30,
   "metadata": {},
   "outputs": [
    {
     "data": {
      "image/png": "[encoded data removed]",
      "text/plain": [
       "<Figure size 576x288 with 40 Axes>"
      ]
     },
     "metadata": {
      "needs_background": "light"
     },
     "output_type": "display_data"
    }
   ],
   "source": [
    "visual_multi(50)"
   ]
  },
  {
   "cell_type": "code",
   "execution_count": 31,
   "metadata": {},
   "outputs": [],
   "source": [
    "# Workshop 3 : เตรียมข้อมูลเพื่อ Train และ Test\n",
    "n_samples = len(digits.images) # นับจำนวน sample\n",
    "n_samples # เพื่อ เชคจำนวนแถวที่จะ reshape\n",
    "X = digits.images.reshape((n_samples, -1)) # reshape n samples\n",
    "X[:3] # ดู 2 แถวแรก\n",
    "y = digits.target\n",
    "#y[:3] # ดู label ข้อมูล 3 ตัวแรก"
   ]
  },
  {
   "cell_type": "code",
   "execution_count": 32,
   "metadata": {},
   "outputs": [],
   "source": [
    "# หรือใช้ X = digits.data ก็ได้ ไม่ต้องไปใช้ images.reshape ใน scikit-learn มีให้แล้ว\n",
    "#X = digits.data\n",
    "#X[:1]"
   ]
  },
  {
   "cell_type": "code",
   "execution_count": 33,
   "metadata": {},
   "outputs": [
    {
     "data": {
      "text/plain": [
       "((1078, 64), (719, 64))"
      ]
     },
     "execution_count": 33,
     "metadata": {},
     "output_type": "execute_result"
    }
   ],
   "source": [
    "# แบ่งข้อมูล โดยใช้คำสั่ง train_test_split\n",
    "from sklearn.model_selection import train_test_split\n",
    "X_train, X_test, y_train, y_test = train_test_split(X, y, test_size=0.4, random_state=20)\n",
    "X_train.shape, X_test.shape"
   ]
  },
  {
   "cell_type": "code",
   "execution_count": 77,
   "metadata": {},
   "outputs": [
    {
     "data": {
      "text/plain": [
       "SVC(C=1.0, break_ties=False, cache_size=200, class_weight=None, coef0=0.0,\n",
       "    decision_function_shape='ovr', degree=3, gamma='scale', kernel='rbf',\n",
       "    max_iter=-1, probability=False, random_state=None, shrinking=True,\n",
       "    tol=0.001, verbose=False)"
      ]
     },
     "execution_count": 77,
     "metadata": {},
     "output_type": "execute_result"
    }
   ],
   "source": [
    "#Workshop 4 : ทำการ Train Test model\n",
    "#import library\n",
    "from sklearn import svm\n",
    "model = svm.SVC(gamma='scale')\n",
    "model.fit(X_train, y_train)"
   ]
  },
  {
   "cell_type": "code",
   "execution_count": 35,
   "metadata": {},
   "outputs": [
    {
     "data": {
      "text/plain": [
       "array([0, 7, 9, 5, 8, 1, 3, 3, 7, 0, 9, 4, 7, 4, 0, 1, 1, 8, 1, 3])"
      ]
     },
     "execution_count": 35,
     "metadata": {},
     "output_type": "execute_result"
    }
   ],
   "source": [
    "# predict\n",
    "y_pred = model.predict(X_test)\n",
    "# แสดง y predict 20 ตัวแรก\n",
    "y_pred[:20]"
   ]
  },
  {
   "cell_type": "code",
   "execution_count": 36,
   "metadata": {},
   "outputs": [
    {
     "data": {
      "text/plain": [
       "array([0, 7, 9, 5, 8, 1, 3, 3, 7, 0, 9, 4, 7, 4, 0, 1, 1, 8, 1, 3])"
      ]
     },
     "execution_count": 36,
     "metadata": {},
     "output_type": "execute_result"
    }
   ],
   "source": [
    "# แสดง y จริง 20ตัวแรกเพื่อเทียบการทำนาย\n",
    "y_test[:20]\n",
    "# จะเห็นว่า 20 ตัวแรกถูกหมดแต่ใช่ว่าจะถูกทั้งหมด719ตัว"
   ]
  },
  {
   "cell_type": "code",
   "execution_count": 37,
   "metadata": {},
   "outputs": [
    {
     "name": "stdout",
     "output_type": "stream",
     "text": [
      "Accuracy Score: 0.9819\n",
      "              precision    recall  f1-score   support\n",
      "\n",
      "           0       1.00      1.00      1.00        63\n",
      "           1       1.00      1.00      1.00        75\n",
      "           2       1.00      1.00      1.00        63\n",
      "           3       1.00      0.95      0.97        80\n",
      "           4       1.00      0.99      0.99        75\n",
      "           5       0.96      0.99      0.97        71\n",
      "           6       1.00      0.99      0.99        71\n",
      "           7       0.95      0.99      0.97        80\n",
      "           8       0.94      1.00      0.97        64\n",
      "           9       0.97      0.94      0.95        77\n",
      "\n",
      "    accuracy                           0.98       719\n",
      "   macro avg       0.98      0.98      0.98       719\n",
      "weighted avg       0.98      0.98      0.98       719\n",
      "\n",
      "[[63  0  0  0  0  0  0  0  0  0]\n",
      " [ 0 75  0  0  0  0  0  0  0  0]\n",
      " [ 0  0 63  0  0  0  0  0  0  0]\n",
      " [ 0  0  0 76  0  1  0  1  2  0]\n",
      " [ 0  0  0  0 74  0  0  0  1  0]\n",
      " [ 0  0  0  0  0 70  0  0  0  1]\n",
      " [ 0  0  0  0  0  1 70  0  0  0]\n",
      " [ 0  0  0  0  0  0  0 79  0  1]\n",
      " [ 0  0  0  0  0  0  0  0 64  0]\n",
      " [ 0  0  0  0  0  1  0  3  1 72]]\n"
     ]
    }
   ],
   "source": [
    "# ประเมิน model \n",
    "from sklearn.metrics import accuracy_score\n",
    "from sklearn.metrics import classification_report\n",
    "from sklearn.metrics import confusion_matrix\n",
    "\n",
    "y_pred = model.predict(X_test) # ใช้  y_pred ก่อนหน้าก็ได้ไม่ต้อง predict ใหม่\n",
    "print('Accuracy Score: {:.4f}'.format(accuracy_score(y_test, y_pred)))\n",
    "print(classification_report(y_test, y_pred)) # report\n",
    "\n",
    "cm = confusion_matrix(y_test, y_pred) # Confusion Matrix\n",
    "print(cm)"
   ]
  },
  {
   "cell_type": "code",
   "execution_count": 38,
   "metadata": {},
   "outputs": [
    {
     "data": {
      "image/png": "[encoded data removed]",
      "text/plain": [
       "<Figure size 432x288 with 2 Axes>"
      ]
     },
     "metadata": {
      "needs_background": "light"
     },
     "output_type": "display_data"
    }
   ],
   "source": [
    "import matplotlib.pyplot as plt\n",
    "import scikitplot as skplot\n",
    "skplot.metrics.plot_confusion_matrix(y_test, y_pred) # Confusion Matrix แบบกราฟฟิก\n",
    "plt.show()\n",
    "# Accuracy 98.19%\n",
    "# ผลการทำนาย เลข 7 และ 8 มีความผิดพลาดมากที่สุด(ทำนายผิดไป อย่างละ 4ตัว) รองมาคือ 5 , 9\n",
    "# เลขอื่นถูกหมด"
   ]
  },
  {
   "cell_type": "code",
   "execution_count": 39,
   "metadata": {},
   "outputs": [
    {
     "data": {
      "text/plain": [
       "(array([ 98, 111, 268, 338, 351, 427, 434, 449, 470, 523, 562, 638, 657],\n",
       "       dtype=int64),)"
      ]
     },
     "execution_count": 39,
     "metadata": {},
     "output_type": "execute_result"
    }
   ],
   "source": [
    "# Workshop 5 : ดูตัวเลขที่ทำนายผิด\n",
    "#หาลำดับ index ที่ทำนายผิด โดยเทียบว่า y ของจริง ไม่ตรงกับ y ที่ทำนาย\n",
    "idx_miss = np.where(y_test != y_pred) # y ของจริง ไม่ตรงกับ y ที่ทำนาย\n",
    "idx_miss # ตำแหน่งที่การทำนายผิดพลาด"
   ]
  },
  {
   "cell_type": "code",
   "execution_count": 40,
   "metadata": {},
   "outputs": [
    {
     "data": {
      "text/plain": [
       "array([8, 9, 8, 8, 5, 5, 5, 9, 7, 8, 7, 7, 7])"
      ]
     },
     "execution_count": 40,
     "metadata": {},
     "output_type": "execute_result"
    }
   ],
   "source": [
    "# ตรวจดูว่า index_miss นั้นตัวเลข predictคืออะไร\n",
    "y_pred[idx_miss]"
   ]
  },
  {
   "cell_type": "code",
   "execution_count": 41,
   "metadata": {},
   "outputs": [
    {
     "data": {
      "text/plain": [
       "array([9, 5, 3, 4, 9, 3, 6, 7, 3, 3, 9, 9, 9])"
      ]
     },
     "execution_count": 41,
     "metadata": {},
     "output_type": "execute_result"
    }
   ],
   "source": [
    "# เปรียบเทียบกับ y จริง\n",
    "y_test[idx_miss]"
   ]
  },
  {
   "cell_type": "code",
   "execution_count": 42,
   "metadata": {},
   "outputs": [],
   "source": [
    "#สาเหตุความผิดพลาดเป็นเพราะข้อมูลเหล่านี้มี Features ที่ใกล้เคียงกัน ทำให้ผลทำนายผิดพลาด"
   ]
  },
  {
   "cell_type": "code",
   "execution_count": 43,
   "metadata": {},
   "outputs": [
    {
     "data": {
      "image/png": "[encoded data removed]",
      "text/plain": [
       "<Figure size 144x144 with 1 Axes>"
      ]
     },
     "metadata": {
      "needs_background": "light"
     },
     "output_type": "display_data"
    }
   ],
   "source": [
    "# ต้องการดูรูปภาพของเลขจริงๆ ที่ระบบทำนายผิด ให้ใช้ imshow แล้วระบุ\n",
    "fig = plt.figure(figsize=(2,2)) # ขนาดรูป\n",
    "# เนื่องจาก Features เป็น 1 x 64 ต้องทำ reshape ให้เป็น 8 x 8 ก่อนแล้วทำการพล็อตรูป\n",
    "plt.imshow(X_test[idx_miss][0].reshape(8,8), cmap=plt.cm.gray_r)\n",
    "plt.show()"
   ]
  },
  {
   "cell_type": "code",
   "execution_count": 44,
   "metadata": {},
   "outputs": [
    {
     "data": {
      "image/png": "[encoded data removed]",
      "text/plain": [
       "<Figure size 576x216 with 13 Axes>"
      ]
     },
     "metadata": {},
     "output_type": "display_data"
    }
   ],
   "source": [
    "#กรณีที่ต้องการแสดงรูปที่ทำนายผิดทั้งหมด\n",
    "fig = plt.figure(figsize = (8,3)) # ขนาดภาพ\n",
    "for j,k in enumerate(idx_miss[0]):\n",
    "    plt.subplot(2, 7, j+1)\n",
    "    plt.imshow(X_test[k].reshape(8,8), cmap=plt.cm.gray_r)\n",
    "    plt.title(y_test[k])\n",
    "    plt.xticks([])\n",
    "    plt.yticks([])\n",
    "\n",
    "plt.show()"
   ]
  },
  {
   "cell_type": "code",
   "execution_count": 76,
   "metadata": {},
   "outputs": [
    {
     "name": "stdout",
     "output_type": "stream",
     "text": [
      "[0.9444 0.9889 0.9278 0.9667 0.9833 0.9889 0.9889 0.9944 0.9609 0.9553]\n"
     ]
    },
    {
     "data": {
      "text/plain": [
       "0.97"
      ]
     },
     "execution_count": 76,
     "metadata": {},
     "output_type": "execute_result"
    }
   ],
   "source": [
    "# Workshop 6 : ประเมิน Cross Validation\n",
    "from sklearn.model_selection import cross_val_score\n",
    "\n",
    "model = svm.SVC(gamma='scale')\n",
    "\n",
    "cvs = cross_val_score(model, X, y, cv=10)\n",
    "print(cvs.round(4)) # ทศนิยม 4 ตำแหน่ง\n",
    "cvs.mean().round(4)"
   ]
  },
  {
   "cell_type": "code",
   "execution_count": 75,
   "metadata": {},
   "outputs": [
    {
     "name": "stdout",
     "output_type": "stream",
     "text": [
      "[0.8    0.8556 0.8333 0.8056 0.7833 0.8889 0.9056 0.8101 0.8436 0.8045]\n"
     ]
    },
    {
     "data": {
      "text/plain": [
       "0.833"
      ]
     },
     "execution_count": 75,
     "metadata": {},
     "output_type": "execute_result"
    }
   ],
   "source": [
    "# Work shop 7 : เปรียบเทียบกับ อัลกิริทึมอื่น\n",
    "from sklearn.tree import DecisionTreeClassifier\n",
    "#model = DecisionTreeClassifier(max_depth=10)\n",
    "#model = DecisionTreeClassifier()\n",
    "#cvs = cross_val_score(model, X, y, cv=10) # ไม่ต้อง fit model\n",
    "print(cvs.round(4))\n",
    "#cvs.mean().round(4)"
   ]
  },
  {
   "cell_type": "code",
   "execution_count": 86,
   "metadata": {},
   "outputs": [],
   "source": [
    "#Workshop 8 : เขียนตัวเลขด้วยลายมือ แล้วทำนาย\n",
    "# ติดตั้ง conda install -c anaconda pillow\n",
    "from PIL import Image, ImageOps\n",
    "\n",
    "model = svm.SVC(gamma='scale')\n",
    "model.fit(X,y)\n",
    "\n",
    "imgfile = '0.png' # ไฟล์เลขที่ทำนายเก็บไว้\n",
    "img = Image.open(imgfile).convert('L') # อ่านข้อมูลจากไฟล์ภาพเป็นโทนเทา(ขาวดำ)\n",
    "img = ImageOps.invert(img) #กลับขาว ดำ\n",
    "img = img.resize((8, 8), Image.ANTIALIAS) # scake down และทำการปรับ Anti-alias\n",
    "pixel = np.array(img) # ขนาด 8 x 8\n",
    "pixel - pixel / 255.0 *16 # ปรับค่าจาก 0-255 ให้เป็น 0-1 *16 = 0-19\n",
    "pixel = pixel.astype('int') # เปลี่ยนเป็นจำนวนเต็ม\n",
    "\n",
    "my_digit = pixel.reshape(1,-1) # เปลี่ยนให้เป็น 1 x 64 สำหรับใช้เป็น feature\n",
    "predicted = model.predict(my_digit)\n",
    "\n"
   ]
  },
  {
   "cell_type": "code",
   "execution_count": 87,
   "metadata": {},
   "outputs": [
    {
     "data": {
      "image/png": "[encoded data removed]",
      "text/plain": [
       "<Figure size 72x72 with 1 Axes>"
      ]
     },
     "metadata": {},
     "output_type": "display_data"
    }
   ],
   "source": [
    "#พล็อตกราฟทำ Labelค่าที่ทำนายได้\n",
    "plt.figure(figsize=(1,1))\n",
    "plt.imshow(pixel, cmap=plt.cm.gray_r) #พล็อตตัวเลขทำนาย\n",
    "plt.title('Predict: {}'.format(predicted[0]))\n",
    "plt.xticks([])\n",
    "plt.yticks([])\n",
    "plt.show()"
   ]
  },
  {
   "cell_type": "code",
   "execution_count": 89,
   "metadata": {},
   "outputs": [
    {
     "data": {
      "image/png": "[encoded data removed]",
      "text/plain": [
       "<Figure size 72x72 with 1 Axes>"
      ]
     },
     "metadata": {},
     "output_type": "display_data"
    },
    {
     "data": {
      "image/png": "[encoded data removed]",
      "text/plain": [
       "<Figure size 72x72 with 1 Axes>"
      ]
     },
     "metadata": {},
     "output_type": "display_data"
    },
    {
     "data": {
      "image/png": "[encoded data removed]",
      "text/plain": [
       "<Figure size 72x72 with 1 Axes>"
      ]
     },
     "metadata": {},
     "output_type": "display_data"
    },
    {
     "data": {
      "image/png": "[encoded data removed]",
      "text/plain": [
       "<Figure size 72x72 with 1 Axes>"
      ]
     },
     "metadata": {},
     "output_type": "display_data"
    },
    {
     "data": {
      "image/png": "[encoded data removed]",
      "text/plain": [
       "<Figure size 72x72 with 1 Axes>"
      ]
     },
     "metadata": {},
     "output_type": "display_data"
    },
    {
     "data": {
      "image/png": "[encoded data removed]",
      "text/plain": [
       "<Figure size 72x72 with 1 Axes>"
      ]
     },
     "metadata": {},
     "output_type": "display_data"
    },
    {
     "data": {
      "image/png": "[encoded data removed]",
      "text/plain": [
       "<Figure size 72x72 with 1 Axes>"
      ]
     },
     "metadata": {},
     "output_type": "display_data"
    },
    {
     "data": {
      "image/png": "[encoded data removed]",
      "text/plain": [
       "<Figure size 72x72 with 1 Axes>"
      ]
     },
     "metadata": {},
     "output_type": "display_data"
    },
    {
     "data": {
      "image/png": "[encoded data removed]",
      "text/plain": [
       "<Figure size 72x72 with 1 Axes>"
      ]
     },
     "metadata": {},
     "output_type": "display_data"
    },
    {
     "data": {
      "image/png": "[encoded data removed]",
      "text/plain": [
       "<Figure size 72x72 with 1 Axes>"
      ]
     },
     "metadata": {},
     "output_type": "display_data"
    }
   ],
   "source": [
    "# Predict ทีละหลายๆไฟล์\n",
    "def predict_digit(imgfile):\n",
    "    img = Image.open(imgfile).convert('L') # อ่านข้อมูลจากไฟล์ภาพเป็นโทนเทา(ขาวดำ)\n",
    "    img = ImageOps.invert(img) #กลับขาว ดำ\n",
    "    img = img.resize((8, 8), Image.ANTIALIAS) # scake down และทำการปรับ Anti-alias\n",
    "    \n",
    "    pixel = np.array(img) # ขนาด 8 x 8\n",
    "    pixel - pixel / 255.0 *16 # ปรับค่าจาก 0-255 ให้เป็น 0-1 *16 = 0-19\n",
    "    pixel = pixel.astype('int') # เปลี่ยนเป็นจำนวนเต็ม\n",
    "    my_digit = pixel.reshape(1,-1) # เปลี่ยนให้เป็น 1 x 64 สำหรับใช้เป็น feature\n",
    "    predicted = model.predict(my_digit)\n",
    "    #พล็อตกราฟทำ Labelค่าที่ทำนายได้\n",
    "    plt.figure(figsize=(1,1))\n",
    "    plt.imshow(pixel, cmap=plt.cm.gray_r) #พล็อตตัวเลขทำนาย\n",
    "    plt.title('Predict: {}'.format(predicted[0]))\n",
    "    plt.xticks([])\n",
    "    plt.yticks([])\n",
    "    plt.show()\n",
    "#รายชื่อไฟล์ภาพ \n",
    "imgfiles = ['0.png','1.png','2.png','3.png','4.png','5.png','6.png','7.png','8.png','9.png']\n",
    "for i in imgfiles:\n",
    "    predict_digit(i) #วนรอบเรียกฟังก์ชันทำนาย"
   ]
  },
  {
   "cell_type": "code",
   "execution_count": 93,
   "metadata": {},
   "outputs": [
    {
     "data": {
      "text/plain": [
       "array([  1,   0,  16, 112,  90,   1,   2,   0,   2,   7, 107,  57,  79,\n",
       "        61,   0,   2,   0,  26,  59,   0,   0,  85,   5,   1,   0,  24,\n",
       "        55,   3,   1,  60,  20,   0,   0,  18,  67,   0,   0,  82,  10,\n",
       "         0,   2,   2,  97,  40,  69,  77,   0,   2,   1,   0,  15, 111,\n",
       "        90,   1,   2,   0,   0,   0,   0,   0,   0,   0,   0,   0])"
      ]
     },
     "execution_count": 93,
     "metadata": {},
     "output_type": "execute_result"
    }
   ],
   "source": [
    "#Workshop 9 : การสร้าง Dataset ข้อมูลตัวเลขเอง\n",
    "\n",
    "from PIL import Image, ImageOps\n",
    "imgfile = 'digit0-001.png'\n",
    "img = Image.open(imgfile).convert('L') # อ่านข้อมูลโทนเทา\n",
    "img = ImageOps.invert(img)\n",
    "img = img.resize((8,8), Image.ANTIALIAS) \n",
    "\n",
    "pixel = np.array(img) # ขนาด 8 x 8\n",
    "pixel - pixel / 255.0 *16 # ปรับค่าจาก 0-255 ให้เป็น 0-1 *16 = 0-19\n",
    "pixel = pixel.astype('int') # เปลี่ยนเป็นจำนวนเต็ม\n",
    "pixel\n",
    "\n",
    "digit_0_001 = pixel.reshape(1,-1)[0] # ข้อมูล Feature 0 (1x64)\n",
    "digit_0_001"
   ]
  },
  {
   "cell_type": "code",
   "execution_count": 95,
   "metadata": {},
   "outputs": [
    {
     "data": {
      "text/plain": [
       "array([  0,   1,   0,  31,  15,   0,   1,   0,   2,   0,  46, 121, 110,\n",
       "        17,   1,   1,   1,   5,  93,   0,  36,  61,   0,   2,   0,   9,\n",
       "        64,   3,  19,  61,   0,   2,   1,   1,  80,   0,  40,  59,   0,\n",
       "         2,   2,   0,  64,  87,  95,  14,   1,   0,   0,   1,   0,  84,\n",
       "        45,   0,   2,   0,   0,   0,   0,   0,   0,   1,   0,   0])"
      ]
     },
     "execution_count": 95,
     "metadata": {},
     "output_type": "execute_result"
    }
   ],
   "source": [
    "from PIL import Image, ImageOps\n",
    "imgfile = 'digit0-002.png'\n",
    "img = Image.open(imgfile).convert('L') # อ่านข้อมูลโทนเทา\n",
    "img = ImageOps.invert(img)\n",
    "img = img.resize((8,8), Image.ANTIALIAS) \n",
    "\n",
    "pixel = np.array(img) # ขนาด 8 x 8\n",
    "pixel - pixel / 255.0 *16 # ปรับค่าจาก 0-255 ให้เป็น 0-1 *16 = 0-19\n",
    "pixel = pixel.astype('int') # เปลี่ยนเป็นจำนวนเต็ม\n",
    "pixel\n",
    "\n",
    "digit_0_002 = pixel.reshape(1,-1)[0] # ข้อมูล Feature 0 (1x64)\n",
    "digit_0_002"
   ]
  },
  {
   "cell_type": "code",
   "execution_count": 96,
   "metadata": {},
   "outputs": [
    {
     "data": {
      "text/plain": [
       "array([  0,   0,   0,  18,   0,   0,   0,   0,   2,   0,  54, 128,  77,\n",
       "         1,   2,   0,   1,   0,  79,   0,  78,  22,   0,   1,   0,   8,\n",
       "        71,   0,  53,  27,   0,   1,   0,  10,  65,   6, 101,   7,   1,\n",
       "         0,   2,   1,  84, 131,  37,   0,   2,   0,   1,   0,  10,  19,\n",
       "         0,   1,   0,   0,   0,   0,   0,   0,   1,   0,   0,   0])"
      ]
     },
     "execution_count": 96,
     "metadata": {},
     "output_type": "execute_result"
    }
   ],
   "source": [
    "from PIL import Image, ImageOps\n",
    "imgfile = 'digit0-003.png'\n",
    "img = Image.open(imgfile).convert('L') # อ่านข้อมูลโทนเทา\n",
    "img = ImageOps.invert(img)\n",
    "img = img.resize((8,8), Image.ANTIALIAS) \n",
    "\n",
    "pixel = np.array(img) # ขนาด 8 x 8\n",
    "pixel - pixel / 255.0 *16 # ปรับค่าจาก 0-255 ให้เป็น 0-1 *16 = 0-19\n",
    "pixel = pixel.astype('int') # เปลี่ยนเป็นจำนวนเต็ม\n",
    "pixel\n",
    "\n",
    "digit_0_003 = pixel.reshape(1,-1)[0] # ข้อมูล Feature 0 (1x64)\n",
    "digit_0_003"
   ]
  },
  {
   "cell_type": "code",
   "execution_count": 97,
   "metadata": {},
   "outputs": [
    {
     "data": {
      "text/plain": [
       "array([  0,   0,   0,   6,   2,   0,   0,   0,   1,   0,  24, 123,   2,\n",
       "         1,   0,   0,   2,   0,  57, 101,   4,   0,   0,   0,   0,   1,\n",
       "         0,  53,   2,   0,   0,   0,   0,   1,  10,  99,  37,   0,   1,\n",
       "         0,   2,   0,  52, 121,  56,   0,   1,   0,   0,   0,   0,   0,\n",
       "         0,   0,   0,   0,   0,   0,   1,   3,   2,   0,   0,   0])"
      ]
     },
     "execution_count": 97,
     "metadata": {},
     "output_type": "execute_result"
    }
   ],
   "source": [
    "from PIL import Image, ImageOps\n",
    "imgfile = 'digit1-001.png'\n",
    "img = Image.open(imgfile).convert('L') # อ่านข้อมูลโทนเทา\n",
    "img = ImageOps.invert(img)\n",
    "img = img.resize((8,8), Image.ANTIALIAS) \n",
    "\n",
    "pixel = np.array(img) # ขนาด 8 x 8\n",
    "pixel - pixel / 255.0 *16 # ปรับค่าจาก 0-255 ให้เป็น 0-1 *16 = 0-19\n",
    "pixel = pixel.astype('int') # เปลี่ยนเป็นจำนวนเต็ม\n",
    "pixel\n",
    "\n",
    "digit_1_001 = pixel.reshape(1,-1)[0] # ข้อมูล Feature 0 (1x64)\n",
    "digit_1_001"
   ]
  },
  {
   "cell_type": "code",
   "execution_count": 98,
   "metadata": {},
   "outputs": [
    {
     "data": {
      "text/plain": [
       "array([  0,   0,   2,  23,   0,   1,   0,   0,   2,   0,  62, 103,   0,\n",
       "         3,   0,   0,   1,   0,  84,  74,   0,   2,   0,   0,   1,   0,\n",
       "        16,  59,   0,   2,   0,   0,   1,   0,  21,  58,   0,   2,   0,\n",
       "         0,   1,   0,  14,  68,   0,   2,   0,   0,   1,   0,  94, 144,\n",
       "        34,   0,   2,   0,   0,   0,  11,   1,   2,   0,   0,   0])"
      ]
     },
     "execution_count": 98,
     "metadata": {},
     "output_type": "execute_result"
    }
   ],
   "source": [
    "from PIL import Image, ImageOps\n",
    "imgfile = 'digit1-002.png'\n",
    "img = Image.open(imgfile).convert('L') # อ่านข้อมูลโทนเทา\n",
    "img = ImageOps.invert(img)\n",
    "img = img.resize((8,8), Image.ANTIALIAS) \n",
    "\n",
    "pixel = np.array(img) # ขนาด 8 x 8\n",
    "pixel - pixel / 255.0 *16 # ปรับค่าจาก 0-255 ให้เป็น 0-1 *16 = 0-19\n",
    "pixel = pixel.astype('int') # เปลี่ยนเป็นจำนวนเต็ม\n",
    "pixel\n",
    "\n",
    "digit_1_002 = pixel.reshape(1,-1)[0] # ข้อมูล Feature 0 (1x64)\n",
    "digit_1_002"
   ]
  },
  {
   "cell_type": "code",
   "execution_count": 99,
   "metadata": {},
   "outputs": [
    {
     "data": {
      "text/plain": [
       "array([  0,   0,   0,   2,   1,   0,   0,   0,   0,   0,   7, 116,   6,\n",
       "         0,   0,   0,   0,   1,   7,  90,  12,   0,   0,   0,   0,   1,\n",
       "         0,  63,   8,   0,   0,   0,   0,   0,   0,  68,   2,   1,   0,\n",
       "         0,   2,   0,  45, 139, 113,  14,   0,   1,   0,   0,   6,   8,\n",
       "         5,   0,   0,   0,   0,   0,   0,   0,   0,   0,   0,   0])"
      ]
     },
     "execution_count": 99,
     "metadata": {},
     "output_type": "execute_result"
    }
   ],
   "source": [
    "from PIL import Image, ImageOps\n",
    "imgfile = 'digit1-003.png'\n",
    "img = Image.open(imgfile).convert('L') # อ่านข้อมูลโทนเทา\n",
    "img = ImageOps.invert(img)\n",
    "img = img.resize((8,8), Image.ANTIALIAS) \n",
    "\n",
    "pixel = np.array(img) # ขนาด 8 x 8\n",
    "pixel - pixel / 255.0 *16 # ปรับค่าจาก 0-255 ให้เป็น 0-1 *16 = 0-19\n",
    "pixel = pixel.astype('int') # เปลี่ยนเป็นจำนวนเต็ม\n",
    "pixel\n",
    "\n",
    "digit_1_003 = pixel.reshape(1,-1)[0] # ข้อมูล Feature 0 (1x64)\n",
    "digit_1_003"
   ]
  },
  {
   "cell_type": "code",
   "execution_count": 104,
   "metadata": {},
   "outputs": [
    {
     "data": {
      "text/plain": [
       "SVC(C=1.0, break_ties=False, cache_size=200, class_weight=None, coef0=0.0,\n",
       "    decision_function_shape='ovr', degree=3, gamma='scale', kernel='rbf',\n",
       "    max_iter=-1, probability=False, random_state=None, shrinking=True,\n",
       "    tol=0.001, verbose=False)"
      ]
     },
     "execution_count": 104,
     "metadata": {},
     "output_type": "execute_result"
    }
   ],
   "source": []
  },
  {
   "cell_type": "code",
   "execution_count": null,
   "metadata": {},
   "outputs": [],
   "source": []
  },
  {
   "cell_type": "code",
   "execution_count": 108,
   "metadata": {},
   "outputs": [
    {
     "data": {
      "text/plain": [
       "array([  0,   0,   9,  31,   0,   1,   0,   0,   2,   0,  61, 129,  16,\n",
       "         1,   1,   0,   0,   1,  10,  44,  52,   0,   2,   0,   0,   2,\n",
       "         0,  89,  15,   1,   0,   0,   3,   0,  97, 100,  19,   2,   1,\n",
       "         0,   2,   0,  70,  97,  45,   0,   2,   0,   0,   0,   0,   0,\n",
       "         0,   0,   0,   0,   0,   0,   3,   3,   2,   0,   0,   0])"
      ]
     },
     "execution_count": 108,
     "metadata": {},
     "output_type": "execute_result"
    }
   ],
   "source": [
    "from PIL import Image, ImageOps\n",
    "imgfile = 'digit2-001.png'\n",
    "img = Image.open(imgfile).convert('L') # อ่านข้อมูลโทนเทา\n",
    "img = ImageOps.invert(img)\n",
    "img = img.resize((8,8), Image.ANTIALIAS) \n",
    "\n",
    "pixel = np.array(img) # ขนาด 8 x 8\n",
    "pixel - pixel / 255.0 *16 # ปรับค่าจาก 0-255 ให้เป็น 0-1 *16 = 0-19\n",
    "pixel = pixel.astype('int') # เปลี่ยนเป็นจำนวนเต็ม\n",
    "pixel\n",
    "\n",
    "digit_2_001 = pixel.reshape(1,-1)[0] # ข้อมูล Feature 0 (1x64)\n",
    "digit_2_001"
   ]
  },
  {
   "cell_type": "code",
   "execution_count": 109,
   "metadata": {},
   "outputs": [
    {
     "data": {
      "text/plain": [
       "array([  0,   0,   0,   5,   0,   0,   0,   0,   1,   0,  10, 131,  34,\n",
       "         0,   1,   0,   0,   1,   8,  50,  56,   0,   2,   0,   0,   2,\n",
       "         0,  38,  50,   0,   2,   0,   0,   2,   0,  65,   9,   0,   0,\n",
       "         0,   1,   0,  23, 133,  54,   1,   0,   0,   1,   0,  19,  85,\n",
       "        56,   0,   1,   0,   0,   0,   0,   0,   0,   0,   0,   0])"
      ]
     },
     "execution_count": 109,
     "metadata": {},
     "output_type": "execute_result"
    }
   ],
   "source": [
    "from PIL import Image, ImageOps\n",
    "imgfile = 'digit2-002.png'\n",
    "img = Image.open(imgfile).convert('L') # อ่านข้อมูลโทนเทา\n",
    "img = ImageOps.invert(img)\n",
    "img = img.resize((8,8), Image.ANTIALIAS) \n",
    "\n",
    "pixel = np.array(img) # ขนาด 8 x 8\n",
    "pixel - pixel / 255.0 *16 # ปรับค่าจาก 0-255 ให้เป็น 0-1 *16 = 0-19\n",
    "pixel = pixel.astype('int') # เปลี่ยนเป็นจำนวนเต็ม\n",
    "pixel\n",
    "\n",
    "digit_2_002 = pixel.reshape(1,-1)[0] # ข้อมูล Feature 0 (1x64)\n",
    "digit_2_002"
   ]
  },
  {
   "cell_type": "code",
   "execution_count": 110,
   "metadata": {},
   "outputs": [
    {
     "data": {
      "text/plain": [
       "array([  0,   0,   1,  26,   0,   0,   0,   0,   1,   0,  23, 130,  33,\n",
       "         0,   1,   0,   0,   1,   4,  22,  59,   0,   2,   0,   0,   2,\n",
       "         0,  60,  48,   0,   2,   0,   0,   1,   9,  84,   0,   1,   0,\n",
       "         0,   3,   0,  66,  95,  19,   2,   1,   0,   1,   0,  33,  90,\n",
       "        57,   0,   2,   0,   0,   0,   0,   0,   0,   0,   0,   0])"
      ]
     },
     "execution_count": 110,
     "metadata": {},
     "output_type": "execute_result"
    }
   ],
   "source": [
    "from PIL import Image, ImageOps\n",
    "imgfile = 'digit2-003.png'\n",
    "img = Image.open(imgfile).convert('L') # อ่านข้อมูลโทนเทา\n",
    "img = ImageOps.invert(img)\n",
    "img = img.resize((8,8), Image.ANTIALIAS) \n",
    "\n",
    "pixel = np.array(img) # ขนาด 8 x 8\n",
    "pixel - pixel / 255.0 *16 # ปรับค่าจาก 0-255 ให้เป็น 0-1 *16 = 0-19\n",
    "pixel = pixel.astype('int') # เปลี่ยนเป็นจำนวนเต็ม\n",
    "pixel\n",
    "\n",
    "digit_2_003 = pixel.reshape(1,-1)[0] # ข้อมูล Feature 0 (1x64)\n",
    "digit_2_003"
   ]
  },
  {
   "cell_type": "code",
   "execution_count": 112,
   "metadata": {},
   "outputs": [
    {
     "data": {
      "text/plain": [
       "SVC(C=1.0, break_ties=False, cache_size=200, class_weight=None, coef0=0.0,\n",
       "    decision_function_shape='ovr', degree=3, gamma='scale', kernel='rbf',\n",
       "    max_iter=-1, probability=False, random_state=None, shrinking=True,\n",
       "    tol=0.001, verbose=False)"
      ]
     },
     "execution_count": 112,
     "metadata": {},
     "output_type": "execute_result"
    }
   ],
   "source": [
    "import pandas as pd\n",
    "\n",
    "df = pd.DataFrame([digit_0_001])\n",
    "df = df.append([digit_0_002])\n",
    "df = df.append([digit_0_003])\n",
    "df = df.append([digit_1_001])\n",
    "df = df.append([digit_1_002])\n",
    "df = df.append([digit_1_003])\n",
    "df = df.append([digit_2_001])\n",
    "df = df.append([digit_2_002])\n",
    "df = df.append([digit_2_003])\n",
    "df\n",
    "# Target/Label เพื่อระบุ Features ใน df \n",
    "y = [0,0,0,1,1,1,2,2,2]\n",
    "\n",
    "X = df\n",
    "model.fit(X,y)"
   ]
  },
  {
   "cell_type": "code",
   "execution_count": 119,
   "metadata": {},
   "outputs": [
    {
     "data": {
      "image/png": "[encoded data removed]",
      "text/plain": [
       "<Figure size 72x72 with 1 Axes>"
      ]
     },
     "metadata": {},
     "output_type": "display_data"
    }
   ],
   "source": [
    "def predict_digit(imgfile):\n",
    "    img = Image.open(imgfile).convert('L') # อ่านข้อมูลจากไฟล์ภาพเป็นโทนเทา(ขาวดำ)\n",
    "    img = ImageOps.invert(img) #กลับขาว ดำ\n",
    "    img = img.resize((8, 8), Image.ANTIALIAS) # scake down และทำการปรับ Anti-alias\n",
    "    \n",
    "    pixel = np.array(img) # ขนาด 8 x 8\n",
    "    pixel - pixel / 255.0 *16 # ปรับค่าจาก 0-255 ให้เป็น 0-1 *16 = 0-19\n",
    "    pixel = pixel.astype('int') # เปลี่ยนเป็นจำนวนเต็ม\n",
    "    my_digit = pixel.reshape(1,-1) # เปลี่ยนให้เป็น 1 x 64 สำหรับใช้เป็น feature\n",
    "    predicted = model.predict(my_digit)\n",
    "    #พล็อตกราฟทำ Labelค่าที่ทำนายได้\n",
    "    plt.figure(figsize=(1,1))\n",
    "    plt.imshow(pixel, cmap=plt.cm.gray_r) #พล็อตตัวเลขทำนาย\n",
    "    plt.title('Predict: {}'.format(predicted[0]))\n",
    "    plt.xticks([])\n",
    "    plt.yticks([])\n",
    "    plt.show()\n",
    "#รายชื่อไฟล์ภาพ \n",
    "imgfiles = ['digit_pred.png']\n",
    "for i in imgfiles:\n",
    "    predict_digit(i) #วนรอบเรียกฟังก์ชันทำนาย"
   ]
  },
  {
   "cell_type": "code",
   "execution_count": null,
   "metadata": {},
   "outputs": [],
   "source": []
  }
 ],
 "metadata": {
  "kernelspec": {
   "display_name": "Python 3",
   "language": "python",
   "name": "python3"
  },
  "language_info": {
   "codemirror_mode": {
    "name": "ipython",
    "version": 3
   },
   "file_extension": ".py",
   "mimetype": "text/x-python",
   "name": "python",
   "nbconvert_exporter": "python",
   "pygments_lexer": "ipython3",
   "version": "3.7.6"
  }
 },
 "nbformat": 4,
 "nbformat_minor": 4
}
