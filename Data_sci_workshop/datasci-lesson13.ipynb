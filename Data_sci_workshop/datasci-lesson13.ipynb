{
 "cells": [
  {
   "cell_type": "code",
   "execution_count": 1,
   "metadata": {},
   "outputs": [
    {
     "name": "stdout",
     "output_type": "stream",
     "text": [
      "x=2.0 y=1.49\n",
      "x=2.5 y=1.73\n",
      "x=3.0 y=1.98\n",
      "x=5.0 y=2.96\n"
     ]
    }
   ],
   "source": [
    "# Workshop 1 : เขียนโปรแกรมไม่ใช้ Machine Learing\n",
    "#y = slope * x + b สมการเส้นตรง\n",
    "# y = mx + b\n",
    "# y= output x = input slope = ความชันของเส้น coeff b = จุดตัดแกน y หรือ output เริ่มต้นโดยที่ input ยังไม่มี\n",
    "\n",
    "m = (3.45-1)/(6-1) # slope as m\n",
    "# b = y-(m*x)\n",
    "b = 3.45 - (m*6) # เลือกจุด x = 6 , y = 3.45\n",
    "# b # ได้ 0.509\n",
    "# เขียนเป็นโปรแกรม และคำนวณคาดการณ์กำไร เมื่อลงทุนโฆษณา 2.5 ล้าน จะได้\n",
    "\n",
    "x_in = 2.5\n",
    "m\n",
    "b\n",
    "y2 = m*x_in + b #0twfh output=1.735\n",
    "y2\n",
    "x_input = [2.0, 2.5 , 3 , 5.0] # input มีหลายค่า\n",
    "for k in x_input:\n",
    "    y2 = m*k + b # ค่า m,b จากที่คำนวณด้านบน\n",
    "    print('x={:3.1f} y={:4.2f}'.format(k,y2))"
   ]
  },
  {
   "cell_type": "code",
   "execution_count": 6,
   "metadata": {},
   "outputs": [
    {
     "data": {
      "image/png": "[encoded data removed]",
      "text/plain": [
       "<Figure size 432x288 with 1 Axes>"
      ]
     },
     "metadata": {
      "needs_background": "light"
     },
     "output_type": "display_data"
    },
    {
     "data": {
      "image/png": "[encoded data removed]",
      "text/plain": [
       "<Figure size 432x288 with 1 Axes>"
      ]
     },
     "metadata": {
      "needs_background": "light"
     },
     "output_type": "display_data"
    },
    {
     "name": "stdout",
     "output_type": "stream",
     "text": [
      "x=2.0 y=1.49246\n",
      "x=2.5 y=1.73671\n",
      "x=3.0 y=1.98095\n",
      "x=5.0 y=2.95792\n"
     ]
    },
    {
     "data": {
      "image/png": "[encoded data removed]",
      "text/plain": [
       "<Figure size 432x288 with 1 Axes>"
      ]
     },
     "metadata": {
      "needs_background": "light"
     },
     "output_type": "display_data"
    },
    {
     "name": "stdout",
     "output_type": "stream",
     "text": [
      "slope= [[0.48848496]] Y-intercept= [0.51549457]\n"
     ]
    }
   ],
   "source": [
    "# Workshop2 : เขียนโปรแกรมโยดใช้ machine learning\n",
    "import matplotlib.pyplot as plt # plot graph\n",
    "import numpy as np # numpy\n",
    "\n",
    "x_data = [1.0,1.8,3.0,4.1,5.2,6.0] #ข้อมูลแกน x\n",
    "y_data = [1,1.3,2.2,2.5,2.8,3.6] #ข้อมูลแกน y\n",
    "x = np.array(x_data) # เปลี่ยน list ให้เป็น array โดย numpy\n",
    "y = np.array(y_data) \n",
    "x\n",
    "y\n",
    "plt.scatter(x,y) # สังเกตกราฟจะมีแนวโน้มเป็นเส้นตรง\n",
    "plt.grid()\n",
    "plt.show()\n",
    "\n",
    "from sklearn.linear_model import LinearRegression # สำหรับสมการเส้นตรง\n",
    "# 1 เปลี่ยนรูปแบบเมทริกซ์ .reshape(-1,1)\n",
    "x = x.reshape(-1,1)\n",
    "x\n",
    "y = y.reshape(-1,1)\n",
    "y\n",
    "model = LinearRegression() # เริ่มาร้าง Model (instantate)\n",
    "# 2 train model\n",
    "model.fit(x,y) # ป้อนข้อมูล x y ให้คอมพิวเตอร์ สร้าง model ให้ (Train)\n",
    "\n",
    "# 3 pedict\n",
    "model.predict([[2.5]]) # คำนวณหาผลลัพธ์\n",
    "#predict พร้อมกันหลายๆค่า\n",
    "x_input = [[2.0],\n",
    "          [2.5],\n",
    "          [3],\n",
    "          [5.0]]      # ไม่จำเป็นต้องเรียงตรงแนว หรือจะเขียนเป็นบรรทัดเดียวก็ได้\n",
    "y_predict = model.predict(x_input) # ทำนาย (predict)\n",
    "y_predict\n",
    "plt.scatter(x_input,y_predict)\n",
    "plt.scatter(x,y)\n",
    "plt.legend\n",
    "plt.grid()\n",
    "plt.show()\n",
    "\n",
    "y_predict[1][0] # ได้ 1.736\n",
    "y_predict[0][0] # ได้ 1.492\n",
    "\n",
    "#แบบนี้ก็ได้\n",
    "x_input = [2.0, 2.5, 3, 5.0]\n",
    "x_input = np.array(x_input).reshape(-1,1) # .reshape ก่อน\n",
    "y_predict = model.predict(x_input)\n",
    "y_predict\n",
    "\n",
    "# วนรอบอ่านค่า\n",
    "y2_predict = y_predict.reshape(1,-1)\n",
    "x_input_list = x_input\n",
    "\n",
    "for i, item in enumerate(x_input_list):\n",
    "    print ('x={} y={:.5f}'.format(item[0], y2_predict[0][i]))\n",
    "    \n",
    "# ดูเส้นจากสมการ model \n",
    "prd = model.predict(x) # หาค่า y (ทำนาย y)ทุกจุดที่ x เป็น input\n",
    "\n",
    "plt.grid() # แสดงเส้น grid\n",
    "plt.scatter(x,y,color='b') # พล็อตจุด Data ของจริง เป็นสีน้ำเงิน (b=blue)\n",
    "plt.plot(x,prd,linewidth='1') # พล็อต เส้นตรง ที่เครื่องสร้าง model ให้\n",
    "\n",
    "# พล็อตจุดที่ทำนายได้ให้ (s= จุดสี่เหลี่ยม sqaure, (r=red))\n",
    "plt.scatter(x,prd,color='r',marker='s')\n",
    "plt.show()\n",
    "\n",
    "#จุดกลม(สีน้ำเงิน) คือจุดที่เป็นข้อมูล Data ค่า x y จริง (ได้มาจากการเก็บข้อมูลจริงๆชององค์กรหรือหน่วยงาน ซึ่งก็คือ Data ที่เราใช้สอนหรือ Train ให้คอมพิวเตอร์)\n",
    "#เส้นตรงคือเส้นที่เกิดจาก model โดยเส้นนี้ที่เครื่องคำนวณแล้วลากผ่านจุดต่างๆของข้อมูลลจริงให้มีค่าผิดพลาดน้อยที่สุด (เครื่องพยายามเลือกให้ผ่านทุกจุด)\n",
    "#จุดสี่เหลี่ยม(แดง)คือจุดที่ได้จากการทำนาย(ได้จากการคำนวณ predict)โดยป้อนค่า x เป็น input เข้าไปทำนาย\n",
    "# ตรวจหา slope(m) และ intecept(b)ของสมการเส้นตรง\n",
    "print(\"slope=\",model.coef_,\"Y-intercept=\",model.intercept_)\n"
   ]
  },
  {
   "cell_type": "code",
   "execution_count": 7,
   "metadata": {},
   "outputs": [
    {
     "name": "stderr",
     "output_type": "stream",
     "text": [
      "C:\\Users\\Chaiwat\\anaconda3\\lib\\site-packages\\sklearn\\externals\\joblib\\__init__.py:15: FutureWarning: sklearn.externals.joblib is deprecated in 0.21 and will be removed in 0.23. Please import this functionality directly from joblib, which can be installed with: pip install joblib. If this warning is raised when loading pickled models, you may need to re-serialize those models with scikit-learn 0.21+.\n",
      "  warnings.warn(msg, category=FutureWarning)\n"
     ]
    },
    {
     "data": {
      "text/plain": [
       "['my_model.pkl']"
      ]
     },
     "execution_count": 7,
     "metadata": {},
     "output_type": "execute_result"
    }
   ],
   "source": [
    "#Workshop 3 : การบันทึกและเรียกใช้งาน model\n",
    "from sklearn.externals import joblib\n",
    "#บันทึก model เก็บเป็นไฟล์ ชื่อ my_model.pkl\n",
    "#model คือตัวแปรเก็บค่า model ที่ได้จาก .fit() ซึ่งได้จากขั้นตอน train\n",
    "joblib.dump(model,'my_model.pkl')"
   ]
  },
  {
   "cell_type": "code",
   "execution_count": 10,
   "metadata": {},
   "outputs": [
    {
     "data": {
      "text/plain": [
       "array([[1.49246448],\n",
       "       [1.73670696],\n",
       "       [1.98094944],\n",
       "       [2.95791935],\n",
       "       [3.20216183]])"
      ]
     },
     "execution_count": 10,
     "metadata": {},
     "output_type": "execute_result"
    }
   ],
   "source": [
    "#Workshop 4 : การนำ model มาใช้งานในโปรแกรม\n",
    "from sklearn.externals import joblib\n",
    "import numpy as np\n",
    "model = joblib.load('my_model.pkl') #โหลด model จากไฟล์ .pkl มาใช้งาน\n",
    "#สมมติว่าinput ที่จะใช้ test มีค่าดังนี้\n",
    "x_input = [2.0,2.5,3,5.0,5.5]\n",
    "x_input = np.array(x_input).reshape(-1,1)\n",
    "\n",
    "y_predict = model.predict(x_input) # ทำการรันทำนายผล\n",
    "y_predict"
   ]
  },
  {
   "cell_type": "code",
   "execution_count": 11,
   "metadata": {},
   "outputs": [
    {
     "data": {
      "text/plain": [
       "(array([[0.48848496]]), array([0.51549457]))"
      ]
     },
     "execution_count": 11,
     "metadata": {},
     "output_type": "execute_result"
    }
   ],
   "source": [
    "# สรุปภาพรวการสร้าง model \n",
    "import matplotlib.pyplot as plt\n",
    "import numpy as np\n",
    "from sklearn.linear_model import LinearRegression\n",
    "from sklearn.externals import joblib\n",
    "\n",
    "x_data = [1.0, 1.8, 3.0, 4.1, 5.2, 6.0]\n",
    "y_data = [1, 1.3, 2.2, 2.5, 2.8, 3.6]\n",
    "\n",
    "x = np.array(x_data)\n",
    "y = np.array(y_data)\n",
    "x = x.reshape(-1,1)\n",
    "y = y.reshape(-1,1)\n",
    "model = LinearRegression()\n",
    "model.fit(x,y)\n",
    "\n",
    "joblib.dump(model,'my_model.pkl')\n",
    "model.coef_,model.intercept_ # ทดสอบค่าในสมการเส้นตรงจากmodel"
   ]
  },
  {
   "cell_type": "code",
   "execution_count": null,
   "metadata": {},
   "outputs": [],
   "source": []
  }
 ],
 "metadata": {
  "kernelspec": {
   "display_name": "Python 3",
   "language": "python",
   "name": "python3"
  },
  "language_info": {
   "codemirror_mode": {
    "name": "ipython",
    "version": 3
   },
   "file_extension": ".py",
   "mimetype": "text/x-python",
   "name": "python",
   "nbconvert_exporter": "python",
   "pygments_lexer": "ipython3",
   "version": "3.7.6"
  }
 },
 "nbformat": 4,
 "nbformat_minor": 4
}
