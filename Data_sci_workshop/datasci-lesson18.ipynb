{
 "cells": [
  {
   "cell_type": "code",
   "execution_count": 106,
   "metadata": {},
   "outputs": [
    {
     "data": {
      "text/plain": [
       "mean radius                0\n",
       "mean texture               0\n",
       "mean perimeter             0\n",
       "mean area                  0\n",
       "mean smoothness            0\n",
       "mean compactness           0\n",
       "mean concavity             0\n",
       "mean concave points        0\n",
       "mean symmetry              0\n",
       "mean fractal dimension     0\n",
       "radius error               0\n",
       "texture error              0\n",
       "perimeter error            0\n",
       "area error                 0\n",
       "smoothness error           0\n",
       "compactness error          0\n",
       "concavity error            0\n",
       "concave points error       0\n",
       "symmetry error             0\n",
       "fractal dimension error    0\n",
       "worst radius               0\n",
       "worst texture              0\n",
       "worst perimeter            0\n",
       "worst area                 0\n",
       "worst smoothness           0\n",
       "worst compactness          0\n",
       "worst concavity            0\n",
       "worst concave points       0\n",
       "worst symmetry             0\n",
       "worst fractal dimension    0\n",
       "class                      0\n",
       "dtype: int64"
      ]
     },
     "execution_count": 106,
     "metadata": {},
     "output_type": "execute_result"
    }
   ],
   "source": [
    "#Workshop 1 : โหลดข้อมูล\n",
    "# โหลดข้อมูล ตรวจดูข้อมูล และเตรียมข้อมมูลเบื้องต้น\n",
    "from sklearn.datasets import load_breast_cancer\n",
    "from sklearn import metrics\n",
    "import numpy as np\n",
    "import pandas as pd\n",
    "import matplotlib.pyplot as plt\n",
    "import seaborn as sns\n",
    "\n",
    "cancer = load_breast_cancer()\n",
    "cancer.keys() # ดู key ในชุดข้อมูลมีอะไรบ้าง\n",
    "\n",
    "# ต้องการใช้ feature_names เก็บไว้ DataFrame\n",
    "df = pd.DataFrame(cancer.data, columns=cancer.feature_names) # ข้อมูล และ ชื่อตัวแปร\n",
    "df['class'] = cancer.target # Class / Target / Label (เป็นหรือไม่เป็นมะเร็ง)\n",
    "df.head() # ดู head\n",
    "\n",
    "df.isnull().sum() # ตรวจดู missing data\n",
    "\n"
   ]
  },
  {
   "cell_type": "code",
   "execution_count": 107,
   "metadata": {},
   "outputs": [],
   "source": [
    "#พล็อตดู 2 กราฟคู่กันดู\n",
    "fig, (ax1, ax2) = plt.subplots(ncols=2, figsize=(8,3))\n",
    "ax1.set_title('mean radius')\n",
    "ax1.boxplot(df['mean radius'])\n",
    "\n",
    "ax2.set_title('mean texture')\n",
    "ax2.boxplot(df['mean texture'])\n",
    "plt.show()"
   ]
  },
  {
   "cell_type": "code",
   "execution_count": 108,
   "metadata": {},
   "outputs": [
    {
     "data": {
      "text/plain": [
       "(563, 31)"
      ]
     },
     "execution_count": 108,
     "metadata": {},
     "output_type": "execute_result"
    }
   ],
   "source": [
    "# การวิเคราะห์มะเร็ง ทรวงอกบทนี้จะใช้เพียง 2 ตัวแปร  mean radius and mean texture\n",
    "# โดยตัด outlier ที่ 25 และ 38 ตามลำดับ\n",
    "df = df[df['mean radius']<25]\n",
    "df = df[df['mean texture']<38]\n",
    "df.shape"
   ]
  },
  {
   "cell_type": "code",
   "execution_count": 109,
   "metadata": {},
   "outputs": [],
   "source": [
    "# ตรวจตูข้อมูลโดยการพล็อต Scatter (ทำ Data Visualization)\n",
    "sns.set_style('whitegrid')  # สีพื้น\n",
    "plt.figure(figsize=(5.3,3.2)) # ขนาดกราฟ\n",
    "\n",
    "sns.scatterplot('mean radius','mean texture',data=df, hue='class', style='class',\n",
    "               alpha=0.9, edgecolor='w', s=80)\n",
    "plt.grid(False) # ซ่อน grid\n",
    "plt.legend(loc='upper left',bbox_to_anchor=(1,1))\n",
    "plt.show()\n"
   ]
  },
  {
   "cell_type": "code",
   "execution_count": 75,
   "metadata": {},
   "outputs": [
    {
     "data": {
      "text/plain": [
       "0    25.49\n",
       "1    28.07\n",
       "2    27.19\n",
       "Name: mean ra, dtype: float64"
      ]
     },
     "execution_count": 75,
     "metadata": {},
     "output_type": "execute_result"
    }
   ],
   "source": [
    "# Workshop 2 : Case 1 ROC(Reciver Operating Characteristic curve) AUC(Area Under the Curve) ของ Modelที่ดีที่สุด\n",
    "# ทำนาย 100 เคสถูก 100 เคส\n",
    "# สร้างข้อมูลจากชุดข้อมูล โดยตัดส่วนที่ข้อมูลซ้อนทับกันใช้ดป็นกรณีศึกษา\n",
    "df['mean ra'] = np.where(df['class']==0, df['mean radius']+7.5, df['mean radius']) # เลือก row == 0 , จากค่า mean radius +7.5\n",
    "df['mean ra'].head(3)"
   ]
  },
  {
   "cell_type": "code",
   "execution_count": 76,
   "metadata": {},
   "outputs": [],
   "source": [
    "# ตรวจตูข้อมูลโดยการพล็อต Scatter (ทำ Data Visualization)\n",
    "# ข้อมูลที่ทำการคัดเอาแต่ส่วนที่แยกกัน\n",
    "plt.figure(figsize=(5.3, 3.2))\n",
    "plt.rcParams['axes.edgecolor'] = '150'\n",
    "plt.rcParams['axes.linewidth'] = 1.25\n",
    "sns.scatterplot('mean ra','mean texture', data =df, hue='class', style='class',\n",
    "               alpha=0.9, edgecolor='w', s=80)\n",
    "plt.grid(False)\n",
    "plt.legend(loc='upper left', bbox_to_anchor=(1,1))\n",
    "plt.show()"
   ]
  },
  {
   "cell_type": "code",
   "execution_count": 77,
   "metadata": {},
   "outputs": [],
   "source": [
    "# ตรวจดู Histrogram(การกระจายของข้อมูล) by displot\n",
    "\n",
    "plt.figure(figsize=(4.5, 3.2))\n",
    "sns.distplot(df['mean ra'][df['class']==0], label='0', color='b')\n",
    "sns.distplot(df['mean ra'][df['class']==1], label='1', color='r')\n",
    "plt.legend()\n",
    "plt.grid(False)\n",
    "plt.show()"
   ]
  },
  {
   "cell_type": "code",
   "execution_count": 78,
   "metadata": {},
   "outputs": [
    {
     "data": {
      "text/html": [
       "<div>\n",
       "<style scoped>\n",
       "    .dataframe tbody tr th:only-of-type {\n",
       "        vertical-align: middle;\n",
       "    }\n",
       "\n",
       "    .dataframe tbody tr th {\n",
       "        vertical-align: top;\n",
       "    }\n",
       "\n",
       "    .dataframe thead th {\n",
       "        text-align: right;\n",
       "    }\n",
       "</style>\n",
       "<table border=\"1\" class=\"dataframe\">\n",
       "  <thead>\n",
       "    <tr style=\"text-align: right;\">\n",
       "      <th></th>\n",
       "      <th>mean ra</th>\n",
       "      <th>mean texture</th>\n",
       "    </tr>\n",
       "  </thead>\n",
       "  <tbody>\n",
       "    <tr>\n",
       "      <th>0</th>\n",
       "      <td>25.49</td>\n",
       "      <td>10.38</td>\n",
       "    </tr>\n",
       "    <tr>\n",
       "      <th>1</th>\n",
       "      <td>28.07</td>\n",
       "      <td>17.77</td>\n",
       "    </tr>\n",
       "    <tr>\n",
       "      <th>2</th>\n",
       "      <td>27.19</td>\n",
       "      <td>21.25</td>\n",
       "    </tr>\n",
       "  </tbody>\n",
       "</table>\n",
       "</div>"
      ],
      "text/plain": [
       "   mean ra  mean texture\n",
       "0    25.49         10.38\n",
       "1    28.07         17.77\n",
       "2    27.19         21.25"
      ]
     },
     "execution_count": 78,
     "metadata": {},
     "output_type": "execute_result"
    }
   ],
   "source": [
    "# เตรียมข้อมูลเพื่อไป train model X(Feature = mean ra, mean texture) y(class)\n",
    "columns = ['mean ra','mean texture']\n",
    "X = df[columns]\n",
    "y = df['class']\n",
    "X.shape , y.shape , y.unique() # ดู จำนวน X y และ ข้อมูล y มีรูปแบบใดบ้าง\n",
    "X[:3]"
   ]
  },
  {
   "cell_type": "code",
   "execution_count": 79,
   "metadata": {},
   "outputs": [],
   "source": [
    "#Train Test\n",
    "# แบ่งข้อมูล -> สร้าง model LogisticRegression -> Test\n",
    "#1 split data\n",
    "from sklearn.model_selection import train_test_split\n",
    "X_train, X_test, y_train, y_test = train_test_split(X, y, test_size =0.3, random_state=10)"
   ]
  },
  {
   "cell_type": "code",
   "execution_count": 80,
   "metadata": {},
   "outputs": [
    {
     "data": {
      "text/plain": [
       "LogisticRegression(C=1.0, class_weight=None, dual=False, fit_intercept=True,\n",
       "                   intercept_scaling=1, l1_ratio=None, max_iter=100,\n",
       "                   multi_class='auto', n_jobs=None, penalty='l2',\n",
       "                   random_state=None, solver='lbfgs', tol=0.0001, verbose=0,\n",
       "                   warm_start=False)"
      ]
     },
     "execution_count": 80,
     "metadata": {},
     "output_type": "execute_result"
    }
   ],
   "source": [
    "#2 model building\n",
    "from sklearn.linear_model import LogisticRegression\n",
    "\n",
    "model = LogisticRegression(solver='lbfgs')\n",
    "model.fit(X_train, y_train)"
   ]
  },
  {
   "cell_type": "code",
   "execution_count": 81,
   "metadata": {},
   "outputs": [
    {
     "name": "stdout",
     "output_type": "stream",
     "text": [
      "Score 1.000\n",
      "              precision    recall  f1-score   support\n",
      "\n",
      "          No       1.00      1.00      1.00        63\n",
      "         Yes       1.00      1.00      1.00       106\n",
      "\n",
      "    accuracy                           1.00       169\n",
      "   macro avg       1.00      1.00      1.00       169\n",
      "weighted avg       1.00      1.00      1.00       169\n",
      "\n",
      "[[ 63   0]\n",
      " [  0 106]]\n",
      "cross val score [1. 1. 1. 1. 1. 1. 1. 1. 1. 1.]\n",
      "Average(%) = 100.00\n"
     ]
    }
   ],
   "source": [
    "#3 การประเมิณ model\n",
    "from sklearn.metrics import classification_report, confusion_matrix\n",
    "\n",
    "#Accuracy\n",
    "print(\"Score {:.3f}\".format(model.score(X_test, y_test)))\n",
    "\n",
    "#Precision\n",
    "y_pred = model.predict(X_test)\n",
    "print(classification_report(y_test, y_pred, target_names=['No','Yes']))\n",
    "cm = confusion_matrix(y_test, y_pred)\n",
    "print(cm)\n",
    "# ใช้งาน scikitplot ทำ HeatMap  Condusion matrix\n",
    "import scikitplot as skplot\n",
    "sns.set(rc={'figure.figsize':(2.2,2)})\n",
    "skplot.metrics.plot_confusion_matrix(y_test, y_pred)\n",
    "plt.show()\n",
    "\n",
    "#ทำ Cross validation (k-fold k=10)\n",
    "from sklearn.model_selection import cross_val_score\n",
    "model = LogisticRegression(solver='lbfgs')\n",
    "cvs = cross_val_score(model, X, y, cv=10)\n",
    "print('cross val score {}'.format(cvs.round(2)))\n",
    "print('Average(%) = {:.2f}'.format(cvs.mean()*100))"
   ]
  },
  {
   "cell_type": "code",
   "execution_count": 82,
   "metadata": {},
   "outputs": [
    {
     "data": {
      "text/plain": [
       "1.0"
      ]
     },
     "execution_count": 82,
     "metadata": {},
     "output_type": "execute_result"
    }
   ],
   "source": [
    "#ทำ ROC curve\n",
    "#ต้องใช้ model.predict_proba()\n",
    "# ถ้าใช้ model decision tree ต้องกำหนด max_depth ด้วย เนื่องจาก ความน่าจะเป็นอาจออกมาแค่ 0 , 1 \n",
    "model.fit(X_train, y_train) # Train อีกครั้ง\n",
    "\n",
    "y_pred_prob = model.predict_proba(X_test) # Predict ด้วย  .predict_proba\n",
    "fpr, tpr, thresholds = metrics.roc_curve(y_test, y_pred_prob[:,1]) # ค่าที่ใช้ พล็อต ROC\n",
    "y_pred_prob[:10].round(3)\n",
    "'''นำค่าy(จริง) กับ y_pred_prob เก็บใส่ DataFrame'''\n",
    "df_result = pd.DataFrame(y_test)\n",
    "df_result['y_pred'] = y_pred\n",
    "df_result['y_pred_prob0'] = y_pred_prob[:,0] # ความน่าจะเป็น ของผลทำนาย Negative\n",
    "df_result['y_pred_pred1'] = y_pred_prob[:,1] # ความน่าจะเป็น ของผลทำนาย Positive\n",
    "df_result.head().round(3)\n",
    "#พล็อต ROC curve\n",
    "\n",
    "from sklearn.metrics import roc_curve, auc\n",
    "#%matplotlib\n",
    "ll = [0,1] #Lower Left\n",
    "ur = [0,1] #Upper Right\n",
    "\n",
    "plt.figure(figsize=(4,4))\n",
    "y_pred_prob = model.predict_proba(X_test)\n",
    "fpr, tpr, thresholds = roc_curve(y_test, y_pred_prob[:,1])\n",
    "plt.plot(fpr,tpr)\n",
    "plt.plot(ll,ur,'--r') # --r = color red ลาก -- จาก ll -> ur\n",
    "plt.title('ROC Curve')\n",
    "plt.xlabel('False Positive Rate (FPR)')\n",
    "plt.ylabel('True Positive Rate (TPR)')\n",
    "plt.grid(False)\n",
    "plt.show()\n",
    "\n",
    "auc = auc(fpr,tpr)\n",
    "auc"
   ]
  },
  {
   "cell_type": "code",
   "execution_count": 83,
   "metadata": {},
   "outputs": [],
   "source": [
    "# Workshop 3 : Case  2 ROC AUC Model แม่นยำ 88%\n",
    "# ให้ใช้ 'mean ra' = 'mean radius'\n",
    "df['mean ra'] = df['mean radius'] #ค่าเดิม ข้อมูลต้นฉบับ\n",
    "\n",
    "# ตรวจตูข้อมูลโดยการพล็อต Scatter (ทำ Data Visualization)\n",
    "# ข้อมูลที่ทำการคัดเอาแต่ส่วนที่แยกกัน\n",
    "plt.figure(figsize=(5.3, 3.2))\n",
    "plt.rcParams['axes.edgecolor'] = '150'\n",
    "plt.rcParams['axes.linewidth'] = 1.25\n",
    "sns.scatterplot('mean ra','mean texture', data =df, hue='class', style='class',\n",
    "               alpha=0.9, edgecolor='w', s=80)\n",
    "plt.grid(False)\n",
    "plt.legend(loc='upper left', bbox_to_anchor=(1,1))\n",
    "plt.show()"
   ]
  },
  {
   "cell_type": "code",
   "execution_count": 84,
   "metadata": {},
   "outputs": [],
   "source": [
    "# ตรวจดู Histrogram(การกระจายของข้อมูล) by displot\n",
    "\n",
    "plt.figure(figsize=(4.5, 3.2))\n",
    "sns.distplot(df['mean ra'][df['class']==0], label='0', color='b')\n",
    "sns.distplot(df['mean ra'][df['class']==1], label='1', color='r')\n",
    "plt.legend()\n",
    "plt.grid(False)\n",
    "plt.show()"
   ]
  },
  {
   "cell_type": "code",
   "execution_count": 85,
   "metadata": {},
   "outputs": [
    {
     "data": {
      "text/html": [
       "<div>\n",
       "<style scoped>\n",
       "    .dataframe tbody tr th:only-of-type {\n",
       "        vertical-align: middle;\n",
       "    }\n",
       "\n",
       "    .dataframe tbody tr th {\n",
       "        vertical-align: top;\n",
       "    }\n",
       "\n",
       "    .dataframe thead th {\n",
       "        text-align: right;\n",
       "    }\n",
       "</style>\n",
       "<table border=\"1\" class=\"dataframe\">\n",
       "  <thead>\n",
       "    <tr style=\"text-align: right;\">\n",
       "      <th></th>\n",
       "      <th>mean ra</th>\n",
       "      <th>mean texture</th>\n",
       "    </tr>\n",
       "  </thead>\n",
       "  <tbody>\n",
       "    <tr>\n",
       "      <th>0</th>\n",
       "      <td>17.99</td>\n",
       "      <td>10.38</td>\n",
       "    </tr>\n",
       "    <tr>\n",
       "      <th>1</th>\n",
       "      <td>20.57</td>\n",
       "      <td>17.77</td>\n",
       "    </tr>\n",
       "    <tr>\n",
       "      <th>2</th>\n",
       "      <td>19.69</td>\n",
       "      <td>21.25</td>\n",
       "    </tr>\n",
       "  </tbody>\n",
       "</table>\n",
       "</div>"
      ],
      "text/plain": [
       "   mean ra  mean texture\n",
       "0    17.99         10.38\n",
       "1    20.57         17.77\n",
       "2    19.69         21.25"
      ]
     },
     "execution_count": 85,
     "metadata": {},
     "output_type": "execute_result"
    }
   ],
   "source": [
    "# เตรียมข้อมูลเพื่อไป train model X(Feature = mean ra, mean texture) y(class)\n",
    "columns = ['mean ra','mean texture']\n",
    "X = df[columns]\n",
    "y = df['class']\n",
    "X.shape , y.shape , y.unique() # ดู จำนวน X y และ ข้อมูล y มีรูปแบบใดบ้าง\n",
    "X[:3]"
   ]
  },
  {
   "cell_type": "code",
   "execution_count": 86,
   "metadata": {},
   "outputs": [],
   "source": [
    "#Train Test\n",
    "# แบ่งข้อมูล -> สร้าง model LogisticRegression -> Test\n",
    "#1 split data\n",
    "from sklearn.model_selection import train_test_split\n",
    "X_train, X_test, y_train, y_test = train_test_split(X, y, test_size =0.3, random_state=10)"
   ]
  },
  {
   "cell_type": "code",
   "execution_count": 87,
   "metadata": {},
   "outputs": [
    {
     "data": {
      "text/plain": [
       "LogisticRegression(C=1.0, class_weight=None, dual=False, fit_intercept=True,\n",
       "                   intercept_scaling=1, l1_ratio=None, max_iter=100,\n",
       "                   multi_class='auto', n_jobs=None, penalty='l2',\n",
       "                   random_state=None, solver='lbfgs', tol=0.0001, verbose=0,\n",
       "                   warm_start=False)"
      ]
     },
     "execution_count": 87,
     "metadata": {},
     "output_type": "execute_result"
    }
   ],
   "source": [
    "#2 model building\n",
    "from sklearn.linear_model import LogisticRegression\n",
    "\n",
    "model = LogisticRegression(solver='lbfgs')\n",
    "model.fit(X_train, y_train)"
   ]
  },
  {
   "cell_type": "code",
   "execution_count": 88,
   "metadata": {},
   "outputs": [
    {
     "name": "stdout",
     "output_type": "stream",
     "text": [
      "Score 0.911\n",
      "              precision    recall  f1-score   support\n",
      "\n",
      "          No       0.94      0.81      0.87        63\n",
      "         Yes       0.90      0.97      0.93       106\n",
      "\n",
      "    accuracy                           0.91       169\n",
      "   macro avg       0.92      0.89      0.90       169\n",
      "weighted avg       0.91      0.91      0.91       169\n",
      "\n",
      "[[ 51  12]\n",
      " [  3 103]]\n",
      "cross val score [0.84 0.86 0.89 0.86 0.88 0.88 0.95 0.93 0.93 0.86]\n",
      "Average(%) = 88.64\n"
     ]
    }
   ],
   "source": [
    "#3 การประเมิณ model\n",
    "from sklearn.metrics import classification_report, confusion_matrix\n",
    "\n",
    "#Accuracy\n",
    "print(\"Score {:.3f}\".format(model.score(X_test, y_test)))\n",
    "\n",
    "#Precision\n",
    "y_pred = model.predict(X_test)\n",
    "print(classification_report(y_test, y_pred, target_names=['No','Yes']))\n",
    "cm = confusion_matrix(y_test, y_pred)\n",
    "print(cm)\n",
    "# ใช้งาน scikitplot ทำ HeatMap  Condusion matrix\n",
    "import scikitplot as skplot\n",
    "sns.set(rc={'figure.figsize':(2.2,2)})\n",
    "skplot.metrics.plot_confusion_matrix(y_test, y_pred)\n",
    "plt.show()\n",
    "\n",
    "#ทำ Cross validation (k-fold k=10)\n",
    "from sklearn.model_selection import cross_val_score\n",
    "model = LogisticRegression(solver='lbfgs')\n",
    "cvs = cross_val_score(model, X, y, cv=10)\n",
    "print('cross val score {}'.format(cvs.round(2)))\n",
    "print('Average(%) = {:.2f}'.format(cvs.mean()*100))"
   ]
  },
  {
   "cell_type": "code",
   "execution_count": 89,
   "metadata": {},
   "outputs": [
    {
     "data": {
      "text/plain": [
       "0.9634621144055106"
      ]
     },
     "execution_count": 89,
     "metadata": {},
     "output_type": "execute_result"
    }
   ],
   "source": [
    "#ทำ ROC curve\n",
    "#ต้องใช้ model.predict_proba()\n",
    "# ถ้าใช้ model decision tree ต้องกำหนด max_depth ด้วย เนื่องจาก ความน่าจะเป็นอาจออกมาแค่ 0 , 1 \n",
    "model.fit(X_train, y_train) # Train อีกครั้ง\n",
    "\n",
    "y_pred_prob = model.predict_proba(X_test) # Predict ด้วย  .predict_proba\n",
    "fpr, tpr, thresholds = metrics.roc_curve(y_test, y_pred_prob[:,1]) # ค่าที่ใช้ พล็อต ROC\n",
    "y_pred_prob[:10].round(3)\n",
    "'''นำค่าy(จริง) กับ y_pred_prob เก็บใส่ DataFrame'''\n",
    "df_result = pd.DataFrame(y_test)\n",
    "df_result['y_pred'] = y_pred\n",
    "df_result['y_pred_prob0'] = y_pred_prob[:,0] # ความน่าจะเป็น ของผลทำนาย Negative\n",
    "df_result['y_pred_pred1'] = y_pred_prob[:,1] # ความน่าจะเป็น ของผลทำนาย Positive\n",
    "df_result.head().round(3)\n",
    "#พล็อต ROC curve\n",
    "\n",
    "from sklearn.metrics import roc_curve, auc\n",
    "#%matplotlib\n",
    "ll = [0,1] #Lower Left\n",
    "ur = [0,1] #Upper Right\n",
    "\n",
    "plt.figure(figsize=(4,4))\n",
    "y_pred_prob = model.predict_proba(X_test)\n",
    "fpr, tpr, thresholds = roc_curve(y_test, y_pred_prob[:,1])\n",
    "plt.plot(fpr,tpr)\n",
    "plt.plot(ll,ur,'--r') # --r = color red ลาก -- จาก ll -> ur\n",
    "plt.title('ROC Curve')\n",
    "plt.xlabel('False Positive Rate (FPR)')\n",
    "plt.ylabel('True Positive Rate (TPR)')\n",
    "plt.grid(False)\n",
    "plt.show()\n",
    "\n",
    "auc = auc(fpr,tpr)\n",
    "auc"
   ]
  },
  {
   "cell_type": "code",
   "execution_count": 90,
   "metadata": {},
   "outputs": [],
   "source": [
    "# Workshop 4 : Case  2 ROC AUC Model แม่นยำ 70%\n",
    "# สร้างข้อมูลจากชุดข้อมูล โดยใช้ส่วนที่ข้อมูลซ้อนทับกันบางส่วนใช้เป็นกรณีศึกษา\n",
    "df['mean ra'] = np.where(df['class']==0, df['mean radius']-5, df['mean radius']) # เลือก row == 0 , จากค่า mean radius -5\n",
    "df['mean ra'].head(3)\n",
    "\n",
    "# ตรวจตูข้อมูลโดยการพล็อต Scatter (ทำ Data Visualization)\n",
    "# ข้อมูลที่ทำการคัดเอาแต่ส่วนที่แยกกัน\n",
    "plt.figure(figsize=(5.3, 3.2))\n",
    "plt.rcParams['axes.edgecolor'] = '150'\n",
    "plt.rcParams['axes.linewidth'] = 1.25\n",
    "sns.scatterplot('mean ra','mean texture', data =df, hue='class', style='class',\n",
    "               alpha=0.9, edgecolor='w', s=80)\n",
    "plt.grid(False)\n",
    "plt.legend(loc='upper left', bbox_to_anchor=(1,1))\n",
    "plt.show()"
   ]
  },
  {
   "cell_type": "code",
   "execution_count": 91,
   "metadata": {},
   "outputs": [],
   "source": [
    "# ตรวจดู Histrogram(การกระจายของข้อมูล) by displot\n",
    "\n",
    "plt.figure(figsize=(4.5, 3.2))\n",
    "sns.distplot(df['mean ra'][df['class']==0], label='0', color='b')\n",
    "sns.distplot(df['mean ra'][df['class']==1], label='1', color='r')\n",
    "plt.legend()\n",
    "plt.grid(False)\n",
    "plt.show()"
   ]
  },
  {
   "cell_type": "code",
   "execution_count": 92,
   "metadata": {},
   "outputs": [
    {
     "data": {
      "text/html": [
       "<div>\n",
       "<style scoped>\n",
       "    .dataframe tbody tr th:only-of-type {\n",
       "        vertical-align: middle;\n",
       "    }\n",
       "\n",
       "    .dataframe tbody tr th {\n",
       "        vertical-align: top;\n",
       "    }\n",
       "\n",
       "    .dataframe thead th {\n",
       "        text-align: right;\n",
       "    }\n",
       "</style>\n",
       "<table border=\"1\" class=\"dataframe\">\n",
       "  <thead>\n",
       "    <tr style=\"text-align: right;\">\n",
       "      <th></th>\n",
       "      <th>mean ra</th>\n",
       "      <th>mean texture</th>\n",
       "    </tr>\n",
       "  </thead>\n",
       "  <tbody>\n",
       "    <tr>\n",
       "      <th>0</th>\n",
       "      <td>12.99</td>\n",
       "      <td>10.38</td>\n",
       "    </tr>\n",
       "    <tr>\n",
       "      <th>1</th>\n",
       "      <td>15.57</td>\n",
       "      <td>17.77</td>\n",
       "    </tr>\n",
       "    <tr>\n",
       "      <th>2</th>\n",
       "      <td>14.69</td>\n",
       "      <td>21.25</td>\n",
       "    </tr>\n",
       "  </tbody>\n",
       "</table>\n",
       "</div>"
      ],
      "text/plain": [
       "   mean ra  mean texture\n",
       "0    12.99         10.38\n",
       "1    15.57         17.77\n",
       "2    14.69         21.25"
      ]
     },
     "execution_count": 92,
     "metadata": {},
     "output_type": "execute_result"
    }
   ],
   "source": [
    "# เตรียมข้อมูลเพื่อไป train model X(Feature = mean ra, mean texture) y(class)\n",
    "columns = ['mean ra','mean texture']\n",
    "X = df[columns]\n",
    "y = df['class']\n",
    "X.shape , y.shape , y.unique() # ดู จำนวน X y และ ข้อมูล y มีรูปแบบใดบ้าง\n",
    "X[:3]"
   ]
  },
  {
   "cell_type": "code",
   "execution_count": 93,
   "metadata": {},
   "outputs": [],
   "source": [
    "#Train Test\n",
    "# แบ่งข้อมูล -> สร้าง model LogisticRegression -> Test\n",
    "#1 split data\n",
    "from sklearn.model_selection import train_test_split\n",
    "X_train, X_test, y_train, y_test = train_test_split(X, y, test_size =0.3, random_state=10)"
   ]
  },
  {
   "cell_type": "code",
   "execution_count": 94,
   "metadata": {},
   "outputs": [
    {
     "data": {
      "text/plain": [
       "LogisticRegression(C=1.0, class_weight=None, dual=False, fit_intercept=True,\n",
       "                   intercept_scaling=1, l1_ratio=None, max_iter=100,\n",
       "                   multi_class='auto', n_jobs=None, penalty='l2',\n",
       "                   random_state=None, solver='lbfgs', tol=0.0001, verbose=0,\n",
       "                   warm_start=False)"
      ]
     },
     "execution_count": 94,
     "metadata": {},
     "output_type": "execute_result"
    }
   ],
   "source": [
    "#2 model building\n",
    "from sklearn.linear_model import LogisticRegression\n",
    "\n",
    "model = LogisticRegression(solver='lbfgs')\n",
    "model.fit(X_train, y_train)"
   ]
  },
  {
   "cell_type": "code",
   "execution_count": 95,
   "metadata": {},
   "outputs": [
    {
     "name": "stdout",
     "output_type": "stream",
     "text": [
      "Score 0.716\n",
      "              precision    recall  f1-score   support\n",
      "\n",
      "          No       0.69      0.43      0.53        63\n",
      "         Yes       0.72      0.89      0.80       106\n",
      "\n",
      "    accuracy                           0.72       169\n",
      "   macro avg       0.71      0.66      0.66       169\n",
      "weighted avg       0.71      0.72      0.70       169\n",
      "\n",
      "[[27 36]\n",
      " [12 94]]\n",
      "cross val score [0.74 0.74 0.72 0.61 0.77 0.77 0.79 0.61 0.77 0.46]\n",
      "Average(%) = 69.61\n"
     ]
    }
   ],
   "source": [
    "#3 การประเมิณ model\n",
    "from sklearn.metrics import classification_report, confusion_matrix\n",
    "\n",
    "#Accuracy\n",
    "print(\"Score {:.3f}\".format(model.score(X_test, y_test)))\n",
    "\n",
    "#Precision\n",
    "y_pred = model.predict(X_test)\n",
    "print(classification_report(y_test, y_pred, target_names=['No','Yes']))\n",
    "cm = confusion_matrix(y_test, y_pred)\n",
    "print(cm)\n",
    "# ใช้งาน scikitplot ทำ HeatMap  Condusion matrix\n",
    "import scikitplot as skplot\n",
    "sns.set(rc={'figure.figsize':(2.2,2)})\n",
    "skplot.metrics.plot_confusion_matrix(y_test, y_pred)\n",
    "plt.show()\n",
    "\n",
    "#ทำ Cross validation (k-fold k=10)\n",
    "from sklearn.model_selection import cross_val_score\n",
    "model = LogisticRegression(solver='lbfgs')\n",
    "cvs = cross_val_score(model, X, y, cv=10)\n",
    "print('cross val score {}'.format(cvs.round(2)))\n",
    "print('Average(%) = {:.2f}'.format(cvs.mean()*100))"
   ]
  },
  {
   "cell_type": "code",
   "execution_count": 96,
   "metadata": {},
   "outputs": [
    {
     "data": {
      "text/plain": [
       "0.8129679544773883"
      ]
     },
     "execution_count": 96,
     "metadata": {},
     "output_type": "execute_result"
    }
   ],
   "source": [
    "#ทำ ROC curve\n",
    "#ต้องใช้ model.predict_proba()\n",
    "# ถ้าใช้ model decision tree ต้องกำหนด max_depth ด้วย เนื่องจาก ความน่าจะเป็นอาจออกมาแค่ 0 , 1 \n",
    "model.fit(X_train, y_train) # Train อีกครั้ง\n",
    "\n",
    "y_pred_prob = model.predict_proba(X_test) # Predict ด้วย  .predict_proba\n",
    "fpr, tpr, thresholds = metrics.roc_curve(y_test, y_pred_prob[:,1]) # ค่าที่ใช้ พล็อต ROC\n",
    "y_pred_prob[:10].round(3)\n",
    "'''นำค่าy(จริง) กับ y_pred_prob เก็บใส่ DataFrame'''\n",
    "df_result = pd.DataFrame(y_test)\n",
    "df_result['y_pred'] = y_pred\n",
    "df_result['y_pred_prob0'] = y_pred_prob[:,0] # ความน่าจะเป็น ของผลทำนาย Negative\n",
    "df_result['y_pred_pred1'] = y_pred_prob[:,1] # ความน่าจะเป็น ของผลทำนาย Positive\n",
    "df_result.head().round(3)\n",
    "#พล็อต ROC curve\n",
    "\n",
    "from sklearn.metrics import roc_curve, auc\n",
    "#%matplotlib\n",
    "ll = [0,1] #Lower Left\n",
    "ur = [0,1] #Upper Right\n",
    "\n",
    "plt.figure(figsize=(4,4))\n",
    "y_pred_prob = model.predict_proba(X_test)\n",
    "fpr, tpr, thresholds = roc_curve(y_test, y_pred_prob[:,1])\n",
    "plt.plot(fpr,tpr)\n",
    "plt.plot(ll,ur,'--r') # --r = color red ลาก -- จาก ll -> ur\n",
    "plt.title('ROC Curve')\n",
    "plt.xlabel('False Positive Rate (FPR)')\n",
    "plt.ylabel('True Positive Rate (TPR)')\n",
    "plt.grid(False)\n",
    "plt.show()\n",
    "\n",
    "auc = auc(fpr,tpr)\n",
    "auc"
   ]
  },
  {
   "cell_type": "code",
   "execution_count": 97,
   "metadata": {},
   "outputs": [
    {
     "name": "stdout",
     "output_type": "stream",
     "text": [
      "(206, 32)\n"
     ]
    }
   ],
   "source": [
    "# Workshop 5 : Case  2 ROC AUC Model แม่นยำ 50% (แย่ที่สุด)\n",
    "# สร้างข้อมูลจากชุดข้อมูล โดยใช้ส่วนที่ข้อมูลซ้อนทับกันทุกส่วนใช้เป็นกรณีศึกษา\n",
    "\n",
    "#ตัดข้อมูลบางส่วนออก\n",
    "idx = df[df['class'] == 1].index\n",
    "df.drop(idx, axis=0, inplace=True)\n",
    "print(df.shape)\n",
    "df2 = df.copy()\n",
    "df2['class'] = 1\n",
    "df2.head()\n",
    "df = df.append(df2, ignore_index=True)\n",
    "df['mean ra'] = np.where(df['class']==0, df['mean radius']+1, df['mean radius']) # เลือก row == 0 , จากค่า mean radius +1 \n",
    "\n",
    "# ตรวจตูข้อมูลโดยการพล็อต Scatter (ทำ Data Visualization)\n",
    "# ข้อมูลที่ทำการคัดเอาแต่ส่วนที่แยกกัน\n",
    "plt.figure(figsize=(5.3, 3.2))\n",
    "plt.rcParams['axes.edgecolor'] = '150'\n",
    "plt.rcParams['axes.linewidth'] = 1.25\n",
    "sns.scatterplot('mean ra','mean texture', data =df, hue='class', style='class',\n",
    "               alpha=0.9, edgecolor='w', s=80)\n",
    "plt.grid(False)\n",
    "plt.legend(loc='upper left', bbox_to_anchor=(1,1))\n",
    "plt.show()"
   ]
  },
  {
   "cell_type": "code",
   "execution_count": 98,
   "metadata": {},
   "outputs": [],
   "source": [
    "# ตรวจดู Histrogram(การกระจายของข้อมูล) by displot\n",
    "\n",
    "plt.figure(figsize=(4.5, 3.2))\n",
    "sns.distplot(df['mean ra'][df['class']==0], label='0', color='b')\n",
    "sns.distplot(df['mean ra'][df['class']==1], label='1', color='r')\n",
    "plt.legend()\n",
    "plt.grid(False)\n",
    "plt.show()"
   ]
  },
  {
   "cell_type": "code",
   "execution_count": 99,
   "metadata": {},
   "outputs": [
    {
     "data": {
      "text/html": [
       "<div>\n",
       "<style scoped>\n",
       "    .dataframe tbody tr th:only-of-type {\n",
       "        vertical-align: middle;\n",
       "    }\n",
       "\n",
       "    .dataframe tbody tr th {\n",
       "        vertical-align: top;\n",
       "    }\n",
       "\n",
       "    .dataframe thead th {\n",
       "        text-align: right;\n",
       "    }\n",
       "</style>\n",
       "<table border=\"1\" class=\"dataframe\">\n",
       "  <thead>\n",
       "    <tr style=\"text-align: right;\">\n",
       "      <th></th>\n",
       "      <th>mean ra</th>\n",
       "      <th>mean texture</th>\n",
       "    </tr>\n",
       "  </thead>\n",
       "  <tbody>\n",
       "    <tr>\n",
       "      <th>0</th>\n",
       "      <td>18.99</td>\n",
       "      <td>10.38</td>\n",
       "    </tr>\n",
       "    <tr>\n",
       "      <th>1</th>\n",
       "      <td>21.57</td>\n",
       "      <td>17.77</td>\n",
       "    </tr>\n",
       "    <tr>\n",
       "      <th>2</th>\n",
       "      <td>20.69</td>\n",
       "      <td>21.25</td>\n",
       "    </tr>\n",
       "  </tbody>\n",
       "</table>\n",
       "</div>"
      ],
      "text/plain": [
       "   mean ra  mean texture\n",
       "0    18.99         10.38\n",
       "1    21.57         17.77\n",
       "2    20.69         21.25"
      ]
     },
     "execution_count": 99,
     "metadata": {},
     "output_type": "execute_result"
    }
   ],
   "source": [
    "# เตรียมข้อมูลเพื่อไป train model X(Feature = mean ra, mean texture) y(class)\n",
    "columns = ['mean ra','mean texture']\n",
    "X = df[columns]\n",
    "y = df['class']\n",
    "X.shape , y.shape , y.unique() # ดู จำนวน X y และ ข้อมูล y มีรูปแบบใดบ้าง\n",
    "X[:3]"
   ]
  },
  {
   "cell_type": "code",
   "execution_count": 100,
   "metadata": {},
   "outputs": [],
   "source": [
    "#Train Test\n",
    "# แบ่งข้อมูล -> สร้าง model LogisticRegression -> Test\n",
    "#1 split data\n",
    "from sklearn.model_selection import train_test_split\n",
    "X_train, X_test, y_train, y_test = train_test_split(X, y, test_size =0.3, random_state=10)"
   ]
  },
  {
   "cell_type": "code",
   "execution_count": 101,
   "metadata": {},
   "outputs": [
    {
     "data": {
      "text/plain": [
       "LogisticRegression(C=1.0, class_weight=None, dual=False, fit_intercept=True,\n",
       "                   intercept_scaling=1, l1_ratio=None, max_iter=100,\n",
       "                   multi_class='auto', n_jobs=None, penalty='l2',\n",
       "                   random_state=None, solver='lbfgs', tol=0.0001, verbose=0,\n",
       "                   warm_start=False)"
      ]
     },
     "execution_count": 101,
     "metadata": {},
     "output_type": "execute_result"
    }
   ],
   "source": [
    "#2 model building\n",
    "from sklearn.linear_model import LogisticRegression\n",
    "\n",
    "model = LogisticRegression(solver='lbfgs')\n",
    "model.fit(X_train, y_train)"
   ]
  },
  {
   "cell_type": "code",
   "execution_count": 116,
   "metadata": {},
   "outputs": [
    {
     "name": "stdout",
     "output_type": "stream",
     "text": [
      "Score 0.911\n",
      "              precision    recall  f1-score   support\n",
      "\n",
      "          No       0.94      0.81      0.87        63\n",
      "         Yes       0.90      0.97      0.93       106\n",
      "\n",
      "    accuracy                           0.91       169\n",
      "   macro avg       0.92      0.89      0.90       169\n",
      "weighted avg       0.91      0.91      0.91       169\n",
      "\n",
      "[[ 51  12]\n",
      " [  3 103]]\n",
      "cross val score [0.84 0.86 0.89 0.86 0.88 0.88 0.95 0.93 0.93 0.86]\n",
      "Average(%) = 88.64\n"
     ]
    }
   ],
   "source": [
    "#3 การประเมิณ model\n",
    "from sklearn.metrics import classification_report, confusion_matrix\n",
    "\n",
    "#Accuracy\n",
    "print(\"Score {:.3f}\".format(model.score(X_test, y_test)))\n",
    "\n",
    "#Precision\n",
    "y_pred = model.predict(X_test)\n",
    "print(classification_report(y_test, y_pred, target_names=['No','Yes']))\n",
    "cm = confusion_matrix(y_test, y_pred)\n",
    "print(cm)\n",
    "# ใช้งาน scikitplot ทำ HeatMap  Condusion matrix\n",
    "import scikitplot as skplot\n",
    "sns.set(rc={'figure.figsize':(2.2,2)})\n",
    "skplot.metrics.plot_confusion_matrix(y_test, y_pred)\n",
    "plt.show()\n",
    "\n",
    "#ทำ Cross validation (k-fold k=10)\n",
    "from sklearn.model_selection import cross_val_score\n",
    "model = LogisticRegression(solver='lbfgs')\n",
    "cvs = cross_val_score(model, X, y, cv=10)\n",
    "print('cross val score {}'.format(cvs.round(2)))\n",
    "print('Average(%) = {:.2f}'.format(cvs.mean()*100))"
   ]
  },
  {
   "cell_type": "code",
   "execution_count": 103,
   "metadata": {},
   "outputs": [
    {
     "data": {
      "text/plain": [
       "0.5022164276401564"
      ]
     },
     "execution_count": 103,
     "metadata": {},
     "output_type": "execute_result"
    }
   ],
   "source": [
    "#ทำ ROC curve\n",
    "#ต้องใช้ model.predict_proba()\n",
    "# ถ้าใช้ model decision tree ต้องกำหนด max_depth ด้วย เนื่องจาก ความน่าจะเป็นอาจออกมาแค่ 0 , 1 \n",
    "model.fit(X_train, y_train) # Train อีกครั้ง\n",
    "\n",
    "y_pred_prob = model.predict_proba(X_test) # Predict ด้วย  .predict_proba\n",
    "fpr, tpr, thresholds = metrics.roc_curve(y_test, y_pred_prob[:,1]) # ค่าที่ใช้ พล็อต ROC\n",
    "y_pred_prob[:10].round(3)\n",
    "'''นำค่าy(จริง) กับ y_pred_prob เก็บใส่ DataFrame'''\n",
    "df_result = pd.DataFrame(y_test)\n",
    "df_result['y_pred'] = y_pred\n",
    "df_result['y_pred_prob0'] = y_pred_prob[:,0] # ความน่าจะเป็น ของผลทำนาย Negative\n",
    "df_result['y_pred_pred1'] = y_pred_prob[:,1] # ความน่าจะเป็น ของผลทำนาย Positive\n",
    "df_result.head().round(3)\n",
    "#พล็อต ROC curve\n",
    "\n",
    "from sklearn.metrics import roc_curve, auc\n",
    "#%matplotlib\n",
    "ll = [0,1] #Lower Left\n",
    "ur = [0,1] #Upper Right\n",
    "\n",
    "plt.figure(figsize=(4,4))\n",
    "y_pred_prob = model.predict_proba(X_test)\n",
    "fpr, tpr, thresholds = roc_curve(y_test, y_pred_prob[:,1])\n",
    "plt.plot(fpr,tpr)\n",
    "plt.plot(ll,ur,'--r') # --r = color red ลาก -- จาก ll -> ur\n",
    "plt.title('ROC Curve')\n",
    "plt.xlabel('False Positive Rate (FPR)')\n",
    "plt.ylabel('True Positive Rate (TPR)')\n",
    "plt.grid(False)\n",
    "plt.show()\n",
    "\n",
    "auc = auc(fpr,tpr)\n",
    "auc"
   ]
  },
  {
   "cell_type": "code",
   "execution_count": 117,
   "metadata": {},
   "outputs": [],
   "source": [
    "#Workshop 6: กำหนดค่า Threshpld สำหรับ Model\n",
    "df['mean ra'] = df['mean radius']"
   ]
  },
  {
   "cell_type": "code",
   "execution_count": 118,
   "metadata": {},
   "outputs": [],
   "source": [
    "plt.figure(figsize=(4.7, 3.2))\n",
    "sns.scatterplot('mean ra','mean texture', data=df, hue='class', style='class',\n",
    "               alpha=0.9, edgecolor='w', s=80)\n",
    "plt.legend(loc='upper left', bbox_to_anchor=(1,1))\n",
    "plt.show()"
   ]
  },
  {
   "cell_type": "code",
   "execution_count": 119,
   "metadata": {},
   "outputs": [
    {
     "data": {
      "text/plain": [
       "((563, 2), (563,), array([0, 1]))"
      ]
     },
     "execution_count": 119,
     "metadata": {},
     "output_type": "execute_result"
    }
   ],
   "source": [
    "columns = ['mean ra','mean texture']\n",
    "X = df[columns]\n",
    "y = df['class']\n",
    "X.shape, y.shape, y.unique()"
   ]
  },
  {
   "cell_type": "code",
   "execution_count": 120,
   "metadata": {},
   "outputs": [],
   "source": [
    "from sklearn.model_selection import train_test_split\n",
    "X_train, X_test, y_train, y_test = train_test_split(X, y, test_size=0.3, random_state=10)"
   ]
  },
  {
   "cell_type": "code",
   "execution_count": 121,
   "metadata": {},
   "outputs": [
    {
     "name": "stdout",
     "output_type": "stream",
     "text": [
      "              precision    recall  f1-score   support\n",
      "\n",
      "          No       1.00      0.76      0.86        63\n",
      "         Yes       0.88      1.00      0.93       106\n",
      "\n",
      "    accuracy                           0.91       169\n",
      "   macro avg       0.94      0.88      0.90       169\n",
      "weighted avg       0.92      0.91      0.91       169\n",
      "\n",
      "[[ 48  15]\n",
      " [  0 106]]\n"
     ]
    }
   ],
   "source": [
    "from sklearn.linear_model import LogisticRegression\n",
    "model = LogisticRegression(solver='lbfgs')\n",
    "model.fit(X_train, y_train)\n",
    "\n",
    "# y_pred = model(X_train, y_train) # default threshold = .5 50-50 (ค่าอยู่ได้0-1)\n",
    "#กำหนด threshold\n",
    "threshold = .34\n",
    "y_pred_prob = model.predict_proba(X_test)[:,1]\n",
    "y_pred = y_pred_prob > threshold\n",
    "print(classification_report(y_test, y_pred, target_names=['No','Yes']))\n",
    "cm = confusion_matrix(y_test, y_pred)\n",
    "print(cm)\n",
    "# ใช้งาน scikitplot ทำ HeatMap  Condusion matrix\n",
    "import scikitplot as skplot\n",
    "sns.set(rc={'figure.figsize':(2.2,2)})\n",
    "skplot.metrics.plot_confusion_matrix(y_test, y_pred)\n",
    "plt.show()\n"
   ]
  },
  {
   "cell_type": "code",
   "execution_count": 123,
   "metadata": {},
   "outputs": [
    {
     "name": "stdout",
     "output_type": "stream",
     "text": [
      "              precision    recall  f1-score   support\n",
      "\n",
      "          No       0.94      0.81      0.87        63\n",
      "         Yes       0.90      0.97      0.93       106\n",
      "\n",
      "    accuracy                           0.91       169\n",
      "   macro avg       0.92      0.89      0.90       169\n",
      "weighted avg       0.91      0.91      0.91       169\n",
      "\n",
      "[[ 51  12]\n",
      " [  3 103]]\n"
     ]
    }
   ],
   "source": [
    "threshold = .5\n",
    "y_pred_prob = model.predict_proba(X_test)[:,1]\n",
    "y_pred = y_pred_prob > threshold\n",
    "print(classification_report(y_test, y_pred, target_names=['No','Yes']))\n",
    "cm = confusion_matrix(y_test, y_pred)\n",
    "print(cm)\n",
    "# ใช้งาน scikitplot ทำ HeatMap  Condusion matrix\n",
    "import scikitplot as skplot\n",
    "sns.set(rc={'figure.figsize':(2.2,2)})\n",
    "skplot.metrics.plot_confusion_matrix(y_test, y_pred)\n",
    "plt.show()"
   ]
  },
  {
   "cell_type": "code",
   "execution_count": 124,
   "metadata": {},
   "outputs": [
    {
     "name": "stdout",
     "output_type": "stream",
     "text": [
      "              precision    recall  f1-score   support\n",
      "\n",
      "          No       0.48      1.00      0.65        63\n",
      "         Yes       1.00      0.35      0.52       106\n",
      "\n",
      "    accuracy                           0.59       169\n",
      "   macro avg       0.74      0.67      0.58       169\n",
      "weighted avg       0.81      0.59      0.57       169\n",
      "\n",
      "[[63  0]\n",
      " [69 37]]\n"
     ]
    }
   ],
   "source": [
    "threshold = .98 # มีความแข็งมากส่งผลให้การคัดการเป็นมะเร็งต้องมีความแม่นยำ 100%\n",
    "y_pred_prob = model.predict_proba(X_test)[:,1]\n",
    "y_pred = y_pred_prob > threshold\n",
    "print(classification_report(y_test, y_pred, target_names=['No','Yes']))\n",
    "cm = confusion_matrix(y_test, y_pred)\n",
    "print(cm)\n",
    "# ใช้งาน scikitplot ทำ HeatMap  Condusion matrix\n",
    "import scikitplot as skplot\n",
    "sns.set(rc={'figure.figsize':(2.2,2)})\n",
    "skplot.metrics.plot_confusion_matrix(y_test, y_pred)\n",
    "plt.show()"
   ]
  },
  {
   "cell_type": "markdown",
   "metadata": {},
   "source": [
    "ค่า Threshold ต่ำ = ความไวสูง (TPR สูง) ตรวจจับให้ผล Positive ง่ายขึ้น (High sensitivity)\n",
    "แต่ทำให้ความผิดพลาดได้เพิ่มขึ้น(FPR สูงตาม) "
   ]
  }
 ],
 "metadata": {
  "kernelspec": {
   "display_name": "Python 3",
   "language": "python",
   "name": "python3"
  },
  "language_info": {
   "codemirror_mode": {
    "name": "ipython",
    "version": 3
   },
   "file_extension": ".py",
   "mimetype": "text/x-python",
   "name": "python",
   "nbconvert_exporter": "python",
   "pygments_lexer": "ipython3",
   "version": "3.7.6"
  }
 },
 "nbformat": 4,
 "nbformat_minor": 4
}
