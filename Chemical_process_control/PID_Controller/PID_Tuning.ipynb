{
 "cells": [
  {
   "cell_type": "markdown",
   "metadata": {},
   "source": [
    "# PID Controller Tuning"
   ]
  },
  {
   "cell_type": "markdown",
   "metadata": {},
   "source": [
    "## 1.Empirical Method"
   ]
  },
  {
   "cell_type": "code",
   "execution_count": 3,
   "metadata": {},
   "outputs": [
    {
     "data": {
      "text/plain": [
       "[<matplotlib.lines.Line2D at 0x208610ba288>]"
      ]
     },
     "execution_count": 3,
     "metadata": {},
     "output_type": "execute_result"
    },
    {
     "data": {
      "image/png": "[encoded data removed]",
      "text/plain": [
       "<Figure size 432x288 with 1 Axes>"
      ]
     },
     "metadata": {
      "needs_background": "light"
     },
     "output_type": "display_data"
    }
   ],
   "source": [
    "%matplotlib inline\n",
    "import matplotlib.pyplot as plt\n",
    "import numpy as np\n",
    "\n",
    "def fopdt(t, K, tau, theta):\n",
    "    return K*(1-np.exp((-(t-theta)/tau))*(t>theta))\n",
    "\n",
    "t = np.linspace(0,600,400)\n",
    "\n",
    "y= fopdt(t,2,.1,10)\n",
    "plt.plot(t,y)"
   ]
  },
  {
   "cell_type": "markdown",
   "metadata": {},
   "source": [
    "### PID reference implementation"
   ]
  },
  {
   "cell_type": "code",
   "execution_count": 5,
   "metadata": {},
   "outputs": [],
   "source": [
    "def PID(Kp, Ki, Kd, MV_bar=0, beta=1, gamma=0):\n",
    "    #initialize stored data\n",
    "    t_prev = -100\n",
    "    P = 0\n",
    "    I = 0\n",
    "    D = 0\n",
    "    S = 0 \n",
    "    N = 5\n",
    "    \n",
    "    #initial control\n",
    "    MV = MV_bar\n",
    "    \n",
    "    while True:\n",
    "        # yield MV, wait for new t, SP, PV, TR\n",
    "        data = yield MV\n",
    "        \n",
    "        # see if a tracking data is being supplied\n",
    "        if len(data) < 4:\n",
    "            t, SP, PV = data\n",
    "        else:\n",
    "            t, SP, PV, TR = data\n",
    "            I = TR - MV_bar - P - D\n",
    "        # PID calculations\n",
    "        P = Kp*(beta*SP-PV)\n",
    "        I +=  Ki*(SP-PV)*(t-t_prev)\n",
    "        MV = MV_bar + P + I + D\n",
    "        \n",
    "        # Constrain MV to range 0 to 100 for antu-reset windup\n",
    "        MV = 0 if MV < 0 else 100 if MV > 100 else MV\n",
    "        I = MV - MV_bar - P - D\n",
    "        \n",
    "        # update stored datat for nest iteration\n",
    "        S += D*(t-t_prev) \n",
    "        t_prev = t"
   ]
  },
  {
   "cell_type": "code",
   "execution_count": null,
   "metadata": {},
   "outputs": [],
   "source": []
  }
 ],
 "metadata": {
  "kernelspec": {
   "display_name": "Python 3",
   "language": "python",
   "name": "python3"
  },
  "language_info": {
   "codemirror_mode": {
    "name": "ipython",
    "version": 3
   },
   "file_extension": ".py",
   "mimetype": "text/x-python",
   "name": "python",
   "nbconvert_exporter": "python",
   "pygments_lexer": "ipython3",
   "version": "3.7.6"
  }
 },
 "nbformat": 4,
 "nbformat_minor": 4
}
