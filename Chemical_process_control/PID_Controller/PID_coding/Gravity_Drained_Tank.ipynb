{
 "cells": [
  {
   "cell_type": "markdown",
   "metadata": {},
   "source": [
    "# Gravity Drained Tank\n",
    "# Step-by-Step Approach to Nonlinear Simulation"
   ]
  },
  {
   "cell_type": "markdown",
   "metadata": {},
   "source": [
    "Step 1. Initialize Jupyter and Python"
   ]
  },
  {
   "cell_type": "code",
   "execution_count": 1,
   "metadata": {},
   "outputs": [],
   "source": [
    "import matplotlib.pyplot as plt\n",
    "import numpy as np\n",
    "from scipy.integrate import odeint"
   ]
  },
  {
   "cell_type": "markdown",
   "metadata": {},
   "source": [
    " Step 2. Define parameters"
   ]
  },
  {
   "cell_type": "code",
   "execution_count": 2,
   "metadata": {},
   "outputs": [],
   "source": [
    "Cv  = 0.1     # Outlet valve constant [cubic meters/min/meter^1/2]\n",
    "A   = 10.0     # Tank area [meter^2]"
   ]
  },
  {
   "cell_type": "markdown",
   "metadata": {},
   "source": [
    "Step 3. Write Functions for the RHS of the Differential Equations"
   ]
  },
  {
   "cell_type": "code",
   "execution_count": 3,
   "metadata": {},
   "outputs": [],
   "source": [
    "# inlet flow rate in cubic meters/min\n",
    "def qin(t):\n",
    "    return 0.15\n",
    "\n",
    "def deriv(h,t):\n",
    "    return qin(t)/A - Cv*np.sqrt(h)/A  # dh/dt = qin(t)/A - Cv*np.sqrt(h)/A"
   ]
  },
  {
   "cell_type": "markdown",
   "metadata": {},
   "source": [
    "Step 4. Choose an Initial Condition, a Time Grid, and Integrate the Differential Equation"
   ]
  },
  {
   "cell_type": "code",
   "execution_count": 4,
   "metadata": {},
   "outputs": [],
   "source": [
    "IC = [0.0] # initial condition\n",
    "t = np.linspace(0,2000,1001)\n",
    "h = odeint(deriv,IC,t) # solve derivative equation"
   ]
  },
  {
   "cell_type": "markdown",
   "metadata": {},
   "source": [
    "Step 5. Visualize and Analyze Results"
   ]
  },
  {
   "cell_type": "code",
   "execution_count": 5,
   "metadata": {},
   "outputs": [
    {
     "data": {
      "image/png": "[encoded data removed]",
      "text/plain": [
       "<Figure size 432x288 with 1 Axes>"
      ]
     },
     "metadata": {
      "needs_background": "light"
     },
     "output_type": "display_data"
    }
   ],
   "source": [
    "plt.plot(t,h)\n",
    "\n",
    "plt.xlabel('minutes')\n",
    "plt.ylabel('meters')\n",
    "plt.title('Gravity-Drained Tank')\n",
    "plt.legend(['Liquid Level']);"
   ]
  },
  {
   "cell_type": "code",
   "execution_count": 7,
   "metadata": {},
   "outputs": [],
   "source": [
    "import matplotlib.pyplot as plt\n",
    "import numpy as np\n",
    "from scipy.integrate import odeint\n",
    "\n",
    "class DrainTank:\n",
    "    '''The following functions interact with the main file'''\n",
    "    def __init__(self, area, Cv, IC, t):\n",
    "        self.area = area\n",
    "        self.Cv   = Cv\n",
    "        self.t    = t\n",
    "\n",
    "        return None\n",
    "\t\n",
    "        \n",
    "\t\t\n",
    "    def qin(self,t):\n",
    "        return 0.15\n",
    "\t\n",
    "    def solve(self,h,t):\n",
    "        dh = qin(t)/self.A - self.Cv*np.sqrt(h)/self.A\n",
    "        h = odeint(deriv,IC,t)\n",
    "        self.h = h\n",
    "        return h"
   ]
  },
  {
   "cell_type": "code",
   "execution_count": null,
   "metadata": {},
   "outputs": [],
   "source": []
  }
 ],
 "metadata": {
  "kernelspec": {
   "display_name": "Python 3",
   "language": "python",
   "name": "python3"
  },
  "language_info": {
   "codemirror_mode": {
    "name": "ipython",
    "version": 3
   },
   "file_extension": ".py",
   "mimetype": "text/x-python",
   "name": "python",
   "nbconvert_exporter": "python",
   "pygments_lexer": "ipython3",
   "version": "3.7.6"
  }
 },
 "nbformat": 4,
 "nbformat_minor": 4
}
