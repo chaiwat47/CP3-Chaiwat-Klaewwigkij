{
 "cells": [
  {
   "cell_type": "markdown",
   "metadata": {},
   "source": [
    "# PID Control with Setpoint Weighting"
   ]
  },
  {
   "cell_type": "markdown",
   "metadata": {},
   "source": [
    "## Setpoint Weighting"
   ]
  },
  {
   "cell_type": "markdown",
   "metadata": {},
   "source": [
    "\\begin{align}\n",
    "MV & = \\overline{MV} + K_P e_P + K_I\\int_0^t e_I\\ dt' + K_D\\frac{de_D}{dt}\n",
    "\\end{align}\n",
    "\n",
    "where the error terms are given by\n",
    "\n",
    "\\begin{align*}\n",
    "e_P(t) & = \\beta\\ SP - PV \\\\\n",
    "e_I(t) & = SP - PV \\\\\n",
    "e_D(t) & = \\gamma\\ SP - PV\n",
    "\\end{align*}\n"
   ]
  },
  {
   "cell_type": "markdown",
   "metadata": {},
   "source": [
    "## Define function for impementation of setpoint weighting"
   ]
  },
  {
   "cell_type": "code",
   "execution_count": 1,
   "metadata": {},
   "outputs": [],
   "source": [
    "def PID(Kp, Ki, Kd, MV_bar=0, beta=1, gamma=0):\n",
    "    #initial stored\n",
    "    eD_prev = 0\n",
    "    t_prev = -100\n",
    "    I = 0\n",
    "    \n",
    "    #initial control\n",
    "    MV = MV_bar\n",
    "    \n",
    "    while True:\n",
    "        # yield MV, wait for new t, SP, PV\n",
    "        t, PV, SP = yield MV\n",
    "        \n",
    "        # PID calculations\n",
    "        P = Kp*(beta*SP-PV)\n",
    "        I = I + Ki*(SP-PV)*(t-t_prev)\n",
    "        ed = gamma*SP-PV\n",
    "        D = Kd*(eD-eD_prev)/(t-t_prev)\n",
    "        MV = MV_bar + P + I + D\n",
    "        \n",
    "        #update stored data for next iteration\n",
    "        eD_prev = eD\n",
    "        t_prev = t"
   ]
  },
  {
   "cell_type": "code",
   "execution_count": 2,
   "metadata": {},
   "outputs": [],
   "source": [
    "%matplotlib inline\n",
    "from tclab import clock, setup, Historian, Plotter"
   ]
  },
  {
   "cell_type": "code",
   "execution_count": null,
   "metadata": {},
   "outputs": [],
   "source": [
    "TCLab = setup(connected=False, speedup=10)\n",
    "\n",
    "controller = PID(2, 0.1, 2, beta=0) # create pid control\n",
    "controller.send(None) # initialize\n",
    "\n",
    "t_final = 800\n",
    "with TCLab() as lab:\n",
    "    h = Historian([('SP', lambda:SP),('T1', lambda:lab.T1),('MV',lambda:MV),('Q1',lab.Q1)])\n",
    "    p = Plotter(h, t_final)\n",
    "    T1 = lab.T1\n",
    "    for t in clock(t_final,2):\n",
    "        SP = T1 if t<100 else 50 # get setpoint\n",
    "        PV = lab.T1\n",
    "        MV = controller.send([t,PV,SP]) # compute manipulated varriable\n",
    "        lab.U1 = MV # apply\n",
    "        p.update(t) # update information display"
   ]
  }
 ],
 "metadata": {
  "kernelspec": {
   "display_name": "Python 3",
   "language": "python",
   "name": "python3"
  },
  "language_info": {
   "codemirror_mode": {
    "name": "ipython",
    "version": 3
   },
   "file_extension": ".py",
   "mimetype": "text/x-python",
   "name": "python",
   "nbconvert_exporter": "python",
   "pygments_lexer": "ipython3",
   "version": "3.7.6"
  }
 },
 "nbformat": 4,
 "nbformat_minor": 4
}
