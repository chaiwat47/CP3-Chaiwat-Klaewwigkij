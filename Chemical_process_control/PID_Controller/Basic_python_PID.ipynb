{
 "cells": [
  {
   "cell_type": "markdown",
   "metadata": {},
   "source": [
    "# Implementing PID Controllers with Python Yield Statement"
   ]
  },
  {
   "cell_type": "markdown",
   "metadata": {},
   "source": [
    "### 1. Python Yield Statement"
   ]
  },
  {
   "cell_type": "code",
   "execution_count": 1,
   "metadata": {},
   "outputs": [],
   "source": [
    "# function for generator \n",
    "def numbers_gen():\n",
    "    yield 0\n",
    "    yield 1\n",
    "    yield 2.7182818\n",
    "    yield 3.1415926\n",
    "\n",
    "#generators to variable\n",
    "numbers = numbers_gen()"
   ]
  },
  {
   "cell_type": "code",
   "execution_count": 2,
   "metadata": {},
   "outputs": [
    {
     "name": "stdout",
     "output_type": "stream",
     "text": [
      "0\n",
      "1\n",
      "2.7182818\n",
      "3.1415926\n"
     ]
    }
   ],
   "source": [
    "# test\n",
    "print(next(numbers))\n",
    "print(next(numbers))\n",
    "print(next(numbers))\n",
    "print(next(numbers))"
   ]
  },
  {
   "cell_type": "code",
   "execution_count": 4,
   "metadata": {},
   "outputs": [],
   "source": [
    "def texter_gen():\n",
    "    a = yield \"Stated\"\n",
    "    b = yield a\n",
    "    yield b"
   ]
  },
  {
   "cell_type": "code",
   "execution_count": 5,
   "metadata": {},
   "outputs": [
    {
     "name": "stdout",
     "output_type": "stream",
     "text": [
      "Stated\n",
      "Hi\n",
      "Go !!!\n"
     ]
    }
   ],
   "source": [
    "texter =texter_gen()\n",
    "print(texter.send(None))\n",
    "print(texter.send(\"Hi\"))\n",
    "print(texter.send(\"Go !!!\"))"
   ]
  },
  {
   "cell_type": "code",
   "execution_count": 9,
   "metadata": {},
   "outputs": [
    {
     "name": "stdout",
     "output_type": "stream",
     "text": [
      "16\n",
      "144\n",
      "1225\n"
     ]
    }
   ],
   "source": [
    "# A function that will create generators\n",
    "def our_numb():\n",
    "    n = 0\n",
    "    while True:\n",
    "        n = yield n*n\n",
    "# create a generator\n",
    "numb = our_numb()\n",
    "# Start the generator\n",
    "numb.send(None) # clear 0\n",
    "\n",
    "# send values to the generator and print the results\n",
    "print(numb.send(4))\n",
    "print(numb.send(12))\n",
    "print(numb.send(35))"
   ]
  },
  {
   "cell_type": "code",
   "execution_count": 10,
   "metadata": {},
   "outputs": [],
   "source": [
    "# A funtion creates propotional controllers with specified gain and setpoint\n",
    "def proportional(Kp, SP):\n",
    "    MV = 0\n",
    "    while True:\n",
    "        PV = yield MV # if send(None) return 0 to function else PV to MV and MV return by yield\n",
    "        MV = Kp*(SP-PV)"
   ]
  },
  {
   "cell_type": "code",
   "execution_count": 11,
   "metadata": {},
   "outputs": [
    {
     "data": {
      "text/plain": [
       "0"
      ]
     },
     "execution_count": 11,
     "metadata": {},
     "output_type": "execute_result"
    }
   ],
   "source": [
    "controller1 = proportional(10, 40)\n",
    "controller1.send(None)\n",
    "\n",
    "controller2 = proportional(1, 40)\n",
    "controller2.send(None)"
   ]
  },
  {
   "cell_type": "code",
   "execution_count": 12,
   "metadata": {},
   "outputs": [
    {
     "name": "stdout",
     "output_type": "stream",
     "text": [
      "Controller 1: MV = 50\n",
      "Controller 2: MV = 5\n"
     ]
    }
   ],
   "source": [
    "#  PV value of 35\n",
    "PV = 35\n",
    "\n",
    "print(\"Controller 1: MV =\",controller1.send(PV))\n",
    "print(\"Controller 2: MV =\",controller2.send(PV))"
   ]
  },
  {
   "cell_type": "code",
   "execution_count": null,
   "metadata": {},
   "outputs": [],
   "source": []
  }
 ],
 "metadata": {
  "kernelspec": {
   "display_name": "Python 3",
   "language": "python",
   "name": "python3"
  },
  "language_info": {
   "codemirror_mode": {
    "name": "ipython",
    "version": 3
   },
   "file_extension": ".py",
   "mimetype": "text/x-python",
   "name": "python",
   "nbconvert_exporter": "python",
   "pygments_lexer": "ipython3",
   "version": "3.7.6"
  }
 },
 "nbformat": 4,
 "nbformat_minor": 4
}
