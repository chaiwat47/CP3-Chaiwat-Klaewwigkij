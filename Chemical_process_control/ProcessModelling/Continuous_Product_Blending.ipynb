{
 "cells": [
  {
   "cell_type": "markdown",
   "metadata": {},
   "source": [
    "# Continuous Product Blending"
   ]
  },
  {
   "cell_type": "markdown",
   "metadata": {},
   "source": [
    "### Step 1. Initialize Jupyter and Python"
   ]
  },
  {
   "cell_type": "code",
   "execution_count": 1,
   "metadata": {},
   "outputs": [],
   "source": [
    "%matplotlib inline\n",
    "import numpy as np\n",
    "from scipy.integrate import odeint\n",
    "import matplotlib.pyplot as plt"
   ]
  },
  {
   "cell_type": "markdown",
   "metadata": {},
   "source": [
    "### Step 2. Define parameters"
   ]
  },
  {
   "cell_type": "code",
   "execution_count": 4,
   "metadata": {},
   "outputs": [],
   "source": [
    "#parameters\n",
    "caf = 200 # g/liter\n",
    "Vmax = 15000 # liters\n",
    "Vmin = 8000 # liters\n",
    "\n",
    "#process setpoints\n",
    "ca_SP = 8 # g/liter\n",
    "rtime_SP = 96 # residence time in hours\n",
    "\n",
    "# norminal valuse of the disturbance variables\n",
    "qout_bar = 125 # liter/hr\n",
    "\n",
    "# qa : q active ingredient , qs : q suspension"
   ]
  },
  {
   "cell_type": "markdown",
   "metadata": {},
   "source": [
    "### Step 3. Computing Steady State"
   ]
  },
  {
   "cell_type": "code",
   "execution_count": 6,
   "metadata": {},
   "outputs": [
    {
     "name": "stdout",
     "output_type": "stream",
     "text": [
      "Steady-State\n",
      "V [liters] = 12000.00\n",
      "ca [g/liter] = 8.00\n",
      "qa [g/liter] = 5.00\n",
      "qs [g/luter] = 120.00\n"
     ]
    }
   ],
   "source": [
    "# nominal steady state at process setpoint\n",
    "V_bar = rtime_SP * qout_bar # (hr * liter/hr=liters)\n",
    "ca_bar = ca_SP # g/liter\n",
    "qa_bar = ca_SP * qout_bar/caf #  (g/liter*liter/hr*liter/g)\n",
    "qs_bar = qout_bar - qa_bar # g/liter\n",
    "\n",
    "# display reports\n",
    "print(\"Steady-State\")\n",
    "print(\"V [liters] = {:.2f}\".format(V_bar))\n",
    "print(\"ca [g/liter] = {:.2f}\".format(ca_bar))\n",
    "print(\"qa [g/liter] = {:.2f}\".format(qa_bar))\n",
    "print(\"qs [g/luter] = {:.2f}\".format(qs_bar))"
   ]
  },
  {
   "cell_type": "markdown",
   "metadata": {},
   "source": [
    "### Step 4. Process Model Equations"
   ]
  },
  {
   "cell_type": "code",
   "execution_count": 7,
   "metadata": {},
   "outputs": [],
   "source": [
    "# derivative equation\n",
    "def deriv(X, t):\n",
    "    V, ca = X\n",
    "    dV = qa + qs - qout\n",
    "    dca = qa/V*(caf - ca)/V - qs*ca/V\n",
    "    return [dV, dca]"
   ]
  },
  {
   "cell_type": "markdown",
   "metadata": {},
   "source": [
    "### Step 5. Numerical Solution of the Process Model"
   ]
  },
  {
   "cell_type": "code",
   "execution_count": 8,
   "metadata": {},
   "outputs": [],
   "source": [
    "# fix all degrees of freedom\n",
    "qout = qout_bar # outlet flow -- process disturbance variable\n",
    "qa = qa_bar # inlet flow of A -- process manipulated variable\n",
    "qs = qs_bar # inlet flow of suspension -- process manipulated variable"
   ]
  },
  {
   "cell_type": "code",
   "execution_count": 9,
   "metadata": {},
   "outputs": [],
   "source": [
    "# establish initial conditions\n",
    "t = 0\n",
    "V = V_bar\n",
    "ca = ca_bar"
   ]
  },
  {
   "cell_type": "code",
   "execution_count": 10,
   "metadata": {},
   "outputs": [
    {
     "data": {
      "text/plain": [
       "[[0, 12000, 8],\n",
       " [1, 12000.0, 7.920405213284602],\n",
       " [2, 12000.0, 7.841602412092424],\n",
       " [3, 12000.0, 7.763583715808203],\n",
       " [4, 12000.0, 7.686341322386],\n",
       " [5, 12000.0, 7.609867507440242],\n",
       " [6, 12000.0, 7.534154623460993],\n",
       " [7, 12000.0, 7.459195099034161],\n",
       " [8, 12000.0, 7.384981438085036],\n",
       " [9, 12000.0, 7.311506219127565]]"
      ]
     },
     "execution_count": 10,
     "metadata": {},
     "output_type": "execute_result"
    }
   ],
   "source": [
    "# time step, and variable to store simulation record (or history)\n",
    "dt = 1\n",
    "history = [[t, V, ca]]\n",
    "\n",
    "while t<500:\n",
    "    V, ca = odeint(deriv, [V, ca], [t, t+dt])[-1]\n",
    "    t += dt\n",
    "    history.append([t, V, ca])\n",
    "    \n",
    "history[0: 10] # report "
   ]
  },
  {
   "cell_type": "markdown",
   "metadata": {},
   "source": [
    "### Control Residence Time"
   ]
  },
  {
   "cell_type": "code",
   "execution_count": 18,
   "metadata": {},
   "outputs": [
    {
     "name": "stdout",
     "output_type": "stream",
     "text": [
      "30.0\n"
     ]
    }
   ],
   "source": []
  },
  {
   "cell_type": "code",
   "execution_count": null,
   "metadata": {},
   "outputs": [],
   "source": []
  }
 ],
 "metadata": {
  "kernelspec": {
   "display_name": "Python 3",
   "language": "python",
   "name": "python3"
  },
  "language_info": {
   "codemirror_mode": {
    "name": "ipython",
    "version": 3
   },
   "file_extension": ".py",
   "mimetype": "text/x-python",
   "name": "python",
   "nbconvert_exporter": "python",
   "pygments_lexer": "ipython3",
   "version": "3.7.6"
  }
 },
 "nbformat": 4,
 "nbformat_minor": 4
}
