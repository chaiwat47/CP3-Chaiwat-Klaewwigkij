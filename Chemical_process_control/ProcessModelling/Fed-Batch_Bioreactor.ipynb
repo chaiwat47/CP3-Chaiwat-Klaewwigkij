{
 "cells": [
  {
   "cell_type": "markdown",
   "metadata": {},
   "source": [
    "# Fed-Batch Bioreactor"
   ]
  },
  {
   "cell_type": "markdown",
   "metadata": {},
   "source": [
    "### Dilution Effect"
   ]
  },
  {
   "cell_type": "raw",
   "metadata": {},
   "source": [
    "# Rearranging and substituting into the mass balance gives\n",
    "dX/dt = (-F(t)/V)*X + Rg(X, S)\n",
    "dP/dt = (-F(t)/V)*P + Rg(X, S)\n",
    "dS/dt = F(t)/V*(Sf-S)-(1/Yx_s)*Rg*(X, S)\n",
    "dV/dt = F(t)"
   ]
  },
  {
   "cell_type": "markdown",
   "metadata": {},
   "source": [
    "### Python Implementation"
   ]
  },
  {
   "cell_type": "markdown",
   "metadata": {},
   "source": [
    "### 1.Import library"
   ]
  },
  {
   "cell_type": "code",
   "execution_count": 11,
   "metadata": {},
   "outputs": [],
   "source": [
    "%matplotlib inline\n",
    "import numpy as np\n",
    "import matplotlib.pyplot as plt\n",
    "from scipy.integrate import odeint"
   ]
  },
  {
   "cell_type": "markdown",
   "metadata": {},
   "source": [
    "### 2.Define parameter"
   ]
  },
  {
   "cell_type": "code",
   "execution_count": 12,
   "metadata": {},
   "outputs": [],
   "source": [
    "mumax = 0.20 # 1/hr\n",
    "Ks = 1.00 # g/liter\n",
    "Yxs = 0.5 # g/g\n",
    "Ypx = 0.2 # g/g\n",
    "Sf = 10.0 # g/liter"
   ]
  },
  {
   "cell_type": "markdown",
   "metadata": {},
   "source": [
    "### 3.Necessary func"
   ]
  },
  {
   "cell_type": "code",
   "execution_count": 16,
   "metadata": {},
   "outputs": [],
   "source": [
    "#inlet flowrate\n",
    "def F(t):\n",
    "    return 0.05\n",
    "#reaction rates\n",
    "def mu(S):\n",
    "    return mumax*S/(Ks+S)\n",
    "def Rg(X,S):\n",
    "    return mu(S)*X\n",
    "def Rp(X,S):\n",
    "    return Ypx*Rg(X, S)\n"
   ]
  },
  {
   "cell_type": "markdown",
   "metadata": {},
   "source": [
    "### 4.Differential equations"
   ]
  },
  {
   "cell_type": "code",
   "execution_count": 17,
   "metadata": {},
   "outputs": [],
   "source": [
    "def xdot(x, t):\n",
    "    X,P,S,V = x\n",
    "    dX = -F(t)*X/V+Rg(X,S)\n",
    "    dP = -F(t)*P/V+Rp(X,S)\n",
    "    dS =  F(t)*(Sf-S)/V-Rg(X,S)/Yxs\n",
    "    dV =  F(t)\n",
    "    return [dX, dP, dS, dV]"
   ]
  },
  {
   "cell_type": "markdown",
   "metadata": {},
   "source": [
    "### 5.Simulation"
   ]
  },
  {
   "cell_type": "code",
   "execution_count": 19,
   "metadata": {},
   "outputs": [
    {
     "data": {
      "image/png": "[encoded data removed]",
      "text/plain": [
       "<Figure size 432x288 with 1 Axes>"
      ]
     },
     "metadata": {
      "needs_background": "light"
     },
     "output_type": "display_data"
    }
   ],
   "source": [
    "IC = [0.05, 0.0, 10.0, 1.0] #\n",
    "\n",
    "t = np.linspace(0,50)\n",
    "sol = odeint(xdot, IC, t)\n",
    "X,P,S,V = sol.transpose()\n",
    "\n",
    "#plot graph\n",
    "plt.plot(t, X)\n",
    "plt.plot(t, P)\n",
    "plt.plot(t, S)\n",
    "plt.plot(t, V)\n",
    "\n",
    "plt.xlabel('Time [hr]')\n",
    "plt.ylabel('Concentration [g/liter]')\n",
    "plt.legend(['Cell Conc.',\n",
    "           'Product Conc.',\n",
    "           'Substrate Conc.',\n",
    "           'Volume [liter]'])\n",
    "plt.show()"
   ]
  },
  {
   "cell_type": "code",
   "execution_count": null,
   "metadata": {},
   "outputs": [],
   "source": []
  }
 ],
 "metadata": {
  "kernelspec": {
   "display_name": "Python 3",
   "language": "python",
   "name": "python3"
  },
  "language_info": {
   "codemirror_mode": {
    "name": "ipython",
    "version": 3
   },
   "file_extension": ".py",
   "mimetype": "text/x-python",
   "name": "python",
   "nbconvert_exporter": "python",
   "pygments_lexer": "ipython3",
   "version": "3.7.6"
  }
 },
 "nbformat": 4,
 "nbformat_minor": 4
}
