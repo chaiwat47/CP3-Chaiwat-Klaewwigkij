{
 "cells": [
  {
   "cell_type": "markdown",
   "metadata": {},
   "source": [
    "# Blending_Tank_Simulation"
   ]
  },
  {
   "cell_type": "markdown",
   "metadata": {},
   "source": [
    "### Step 1. Initialize Jupyter and Python"
   ]
  },
  {
   "cell_type": "code",
   "execution_count": 2,
   "metadata": {},
   "outputs": [],
   "source": [
    "%matplotlib inline\n",
    "import numpy as np\n",
    "import matplotlib.pyplot as plt\n",
    "from scipy.integrate import odeint"
   ]
  },
  {
   "cell_type": "markdown",
   "metadata": {},
   "source": [
    "### Step 2. Define parameter"
   ]
  },
  {
   "cell_type": "code",
   "execution_count": 3,
   "metadata": {},
   "outputs": [],
   "source": [
    "rho = 900.0 # density, kg/m**3\n",
    "w1 = 500.0 # stream 1, kg/min\n",
    "w2 = 200.0 # stream 2,kg/min\n",
    "w = 650.0 # set outflow equal to sum of inflows\n",
    "\n",
    "x1 = 0.4 # composition stream 1, mass fraction\n",
    "x2 = 0.75 # composition stream 1, mass fraction"
   ]
  },
  {
   "cell_type": "markdown",
   "metadata": {},
   "source": [
    "### Step 3. Write Functions for the RHS of the Differential Equations"
   ]
  },
  {
   "cell_type": "code",
   "execution_count": 7,
   "metadata": {},
   "outputs": [],
   "source": [
    "def func(y, t):\n",
    "    V, x = y\n",
    "    dVdt = (1/rho)*(w1 + w2 - w) \n",
    "    dxdt = (1/(rho*V))*(w1*(x1-x)+w2*(x2-x))\n",
    "    return [dVdt, dxdt]\n",
    "    \n",
    "    "
   ]
  },
  {
   "cell_type": "markdown",
   "metadata": {},
   "source": [
    "### Step 4. Set the initial Conditions, Time Grid, and Integrate"
   ]
  },
  {
   "cell_type": "code",
   "execution_count": 8,
   "metadata": {},
   "outputs": [],
   "source": [
    "V = 2.0 # initial volume, m**3\n",
    "x = 0.0 # initial composition, mass fraction\n",
    "\n",
    "t = np.linspace(0, 10.0)\n",
    "y = odeint(func, [V, x], t)"
   ]
  },
  {
   "cell_type": "markdown",
   "metadata": {},
   "source": [
    "### Step 5. Data Visualize the Solution"
   ]
  },
  {
   "cell_type": "code",
   "execution_count": 10,
   "metadata": {},
   "outputs": [
    {
     "data": {
      "image/png": "[encoded data removed]",
      "text/plain": [
       "<Figure size 432x288 with 1 Axes>"
      ]
     },
     "metadata": {
      "needs_background": "light"
     },
     "output_type": "display_data"
    }
   ],
   "source": [
    "plt.plot(t, y) # plot-y are y=[V, x] and plot-x is t(time)\n",
    "\n",
    "plt.xlabel('Time [min]') # label-x\n",
    "plt.ylabel('Volume(m^3), Composition(fraction)') # label-y\n",
    "plt.legend(['Volume', 'Composition'])\n",
    "plt.ylim(0,3) # limit y-axis\n",
    "plt.grid() # grid on\n",
    "#plt.savefig('BlendTankStartUp.png') # to save report"
   ]
  },
  {
   "cell_type": "markdown",
   "metadata": {},
   "source": [
    "### Steady State Analysis"
   ]
  },
  {
   "cell_type": "code",
   "execution_count": 11,
   "metadata": {},
   "outputs": [
    {
     "name": "stdout",
     "output_type": "stream",
     "text": [
      "Steady State Composition =0.50\n"
     ]
    }
   ],
   "source": [
    "#define\n",
    "w1 = 500.0 # stream 1, kg/min\n",
    "w2 = 200.0 # stream 2, kg/min\n",
    "\n",
    "x1 = 0.4 # composition stream 1, mass fraction\n",
    "x2 = 0.75 # composition stream 2, mass fraction\n",
    "\n",
    "x_bar = (w1*x1 + w2*x2)/(w1 + w2)\n",
    "print('Steady State Composition ={:.2f}'.format(x_bar))"
   ]
  },
  {
   "cell_type": "code",
   "execution_count": null,
   "metadata": {},
   "outputs": [],
   "source": []
  }
 ],
 "metadata": {
  "kernelspec": {
   "display_name": "Python 3",
   "language": "python",
   "name": "python3"
  },
  "language_info": {
   "codemirror_mode": {
    "name": "ipython",
    "version": 3
   },
   "file_extension": ".py",
   "mimetype": "text/x-python",
   "name": "python",
   "nbconvert_exporter": "python",
   "pygments_lexer": "ipython3",
   "version": "3.7.6"
  }
 },
 "nbformat": 4,
 "nbformat_minor": 4
}
