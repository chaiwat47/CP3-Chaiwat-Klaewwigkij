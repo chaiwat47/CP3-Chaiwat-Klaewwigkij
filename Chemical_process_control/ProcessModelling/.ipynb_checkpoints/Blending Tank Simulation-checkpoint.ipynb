{
 "cells": [
  {
   "cell_type": "markdown",
   "metadata": {},
   "source": [
    "# Blending Tank Simulation\n",
    "Basic Simulation of the Blending Tank"
   ]
  },
  {
   "cell_type": "raw",
   "metadata": {},
   "source": [
    "dV/dt = (1/ρ)*(w1+w2−w)"
   ]
  },
  {
   "cell_type": "raw",
   "metadata": {},
   "source": [
    "dx/dt = (1/(ρ*V))*(w1*(x1−x)+w2*(x2−x))"
   ]
  },
  {
   "cell_type": "markdown",
   "metadata": {},
   "source": [
    "Step 1. Initialize Jupyter and Python"
   ]
  },
  {
   "cell_type": "code",
   "execution_count": 2,
   "metadata": {},
   "outputs": [],
   "source": [
    "%matplotlib inline\n",
    "import numpy as np\n",
    "import matplotlib.pyplot as plt\n",
    "from scipy.integrate import odeint"
   ]
  },
  {
   "cell_type": "markdown",
   "metadata": {},
   "source": [
    "Step 2. Establish Parameter Values"
   ]
  },
  {
   "cell_type": "code",
   "execution_count": 3,
   "metadata": {},
   "outputs": [],
   "source": [
    "rho = 900.0  # density, kg/m**3\n",
    "\n",
    "w1 = 500.0   # stream 1, kg/min\n",
    "w2 = 200.0   # stream 2, kg/min\n",
    "w =  650.0   # set outflow equal to sum of inflows\n",
    "\n",
    "x1 = 0.4     # composition stream 1, mass fraction\n",
    "x2 = 0.75    # composition stream 2, mass fraction"
   ]
  },
  {
   "cell_type": "markdown",
   "metadata": {},
   "source": [
    "Step 3. Write a function to compute the RHS's of the Differential Equations"
   ]
  },
  {
   "cell_type": "code",
   "execution_count": 4,
   "metadata": {},
   "outputs": [],
   "source": [
    "def func(y,t):\n",
    "    V,x = y\n",
    "    dVdt = (1/rho)*(w1 + w2 - w) # *****\n",
    "    dxdt = (1/(rho*V))*(w1*(x1-x)+w2*(x2-x)) # *****\n",
    "    return [dVdt, dxdt]"
   ]
  },
  {
   "cell_type": "markdown",
   "metadata": {},
   "source": [
    "Step 4. Set the Initial Conditions, Time Grid, and Integrate"
   ]
  },
  {
   "cell_type": "code",
   "execution_count": 6,
   "metadata": {},
   "outputs": [],
   "source": [
    "V = 2.0      # initial volume, cubic meters\n",
    "x = 0.0      # initial composition, mass fraction\n",
    "\n",
    "t = np.linspace(0,10.0)\n",
    "y = odeint(func,[V,x],t)"
   ]
  },
  {
   "cell_type": "markdown",
   "metadata": {},
   "source": [
    "Step 5. Visualize the Solution"
   ]
  },
  {
   "cell_type": "code",
   "execution_count": 7,
   "metadata": {},
   "outputs": [
    {
     "data": {
      "image/png": "[encoded data removed]",
      "text/plain": [
       "<Figure size 432x288 with 1 Axes>"
      ]
     },
     "metadata": {
      "needs_background": "light"
     },
     "output_type": "display_data"
    }
   ],
   "source": [
    "plt.plot(t,y)\n",
    "plt.xlabel('Time [min]')\n",
    "plt.ylabel('Volume, Composition')\n",
    "plt.legend(['Volume','Composition'])\n",
    "plt.ylim(0,3)\n",
    "plt.grid()\n",
    "#plt.savefig('BlendingTankStartUp.png')"
   ]
  },
  {
   "cell_type": "markdown",
   "metadata": {},
   "source": [
    "# Steady State Analysis"
   ]
  },
  {
   "cell_type": "markdown",
   "metadata": {},
   "source": [
    "The blending tank is a system with two state variables (volume and composition). Suppose a mechanism is put in place to force the inflow to equal the outflow, that is"
   ]
  },
  {
   "cell_type": "markdown",
   "metadata": {},
   "source": [
    "                                  w = w1 + w2"
   ]
  },
  {
   "cell_type": "markdown",
   "metadata": {},
   "source": [
    "The mechanism could involve the installation of an overflow weir, level controller, or some other device to force a balance between the outflow and total inflows. In this case,"
   ]
  },
  {
   "cell_type": "markdown",
   "metadata": {},
   "source": [
    "                                  dV/dt = 0"
   ]
  },
  {
   "cell_type": "markdown",
   "metadata": {},
   "source": [
    "which means volume is at steady state.\n",
    "In that case there is just one remaining differential equation"
   ]
  },
  {
   "cell_type": "markdown",
   "metadata": {},
   "source": [
    "                     dx/dt = (1/(ρ*V))*(w1*(x1−x)+w2*(x2−x)) = 0"
   ]
  },
  {
   "cell_type": "markdown",
   "metadata": {},
   "source": [
    "Solving for the steady value of  x ,"
   ]
  },
  {
   "cell_type": "markdown",
   "metadata": {},
   "source": [
    "                        x = (w1*x1 + w2*x2)/(w1+w2)"
   ]
  },
  {
   "cell_type": "code",
   "execution_count": 10,
   "metadata": {},
   "outputs": [
    {
     "name": "stdout",
     "output_type": "stream",
     "text": [
      "Steady State Composition = 0.5\n"
     ]
    }
   ],
   "source": [
    "w1 = 500.0   # stream 1, kg/min\n",
    "w2 = 200.0   # stream 2, kg/min\n",
    "\n",
    "x1 = 0.4     # composition stream 1, mass fraction\n",
    "x2 = 0.75    # composition stream 2, mass fraction\n",
    "\n",
    "x = (w1*x1 + w2*x2)/(w1 + w2) # ************\n",
    "\n",
    "print('Steady State Composition =', x)\n"
   ]
  },
  {
   "cell_type": "code",
   "execution_count": null,
   "metadata": {},
   "outputs": [],
   "source": []
  }
 ],
 "metadata": {
  "kernelspec": {
   "display_name": "Python 3",
   "language": "python",
   "name": "python3"
  },
  "language_info": {
   "codemirror_mode": {
    "name": "ipython",
    "version": 3
   },
   "file_extension": ".py",
   "mimetype": "text/x-python",
   "name": "python",
   "nbconvert_exporter": "python",
   "pygments_lexer": "ipython3",
   "version": "3.7.6"
  }
 },
 "nbformat": 4,
 "nbformat_minor": 4
}
