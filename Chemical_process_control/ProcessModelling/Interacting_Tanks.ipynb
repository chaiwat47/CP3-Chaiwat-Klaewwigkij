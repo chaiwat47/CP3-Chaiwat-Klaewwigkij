{
 "cells": [
  {
   "cell_type": "markdown",
   "metadata": {},
   "source": [
    "# Interacting Tanks"
   ]
  },
  {
   "cell_type": "markdown",
   "metadata": {},
   "source": [
    "## Problem Statement"
   ]
  },
  {
   "cell_type": "raw",
   "metadata": {},
   "source": [
    "Assume the pressure driven flow into and out of the tanks is linearly proportional to tank levels. The steady state\n",
    "flowrate through the tanks is 3 cubic ft per minute, the steady state heights are 7 and 3 feet, respectively\n",
    "and a constant cross-sectional area 5 sq. ft. The equations are written as\n",
    "\n",
    "                dh1/dt = F0/A1 = beta1/A1*(h1=h2)\n",
    "                dh2/dt = beta1/A2*(h1-h2) - beta2/A2*h2\n",
    "        \n",
    "Construct a Phython simulation using odeint , and show a plot of the tank levels as function of time starting with an\n",
    "initial condition h1(0) = 6 and h2(0)=5 "
   ]
  },
  {
   "cell_type": "code",
   "execution_count": 1,
   "metadata": {},
   "outputs": [],
   "source": [
    "#library\n",
    "%matplotlib inline\n",
    "import numpy as np\n",
    "import matplotlib.pyplot as plt\n",
    "from scipy.integrate import odeint\n",
    "from ipywidgets import interact"
   ]
  },
  {
   "cell_type": "code",
   "execution_count": 14,
   "metadata": {},
   "outputs": [
    {
     "data": {
      "image/png": "[encoded data removed]",
      "text/plain": [
       "<Figure size 432x288 with 1 Axes>"
      ]
     },
     "metadata": {
      "needs_background": "light"
     },
     "output_type": "display_data"
    }
   ],
   "source": [
    "#simulation time grid\n",
    "t = np.linspace(0,30,1000)\n",
    "\n",
    "#intial condition\n",
    "IC = [6,5]\n",
    "\n",
    "#inlet flowrate\n",
    "F0 = 3\n",
    "\n",
    "#parameters for tank 1\n",
    "A1 = 5\n",
    "beta1 = 0.75\n",
    "\n",
    "#parameters for tank 2\n",
    "A2 = 5\n",
    "beta2 = 1.0\n",
    "\n",
    "def hderiv(H,t):\n",
    "    h1,h2 = H\n",
    "    h1dot = (F0 -beta1*(h1-h2))/A1\n",
    "    h2dot = (beta1*(h1-h2)-beta2*h2)/A2\n",
    "    return [h1dot,h2dot]\n",
    "\n",
    "sol1 = odeint(hderiv,IC,t)\n",
    "plt.plot(t,sol)\n",
    "plt.ylim(0,8)\n",
    "plt.grid()\n",
    "plt.xlabel('Time [min]')\n",
    "plt.ylabel('Level [ft]')\n",
    "plt.legend(['Tank 1','Tank 2'])\n",
    "plt.show()"
   ]
  },
  {
   "cell_type": "code",
   "execution_count": 9,
   "metadata": {},
   "outputs": [
    {
     "name": "stdout",
     "output_type": "stream",
     "text": [
      "6.0\n"
     ]
    }
   ],
   "source": [
    "print(sol[0][0])"
   ]
  },
  {
   "cell_type": "code",
   "execution_count": null,
   "metadata": {},
   "outputs": [],
   "source": []
  }
 ],
 "metadata": {
  "kernelspec": {
   "display_name": "Python 3",
   "language": "python",
   "name": "python3"
  },
  "language_info": {
   "codemirror_mode": {
    "name": "ipython",
    "version": 3
   },
   "file_extension": ".py",
   "mimetype": "text/x-python",
   "name": "python",
   "nbconvert_exporter": "python",
   "pygments_lexer": "ipython3",
   "version": "3.7.6"
  }
 },
 "nbformat": 4,
 "nbformat_minor": 4
}
