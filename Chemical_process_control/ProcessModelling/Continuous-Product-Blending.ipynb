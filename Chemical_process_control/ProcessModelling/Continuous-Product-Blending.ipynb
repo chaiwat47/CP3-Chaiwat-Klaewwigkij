{
 "cells": [
  {
   "cell_type": "markdown",
   "metadata": {
    "nbpages": {
     "level": 1,
     "link": "[2.4 Continuous Product Blending](https://jckantor.github.io/CBE30338/02.04-Continuous-Product-Blending.html#2.4-Continuous-Product-Blending)",
     "section": "2.4 Continuous Product Blending"
    }
   },
   "source": [
    "# Continuous Product Blending\n",
    "\n",
    "This case study is modeled after an actual process used to prepare an over-the-counter pediatric medication. The situation has been simplified to the dissolution of a single active ingredient into a suspension, and adapted to continouous rather than batch operation.\n",
    "\n",
    "The process objective is to mix an active ingredient $A$ into a suspension $S$, providing enough time to fully mix and dissolve components coming from both streams. The feed concentration of $A$ is 200 grams/liter. Process requirements include:\n",
    "\n",
    "* The final product concentration must be in the range 7.8 to 8.2 grams/liter. \n",
    "* At all timses the mixer residence time, $\\frac{V}{q_{out}}$, must remain between 84 and 108 hours.\n",
    "* The volume cannot exceed the tank capacity of 15,000 liters, and cannot fall below the 8,000 liters required to fully cover the mixing blades.\n",
    "\n",
    "The outlet from the tank is fed directly to a packaging line. The flow demand can vary due to changes in speed of the packaging equipment.\n",
    "\n"
   ]
  },
  {
   "cell_type": "markdown",
   "metadata": {
    "nbpages": {
     "level": 2,
     "link": "[2.4.1 Preliminary Control Analysis ](https://jckantor.github.io/CBE30338/02.04-Continuous-Product-Blending.html#2.4.1-Preliminary-Control-Analysis)",
     "section": "2.4.1 Preliminary Control Analysis "
    }
   },
   "source": [
    "## 1 Preliminary Control Analysis "
   ]
  },
  {
   "cell_type": "markdown",
   "metadata": {
    "nbpages": {
     "level": 3,
     "link": "[2.4.1.1 Parameters](https://jckantor.github.io/CBE30338/02.04-Continuous-Product-Blending.html#2.4.1.1-Parameters)",
     "section": "2.4.1.1 Parameters"
    }
   },
   "source": [
    "### 1.1 Parameters\n",
    "\n",
    "| Quantity | Symbol | Value | Units |\n",
    "|:-:|:-:|:-:|:-:|\n",
    "| Feed Concentration |$c_{A,f}$ | 200 | g/liter |\n",
    "| Maximum Tank Operating Capacity | $V$ | 15,000 | liters |\n",
    "| Minimum Tank Operating Capacity | $V$ | 8,000 | liters |"
   ]
  },
  {
   "cell_type": "markdown",
   "metadata": {
    "nbpages": {
     "level": 3,
     "link": "[2.4.1.2 Control Objectives](https://jckantor.github.io/CBE30338/02.04-Continuous-Product-Blending.html#2.4.1.2-Control-Objectives)",
     "section": "2.4.1.2 Control Objectives"
    }
   },
   "source": [
    "### 1.2 Control Objectives\n",
    "\n",
    "* Maintain outlet concentration of $A$ at $8.0 \\pm 0.2$ grams/liter.\n",
    "* Maintain an average residence time (i.e., ratio $V/q_{out}$) of $96 \\pm 12$ hours.\n",
    "* Past operation has shown a liquid volume of 12,000 liters generally meets nominal demand. Demand, however, fluctuates and is determined by the downstream packaging line."
   ]
  },
  {
   "cell_type": "markdown",
   "metadata": {
    "nbpages": {
     "level": 3,
     "link": "[2.4.1.3 Classification of Variables](https://jckantor.github.io/CBE30338/02.04-Continuous-Product-Blending.html#2.4.1.3-Classification-of-Variables)",
     "section": "2.4.1.3 Classification of Variables"
    }
   },
   "source": [
    "### 1.3 Classification of Variables\n",
    "\n",
    "What are the disturbances variables (DV), manipulated variables (MV), and controlled variables (CV)?\n",
    "\n",
    "| Variable | Symbol | Classification |\n",
    "|:-:|:-:|:-:|\n",
    "| Outlet Flow | $q_{out}$ | DV |\n",
    "| Feed Flow | $q_A$ | MV |\n",
    "| Water Makeup Flow | $q_W$ | MV |\n",
    "| Product Concentration | $c_A$ | CV |\n",
    "| Volume | $V$ | CV |\n",
    "\n",
    "In this case, we can assume the controlled variables are directly measureable."
   ]
  },
  {
   "cell_type": "markdown",
   "metadata": {
    "nbpages": {
     "level": 3,
     "link": "[2.4.1.4 Degrees of Freedom Analysis](https://jckantor.github.io/CBE30338/02.04-Continuous-Product-Blending.html#2.4.1.4-Degrees-of-Freedom-Analysis)",
     "section": "2.4.1.4 Degrees of Freedom Analysis"
    }
   },
   "source": [
    "### 1.4 Degrees of Freedom Analysis\n",
    "\n",
    "At steady-state the balance equations become algebraic equations\n",
    "\n",
    "\\begin{align}\n",
    "0 & = \\bar{q}_A + \\bar{q}_S - \\bar{q}_{out} \\\\\n",
    "& \\\\\n",
    "0 & = \\bar{q}_A c_{A,f} - \\bar{q}_{out}\\bar{c}_A\n",
    "\\end{align}\n",
    "\n",
    "There are a total of five variables in these two equations. So we need to find at least three more specifciations or constraints to determine values for these variables. \n",
    "\n",
    "Additional pieces of information we have are the process specifications\n",
    "\n",
    "\\begin{align}\n",
    "\\frac{\\bar{q}_{out}}{\\bar{V}} & = 96 \\mbox{ hours} \\\\\n",
    "c_{A,f} & = 200 \\mbox{ g/liter} \\\\\n",
    "\\bar{q}_{out} & = \\mbox{ set by the downstream demand} \\\\\n",
    "\\bar{c}_A & = 8 \\mbox{ g/liter}\n",
    "\\end{align}\n",
    "\n",
    "This is a total of four new equations for steady-state.  The new equations introduced an additional variable $\\bar{V}$. This provides six variables in six equations provided we know the downstream demand."
   ]
  },
  {
   "cell_type": "markdown",
   "metadata": {
    "nbpages": {
     "level": 3,
     "link": "[2.4.1.5 Steady State](https://jckantor.github.io/CBE30338/02.04-Continuous-Product-Blending.html#2.4.1.5-Steady-State)",
     "section": "2.4.1.5 Steady State"
    }
   },
   "source": [
    "### 1.5 Steady State\n",
    "\n",
    "Let's assume a constant output demand $\\bar{q}_{out}$ = 125 liters/hr.  The equations may then be solved in order:\n",
    "\n",
    "\\begin{align}\n",
    "c_{A,f} & = 200 \\mbox{ g/liter} \\\\\n",
    "\\bar{c}_A & = 8 \\mbox{ g/liter} \\\\\n",
    "\\bar{V} & = 96\\ \\bar{q}_{out} = 12,000 \\mbox{ liters}\\\\\n",
    "\\bar{q}_A & = \\frac{\\bar{q}_{out}\\bar{c}_A}{c_{A,f}} = 5 \\mbox{ liters/hr}\\\\\n",
    "\\bar{q}_S & = \\bar{q}_{out} - \\bar{q}_A = 120 \\mbox{ liters/hr}\n",
    "\\end{align}"
   ]
  },
  {
   "cell_type": "markdown",
   "metadata": {
    "nbpages": {
     "level": 3,
     "link": "[2.4.1.6 Exercise 1. Determine Operating Range](https://jckantor.github.io/CBE30338/02.04-Continuous-Product-Blending.html#2.4.1.6-Exercise-1.-Determine-Operating-Range)",
     "section": "2.4.1.6 Exercise 1. Determine Operating Range"
    },
    "tags": [
     "exercise"
    ]
   },
   "source": [
    "### 1.6 Exercise 1. Determine Operating Range\n",
    "\n",
    "Solve the steady-state equations for other values of $\\bar{q}_{out}$. Given a maximum tank operating capacity of 15,000 liters, what is the largest possible value of $\\bar{q}_{out}$ which still meets process specifications?  If the minimum tank operating capacity is 8,000 liters, what is the minimum value of $\\bar{q}_{out}$?"
   ]
  },
  {
   "cell_type": "markdown",
   "metadata": {
    "nbpages": {
     "level": 2,
     "link": "[2.4.2 Modeling](https://jckantor.github.io/CBE30338/02.04-Continuous-Product-Blending.html#2.4.2-Modeling)",
     "section": "2.4.2 Modeling"
    }
   },
   "source": [
    "## 2 Modeling\n",
    "\n",
    "The balance equations are\n",
    "\n",
    "\\begin{align}\n",
    "\\frac{dV}{dt} & = q_A + q_S - q_{out} \\\\\n",
    "\\frac{d(Vc_A)}{dt} & = q_A c_{A,f} - q_{out}c_A\n",
    "\\end{align}\n",
    "\n",
    "where we have made the assumption of constant density among all of the streams, and of complete and uniform mixing in the stirred tank. \n",
    "\n",
    "For simulation, it is useful to isolate the derivatives of $V$ and $c_A$ on the left-hand side of these differential equations. Using the chain rule\n",
    "\n",
    "\\begin{align}\n",
    "\\frac{dV}{dt} & = q_A + q_S - q_{out} \\\\\n",
    "V\\frac{dc_A}{dt} + c_A\\frac{dV}{dt} & = q_A c_{A,f} - q_{out}c_A\n",
    "\\end{align}\n",
    "\n",
    "Substituting the first equation into the second gives\n",
    "\n",
    "\\begin{align}\n",
    "\\frac{dV}{dt} & = q_A + q_S - q_{out} \\\\\n",
    "V\\frac{dc_A}{dt} + c_A\\left(q_A + q_S - q_{out}\\right) & = q_A c_{A,f} - q_{out}c_A\n",
    "\\end{align}\n",
    "\n",
    "Rearranging terms, and dividing the second equation by $V$, gives us the final version of a dynamical model.\n",
    "\n",
    "\\begin{align}\n",
    "\\frac{dV}{dt} & = q_A + q_S - q_{out} \\\\\n",
    "\\frac{dc_A}{dt} & = \\frac{q_A}{V} \\left(c_{A,f} - c_A\\right) - \\frac{q_S}{V} c_A\n",
    "\\end{align}"
   ]
  },
  {
   "cell_type": "markdown",
   "metadata": {
    "nbpages": {
     "level": 2,
     "link": "[2.4.3 Simulation](https://jckantor.github.io/CBE30338/02.04-Continuous-Product-Blending.html#2.4.3-Simulation)",
     "section": "2.4.3 Simulation"
    }
   },
   "source": [
    "## 3 Simulation"
   ]
  },
  {
   "cell_type": "markdown",
   "metadata": {
    "nbpages": {
     "level": 3,
     "link": "[2.4.3.1 Step 1. Imports](https://jckantor.github.io/CBE30338/02.04-Continuous-Product-Blending.html#2.4.3.1-Step-1.-Imports)",
     "section": "2.4.3.1 Step 1. Imports"
    }
   },
   "source": [
    "###  Step 1. Imports\n",
    "\n",
    "We start the simulation by importing necessary Python libraries."
   ]
  },
  {
   "cell_type": "code",
   "execution_count": 3,
   "metadata": {
    "nbpages": {
     "level": 3,
     "link": "[2.4.3.1 Step 1. Imports](https://jckantor.github.io/CBE30338/02.04-Continuous-Product-Blending.html#2.4.3.1-Step-1.-Imports)",
     "section": "2.4.3.1 Step 1. Imports"
    }
   },
   "outputs": [],
   "source": [
    "import numpy as np\n",
    "from scipy.integrate import odeint\n",
    "import matplotlib.pyplot as plt\n",
    "%matplotlib inline"
   ]
  },
  {
   "cell_type": "markdown",
   "metadata": {
    "nbpages": {
     "level": 3,
     "link": "[2.4.3.2 Step 2. Parameter Values](https://jckantor.github.io/CBE30338/02.04-Continuous-Product-Blending.html#2.4.3.2-Step-2.-Parameter-Values)",
     "section": "2.4.3.2 Step 2. Parameter Values"
    }
   },
   "source": [
    "###  Step 2. Parameter Values\n",
    "\n",
    "It is good coding practice to include all relevant parameter values in single block of code. This makes it easier for users of your code to understand what values are relevant to the problem, and to adjust and maintain your code. No 'magic' numbers should appear later in your code."
   ]
  },
  {
   "cell_type": "code",
   "execution_count": 4,
   "metadata": {
    "nbpages": {
     "level": 3,
     "link": "[2.4.3.2 Step 2. Parameter Values](https://jckantor.github.io/CBE30338/02.04-Continuous-Product-Blending.html#2.4.3.2-Step-2.-Parameter-Values)",
     "section": "2.4.3.2 Step 2. Parameter Values"
    }
   },
   "outputs": [],
   "source": [
    "# parameters\n",
    "caf       = 200       # g/liter\n",
    "Vmax      = 15000     # liters\n",
    "Vmin      = 8000      # liters\n",
    "\n",
    "# process setpoints\n",
    "ca_SP     = 8         # g/liter\n",
    "rtime_SP  = 96        # residence time in hours\n",
    "\n",
    "# nominal values of the disturbance variables\n",
    "qout_bar  = 125"
   ]
  },
  {
   "cell_type": "markdown",
   "metadata": {
    "nbpages": {
     "level": 3,
     "link": "[2.4.3.3 Step 3. Computing Steady State](https://jckantor.github.io/CBE30338/02.04-Continuous-Product-Blending.html#2.4.3.3-Step-3.-Computing-Steady-State)",
     "section": "2.4.3.3 Step 3. Computing Steady State"
    }
   },
   "source": [
    "###  Step 3. Computing Steady State\n",
    "\n",
    "A good modeling practice is to begin with the determination of a nominal steady state. By nominal we mean operating conditions representative of typical, desired behavior of the process in question, and should be computed based on the parameter values given above."
   ]
  },
  {
   "cell_type": "code",
   "execution_count": 5,
   "metadata": {
    "nbpages": {
     "level": 3,
     "link": "[2.4.3.3 Step 3. Computing Steady State](https://jckantor.github.io/CBE30338/02.04-Continuous-Product-Blending.html#2.4.3.3-Step-3.-Computing-Steady-State)",
     "section": "2.4.3.3 Step 3. Computing Steady State"
    }
   },
   "outputs": [
    {
     "name": "stdout",
     "output_type": "stream",
     "text": [
      "Steady-State\n",
      "    V [liters]    =  12000\n",
      "   ca [g/liter]   =  8\n",
      "   qa [liters/hr] =  5.0\n",
      "   qs [liters/hr] =  120.0\n"
     ]
    }
   ],
   "source": [
    "# nominal steady state at process setpoint\n",
    "V_bar    = rtime_SP * qout_bar\n",
    "ca_bar   = ca_SP\n",
    "qa_bar   = ca_SP*qout_bar/caf\n",
    "qs_bar   = qout_bar - qa_bar\n",
    "\n",
    "print(\"Steady-State\")\n",
    "print(\"    V [liters]    = \", V_bar)\n",
    "print(\"   ca [g/liter]   = \", ca_bar)\n",
    "print(\"   qa [liters/hr] = \", qa_bar)\n",
    "print(\"   qs [liters/hr] = \", qs_bar)"
   ]
  },
  {
   "cell_type": "markdown",
   "metadata": {
    "nbpages": {
     "level": 3,
     "link": "[2.4.3.4 Step 4. Process Model Equations](https://jckantor.github.io/CBE30338/02.04-Continuous-Product-Blending.html#2.4.3.4-Step-4.-Process-Model-Equations)",
     "section": "2.4.3.4 Step 4. Process Model Equations"
    }
   },
   "source": [
    "### Step 4. Process Model Equations\n",
    "\n",
    "In our case the model consists of a system of two differential equations. For simulation with the Python function `odeint`, the model is encapsulated into a Python function that accepts two arguments.\n",
    "\n",
    "* `X` is a list of values for the model state, in this case `V` and `ca`.\n",
    "* `t` a variable containing value corresponding to the current time."
   ]
  },
  {
   "cell_type": "code",
   "execution_count": 6,
   "metadata": {
    "nbpages": {
     "level": 3,
     "link": "[2.4.3.4 Step 4. Process Model Equations](https://jckantor.github.io/CBE30338/02.04-Continuous-Product-Blending.html#2.4.3.4-Step-4.-Process-Model-Equations)",
     "section": "2.4.3.4 Step 4. Process Model Equations"
    }
   },
   "outputs": [],
   "source": [
    "def deriv(X, t):\n",
    "    V, ca = X\n",
    "    dV = qa + qs - qout\n",
    "    dca = qa*(caf - ca)/V - qs*ca/V\n",
    "    return [dV, dca]"
   ]
  },
  {
   "cell_type": "markdown",
   "metadata": {
    "nbpages": {
     "level": 3,
     "link": "[2.4.3.5 Step 5. Numerical Solution of the Process Model](https://jckantor.github.io/CBE30338/02.04-Continuous-Product-Blending.html#2.4.3.5-Step-5.-Numerical-Solution-of-the-Process-Model)",
     "section": "2.4.3.5 Step 5. Numerical Solution of the Process Model"
    }
   },
   "source": [
    "### Step 5. Numerical Solution of the Process Model\n",
    "\n",
    "This block does the numerically intensive portion of the simulation. Here we establish values for all degrees of freedeom, specify initial conditions, and thne proceed to compute a history of the process behavior. The history is broken into discrete time step which is a bit more work now, but will later provide a means to test implementations of control algorithms.\n",
    "\n",
    "For the first simulation, it usually a good idea to pick an initial condition that will yield a known result. In this case we start a simulation at steady state."
   ]
  },
  {
   "cell_type": "code",
   "execution_count": 7,
   "metadata": {
    "nbpages": {
     "level": 3,
     "link": "[2.4.3.5 Step 5. Numerical Solution of the Process Model](https://jckantor.github.io/CBE30338/02.04-Continuous-Product-Blending.html#2.4.3.5-Step-5.-Numerical-Solution-of-the-Process-Model)",
     "section": "2.4.3.5 Step 5. Numerical Solution of the Process Model"
    }
   },
   "outputs": [
    {
     "data": {
      "text/plain": [
       "[[0, 12000, 8],\n",
       " [1, 12000.0, 8.0],\n",
       " [2, 12000.0, 8.0],\n",
       " [3, 12000.0, 8.0],\n",
       " [4, 12000.0, 8.0],\n",
       " [5, 12000.0, 8.0],\n",
       " [6, 12000.0, 8.0],\n",
       " [7, 12000.0, 8.0],\n",
       " [8, 12000.0, 8.0],\n",
       " [9, 12000.0, 8.0]]"
      ]
     },
     "execution_count": 7,
     "metadata": {},
     "output_type": "execute_result"
    }
   ],
   "source": [
    "# fix all degrees of freedom \n",
    "qout = qout_bar      # outlet flow -- process disturbance variable.\n",
    "qa = qa_bar          # inlet flow of A -- process manipulated variable\n",
    "qs = qs_bar          # inlet flow of suspension -- process manipulated variable\n",
    "\n",
    "# establish initial conditions\n",
    "t  = 0\n",
    "V  = V_bar\n",
    "ca = ca_bar\n",
    "\n",
    "# time step, and variable to store simulation record (or history)\n",
    "dt = 1\n",
    "history = [[t,V,ca]]\n",
    "\n",
    "while t < 500:\n",
    "    V, ca = odeint(deriv, [V, ca], [t, t+dt])[-1]\n",
    "    t += dt\n",
    "    history.append([t,V,ca])\n",
    "\n",
    "history[0:10]"
   ]
  },
  {
   "cell_type": "markdown",
   "metadata": {
    "nbpages": {
     "level": 3,
     "link": "[2.4.3.6 Step 6. Visualization and Analysis](https://jckantor.github.io/CBE30338/02.04-Continuous-Product-Blending.html#2.4.3.6-Step-6.-Visualization-and-Analysis)",
     "section": "2.4.3.6 Step 6. Visualization and Analysis"
    }
   },
   "source": [
    "### Step 6. Visualization and Analysis\n",
    "\n",
    "To simplify future simulations, here we define a function to plot the results stored in the simulation record. The function `plot_history(history, labels)` takes two arguments. The first argument is the data history recorded during the course of the simulation, where the first element is assumed to be time. The second argument is a list of labels corresponding to each of the recorded variables."
   ]
  },
  {
   "cell_type": "code",
   "execution_count": 8,
   "metadata": {
    "nbpages": {
     "level": 3,
     "link": "[2.4.3.6 Step 6. Visualization and Analysis](https://jckantor.github.io/CBE30338/02.04-Continuous-Product-Blending.html#2.4.3.6-Step-6.-Visualization-and-Analysis)",
     "section": "2.4.3.6 Step 6. Visualization and Analysis"
    }
   },
   "outputs": [
    {
     "data": {
      "image/png": "[encoded data removed]",
      "text/plain": [
       "<Figure size 576x280.8 with 2 Axes>"
      ]
     },
     "metadata": {
      "needs_background": "light"
     },
     "output_type": "display_data"
    }
   ],
   "source": [
    "def plot_history(history, labels):\n",
    "    \"\"\"Plots a simulation history.\"\"\"\n",
    "    history = np.array(history)\n",
    "    t = history[:,0]\n",
    "    n = len(labels) - 1\n",
    "    plt.figure(figsize=(8,1.95*n))\n",
    "    for k in range(0,n):\n",
    "        plt.subplot(n, 1, k+1)\n",
    "        plt.plot(t, history[:,k+1])\n",
    "        plt.title(labels[k+1])\n",
    "        plt.xlabel(labels[0])\n",
    "        plt.grid()\n",
    "    plt.tight_layout()\n",
    "        \n",
    "plot_history(history, ['t / hours','Volume','Concentration $c_A$'])"
   ]
  },
  {
   "cell_type": "markdown",
   "metadata": {
    "nbpages": {
     "level": 3,
     "link": "[2.4.3.7 Exercise 2. Explore Dynamical Behavior](https://jckantor.github.io/CBE30338/02.04-Continuous-Product-Blending.html#2.4.3.7-Exercise-2.-Explore-Dynamical-Behavior)",
     "section": "2.4.3.7 Exercise 2. Explore Dynamical Behavior"
    },
    "tags": [
     "exercise"
    ]
   },
   "source": [
    "### Exercise 2. Explore Dynamical Behavior\n",
    "\n",
    "Let's explore the behavior of this mixing tank under different assumptions.  We'll explore the following cases:\n",
    "\n",
    "1. The startup concentration of $A$ is $c_A = 0$. How long before the mixer is producing an acceptable product?\n",
    "2. The outlet flow increases by 10%.  How long before the product is out of spec?\n",
    "3. The outlet flow decreases by 10%.  How long before the product is out of spec?\n",
    "\n",
    "The following cell shows how you might get started with first question."
   ]
  },
  {
   "cell_type": "code",
   "execution_count": 9,
   "metadata": {
    "nbpages": {
     "level": 3,
     "link": "[2.4.3.7 Exercise 2. Explore Dynamical Behavior](https://jckantor.github.io/CBE30338/02.04-Continuous-Product-Blending.html#2.4.3.7-Exercise-2.-Explore-Dynamical-Behavior)",
     "section": "2.4.3.7 Exercise 2. Explore Dynamical Behavior"
    }
   },
   "outputs": [
    {
     "data": {
      "image/png": "[encoded data removed]",
      "text/plain": [
       "<Figure size 576x280.8 with 2 Axes>"
      ]
     },
     "metadata": {
      "needs_background": "light"
     },
     "output_type": "display_data"
    }
   ],
   "source": [
    "# fix all degrees of freedom \n",
    "qout = qout_bar      # outlet flow -- process disturbance variable.\n",
    "qa = qa_bar          # inlet flow of A -- process manipulated variable\n",
    "qs = qs_bar          # inlet flow of suspension -- process manipulated variable\n",
    "\n",
    "# establish initial conditions\n",
    "t  = 0\n",
    "V  = V_bar\n",
    "ca = 0         # <========= CHANGED TO AN INITIAL CONDITION OF ZERO\n",
    "\n",
    "# time step, and variable to store simulation record (or history)\n",
    "dt = 1\n",
    "history = [[t,V,ca]]\n",
    "\n",
    "while t < 500:\n",
    "    V, ca = odeint(deriv, [V, ca], [t, t+dt])[-1]\n",
    "    t += dt\n",
    "    history.append([t,V,ca])\n",
    "\n",
    "plot_history(history, ['t / hours','Volume','Concentration $c_A$'])"
   ]
  },
  {
   "cell_type": "markdown",
   "metadata": {
    "nbpages": {
     "level": 2,
     "link": "[2.4.4 Control Residence Time](https://jckantor.github.io/CBE30338/02.04-Continuous-Product-Blending.html#2.4.4-Control-Residence-Time)",
     "section": "2.4.4 Control Residence Time"
    }
   },
   "source": [
    "## 4 Control Residence Time\n",
    "\n",
    "From the exercises above, we know even small changes in the outlet flowrate results in substantial loss due to out-of-spec product.  Let's try a control strategy in which we change in the suspension flowrate, $q_S$, to compensate for excursions from the desired value of residence time.\n",
    "\n",
    "We'll try proportional control where the change in $q_S$ is proportional to the difference of the residence time from the setpoint.\n",
    "\n",
    "\\begin{align}\n",
    "q_S - \\bar{q}_S = - K \\left(\\frac{V}{q_{out}} - \\frac{\\bar{V}}{\\bar{q}_{out}}\\right)\n",
    "\\end{align}\n",
    "\n",
    "The negative sign is there because we expect a negative deviation in flowrate is needed to compensate for a positive deviation in residence time.  This can be written more directly as\n",
    "\n",
    "\\begin{align}\n",
    "q_S = \\bar{q}_S - K \\left(\\frac{V}{q_{out}} - \\frac{\\bar{V}}{\\bar{q}_{out}}\\right)\n",
    "\\end{align}\n",
    "\n",
    "In the following cell we will decrease qout by 10%, and attempt to find a value for $K$ that provides satisfactory control."
   ]
  },
  {
   "cell_type": "code",
   "execution_count": 17,
   "metadata": {
    "nbpages": {
     "level": 2,
     "link": "[2.4.4 Control Residence Time](https://jckantor.github.io/CBE30338/02.04-Continuous-Product-Blending.html#2.4.4-Control-Residence-Time)",
     "section": "2.4.4 Control Residence Time"
    }
   },
   "outputs": [
    {
     "data": {
      "image/png": "[encoded data removed]",
      "text/plain": [
       "<Figure size 576x561.6 with 4 Axes>"
      ]
     },
     "metadata": {
      "needs_background": "light"
     },
     "output_type": "display_data"
    }
   ],
   "source": [
    "# fix all degrees of freedom \n",
    "qout = qout_bar      # outlet flow -- process disturbance variable.\n",
    "qa = qa_bar          # inlet flow of A -- process manipulated variable\n",
    "qs = qs_bar          # inlet flow of suspension -- process manipulated variable\n",
    "\n",
    "# establish initial conditions\n",
    "t  = 0\n",
    "V  = V_bar\n",
    "ca = ca_bar\n",
    "\n",
    "# time step, and variable to store simulation record (or history)\n",
    "dt = 1\n",
    "history = [[t, V, ca, V/qout, qs]]\n",
    "\n",
    "qout = 0.9*qout\n",
    "while t < 500:\n",
    "    qs = qs_bar - 5*(V/qout - V_bar/qout_bar)\n",
    "    V, ca = odeint(deriv, [V, ca], [t, t+dt])[-1]\n",
    "    t += dt\n",
    "    history.append([t, V, ca, V/qout, qs])\n",
    "\n",
    "\n",
    "plot_history(history, ['t','V','ca','V/qout','qs'])"
   ]
  },
  {
   "cell_type": "markdown",
   "metadata": {
    "nbpages": {
     "level": 2,
     "link": "[2.4.5 Control Concentration](https://jckantor.github.io/CBE30338/02.04-Continuous-Product-Blending.html#2.4.5-Control-Concentration)",
     "section": "2.4.5 Control Concentration"
    }
   },
   "source": [
    "## 5 Control Concentration\n",
    "\n",
    "As shown above, it isn't enough to control only residence time. In fact, controlling residence time in response to a decrease in output causes the outlet concentration to increase beyond the product quality limits. We propose to fix this problem by controlling $q_A$, the inlet flow of $A$. A proportional control rule is given by\n",
    "\n",
    "\\begin{align}\n",
    "q_A & = \\bar{q}_A - K \\left(c_A - \\bar{c}_A \\right)\n",
    "\\end{align}\n",
    "\n",
    "where, again, we predict a decrease in $q_A$ is needed to compensate for a positive excursion in $c_A$."
   ]
  },
  {
   "cell_type": "code",
   "execution_count": 11,
   "metadata": {
    "nbpages": {
     "level": 2,
     "link": "[2.4.5 Control Concentration](https://jckantor.github.io/CBE30338/02.04-Continuous-Product-Blending.html#2.4.5-Control-Concentration)",
     "section": "2.4.5 Control Concentration"
    }
   },
   "outputs": [
    {
     "data": {
      "image/png": "[encoded data removed]",
      "text/plain": [
       "<Figure size 576x702 with 5 Axes>"
      ]
     },
     "metadata": {
      "needs_background": "light"
     },
     "output_type": "display_data"
    }
   ],
   "source": [
    "# fix all degrees of freedom \n",
    "qout = qout_bar      # outlet flow -- process disturbance variable.\n",
    "qa = qa_bar          # inlet flow of A -- process manipulated variable\n",
    "qs = qs_bar          # inlet flow of suspension -- process manipulated variable\n",
    "\n",
    "# establish initial conditions\n",
    "t  = 0\n",
    "V  = V_bar\n",
    "ca = ca_bar\n",
    "\n",
    "# time step, and variable to store simulation record (or history)\n",
    "dt = 1\n",
    "history = [[t, V, ca, V/qout, qs, qa]]\n",
    "\n",
    "qout = 0.9*qout\n",
    "while t < 500:\n",
    "    qs = qs_bar - 5*(V/qout - V_bar/qout_bar)\n",
    "    qa = qa_bar - 3*(ca - ca_bar)\n",
    "    V, ca = odeint(deriv, [V, ca], [t, t+dt])[-1]\n",
    "    t += dt\n",
    "    history.append([t, V, ca, V/qout, qs, qa])\n",
    "\n",
    "plot_history(history, ['t / hours','Volume','Concentration $c_A$','V/qout','qs','qa'])"
   ]
  },
  {
   "cell_type": "markdown",
   "metadata": {
    "nbpages": {
     "level": 2,
     "link": "[2.4.6 Exercise 3.](https://jckantor.github.io/CBE30338/02.04-Continuous-Product-Blending.html#2.4.6-Exercise-3.)",
     "section": "2.4.6 Exercise 3."
    },
    "tags": [
     "exercise"
    ]
   },
   "source": [
    "## Exercise 3.\n",
    "\n",
    "The algebraic formulae given above do not include any limits on flowrate.  Suppose the flowrate $q_s$ is limited to 0 to 200 liters/hour, and the flowrate $q_a$ is limited to 0 to 20 liters/hour. Modify the code above to incorporate those limits. Now try to find the minimum time necessary to bring the tank from initial concentration of 0 to state where it is producing an acceptable product."
   ]
  },
  {
   "cell_type": "markdown",
   "metadata": {
    "nbpages": {
     "level": 2,
     "link": "[2.4.7 Proportional-Integral Control](https://jckantor.github.io/CBE30338/02.04-Continuous-Product-Blending.html#2.4.7-Proportional-Integral-Control)",
     "section": "2.4.7 Proportional-Integral Control"
    }
   },
   "source": [
    "## 7 Proportional-Integral Control\n",
    "\n",
    "The above control laws do a reasonable job of control, but do not return the system to a desired steady-state operating condition. How can we modify the control laws?\n",
    "\n",
    "\\begin{align}\n",
    "q_A & = \\bar{q}_A - K_p \\left(c_A - \\bar{c}_A \\right) - K_i \\int_0^t \\left(c_A - \\bar{c}_A \\right) dt\n",
    "\\end{align}\n",
    "\n",
    "The second term will integrate any constant offset to produce a constantly changing value.  So the only possible steady-state is when $c_A = \\bar{c}_A$."
   ]
  },
  {
   "cell_type": "code",
   "execution_count": 12,
   "metadata": {
    "nbpages": {
     "level": 2,
     "link": "[2.4.7 Proportional-Integral Control](https://jckantor.github.io/CBE30338/02.04-Continuous-Product-Blending.html#2.4.7-Proportional-Integral-Control)",
     "section": "2.4.7 Proportional-Integral Control"
    }
   },
   "outputs": [
    {
     "data": {
      "image/png": "[encoded data removed]",
      "text/plain": [
       "<Figure size 576x702 with 5 Axes>"
      ]
     },
     "metadata": {
      "needs_background": "light"
     },
     "output_type": "display_data"
    }
   ],
   "source": [
    "# fix all degrees of freedom \n",
    "qout = qout_bar      # outlet flow -- process disturbance variable.\n",
    "qa = qa_bar          # inlet flow of A -- process manipulated variable\n",
    "qs = qs_bar          # inlet flow of suspension -- process manipulated variable\n",
    "\n",
    "# establish initial conditions\n",
    "t  = 0\n",
    "V  = V_bar\n",
    "ca = ca_bar\n",
    "error_sum = 0\n",
    "\n",
    "# time step, and variable to store simulation record (or history)\n",
    "dt = 1\n",
    "history = [[t, V, ca, V/qout, qs, qa]]\n",
    "\n",
    "qout = 0.9*qout\n",
    "while t < 500:\n",
    "    qs = qs_bar - 5*(V/qout - V_bar/qout_bar)\n",
    "    \n",
    "    error = (ca - ca_bar)\n",
    "    error_sum += error * dt\n",
    "    \n",
    "    qa = qa_bar - 3*error - 0.4*error_sum\n",
    "    V, ca = odeint(deriv, [V, ca], [t, t+dt])[-1]\n",
    "    t += dt\n",
    "    history.append([t, V, ca, V/qout, qs, qa])\n",
    "\n",
    "plot_history(history, ['t / hours','Volume','Concentration $c_A$','V/qout','qs','qa'])"
   ]
  },
  {
   "cell_type": "markdown",
   "metadata": {
    "nbpages": {
     "level": 2,
     "link": "[2.4.8 Exercise 4.](https://jckantor.github.io/CBE30338/02.04-Continuous-Product-Blending.html#2.4.8-Exercise-4.)",
     "section": "2.4.8 Exercise 4."
    },
    "tags": [
     "exercise"
    ]
   },
   "source": [
    "## Exercise 4.\n",
    "\n",
    "Write an expression for the proportional-integral control of residence time.  Implement the control, and 'tune' the control constants until you get satisfactory feedback control for a 10% reduction in demand.  By satisfactory we mean:\n",
    "\n",
    "* Meet product quality specifications at all times.\n",
    "* There are no more than three observable peaks in any underdamped response.\n",
    "* The decay ratio is less than 0.25.\n",
    "\n",
    "Is it possible to meet these control specifications?"
   ]
  },
  {
   "cell_type": "code",
   "execution_count": null,
   "metadata": {
    "nbpages": {
     "level": 2,
     "link": "[2.4.8 Exercise 4.](https://jckantor.github.io/CBE30338/02.04-Continuous-Product-Blending.html#2.4.8-Exercise-4.)",
     "section": "2.4.8 Exercise 4."
    }
   },
   "outputs": [],
   "source": []
  },
  {
   "cell_type": "markdown",
   "metadata": {
    "nbpages": {
     "level": 2,
     "link": "[2.4.8 Exercise 4.](https://jckantor.github.io/CBE30338/02.04-Continuous-Product-Blending.html#2.4.8-Exercise-4.)",
     "section": "2.4.8 Exercise 4."
    }
   },
   "source": []
  }
 ],
 "metadata": {
  "kernelspec": {
   "display_name": "Python 3",
   "language": "python",
   "name": "python3"
  },
  "language_info": {
   "codemirror_mode": {
    "name": "ipython",
    "version": 3
   },
   "file_extension": ".py",
   "mimetype": "text/x-python",
   "name": "python",
   "nbconvert_exporter": "python",
   "pygments_lexer": "ipython3",
   "version": "3.7.6"
  }
 },
 "nbformat": 4,
 "nbformat_minor": 4
}
