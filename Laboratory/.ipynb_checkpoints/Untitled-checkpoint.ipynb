{
 "cells": [
  {
   "cell_type": "markdown",
   "metadata": {},
   "source": [
    "# L A B"
   ]
  },
  {
   "cell_type": "code",
   "execution_count": 4,
   "metadata": {},
   "outputs": [],
   "source": [
    "import numpy as np\n",
    "\n",
    "g = 9.81  # gravity force\n",
    "m = 1500  # mass\n",
    "lz = 3000  #\n",
    "Caf = 19000  # Car front\n",
    "Car = 33000  # Car right\n",
    "lf = 2  # Lateral font wheel\n",
    "lr = 3  # lateral right wheel\n",
    "Ts = 0.02  # Time sample\n",
    "x_dot = 20\n",
    "\n",
    "A1 = -(2*Caf + 2*Car)/(m*x_dot)\n",
    "A2 = -x_dot-(2*Caf*lf-2*Car*lr)/(m*x_dot)\n",
    "A3 = -(2*lf*Caf-2*lr*Car)/(lz*x_dot)\n",
    "A4 = -(2*lf**2*Caf+2*lr**2*Car)/(lz*x_dot)\n"
   ]
  },
  {
   "cell_type": "code",
   "execution_count": 17,
   "metadata": {},
   "outputs": [
    {
     "data": {
      "text/plain": [
       "4"
      ]
     },
     "execution_count": 17,
     "metadata": {},
     "output_type": "execute_result"
    }
   ],
   "source": [
    "\n",
    "\n",
    "A = np.array([[A1,  0, A2, 0],\n",
    "              [0,  0,  1, 0],\n",
    "              [A3, 0, A4, 0],\n",
    "              [1, x_dot, 0, 0]])\n",
    "\n",
    "B = np.array([[2*Caf/m], [0], [2*lf*Caf/lz], [0]])\n",
    "\n",
    "C = np.array([[0, 1, 0, 0],\n",
    "             [0, 0, 0, 1]])\n",
    "\n",
    "D = 0\n",
    "\n",
    "Ad = np.identity(np.size(A,1)) + Ts*A\n",
    "Bd = Ts*B\n",
    "Cd = C\n",
    "Dd = D\n",
    "\n",
    "A_aug = np.concatenate((Ad, Bd), axis=1)\n",
    "temp1 = np.zeros((np.size(Bd,1), np.size(Ad, 1)))\n",
    "temp2 = np.identity(np.size(Bd, 1))\n",
    "temp = np.concatenate((temp1, temp2), axis=1)\n",
    "\n",
    "A_aug = np.concatenate((A_aug,temp), axis=0)\n",
    "B_aug = np.concatenate((Bd, np.identity(np.size(Bd, 1))), axis=0)\n",
    "C_aug = np.concatenate((Cd, np.zeros((np.size(Cd, 0), np.size(Bd, 1)))), axis=1)\n",
    "D_aug = Dd\n",
    "\n",
    "np.size(A,1)"
   ]
  },
  {
   "cell_type": "code",
   "execution_count": 23,
   "metadata": {},
   "outputs": [
    {
     "name": "stdout",
     "output_type": "stream",
     "text": [
      "[[ 0.93066667  0.         -0.31866667  0.        ]\n",
      " [ 0.          1.          0.02        0.        ]\n",
      " [ 0.04066667  0.          0.75133333  0.        ]\n",
      " [ 0.02        0.4         0.          1.        ]]\n",
      "[[0.50666667]\n",
      " [0.        ]\n",
      " [0.50666667]\n",
      " [0.        ]]\n",
      "[[ 0.93066667  0.         -0.31866667  0.          0.50666667]\n",
      " [ 0.          1.          0.02        0.          0.        ]\n",
      " [ 0.04066667  0.          0.75133333  0.          0.50666667]\n",
      " [ 0.02        0.4         0.          1.          0.        ]]\n"
     ]
    }
   ],
   "source": [
    "A_aug = np.concatenate((Ad, Bd), axis=1)\n",
    "print(Ad)\n",
    "print(Bd)\n",
    "print(A_aug)"
   ]
  },
  {
   "cell_type": "code",
   "execution_count": 19,
   "metadata": {},
   "outputs": [
    {
     "ename": "TypeError",
     "evalue": "Cannot interpret '1' as a data type",
     "output_type": "error",
     "traceback": [
      "\u001b[1;31m---------------------------------------------------------------------------\u001b[0m",
      "\u001b[1;31mTypeError\u001b[0m                                 Traceback (most recent call last)",
      "\u001b[1;32m<ipython-input-19-5bc34918fa25>\u001b[0m in \u001b[0;36m<module>\u001b[1;34m\u001b[0m\n\u001b[1;32m----> 1\u001b[1;33m \u001b[0mnp\u001b[0m\u001b[1;33m.\u001b[0m\u001b[0midentity\u001b[0m\u001b[1;33m(\u001b[0m\u001b[1;36m4\u001b[0m\u001b[1;33m,\u001b[0m\u001b[1;36m1\u001b[0m\u001b[1;33m)\u001b[0m\u001b[1;33m\u001b[0m\u001b[1;33m\u001b[0m\u001b[0m\n\u001b[0m",
      "\u001b[1;32m~\\anaconda3\\lib\\site-packages\\numpy\\core\\numeric.py\u001b[0m in \u001b[0;36midentity\u001b[1;34m(n, dtype)\u001b[0m\n\u001b[0;32m   2112\u001b[0m     \"\"\"\n\u001b[0;32m   2113\u001b[0m     \u001b[1;32mfrom\u001b[0m \u001b[0mnumpy\u001b[0m \u001b[1;32mimport\u001b[0m \u001b[0meye\u001b[0m\u001b[1;33m\u001b[0m\u001b[1;33m\u001b[0m\u001b[0m\n\u001b[1;32m-> 2114\u001b[1;33m     \u001b[1;32mreturn\u001b[0m \u001b[0meye\u001b[0m\u001b[1;33m(\u001b[0m\u001b[0mn\u001b[0m\u001b[1;33m,\u001b[0m \u001b[0mdtype\u001b[0m\u001b[1;33m=\u001b[0m\u001b[0mdtype\u001b[0m\u001b[1;33m)\u001b[0m\u001b[1;33m\u001b[0m\u001b[1;33m\u001b[0m\u001b[0m\n\u001b[0m\u001b[0;32m   2115\u001b[0m \u001b[1;33m\u001b[0m\u001b[0m\n\u001b[0;32m   2116\u001b[0m \u001b[1;33m\u001b[0m\u001b[0m\n",
      "\u001b[1;32m~\\anaconda3\\lib\\site-packages\\numpy\\lib\\twodim_base.py\u001b[0m in \u001b[0;36meye\u001b[1;34m(N, M, k, dtype, order)\u001b[0m\n\u001b[0;32m    197\u001b[0m     \u001b[1;32mif\u001b[0m \u001b[0mM\u001b[0m \u001b[1;32mis\u001b[0m \u001b[1;32mNone\u001b[0m\u001b[1;33m:\u001b[0m\u001b[1;33m\u001b[0m\u001b[1;33m\u001b[0m\u001b[0m\n\u001b[0;32m    198\u001b[0m         \u001b[0mM\u001b[0m \u001b[1;33m=\u001b[0m \u001b[0mN\u001b[0m\u001b[1;33m\u001b[0m\u001b[1;33m\u001b[0m\u001b[0m\n\u001b[1;32m--> 199\u001b[1;33m     \u001b[0mm\u001b[0m \u001b[1;33m=\u001b[0m \u001b[0mzeros\u001b[0m\u001b[1;33m(\u001b[0m\u001b[1;33m(\u001b[0m\u001b[0mN\u001b[0m\u001b[1;33m,\u001b[0m \u001b[0mM\u001b[0m\u001b[1;33m)\u001b[0m\u001b[1;33m,\u001b[0m \u001b[0mdtype\u001b[0m\u001b[1;33m=\u001b[0m\u001b[0mdtype\u001b[0m\u001b[1;33m,\u001b[0m \u001b[0morder\u001b[0m\u001b[1;33m=\u001b[0m\u001b[0morder\u001b[0m\u001b[1;33m)\u001b[0m\u001b[1;33m\u001b[0m\u001b[1;33m\u001b[0m\u001b[0m\n\u001b[0m\u001b[0;32m    200\u001b[0m     \u001b[1;32mif\u001b[0m \u001b[0mk\u001b[0m \u001b[1;33m>=\u001b[0m \u001b[0mM\u001b[0m\u001b[1;33m:\u001b[0m\u001b[1;33m\u001b[0m\u001b[1;33m\u001b[0m\u001b[0m\n\u001b[0;32m    201\u001b[0m         \u001b[1;32mreturn\u001b[0m \u001b[0mm\u001b[0m\u001b[1;33m\u001b[0m\u001b[1;33m\u001b[0m\u001b[0m\n",
      "\u001b[1;31mTypeError\u001b[0m: Cannot interpret '1' as a data type"
     ]
    }
   ],
   "source": []
  },
  {
   "cell_type": "code",
   "execution_count": 20,
   "metadata": {},
   "outputs": [],
   "source": [
    "Ad = np.identity(np.size(A, 1)) + Ts * A"
   ]
  },
  {
   "cell_type": "code",
   "execution_count": 13,
   "metadata": {},
   "outputs": [
    {
     "data": {
      "text/plain": [
       "4"
      ]
     },
     "execution_count": 13,
     "metadata": {},
     "output_type": "execute_result"
    }
   ],
   "source": [
    "np.size(A,1)"
   ]
  },
  {
   "cell_type": "code",
   "execution_count": 29,
   "metadata": {},
   "outputs": [
    {
     "data": {
      "text/plain": [
       "array([[ 0, -1],\n",
       "       [ 1,  0]])"
      ]
     },
     "execution_count": 29,
     "metadata": {},
     "output_type": "execute_result"
    }
   ],
   "source": [
    "from numpy import linalg as LA\n",
    "i = np.array([[0, 1], \n",
    "              [-1, 0]]) # matrix equiv. of the imaginary unit\n",
    "LA.matrix_power(i, 3) # should = -i"
   ]
  },
  {
   "cell_type": "code",
   "execution_count": 27,
   "metadata": {},
   "outputs": [],
   "source": [
    "LA.matrix_power(np.matrix(i), 3) # matrix arg returns matrix"
   ]
  },
  {
   "cell_type": "code",
   "execution_count": 31,
   "metadata": {},
   "outputs": [
    {
     "data": {
      "text/plain": [
       "array([[1, 0],\n",
       "       [0, 1]])"
      ]
     },
     "execution_count": 31,
     "metadata": {},
     "output_type": "execute_result"
    }
   ],
   "source": [
    "LA.matrix_power(i, 0)"
   ]
  },
  {
   "cell_type": "code",
   "execution_count": 30,
   "metadata": {},
   "outputs": [
    {
     "data": {
      "text/plain": [
       "array([[ 0.,  1.],\n",
       "       [-1.,  0.]])"
      ]
     },
     "execution_count": 30,
     "metadata": {},
     "output_type": "execute_result"
    }
   ],
   "source": [
    "LA.matrix_power(i, -3) # should = 1/(-i) = i, but w/ f.p. elements"
   ]
  },
  {
   "cell_type": "code",
   "execution_count": 28,
   "metadata": {},
   "outputs": [
    {
     "data": {
      "text/plain": [
       "array([[-1.,  0.,  0.,  0.],\n",
       "       [ 0., -1.,  0.,  0.],\n",
       "       [ 0.,  0., -1.,  0.],\n",
       "       [ 0.,  0.,  0., -1.]])"
      ]
     },
     "execution_count": 28,
     "metadata": {},
     "output_type": "execute_result"
    }
   ],
   "source": [
    "#Somewhat more sophisticated example\n",
    "\n",
    "q = np.zeros((4, 4))\n",
    "q[0:2, 0:2] = -i\n",
    "q[2:4, 2:4] = i\n",
    "q # one of the three quarternion units not equal to 1\n",
    "\n",
    "LA.matrix_power(q, 2) # = -np.eye(4)"
   ]
  },
  {
   "cell_type": "code",
   "execution_count": 6,
   "metadata": {},
   "outputs": [],
   "source": [
    "import numpy as np\n",
    "import matplotlib.pyplot as plt\n",
    "x = np.arange(1,31,2)\n",
    "z = 2.5+x*0.5+np.random.randn(15)*0.5\n",
    "\n",
    "plt.gca(xlim=[0,31])\n",
    "plt.xlabel(u'เวลา (วัน)',fontname='Tahoma')\n",
    "plt.ylabel(u'ปริมาณอาหาร (กก.)',fontname='Tahoma')\n",
    "plt.scatter(x,z)\n",
    "plt.show()"
   ]
  },
  {
   "cell_type": "code",
   "execution_count": 21,
   "metadata": {},
   "outputs": [
    {
     "name": "stdout",
     "output_type": "stream",
     "text": [
      "[ 1  3  5  7  9 11 13 15 17 19 21 23 25 27 29] num x: 15 Types x: <class 'numpy.ndarray'> (15,)\n",
      "[ 1  3  5  7  9 11 13 15 17 19 21 23 25 27 29] num x: 15 Types z: <class 'numpy.ndarray'> (15,)\n"
     ]
    }
   ],
   "source": [
    "print(x,'num x:',len(x),'Types x:',type(x),x.shape)\n",
    "print(x,'num x:',len(x),'Types z:',type(z),z.shape)"
   ]
  },
  {
   "cell_type": "code",
   "execution_count": 23,
   "metadata": {},
   "outputs": [],
   "source": [
    "eta = 0.0002 # อัตราการเรียนรู้\n",
    "n_thamsam = 1000 # จำนวนครั้งที่ทำซ้ำเพื่อเรียนรู้\n",
    "w,b = 0,0 # น้ำหนักและไบแอสเริ่มต้น\n",
    "wi = [w] # ลิสต์บันทึกค่าน้ำหนักและไบแอส\n",
    "bi = [b]\n",
    "h = w*x+b # คำนวณคำตอบโดยใช้ w และ b ตอนแรก\n",
    "for i in range(n_thamsam):\n",
    "    w += 2*((z-h)*x).sum()*eta # ปรับค่าน้ำหนักและไบแอส\n",
    "    b += 2*(z-h).sum()*eta\n",
    "    wi += [w] #  บันทึกค่าน้ำหนักและไบแอสใหม่\n",
    "    bi += [b]\n",
    "    h = w*x+b # คำนวณคำตอบโดยใช้ค่า w และ b ใหม่"
   ]
  },
  {
   "cell_type": "code",
   "execution_count": 24,
   "metadata": {},
   "outputs": [
    {
     "data": {
      "image/png": "[encoded data removed]",
      "text/plain": [
       "<Figure size 432x288 with 1 Axes>"
      ]
     },
     "metadata": {
      "needs_background": "light"
     },
     "output_type": "display_data"
    }
   ],
   "source": [
    "plt.gca(xlim=[0,31])\n",
    "plt.xlabel(u'เวลา (วัน)',fontname='Tahoma')\n",
    "plt.ylabel(u'ปริมาณอาหาร (กก.)',fontname='Tahoma')\n",
    "plt.scatter(x,z)\n",
    "xsen = np.array([0,31])\n",
    "ysen = xsen*w+b\n",
    "plt.plot(xsen,ysen,'b')\n",
    "plt.show()"
   ]
  },
  {
   "cell_type": "code",
   "execution_count": 28,
   "metadata": {},
   "outputs": [
    {
     "name": "stdout",
     "output_type": "stream",
     "text": [
      "[ 1  3  5  7  9 11 13 15 17 19 21 23 25 27 29] <class 'numpy.ndarray'>\n"
     ]
    }
   ],
   "source": [
    "print(x,type(x))"
   ]
  },
  {
   "cell_type": "code",
   "execution_count": null,
   "metadata": {},
   "outputs": [],
   "source": [
    "print(z,type(x))"
   ]
  }
 ],
 "metadata": {
  "kernelspec": {
   "display_name": "Python 3",
   "language": "python",
   "name": "python3"
  },
  "language_info": {
   "codemirror_mode": {
    "name": "ipython",
    "version": 3
   },
   "file_extension": ".py",
   "mimetype": "text/x-python",
   "name": "python",
   "nbconvert_exporter": "python",
   "pygments_lexer": "ipython3",
   "version": "3.7.6"
  }
 },
 "nbformat": 4,
 "nbformat_minor": 4
}
