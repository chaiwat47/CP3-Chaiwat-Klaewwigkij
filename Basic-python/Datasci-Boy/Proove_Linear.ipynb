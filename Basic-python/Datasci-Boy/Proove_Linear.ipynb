{
 "cells": [
  {
   "cell_type": "markdown",
   "metadata": {},
   "source": [
    "# Linear Regression"
   ]
  },
  {
   "cell_type": "raw",
   "metadata": {},
   "source": []
  },
  {
   "cell_type": "code",
   "execution_count": 11,
   "metadata": {},
   "outputs": [
    {
     "name": "stdout",
     "output_type": "stream",
     "text": [
      "iterration 1 : w = 1 , b = 1\n",
      "Equation: h_pred = 1 *x +  1\n",
      "Error = 79\n",
      "iterration 2 : w = 2 , b = 2\n",
      "Equation: h_pred = 2 *x +  2\n",
      "Error = 58\n",
      "iterration 3 : w = 3 , b = 3\n",
      "Equation: h_pred = 3 *x +  3\n",
      "Error = 37\n",
      "iterration 4 : w = 4 , b = 4\n",
      "Equation: h_pred = 4 *x +  4\n",
      "Error = 16\n",
      "iterration 5 : w = 5 , b = 5\n",
      "Equation: h_pred = 5 *x +  5\n",
      "Error = -5\n"
     ]
    }
   ],
   "source": [
    "iteration = True # จำนวนครั้งที่ทำซ้ำ\n",
    "w,b = 0,0 # ค่าเริ่มต้นสำหรับ weight, bias\n",
    "wi = [w] # list เพื่อบันทึกค่าน้ำหนัก\n",
    "bi = [b] # list เพื่อบันทึกค่าbias\n",
    "x = 20\n",
    "h_pred = w*x+b # คำนวนคำตอบโดยใช้ w และ b เริ่มต้น\n",
    "h_actual = 100\n",
    "i = 0\n",
    "while iteration == True:\n",
    "    error = h_actual - h_pred\n",
    "    if error>0:\n",
    "        w += 1\n",
    "        b += 1\n",
    "        wi += [w]\n",
    "        bi += [b]\n",
    "        h_pred = w*x+b\n",
    "        error = h_actual - h_pred\n",
    "        print('iterration',i+1,':','w =',w,',','b =',b)\n",
    "        print('Equation:','h_pred =',w,'*x + ',b)\n",
    "        print('Error =', error)\n",
    "        i+=1\n",
    "    else:\n",
    "        iteration = False\n",
    "        \n"
   ]
  },
  {
   "cell_type": "code",
   "execution_count": 12,
   "metadata": {},
   "outputs": [
    {
     "name": "stdout",
     "output_type": "stream",
     "text": [
      "[0, 1, 2, 3, 4, 5]\n",
      "-5\n"
     ]
    }
   ],
   "source": [
    "print(wi)\n",
    "print(error)"
   ]
  },
  {
   "cell_type": "markdown",
   "metadata": {},
   "source": [
    "## Linear regression from gradient descent"
   ]
  },
  {
   "cell_type": "code",
   "execution_count": 34,
   "metadata": {},
   "outputs": [],
   "source": [
    "eta = 0.1 # learning rate\n",
    "iteration = 5 # รอบทำซ้ำ\n",
    "w, b = 0, 0 # initialize\n",
    "wi = [w] # lsit weight\n",
    "bi = [b] # list bias\n",
    "x = 2\n",
    "\n",
    "h_pred = w*x + b\n",
    "h_actual = 5\n",
    "error = h_actual-h_pred\n",
    "errori = [error]\n",
    "\n",
    "for i in range(iteration):\n",
    "    w  += 2*eta*(h_actual-h_pred)*x \n",
    "    b  += 2*eta*(h_actual-h_pred)\n",
    "    error = h_actual-h_pred\n",
    "    errori += [error]\n",
    "    wi += [w]\n",
    "    bi += [b]\n",
    "    h_pred   = w*x+b\n"
   ]
  },
  {
   "cell_type": "code",
   "execution_count": 35,
   "metadata": {},
   "outputs": [
    {
     "name": "stdout",
     "output_type": "stream",
     "text": [
      "weight: [0, 2.0, 2.0, 2.0, 2.0, 2.0]\n",
      "bias: [0, 1.0, 1.0, 1.0, 1.0, 1.0]\n",
      "error: [5, 5, 0.0, 0.0, 0.0, 0.0]\n",
      "x = 2 , h_actual = 5\n",
      "Equation: h_pred = 2.0 *x +  1.0\n"
     ]
    }
   ],
   "source": [
    "print('weight:',wi)\n",
    "print('bias:',bi)\n",
    "print('error:',errori)\n",
    "print('x =',x,', h_actual =',h_actual)\n",
    "print('Equation:','h_pred =',w,'*x + ',b)"
   ]
  },
  {
   "cell_type": "code",
   "execution_count": 38,
   "metadata": {},
   "outputs": [
    {
     "data": {
      "image/png": "[encoded data removed]",
      "text/plain": [
       "<Figure size 432x288 with 1 Axes>"
      ]
     },
     "metadata": {
      "needs_background": "light"
     },
     "output_type": "display_data"
    }
   ],
   "source": [
    "# สร้างข้อมูลสมมติ\n",
    "import numpy as np\n",
    "import matplotlib.pyplot as plt\n",
    "import pandas as pd\n",
    "\n",
    "df = pd.read_csv('data/advetising.csv',usecols=['TV'])\n",
    "df.head\n",
    "x = np.arange(1,31,2)\n",
    "z = 2.5+x*0.5+np.random.randn(15)*0.5\n",
    "plt.gca(xlim=[0,31])\n",
    "plt.xlabel(u'เวลา (วัน)',fontname='Tahoma')\n",
    "plt.ylabel(u'ปริมาณอาหาร (กก.)',fontname='Tahoma')\n",
    "plt.scatter(x,z)\n",
    "plt.show()"
   ]
  },
  {
   "cell_type": "code",
   "execution_count": 39,
   "metadata": {},
   "outputs": [],
   "source": [
    "eta = 0.0002 # อัตราการเรียนรู้\n",
    "n_thamsam = 10000 # จำนวนครั้งที่ทำซ้ำเพื่อเรียนรู้\n",
    "w,b = 0,0 # น้ำหนักและไบแอสเริ่มต้น\n",
    "wi = [w] # ลิสต์บันทึกค่าน้ำหนักและไบแอส\n",
    "bi = [b]\n",
    "h = w*x+b # คำนวณคำตอบโดยใช้ w และ b ตอนแรก\n",
    "for i in range(n_thamsam):\n",
    "    w += 2*((z-h)*x).sum()*eta # ปรับค่าน้ำหนักและไบแอส\n",
    "    b += 2*(z-h).sum()*eta\n",
    "    wi += [w] #  บันทึกค่าน้ำหนักและไบแอสใหม่\n",
    "    bi += [b]\n",
    "    h = w*x+b # คำนวณคำตอบโดยใช้ค่า w และ b ใหม่"
   ]
  },
  {
   "cell_type": "code",
   "execution_count": 40,
   "metadata": {},
   "outputs": [
    {
     "data": {
      "image/png": "[encoded data removed]",
      "text/plain": [
       "<Figure size 432x288 with 1 Axes>"
      ]
     },
     "metadata": {
      "needs_background": "light"
     },
     "output_type": "display_data"
    }
   ],
   "source": [
    "plt.gca(xlim=[0,31])\n",
    "plt.xlabel(u'เวลา (วัน)',fontname='Tahoma')\n",
    "plt.ylabel(u'ปริมาณอาหาร (กก.)',fontname='Tahoma')\n",
    "plt.scatter(x,z)\n",
    "xsen = np.array([0,31])\n",
    "ysen = xsen*w+b\n",
    "plt.plot(xsen,ysen,'b')\n",
    "plt.show()"
   ]
  },
  {
   "cell_type": "code",
   "execution_count": null,
   "metadata": {},
   "outputs": [],
   "source": []
  }
 ],
 "metadata": {
  "kernelspec": {
   "display_name": "Python 3",
   "language": "python",
   "name": "python3"
  },
  "language_info": {
   "codemirror_mode": {
    "name": "ipython",
    "version": 3
   },
   "file_extension": ".py",
   "mimetype": "text/x-python",
   "name": "python",
   "nbconvert_exporter": "python",
   "pygments_lexer": "ipython3",
   "version": "3.7.6"
  }
 },
 "nbformat": 4,
 "nbformat_minor": 4
}
