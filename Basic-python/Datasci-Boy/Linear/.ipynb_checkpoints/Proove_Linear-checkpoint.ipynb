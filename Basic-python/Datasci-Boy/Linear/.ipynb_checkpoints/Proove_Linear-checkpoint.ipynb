{
 "cells": [
  {
   "cell_type": "markdown",
   "metadata": {},
   "source": [
    "# Linear Regression"
   ]
  },
  {
   "cell_type": "markdown",
   "metadata": {},
   "source": [
    "### คำนวนแบบดั้งเดิม"
   ]
  },
  {
   "cell_type": "code",
   "execution_count": 11,
   "metadata": {},
   "outputs": [
    {
     "name": "stdout",
     "output_type": "stream",
     "text": [
      "iterration 1 : w = 1 , b = 1\n",
      "Equation: h_pred = 1 *x +  1\n",
      "Error = 79\n",
      "iterration 2 : w = 2 , b = 2\n",
      "Equation: h_pred = 2 *x +  2\n",
      "Error = 58\n",
      "iterration 3 : w = 3 , b = 3\n",
      "Equation: h_pred = 3 *x +  3\n",
      "Error = 37\n",
      "iterration 4 : w = 4 , b = 4\n",
      "Equation: h_pred = 4 *x +  4\n",
      "Error = 16\n",
      "iterration 5 : w = 5 , b = 5\n",
      "Equation: h_pred = 5 *x +  5\n",
      "Error = -5\n"
     ]
    }
   ],
   "source": [
    "iteration = True # จำนวนครั้งที่ทำซ้ำ\n",
    "w,b = 0,0 # ค่าเริ่มต้นสำหรับ weight, bias\n",
    "wi = [w] # list เพื่อบันทึกค่าน้ำหนัก\n",
    "bi = [b] # list เพื่อบันทึกค่าbias\n",
    "x = 20\n",
    "h_pred = w*x+b # คำนวนคำตอบโดยใช้ w และ b เริ่มต้น\n",
    "h_actual = 100\n",
    "i = 0\n",
    "while iteration == True:\n",
    "    error = h_actual - h_pred\n",
    "    if error>0:\n",
    "        w += 1\n",
    "        b += 1\n",
    "        wi += [w]\n",
    "        bi += [b]\n",
    "        h_pred = w*x+b\n",
    "        error = h_actual - h_pred\n",
    "        print('iterration',i+1,':','w =',w,',','b =',b)\n",
    "        print('Equation:','h_pred =',w,'*x + ',b)\n",
    "        print('Error =', error)\n",
    "        i+=1\n",
    "    else:\n",
    "        iteration = False\n",
    "        \n"
   ]
  },
  {
   "cell_type": "code",
   "execution_count": 12,
   "metadata": {},
   "outputs": [
    {
     "name": "stdout",
     "output_type": "stream",
     "text": [
      "[0, 1, 2, 3, 4, 5]\n",
      "-5\n"
     ]
    }
   ],
   "source": [
    "print(wi)\n",
    "print(error)"
   ]
  },
  {
   "cell_type": "markdown",
   "metadata": {},
   "source": [
    "# Linear regression from gradient descent"
   ]
  },
  {
   "cell_type": "markdown",
   "metadata": {},
   "source": [
    "### สำหรับข้อมูลจุดเดียว"
   ]
  },
  {
   "cell_type": "code",
   "execution_count": 34,
   "metadata": {},
   "outputs": [],
   "source": [
    "eta = 0.1 # learning rate\n",
    "iteration = 5 # รอบทำซ้ำ\n",
    "w, b = 0, 0 # initialize\n",
    "wi = [w] # lsit weight\n",
    "bi = [b] # list bias\n",
    "x = 2\n",
    "\n",
    "h_pred = w*x + b\n",
    "h_actual = 5\n",
    "error = h_actual-h_pred\n",
    "errori = [error]\n",
    "\n",
    "for i in range(iteration):\n",
    "    w  += 2*eta*(h_actual-h_pred)*x \n",
    "    b  += 2*eta*(h_actual-h_pred)\n",
    "    error = h_actual-h_pred\n",
    "    errori += [error]\n",
    "    wi += [w]\n",
    "    bi += [b]\n",
    "    h_pred   = w*x+b"
   ]
  },
  {
   "cell_type": "code",
   "execution_count": 35,
   "metadata": {},
   "outputs": [
    {
     "name": "stdout",
     "output_type": "stream",
     "text": [
      "weight: [0, 2.0, 2.0, 2.0, 2.0, 2.0]\n",
      "bias: [0, 1.0, 1.0, 1.0, 1.0, 1.0]\n",
      "error: [5, 5, 0.0, 0.0, 0.0, 0.0]\n",
      "x = 2 , h_actual = 5\n",
      "Equation: h_pred = 2.0 *x +  1.0\n"
     ]
    }
   ],
   "source": [
    "print('weight:',wi)\n",
    "print('bias:',bi)\n",
    "print('error:',errori)\n",
    "print('x =',x,', h_actual =',h_actual)\n",
    "print('Equation:','h_pred =',w,'*x + ',b)"
   ]
  },
  {
   "cell_type": "markdown",
   "metadata": {},
   "source": [
    "### สำหรับข้อมูลหลายจุด"
   ]
  },
  {
   "cell_type": "code",
   "execution_count": 344,
   "metadata": {},
   "outputs": [
    {
     "data": {
      "image/png": "[encoded data removed]",
      "text/plain": [
       "<Figure size 432x288 with 1 Axes>"
      ]
     },
     "metadata": {
      "needs_background": "light"
     },
     "output_type": "display_data"
    }
   ],
   "source": [
    "# ดึงข้อมูลการเกิด corona virus 19 (covid-19)\n",
    "import numpy as np\n",
    "import matplotlib.pyplot as plt\n",
    "import pandas as pd\n",
    "\n",
    "df = pd.read_csv('data/covid19.csv')\n",
    "df = df[(df.index >= 67)]\n",
    "df.head()\n",
    "x = df.index.values\n",
    "z = df.newcase.values\n",
    "\n",
    "# plot graph ข้อมูล covid-19\n",
    "plt.gca(xlim=[65,83])\n",
    "plt.xlabel(u'Time(days)',fontname='Tahoma')\n",
    "plt.ylabel(u'newcase',fontname='Tahoma')\n",
    "plt.scatter(x,z)\n",
    "plt.show()"
   ]
  },
  {
   "cell_type": "code",
   "execution_count": 345,
   "metadata": {},
   "outputs": [
    {
     "name": "stdout",
     "output_type": "stream",
     "text": [
      "[67 68 69 70 71 72 73 74 75 76 77 78 79 80 81] num x: 15 Types x: <class 'numpy.ndarray'> (15,)\n",
      "[  0   0   3   6  11   5   7  32  33  30  35  60  50  89 188] num z: 15 Types z: <class 'numpy.ndarray'> (15,)\n"
     ]
    }
   ],
   "source": [
    "print(x,'num x:',len(x),'Types x:',type(x),x.shape)\n",
    "print(z,'num z:',len(z),'Types z:',type(z),z.shape)"
   ]
  },
  {
   "cell_type": "code",
   "execution_count": 346,
   "metadata": {},
   "outputs": [],
   "source": [
    "# Algorithm for find weight, bias\n",
    "eta = 0.00001 # อัตราการเรียนรู้\n",
    "n_thamsam = 1000 # จำนวนครั้งที่ทำซ้ำเพื่อเรียนรู้\n",
    "w,b = 0,0 # น้ำหนักและไบแอสเริ่มต้น\n",
    "wi = [w] # ลิสต์บันทึกค่าน้ำหนักและไบแอส\n",
    "bi = [b]\n",
    "h = w*x+b # คำนวณคำตอบโดยใช้ w และ b ตอนแรก\n",
    "for i in range(n_thamsam):\n",
    "    w += 2*(((z-h))*x).sum()*eta # ปรับค่าน้ำหนักและไบแอส\n",
    "    b += 2*(z-h).sum()*eta\n",
    "    wi += [w] #  บันทึกค่าน้ำหนักและไบแอสใหม่\n",
    "    bi += [b]\n",
    "    h = w*x+b # คำนวณคำตอบโดยใช้ค่า w และ b ใหม่"
   ]
  },
  {
   "cell_type": "code",
   "execution_count": 348,
   "metadata": {},
   "outputs": [
    {
     "name": "stdout",
     "output_type": "stream",
     "text": [
      "[66 82]\n"
     ]
    },
    {
     "data": {
      "image/png": "[encoded data removed]",
      "text/plain": [
       "<Figure size 432x288 with 1 Axes>"
      ]
     },
     "metadata": {
      "needs_background": "light"
     },
     "output_type": "display_data"
    }
   ],
   "source": [
    "plt.gca(xlim=[65,83])\n",
    "plt.title('COVID-19')\n",
    "plt.xlabel(u'Time (days)',fontname='Tahoma')\n",
    "plt.ylabel(u'newcase ',fontname='Tahoma')\n",
    "plt.scatter(x,z)\n",
    "x_tendline = np.array([66,82])\n",
    "print(x_tendline)\n",
    "y_tendline = x_tendline*w+b\n",
    "plt.plot(x_tendline,y_tendline,'b')\n",
    "plt.show()"
   ]
  },
  {
   "cell_type": "code",
   "execution_count": 350,
   "metadata": {},
   "outputs": [
    {
     "name": "stdout",
     "output_type": "stream",
     "text": [
      "ทำซ้ำไป 999 ครั้ง dw=8.372e-06, db=-6.216e-04\n"
     ]
    }
   ],
   "source": [
    "eta = 0.00001\n",
    "n_thamsam = 1000\n",
    "d_yut = 1e-7 # ค่าความเปลี่ยนแปลงน้ำหนักและไบแอสสูงสุดที่จะให้หยุดได้\n",
    "w,b = 0,0\n",
    "h = w*x+b\n",
    "for i in range(n_thamsam):\n",
    "    dw = 2*((z-h)*x).sum()*eta\n",
    "    db = 2*(z-h).sum()*eta\n",
    "    w += dw\n",
    "    b += db\n",
    "    h = w*x+b\n",
    "    if(np.abs(dw)and np.abs(db)<d_yut):\n",
    "        break # หยุดเมื่อทั้ง dw และ db ต่ำกว่า d_yut\n",
    "\n",
    "print('ทำซ้ำไป %d ครั้ง dw=%.3e, db=%.3e'%(i,dw,db))\n",
    "# ทำซ้ำไป 999 ครั้ง dw=8.372e-06, db=-6.216e-04"
   ]
  },
  {
   "cell_type": "code",
   "execution_count": 352,
   "metadata": {},
   "outputs": [
    {
     "data": {
      "image/png": "[encoded data removed]",
      "text/plain": [
       "<Figure size 432x288 with 1 Axes>"
      ]
     },
     "metadata": {
      "needs_background": "light"
     },
     "output_type": "display_data"
    }
   ],
   "source": [
    "# ดึงข้อมูลการเกิด corona virus 19 (covid-19)\n",
    "import numpy as np\n",
    "import matplotlib.pyplot as plt\n",
    "import pandas as pd\n",
    "\n",
    "\n",
    "\n",
    "x = np.arange(1,4,1)\n",
    "z = np.array([3,6,8])\n",
    "\n",
    "# plot graph ข้อมูล covid-19\n",
    "plt.gca(xlim=[0,5])\n",
    "plt.xlabel(u'Time(days)',fontname='Tahoma')\n",
    "plt.ylabel(u'newcase',fontname='Tahoma')\n",
    "plt.scatter(x,z)\n",
    "plt.show()"
   ]
  },
  {
   "cell_type": "code",
   "execution_count": 353,
   "metadata": {},
   "outputs": [
    {
     "name": "stdout",
     "output_type": "stream",
     "text": [
      "[0 0 0]\n",
      "[2.91709331 4.95368118 6.99026905]\n",
      "[0, 0.78, 1.3008000000000002, 1.6486560000000001, 1.8811190400000002, 2.036587872]\n"
     ]
    }
   ],
   "source": [
    "eta = 0.01 # อัตราการเรียนรู้\n",
    "n_iteration = 5 # จำนวนครั้งที่ทำซ้ำเพื่อเรียนรู้\n",
    "w,b = 0,0 # น้ำหนักและไบแอสเริ่มต้น\n",
    "wi = [w] # ลิสต์บันทึกค่าน้ำหนักและไบแอส\n",
    "bi = [b]\n",
    "h = w*x+b # คำนวณคำตอบโดยใช้ w และ b ตอนแรก\n",
    "print(h)\n",
    "for i in range(n_iteration):\n",
    "    w += 2*((z-h)*x).sum()*eta # ปรับค่าน้ำหนักและไบแอส\n",
    "    b += 2*(z-h).sum()*eta\n",
    "    wi += [w] #  บันทึกค่าน้ำหนักและไบแอสใหม่\n",
    "    bi += [b]\n",
    "    h = w*x+b # คำนวณคำตอบโดยใช้ค่า w และ b ใหม่\n",
    "print(h)\n",
    "print(wi)"
   ]
  },
  {
   "cell_type": "code",
   "execution_count": 354,
   "metadata": {},
   "outputs": [
    {
     "name": "stdout",
     "output_type": "stream",
     "text": [
      "[0 4]\n"
     ]
    },
    {
     "data": {
      "image/png": "[encoded data removed]",
      "text/plain": [
       "<Figure size 432x288 with 1 Axes>"
      ]
     },
     "metadata": {
      "needs_background": "light"
     },
     "output_type": "display_data"
    }
   ],
   "source": [
    "plt.gca(xlim=[0,4])\n",
    "plt.title('Series')\n",
    "plt.xlabel(u'Time (days)',fontname='Tahoma')\n",
    "plt.ylabel(u'Num ',fontname='Tahoma')\n",
    "plt.scatter(x,z)\n",
    "x_tendline = np.array([0,4])\n",
    "print(x_tendline)\n",
    "y_tendline = x_tendline*w+b\n",
    "plt.plot(x_tendline,y_tendline,'b')\n",
    "plt.show()"
   ]
  },
  {
   "cell_type": "code",
   "execution_count": 381,
   "metadata": {},
   "outputs": [
    {
     "name": "stdout",
     "output_type": "stream",
     "text": [
      "0.78\n",
      "0.5208\n",
      "0.34785599999999994\n",
      "0.23246303999999995\n",
      "0.1554688319999999\n",
      "0.10409474342399996\n",
      "0.06981471976703996\n",
      "0.04694007676922882\n",
      "0.03167525706323253\n",
      "0.021487819873028845\n",
      "ทำซ้ำไป 9 ครั้ง dw=2.149e-02, db=6.526e-03\n"
     ]
    }
   ],
   "source": [
    "eta = 0.01\n",
    "n_thamsam = 500\n",
    "d_epsilon = 1e-2 # ค่าความเปลี่ยนแปลงน้ำหนักและไบแอสสูงสุดที่จะให้หยุดได้\n",
    "w,b = 0,0\n",
    "h = w*x+b\n",
    "for i in range(n_thamsam):\n",
    "    dw = 2*((z-h)*x).sum()*eta\n",
    "    db = 2*(z-h).sum()*eta\n",
    "    w += dw\n",
    "    print(dw)\n",
    "    b += db\n",
    "    h = w*x+b\n",
    "    if(np.abs(dw)and np.abs(db)<d_epsilon):\n",
    "        break # หยุดเมื่อทั้ง dw และ db ต่ำกว่า d_yut\n",
    "\n",
    "print('ทำซ้ำไป %d ครั้ง dw=%.3e, db=%.3e'%(i,dw,db))\n",
    "# ทำซ้ำไป 9 ครั้ง dw=2.149e-02, db=6.526e-03"
   ]
  },
  {
   "cell_type": "code",
   "execution_count": 367,
   "metadata": {},
   "outputs": [
    {
     "name": "stdout",
     "output_type": "stream",
     "text": [
      "[0 4]\n"
     ]
    },
    {
     "data": {
      "image/png": "[encoded data removed]",
      "text/plain": [
       "<Figure size 432x288 with 1 Axes>"
      ]
     },
     "metadata": {
      "needs_background": "light"
     },
     "output_type": "display_data"
    }
   ],
   "source": [
    "plt.gca(xlim=[0,4])\n",
    "plt.title('Series')\n",
    "plt.xlabel(u'Time (days)',fontname='Tahoma')\n",
    "plt.ylabel(u'Num ',fontname='Tahoma')\n",
    "plt.scatter(x,z)\n",
    "x_tendline = np.array([0,4])\n",
    "print(x_tendline)\n",
    "y_tendline = x_tendline*w+b\n",
    "plt.plot(x_tendline,y_tendline,'b')\n",
    "plt.show()"
   ]
  },
  {
   "cell_type": "code",
   "execution_count": 369,
   "metadata": {},
   "outputs": [
    {
     "name": "stdout",
     "output_type": "stream",
     "text": [
      "[0, 0.78, 1.3008000000000002, 1.6486560000000001, 1.8811190400000002, 2.036587872]\n",
      "[0, 0.34, 0.5660000000000001, 0.715944, 0.81514864, 0.8805054367999999]\n"
     ]
    }
   ],
   "source": [
    "print(wi)\n",
    "print(bi)"
   ]
  },
  {
   "cell_type": "code",
   "execution_count": 389,
   "metadata": {},
   "outputs": [
    {
     "name": "stdout",
     "output_type": "stream",
     "text": [
      "0.22600000000000003\n"
     ]
    }
   ],
   "source": [
    "print(0.5660000000000001-0.34)"
   ]
  },
  {
   "cell_type": "code",
   "execution_count": 387,
   "metadata": {},
   "outputs": [
    {
     "name": "stdout",
     "output_type": "stream",
     "text": [
      "0.5208\n"
     ]
    }
   ],
   "source": [
    "h_1 = 0.78*1+0.34\n",
    "h_2 = 0.78*2+0.34\n",
    "h_3 = 0.78*3+0.34\n",
    "h1 = 3\n",
    "h2 = 6\n",
    "h3 = 8\n",
    "\n",
    "dw = 2*eta*((h1-h_1)*1+(h2-h_2)*2+(h3-h_3)*3)\n",
    "print(dw)"
   ]
  },
  {
   "cell_type": "code",
   "execution_count": 377,
   "metadata": {},
   "outputs": [
    {
     "name": "stdout",
     "output_type": "stream",
     "text": [
      "0.8608\n"
     ]
    }
   ],
   "source": [
    "print(dt_w+0.78)"
   ]
  },
  {
   "cell_type": "code",
   "execution_count": 378,
   "metadata": {},
   "outputs": [
    {
     "data": {
      "text/plain": [
       "4.04"
      ]
     },
     "execution_count": 378,
     "metadata": {},
     "output_type": "execute_result"
    }
   ],
   "source": [
    "(3-(0.78*1+0.34))*1+(6-(0.78*2+3.34))*2+(8-(0.78*3+0.34)*3) "
   ]
  },
  {
   "cell_type": "code",
   "execution_count": null,
   "metadata": {},
   "outputs": [],
   "source": []
  }
 ],
 "metadata": {
  "kernelspec": {
   "display_name": "Python 3",
   "language": "python",
   "name": "python3"
  },
  "language_info": {
   "codemirror_mode": {
    "name": "ipython",
    "version": 3
   },
   "file_extension": ".py",
   "mimetype": "text/x-python",
   "name": "python",
   "nbconvert_exporter": "python",
   "pygments_lexer": "ipython3",
   "version": "3.7.6"
  }
 },
 "nbformat": 4,
 "nbformat_minor": 4
}
