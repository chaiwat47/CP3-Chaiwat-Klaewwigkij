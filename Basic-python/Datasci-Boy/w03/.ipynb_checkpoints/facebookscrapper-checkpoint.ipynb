{
 "cells": [
  {
   "cell_type": "code",
   "execution_count": 3,
   "metadata": {},
   "outputs": [],
   "source": [
    "from facebook_scraper import get_posts"
   ]
  },
  {
   "cell_type": "code",
   "execution_count": 8,
   "metadata": {},
   "outputs": [
    {
     "name": "stdout",
     "output_type": "stream",
     "text": [
      "{'post_id': '10156877900256432', 'text': '🥩BEST BEEF🥓 สามารถสั่งอาหาร ทั้งแบบ Take-Out และ Delivery ด้วยโปรดีๆ ในราคาคุ้มๆ กับเมนูสุดยอดเนื้อกลับไปทานที่บ้านกันได้เลยจร้า🤤 #กินที่ร้านก็คุ้ม #กินที่บ้านก็อิ่ม #จ่ายในราคาที่ยิ้มได้ #ถูกกว่าไปซื้อเองที่ตลาด #ก็ที่BESTBEEFนี่แหละ 😁\\n\\nBEST BEEF เปิดบริการ ทั้ง 3 สาขา #เบสท์บีฟสุขุมวิท #เบสท์บีฟศรีนครินทร์ #เบสท์บีฟบางแค\\n\\n▪มีบริการส่งอาหารอย่าง Line Man, Foodpanda และ QueQ.\\n\\n🛵: Delivery ผ่านแอพพิเคชั่น QueQ ได้แล้วที่:\\n\\nhttps://bit.ly/347tbb0\\n\\n** ระยะทางไม่เกิน 10 กม. ค่าส่งเพียง 20 บาท **\\n\\n🛵: LineMan พร้อม Delivery แล้ว\\n** สั่งผ่าน LINEMAN แบบชุดกลับบ้าน 1 ชุด แถมฟรีเพิ่มอีก 1 ถาด**\\n\\n▪- สาขาสุขุมวิท ☎️ 091-626-9894\\nhttps://wongn.ai/y2d5q\\n\\n▪- สาขาศรีนครินทร์ ☎️ 097-245-1818\\nhttps://wongn.ai/beysv\\n\\n▪- สาขาบางแค ☎️ 097-245-8051\\nhttps://wongn.ai/fjgzy\\n\\n▪สอบถามรายละเอียดเพิ่มเติมได้ที่\\n☎️ 093-4282495\\nLine: @bestbeef\\n\\n#takeout #takeaway #delivery #bangkok #bestbeefsukhumvit #bestbeefbangkhae #bestbeefsrinakarin #LINEMAN #FOODPANDA #QUEQ', 'post_text': '🥩BEST BEEF🥓 สามารถสั่งอาหาร ทั้งแบบ Take-Out และ Delivery ด้วยโปรดีๆ ในราคาคุ้มๆ กับเมนูสุดยอดเนื้อกลับไปทานที่บ้านกันได้เลยจร้า🤤 #กินที่ร้านก็คุ้ม #กินที่บ้านก็อิ่ม #จ่ายในราคาที่ยิ้มได้ #ถูกกว่าไปซื้อเองที่ตลาด #ก็ที่BESTBEEFนี่แหละ 😁\\n\\nBEST BEEF เปิดบริการ ทั้ง 3 สาขา #เบสท์บีฟสุขุมวิท #เบสท์บีฟศรีนครินทร์ #เบสท์บีฟบางแค\\n\\n▪มีบริการส่งอาหารอย่าง Line Man, Foodpanda และ QueQ.\\n\\n🛵: Delivery ผ่านแอพพิเคชั่น QueQ ได้แล้วที่:\\n\\nhttps://bit.ly/347tbb0\\n\\n** ระยะทางไม่เกิน 10 กม. ค่าส่งเพียง 20 บาท **\\n\\n🛵: LineMan พร้อม Delivery แล้ว\\n** สั่งผ่าน LINEMAN แบบชุดกลับบ้าน 1 ชุด แถมฟรีเพิ่มอีก 1 ถาด**\\n\\n▪- สาขาสุขุมวิท ☎️ 091-626-9894\\nhttps://wongn.ai/y2d5q\\n\\n▪- สาขาศรีนครินทร์ ☎️ 097-245-1818\\nhttps://wongn.ai/beysv\\n\\n▪- สาขาบางแค ☎️ 097-245-8051\\nhttps://wongn.ai/fjgzy\\n\\n▪สอบถามรายละเอียดเพิ่มเติมได้ที่\\n☎️ 093-4282495\\nLine: @bestbeef\\n\\n#takeout #takeaway #delivery #bangkok #bestbeefsukhumvit #bestbeefbangkhae #bestbeefsrinakarin #LINEMAN #FOODPANDA #QUEQ', 'shared_text': '', 'time': None, 'image': None, 'video': 'https://scontent.fbkk5-6.fna.fbcdn.net/v/t42.9040-4/97351726_243392480431902_3199154528419053568_n.mp4?_nc_cat=101&ccb=2&_nc_sid=985c63&efg=eyJ2ZW5jb2RlX3RhZyI6ImxlZ2FjeV9zZCJ9&_nc_ohc=zeVaD86_6UAAX_Zj5-v&_nc_ht=scontent.fbkk5-6.fna&oh=d0a2db16293fb4e80bcc5a783d678866&oe=5FA3CF30', 'video_thumbnail': 'https://scontent.fbkk5-5.fna.fbcdn.net/v/t15.5256-10/cp0/e15/q65/s320x320/100668420_596606617640853_1259843444130447360_n.jpg?_nc_cat=104&ccb=2&_nc_sid=ccf8b3&_nc_ohc=kBvdnhnd9rwAX_CY_Ll&_nc_ht=scontent.fbkk5-5.fna&oh=f46d9d742a19ea18d6c320cce40920dc&oe=5FC835F1', 'video_id': '596606250974223', 'likes': 2297, 'comments': 94, 'shares': 0, 'post_url': 'https://facebook.com/watch?v=596606250974223', 'link': 'https://bit.ly/347tbb0', 'user_id': '297696876431', 'images': []}\n",
      "{'post_id': '10157249625096432', 'text': 'หนาวนี้ไม่ต้องกลัวเหงา..เพราะหอยนางรมของเรา จะช่วยแก้เหงาและลดซึมเศร้าได้ 😄🌨😄 #เมนูพิเศษประจำเดือนพฤศจิกายน บุฟเฟต์ราคาเดิม299บ. เพิ่มเติมเมนูพิเศษประจำเดือน #หอยนางรมสดเกาหลี (Korean Oyster) #หมูสามชั้นคุโรบูตะ (Kurobuta) #ไข่ปลาหมึก\\n\\nเบสท์บีฟ #BESTBEEF ปัจจุบันร้านมีให้บริการ 3 สาขาแล้ววน๊าาา มาได้ทั้ง #สุขุมวิท #ศรีนครินทร์ #บางแค เรามีทั้งแบบบุฟเฟต์(Buffet) และไม่ใช่บุฟเฟต์(a la carte) พร้อมให้บริการทั้ง 3 สาขาเลย #ที่สุดของเนื้อดีในราคาที่ถูกใจ 😁\\n\\n#เบสท์บีฟสุขุมวิท #เบสท์บีฟศรีนครินทร์ #เบสท์บีฟบางแค #มีทั้งแบบบุฟเฟต์และไม่ใช่บุฟเฟต์ให้บริการครับ\\n\\nบุฟเฟต์ราคา 299 บาท(ยังไม่รวมเครื่องดื่ม) สามารถสั่งอาหารได้ในเวลา 2 ชม. (บุฟเฟต์ราคา 369 บาท รวมอาหารและเครื่องดื่ม) เมนูพร้อมเสริฟ #เนื้อหนอก #เนื้อลูกมะพร้าว #เนื้อน่องลาย #เนื้อเสือร้องไห้ #ลิ้นเนื้อ #เนื้อใบพาย #เนื้อเสือร้องไห้Aus. #เนื้อสันคอAus. #หมูหมัก #หมูสไลด์ #ตับหมู #ลิ้นหมู #ไก่หมัก #กุ้ง #ปลาดอลี่ #ปลาหมึก #หอยเชลล์ และ #ฟรีเมนูเพิ่มพิเศษประจำเดือน 🍽🍽🍽\\n\\nBEST BEEF #BarBQ Buffet for 299 Baht in 2 hours. #AllYouCanEat We serve Beef, Chicken, Pork, Ham, Shrimp, Squid, Fish, Scallop and Vegetable.\\n\\n🕰 ร้านเปิดให้บริการทุกวัน\\nจันทร์-ศุกร์ เวลา 15.00-24.00น.\\nเสาร์-อาทิตย์ เวลา 11.00-24.00น.\\n**ปิดรับลูกค้า 23.00น.\\n**ครัวปิด 23.30น.\\n\\nสั่ง Delivery ได้ที่ https://www.wongnai.com/chains/best-beef\\n\\n☎️ โทรจองโต๊ะได้ที่\\n📍 สาขาสุขุมวิท (สุขุมวิท-อ่อนนุช)\\nTel: 091-6269894\\n📍 สาขาศรีนครินทร์ (ซอยศรีด่าน22)\\nTel: 097-2451818\\n📍 สาขาบางแค (MRTสถานีบางแค)\\nTel: 097-2458051\\n\\nหรือสามารถจองผ่าน\\nLine: @bestbeef หรือทาง Facebook\\n\\nหลัง 16.00น. สามารถจองคิวผ่านแอพพิเคชั่น QueQ ได้เลยครับ\\n\\n💳 รับชำระด้วยบัตร VISA และ Master\\n\\n🏢 #เบสท์บีฟ สาขาสุขุมวิท ที่ตั้งร้านอยู่เลขที่ 1490/2 ถนนสุขุวิท บนถนนสุขุมวิท ตรงข้ามทางเข้าซอยอ่อนนุช. 🚝 มา BTS อยู่ระหว่างสถานี BTS พระโขนงและอ่อนนุช ลงBTSสถานีอ่อนนุชสะดวกที่สุด #มีที่จอดรถ 60 คัน\\n\\n🏢 #เบสท์บีฟ สาขาศรีนครินทร์ ที่ตั้งร้านอยู่เลขที่ 44/88 ซอยศรีด่าน 22 ถ.ศรีนครินทร์ ถัดจาก BigC ศรีนครินทร์ เข้าเข้าซอยประมาณ 300 เมตร ร้านอยู่ขวามือ #มีที่จอดรถ 100 คัน\\n\\n🏢 #เบสท์บีฟ สาขาบางแค ที่ตั้งร้านอยู่เลขที่ 254/2 ถนนเพชรเกษม ร้านอยู่ติดกับห้างโลตัสบางแค และถัดจาก MRT สถานีบางแค เพียง 100 เมตร #มีที่จอดรถ 200 คัน\\n\\n***************************************\\nติดตามข่าวสารและโปรโมชั่น #BESTBEEF ได้ที่\\nLINE : https://lin.ee/juv4Dix\\nInstagram : https://www.instagram.com/bestbeef_sukhumvit\\nWebsite : https://bestbeefrestaurant.com\\n\\n#BestBeef #Sukhumvit #Srinakarin #BangKhae #BarBQinBangkok #บุฟเฟ่ต์ #ร้านเนื้อย่างโคขุน #สวรรค์ของคนรักเนื้อ #เบสท์บีฟ #บาร์บีคิว #ปิ้งย่าง #bestbarbq #bestintown #เบสท์บีฟศรีนครินทร์ #เบสท์บีฟสุขุมวิท #BestBeefSukhumvit #BestBeefSrinakarin #BestBeefBangKhae', 'post_text': 'หนาวนี้ไม่ต้องกลัวเหงา..เพราะหอยนางรมของเรา จะช่วยแก้เหงาและลดซึมเศร้าได้ 😄🌨😄 #เมนูพิเศษประจำเดือนพฤศจิกายน บุฟเฟต์ราคาเดิม299บ. เพิ่มเติมเมนูพิเศษประจำเดือน #หอยนางรมสดเกาหลี (Korean Oyster) #หมูสามชั้นคุโรบูตะ (Kurobuta) #ไข่ปลาหมึก\\n\\nเบสท์บีฟ #BESTBEEF ปัจจุบันร้านมีให้บริการ 3 สาขาแล้ววน๊าาา มาได้ทั้ง #สุขุมวิท #ศรีนครินทร์ #บางแค เรามีทั้งแบบบุฟเฟต์(Buffet) และไม่ใช่บุฟเฟต์(a la carte) พร้อมให้บริการทั้ง 3 สาขาเลย #ที่สุดของเนื้อดีในราคาที่ถูกใจ 😁\\n\\n#เบสท์บีฟสุขุมวิท #เบสท์บีฟศรีนครินทร์ #เบสท์บีฟบางแค #มีทั้งแบบบุฟเฟต์และไม่ใช่บุฟเฟต์ให้บริการครับ\\n\\nบุฟเฟต์ราคา 299 บาท(ยังไม่รวมเครื่องดื่ม) สามารถสั่งอาหารได้ในเวลา 2 ชม. (บุฟเฟต์ราคา 369 บาท รวมอาหารและเครื่องดื่ม) เมนูพร้อมเสริฟ #เนื้อหนอก #เนื้อลูกมะพร้าว #เนื้อน่องลาย #เนื้อเสือร้องไห้ #ลิ้นเนื้อ #เนื้อใบพาย #เนื้อเสือร้องไห้Aus. #เนื้อสันคอAus. #หมูหมัก #หมูสไลด์ #ตับหมู #ลิ้นหมู #ไก่หมัก #กุ้ง #ปลาดอลี่ #ปลาหมึก #หอยเชลล์ และ #ฟรีเมนูเพิ่มพิเศษประจำเดือน 🍽🍽🍽\\n\\nBEST BEEF #BarBQ Buffet for 299 Baht in 2 hours. #AllYouCanEat We serve Beef, Chicken, Pork, Ham, Shrimp, Squid, Fish, Scallop and Vegetable.\\n\\n🕰 ร้านเปิดให้บริการทุกวัน\\nจันทร์-ศุกร์ เวลา 15.00-24.00น.\\nเสาร์-อาทิตย์ เวลา 11.00-24.00น.\\n**ปิดรับลูกค้า 23.00น.\\n**ครัวปิด 23.30น.\\n\\nสั่ง Delivery ได้ที่ https://www.wongnai.com/chains/best-beef\\n\\n☎️ โทรจองโต๊ะได้ที่\\n📍 สาขาสุขุมวิท (สุขุมวิท-อ่อนนุช)\\nTel: 091-6269894\\n📍 สาขาศรีนครินทร์ (ซอยศรีด่าน22)\\nTel: 097-2451818\\n📍 สาขาบางแค (MRTสถานีบางแค)\\nTel: 097-2458051\\n\\nหรือสามารถจองผ่าน\\nLine: @bestbeef หรือทาง Facebook\\n\\nหลัง 16.00น. สามารถจองคิวผ่านแอพพิเคชั่น QueQ ได้เลยครับ\\n\\n💳 รับชำระด้วยบัตร VISA และ Master\\n\\n🏢 #เบสท์บีฟ สาขาสุขุมวิท ที่ตั้งร้านอยู่เลขที่ 1490/2 ถนนสุขุวิท บนถนนสุขุมวิท ตรงข้ามทางเข้าซอยอ่อนนุช. 🚝 มา BTS อยู่ระหว่างสถานี BTS พระโขนงและอ่อนนุช ลงBTSสถานีอ่อนนุชสะดวกที่สุด #มีที่จอดรถ 60 คัน\\n\\n🏢 #เบสท์บีฟ สาขาศรีนครินทร์ ที่ตั้งร้านอยู่เลขที่ 44/88 ซอยศรีด่าน 22 ถ.ศรีนครินทร์ ถัดจาก BigC ศรีนครินทร์ เข้าเข้าซอยประมาณ 300 เมตร ร้านอยู่ขวามือ #มีที่จอดรถ 100 คัน\\n\\n🏢 #เบสท์บีฟ สาขาบางแค ที่ตั้งร้านอยู่เลขที่ 254/2 ถนนเพชรเกษม ร้านอยู่ติดกับห้างโลตัสบางแค และถัดจาก MRT สถานีบางแค เพียง 100 เมตร #มีที่จอดรถ 200 คัน\\n\\n***************************************\\nติดตามข่าวสารและโปรโมชั่น #BESTBEEF ได้ที่\\nLINE : https://lin.ee/juv4Dix\\nInstagram : https://www.instagram.com/bestbeef_sukhumvit\\nWebsite : https://bestbeefrestaurant.com\\n\\n#BestBeef #Sukhumvit #Srinakarin #BangKhae #BarBQinBangkok #บุฟเฟ่ต์ #ร้านเนื้อย่างโคขุน #สวรรค์ของคนรักเนื้อ #เบสท์บีฟ #บาร์บีคิว #ปิ้งย่าง #bestbarbq #bestintown #เบสท์บีฟศรีนครินทร์ #เบสท์บีฟสุขุมวิท #BestBeefSukhumvit #BestBeefSrinakarin #BestBeefBangKhae', 'shared_text': '', 'time': None, 'image': 'https://scontent.fbkk5-7.fna.fbcdn.net/v/t1.0-9/fr/cp0/e15/q65/123366439_10157249624386432_1181239170236521063_n.jpg?_nc_cat=108&ccb=2&_nc_sid=110474&_nc_ohc=hhwEg0ER-M8AX88tR8C&_nc_oc=AQmq1u4RqrXvITbAyEn7ahG1cgPdVXWFwkGT7DfrF_nmXEx3mbyFEkT9vy_4jh7rgZo&_nc_ht=scontent.fbkk5-7.fna&tp=14&oh=63454c0abe6787906cdd77effe0f00c3&oe=5FCA0A7E', 'video': None, 'video_thumbnail': None, 'video_id': None, 'likes': 1912, 'comments': 210, 'shares': 0, 'post_url': 'https://facebook.com/story.php?story_fbid=10157249625096432&id=297696876431', 'link': None, 'user_id': '297696876431', 'images': ['https://scontent.fbkk5-7.fna.fbcdn.net/v/t1.0-9/fr/cp0/e15/q65/123366439_10157249624386432_1181239170236521063_n.jpg?_nc_cat=108&ccb=2&_nc_sid=110474&_nc_ohc=hhwEg0ER-M8AX88tR8C&_nc_oc=AQmq1u4RqrXvITbAyEn7ahG1cgPdVXWFwkGT7DfrF_nmXEx3mbyFEkT9vy_4jh7rgZo&_nc_ht=scontent.fbkk5-7.fna&tp=14&oh=63454c0abe6787906cdd77effe0f00c3&oe=5FCA0A7E']}\n"
     ]
    }
   ],
   "source": [
    "for post in get_posts(account = 'BestBeefSukhumvit', pages=1):\n",
    "      print(post)"
   ]
  },
  {
   "cell_type": "code",
   "execution_count": 29,
   "metadata": {},
   "outputs": [
    {
     "name": "stdout",
     "output_type": "stream",
     "text": [
      "[4.833333333333333, 4.083333333333333, 5.833333333333333, 5.833333333333333, 4.25, 5.166666666666667, 4.416666666666667, 5.916666666666667, 6.5, 5.25]\n",
      "[]\n"
     ]
    }
   ],
   "source": [
    "import numpy as np\n",
    "import math\n",
    "\n",
    "\n",
    "b = []\n",
    "for i in range(10):\n",
    "    a=np.random.randint(1,10,12) \n",
    "    b.append(sum(a)/len(a))\n",
    "print(b)\n",
    "result = []\n",
    "for i in b:\n",
    "    if (math.ceil(i)== 5)||(int(i)==5):\n",
    "        result.append(i)\n",
    "print(result)\n"
   ]
  },
  {
   "cell_type": "code",
   "execution_count": 10,
   "metadata": {},
   "outputs": [
    {
     "data": {
      "text/plain": [
       "<function RandomState.randint>"
      ]
     },
     "execution_count": 10,
     "metadata": {},
     "output_type": "execute_result"
    }
   ],
   "source": [
    "np.random.randint"
   ]
  },
  {
   "cell_type": "code",
   "execution_count": null,
   "metadata": {},
   "outputs": [],
   "source": [
    "import cv2\n",
    "import numpy as np\n",
    "def camera():\n",
    "cap = cv2.VideoCapture(0)\n",
    "while(cap.isOpened()):\n",
    "ret,img = cap.read()\n",
    "if ret:\n",
    "#gray = cv2.cvtColor(img, cv2.COLOR_BGR2GRAY)\n",
    "cv2.rectangle(img, (184, 124), (515, 368), (0, 0, 255), 2)\n",
    "cv2.imshow('image', img)\n",
    "if (cv2.waitKey(1) & 0xFF == ord('q')):\n",
    "break\n",
    "cap.release()\n",
    "cv2.destroyAllWindows()"
   ]
  },
  {
   "cell_type": "code",
   "execution_count": 35,
   "metadata": {},
   "outputs": [
    {
     "data": {
      "text/html": [
       "<div>\n",
       "<style scoped>\n",
       "    .dataframe tbody tr th:only-of-type {\n",
       "        vertical-align: middle;\n",
       "    }\n",
       "\n",
       "    .dataframe tbody tr th {\n",
       "        vertical-align: top;\n",
       "    }\n",
       "\n",
       "    .dataframe thead th {\n",
       "        text-align: right;\n",
       "    }\n",
       "</style>\n",
       "<table border=\"1\" class=\"dataframe\">\n",
       "  <thead>\n",
       "    <tr style=\"text-align: right;\">\n",
       "      <th></th>\n",
       "      <th>Name</th>\n",
       "      <th>Group</th>\n",
       "      <th>Data1</th>\n",
       "      <th>Data2</th>\n",
       "    </tr>\n",
       "  </thead>\n",
       "  <tbody>\n",
       "    <tr>\n",
       "      <th>0</th>\n",
       "      <td>a</td>\n",
       "      <td>A1</td>\n",
       "      <td>None</td>\n",
       "      <td>NaN</td>\n",
       "    </tr>\n",
       "    <tr>\n",
       "      <th>1</th>\n",
       "      <td>b</td>\n",
       "      <td>A1</td>\n",
       "      <td>None</td>\n",
       "      <td>11.0</td>\n",
       "    </tr>\n",
       "    <tr>\n",
       "      <th>2</th>\n",
       "      <td>c</td>\n",
       "      <td>B1</td>\n",
       "      <td>None</td>\n",
       "      <td>22.0</td>\n",
       "    </tr>\n",
       "    <tr>\n",
       "      <th>3</th>\n",
       "      <td>d</td>\n",
       "      <td>B1</td>\n",
       "      <td>None</td>\n",
       "      <td>NaN</td>\n",
       "    </tr>\n",
       "    <tr>\n",
       "      <th>4</th>\n",
       "      <td>e</td>\n",
       "      <td>C1</td>\n",
       "      <td>NaN</td>\n",
       "      <td>33.0</td>\n",
       "    </tr>\n",
       "    <tr>\n",
       "      <th>5</th>\n",
       "      <td>f</td>\n",
       "      <td>D1</td>\n",
       "      <td>NaN</td>\n",
       "      <td>44.0</td>\n",
       "    </tr>\n",
       "  </tbody>\n",
       "</table>\n",
       "</div>"
      ],
      "text/plain": [
       "  Name Group Data1  Data2\n",
       "0    a    A1  None    NaN\n",
       "1    b    A1  None   11.0\n",
       "2    c    B1  None   22.0\n",
       "3    d    B1  None    NaN\n",
       "4    e    C1   NaN   33.0\n",
       "5    f    D1   NaN   44.0"
      ]
     },
     "execution_count": 35,
     "metadata": {},
     "output_type": "execute_result"
    }
   ],
   "source": [
    "import pandas as pd\n",
    "name = ['a', 'b', 'c', 'd', 'e', 'f']\n",
    "group = ['A1', 'A1', 'B1', 'B1', 'C1', 'D1']\n",
    "data1 = [None, None, None, None]\n",
    "data2 = [None, 11, 22, None, 33, 44]\n",
    "\n",
    "name_series = pd.Series(name)\n",
    "group_series = pd.Series(group)\n",
    "data1_series = pd.Series(data1)\n",
    "data2_series = pd.Series(data2)\n",
    "\n",
    "frame = {'Name':name_series,\n",
    "        'Group':group_series,\n",
    "        'Data1':data1_series,\n",
    "        'Data2':data2_series}\n",
    "df = pd.DataFrame(frame)\n",
    "df"
   ]
  },
  {
   "cell_type": "code",
   "execution_count": 36,
   "metadata": {},
   "outputs": [
    {
     "data": {
      "text/html": [
       "<div>\n",
       "<style scoped>\n",
       "    .dataframe tbody tr th:only-of-type {\n",
       "        vertical-align: middle;\n",
       "    }\n",
       "\n",
       "    .dataframe tbody tr th {\n",
       "        vertical-align: top;\n",
       "    }\n",
       "\n",
       "    .dataframe thead th {\n",
       "        text-align: right;\n",
       "    }\n",
       "</style>\n",
       "<table border=\"1\" class=\"dataframe\">\n",
       "  <thead>\n",
       "    <tr style=\"text-align: right;\">\n",
       "      <th></th>\n",
       "      <th>Name</th>\n",
       "      <th>Group</th>\n",
       "      <th>Data1</th>\n",
       "      <th>Data2</th>\n",
       "    </tr>\n",
       "  </thead>\n",
       "  <tbody>\n",
       "    <tr>\n",
       "      <th>0</th>\n",
       "      <td>a</td>\n",
       "      <td>A1</td>\n",
       "      <td>None</td>\n",
       "      <td>-2.0</td>\n",
       "    </tr>\n",
       "    <tr>\n",
       "      <th>1</th>\n",
       "      <td>b</td>\n",
       "      <td>A1</td>\n",
       "      <td>None</td>\n",
       "      <td>11.0</td>\n",
       "    </tr>\n",
       "    <tr>\n",
       "      <th>2</th>\n",
       "      <td>c</td>\n",
       "      <td>B1</td>\n",
       "      <td>None</td>\n",
       "      <td>22.0</td>\n",
       "    </tr>\n",
       "    <tr>\n",
       "      <th>3</th>\n",
       "      <td>d</td>\n",
       "      <td>B1</td>\n",
       "      <td>None</td>\n",
       "      <td>-2.0</td>\n",
       "    </tr>\n",
       "    <tr>\n",
       "      <th>4</th>\n",
       "      <td>e</td>\n",
       "      <td>C1</td>\n",
       "      <td>NaN</td>\n",
       "      <td>33.0</td>\n",
       "    </tr>\n",
       "    <tr>\n",
       "      <th>5</th>\n",
       "      <td>f</td>\n",
       "      <td>D1</td>\n",
       "      <td>NaN</td>\n",
       "      <td>44.0</td>\n",
       "    </tr>\n",
       "  </tbody>\n",
       "</table>\n",
       "</div>"
      ],
      "text/plain": [
       "  Name Group Data1  Data2\n",
       "0    a    A1  None   -2.0\n",
       "1    b    A1  None   11.0\n",
       "2    c    B1  None   22.0\n",
       "3    d    B1  None   -2.0\n",
       "4    e    C1   NaN   33.0\n",
       "5    f    D1   NaN   44.0"
      ]
     },
     "execution_count": 36,
     "metadata": {},
     "output_type": "execute_result"
    }
   ],
   "source": [
    "df['Data2'] = df['Data2'].fillna(-2)\n",
    "df\n",
    "        \n",
    "\n",
    "    "
   ]
  },
  {
   "cell_type": "code",
   "execution_count": 39,
   "metadata": {},
   "outputs": [
    {
     "ename": "IndexError",
     "evalue": "single positional indexer is out-of-bounds",
     "output_type": "error",
     "traceback": [
      "\u001b[1;31m---------------------------------------------------------------------------\u001b[0m",
      "\u001b[1;31mIndexError\u001b[0m                                Traceback (most recent call last)",
      "\u001b[1;32m<ipython-input-39-4829bd127efa>\u001b[0m in \u001b[0;36m<module>\u001b[1;34m\u001b[0m\n\u001b[0;32m      1\u001b[0m \u001b[1;32mfor\u001b[0m \u001b[0mi\u001b[0m \u001b[1;32min\u001b[0m \u001b[0mdf\u001b[0m\u001b[1;33m.\u001b[0m\u001b[0mindex\u001b[0m\u001b[1;33m:\u001b[0m\u001b[1;33m\u001b[0m\u001b[1;33m\u001b[0m\u001b[0m\n\u001b[1;32m----> 2\u001b[1;33m     \u001b[1;32mif\u001b[0m \u001b[1;33m(\u001b[0m\u001b[1;33m(\u001b[0m\u001b[0mdf\u001b[0m\u001b[1;33m.\u001b[0m\u001b[0mGroup\u001b[0m\u001b[1;33m.\u001b[0m\u001b[0miloc\u001b[0m\u001b[1;33m[\u001b[0m\u001b[0mi\u001b[0m\u001b[1;33m]\u001b[0m\u001b[1;33m==\u001b[0m\u001b[0mdf\u001b[0m\u001b[1;33m.\u001b[0m\u001b[0mGroup\u001b[0m\u001b[1;33m.\u001b[0m\u001b[0miloc\u001b[0m\u001b[1;33m[\u001b[0m\u001b[0mi\u001b[0m\u001b[1;33m+\u001b[0m\u001b[1;36m1\u001b[0m\u001b[1;33m]\u001b[0m\u001b[1;33m)\u001b[0m\u001b[1;33m&\u001b[0m\u001b[1;33m(\u001b[0m\u001b[0mdf\u001b[0m\u001b[1;33m.\u001b[0m\u001b[0mGroup\u001b[0m\u001b[1;33m.\u001b[0m\u001b[0miloc\u001b[0m\u001b[1;33m[\u001b[0m\u001b[0mi\u001b[0m\u001b[1;33m]\u001b[0m\u001b[1;33m==\u001b[0m\u001b[1;33m-\u001b[0m\u001b[1;36m2\u001b[0m\u001b[1;33m)\u001b[0m\u001b[1;33m)\u001b[0m\u001b[1;33m:\u001b[0m\u001b[1;33m\u001b[0m\u001b[1;33m\u001b[0m\u001b[0m\n\u001b[0m\u001b[0;32m      3\u001b[0m         \u001b[0mdf\u001b[0m\u001b[1;33m.\u001b[0m\u001b[0mData2\u001b[0m\u001b[1;33m.\u001b[0m\u001b[0miloc\u001b[0m\u001b[1;33m[\u001b[0m\u001b[0mi\u001b[0m\u001b[1;33m]\u001b[0m \u001b[1;33m=\u001b[0m \u001b[0mdf\u001b[0m\u001b[1;33m.\u001b[0m\u001b[0mData2\u001b[0m\u001b[1;33m.\u001b[0m\u001b[0miloc\u001b[0m\u001b[1;33m[\u001b[0m\u001b[0mi\u001b[0m\u001b[1;33m+\u001b[0m\u001b[1;36m1\u001b[0m\u001b[1;33m]\u001b[0m\u001b[1;33m\u001b[0m\u001b[1;33m\u001b[0m\u001b[0m\n\u001b[0;32m      4\u001b[0m     \u001b[1;32melif\u001b[0m \u001b[1;33m(\u001b[0m\u001b[1;33m(\u001b[0m\u001b[0mdf\u001b[0m\u001b[1;33m.\u001b[0m\u001b[0mGroup\u001b[0m\u001b[1;33m.\u001b[0m\u001b[0miloc\u001b[0m\u001b[1;33m[\u001b[0m\u001b[0mi\u001b[0m\u001b[1;33m]\u001b[0m\u001b[1;33m==\u001b[0m\u001b[0mdf\u001b[0m\u001b[1;33m.\u001b[0m\u001b[0mGroup\u001b[0m\u001b[1;33m.\u001b[0m\u001b[0miloc\u001b[0m\u001b[1;33m[\u001b[0m\u001b[0mi\u001b[0m\u001b[1;33m+\u001b[0m\u001b[1;36m1\u001b[0m\u001b[1;33m]\u001b[0m\u001b[1;33m)\u001b[0m\u001b[1;33m&\u001b[0m\u001b[1;33m(\u001b[0m\u001b[0mdf\u001b[0m\u001b[1;33m.\u001b[0m\u001b[0mGroup\u001b[0m\u001b[1;33m.\u001b[0m\u001b[0miloc\u001b[0m\u001b[1;33m[\u001b[0m\u001b[0mi\u001b[0m\u001b[1;33m+\u001b[0m\u001b[1;36m1\u001b[0m\u001b[1;33m]\u001b[0m\u001b[1;33m==\u001b[0m\u001b[1;33m-\u001b[0m\u001b[1;36m2\u001b[0m\u001b[1;33m)\u001b[0m\u001b[1;33m)\u001b[0m\u001b[1;33m:\u001b[0m\u001b[1;33m\u001b[0m\u001b[1;33m\u001b[0m\u001b[0m\n\u001b[0;32m      5\u001b[0m          \u001b[0mdf\u001b[0m\u001b[1;33m.\u001b[0m\u001b[0mData2\u001b[0m\u001b[1;33m.\u001b[0m\u001b[0miloc\u001b[0m\u001b[1;33m[\u001b[0m\u001b[0mi\u001b[0m\u001b[1;33m+\u001b[0m\u001b[1;36m1\u001b[0m\u001b[1;33m]\u001b[0m \u001b[1;33m=\u001b[0m \u001b[0mdf\u001b[0m\u001b[1;33m.\u001b[0m\u001b[0mData2\u001b[0m\u001b[1;33m.\u001b[0m\u001b[0miloc\u001b[0m\u001b[1;33m[\u001b[0m\u001b[0mi\u001b[0m\u001b[1;33m]\u001b[0m\u001b[1;33m\u001b[0m\u001b[1;33m\u001b[0m\u001b[0m\n",
      "\u001b[1;32m~\\anaconda3\\lib\\site-packages\\pandas\\core\\indexing.py\u001b[0m in \u001b[0;36m__getitem__\u001b[1;34m(self, key)\u001b[0m\n\u001b[0;32m   1765\u001b[0m \u001b[1;33m\u001b[0m\u001b[0m\n\u001b[0;32m   1766\u001b[0m             \u001b[0mmaybe_callable\u001b[0m \u001b[1;33m=\u001b[0m \u001b[0mcom\u001b[0m\u001b[1;33m.\u001b[0m\u001b[0mapply_if_callable\u001b[0m\u001b[1;33m(\u001b[0m\u001b[0mkey\u001b[0m\u001b[1;33m,\u001b[0m \u001b[0mself\u001b[0m\u001b[1;33m.\u001b[0m\u001b[0mobj\u001b[0m\u001b[1;33m)\u001b[0m\u001b[1;33m\u001b[0m\u001b[1;33m\u001b[0m\u001b[0m\n\u001b[1;32m-> 1767\u001b[1;33m             \u001b[1;32mreturn\u001b[0m \u001b[0mself\u001b[0m\u001b[1;33m.\u001b[0m\u001b[0m_getitem_axis\u001b[0m\u001b[1;33m(\u001b[0m\u001b[0mmaybe_callable\u001b[0m\u001b[1;33m,\u001b[0m \u001b[0maxis\u001b[0m\u001b[1;33m=\u001b[0m\u001b[0maxis\u001b[0m\u001b[1;33m)\u001b[0m\u001b[1;33m\u001b[0m\u001b[1;33m\u001b[0m\u001b[0m\n\u001b[0m\u001b[0;32m   1768\u001b[0m \u001b[1;33m\u001b[0m\u001b[0m\n\u001b[0;32m   1769\u001b[0m     \u001b[1;32mdef\u001b[0m \u001b[0m_is_scalar_access\u001b[0m\u001b[1;33m(\u001b[0m\u001b[0mself\u001b[0m\u001b[1;33m,\u001b[0m \u001b[0mkey\u001b[0m\u001b[1;33m:\u001b[0m \u001b[0mTuple\u001b[0m\u001b[1;33m)\u001b[0m\u001b[1;33m:\u001b[0m\u001b[1;33m\u001b[0m\u001b[1;33m\u001b[0m\u001b[0m\n",
      "\u001b[1;32m~\\anaconda3\\lib\\site-packages\\pandas\\core\\indexing.py\u001b[0m in \u001b[0;36m_getitem_axis\u001b[1;34m(self, key, axis)\u001b[0m\n\u001b[0;32m   2135\u001b[0m \u001b[1;33m\u001b[0m\u001b[0m\n\u001b[0;32m   2136\u001b[0m             \u001b[1;31m# validate the location\u001b[0m\u001b[1;33m\u001b[0m\u001b[1;33m\u001b[0m\u001b[1;33m\u001b[0m\u001b[0m\n\u001b[1;32m-> 2137\u001b[1;33m             \u001b[0mself\u001b[0m\u001b[1;33m.\u001b[0m\u001b[0m_validate_integer\u001b[0m\u001b[1;33m(\u001b[0m\u001b[0mkey\u001b[0m\u001b[1;33m,\u001b[0m \u001b[0maxis\u001b[0m\u001b[1;33m)\u001b[0m\u001b[1;33m\u001b[0m\u001b[1;33m\u001b[0m\u001b[0m\n\u001b[0m\u001b[0;32m   2138\u001b[0m \u001b[1;33m\u001b[0m\u001b[0m\n\u001b[0;32m   2139\u001b[0m             \u001b[1;32mreturn\u001b[0m \u001b[0mself\u001b[0m\u001b[1;33m.\u001b[0m\u001b[0m_get_loc\u001b[0m\u001b[1;33m(\u001b[0m\u001b[0mkey\u001b[0m\u001b[1;33m,\u001b[0m \u001b[0maxis\u001b[0m\u001b[1;33m=\u001b[0m\u001b[0maxis\u001b[0m\u001b[1;33m)\u001b[0m\u001b[1;33m\u001b[0m\u001b[1;33m\u001b[0m\u001b[0m\n",
      "\u001b[1;32m~\\anaconda3\\lib\\site-packages\\pandas\\core\\indexing.py\u001b[0m in \u001b[0;36m_validate_integer\u001b[1;34m(self, key, axis)\u001b[0m\n\u001b[0;32m   2060\u001b[0m         \u001b[0mlen_axis\u001b[0m \u001b[1;33m=\u001b[0m \u001b[0mlen\u001b[0m\u001b[1;33m(\u001b[0m\u001b[0mself\u001b[0m\u001b[1;33m.\u001b[0m\u001b[0mobj\u001b[0m\u001b[1;33m.\u001b[0m\u001b[0m_get_axis\u001b[0m\u001b[1;33m(\u001b[0m\u001b[0maxis\u001b[0m\u001b[1;33m)\u001b[0m\u001b[1;33m)\u001b[0m\u001b[1;33m\u001b[0m\u001b[1;33m\u001b[0m\u001b[0m\n\u001b[0;32m   2061\u001b[0m         \u001b[1;32mif\u001b[0m \u001b[0mkey\u001b[0m \u001b[1;33m>=\u001b[0m \u001b[0mlen_axis\u001b[0m \u001b[1;32mor\u001b[0m \u001b[0mkey\u001b[0m \u001b[1;33m<\u001b[0m \u001b[1;33m-\u001b[0m\u001b[0mlen_axis\u001b[0m\u001b[1;33m:\u001b[0m\u001b[1;33m\u001b[0m\u001b[1;33m\u001b[0m\u001b[0m\n\u001b[1;32m-> 2062\u001b[1;33m             \u001b[1;32mraise\u001b[0m \u001b[0mIndexError\u001b[0m\u001b[1;33m(\u001b[0m\u001b[1;34m\"single positional indexer is out-of-bounds\"\u001b[0m\u001b[1;33m)\u001b[0m\u001b[1;33m\u001b[0m\u001b[1;33m\u001b[0m\u001b[0m\n\u001b[0m\u001b[0;32m   2063\u001b[0m \u001b[1;33m\u001b[0m\u001b[0m\n\u001b[0;32m   2064\u001b[0m     \u001b[1;32mdef\u001b[0m \u001b[0m_getitem_tuple\u001b[0m\u001b[1;33m(\u001b[0m\u001b[0mself\u001b[0m\u001b[1;33m,\u001b[0m \u001b[0mtup\u001b[0m\u001b[1;33m:\u001b[0m \u001b[0mTuple\u001b[0m\u001b[1;33m)\u001b[0m\u001b[1;33m:\u001b[0m\u001b[1;33m\u001b[0m\u001b[1;33m\u001b[0m\u001b[0m\n",
      "\u001b[1;31mIndexError\u001b[0m: single positional indexer is out-of-bounds"
     ]
    }
   ],
   "source": [
    "for i in df.index:\n",
    "    if ((df.Group.iloc[i]==df.Group.iloc[i+1])&(df.Data2.iloc[i]==-2)):\n",
    "        df.Data2.iloc[i] = df.Data2.iloc[i+1]\n",
    "    elif ((df.Group.iloc[i]==df.Group.iloc[i+1])&(df.Data2.iloc[i+1]==-2)):\n",
    "         df.Data2.iloc[i+1] = df.Data2.iloc[i]\n",
    "   "
   ]
  },
  {
   "cell_type": "code",
   "execution_count": 40,
   "metadata": {},
   "outputs": [
    {
     "data": {
      "text/html": [
       "<div>\n",
       "<style scoped>\n",
       "    .dataframe tbody tr th:only-of-type {\n",
       "        vertical-align: middle;\n",
       "    }\n",
       "\n",
       "    .dataframe tbody tr th {\n",
       "        vertical-align: top;\n",
       "    }\n",
       "\n",
       "    .dataframe thead th {\n",
       "        text-align: right;\n",
       "    }\n",
       "</style>\n",
       "<table border=\"1\" class=\"dataframe\">\n",
       "  <thead>\n",
       "    <tr style=\"text-align: right;\">\n",
       "      <th></th>\n",
       "      <th>Name</th>\n",
       "      <th>Group</th>\n",
       "      <th>Data1</th>\n",
       "      <th>Data2</th>\n",
       "    </tr>\n",
       "  </thead>\n",
       "  <tbody>\n",
       "    <tr>\n",
       "      <th>0</th>\n",
       "      <td>a</td>\n",
       "      <td>A1</td>\n",
       "      <td>None</td>\n",
       "      <td>-2.0</td>\n",
       "    </tr>\n",
       "    <tr>\n",
       "      <th>1</th>\n",
       "      <td>b</td>\n",
       "      <td>A1</td>\n",
       "      <td>None</td>\n",
       "      <td>11.0</td>\n",
       "    </tr>\n",
       "    <tr>\n",
       "      <th>2</th>\n",
       "      <td>c</td>\n",
       "      <td>B1</td>\n",
       "      <td>None</td>\n",
       "      <td>22.0</td>\n",
       "    </tr>\n",
       "    <tr>\n",
       "      <th>3</th>\n",
       "      <td>d</td>\n",
       "      <td>B1</td>\n",
       "      <td>None</td>\n",
       "      <td>-2.0</td>\n",
       "    </tr>\n",
       "    <tr>\n",
       "      <th>4</th>\n",
       "      <td>e</td>\n",
       "      <td>C1</td>\n",
       "      <td>NaN</td>\n",
       "      <td>33.0</td>\n",
       "    </tr>\n",
       "    <tr>\n",
       "      <th>5</th>\n",
       "      <td>f</td>\n",
       "      <td>D1</td>\n",
       "      <td>NaN</td>\n",
       "      <td>44.0</td>\n",
       "    </tr>\n",
       "  </tbody>\n",
       "</table>\n",
       "</div>"
      ],
      "text/plain": [
       "  Name Group Data1  Data2\n",
       "0    a    A1  None   -2.0\n",
       "1    b    A1  None   11.0\n",
       "2    c    B1  None   22.0\n",
       "3    d    B1  None   -2.0\n",
       "4    e    C1   NaN   33.0\n",
       "5    f    D1   NaN   44.0"
      ]
     },
     "execution_count": 40,
     "metadata": {},
     "output_type": "execute_result"
    }
   ],
   "source": [
    "df"
   ]
  },
  {
   "cell_type": "code",
   "execution_count": 30,
   "metadata": {},
   "outputs": [
    {
     "data": {
      "text/plain": [
       "-2.0"
      ]
     },
     "execution_count": 30,
     "metadata": {},
     "output_type": "execute_result"
    }
   ],
   "source": [
    " df.Data2.iloc[2]"
   ]
  },
  {
   "cell_type": "code",
   "execution_count": null,
   "metadata": {},
   "outputs": [],
   "source": []
  }
 ],
 "metadata": {
  "kernelspec": {
   "display_name": "Python 3",
   "language": "python",
   "name": "python3"
  },
  "language_info": {
   "codemirror_mode": {
    "name": "ipython",
    "version": 3
   },
   "file_extension": ".py",
   "mimetype": "text/x-python",
   "name": "python",
   "nbconvert_exporter": "python",
   "pygments_lexer": "ipython3",
   "version": "3.7.6"
  }
 },
 "nbformat": 4,
 "nbformat_minor": 4
}
