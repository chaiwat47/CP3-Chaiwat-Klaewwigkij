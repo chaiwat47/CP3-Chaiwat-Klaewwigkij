{
 "cells": [
  {
   "cell_type": "code",
   "execution_count": 256,
   "metadata": {},
   "outputs": [
    {
     "data": {
      "text/html": [
       "<div>\n",
       "<style scoped>\n",
       "    .dataframe tbody tr th:only-of-type {\n",
       "        vertical-align: middle;\n",
       "    }\n",
       "\n",
       "    .dataframe tbody tr th {\n",
       "        vertical-align: top;\n",
       "    }\n",
       "\n",
       "    .dataframe thead th {\n",
       "        text-align: right;\n",
       "    }\n",
       "</style>\n",
       "<table border=\"1\" class=\"dataframe\">\n",
       "  <thead>\n",
       "    <tr style=\"text-align: right;\">\n",
       "      <th></th>\n",
       "      <th>Unnamed: 0</th>\n",
       "      <th>sex</th>\n",
       "      <th>pclass</th>\n",
       "      <th>who</th>\n",
       "      <th>alone</th>\n",
       "      <th>fare</th>\n",
       "      <th>sex_</th>\n",
       "      <th>pclass_</th>\n",
       "      <th>who_</th>\n",
       "      <th>alone_</th>\n",
       "      <th>fare_</th>\n",
       "      <th>survived_</th>\n",
       "    </tr>\n",
       "  </thead>\n",
       "  <tbody>\n",
       "    <tr>\n",
       "      <th>0</th>\n",
       "      <td>0</td>\n",
       "      <td>male</td>\n",
       "      <td>3</td>\n",
       "      <td>adult</td>\n",
       "      <td>False</td>\n",
       "      <td>7.2500</td>\n",
       "      <td>1</td>\n",
       "      <td>2</td>\n",
       "      <td>0</td>\n",
       "      <td>0</td>\n",
       "      <td>18</td>\n",
       "      <td>0</td>\n",
       "    </tr>\n",
       "    <tr>\n",
       "      <th>1</th>\n",
       "      <td>1</td>\n",
       "      <td>female</td>\n",
       "      <td>1</td>\n",
       "      <td>adult</td>\n",
       "      <td>False</td>\n",
       "      <td>71.2833</td>\n",
       "      <td>0</td>\n",
       "      <td>0</td>\n",
       "      <td>0</td>\n",
       "      <td>0</td>\n",
       "      <td>207</td>\n",
       "      <td>1</td>\n",
       "    </tr>\n",
       "    <tr>\n",
       "      <th>2</th>\n",
       "      <td>2</td>\n",
       "      <td>female</td>\n",
       "      <td>3</td>\n",
       "      <td>adult</td>\n",
       "      <td>True</td>\n",
       "      <td>7.9250</td>\n",
       "      <td>0</td>\n",
       "      <td>2</td>\n",
       "      <td>0</td>\n",
       "      <td>1</td>\n",
       "      <td>41</td>\n",
       "      <td>1</td>\n",
       "    </tr>\n",
       "    <tr>\n",
       "      <th>3</th>\n",
       "      <td>3</td>\n",
       "      <td>female</td>\n",
       "      <td>1</td>\n",
       "      <td>adult</td>\n",
       "      <td>False</td>\n",
       "      <td>53.1000</td>\n",
       "      <td>0</td>\n",
       "      <td>0</td>\n",
       "      <td>0</td>\n",
       "      <td>0</td>\n",
       "      <td>189</td>\n",
       "      <td>1</td>\n",
       "    </tr>\n",
       "    <tr>\n",
       "      <th>4</th>\n",
       "      <td>4</td>\n",
       "      <td>male</td>\n",
       "      <td>3</td>\n",
       "      <td>adult</td>\n",
       "      <td>True</td>\n",
       "      <td>8.0500</td>\n",
       "      <td>1</td>\n",
       "      <td>2</td>\n",
       "      <td>0</td>\n",
       "      <td>1</td>\n",
       "      <td>43</td>\n",
       "      <td>0</td>\n",
       "    </tr>\n",
       "  </tbody>\n",
       "</table>\n",
       "</div>"
      ],
      "text/plain": [
       "   Unnamed: 0     sex  pclass    who  alone     fare  sex_  pclass_  who_  \\\n",
       "0           0    male       3  adult  False   7.2500     1        2     0   \n",
       "1           1  female       1  adult  False  71.2833     0        0     0   \n",
       "2           2  female       3  adult   True   7.9250     0        2     0   \n",
       "3           3  female       1  adult  False  53.1000     0        0     0   \n",
       "4           4    male       3  adult   True   8.0500     1        2     0   \n",
       "\n",
       "   alone_  fare_  survived_  \n",
       "0       0     18          0  \n",
       "1       0    207          1  \n",
       "2       1     41          1  \n",
       "3       0    189          1  \n",
       "4       1     43          0  "
      ]
     },
     "execution_count": 256,
     "metadata": {},
     "output_type": "execute_result"
    }
   ],
   "source": [
    "import pandas as pd\n",
    "import numpy as np\n",
    "uri = 'Titanic_sc_data.csv'\n",
    "df = pd.read_csv(uri)\n",
    "df.head()"
   ]
  },
  {
   "cell_type": "code",
   "execution_count": 257,
   "metadata": {},
   "outputs": [],
   "source": [
    "col_select = ['sex_', 'pclass_', 'who_', 'alone_', 'fare_'] # เลือกคอลัมน์ทำ normalization\n",
    "X = df[col_select]"
   ]
  },
  {
   "cell_type": "code",
   "execution_count": 258,
   "metadata": {},
   "outputs": [],
   "source": [
    "y = df['survived_']"
   ]
  },
  {
   "cell_type": "code",
   "execution_count": 259,
   "metadata": {},
   "outputs": [],
   "source": [
    "# แบ่งข้อมูล Train Test\n",
    "from sklearn.model_selection import train_test_split\n",
    "X_train, X_test,y_train,y_test = train_test_split(X, y, test_size=0.2, random_state= 2020) # แบ่งเป็น X y test train จาก X y โดยที่ test_size = 0.2 (train_size=0.8)"
   ]
  },
  {
   "cell_type": "markdown",
   "metadata": {},
   "source": [
    "## https://xgboost.readthedocs.io/en/latest/"
   ]
  },
  {
   "cell_type": "code",
   "execution_count": 260,
   "metadata": {},
   "outputs": [],
   "source": [
    "import xgboost as xgb"
   ]
  },
  {
   "cell_type": "code",
   "execution_count": 261,
   "metadata": {},
   "outputs": [],
   "source": [
    "params = {'max_depth': 10}\n",
    "params['eval_metric'] = 'auc' # เพิ่มใน deictionary\n",
    "# ปกติจะเป็น regression ต้องปรับ params เพิ่มให้เป๋น Classifier โดยใช้ objective='multi:softmax'"
   ]
  },
  {
   "cell_type": "code",
   "execution_count": 262,
   "metadata": {},
   "outputs": [],
   "source": [
    "d_train = xgb.DMatrix(X_train, y_train)"
   ]
  },
  {
   "cell_type": "code",
   "execution_count": 263,
   "metadata": {},
   "outputs": [
    {
     "name": "stdout",
     "output_type": "stream",
     "text": [
      "Wall time: 17 ms\n"
     ]
    }
   ],
   "source": [
    "%%time\n",
    "clf_xgb = xgb.train(params, d_train, num_boost_round= 10)"
   ]
  },
  {
   "cell_type": "code",
   "execution_count": 264,
   "metadata": {},
   "outputs": [],
   "source": [
    "d_train = xgb.DMatrix(X_train, y_train)"
   ]
  },
  {
   "cell_type": "code",
   "execution_count": 265,
   "metadata": {},
   "outputs": [],
   "source": [
    "d_test = xgb.DMatrix(X_test, y_test)"
   ]
  },
  {
   "cell_type": "code",
   "execution_count": 266,
   "metadata": {},
   "outputs": [],
   "source": [
    "y_test_pred = clf_xgb.predict(d_test) # ออกเปเป็น ปัญหา regression"
   ]
  },
  {
   "cell_type": "code",
   "execution_count": 267,
   "metadata": {},
   "outputs": [
    {
     "name": "stdout",
     "output_type": "stream",
     "text": [
      "[0.18238997 0.22669318 0.79617345 0.43110794 0.03224128 0.04691845\n",
      " 0.38989216 0.03839067 0.1266908  0.2328805  0.14248925 0.03445852\n",
      " 0.98333585 0.9601172  0.9358442  0.2751389  0.07539922 0.14248925\n",
      " 0.14248925 0.26391616 0.9849298  0.03224128 0.08684105 0.95213115\n",
      " 0.18238997 0.9849298  0.22127402 0.2751389  0.14312541 0.97106326\n",
      " 0.18238997 0.4873181  0.02321479 0.98333585 0.9386824  0.14248925\n",
      " 0.04728678 0.18238997 0.02321479 0.9386824  0.97131246 0.4138149\n",
      " 0.04129103 0.97106326 0.18238997 0.97142315 0.04129103 0.0265708\n",
      " 0.03459641 0.9386824  0.04129103 0.02950469 0.14248925 0.0265708\n",
      " 0.02321479 0.97106326 0.98061025 0.11134288 0.07241812 0.98061025\n",
      " 0.9849298  0.98061025 0.03507686 0.07813275 0.02321479 0.8852755\n",
      " 0.98333585 0.08430246 0.94105935 0.9849298  0.8295058  0.26391616\n",
      " 0.03839067 0.06657442 0.04030415 0.43110794 0.9852402  0.03507686\n",
      " 0.9084263  0.7017431  0.964115   0.96584165 0.02321479 0.9849298\n",
      " 0.4138149  0.02321479 0.04728678 0.08430246 0.5656247  0.69396436\n",
      " 0.930949   0.03445852 0.18238997 0.9095045  0.14248925 0.03859991\n",
      " 0.02321479 0.02321479 0.97142315 0.02696857 0.8295058  0.6308624\n",
      " 0.04264891 0.6486733  0.36583975 0.14248925 0.05249232 0.04728678\n",
      " 0.9646696  0.14248925 0.98333585 0.14312541 0.1071929  0.04140401\n",
      " 0.6507292  0.9084263  0.04276523 0.18238997 0.06321666 0.03146279\n",
      " 0.4323235  0.02611595 0.9849298  0.05224237 0.43110794 0.04728678\n",
      " 0.14248925 0.9358442  0.89422977 0.18238997 0.9358442  0.20327216\n",
      " 0.26189327 0.03445852 0.02611595 0.89422977 0.1266908  0.35795727\n",
      " 0.22644946 0.02321479 0.7017431  0.17896837 0.9386824  0.03459641\n",
      " 0.7017431  0.03224128 0.9852402  0.98333585 0.38989216 0.03459641\n",
      " 0.03146279 0.03146279 0.98061025 0.1266908  0.7017431  0.9646696\n",
      " 0.05901307 0.03618926 0.94105935 0.9836095  0.04728678 0.05130205\n",
      " 0.01683715 0.8852755  0.5656247  0.9386824  0.9849298  0.9084263\n",
      " 0.14248925 0.89834034 0.98061025 0.02321479 0.02321479 0.9386824\n",
      " 0.7640035  0.03445852 0.2751389  0.9084263 ]\n"
     ]
    }
   ],
   "source": [
    "print(y_test_pred)"
   ]
  },
  {
   "cell_type": "code",
   "execution_count": 268,
   "metadata": {},
   "outputs": [],
   "source": [
    "#ปรับ\n",
    "y_pred = [round(i) for i in y_test_pred] # ใช้ round เพื่อปัด เศษ"
   ]
  },
  {
   "cell_type": "code",
   "execution_count": 269,
   "metadata": {},
   "outputs": [
    {
     "data": {
      "text/plain": [
       "[0, 0, 1]"
      ]
     },
     "execution_count": 269,
     "metadata": {},
     "output_type": "execute_result"
    }
   ],
   "source": [
    "y_pred[:3]"
   ]
  },
  {
   "cell_type": "code",
   "execution_count": 270,
   "metadata": {},
   "outputs": [
    {
     "name": "stdout",
     "output_type": "stream",
     "text": [
      "Accuracy Score: 0.831\n",
      "              precision    recall  f1-score   support\n",
      "\n",
      "  unsurvived       0.84      0.88      0.86       104\n",
      "    survived       0.82      0.76      0.79        74\n",
      "\n",
      "    accuracy                           0.83       178\n",
      "   macro avg       0.83      0.82      0.82       178\n",
      "weighted avg       0.83      0.83      0.83       178\n",
      "\n",
      "[[92 12]\n",
      " [18 56]]\n"
     ]
    },
    {
     "data": {
      "text/plain": [
       "884    0\n",
       "199    0\n",
       "327    1\n",
       "516    0\n",
       "252    0\n",
       "      ..\n",
       "393    1\n",
       "204    0\n",
       "137    0\n",
       "413    1\n",
       "398    1\n",
       "Name: survived_, Length: 178, dtype: int64"
      ]
     },
     "execution_count": 270,
     "metadata": {},
     "output_type": "execute_result"
    }
   ],
   "source": [
    "# คำนวณรายงาน และ Confusion Matrix\n",
    "from sklearn.metrics import accuracy_score \n",
    "from sklearn.metrics import classification_report\n",
    "from sklearn.metrics import confusion_matrix\n",
    "\n",
    "#แยก ทำ target\n",
    "class_names = ['unsurvived', 'survived']\n",
    "print('Accuracy Score:',accuracy_score(y_test, y_pred).round(3))\n",
    "# class_names no,yes จากก่อนหน้านี้\n",
    "print(classification_report(y_test, y_pred, target_names=class_names))\n",
    "cm = confusion_matrix(y_test, y_pred)\n",
    "print(cm)\n",
    "y_test"
   ]
  },
  {
   "cell_type": "code",
   "execution_count": 271,
   "metadata": {},
   "outputs": [
    {
     "data": {
      "image/png": "[encoded data removed]",
      "text/plain": [
       "<Figure size 360x288 with 2 Axes>"
      ]
     },
     "metadata": {
      "needs_background": "light"
     },
     "output_type": "display_data"
    }
   ],
   "source": [
    "# ใช้ Seaborn Heat Map\n",
    "import matplotlib.pyplot as plt\n",
    "import seaborn as sns\n",
    "\n",
    "ax = plt.subplot()\n",
    "plt.rcParams['figure.figsize'] = 5,4  # ขนาด\n",
    "plt.rcParams.update({'font.size':14})  # ความสูงอักษร\n",
    "\n",
    "cm = confusion_matrix(y_test, y_pred) # คำนวณค่า Confusion Matrix\n",
    "# กราฟ heatmap เฉดสีออกโทน ฟ้า แดง\n",
    "sns.heatmap(cm, annot=True, ax=ax, cmap=\"coolwarm\")\n",
    "\n",
    "y_targets = ['unsurvived', 'survived'] # Label กำกับ ถ้าไม่มีกำหนด จะแสดง 0 1\n",
    "\n",
    "ax.set_xlabel('Predicted labels')\n",
    "ax.set_ylabel('Actual (True)');\n",
    "ax.set_title('Confusion Matrix'); # title\n",
    "ax.xaxis.set_ticklabels(y_targets) # label กำกับแกน x\n",
    "ax.yaxis.set_ticklabels(y_targets) # label กำกับแกน y\n",
    "plt.show() \n",
    "\n",
    "#ใช้ scikitplot สร้าง \n",
    "#import scikitplot as skplot\n",
    "#skplot.metrics.plot_confusion_matrix(y_true, y_pred, normalize=False)\n",
    "#plt.show()"
   ]
  },
  {
   "cell_type": "markdown",
   "metadata": {},
   "source": [
    "# ปรับเป็นปัญหา classification"
   ]
  },
  {
   "cell_type": "code",
   "execution_count": 272,
   "metadata": {},
   "outputs": [],
   "source": [
    "from xgboost import XGBClassifier\n",
    "from time import time\n",
    "from sklearn.model_selection import cross_val_score"
   ]
  },
  {
   "cell_type": "code",
   "execution_count": 273,
   "metadata": {},
   "outputs": [
    {
     "name": "stdout",
     "output_type": "stream",
     "text": [
      "0.05200 sec\n",
      "Cross val scores [0.7753 0.8315 0.764  0.8202 0.8989 0.8427 0.8539 0.8315 0.8427 0.8182]\n",
      "mean 82.7886 %\n"
     ]
    }
   ],
   "source": [
    "model_xgb = XGBClassifier()\n",
    "start = time() # เวลาเริ่มต้น train\n",
    "model_xgb.fit(X_train, y_train)\n",
    "finish_xgb = time() -start\n",
    "print('{:.5f} sec'.format(finish_xgb)) # เวลาเสร็จสิ้นการทำงาน\n",
    "cvs = cross_val_score(model_xgb, X, y, cv=10) # k=5\n",
    "cvs_xgb = cvs.mean()*100\n",
    "print('Cross val scores {}'.format(cvs.round(4)))\n",
    "print('mean {:.4f} %'.format(cvs.mean()*100))"
   ]
  },
  {
   "cell_type": "markdown",
   "metadata": {},
   "source": [
    "# การประเมิณ Model"
   ]
  },
  {
   "cell_type": "code",
   "execution_count": 275,
   "metadata": {},
   "outputs": [
    {
     "name": "stdout",
     "output_type": "stream",
     "text": [
      "Total X: 889\n",
      "Total train: 711\n",
      "Total test: 178\n",
      "Score : 0.826\n",
      "Accuracy Score: 0.826\n",
      "              precision    recall  f1-score   support\n",
      "\n",
      "  unsurvived       0.83      0.88      0.86       104\n",
      "    survived       0.82      0.74      0.78        74\n",
      "\n",
      "    accuracy                           0.83       178\n",
      "   macro avg       0.82      0.81      0.82       178\n",
      "weighted avg       0.83      0.83      0.82       178\n",
      "\n",
      "[[92 12]\n",
      " [19 55]]\n"
     ]
    }
   ],
   "source": [
    "from sklearn.model_selection import train_test_split\n",
    "from sklearn.metrics import accuracy_score\n",
    "\n",
    "#ตรวจสอบจำนวนข้อมูลที่ Train, Test และดูข้อมูลที่ใช้ Test (จะเกิดการสุ่ม)\n",
    "print('Total X: {}'.format(len(X)))\n",
    "print('Total train: {}'.format(len(X_train)))\n",
    "print('Total test: {}'.format(len(X_test)))\n",
    "X_test\n",
    "# ทำการ Test\n",
    "y_predict = model_xgb.predict(X_test)\n",
    "y_pred = y_predict # กำหนดให้ yที่ทำนายได้ คือ y_pred\n",
    "y_true = y_test # กำหนดให้ yที่ทดสอบ คือ y_true\n",
    "#แยก ทำ target\n",
    "class_names = ['unsurvived', 'survived']\n",
    "# คำนวณรายงาน และ Confusion Matrix\n",
    "from sklearn.metrics import accuracy_score \n",
    "from sklearn.metrics import classification_report\n",
    "from sklearn.metrics import confusion_matrix\n",
    "\n",
    "\n",
    "print('Score : {:.3f}'.format(model_xgb.score(X_test,y_test)))\n",
    "print('Accuracy Score:',accuracy_score(y_test, y_pred).round(3))\n",
    "# class_names no,yes จากก่อนหน้านี้\n",
    "print(classification_report(y_true, y_pred, target_names=class_names))\n",
    "cm = confusion_matrix(y_test, y_pred)\n",
    "print(cm)"
   ]
  },
  {
   "cell_type": "code",
   "execution_count": 276,
   "metadata": {},
   "outputs": [
    {
     "data": {
      "image/png": "[encoded data removed]",
      "text/plain": [
       "<Figure size 360x288 with 2 Axes>"
      ]
     },
     "metadata": {
      "needs_background": "light"
     },
     "output_type": "display_data"
    }
   ],
   "source": [
    "# ใช้ Seaborn Heat Map\n",
    "import matplotlib.pyplot as plt\n",
    "import seaborn as sns\n",
    "\n",
    "ax = plt.subplot()\n",
    "plt.rcParams['figure.figsize'] = 5,4  # ขนาด\n",
    "plt.rcParams.update({'font.size':14})  # ความสูงอักษร\n",
    "\n",
    "cm = confusion_matrix(y_true, y_pred) # คำนวณค่า Confusion Matrix\n",
    "# กราฟ heatmap เฉดสีออกโทน ฟ้า แดง\n",
    "sns.heatmap(cm, annot=True, ax=ax, cmap=\"coolwarm\")\n",
    "\n",
    "y_targets = ['unsurvived', 'survived'] # Label กำกับ ถ้าไม่มีกำหนด จะแสดง 0 1\n",
    "\n",
    "ax.set_xlabel('Predicted labels')\n",
    "ax.set_ylabel('Actual (True)');\n",
    "ax.set_title('Confusion Matrix'); # title\n",
    "ax.xaxis.set_ticklabels(y_targets) # label กำกับแกน x\n",
    "ax.yaxis.set_ticklabels(y_targets) # label กำกับแกน y\n",
    "plt.show() \n",
    "\n",
    "#ใช้ scikitplot สร้าง \n",
    "#import scikitplot as skplot\n",
    "#skplot.metrics.plot_confusion_matrix(y_true, y_pred, normalize=False)\n",
    "#plt.show()"
   ]
  },
  {
   "cell_type": "code",
   "execution_count": null,
   "metadata": {},
   "outputs": [],
   "source": []
  },
  {
   "cell_type": "code",
   "execution_count": null,
   "metadata": {},
   "outputs": [],
   "source": []
  }
 ],
 "metadata": {
  "kernelspec": {
   "display_name": "Python 3",
   "language": "python",
   "name": "python3"
  },
  "language_info": {
   "codemirror_mode": {
    "name": "ipython",
    "version": 3
   },
   "file_extension": ".py",
   "mimetype": "text/x-python",
   "name": "python",
   "nbconvert_exporter": "python",
   "pygments_lexer": "ipython3",
   "version": "3.7.6"
  }
 },
 "nbformat": 4,
 "nbformat_minor": 4
}
