{
  "nbformat": 4,
  "nbformat_minor": 0,
  "metadata": {
    "colab": {
      "name": "WK02 - RFM Model.ipynb",
      "provenance": [],
      "collapsed_sections": []
    },
    "kernelspec": {
      "name": "python3",
      "display_name": "Python 3"
    }
  },
  "cells": [
    {
      "cell_type": "markdown",
      "metadata": {
        "id": "ym_ylev3wvpP"
      },
      "source": [
        "# RFM\n",
        "- Recency\n",
        "- Frequency\n",
        "- Monetary"
      ]
    },
    {
      "cell_type": "code",
      "metadata": {
        "id": "Xap3XGeNwjXL"
      },
      "source": [
        "import numpy as np\n",
        "import pandas as pd"
      ],
      "execution_count": null,
      "outputs": []
    },
    {
      "cell_type": "code",
      "metadata": {
        "id": "U47OObZexENw"
      },
      "source": [
        "PATH = \"/content/drive/My Drive/Road to DS DA/data/ecommerce_data.csv\"\n",
        "df = pd.read_csv(PATH)"
      ],
      "execution_count": null,
      "outputs": []
    },
    {
      "cell_type": "code",
      "metadata": {
        "id": "8IJlUFphxvvY",
        "outputId": "bac0659b-47d7-4e85-9d3c-d3657661df7f",
        "colab": {
          "base_uri": "https://localhost:8080/",
          "height": 136
        }
      },
      "source": [
        "df[:3]"
      ],
      "execution_count": null,
      "outputs": [
        {
          "output_type": "execute_result",
          "data": {
            "text/html": [
              "<div>\n",
              "<style scoped>\n",
              "    .dataframe tbody tr th:only-of-type {\n",
              "        vertical-align: middle;\n",
              "    }\n",
              "\n",
              "    .dataframe tbody tr th {\n",
              "        vertical-align: top;\n",
              "    }\n",
              "\n",
              "    .dataframe thead th {\n",
              "        text-align: right;\n",
              "    }\n",
              "</style>\n",
              "<table border=\"1\" class=\"dataframe\">\n",
              "  <thead>\n",
              "    <tr style=\"text-align: right;\">\n",
              "      <th></th>\n",
              "      <th>date</th>\n",
              "      <th>product_id</th>\n",
              "      <th>city_id</th>\n",
              "      <th>orders</th>\n",
              "    </tr>\n",
              "  </thead>\n",
              "  <tbody>\n",
              "    <tr>\n",
              "      <th>0</th>\n",
              "      <td>2019-12-16</td>\n",
              "      <td>1897</td>\n",
              "      <td>26</td>\n",
              "      <td>2</td>\n",
              "    </tr>\n",
              "    <tr>\n",
              "      <th>1</th>\n",
              "      <td>2019-12-16</td>\n",
              "      <td>4850</td>\n",
              "      <td>26</td>\n",
              "      <td>4</td>\n",
              "    </tr>\n",
              "    <tr>\n",
              "      <th>2</th>\n",
              "      <td>2019-12-16</td>\n",
              "      <td>2466</td>\n",
              "      <td>26</td>\n",
              "      <td>1</td>\n",
              "    </tr>\n",
              "  </tbody>\n",
              "</table>\n",
              "</div>"
            ],
            "text/plain": [
              "         date  product_id  city_id  orders\n",
              "0  2019-12-16        1897       26       2\n",
              "1  2019-12-16        4850       26       4\n",
              "2  2019-12-16        2466       26       1"
            ]
          },
          "metadata": {
            "tags": []
          },
          "execution_count": 3
        }
      ]
    },
    {
      "cell_type": "code",
      "metadata": {
        "id": "wPnseBZKxwqk",
        "outputId": "18f48914-6f44-41f9-cdcf-8e6203065754",
        "colab": {
          "base_uri": "https://localhost:8080/",
          "height": 34
        }
      },
      "source": [
        "df.shape"
      ],
      "execution_count": null,
      "outputs": [
        {
          "output_type": "execute_result",
          "data": {
            "text/plain": [
              "(523684, 4)"
            ]
          },
          "metadata": {
            "tags": []
          },
          "execution_count": 4
        }
      ]
    },
    {
      "cell_type": "code",
      "metadata": {
        "id": "wUCDUYrUyGXr",
        "outputId": "7f4c15ef-0ea5-4602-c225-72ff7b9d16ae",
        "colab": {
          "base_uri": "https://localhost:8080/",
          "height": 70
        }
      },
      "source": [
        "price_ls = np.random.random_integers(100, 100000, 523684)\n",
        "len(price_ls)"
      ],
      "execution_count": null,
      "outputs": [
        {
          "output_type": "stream",
          "text": [
            "/usr/local/lib/python3.6/dist-packages/ipykernel_launcher.py:1: DeprecationWarning: This function is deprecated. Please call randint(100, 100000 + 1) instead\n",
            "  \"\"\"Entry point for launching an IPython kernel.\n"
          ],
          "name": "stderr"
        },
        {
          "output_type": "execute_result",
          "data": {
            "text/plain": [
              "523684"
            ]
          },
          "metadata": {
            "tags": []
          },
          "execution_count": 5
        }
      ]
    },
    {
      "cell_type": "code",
      "metadata": {
        "id": "MaBcOgCOyAWP"
      },
      "source": [
        "df[\"price\"] = price_ls"
      ],
      "execution_count": null,
      "outputs": []
    },
    {
      "cell_type": "code",
      "metadata": {
        "id": "M-BkrHQIyTeH",
        "outputId": "cebac868-c473-4890-beb7-ce5b02ee9fad",
        "colab": {
          "base_uri": "https://localhost:8080/",
          "height": 136
        }
      },
      "source": [
        "df[:3]"
      ],
      "execution_count": null,
      "outputs": [
        {
          "output_type": "execute_result",
          "data": {
            "text/html": [
              "<div>\n",
              "<style scoped>\n",
              "    .dataframe tbody tr th:only-of-type {\n",
              "        vertical-align: middle;\n",
              "    }\n",
              "\n",
              "    .dataframe tbody tr th {\n",
              "        vertical-align: top;\n",
              "    }\n",
              "\n",
              "    .dataframe thead th {\n",
              "        text-align: right;\n",
              "    }\n",
              "</style>\n",
              "<table border=\"1\" class=\"dataframe\">\n",
              "  <thead>\n",
              "    <tr style=\"text-align: right;\">\n",
              "      <th></th>\n",
              "      <th>date</th>\n",
              "      <th>product_id</th>\n",
              "      <th>city_id</th>\n",
              "      <th>orders</th>\n",
              "      <th>price</th>\n",
              "    </tr>\n",
              "  </thead>\n",
              "  <tbody>\n",
              "    <tr>\n",
              "      <th>0</th>\n",
              "      <td>2019-12-16</td>\n",
              "      <td>1897</td>\n",
              "      <td>26</td>\n",
              "      <td>2</td>\n",
              "      <td>23762</td>\n",
              "    </tr>\n",
              "    <tr>\n",
              "      <th>1</th>\n",
              "      <td>2019-12-16</td>\n",
              "      <td>4850</td>\n",
              "      <td>26</td>\n",
              "      <td>4</td>\n",
              "      <td>43345</td>\n",
              "    </tr>\n",
              "    <tr>\n",
              "      <th>2</th>\n",
              "      <td>2019-12-16</td>\n",
              "      <td>2466</td>\n",
              "      <td>26</td>\n",
              "      <td>1</td>\n",
              "      <td>97725</td>\n",
              "    </tr>\n",
              "  </tbody>\n",
              "</table>\n",
              "</div>"
            ],
            "text/plain": [
              "         date  product_id  city_id  orders  price\n",
              "0  2019-12-16        1897       26       2  23762\n",
              "1  2019-12-16        4850       26       4  43345\n",
              "2  2019-12-16        2466       26       1  97725"
            ]
          },
          "metadata": {
            "tags": []
          },
          "execution_count": 8
        }
      ]
    },
    {
      "cell_type": "code",
      "metadata": {
        "id": "lAVk_K0CyXW7",
        "outputId": "c14dac0f-ce4a-4dd7-cc94-1dc9ca487c23",
        "colab": {
          "base_uri": "https://localhost:8080/",
          "height": 34
        }
      },
      "source": [
        "len(df[\"city_id\"].unique())"
      ],
      "execution_count": null,
      "outputs": [
        {
          "output_type": "execute_result",
          "data": {
            "text/plain": [
              "31"
            ]
          },
          "metadata": {
            "tags": []
          },
          "execution_count": 9
        }
      ]
    },
    {
      "cell_type": "code",
      "metadata": {
        "id": "6vjq1iJPyhpC"
      },
      "source": [
        "df[\"user_id\"] = range(1,523684+1, 1)"
      ],
      "execution_count": null,
      "outputs": []
    },
    {
      "cell_type": "code",
      "metadata": {
        "id": "e3Mwdy5Ny5kw",
        "outputId": "2fe8cdf5-1c00-4e79-8d5d-4b161ad71081",
        "colab": {
          "base_uri": "https://localhost:8080/",
          "height": 136
        }
      },
      "source": [
        "df[:3]"
      ],
      "execution_count": null,
      "outputs": [
        {
          "output_type": "execute_result",
          "data": {
            "text/html": [
              "<div>\n",
              "<style scoped>\n",
              "    .dataframe tbody tr th:only-of-type {\n",
              "        vertical-align: middle;\n",
              "    }\n",
              "\n",
              "    .dataframe tbody tr th {\n",
              "        vertical-align: top;\n",
              "    }\n",
              "\n",
              "    .dataframe thead th {\n",
              "        text-align: right;\n",
              "    }\n",
              "</style>\n",
              "<table border=\"1\" class=\"dataframe\">\n",
              "  <thead>\n",
              "    <tr style=\"text-align: right;\">\n",
              "      <th></th>\n",
              "      <th>date</th>\n",
              "      <th>product_id</th>\n",
              "      <th>city_id</th>\n",
              "      <th>orders</th>\n",
              "      <th>price</th>\n",
              "      <th>user_id</th>\n",
              "    </tr>\n",
              "  </thead>\n",
              "  <tbody>\n",
              "    <tr>\n",
              "      <th>0</th>\n",
              "      <td>2019-12-16</td>\n",
              "      <td>1897</td>\n",
              "      <td>26</td>\n",
              "      <td>2</td>\n",
              "      <td>23762</td>\n",
              "      <td>1</td>\n",
              "    </tr>\n",
              "    <tr>\n",
              "      <th>1</th>\n",
              "      <td>2019-12-16</td>\n",
              "      <td>4850</td>\n",
              "      <td>26</td>\n",
              "      <td>4</td>\n",
              "      <td>43345</td>\n",
              "      <td>2</td>\n",
              "    </tr>\n",
              "    <tr>\n",
              "      <th>2</th>\n",
              "      <td>2019-12-16</td>\n",
              "      <td>2466</td>\n",
              "      <td>26</td>\n",
              "      <td>1</td>\n",
              "      <td>97725</td>\n",
              "      <td>3</td>\n",
              "    </tr>\n",
              "  </tbody>\n",
              "</table>\n",
              "</div>"
            ],
            "text/plain": [
              "         date  product_id  city_id  orders  price  user_id\n",
              "0  2019-12-16        1897       26       2  23762        1\n",
              "1  2019-12-16        4850       26       4  43345        2\n",
              "2  2019-12-16        2466       26       1  97725        3"
            ]
          },
          "metadata": {
            "tags": []
          },
          "execution_count": 11
        }
      ]
    },
    {
      "cell_type": "markdown",
      "metadata": {
        "id": "brZnaTlJy-8j"
      },
      "source": [
        "## Preprocessing\n",
        "- date -> Recency\n",
        "- order -> Frequency\n",
        "- price -> Monetary"
      ]
    },
    {
      "cell_type": "markdown",
      "metadata": {
        "id": "H4SCwxmz0iWy"
      },
      "source": [
        "### Recency"
      ]
    },
    {
      "cell_type": "code",
      "metadata": {
        "id": "nzOUuw4F0ukI"
      },
      "source": [
        "import datetime"
      ],
      "execution_count": null,
      "outputs": []
    },
    {
      "cell_type": "code",
      "metadata": {
        "id": "0ynjDchB0rNo"
      },
      "source": [
        "df['date_now'] = datetime.datetime.now()"
      ],
      "execution_count": null,
      "outputs": []
    },
    {
      "cell_type": "code",
      "metadata": {
        "id": "Jzvvx1T21FZo"
      },
      "source": [
        "df['date'] = pd.to_datetime(df['date'])"
      ],
      "execution_count": null,
      "outputs": []
    },
    {
      "cell_type": "code",
      "metadata": {
        "id": "TsnAyVD500VR",
        "outputId": "e6172e59-285c-463d-a52e-9efb1c7427d7",
        "colab": {
          "base_uri": "https://localhost:8080/",
          "height": 136
        }
      },
      "source": [
        "df[:3]"
      ],
      "execution_count": null,
      "outputs": [
        {
          "output_type": "execute_result",
          "data": {
            "text/html": [
              "<div>\n",
              "<style scoped>\n",
              "    .dataframe tbody tr th:only-of-type {\n",
              "        vertical-align: middle;\n",
              "    }\n",
              "\n",
              "    .dataframe tbody tr th {\n",
              "        vertical-align: top;\n",
              "    }\n",
              "\n",
              "    .dataframe thead th {\n",
              "        text-align: right;\n",
              "    }\n",
              "</style>\n",
              "<table border=\"1\" class=\"dataframe\">\n",
              "  <thead>\n",
              "    <tr style=\"text-align: right;\">\n",
              "      <th></th>\n",
              "      <th>date</th>\n",
              "      <th>product_id</th>\n",
              "      <th>city_id</th>\n",
              "      <th>orders</th>\n",
              "      <th>price</th>\n",
              "      <th>user_id</th>\n",
              "      <th>date_now</th>\n",
              "    </tr>\n",
              "  </thead>\n",
              "  <tbody>\n",
              "    <tr>\n",
              "      <th>0</th>\n",
              "      <td>2019-12-16</td>\n",
              "      <td>1897</td>\n",
              "      <td>26</td>\n",
              "      <td>2</td>\n",
              "      <td>23762</td>\n",
              "      <td>1</td>\n",
              "      <td>2020-10-15 15:14:00.915631</td>\n",
              "    </tr>\n",
              "    <tr>\n",
              "      <th>1</th>\n",
              "      <td>2019-12-16</td>\n",
              "      <td>4850</td>\n",
              "      <td>26</td>\n",
              "      <td>4</td>\n",
              "      <td>43345</td>\n",
              "      <td>2</td>\n",
              "      <td>2020-10-15 15:14:00.915631</td>\n",
              "    </tr>\n",
              "    <tr>\n",
              "      <th>2</th>\n",
              "      <td>2019-12-16</td>\n",
              "      <td>2466</td>\n",
              "      <td>26</td>\n",
              "      <td>1</td>\n",
              "      <td>97725</td>\n",
              "      <td>3</td>\n",
              "      <td>2020-10-15 15:14:00.915631</td>\n",
              "    </tr>\n",
              "  </tbody>\n",
              "</table>\n",
              "</div>"
            ],
            "text/plain": [
              "        date  product_id  city_id  ...  price  user_id                   date_now\n",
              "0 2019-12-16        1897       26  ...  23762        1 2020-10-15 15:14:00.915631\n",
              "1 2019-12-16        4850       26  ...  43345        2 2020-10-15 15:14:00.915631\n",
              "2 2019-12-16        2466       26  ...  97725        3 2020-10-15 15:14:00.915631\n",
              "\n",
              "[3 rows x 7 columns]"
            ]
          },
          "metadata": {
            "tags": []
          },
          "execution_count": 20
        }
      ]
    },
    {
      "cell_type": "code",
      "metadata": {
        "id": "6N1oP3Xry6xd"
      },
      "source": [
        "df['Recency'] = df['date_now'] - df['date']"
      ],
      "execution_count": null,
      "outputs": []
    },
    {
      "cell_type": "code",
      "metadata": {
        "id": "dPC33UW51Cae",
        "outputId": "582f23a9-09f3-496d-f11e-730c78a09578",
        "colab": {
          "base_uri": "https://localhost:8080/",
          "height": 136
        }
      },
      "source": [
        "df[:3]"
      ],
      "execution_count": null,
      "outputs": [
        {
          "output_type": "execute_result",
          "data": {
            "text/html": [
              "<div>\n",
              "<style scoped>\n",
              "    .dataframe tbody tr th:only-of-type {\n",
              "        vertical-align: middle;\n",
              "    }\n",
              "\n",
              "    .dataframe tbody tr th {\n",
              "        vertical-align: top;\n",
              "    }\n",
              "\n",
              "    .dataframe thead th {\n",
              "        text-align: right;\n",
              "    }\n",
              "</style>\n",
              "<table border=\"1\" class=\"dataframe\">\n",
              "  <thead>\n",
              "    <tr style=\"text-align: right;\">\n",
              "      <th></th>\n",
              "      <th>date</th>\n",
              "      <th>product_id</th>\n",
              "      <th>city_id</th>\n",
              "      <th>orders</th>\n",
              "      <th>price</th>\n",
              "      <th>user_id</th>\n",
              "      <th>date_now</th>\n",
              "      <th>Recency</th>\n",
              "    </tr>\n",
              "  </thead>\n",
              "  <tbody>\n",
              "    <tr>\n",
              "      <th>0</th>\n",
              "      <td>2019-12-16</td>\n",
              "      <td>1897</td>\n",
              "      <td>26</td>\n",
              "      <td>2</td>\n",
              "      <td>23762</td>\n",
              "      <td>1</td>\n",
              "      <td>2020-10-15 15:14:00.915631</td>\n",
              "      <td>304 days 15:14:00.915631</td>\n",
              "    </tr>\n",
              "    <tr>\n",
              "      <th>1</th>\n",
              "      <td>2019-12-16</td>\n",
              "      <td>4850</td>\n",
              "      <td>26</td>\n",
              "      <td>4</td>\n",
              "      <td>43345</td>\n",
              "      <td>2</td>\n",
              "      <td>2020-10-15 15:14:00.915631</td>\n",
              "      <td>304 days 15:14:00.915631</td>\n",
              "    </tr>\n",
              "    <tr>\n",
              "      <th>2</th>\n",
              "      <td>2019-12-16</td>\n",
              "      <td>2466</td>\n",
              "      <td>26</td>\n",
              "      <td>1</td>\n",
              "      <td>97725</td>\n",
              "      <td>3</td>\n",
              "      <td>2020-10-15 15:14:00.915631</td>\n",
              "      <td>304 days 15:14:00.915631</td>\n",
              "    </tr>\n",
              "  </tbody>\n",
              "</table>\n",
              "</div>"
            ],
            "text/plain": [
              "        date  product_id  ...                   date_now                  Recency\n",
              "0 2019-12-16        1897  ... 2020-10-15 15:14:00.915631 304 days 15:14:00.915631\n",
              "1 2019-12-16        4850  ... 2020-10-15 15:14:00.915631 304 days 15:14:00.915631\n",
              "2 2019-12-16        2466  ... 2020-10-15 15:14:00.915631 304 days 15:14:00.915631\n",
              "\n",
              "[3 rows x 8 columns]"
            ]
          },
          "metadata": {
            "tags": []
          },
          "execution_count": 28
        }
      ]
    },
    {
      "cell_type": "code",
      "metadata": {
        "id": "DhB9g-Ju1Xnf"
      },
      "source": [
        "df[\"Recency\"] = df[\"Recency\"].astype('timedelta64[h]')"
      ],
      "execution_count": null,
      "outputs": []
    },
    {
      "cell_type": "code",
      "metadata": {
        "id": "goiaHISw1lgo",
        "outputId": "05dedf8e-a98e-4ece-da5c-af4bef6b0f9e",
        "colab": {
          "base_uri": "https://localhost:8080/",
          "height": 136
        }
      },
      "source": [
        "df[:3]"
      ],
      "execution_count": null,
      "outputs": [
        {
          "output_type": "execute_result",
          "data": {
            "text/html": [
              "<div>\n",
              "<style scoped>\n",
              "    .dataframe tbody tr th:only-of-type {\n",
              "        vertical-align: middle;\n",
              "    }\n",
              "\n",
              "    .dataframe tbody tr th {\n",
              "        vertical-align: top;\n",
              "    }\n",
              "\n",
              "    .dataframe thead th {\n",
              "        text-align: right;\n",
              "    }\n",
              "</style>\n",
              "<table border=\"1\" class=\"dataframe\">\n",
              "  <thead>\n",
              "    <tr style=\"text-align: right;\">\n",
              "      <th></th>\n",
              "      <th>date</th>\n",
              "      <th>product_id</th>\n",
              "      <th>city_id</th>\n",
              "      <th>orders</th>\n",
              "      <th>price</th>\n",
              "      <th>user_id</th>\n",
              "      <th>date_now</th>\n",
              "      <th>Recency</th>\n",
              "    </tr>\n",
              "  </thead>\n",
              "  <tbody>\n",
              "    <tr>\n",
              "      <th>0</th>\n",
              "      <td>2019-12-16</td>\n",
              "      <td>1897</td>\n",
              "      <td>26</td>\n",
              "      <td>2</td>\n",
              "      <td>23762</td>\n",
              "      <td>1</td>\n",
              "      <td>2020-10-15 15:14:00.915631</td>\n",
              "      <td>7311.0</td>\n",
              "    </tr>\n",
              "    <tr>\n",
              "      <th>1</th>\n",
              "      <td>2019-12-16</td>\n",
              "      <td>4850</td>\n",
              "      <td>26</td>\n",
              "      <td>4</td>\n",
              "      <td>43345</td>\n",
              "      <td>2</td>\n",
              "      <td>2020-10-15 15:14:00.915631</td>\n",
              "      <td>7311.0</td>\n",
              "    </tr>\n",
              "    <tr>\n",
              "      <th>2</th>\n",
              "      <td>2019-12-16</td>\n",
              "      <td>2466</td>\n",
              "      <td>26</td>\n",
              "      <td>1</td>\n",
              "      <td>97725</td>\n",
              "      <td>3</td>\n",
              "      <td>2020-10-15 15:14:00.915631</td>\n",
              "      <td>7311.0</td>\n",
              "    </tr>\n",
              "  </tbody>\n",
              "</table>\n",
              "</div>"
            ],
            "text/plain": [
              "        date  product_id  city_id  ...  user_id                   date_now  Recency\n",
              "0 2019-12-16        1897       26  ...        1 2020-10-15 15:14:00.915631   7311.0\n",
              "1 2019-12-16        4850       26  ...        2 2020-10-15 15:14:00.915631   7311.0\n",
              "2 2019-12-16        2466       26  ...        3 2020-10-15 15:14:00.915631   7311.0\n",
              "\n",
              "[3 rows x 8 columns]"
            ]
          },
          "metadata": {
            "tags": []
          },
          "execution_count": 30
        }
      ]
    },
    {
      "cell_type": "code",
      "metadata": {
        "id": "zdv_nx611lnG"
      },
      "source": [
        ""
      ],
      "execution_count": null,
      "outputs": []
    },
    {
      "cell_type": "code",
      "metadata": {
        "id": "yr6wJQoC1lsx"
      },
      "source": [
        "from sklearn.preprocessing import MinMaxScaler"
      ],
      "execution_count": null,
      "outputs": []
    },
    {
      "cell_type": "code",
      "metadata": {
        "id": "aPv3n0aA1lwU"
      },
      "source": [
        "norm = MinMaxScaler((1,5))"
      ],
      "execution_count": null,
      "outputs": []
    },
    {
      "cell_type": "code",
      "metadata": {
        "id": "vdo85_g91lqj"
      },
      "source": [
        "df[[\"Frequency\", \"Monetary\", \"Recency\"]] = norm.fit_transform(df[[\"orders\", \"price\", \"Recency\"]])"
      ],
      "execution_count": null,
      "outputs": []
    },
    {
      "cell_type": "code",
      "metadata": {
        "id": "YOUqm8qM1lkz",
        "outputId": "1306ff45-fd89-442c-e24d-2d465fcb1e92",
        "colab": {
          "base_uri": "https://localhost:8080/",
          "height": 136
        }
      },
      "source": [
        "df[:3]"
      ],
      "execution_count": null,
      "outputs": [
        {
          "output_type": "execute_result",
          "data": {
            "text/html": [
              "<div>\n",
              "<style scoped>\n",
              "    .dataframe tbody tr th:only-of-type {\n",
              "        vertical-align: middle;\n",
              "    }\n",
              "\n",
              "    .dataframe tbody tr th {\n",
              "        vertical-align: top;\n",
              "    }\n",
              "\n",
              "    .dataframe thead th {\n",
              "        text-align: right;\n",
              "    }\n",
              "</style>\n",
              "<table border=\"1\" class=\"dataframe\">\n",
              "  <thead>\n",
              "    <tr style=\"text-align: right;\">\n",
              "      <th></th>\n",
              "      <th>date</th>\n",
              "      <th>product_id</th>\n",
              "      <th>city_id</th>\n",
              "      <th>orders</th>\n",
              "      <th>price</th>\n",
              "      <th>user_id</th>\n",
              "      <th>date_now</th>\n",
              "      <th>Recency</th>\n",
              "      <th>Frequency</th>\n",
              "      <th>Monetary</th>\n",
              "    </tr>\n",
              "  </thead>\n",
              "  <tbody>\n",
              "    <tr>\n",
              "      <th>0</th>\n",
              "      <td>2019-12-16</td>\n",
              "      <td>1897</td>\n",
              "      <td>26</td>\n",
              "      <td>2</td>\n",
              "      <td>23762</td>\n",
              "      <td>1</td>\n",
              "      <td>2020-10-15 15:14:00.915631</td>\n",
              "      <td>1.0</td>\n",
              "      <td>1.000032</td>\n",
              "      <td>1.947427</td>\n",
              "    </tr>\n",
              "    <tr>\n",
              "      <th>1</th>\n",
              "      <td>2019-12-16</td>\n",
              "      <td>4850</td>\n",
              "      <td>26</td>\n",
              "      <td>4</td>\n",
              "      <td>43345</td>\n",
              "      <td>2</td>\n",
              "      <td>2020-10-15 15:14:00.915631</td>\n",
              "      <td>1.0</td>\n",
              "      <td>1.000095</td>\n",
              "      <td>2.731532</td>\n",
              "    </tr>\n",
              "    <tr>\n",
              "      <th>2</th>\n",
              "      <td>2019-12-16</td>\n",
              "      <td>2466</td>\n",
              "      <td>26</td>\n",
              "      <td>1</td>\n",
              "      <td>97725</td>\n",
              "      <td>3</td>\n",
              "      <td>2020-10-15 15:14:00.915631</td>\n",
              "      <td>1.0</td>\n",
              "      <td>1.000000</td>\n",
              "      <td>4.908909</td>\n",
              "    </tr>\n",
              "  </tbody>\n",
              "</table>\n",
              "</div>"
            ],
            "text/plain": [
              "        date  product_id  city_id  ...  Recency  Frequency  Monetary\n",
              "0 2019-12-16        1897       26  ...      1.0   1.000032  1.947427\n",
              "1 2019-12-16        4850       26  ...      1.0   1.000095  2.731532\n",
              "2 2019-12-16        2466       26  ...      1.0   1.000000  4.908909\n",
              "\n",
              "[3 rows x 10 columns]"
            ]
          },
          "metadata": {
            "tags": []
          },
          "execution_count": 34
        }
      ]
    },
    {
      "cell_type": "code",
      "metadata": {
        "id": "H_t2SKnz1lek"
      },
      "source": [
        "df[\"Recency\"] = 6 - df[\"Recency\"]"
      ],
      "execution_count": null,
      "outputs": []
    },
    {
      "cell_type": "code",
      "metadata": {
        "id": "5jjF8WW-3VWw"
      },
      "source": [
        ""
      ],
      "execution_count": null,
      "outputs": []
    },
    {
      "cell_type": "code",
      "metadata": {
        "id": "KiZVFlFr3V7q",
        "outputId": "48437cba-0225-46e6-9dfb-05ede8ab979c",
        "colab": {
          "base_uri": "https://localhost:8080/",
          "height": 136
        }
      },
      "source": [
        "df[:3]"
      ],
      "execution_count": null,
      "outputs": [
        {
          "output_type": "execute_result",
          "data": {
            "text/html": [
              "<div>\n",
              "<style scoped>\n",
              "    .dataframe tbody tr th:only-of-type {\n",
              "        vertical-align: middle;\n",
              "    }\n",
              "\n",
              "    .dataframe tbody tr th {\n",
              "        vertical-align: top;\n",
              "    }\n",
              "\n",
              "    .dataframe thead th {\n",
              "        text-align: right;\n",
              "    }\n",
              "</style>\n",
              "<table border=\"1\" class=\"dataframe\">\n",
              "  <thead>\n",
              "    <tr style=\"text-align: right;\">\n",
              "      <th></th>\n",
              "      <th>date</th>\n",
              "      <th>product_id</th>\n",
              "      <th>city_id</th>\n",
              "      <th>orders</th>\n",
              "      <th>price</th>\n",
              "      <th>user_id</th>\n",
              "      <th>date_now</th>\n",
              "      <th>Recency</th>\n",
              "      <th>Frequency</th>\n",
              "      <th>Monetary</th>\n",
              "    </tr>\n",
              "  </thead>\n",
              "  <tbody>\n",
              "    <tr>\n",
              "      <th>0</th>\n",
              "      <td>2019-12-16</td>\n",
              "      <td>1897</td>\n",
              "      <td>26</td>\n",
              "      <td>2</td>\n",
              "      <td>23762</td>\n",
              "      <td>1</td>\n",
              "      <td>2020-10-15 15:14:00.915631</td>\n",
              "      <td>5.0</td>\n",
              "      <td>1.000032</td>\n",
              "      <td>1.947427</td>\n",
              "    </tr>\n",
              "    <tr>\n",
              "      <th>1</th>\n",
              "      <td>2019-12-16</td>\n",
              "      <td>4850</td>\n",
              "      <td>26</td>\n",
              "      <td>4</td>\n",
              "      <td>43345</td>\n",
              "      <td>2</td>\n",
              "      <td>2020-10-15 15:14:00.915631</td>\n",
              "      <td>5.0</td>\n",
              "      <td>1.000095</td>\n",
              "      <td>2.731532</td>\n",
              "    </tr>\n",
              "    <tr>\n",
              "      <th>2</th>\n",
              "      <td>2019-12-16</td>\n",
              "      <td>2466</td>\n",
              "      <td>26</td>\n",
              "      <td>1</td>\n",
              "      <td>97725</td>\n",
              "      <td>3</td>\n",
              "      <td>2020-10-15 15:14:00.915631</td>\n",
              "      <td>5.0</td>\n",
              "      <td>1.000000</td>\n",
              "      <td>4.908909</td>\n",
              "    </tr>\n",
              "  </tbody>\n",
              "</table>\n",
              "</div>"
            ],
            "text/plain": [
              "        date  product_id  city_id  ...  Recency  Frequency  Monetary\n",
              "0 2019-12-16        1897       26  ...      5.0   1.000032  1.947427\n",
              "1 2019-12-16        4850       26  ...      5.0   1.000095  2.731532\n",
              "2 2019-12-16        2466       26  ...      5.0   1.000000  4.908909\n",
              "\n",
              "[3 rows x 10 columns]"
            ]
          },
          "metadata": {
            "tags": []
          },
          "execution_count": 36
        }
      ]
    },
    {
      "cell_type": "markdown",
      "metadata": {
        "id": "3EUtRrXv3j-C"
      },
      "source": [
        "## ทำการรวม 3 Columns เพื่อหา Loyalty Customer"
      ]
    },
    {
      "cell_type": "code",
      "metadata": {
        "id": "51bdWCR83WBo"
      },
      "source": [
        "df[\"loyalty_sc\"] = df[[\"Frequency\", \"Monetary\", \"Recency\"]].mean(axis=1)"
      ],
      "execution_count": null,
      "outputs": []
    },
    {
      "cell_type": "code",
      "metadata": {
        "id": "wg1n0LBm3WGg",
        "outputId": "e7ebadf2-7e80-4987-e0d6-030ea1f4a3b5",
        "colab": {
          "base_uri": "https://localhost:8080/",
          "height": 136
        }
      },
      "source": [
        "df[:3]"
      ],
      "execution_count": null,
      "outputs": [
        {
          "output_type": "execute_result",
          "data": {
            "text/html": [
              "<div>\n",
              "<style scoped>\n",
              "    .dataframe tbody tr th:only-of-type {\n",
              "        vertical-align: middle;\n",
              "    }\n",
              "\n",
              "    .dataframe tbody tr th {\n",
              "        vertical-align: top;\n",
              "    }\n",
              "\n",
              "    .dataframe thead th {\n",
              "        text-align: right;\n",
              "    }\n",
              "</style>\n",
              "<table border=\"1\" class=\"dataframe\">\n",
              "  <thead>\n",
              "    <tr style=\"text-align: right;\">\n",
              "      <th></th>\n",
              "      <th>date</th>\n",
              "      <th>product_id</th>\n",
              "      <th>city_id</th>\n",
              "      <th>orders</th>\n",
              "      <th>price</th>\n",
              "      <th>user_id</th>\n",
              "      <th>date_now</th>\n",
              "      <th>Recency</th>\n",
              "      <th>Frequency</th>\n",
              "      <th>Monetary</th>\n",
              "      <th>loyalty_sc</th>\n",
              "    </tr>\n",
              "  </thead>\n",
              "  <tbody>\n",
              "    <tr>\n",
              "      <th>0</th>\n",
              "      <td>2019-12-16</td>\n",
              "      <td>1897</td>\n",
              "      <td>26</td>\n",
              "      <td>2</td>\n",
              "      <td>23762</td>\n",
              "      <td>1</td>\n",
              "      <td>2020-10-15 15:14:00.915631</td>\n",
              "      <td>5.0</td>\n",
              "      <td>1.000032</td>\n",
              "      <td>1.947427</td>\n",
              "      <td>2.649153</td>\n",
              "    </tr>\n",
              "    <tr>\n",
              "      <th>1</th>\n",
              "      <td>2019-12-16</td>\n",
              "      <td>4850</td>\n",
              "      <td>26</td>\n",
              "      <td>4</td>\n",
              "      <td>43345</td>\n",
              "      <td>2</td>\n",
              "      <td>2020-10-15 15:14:00.915631</td>\n",
              "      <td>5.0</td>\n",
              "      <td>1.000095</td>\n",
              "      <td>2.731532</td>\n",
              "      <td>2.910542</td>\n",
              "    </tr>\n",
              "    <tr>\n",
              "      <th>2</th>\n",
              "      <td>2019-12-16</td>\n",
              "      <td>2466</td>\n",
              "      <td>26</td>\n",
              "      <td>1</td>\n",
              "      <td>97725</td>\n",
              "      <td>3</td>\n",
              "      <td>2020-10-15 15:14:00.915631</td>\n",
              "      <td>5.0</td>\n",
              "      <td>1.000000</td>\n",
              "      <td>4.908909</td>\n",
              "      <td>3.636303</td>\n",
              "    </tr>\n",
              "  </tbody>\n",
              "</table>\n",
              "</div>"
            ],
            "text/plain": [
              "        date  product_id  city_id  ...  Frequency  Monetary  loyalty_sc\n",
              "0 2019-12-16        1897       26  ...   1.000032  1.947427    2.649153\n",
              "1 2019-12-16        4850       26  ...   1.000095  2.731532    2.910542\n",
              "2 2019-12-16        2466       26  ...   1.000000  4.908909    3.636303\n",
              "\n",
              "[3 rows x 11 columns]"
            ]
          },
          "metadata": {
            "tags": []
          },
          "execution_count": 38
        }
      ]
    },
    {
      "cell_type": "code",
      "metadata": {
        "id": "jdp2oK6d3WET",
        "outputId": "66ce5e8b-d959-4759-88f7-c3bb28f6f453",
        "colab": {
          "base_uri": "https://localhost:8080/",
          "height": 343
        }
      },
      "source": [
        "df = df.sort_values(by=\"loyalty_sc\", ascending=False)\n",
        "df[:10]"
      ],
      "execution_count": null,
      "outputs": [
        {
          "output_type": "execute_result",
          "data": {
            "text/html": [
              "<div>\n",
              "<style scoped>\n",
              "    .dataframe tbody tr th:only-of-type {\n",
              "        vertical-align: middle;\n",
              "    }\n",
              "\n",
              "    .dataframe tbody tr th {\n",
              "        vertical-align: top;\n",
              "    }\n",
              "\n",
              "    .dataframe thead th {\n",
              "        text-align: right;\n",
              "    }\n",
              "</style>\n",
              "<table border=\"1\" class=\"dataframe\">\n",
              "  <thead>\n",
              "    <tr style=\"text-align: right;\">\n",
              "      <th></th>\n",
              "      <th>date</th>\n",
              "      <th>product_id</th>\n",
              "      <th>city_id</th>\n",
              "      <th>orders</th>\n",
              "      <th>price</th>\n",
              "      <th>user_id</th>\n",
              "      <th>date_now</th>\n",
              "      <th>Recency</th>\n",
              "      <th>Frequency</th>\n",
              "      <th>Monetary</th>\n",
              "      <th>loyalty_sc</th>\n",
              "    </tr>\n",
              "  </thead>\n",
              "  <tbody>\n",
              "    <tr>\n",
              "      <th>1123</th>\n",
              "      <td>2019-12-16</td>\n",
              "      <td>7541</td>\n",
              "      <td>18</td>\n",
              "      <td>5</td>\n",
              "      <td>99960</td>\n",
              "      <td>1124</td>\n",
              "      <td>2020-10-15 15:14:00.915631</td>\n",
              "      <td>5.000000</td>\n",
              "      <td>1.000126</td>\n",
              "      <td>4.998398</td>\n",
              "      <td>3.666175</td>\n",
              "    </tr>\n",
              "    <tr>\n",
              "      <th>685</th>\n",
              "      <td>2019-12-16</td>\n",
              "      <td>2941</td>\n",
              "      <td>0</td>\n",
              "      <td>3</td>\n",
              "      <td>99936</td>\n",
              "      <td>686</td>\n",
              "      <td>2020-10-15 15:14:00.915631</td>\n",
              "      <td>5.000000</td>\n",
              "      <td>1.000063</td>\n",
              "      <td>4.997437</td>\n",
              "      <td>3.665833</td>\n",
              "    </tr>\n",
              "    <tr>\n",
              "      <th>580</th>\n",
              "      <td>2019-12-16</td>\n",
              "      <td>1622</td>\n",
              "      <td>9</td>\n",
              "      <td>18</td>\n",
              "      <td>99817</td>\n",
              "      <td>581</td>\n",
              "      <td>2020-10-15 15:14:00.915631</td>\n",
              "      <td>5.000000</td>\n",
              "      <td>1.000536</td>\n",
              "      <td>4.992673</td>\n",
              "      <td>3.664403</td>\n",
              "    </tr>\n",
              "    <tr>\n",
              "      <th>3868</th>\n",
              "      <td>2019-12-15</td>\n",
              "      <td>7011</td>\n",
              "      <td>9</td>\n",
              "      <td>49</td>\n",
              "      <td>99969</td>\n",
              "      <td>3869</td>\n",
              "      <td>2020-10-15 15:14:00.915631</td>\n",
              "      <td>4.992366</td>\n",
              "      <td>1.001513</td>\n",
              "      <td>4.998759</td>\n",
              "      <td>3.664213</td>\n",
              "    </tr>\n",
              "    <tr>\n",
              "      <th>5867</th>\n",
              "      <td>2019-12-15</td>\n",
              "      <td>6300</td>\n",
              "      <td>22</td>\n",
              "      <td>5</td>\n",
              "      <td>99995</td>\n",
              "      <td>5868</td>\n",
              "      <td>2020-10-15 15:14:00.915631</td>\n",
              "      <td>4.992366</td>\n",
              "      <td>1.000126</td>\n",
              "      <td>4.999800</td>\n",
              "      <td>3.664097</td>\n",
              "    </tr>\n",
              "    <tr>\n",
              "      <th>2035</th>\n",
              "      <td>2019-12-15</td>\n",
              "      <td>202</td>\n",
              "      <td>2</td>\n",
              "      <td>1</td>\n",
              "      <td>99998</td>\n",
              "      <td>2036</td>\n",
              "      <td>2020-10-15 15:14:00.915631</td>\n",
              "      <td>4.992366</td>\n",
              "      <td>1.000000</td>\n",
              "      <td>4.999920</td>\n",
              "      <td>3.664095</td>\n",
              "    </tr>\n",
              "    <tr>\n",
              "      <th>4267</th>\n",
              "      <td>2019-12-15</td>\n",
              "      <td>2556</td>\n",
              "      <td>0</td>\n",
              "      <td>1</td>\n",
              "      <td>99991</td>\n",
              "      <td>4268</td>\n",
              "      <td>2020-10-15 15:14:00.915631</td>\n",
              "      <td>4.992366</td>\n",
              "      <td>1.000000</td>\n",
              "      <td>4.999640</td>\n",
              "      <td>3.664002</td>\n",
              "    </tr>\n",
              "    <tr>\n",
              "      <th>1296</th>\n",
              "      <td>2019-12-16</td>\n",
              "      <td>4889</td>\n",
              "      <td>17</td>\n",
              "      <td>3</td>\n",
              "      <td>99789</td>\n",
              "      <td>1297</td>\n",
              "      <td>2020-10-15 15:14:00.915631</td>\n",
              "      <td>5.000000</td>\n",
              "      <td>1.000063</td>\n",
              "      <td>4.991552</td>\n",
              "      <td>3.663872</td>\n",
              "    </tr>\n",
              "    <tr>\n",
              "      <th>6458</th>\n",
              "      <td>2019-12-15</td>\n",
              "      <td>6780</td>\n",
              "      <td>24</td>\n",
              "      <td>1</td>\n",
              "      <td>99976</td>\n",
              "      <td>6459</td>\n",
              "      <td>2020-10-15 15:14:00.915631</td>\n",
              "      <td>4.992366</td>\n",
              "      <td>1.000000</td>\n",
              "      <td>4.999039</td>\n",
              "      <td>3.663802</td>\n",
              "    </tr>\n",
              "    <tr>\n",
              "      <th>520</th>\n",
              "      <td>2019-12-16</td>\n",
              "      <td>3499</td>\n",
              "      <td>14</td>\n",
              "      <td>1</td>\n",
              "      <td>99760</td>\n",
              "      <td>521</td>\n",
              "      <td>2020-10-15 15:14:00.915631</td>\n",
              "      <td>5.000000</td>\n",
              "      <td>1.000000</td>\n",
              "      <td>4.990390</td>\n",
              "      <td>3.663463</td>\n",
              "    </tr>\n",
              "  </tbody>\n",
              "</table>\n",
              "</div>"
            ],
            "text/plain": [
              "           date  product_id  city_id  ...  Frequency  Monetary  loyalty_sc\n",
              "1123 2019-12-16        7541       18  ...   1.000126  4.998398    3.666175\n",
              "685  2019-12-16        2941        0  ...   1.000063  4.997437    3.665833\n",
              "580  2019-12-16        1622        9  ...   1.000536  4.992673    3.664403\n",
              "3868 2019-12-15        7011        9  ...   1.001513  4.998759    3.664213\n",
              "5867 2019-12-15        6300       22  ...   1.000126  4.999800    3.664097\n",
              "2035 2019-12-15         202        2  ...   1.000000  4.999920    3.664095\n",
              "4267 2019-12-15        2556        0  ...   1.000000  4.999640    3.664002\n",
              "1296 2019-12-16        4889       17  ...   1.000063  4.991552    3.663872\n",
              "6458 2019-12-15        6780       24  ...   1.000000  4.999039    3.663802\n",
              "520  2019-12-16        3499       14  ...   1.000000  4.990390    3.663463\n",
              "\n",
              "[10 rows x 11 columns]"
            ]
          },
          "metadata": {
            "tags": []
          },
          "execution_count": 39
        }
      ]
    },
    {
      "cell_type": "code",
      "metadata": {
        "id": "wIURsPLg3V-N"
      },
      "source": [
        ""
      ],
      "execution_count": null,
      "outputs": []
    },
    {
      "cell_type": "code",
      "metadata": {
        "id": "RUAxtmP93V5Q"
      },
      "source": [
        ""
      ],
      "execution_count": null,
      "outputs": []
    }
  ]
}