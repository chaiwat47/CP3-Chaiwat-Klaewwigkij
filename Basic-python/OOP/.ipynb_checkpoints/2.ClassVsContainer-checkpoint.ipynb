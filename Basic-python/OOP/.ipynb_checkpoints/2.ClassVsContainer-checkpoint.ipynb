{
 "cells": [
  {
   "cell_type": "markdown",
   "metadata": {},
   "source": [
    "#  เปรียบเทียบการเก็บข้อมูลด้วย tuple, dict และ class instance"
   ]
  },
  {
   "cell_type": "code",
   "execution_count": 14,
   "metadata": {},
   "outputs": [],
   "source": [
    "def demo_tuple():\n",
    "    p12 = \"Joe\", \"Gomez\", 12\n",
    "    print(p12)\n",
    "    print(p12[1])"
   ]
  },
  {
   "cell_type": "code",
   "execution_count": 15,
   "metadata": {},
   "outputs": [],
   "source": [
    "    \n",
    "def demo_dict():\n",
    "    p12 = {\"fname\":\"Joe\", \"laname\":\"Gomez\", \"number\":12}\n",
    "    print(p12[\"lname\"])"
   ]
  },
  {
   "cell_type": "code",
   "execution_count": 16,
   "metadata": {},
   "outputs": [],
   "source": [
    "class Player1: \n",
    "    pass # class ว่าง\n",
    "\n",
    "def demo_simple_player_class():\n",
    "    p12 = Player1() # p12 -> instance\n",
    "    p12.fname = \"Joe\"\n",
    "    p12.lname = \"Gomez\"\n",
    "    p12.number = 12\n",
    "    print(p12.lname)"
   ]
  },
  {
   "cell_type": "code",
   "execution_count": 17,
   "metadata": {},
   "outputs": [
    {
     "name": "stdout",
     "output_type": "stream",
     "text": [
      "Gomez\n"
     ]
    }
   ],
   "source": [
    "#test\n",
    "demo_simple_player_class()"
   ]
  },
  {
   "cell_type": "code",
   "execution_count": 18,
   "metadata": {},
   "outputs": [],
   "source": [
    "# ปกติถ้าสร้าง class เราจะระบุ Astribute ไปเลย\n",
    "class Player2:\n",
    "    def __init__(self):\n",
    "        self.fname = \"\"\n",
    "        self.lname = \"\"\n",
    "        self.number = 0"
   ]
  },
  {
   "cell_type": "code",
   "execution_count": 19,
   "metadata": {},
   "outputs": [],
   "source": [
    "def demo_simple_player2_class():\n",
    "    p12 = Player2\n",
    "    p12.fname = \"Joe\"\n",
    "    p12.lname = \"Gomez\"\n",
    "    p12.number = 12\n",
    "    print(p12.lname)"
   ]
  },
  {
   "cell_type": "code",
   "execution_count": 43,
   "metadata": {},
   "outputs": [],
   "source": [
    "# Player3 ยุบรวม\n",
    "class Player3:\n",
    "    def __init__(self,fname,lname,number):\n",
    "        self.fname = \"\"\n",
    "        self.lname = \"\"\n",
    "        self.number = 0\n",
    "def demo_simple_player3():\n",
    "    p3 = Player3(\"Joe\",\"Gomez\",12)\n",
    "    print(p3.lname)"
   ]
  },
  {
   "cell_type": "code",
   "execution_count": 39,
   "metadata": {},
   "outputs": [],
   "source": []
  },
  {
   "cell_type": "code",
   "execution_count": 44,
   "metadata": {},
   "outputs": [
    {
     "name": "stdout",
     "output_type": "stream",
     "text": [
      "\n"
     ]
    }
   ],
   "source": []
  },
  {
   "cell_type": "code",
   "execution_count": null,
   "metadata": {},
   "outputs": [],
   "source": []
  }
 ],
 "metadata": {
  "kernelspec": {
   "display_name": "Python 3",
   "language": "python",
   "name": "python3"
  },
  "language_info": {
   "codemirror_mode": {
    "name": "ipython",
    "version": 3
   },
   "file_extension": ".py",
   "mimetype": "text/x-python",
   "name": "python",
   "nbconvert_exporter": "python",
   "pygments_lexer": "ipython3",
   "version": "3.7.6"
  }
 },
 "nbformat": 4,
 "nbformat_minor": 4
}
