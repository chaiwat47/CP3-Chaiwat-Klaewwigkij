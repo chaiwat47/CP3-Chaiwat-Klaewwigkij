{
 "cells": [
  {
   "cell_type": "markdown",
   "metadata": {},
   "source": [
    "# การสร้าง simple class"
   ]
  },
  {
   "cell_type": "code",
   "execution_count": 26,
   "metadata": {},
   "outputs": [],
   "source": [
    "class Player0(): # class Player(): or class Player(object)\n",
    "    def __init__(self):\n",
    "        self.firstname = \"\"\n",
    "        self.lastname = \"\"\n",
    "        self.number = \"\""
   ]
  },
  {
   "cell_type": "code",
   "execution_count": 27,
   "metadata": {},
   "outputs": [],
   "source": [
    "if __name__ == '__main__':\n",
    "    p1 = Player0()\n",
    "    p1.firstname = \"Loris\"\n",
    "    p1.lastname = \"Karius\"\n",
    "    p1.number = 1\n",
    "    \n",
    "    p2 = Player0()\n",
    "    p2.firstname = \"Alex\"\n",
    "    p2.lastname = \"Manniger\"\n",
    "    p2.number = 13\n",
    "    "
   ]
  },
  {
   "cell_type": "code",
   "execution_count": 28,
   "metadata": {},
   "outputs": [
    {
     "name": "stdout",
     "output_type": "stream",
     "text": [
      "13\n"
     ]
    }
   ],
   "source": [
    "# Test\n",
    "print(p2.number)"
   ]
  },
  {
   "cell_type": "code",
   "execution_count": 32,
   "metadata": {},
   "outputs": [],
   "source": [
    "# version 2\n",
    "class Player1():\n",
    "    \n",
    "    def __init__(self,fname,lname,numb):\n",
    "        self.fname = fname\n",
    "        self.lname = lname\n",
    "        self.numb = numb\n",
    "        return None"
   ]
  },
  {
   "cell_type": "code",
   "execution_count": 33,
   "metadata": {},
   "outputs": [],
   "source": [
    "if __name__ == '__main__':\n",
    "    p11 = Player1(\"Loris\",\"Karius\",1)\n",
    "    p22 = Player1(\"Alex\",\"Manniger\",13)   "
   ]
  },
  {
   "cell_type": "code",
   "execution_count": 35,
   "metadata": {},
   "outputs": [
    {
     "name": "stdout",
     "output_type": "stream",
     "text": [
      "Alex\n",
      "1\n"
     ]
    }
   ],
   "source": [
    "#Test\n",
    "print(p22.fname)\n",
    "print(p11.numb)"
   ]
  },
  {
   "cell_type": "code",
   "execution_count": 18,
   "metadata": {},
   "outputs": [],
   "source": [
    "# version3\n",
    "class Player1():\n",
    "    \n",
    "    def __init__(self,fname,lname,numb):\n",
    "        self.fname = fname\n",
    "        self.lname = lname\n",
    "        self.numb = numb\n",
    "        return None"
   ]
  },
  {
   "cell_type": "code",
   "execution_count": null,
   "metadata": {},
   "outputs": [],
   "source": [
    "if __name__ == '__main__':\n",
    "    p1t = (\"Loris\",\"Karius\",1) # tuple จะ อ้างแบบ index แต่ถ้าใช้class จะอ้างแบบ astribute\n",
    "    p1d =[\"Loris\",\"Karius\",1] #จะเรียกใช้แค่ที่นั้นๆถ้าใช้ class อยากเรียกเมื่อไหร่ก็ได้"
   ]
  }
 ],
 "metadata": {
  "kernelspec": {
   "display_name": "Python 3",
   "language": "python",
   "name": "python3"
  },
  "language_info": {
   "codemirror_mode": {
    "name": "ipython",
    "version": 3
   },
   "file_extension": ".py",
   "mimetype": "text/x-python",
   "name": "python",
   "nbconvert_exporter": "python",
   "pygments_lexer": "ipython3",
   "version": "3.7.6"
  }
 },
 "nbformat": 4,
 "nbformat_minor": 4
}
